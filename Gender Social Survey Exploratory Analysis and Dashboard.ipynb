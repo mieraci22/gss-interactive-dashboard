{
 "cells": [
  {
   "cell_type": "markdown",
   "metadata": {},
   "source": [
    "# An Interactive Exploration of Gender, Work, and Attitudes in the U.S.\n",
    "## An Exploratory Analysis and Interactive Dashboard Using the 2018 General Social Survey\n",
    "\n",
    "### Introduction. \n",
    "This project analyzes data from the 2018 General Social Survey (GSS) to explore the relationships between gender and key socioeconomic and attitudinal indicators in the United States. The GSS is a comprehensive, nationally representative survey that has tracked the opinions and behaviors of American adults for decades, making it an invaluable resource for social science research.\n",
    "\n",
    "The analysis focuses on several key areas:\n",
    "\n",
    "- **Economic Outcomes:** Comparing income, job prestige, and socioeconomic status between genders.\n",
    "\n",
    "- **Societal Attitudes:** Examining differing views on gender roles in the family and workplace.\n",
    "\n",
    "The primary outcome of this project is an interactive web dashboard that allows users to explore these relationships themselves.\n",
    "\n",
    "**Context: The Gender Pay Gap**  \n",
    "\n",
    "The gender pay gap is a persistent and complex issue. In 2024, women earned about 84 cents for every dollar a man earned, a figure that has changed little in two decades. This gap is wider for Hispanic and Black women. The persistence of this disparity is complex, stemming from factors like historical educational and career segregation, societal gender norms, and discrimination. The pay gap increases in higher-paying, male-dominated professions and is significantly impacted by the \"motherhood penalty,\" where caregiving responsibilities negatively affect women's earnings while fatherhood can boost men's. Even with significant educational gains by women, they remain overrepresented in low-paying occupations and underrepresented in high-paying \"greedy jobs\" that demand long hours. To address the issue, experts suggest organizational and governmental actions, such as banning salary history inquiries and promoting pay transparency, rather than focusing solely on individual negotiation skills.\n",
    "\n",
    "About the Data: The General Social Survey (GSS)\n",
    "This dashboard uses data from the General Social Survey (GSS), a highly influential study that has been monitoring the complexity of American society for five decades. Since 1972, the GSS has used full-probability, personal interviews to collect data from a nationally representative sample of adults in the U.S., making it the single best source for sociological and attitudinal trend data in the country. The survey contains a standard core of demographic, behavioral, and attitudinal questions on topics including social mobility, civil liberties, crime, and psychological well-being, allowing researchers to track societal changes over time. You can read more about it [[here](https://gss.norc.org/us/en/gss/about-the-gss.html)]."
   ]
  },
  {
   "cell_type": "markdown",
   "metadata": {},
   "source": [
    "### 1. Setup and Data Preparation  \n",
    "First, we'll import the necessary libraries for data manipulation (pandas) and visualization (plotly), as well as the tools to build our web app (dash)."
   ]
  },
  {
   "cell_type": "code",
   "execution_count": 1,
   "metadata": {},
   "outputs": [
    {
     "data": {
      "text/html": [
       "        <script type=\"text/javascript\">\n",
       "        window.PlotlyConfig = {MathJaxConfig: 'local'};\n",
       "        if (window.MathJax && window.MathJax.Hub && window.MathJax.Hub.Config) {window.MathJax.Hub.Config({SVG: {font: \"STIX-Web\"}});}\n",
       "        </script>\n",
       "        <script type=\"module\">import \"https://cdn.plot.ly/plotly-3.0.1.min\"</script>\n",
       "        "
      ]
     },
     "metadata": {},
     "output_type": "display_data"
    }
   ],
   "source": [
    "import numpy as np\n",
    "import pandas as pd\n",
    "\n",
    "# Plotly modules/methods/settings\n",
    "import plotly.graph_objects as go\n",
    "import plotly.express as px\n",
    "import plotly.figure_factory as ff\n",
    "from plotly.offline import init_notebook_mode\n",
    "init_notebook_mode(connected=True) # enables display of plotly figures in HTML/PDF notebooks\n",
    "\n",
    "# Dash modules/methods/settings\n",
    "import dash\n",
    "from dash import dcc\n",
    "from dash import html\n",
    "from dash.dependencies import Input, Output\n",
    "external_stylesheets = ['https://codepen.io/chriddyp/pen/bWLwgP.css'] # Controls default visual appearance of the dashboard"
   ]
  },
  {
   "cell_type": "markdown",
   "metadata": {},
   "source": [
    "Next, we load the 2018 GSS data directly from its source and perform some initial cleaning. This involves selecting relevant columns, renaming them for clarity, and correcting data types.\n",
    "\n",
    "For this lab, we will be working with the 2019 General Social Survey one last time."
   ]
  },
  {
   "cell_type": "code",
   "execution_count": 2,
   "metadata": {},
   "outputs": [],
   "source": [
    "%%capture\n",
    "gss = pd.read_csv(\"https://github.com/jkropko/DS-6001/raw/master/localdata/gss2018.csv\",\n",
    "                 encoding='cp1252', na_values=['IAP','IAP,DK,NA,uncodeable', 'NOT SURE',\n",
    "                                               'DK', 'IAP, DK, NA, uncodeable', '.a', \"CAN'T CHOOSE\"],\n",
    "                                               low_memory=False)"
   ]
  },
  {
   "cell_type": "markdown",
   "metadata": {},
   "source": [
    "Here is code that cleans the data and gets it ready to be used for data visualizations:"
   ]
  },
  {
   "cell_type": "code",
   "execution_count": 3,
   "metadata": {},
   "outputs": [],
   "source": [
    "mycols = ['id', 'wtss', 'sex', 'educ', 'region', 'age', 'coninc',\n",
    "          'prestg10', 'mapres10', 'papres10', 'sei10', 'satjob',\n",
    "          'fechld', 'fefam', 'fepol', 'fepresch', 'meovrwrk'] \n",
    "gss_clean = gss[mycols]\n",
    "gss_clean = gss_clean.rename({'wtss':'weight', \n",
    "                              'educ':'education', \n",
    "                              'coninc':'income', \n",
    "                              'prestg10':'job_prestige',\n",
    "                              'mapres10':'mother_job_prestige', \n",
    "                              'papres10':'father_job_prestige', \n",
    "                              'sei10':'socioeconomic_index', \n",
    "                              'fechld':'relationship', \n",
    "                              'fefam':'male_breadwinner', \n",
    "                              'fehire':'hire_women', \n",
    "                              'fejobaff':'preference_hire_women', \n",
    "                              'fepol':'men_bettersuited', \n",
    "                              'fepresch':'child_suffer',\n",
    "                              'meovrwrk':'men_overwork'},axis=1)\n",
    "gss_clean.age = gss_clean.age.replace({'89 or older':'89'})\n",
    "gss_clean.age = gss_clean.age.astype('float')"
   ]
  },
  {
   "cell_type": "code",
   "execution_count": 4,
   "metadata": {},
   "outputs": [
    {
     "data": {
      "application/vnd.microsoft.datawrangler.viewer.v0+json": {
       "columns": [
        {
         "name": "index",
         "rawType": "int64",
         "type": "integer"
        },
        {
         "name": "id",
         "rawType": "int64",
         "type": "integer"
        },
        {
         "name": "weight",
         "rawType": "float64",
         "type": "float"
        },
        {
         "name": "sex",
         "rawType": "object",
         "type": "string"
        },
        {
         "name": "education",
         "rawType": "float64",
         "type": "float"
        },
        {
         "name": "region",
         "rawType": "object",
         "type": "string"
        },
        {
         "name": "age",
         "rawType": "float64",
         "type": "float"
        },
        {
         "name": "income",
         "rawType": "float64",
         "type": "float"
        },
        {
         "name": "job_prestige",
         "rawType": "float64",
         "type": "float"
        },
        {
         "name": "mother_job_prestige",
         "rawType": "float64",
         "type": "float"
        },
        {
         "name": "father_job_prestige",
         "rawType": "float64",
         "type": "float"
        },
        {
         "name": "socioeconomic_index",
         "rawType": "float64",
         "type": "float"
        },
        {
         "name": "satjob",
         "rawType": "object",
         "type": "unknown"
        },
        {
         "name": "relationship",
         "rawType": "object",
         "type": "unknown"
        },
        {
         "name": "male_breadwinner",
         "rawType": "object",
         "type": "unknown"
        },
        {
         "name": "men_bettersuited",
         "rawType": "object",
         "type": "unknown"
        },
        {
         "name": "child_suffer",
         "rawType": "object",
         "type": "unknown"
        },
        {
         "name": "men_overwork",
         "rawType": "object",
         "type": "unknown"
        }
       ],
       "ref": "5bd083bb-ec4d-4b99-96b5-e03789c96bed",
       "rows": [
        [
         "0",
         "1",
         "2.357492774",
         "male",
         "14.0",
         "new england",
         "43.0",
         null,
         "47.0",
         "31.0",
         "45.0",
         "65.3",
         "very satisfied",
         "strongly agree",
         "disagree",
         "agree",
         "strongly disagree",
         "agree"
        ],
        [
         "1",
         "2",
         "0.9429971097",
         "female",
         "10.0",
         "new england",
         "74.0",
         "22782.5",
         "22.0",
         "32.0",
         "39.0",
         "14.8",
         null,
         null,
         null,
         null,
         null,
         null
        ],
        [
         "2",
         "3",
         "0.9429971097",
         "male",
         "16.0",
         "new england",
         "42.0",
         "112160.0",
         "61.0",
         "32.0",
         "72.0",
         "83.4",
         "mod. satisfied",
         "strongly agree",
         "disagree",
         "disagree",
         "disagree",
         "disagree"
        ],
        [
         "3",
         "4",
         "0.9429971097",
         "female",
         "16.0",
         "new england",
         "63.0",
         "158201.8412",
         "59.0",
         null,
         "39.0",
         "69.3",
         "very satisfied",
         "agree",
         "disagree",
         "disagree",
         "disagree",
         "neither agree nor disagree"
        ],
        [
         "4",
         "5",
         "0.9429971097",
         "male",
         "18.0",
         "new england",
         "71.0",
         "158201.8412",
         "53.0",
         "35.0",
         "45.0",
         "68.6",
         null,
         null,
         null,
         null,
         null,
         null
        ]
       ],
       "shape": {
        "columns": 17,
        "rows": 5
       }
      },
      "text/html": [
       "<div>\n",
       "<style scoped>\n",
       "    .dataframe tbody tr th:only-of-type {\n",
       "        vertical-align: middle;\n",
       "    }\n",
       "\n",
       "    .dataframe tbody tr th {\n",
       "        vertical-align: top;\n",
       "    }\n",
       "\n",
       "    .dataframe thead th {\n",
       "        text-align: right;\n",
       "    }\n",
       "</style>\n",
       "<table border=\"1\" class=\"dataframe\">\n",
       "  <thead>\n",
       "    <tr style=\"text-align: right;\">\n",
       "      <th></th>\n",
       "      <th>id</th>\n",
       "      <th>weight</th>\n",
       "      <th>sex</th>\n",
       "      <th>education</th>\n",
       "      <th>region</th>\n",
       "      <th>age</th>\n",
       "      <th>income</th>\n",
       "      <th>job_prestige</th>\n",
       "      <th>mother_job_prestige</th>\n",
       "      <th>father_job_prestige</th>\n",
       "      <th>socioeconomic_index</th>\n",
       "      <th>satjob</th>\n",
       "      <th>relationship</th>\n",
       "      <th>male_breadwinner</th>\n",
       "      <th>men_bettersuited</th>\n",
       "      <th>child_suffer</th>\n",
       "      <th>men_overwork</th>\n",
       "    </tr>\n",
       "  </thead>\n",
       "  <tbody>\n",
       "    <tr>\n",
       "      <th>0</th>\n",
       "      <td>1</td>\n",
       "      <td>2.357493</td>\n",
       "      <td>male</td>\n",
       "      <td>14.0</td>\n",
       "      <td>new england</td>\n",
       "      <td>43.0</td>\n",
       "      <td>NaN</td>\n",
       "      <td>47.0</td>\n",
       "      <td>31.0</td>\n",
       "      <td>45.0</td>\n",
       "      <td>65.3</td>\n",
       "      <td>very satisfied</td>\n",
       "      <td>strongly agree</td>\n",
       "      <td>disagree</td>\n",
       "      <td>agree</td>\n",
       "      <td>strongly disagree</td>\n",
       "      <td>agree</td>\n",
       "    </tr>\n",
       "    <tr>\n",
       "      <th>1</th>\n",
       "      <td>2</td>\n",
       "      <td>0.942997</td>\n",
       "      <td>female</td>\n",
       "      <td>10.0</td>\n",
       "      <td>new england</td>\n",
       "      <td>74.0</td>\n",
       "      <td>22782.5000</td>\n",
       "      <td>22.0</td>\n",
       "      <td>32.0</td>\n",
       "      <td>39.0</td>\n",
       "      <td>14.8</td>\n",
       "      <td>NaN</td>\n",
       "      <td>NaN</td>\n",
       "      <td>NaN</td>\n",
       "      <td>NaN</td>\n",
       "      <td>NaN</td>\n",
       "      <td>NaN</td>\n",
       "    </tr>\n",
       "    <tr>\n",
       "      <th>2</th>\n",
       "      <td>3</td>\n",
       "      <td>0.942997</td>\n",
       "      <td>male</td>\n",
       "      <td>16.0</td>\n",
       "      <td>new england</td>\n",
       "      <td>42.0</td>\n",
       "      <td>112160.0000</td>\n",
       "      <td>61.0</td>\n",
       "      <td>32.0</td>\n",
       "      <td>72.0</td>\n",
       "      <td>83.4</td>\n",
       "      <td>mod. satisfied</td>\n",
       "      <td>strongly agree</td>\n",
       "      <td>disagree</td>\n",
       "      <td>disagree</td>\n",
       "      <td>disagree</td>\n",
       "      <td>disagree</td>\n",
       "    </tr>\n",
       "    <tr>\n",
       "      <th>3</th>\n",
       "      <td>4</td>\n",
       "      <td>0.942997</td>\n",
       "      <td>female</td>\n",
       "      <td>16.0</td>\n",
       "      <td>new england</td>\n",
       "      <td>63.0</td>\n",
       "      <td>158201.8412</td>\n",
       "      <td>59.0</td>\n",
       "      <td>NaN</td>\n",
       "      <td>39.0</td>\n",
       "      <td>69.3</td>\n",
       "      <td>very satisfied</td>\n",
       "      <td>agree</td>\n",
       "      <td>disagree</td>\n",
       "      <td>disagree</td>\n",
       "      <td>disagree</td>\n",
       "      <td>neither agree nor disagree</td>\n",
       "    </tr>\n",
       "    <tr>\n",
       "      <th>4</th>\n",
       "      <td>5</td>\n",
       "      <td>0.942997</td>\n",
       "      <td>male</td>\n",
       "      <td>18.0</td>\n",
       "      <td>new england</td>\n",
       "      <td>71.0</td>\n",
       "      <td>158201.8412</td>\n",
       "      <td>53.0</td>\n",
       "      <td>35.0</td>\n",
       "      <td>45.0</td>\n",
       "      <td>68.6</td>\n",
       "      <td>NaN</td>\n",
       "      <td>NaN</td>\n",
       "      <td>NaN</td>\n",
       "      <td>NaN</td>\n",
       "      <td>NaN</td>\n",
       "      <td>NaN</td>\n",
       "    </tr>\n",
       "  </tbody>\n",
       "</table>\n",
       "</div>"
      ],
      "text/plain": [
       "   id    weight     sex  education       region   age       income  \\\n",
       "0   1  2.357493    male       14.0  new england  43.0          NaN   \n",
       "1   2  0.942997  female       10.0  new england  74.0   22782.5000   \n",
       "2   3  0.942997    male       16.0  new england  42.0  112160.0000   \n",
       "3   4  0.942997  female       16.0  new england  63.0  158201.8412   \n",
       "4   5  0.942997    male       18.0  new england  71.0  158201.8412   \n",
       "\n",
       "   job_prestige  mother_job_prestige  father_job_prestige  \\\n",
       "0          47.0                 31.0                 45.0   \n",
       "1          22.0                 32.0                 39.0   \n",
       "2          61.0                 32.0                 72.0   \n",
       "3          59.0                  NaN                 39.0   \n",
       "4          53.0                 35.0                 45.0   \n",
       "\n",
       "   socioeconomic_index          satjob    relationship male_breadwinner  \\\n",
       "0                 65.3  very satisfied  strongly agree         disagree   \n",
       "1                 14.8             NaN             NaN              NaN   \n",
       "2                 83.4  mod. satisfied  strongly agree         disagree   \n",
       "3                 69.3  very satisfied           agree         disagree   \n",
       "4                 68.6             NaN             NaN              NaN   \n",
       "\n",
       "  men_bettersuited       child_suffer                men_overwork  \n",
       "0            agree  strongly disagree                       agree  \n",
       "1              NaN                NaN                         NaN  \n",
       "2         disagree           disagree                    disagree  \n",
       "3         disagree           disagree  neither agree nor disagree  \n",
       "4              NaN                NaN                         NaN  "
      ]
     },
     "execution_count": 4,
     "metadata": {},
     "output_type": "execute_result"
    }
   ],
   "source": [
    "gss_clean.head()"
   ]
  },
  {
   "cell_type": "markdown",
   "metadata": {},
   "source": [
    "The `gss_clean` dataframe now contains the following features:\n",
    "\n",
    "* `id` - a numeric unique ID for each person who responded to the survey\n",
    "* `weight` - survey sample weights\n",
    "* `sex` - male or female\n",
    "* `education` - years of formal education\n",
    "* `region` - region of the country where the respondent lives\n",
    "* `age` - age\n",
    "* `income` - the respondent's personal annual income\n",
    "* `job_prestige` - the respondent's occupational prestige score, as measured by the GSS using the methodology described above\n",
    "* `mother_job_prestige` - the respondent's mother's occupational prestige score, as measured by the GSS using the methodology described above\n",
    "* `father_job_prestige` -the respondent's father's occupational prestige score, as measured by the GSS using the methodology described above\n",
    "* `socioeconomic_index` - an index measuring the respondent's socioeconomic status\n",
    "* `satjob` - responses to \"On the whole, how satisfied are you with the work you do?\"\n",
    "* `relationship` - agree or disagree with: \"A working mother can establish just as warm and secure a relationship with her children as a mother who does not work.\"\n",
    "* `male_breadwinner` - agree or disagree with: \"It is much better for everyone involved if the man is the achiever outside the home and the woman takes care of the home and family.\"\n",
    "* `men_bettersuited` - agree or disagree with: \"Most men are better suited emotionally for politics than are most women.\"\n",
    "* `child_suffer` - agree or disagree with: \"A preschool child is likely to suffer if his or her mother works.\"\n",
    "* `men_overwork` - agree or disagree with: \"Family life often suffers because men concentrate too much on their work.\""
   ]
  },
  {
   "cell_type": "markdown",
   "metadata": {},
   "source": [
    "### 2. Exploratory Data Analysis & Visualization\n",
    "In this section, we'll create the individual plots that will form the basis of our dashboard. Each visualization is designed to be interactive, allowing for deeper exploration of the data.\n",
    "\n",
    "2.1. Overall Comparison: Key Economic Indicators\n",
    "To start, let's look at a high-level comparison of mean income, socioeconomic status, and education levels between men and women in the survey."
   ]
  },
  {
   "cell_type": "code",
   "execution_count": 5,
   "metadata": {},
   "outputs": [
    {
     "data": {
      "application/vnd.plotly.v1+json": {
       "config": {
        "plotlyServerURL": "https://plot.ly"
       },
       "data": [
        {
         "colorscale": [
          [
           0,
           "#00083e"
          ],
          [
           0.5,
           "#ededee"
          ],
          [
           1,
           "#ffffff"
          ]
         ],
         "hoverinfo": "none",
         "opacity": 0.75,
         "showscale": false,
         "type": "heatmap",
         "z": [
          [
           0,
           0,
           0,
           0
          ],
          [
           0.5,
           0.5,
           0.5,
           0.5
          ],
          [
           1,
           1,
           1,
           1
          ]
         ]
        }
       ],
       "layout": {
        "annotations": [
         {
          "align": "left",
          "font": {
           "color": "#ffffff"
          },
          "showarrow": false,
          "text": "<b>sex</b>",
          "x": -0.45,
          "xanchor": "left",
          "xref": "x",
          "y": 0,
          "yref": "y"
         },
         {
          "align": "left",
          "font": {
           "color": "#ffffff"
          },
          "showarrow": false,
          "text": "<b>Mean Income</b>",
          "x": 0.55,
          "xanchor": "left",
          "xref": "x",
          "y": 0,
          "yref": "y"
         },
         {
          "align": "left",
          "font": {
           "color": "#ffffff"
          },
          "showarrow": false,
          "text": "<b>Mean Socioeconomic Index</b>",
          "x": 1.55,
          "xanchor": "left",
          "xref": "x",
          "y": 0,
          "yref": "y"
         },
         {
          "align": "left",
          "font": {
           "color": "#ffffff"
          },
          "showarrow": false,
          "text": "<b>Mean Years of Education</b>",
          "x": 2.55,
          "xanchor": "left",
          "xref": "x",
          "y": 0,
          "yref": "y"
         },
         {
          "align": "left",
          "font": {
           "color": "#000000"
          },
          "showarrow": false,
          "text": "female",
          "x": -0.45,
          "xanchor": "left",
          "xref": "x",
          "y": 1,
          "yref": "y"
         },
         {
          "align": "left",
          "font": {
           "color": "#000000"
          },
          "showarrow": false,
          "text": "47191.02",
          "x": 0.55,
          "xanchor": "left",
          "xref": "x",
          "y": 1,
          "yref": "y"
         },
         {
          "align": "left",
          "font": {
           "color": "#000000"
          },
          "showarrow": false,
          "text": "46.58",
          "x": 1.55,
          "xanchor": "left",
          "xref": "x",
          "y": 1,
          "yref": "y"
         },
         {
          "align": "left",
          "font": {
           "color": "#000000"
          },
          "showarrow": false,
          "text": "13.76",
          "x": 2.55,
          "xanchor": "left",
          "xref": "x",
          "y": 1,
          "yref": "y"
         },
         {
          "align": "left",
          "font": {
           "color": "#000000"
          },
          "showarrow": false,
          "text": "male",
          "x": -0.45,
          "xanchor": "left",
          "xref": "x",
          "y": 2,
          "yref": "y"
         },
         {
          "align": "left",
          "font": {
           "color": "#000000"
          },
          "showarrow": false,
          "text": "53314.63",
          "x": 0.55,
          "xanchor": "left",
          "xref": "x",
          "y": 2,
          "yref": "y"
         },
         {
          "align": "left",
          "font": {
           "color": "#000000"
          },
          "showarrow": false,
          "text": "47.38",
          "x": 1.55,
          "xanchor": "left",
          "xref": "x",
          "y": 2,
          "yref": "y"
         },
         {
          "align": "left",
          "font": {
           "color": "#000000"
          },
          "showarrow": false,
          "text": "13.69",
          "x": 2.55,
          "xanchor": "left",
          "xref": "x",
          "y": 2,
          "yref": "y"
         }
        ],
        "height": 140,
        "margin": {
         "b": 0,
         "l": 0,
         "r": 0,
         "t": 0
        },
        "template": {
         "data": {
          "bar": [
           {
            "error_x": {
             "color": "#2a3f5f"
            },
            "error_y": {
             "color": "#2a3f5f"
            },
            "marker": {
             "line": {
              "color": "#E5ECF6",
              "width": 0.5
             },
             "pattern": {
              "fillmode": "overlay",
              "size": 10,
              "solidity": 0.2
             }
            },
            "type": "bar"
           }
          ],
          "barpolar": [
           {
            "marker": {
             "line": {
              "color": "#E5ECF6",
              "width": 0.5
             },
             "pattern": {
              "fillmode": "overlay",
              "size": 10,
              "solidity": 0.2
             }
            },
            "type": "barpolar"
           }
          ],
          "carpet": [
           {
            "aaxis": {
             "endlinecolor": "#2a3f5f",
             "gridcolor": "white",
             "linecolor": "white",
             "minorgridcolor": "white",
             "startlinecolor": "#2a3f5f"
            },
            "baxis": {
             "endlinecolor": "#2a3f5f",
             "gridcolor": "white",
             "linecolor": "white",
             "minorgridcolor": "white",
             "startlinecolor": "#2a3f5f"
            },
            "type": "carpet"
           }
          ],
          "choropleth": [
           {
            "colorbar": {
             "outlinewidth": 0,
             "ticks": ""
            },
            "type": "choropleth"
           }
          ],
          "contour": [
           {
            "colorbar": {
             "outlinewidth": 0,
             "ticks": ""
            },
            "colorscale": [
             [
              0,
              "#0d0887"
             ],
             [
              0.1111111111111111,
              "#46039f"
             ],
             [
              0.2222222222222222,
              "#7201a8"
             ],
             [
              0.3333333333333333,
              "#9c179e"
             ],
             [
              0.4444444444444444,
              "#bd3786"
             ],
             [
              0.5555555555555556,
              "#d8576b"
             ],
             [
              0.6666666666666666,
              "#ed7953"
             ],
             [
              0.7777777777777778,
              "#fb9f3a"
             ],
             [
              0.8888888888888888,
              "#fdca26"
             ],
             [
              1,
              "#f0f921"
             ]
            ],
            "type": "contour"
           }
          ],
          "contourcarpet": [
           {
            "colorbar": {
             "outlinewidth": 0,
             "ticks": ""
            },
            "type": "contourcarpet"
           }
          ],
          "heatmap": [
           {
            "colorbar": {
             "outlinewidth": 0,
             "ticks": ""
            },
            "colorscale": [
             [
              0,
              "#0d0887"
             ],
             [
              0.1111111111111111,
              "#46039f"
             ],
             [
              0.2222222222222222,
              "#7201a8"
             ],
             [
              0.3333333333333333,
              "#9c179e"
             ],
             [
              0.4444444444444444,
              "#bd3786"
             ],
             [
              0.5555555555555556,
              "#d8576b"
             ],
             [
              0.6666666666666666,
              "#ed7953"
             ],
             [
              0.7777777777777778,
              "#fb9f3a"
             ],
             [
              0.8888888888888888,
              "#fdca26"
             ],
             [
              1,
              "#f0f921"
             ]
            ],
            "type": "heatmap"
           }
          ],
          "histogram": [
           {
            "marker": {
             "pattern": {
              "fillmode": "overlay",
              "size": 10,
              "solidity": 0.2
             }
            },
            "type": "histogram"
           }
          ],
          "histogram2d": [
           {
            "colorbar": {
             "outlinewidth": 0,
             "ticks": ""
            },
            "colorscale": [
             [
              0,
              "#0d0887"
             ],
             [
              0.1111111111111111,
              "#46039f"
             ],
             [
              0.2222222222222222,
              "#7201a8"
             ],
             [
              0.3333333333333333,
              "#9c179e"
             ],
             [
              0.4444444444444444,
              "#bd3786"
             ],
             [
              0.5555555555555556,
              "#d8576b"
             ],
             [
              0.6666666666666666,
              "#ed7953"
             ],
             [
              0.7777777777777778,
              "#fb9f3a"
             ],
             [
              0.8888888888888888,
              "#fdca26"
             ],
             [
              1,
              "#f0f921"
             ]
            ],
            "type": "histogram2d"
           }
          ],
          "histogram2dcontour": [
           {
            "colorbar": {
             "outlinewidth": 0,
             "ticks": ""
            },
            "colorscale": [
             [
              0,
              "#0d0887"
             ],
             [
              0.1111111111111111,
              "#46039f"
             ],
             [
              0.2222222222222222,
              "#7201a8"
             ],
             [
              0.3333333333333333,
              "#9c179e"
             ],
             [
              0.4444444444444444,
              "#bd3786"
             ],
             [
              0.5555555555555556,
              "#d8576b"
             ],
             [
              0.6666666666666666,
              "#ed7953"
             ],
             [
              0.7777777777777778,
              "#fb9f3a"
             ],
             [
              0.8888888888888888,
              "#fdca26"
             ],
             [
              1,
              "#f0f921"
             ]
            ],
            "type": "histogram2dcontour"
           }
          ],
          "mesh3d": [
           {
            "colorbar": {
             "outlinewidth": 0,
             "ticks": ""
            },
            "type": "mesh3d"
           }
          ],
          "parcoords": [
           {
            "line": {
             "colorbar": {
              "outlinewidth": 0,
              "ticks": ""
             }
            },
            "type": "parcoords"
           }
          ],
          "pie": [
           {
            "automargin": true,
            "type": "pie"
           }
          ],
          "scatter": [
           {
            "fillpattern": {
             "fillmode": "overlay",
             "size": 10,
             "solidity": 0.2
            },
            "type": "scatter"
           }
          ],
          "scatter3d": [
           {
            "line": {
             "colorbar": {
              "outlinewidth": 0,
              "ticks": ""
             }
            },
            "marker": {
             "colorbar": {
              "outlinewidth": 0,
              "ticks": ""
             }
            },
            "type": "scatter3d"
           }
          ],
          "scattercarpet": [
           {
            "marker": {
             "colorbar": {
              "outlinewidth": 0,
              "ticks": ""
             }
            },
            "type": "scattercarpet"
           }
          ],
          "scattergeo": [
           {
            "marker": {
             "colorbar": {
              "outlinewidth": 0,
              "ticks": ""
             }
            },
            "type": "scattergeo"
           }
          ],
          "scattergl": [
           {
            "marker": {
             "colorbar": {
              "outlinewidth": 0,
              "ticks": ""
             }
            },
            "type": "scattergl"
           }
          ],
          "scattermap": [
           {
            "marker": {
             "colorbar": {
              "outlinewidth": 0,
              "ticks": ""
             }
            },
            "type": "scattermap"
           }
          ],
          "scattermapbox": [
           {
            "marker": {
             "colorbar": {
              "outlinewidth": 0,
              "ticks": ""
             }
            },
            "type": "scattermapbox"
           }
          ],
          "scatterpolar": [
           {
            "marker": {
             "colorbar": {
              "outlinewidth": 0,
              "ticks": ""
             }
            },
            "type": "scatterpolar"
           }
          ],
          "scatterpolargl": [
           {
            "marker": {
             "colorbar": {
              "outlinewidth": 0,
              "ticks": ""
             }
            },
            "type": "scatterpolargl"
           }
          ],
          "scatterternary": [
           {
            "marker": {
             "colorbar": {
              "outlinewidth": 0,
              "ticks": ""
             }
            },
            "type": "scatterternary"
           }
          ],
          "surface": [
           {
            "colorbar": {
             "outlinewidth": 0,
             "ticks": ""
            },
            "colorscale": [
             [
              0,
              "#0d0887"
             ],
             [
              0.1111111111111111,
              "#46039f"
             ],
             [
              0.2222222222222222,
              "#7201a8"
             ],
             [
              0.3333333333333333,
              "#9c179e"
             ],
             [
              0.4444444444444444,
              "#bd3786"
             ],
             [
              0.5555555555555556,
              "#d8576b"
             ],
             [
              0.6666666666666666,
              "#ed7953"
             ],
             [
              0.7777777777777778,
              "#fb9f3a"
             ],
             [
              0.8888888888888888,
              "#fdca26"
             ],
             [
              1,
              "#f0f921"
             ]
            ],
            "type": "surface"
           }
          ],
          "table": [
           {
            "cells": {
             "fill": {
              "color": "#EBF0F8"
             },
             "line": {
              "color": "white"
             }
            },
            "header": {
             "fill": {
              "color": "#C8D4E3"
             },
             "line": {
              "color": "white"
             }
            },
            "type": "table"
           }
          ]
         },
         "layout": {
          "annotationdefaults": {
           "arrowcolor": "#2a3f5f",
           "arrowhead": 0,
           "arrowwidth": 1
          },
          "autotypenumbers": "strict",
          "coloraxis": {
           "colorbar": {
            "outlinewidth": 0,
            "ticks": ""
           }
          },
          "colorscale": {
           "diverging": [
            [
             0,
             "#8e0152"
            ],
            [
             0.1,
             "#c51b7d"
            ],
            [
             0.2,
             "#de77ae"
            ],
            [
             0.3,
             "#f1b6da"
            ],
            [
             0.4,
             "#fde0ef"
            ],
            [
             0.5,
             "#f7f7f7"
            ],
            [
             0.6,
             "#e6f5d0"
            ],
            [
             0.7,
             "#b8e186"
            ],
            [
             0.8,
             "#7fbc41"
            ],
            [
             0.9,
             "#4d9221"
            ],
            [
             1,
             "#276419"
            ]
           ],
           "sequential": [
            [
             0,
             "#0d0887"
            ],
            [
             0.1111111111111111,
             "#46039f"
            ],
            [
             0.2222222222222222,
             "#7201a8"
            ],
            [
             0.3333333333333333,
             "#9c179e"
            ],
            [
             0.4444444444444444,
             "#bd3786"
            ],
            [
             0.5555555555555556,
             "#d8576b"
            ],
            [
             0.6666666666666666,
             "#ed7953"
            ],
            [
             0.7777777777777778,
             "#fb9f3a"
            ],
            [
             0.8888888888888888,
             "#fdca26"
            ],
            [
             1,
             "#f0f921"
            ]
           ],
           "sequentialminus": [
            [
             0,
             "#0d0887"
            ],
            [
             0.1111111111111111,
             "#46039f"
            ],
            [
             0.2222222222222222,
             "#7201a8"
            ],
            [
             0.3333333333333333,
             "#9c179e"
            ],
            [
             0.4444444444444444,
             "#bd3786"
            ],
            [
             0.5555555555555556,
             "#d8576b"
            ],
            [
             0.6666666666666666,
             "#ed7953"
            ],
            [
             0.7777777777777778,
             "#fb9f3a"
            ],
            [
             0.8888888888888888,
             "#fdca26"
            ],
            [
             1,
             "#f0f921"
            ]
           ]
          },
          "colorway": [
           "#636efa",
           "#EF553B",
           "#00cc96",
           "#ab63fa",
           "#FFA15A",
           "#19d3f3",
           "#FF6692",
           "#B6E880",
           "#FF97FF",
           "#FECB52"
          ],
          "font": {
           "color": "#2a3f5f"
          },
          "geo": {
           "bgcolor": "white",
           "lakecolor": "white",
           "landcolor": "#E5ECF6",
           "showlakes": true,
           "showland": true,
           "subunitcolor": "white"
          },
          "hoverlabel": {
           "align": "left"
          },
          "hovermode": "closest",
          "mapbox": {
           "style": "light"
          },
          "paper_bgcolor": "white",
          "plot_bgcolor": "#E5ECF6",
          "polar": {
           "angularaxis": {
            "gridcolor": "white",
            "linecolor": "white",
            "ticks": ""
           },
           "bgcolor": "#E5ECF6",
           "radialaxis": {
            "gridcolor": "white",
            "linecolor": "white",
            "ticks": ""
           }
          },
          "scene": {
           "xaxis": {
            "backgroundcolor": "#E5ECF6",
            "gridcolor": "white",
            "gridwidth": 2,
            "linecolor": "white",
            "showbackground": true,
            "ticks": "",
            "zerolinecolor": "white"
           },
           "yaxis": {
            "backgroundcolor": "#E5ECF6",
            "gridcolor": "white",
            "gridwidth": 2,
            "linecolor": "white",
            "showbackground": true,
            "ticks": "",
            "zerolinecolor": "white"
           },
           "zaxis": {
            "backgroundcolor": "#E5ECF6",
            "gridcolor": "white",
            "gridwidth": 2,
            "linecolor": "white",
            "showbackground": true,
            "ticks": "",
            "zerolinecolor": "white"
           }
          },
          "shapedefaults": {
           "line": {
            "color": "#2a3f5f"
           }
          },
          "ternary": {
           "aaxis": {
            "gridcolor": "white",
            "linecolor": "white",
            "ticks": ""
           },
           "baxis": {
            "gridcolor": "white",
            "linecolor": "white",
            "ticks": ""
           },
           "bgcolor": "#E5ECF6",
           "caxis": {
            "gridcolor": "white",
            "linecolor": "white",
            "ticks": ""
           }
          },
          "title": {
           "x": 0.05
          },
          "xaxis": {
           "automargin": true,
           "gridcolor": "white",
           "linecolor": "white",
           "ticks": "",
           "title": {
            "standoff": 15
           },
           "zerolinecolor": "white",
           "zerolinewidth": 2
          },
          "yaxis": {
           "automargin": true,
           "gridcolor": "white",
           "linecolor": "white",
           "ticks": "",
           "title": {
            "standoff": 15
           },
           "zerolinecolor": "white",
           "zerolinewidth": 2
          }
         }
        },
        "xaxis": {
         "dtick": 1,
         "gridwidth": 2,
         "showticklabels": false,
         "tick0": -0.5,
         "ticks": "",
         "zeroline": false
        },
        "yaxis": {
         "autorange": "reversed",
         "dtick": 1,
         "gridwidth": 2,
         "showticklabels": false,
         "tick0": 0.5,
         "ticks": "",
         "zeroline": false
        }
       }
      },
      "text/html": [
       "<div>            <script src=\"https://cdnjs.cloudflare.com/ajax/libs/mathjax/2.7.5/MathJax.js?config=TeX-AMS-MML_SVG\"></script><script type=\"text/javascript\">if (window.MathJax && window.MathJax.Hub && window.MathJax.Hub.Config) {window.MathJax.Hub.Config({SVG: {font: \"STIX-Web\"}});}</script>                <script type=\"text/javascript\">window.PlotlyConfig = {MathJaxConfig: 'local'};</script>\n",
       "        <script charset=\"utf-8\" src=\"https://cdn.plot.ly/plotly-3.0.1.min.js\"></script>                <div id=\"4d5fdaff-fb01-436c-8fff-1c5549b60125\" class=\"plotly-graph-div\" style=\"height:140px; width:100%;\"></div>            <script type=\"text/javascript\">                window.PLOTLYENV=window.PLOTLYENV || {};                                if (document.getElementById(\"4d5fdaff-fb01-436c-8fff-1c5549b60125\")) {                    Plotly.newPlot(                        \"4d5fdaff-fb01-436c-8fff-1c5549b60125\",                        [{\"colorscale\":[[0,\"#00083e\"],[0.5,\"#ededee\"],[1,\"#ffffff\"]],\"hoverinfo\":\"none\",\"opacity\":0.75,\"showscale\":false,\"z\":[[0,0,0,0],[0.5,0.5,0.5,0.5],[1,1,1,1]],\"type\":\"heatmap\"}],                        {\"annotations\":[{\"align\":\"left\",\"font\":{\"color\":\"#ffffff\"},\"showarrow\":false,\"text\":\"\\u003cb\\u003esex\\u003c\\u002fb\\u003e\",\"x\":-0.45,\"xanchor\":\"left\",\"xref\":\"x\",\"y\":0,\"yref\":\"y\"},{\"align\":\"left\",\"font\":{\"color\":\"#ffffff\"},\"showarrow\":false,\"text\":\"\\u003cb\\u003eMean Income\\u003c\\u002fb\\u003e\",\"x\":0.55,\"xanchor\":\"left\",\"xref\":\"x\",\"y\":0,\"yref\":\"y\"},{\"align\":\"left\",\"font\":{\"color\":\"#ffffff\"},\"showarrow\":false,\"text\":\"\\u003cb\\u003eMean Socioeconomic Index\\u003c\\u002fb\\u003e\",\"x\":1.55,\"xanchor\":\"left\",\"xref\":\"x\",\"y\":0,\"yref\":\"y\"},{\"align\":\"left\",\"font\":{\"color\":\"#ffffff\"},\"showarrow\":false,\"text\":\"\\u003cb\\u003eMean Years of Education\\u003c\\u002fb\\u003e\",\"x\":2.55,\"xanchor\":\"left\",\"xref\":\"x\",\"y\":0,\"yref\":\"y\"},{\"align\":\"left\",\"font\":{\"color\":\"#000000\"},\"showarrow\":false,\"text\":\"female\",\"x\":-0.45,\"xanchor\":\"left\",\"xref\":\"x\",\"y\":1,\"yref\":\"y\"},{\"align\":\"left\",\"font\":{\"color\":\"#000000\"},\"showarrow\":false,\"text\":\"47191.02\",\"x\":0.55,\"xanchor\":\"left\",\"xref\":\"x\",\"y\":1,\"yref\":\"y\"},{\"align\":\"left\",\"font\":{\"color\":\"#000000\"},\"showarrow\":false,\"text\":\"46.58\",\"x\":1.55,\"xanchor\":\"left\",\"xref\":\"x\",\"y\":1,\"yref\":\"y\"},{\"align\":\"left\",\"font\":{\"color\":\"#000000\"},\"showarrow\":false,\"text\":\"13.76\",\"x\":2.55,\"xanchor\":\"left\",\"xref\":\"x\",\"y\":1,\"yref\":\"y\"},{\"align\":\"left\",\"font\":{\"color\":\"#000000\"},\"showarrow\":false,\"text\":\"male\",\"x\":-0.45,\"xanchor\":\"left\",\"xref\":\"x\",\"y\":2,\"yref\":\"y\"},{\"align\":\"left\",\"font\":{\"color\":\"#000000\"},\"showarrow\":false,\"text\":\"53314.63\",\"x\":0.55,\"xanchor\":\"left\",\"xref\":\"x\",\"y\":2,\"yref\":\"y\"},{\"align\":\"left\",\"font\":{\"color\":\"#000000\"},\"showarrow\":false,\"text\":\"47.38\",\"x\":1.55,\"xanchor\":\"left\",\"xref\":\"x\",\"y\":2,\"yref\":\"y\"},{\"align\":\"left\",\"font\":{\"color\":\"#000000\"},\"showarrow\":false,\"text\":\"13.69\",\"x\":2.55,\"xanchor\":\"left\",\"xref\":\"x\",\"y\":2,\"yref\":\"y\"}],\"height\":140,\"margin\":{\"b\":0,\"l\":0,\"r\":0,\"t\":0},\"xaxis\":{\"dtick\":1,\"gridwidth\":2,\"showticklabels\":false,\"tick0\":-0.5,\"ticks\":\"\",\"zeroline\":false},\"yaxis\":{\"autorange\":\"reversed\",\"dtick\":1,\"gridwidth\":2,\"showticklabels\":false,\"tick0\":0.5,\"ticks\":\"\",\"zeroline\":false},\"template\":{\"data\":{\"histogram2dcontour\":[{\"type\":\"histogram2dcontour\",\"colorbar\":{\"outlinewidth\":0,\"ticks\":\"\"},\"colorscale\":[[0.0,\"#0d0887\"],[0.1111111111111111,\"#46039f\"],[0.2222222222222222,\"#7201a8\"],[0.3333333333333333,\"#9c179e\"],[0.4444444444444444,\"#bd3786\"],[0.5555555555555556,\"#d8576b\"],[0.6666666666666666,\"#ed7953\"],[0.7777777777777778,\"#fb9f3a\"],[0.8888888888888888,\"#fdca26\"],[1.0,\"#f0f921\"]]}],\"choropleth\":[{\"type\":\"choropleth\",\"colorbar\":{\"outlinewidth\":0,\"ticks\":\"\"}}],\"histogram2d\":[{\"type\":\"histogram2d\",\"colorbar\":{\"outlinewidth\":0,\"ticks\":\"\"},\"colorscale\":[[0.0,\"#0d0887\"],[0.1111111111111111,\"#46039f\"],[0.2222222222222222,\"#7201a8\"],[0.3333333333333333,\"#9c179e\"],[0.4444444444444444,\"#bd3786\"],[0.5555555555555556,\"#d8576b\"],[0.6666666666666666,\"#ed7953\"],[0.7777777777777778,\"#fb9f3a\"],[0.8888888888888888,\"#fdca26\"],[1.0,\"#f0f921\"]]}],\"heatmap\":[{\"type\":\"heatmap\",\"colorbar\":{\"outlinewidth\":0,\"ticks\":\"\"},\"colorscale\":[[0.0,\"#0d0887\"],[0.1111111111111111,\"#46039f\"],[0.2222222222222222,\"#7201a8\"],[0.3333333333333333,\"#9c179e\"],[0.4444444444444444,\"#bd3786\"],[0.5555555555555556,\"#d8576b\"],[0.6666666666666666,\"#ed7953\"],[0.7777777777777778,\"#fb9f3a\"],[0.8888888888888888,\"#fdca26\"],[1.0,\"#f0f921\"]]}],\"contourcarpet\":[{\"type\":\"contourcarpet\",\"colorbar\":{\"outlinewidth\":0,\"ticks\":\"\"}}],\"contour\":[{\"type\":\"contour\",\"colorbar\":{\"outlinewidth\":0,\"ticks\":\"\"},\"colorscale\":[[0.0,\"#0d0887\"],[0.1111111111111111,\"#46039f\"],[0.2222222222222222,\"#7201a8\"],[0.3333333333333333,\"#9c179e\"],[0.4444444444444444,\"#bd3786\"],[0.5555555555555556,\"#d8576b\"],[0.6666666666666666,\"#ed7953\"],[0.7777777777777778,\"#fb9f3a\"],[0.8888888888888888,\"#fdca26\"],[1.0,\"#f0f921\"]]}],\"surface\":[{\"type\":\"surface\",\"colorbar\":{\"outlinewidth\":0,\"ticks\":\"\"},\"colorscale\":[[0.0,\"#0d0887\"],[0.1111111111111111,\"#46039f\"],[0.2222222222222222,\"#7201a8\"],[0.3333333333333333,\"#9c179e\"],[0.4444444444444444,\"#bd3786\"],[0.5555555555555556,\"#d8576b\"],[0.6666666666666666,\"#ed7953\"],[0.7777777777777778,\"#fb9f3a\"],[0.8888888888888888,\"#fdca26\"],[1.0,\"#f0f921\"]]}],\"mesh3d\":[{\"type\":\"mesh3d\",\"colorbar\":{\"outlinewidth\":0,\"ticks\":\"\"}}],\"scatter\":[{\"fillpattern\":{\"fillmode\":\"overlay\",\"size\":10,\"solidity\":0.2},\"type\":\"scatter\"}],\"parcoords\":[{\"type\":\"parcoords\",\"line\":{\"colorbar\":{\"outlinewidth\":0,\"ticks\":\"\"}}}],\"scatterpolargl\":[{\"type\":\"scatterpolargl\",\"marker\":{\"colorbar\":{\"outlinewidth\":0,\"ticks\":\"\"}}}],\"bar\":[{\"error_x\":{\"color\":\"#2a3f5f\"},\"error_y\":{\"color\":\"#2a3f5f\"},\"marker\":{\"line\":{\"color\":\"#E5ECF6\",\"width\":0.5},\"pattern\":{\"fillmode\":\"overlay\",\"size\":10,\"solidity\":0.2}},\"type\":\"bar\"}],\"scattergeo\":[{\"type\":\"scattergeo\",\"marker\":{\"colorbar\":{\"outlinewidth\":0,\"ticks\":\"\"}}}],\"scatterpolar\":[{\"type\":\"scatterpolar\",\"marker\":{\"colorbar\":{\"outlinewidth\":0,\"ticks\":\"\"}}}],\"histogram\":[{\"marker\":{\"pattern\":{\"fillmode\":\"overlay\",\"size\":10,\"solidity\":0.2}},\"type\":\"histogram\"}],\"scattergl\":[{\"type\":\"scattergl\",\"marker\":{\"colorbar\":{\"outlinewidth\":0,\"ticks\":\"\"}}}],\"scatter3d\":[{\"type\":\"scatter3d\",\"line\":{\"colorbar\":{\"outlinewidth\":0,\"ticks\":\"\"}},\"marker\":{\"colorbar\":{\"outlinewidth\":0,\"ticks\":\"\"}}}],\"scattermap\":[{\"type\":\"scattermap\",\"marker\":{\"colorbar\":{\"outlinewidth\":0,\"ticks\":\"\"}}}],\"scattermapbox\":[{\"type\":\"scattermapbox\",\"marker\":{\"colorbar\":{\"outlinewidth\":0,\"ticks\":\"\"}}}],\"scatterternary\":[{\"type\":\"scatterternary\",\"marker\":{\"colorbar\":{\"outlinewidth\":0,\"ticks\":\"\"}}}],\"scattercarpet\":[{\"type\":\"scattercarpet\",\"marker\":{\"colorbar\":{\"outlinewidth\":0,\"ticks\":\"\"}}}],\"carpet\":[{\"aaxis\":{\"endlinecolor\":\"#2a3f5f\",\"gridcolor\":\"white\",\"linecolor\":\"white\",\"minorgridcolor\":\"white\",\"startlinecolor\":\"#2a3f5f\"},\"baxis\":{\"endlinecolor\":\"#2a3f5f\",\"gridcolor\":\"white\",\"linecolor\":\"white\",\"minorgridcolor\":\"white\",\"startlinecolor\":\"#2a3f5f\"},\"type\":\"carpet\"}],\"table\":[{\"cells\":{\"fill\":{\"color\":\"#EBF0F8\"},\"line\":{\"color\":\"white\"}},\"header\":{\"fill\":{\"color\":\"#C8D4E3\"},\"line\":{\"color\":\"white\"}},\"type\":\"table\"}],\"barpolar\":[{\"marker\":{\"line\":{\"color\":\"#E5ECF6\",\"width\":0.5},\"pattern\":{\"fillmode\":\"overlay\",\"size\":10,\"solidity\":0.2}},\"type\":\"barpolar\"}],\"pie\":[{\"automargin\":true,\"type\":\"pie\"}]},\"layout\":{\"autotypenumbers\":\"strict\",\"colorway\":[\"#636efa\",\"#EF553B\",\"#00cc96\",\"#ab63fa\",\"#FFA15A\",\"#19d3f3\",\"#FF6692\",\"#B6E880\",\"#FF97FF\",\"#FECB52\"],\"font\":{\"color\":\"#2a3f5f\"},\"hovermode\":\"closest\",\"hoverlabel\":{\"align\":\"left\"},\"paper_bgcolor\":\"white\",\"plot_bgcolor\":\"#E5ECF6\",\"polar\":{\"bgcolor\":\"#E5ECF6\",\"angularaxis\":{\"gridcolor\":\"white\",\"linecolor\":\"white\",\"ticks\":\"\"},\"radialaxis\":{\"gridcolor\":\"white\",\"linecolor\":\"white\",\"ticks\":\"\"}},\"ternary\":{\"bgcolor\":\"#E5ECF6\",\"aaxis\":{\"gridcolor\":\"white\",\"linecolor\":\"white\",\"ticks\":\"\"},\"baxis\":{\"gridcolor\":\"white\",\"linecolor\":\"white\",\"ticks\":\"\"},\"caxis\":{\"gridcolor\":\"white\",\"linecolor\":\"white\",\"ticks\":\"\"}},\"coloraxis\":{\"colorbar\":{\"outlinewidth\":0,\"ticks\":\"\"}},\"colorscale\":{\"sequential\":[[0.0,\"#0d0887\"],[0.1111111111111111,\"#46039f\"],[0.2222222222222222,\"#7201a8\"],[0.3333333333333333,\"#9c179e\"],[0.4444444444444444,\"#bd3786\"],[0.5555555555555556,\"#d8576b\"],[0.6666666666666666,\"#ed7953\"],[0.7777777777777778,\"#fb9f3a\"],[0.8888888888888888,\"#fdca26\"],[1.0,\"#f0f921\"]],\"sequentialminus\":[[0.0,\"#0d0887\"],[0.1111111111111111,\"#46039f\"],[0.2222222222222222,\"#7201a8\"],[0.3333333333333333,\"#9c179e\"],[0.4444444444444444,\"#bd3786\"],[0.5555555555555556,\"#d8576b\"],[0.6666666666666666,\"#ed7953\"],[0.7777777777777778,\"#fb9f3a\"],[0.8888888888888888,\"#fdca26\"],[1.0,\"#f0f921\"]],\"diverging\":[[0,\"#8e0152\"],[0.1,\"#c51b7d\"],[0.2,\"#de77ae\"],[0.3,\"#f1b6da\"],[0.4,\"#fde0ef\"],[0.5,\"#f7f7f7\"],[0.6,\"#e6f5d0\"],[0.7,\"#b8e186\"],[0.8,\"#7fbc41\"],[0.9,\"#4d9221\"],[1,\"#276419\"]]},\"xaxis\":{\"gridcolor\":\"white\",\"linecolor\":\"white\",\"ticks\":\"\",\"title\":{\"standoff\":15},\"zerolinecolor\":\"white\",\"automargin\":true,\"zerolinewidth\":2},\"yaxis\":{\"gridcolor\":\"white\",\"linecolor\":\"white\",\"ticks\":\"\",\"title\":{\"standoff\":15},\"zerolinecolor\":\"white\",\"automargin\":true,\"zerolinewidth\":2},\"scene\":{\"xaxis\":{\"backgroundcolor\":\"#E5ECF6\",\"gridcolor\":\"white\",\"linecolor\":\"white\",\"showbackground\":true,\"ticks\":\"\",\"zerolinecolor\":\"white\",\"gridwidth\":2},\"yaxis\":{\"backgroundcolor\":\"#E5ECF6\",\"gridcolor\":\"white\",\"linecolor\":\"white\",\"showbackground\":true,\"ticks\":\"\",\"zerolinecolor\":\"white\",\"gridwidth\":2},\"zaxis\":{\"backgroundcolor\":\"#E5ECF6\",\"gridcolor\":\"white\",\"linecolor\":\"white\",\"showbackground\":true,\"ticks\":\"\",\"zerolinecolor\":\"white\",\"gridwidth\":2}},\"shapedefaults\":{\"line\":{\"color\":\"#2a3f5f\"}},\"annotationdefaults\":{\"arrowcolor\":\"#2a3f5f\",\"arrowhead\":0,\"arrowwidth\":1},\"geo\":{\"bgcolor\":\"white\",\"landcolor\":\"#E5ECF6\",\"subunitcolor\":\"white\",\"showland\":true,\"showlakes\":true,\"lakecolor\":\"white\"},\"title\":{\"x\":0.05},\"mapbox\":{\"style\":\"light\"}}}},                        {\"responsive\": true}                    ).then(function(){\n",
       "                            \n",
       "var gd = document.getElementById('4d5fdaff-fb01-436c-8fff-1c5549b60125');\n",
       "var x = new MutationObserver(function (mutations, observer) {{\n",
       "        var display = window.getComputedStyle(gd).display;\n",
       "        if (!display || display === 'none') {{\n",
       "            console.log([gd, 'removed!']);\n",
       "            Plotly.purge(gd);\n",
       "            observer.disconnect();\n",
       "        }}\n",
       "}});\n",
       "\n",
       "// Listen for the removal of the full notebook cells\n",
       "var notebookContainer = gd.closest('#notebook-container');\n",
       "if (notebookContainer) {{\n",
       "    x.observe(notebookContainer, {childList: true});\n",
       "}}\n",
       "\n",
       "// Listen for the clearing of the current output cell\n",
       "var outputEl = gd.closest('.output');\n",
       "if (outputEl) {{\n",
       "    x.observe(outputEl, {childList: true});\n",
       "}}\n",
       "\n",
       "                        })                };            </script>        </div>"
      ]
     },
     "metadata": {},
     "output_type": "display_data"
    }
   ],
   "source": [
    "# Group by sex and calculate means\n",
    "summary_stats = gss_clean.groupby('sex')[['income','socioeconomic_index','education']].mean().reset_index()\n",
    "\n",
    "# Round for presentation\n",
    "summary_stats = summary_stats.round(2)\n",
    "\n",
    "# Rename columns for clarity\n",
    "summary_stats = summary_stats.rename(columns = {\n",
    "    'income':'Mean Income',\n",
    "    'socioeconomic_index':'Mean Socioeconomic Index',\n",
    "    'education':'Mean Years of Education'\n",
    "})\n",
    "\n",
    "# Create the interactive table\n",
    "table_fig = ff.create_table(summary_stats)\n",
    "table_fig.show()"
   ]
  },
  {
   "cell_type": "markdown",
   "metadata": {},
   "source": [
    "### 2.2. Attitudes on Gender Roles\n",
    "This bar plot visualizes responses to the statement: \"It is much better for everyone involved if the man is the achiever outside the home and the woman takes care of the home and family.\"  \n",
    "This helps us gauge societal attitudes toward traditional gender roles."
   ]
  },
  {
   "cell_type": "code",
   "execution_count": 6,
   "metadata": {},
   "outputs": [
    {
     "data": {
      "application/vnd.plotly.v1+json": {
       "config": {
        "plotlyServerURL": "https://plot.ly"
       },
       "data": [
        {
         "alignmentgroup": "True",
         "hovertemplate": "Sex=male<br>Response to \"Man is Achiever, Woman is Homemaker\"=%{x}<br>Number of Respondents=%{y}<extra></extra>",
         "legendgroup": "male",
         "marker": {
          "color": "#636efa",
          "pattern": {
           "shape": ""
          }
         },
         "name": "male",
         "offsetgroup": "male",
         "orientation": "v",
         "showlegend": true,
         "textposition": "auto",
         "type": "bar",
         "x": [
          "disagree",
          "disagree",
          "disagree",
          "strongly disagree",
          "strongly disagree",
          "strongly disagree",
          "disagree",
          "disagree",
          "disagree",
          "strongly disagree",
          "disagree",
          "disagree",
          "strongly agree",
          "disagree",
          "disagree",
          "disagree",
          "strongly disagree",
          "strongly disagree",
          "agree",
          "disagree",
          "strongly disagree",
          "strongly disagree",
          "agree",
          "strongly disagree",
          "disagree",
          "agree",
          "strongly disagree",
          "disagree",
          "strongly disagree",
          "disagree",
          "disagree",
          "strongly disagree",
          "agree",
          "disagree",
          "disagree",
          "strongly disagree",
          "strongly disagree",
          "strongly disagree",
          "disagree",
          "agree",
          "disagree",
          "disagree",
          "disagree",
          "agree",
          "agree",
          "disagree",
          "agree",
          "agree",
          "disagree",
          "agree",
          "strongly disagree",
          "disagree",
          "disagree",
          "agree",
          "disagree",
          "agree",
          "strongly disagree",
          "agree",
          "agree",
          "strongly disagree",
          "disagree",
          "disagree",
          "disagree",
          "disagree",
          "agree",
          "disagree",
          "disagree",
          "disagree",
          "disagree",
          "strongly disagree",
          "disagree",
          "agree",
          "agree",
          "disagree",
          "strongly disagree",
          "strongly disagree",
          "disagree",
          "disagree",
          "disagree",
          "disagree",
          "disagree",
          "disagree",
          "strongly disagree",
          "disagree",
          "agree",
          "agree",
          "strongly disagree",
          "strongly agree",
          "disagree",
          "disagree",
          "disagree",
          "agree",
          "disagree",
          "strongly agree",
          "disagree",
          "strongly disagree",
          "agree",
          "disagree",
          "strongly disagree",
          "disagree",
          "strongly disagree",
          "agree",
          "disagree",
          "disagree",
          "strongly disagree",
          "disagree",
          "strongly disagree",
          "strongly disagree",
          "agree",
          "strongly disagree",
          "strongly disagree",
          "disagree",
          "agree",
          "strongly disagree",
          "agree",
          "strongly disagree",
          "disagree",
          "disagree",
          "strongly disagree",
          "agree",
          "agree",
          "disagree",
          "disagree",
          "disagree",
          "strongly disagree",
          "strongly agree",
          "disagree",
          "agree",
          "agree",
          "agree",
          "disagree",
          "disagree",
          "strongly disagree",
          "disagree",
          "agree",
          "disagree",
          "strongly disagree",
          "disagree",
          "disagree",
          "disagree",
          "strongly disagree",
          "agree",
          "strongly disagree",
          "disagree",
          "disagree",
          "strongly disagree",
          "disagree",
          "disagree",
          "agree",
          "strongly disagree",
          "strongly disagree",
          "disagree",
          "disagree",
          "disagree",
          "strongly disagree",
          "disagree",
          "strongly disagree",
          "disagree",
          "agree",
          "strongly disagree",
          "disagree",
          "strongly agree",
          "strongly agree",
          "agree",
          "strongly agree",
          "disagree",
          "disagree",
          "agree",
          "agree",
          "disagree",
          "disagree",
          "disagree",
          "agree",
          "agree",
          "disagree",
          "disagree",
          "disagree",
          "strongly disagree",
          "agree",
          "strongly disagree",
          "disagree",
          "disagree",
          "strongly disagree",
          "disagree",
          "disagree",
          "agree",
          "strongly disagree",
          "strongly disagree",
          "agree",
          "disagree",
          "disagree",
          "strongly agree",
          "disagree",
          "strongly agree",
          "disagree",
          "strongly agree",
          "disagree",
          "disagree",
          "disagree",
          "disagree",
          "disagree",
          "disagree",
          "disagree",
          "disagree",
          "strongly disagree",
          "disagree",
          "disagree",
          "strongly disagree",
          "strongly disagree",
          "disagree",
          "strongly agree",
          "strongly disagree",
          "disagree",
          "agree",
          "disagree",
          "disagree",
          "disagree",
          "disagree",
          "strongly disagree",
          "agree",
          "strongly disagree",
          "strongly disagree",
          "strongly disagree",
          "strongly disagree",
          "disagree",
          "agree",
          "disagree",
          "disagree",
          "disagree",
          "disagree",
          "agree",
          "disagree",
          "disagree",
          "disagree",
          "strongly agree",
          "disagree",
          "strongly disagree",
          "agree",
          "disagree",
          "strongly agree",
          "strongly disagree",
          "agree",
          "disagree",
          "disagree",
          "strongly disagree",
          "disagree",
          "strongly disagree",
          "agree",
          "disagree",
          "agree",
          "disagree",
          "agree",
          "disagree",
          "disagree",
          "strongly disagree",
          "disagree",
          "disagree",
          "strongly disagree",
          "disagree",
          "disagree",
          "agree",
          "disagree",
          "strongly disagree",
          "agree",
          "disagree",
          "strongly disagree",
          "agree",
          "disagree",
          "agree",
          "disagree",
          "disagree",
          "strongly disagree",
          "agree",
          "strongly disagree",
          "disagree",
          "agree",
          "strongly agree",
          "strongly disagree",
          "strongly disagree",
          "disagree",
          "disagree",
          "strongly disagree",
          "strongly disagree",
          "disagree",
          "disagree",
          "strongly disagree",
          "disagree",
          "disagree",
          "disagree",
          "disagree",
          "strongly agree",
          "strongly disagree",
          "strongly disagree",
          "strongly disagree",
          "strongly disagree",
          "disagree",
          "disagree",
          "strongly disagree",
          "strongly disagree",
          "strongly disagree",
          "strongly disagree",
          "agree",
          "disagree",
          "disagree",
          "agree",
          "disagree",
          "disagree",
          "disagree",
          "disagree",
          "disagree",
          "strongly disagree",
          "strongly agree",
          "disagree",
          "strongly disagree",
          "agree",
          "strongly disagree",
          "disagree",
          "strongly disagree",
          "disagree",
          "disagree",
          "disagree",
          "disagree",
          "disagree",
          "strongly disagree",
          "disagree",
          "disagree",
          "strongly disagree",
          "strongly disagree",
          "strongly disagree",
          "disagree",
          "strongly disagree",
          "strongly disagree",
          "disagree",
          "agree",
          "strongly disagree",
          "disagree",
          "disagree",
          "agree",
          "agree",
          "agree",
          "strongly disagree",
          "agree",
          "strongly disagree",
          "strongly disagree",
          "disagree",
          "agree",
          "disagree",
          "agree",
          "strongly disagree",
          "strongly disagree",
          "disagree",
          "agree",
          "agree",
          "agree",
          "agree",
          "disagree",
          "strongly disagree",
          "agree",
          "agree",
          "strongly disagree",
          "strongly disagree",
          "agree",
          "strongly disagree",
          "disagree",
          "disagree",
          "strongly disagree",
          "disagree",
          "disagree",
          "agree",
          "disagree",
          "agree",
          "disagree",
          "disagree",
          "strongly disagree",
          "strongly agree",
          "disagree",
          "strongly agree",
          "disagree",
          "disagree",
          "disagree",
          "disagree",
          "disagree",
          "disagree",
          "disagree",
          "disagree",
          "agree",
          "disagree",
          "agree",
          "strongly disagree",
          "strongly disagree",
          "disagree",
          "disagree",
          "agree",
          "strongly disagree",
          "disagree",
          "disagree",
          "agree",
          "disagree",
          "strongly agree",
          "disagree",
          "disagree",
          "disagree",
          "agree",
          "disagree",
          "disagree",
          "disagree",
          "strongly disagree",
          "strongly disagree",
          "disagree",
          "strongly agree",
          "disagree",
          "strongly disagree",
          "disagree",
          "agree",
          "disagree",
          "disagree",
          "disagree",
          "strongly disagree",
          "agree",
          "disagree",
          "disagree",
          "agree",
          "disagree",
          "disagree",
          "disagree",
          "agree",
          "strongly agree",
          "agree",
          "disagree",
          "disagree",
          "disagree",
          "disagree",
          "agree",
          "strongly disagree",
          "strongly disagree",
          "strongly disagree",
          "strongly agree",
          "agree",
          "agree",
          "agree",
          "strongly disagree",
          "strongly agree",
          "disagree",
          "disagree",
          "strongly disagree",
          "disagree",
          "agree",
          "disagree",
          "agree",
          "agree",
          "strongly disagree",
          "disagree",
          "disagree",
          "disagree",
          "disagree",
          "disagree",
          "agree",
          "strongly agree",
          "agree",
          "disagree",
          "strongly agree",
          "disagree",
          "agree",
          "disagree",
          "disagree",
          "agree",
          "disagree",
          "disagree",
          "disagree",
          "agree",
          "disagree",
          "disagree",
          "disagree",
          "disagree",
          "disagree",
          "strongly disagree",
          "disagree",
          "strongly disagree",
          "agree",
          "disagree",
          "disagree",
          "disagree",
          "agree",
          "disagree",
          "agree",
          "disagree",
          "strongly disagree",
          "disagree",
          "strongly disagree",
          "agree",
          "agree",
          "disagree",
          "strongly disagree",
          "disagree",
          "disagree",
          "agree",
          "agree",
          "disagree",
          "strongly disagree",
          "agree",
          "disagree",
          "strongly disagree",
          "disagree",
          "disagree",
          "agree",
          "disagree",
          "strongly disagree",
          "agree",
          "disagree",
          "disagree",
          "disagree",
          "disagree",
          "disagree",
          "disagree",
          "agree",
          "disagree",
          "disagree",
          "strongly agree",
          "agree",
          "strongly disagree",
          "strongly agree",
          "disagree",
          "strongly agree",
          "agree",
          "disagree",
          "strongly disagree",
          "disagree",
          "disagree",
          "agree",
          "disagree",
          "strongly disagree",
          "agree",
          "disagree",
          "disagree",
          "disagree",
          "disagree",
          "strongly agree",
          "strongly disagree",
          "agree",
          "disagree",
          "agree",
          "disagree",
          "disagree",
          "agree",
          "disagree",
          "agree",
          "disagree",
          "agree",
          "disagree",
          "agree",
          "strongly agree",
          "disagree",
          "strongly agree",
          "disagree",
          "agree",
          "disagree",
          "disagree",
          "disagree",
          "disagree",
          "agree",
          "disagree",
          "disagree",
          "disagree",
          "disagree",
          "strongly disagree",
          "strongly disagree",
          "disagree",
          "disagree",
          "disagree",
          "strongly disagree",
          "agree",
          "disagree",
          "disagree",
          "strongly agree",
          "strongly disagree",
          "disagree",
          "agree",
          "disagree",
          "disagree",
          "agree",
          "disagree",
          "disagree",
          "agree",
          "agree",
          "agree",
          "strongly disagree",
          "agree",
          "disagree",
          "disagree",
          "agree",
          "disagree",
          "agree",
          "disagree",
          "agree",
          "agree",
          "agree",
          "disagree",
          "strongly disagree",
          "agree",
          "strongly disagree",
          "disagree",
          "disagree",
          "disagree",
          "agree",
          "disagree",
          "agree",
          "disagree",
          "disagree",
          "disagree",
          "agree",
          "agree",
          "disagree",
          "strongly agree",
          "agree",
          "strongly disagree",
          "disagree",
          "disagree",
          "agree",
          "strongly agree",
          "agree",
          "disagree",
          "disagree",
          "agree",
          "agree",
          "disagree",
          "strongly disagree",
          "disagree",
          "strongly disagree",
          "disagree",
          "strongly agree",
          "disagree",
          "disagree",
          "agree",
          "disagree",
          "agree",
          "agree",
          "strongly disagree",
          "disagree",
          "agree",
          "strongly disagree",
          "strongly disagree",
          "strongly agree",
          "disagree",
          "disagree",
          "disagree",
          "disagree",
          "agree",
          "disagree",
          "disagree",
          "disagree",
          "disagree",
          "strongly disagree",
          "agree",
          "disagree",
          "disagree",
          "disagree",
          "agree",
          "agree",
          "agree",
          "disagree",
          "strongly disagree",
          "strongly disagree",
          "strongly agree",
          "strongly agree",
          "agree",
          "disagree",
          "disagree",
          "strongly disagree",
          "strongly agree",
          "agree",
          "agree",
          "disagree",
          "agree",
          "disagree",
          "strongly agree",
          "agree",
          "disagree",
          "disagree",
          "disagree",
          "strongly disagree",
          "disagree",
          "agree"
         ],
         "xaxis": "x",
         "y": {
          "bdata": "AQEBAQEBAQEBAQEBAQEBAQEBAQEBAQEBAQEBAQEBAQEBAQEBAQEBAQEBAQEBAQEBAQEBAQEBAQEBAQEBAQEBAQEBAQEBAQEBAQEBAQEBAQEBAQEBAQEBAQEBAQEBAQEBAQEBAQEBAQEBAQEBAQEBAQEBAQEBAQEBAQEBAQEBAQEBAQEBAQEBAQEBAQEBAQEBAQEBAQEBAQEBAQEBAQEBAQEBAQEBAQEBAQEBAQEBAQEBAQEBAQEBAQEBAQEBAQEBAQEBAQEBAQEBAQEBAQEBAQEBAQEBAQEBAQEBAQEBAQEBAQEBAQEBAQEBAQEBAQEBAQEBAQEBAQEBAQEBAQEBAQEBAQEBAQEBAQEBAQEBAQEBAQEBAQEBAQEBAQEBAQEBAQEBAQEBAQEBAQEBAQEBAQEBAQEBAQEBAQEBAQEBAQEBAQEBAQEBAQEBAQEBAQEBAQEBAQEBAQEBAQEBAQEBAQEBAQEBAQEBAQEBAQEBAQEBAQEBAQEBAQEBAQEBAQEBAQEBAQEBAQEBAQEBAQEBAQEBAQEBAQEBAQEBAQEBAQEBAQEBAQEBAQEBAQEBAQEBAQEBAQEBAQEBAQEBAQEBAQEBAQEBAQEBAQEBAQEBAQEBAQEBAQEBAQEBAQEBAQEBAQEBAQEBAQEBAQEBAQEBAQEBAQEBAQEBAQEBAQEBAQEBAQEBAQEBAQEBAQEBAQEBAQEBAQEBAQEBAQEBAQEBAQEBAQEBAQEBAQEBAQEBAQEBAQEBAQEBAQEBAQEBAQEBAQEBAQEBAQEBAQEBAQEBAQEBAQEBAQEBAQEBAQEBAQEBAQEBAQEBAQEBAQEBAQEBAQEBAQEBAQEBAQEBAQEBAQEBAQEBAQEBAQEBAQEBAQEBAQEBAQEBAQEBAQEBAQEBAQEBAQEBAQEBAQ==",
          "dtype": "i1"
         },
         "yaxis": "y"
        },
        {
         "alignmentgroup": "True",
         "hovertemplate": "Sex=female<br>Response to \"Man is Achiever, Woman is Homemaker\"=%{x}<br>Number of Respondents=%{y}<extra></extra>",
         "legendgroup": "female",
         "marker": {
          "color": "#EF553B",
          "pattern": {
           "shape": ""
          }
         },
         "name": "female",
         "offsetgroup": "female",
         "orientation": "v",
         "showlegend": true,
         "textposition": "auto",
         "type": "bar",
         "x": [
          "disagree",
          "disagree",
          "strongly disagree",
          "disagree",
          "disagree",
          "strongly disagree",
          "disagree",
          "strongly disagree",
          "agree",
          "disagree",
          "strongly disagree",
          "disagree",
          "disagree",
          "agree",
          "disagree",
          "strongly disagree",
          "strongly disagree",
          "agree",
          "disagree",
          "disagree",
          "disagree",
          "disagree",
          "disagree",
          "strongly disagree",
          "strongly disagree",
          "strongly disagree",
          "strongly disagree",
          "disagree",
          "strongly disagree",
          "agree",
          "disagree",
          "agree",
          "disagree",
          "strongly disagree",
          "agree",
          "agree",
          "strongly disagree",
          "strongly disagree",
          "agree",
          "disagree",
          "strongly disagree",
          "disagree",
          "disagree",
          "strongly disagree",
          "agree",
          "strongly disagree",
          "disagree",
          "strongly disagree",
          "agree",
          "disagree",
          "disagree",
          "agree",
          "disagree",
          "disagree",
          "strongly disagree",
          "agree",
          "disagree",
          "strongly agree",
          "disagree",
          "disagree",
          "disagree",
          "strongly disagree",
          "disagree",
          "disagree",
          "strongly disagree",
          "disagree",
          "agree",
          "disagree",
          "disagree",
          "agree",
          "disagree",
          "strongly disagree",
          "agree",
          "strongly disagree",
          "disagree",
          "strongly disagree",
          "agree",
          "disagree",
          "strongly disagree",
          "disagree",
          "strongly disagree",
          "strongly disagree",
          "disagree",
          "strongly disagree",
          "disagree",
          "disagree",
          "disagree",
          "agree",
          "strongly disagree",
          "strongly disagree",
          "agree",
          "strongly disagree",
          "agree",
          "agree",
          "disagree",
          "agree",
          "strongly disagree",
          "disagree",
          "disagree",
          "strongly agree",
          "agree",
          "strongly disagree",
          "strongly disagree",
          "strongly disagree",
          "strongly disagree",
          "strongly disagree",
          "disagree",
          "strongly disagree",
          "disagree",
          "strongly disagree",
          "strongly disagree",
          "disagree",
          "strongly disagree",
          "agree",
          "disagree",
          "strongly disagree",
          "strongly disagree",
          "strongly disagree",
          "disagree",
          "strongly disagree",
          "agree",
          "agree",
          "agree",
          "agree",
          "strongly disagree",
          "agree",
          "disagree",
          "strongly disagree",
          "disagree",
          "strongly agree",
          "disagree",
          "strongly agree",
          "disagree",
          "disagree",
          "agree",
          "strongly disagree",
          "disagree",
          "disagree",
          "strongly disagree",
          "disagree",
          "strongly disagree",
          "disagree",
          "strongly disagree",
          "disagree",
          "strongly disagree",
          "strongly disagree",
          "strongly disagree",
          "strongly agree",
          "strongly disagree",
          "strongly disagree",
          "agree",
          "strongly disagree",
          "disagree",
          "agree",
          "strongly agree",
          "agree",
          "disagree",
          "disagree",
          "disagree",
          "disagree",
          "agree",
          "disagree",
          "agree",
          "disagree",
          "agree",
          "disagree",
          "strongly disagree",
          "disagree",
          "disagree",
          "strongly disagree",
          "disagree",
          "disagree",
          "strongly disagree",
          "strongly disagree",
          "agree",
          "strongly disagree",
          "disagree",
          "disagree",
          "strongly disagree",
          "agree",
          "disagree",
          "strongly disagree",
          "strongly disagree",
          "strongly disagree",
          "disagree",
          "strongly disagree",
          "disagree",
          "strongly disagree",
          "strongly disagree",
          "strongly disagree",
          "strongly disagree",
          "disagree",
          "disagree",
          "strongly disagree",
          "disagree",
          "strongly agree",
          "disagree",
          "strongly disagree",
          "strongly disagree",
          "disagree",
          "disagree",
          "agree",
          "agree",
          "strongly disagree",
          "agree",
          "agree",
          "strongly disagree",
          "strongly agree",
          "agree",
          "disagree",
          "agree",
          "strongly agree",
          "strongly disagree",
          "strongly disagree",
          "disagree",
          "disagree",
          "disagree",
          "disagree",
          "strongly disagree",
          "disagree",
          "strongly disagree",
          "strongly agree",
          "disagree",
          "strongly disagree",
          "strongly disagree",
          "strongly disagree",
          "strongly disagree",
          "strongly agree",
          "disagree",
          "disagree",
          "strongly disagree",
          "disagree",
          "disagree",
          "agree",
          "disagree",
          "strongly disagree",
          "agree",
          "strongly agree",
          "disagree",
          "disagree",
          "disagree",
          "disagree",
          "agree",
          "disagree",
          "agree",
          "disagree",
          "disagree",
          "disagree",
          "disagree",
          "disagree",
          "strongly disagree",
          "strongly agree",
          "strongly agree",
          "strongly agree",
          "disagree",
          "strongly disagree",
          "strongly disagree",
          "disagree",
          "disagree",
          "disagree",
          "disagree",
          "agree",
          "disagree",
          "disagree",
          "disagree",
          "disagree",
          "agree",
          "strongly agree",
          "disagree",
          "strongly disagree",
          "agree",
          "disagree",
          "strongly disagree",
          "strongly disagree",
          "agree",
          "strongly disagree",
          "agree",
          "strongly agree",
          "strongly disagree",
          "strongly disagree",
          "disagree",
          "agree",
          "strongly disagree",
          "strongly disagree",
          "agree",
          "disagree",
          "disagree",
          "disagree",
          "agree",
          "disagree",
          "strongly disagree",
          "strongly disagree",
          "disagree",
          "disagree",
          "strongly disagree",
          "disagree",
          "disagree",
          "strongly disagree",
          "strongly disagree",
          "disagree",
          "disagree",
          "strongly disagree",
          "strongly disagree",
          "strongly agree",
          "disagree",
          "disagree",
          "strongly disagree",
          "strongly disagree",
          "disagree",
          "strongly disagree",
          "strongly disagree",
          "disagree",
          "disagree",
          "disagree",
          "strongly disagree",
          "strongly disagree",
          "disagree",
          "strongly disagree",
          "disagree",
          "agree",
          "agree",
          "disagree",
          "disagree",
          "strongly disagree",
          "strongly disagree",
          "agree",
          "disagree",
          "strongly agree",
          "strongly disagree",
          "strongly disagree",
          "disagree",
          "strongly disagree",
          "strongly disagree",
          "strongly disagree",
          "agree",
          "agree",
          "strongly disagree",
          "agree",
          "disagree",
          "strongly disagree",
          "disagree",
          "disagree",
          "agree",
          "strongly disagree",
          "strongly disagree",
          "strongly disagree",
          "strongly disagree",
          "strongly disagree",
          "disagree",
          "disagree",
          "strongly agree",
          "disagree",
          "strongly disagree",
          "agree",
          "disagree",
          "strongly agree",
          "strongly disagree",
          "strongly disagree",
          "agree",
          "strongly disagree",
          "agree",
          "strongly disagree",
          "disagree",
          "strongly disagree",
          "strongly disagree",
          "disagree",
          "strongly disagree",
          "strongly disagree",
          "strongly agree",
          "strongly agree",
          "disagree",
          "strongly disagree",
          "agree",
          "disagree",
          "disagree",
          "disagree",
          "disagree",
          "strongly disagree",
          "disagree",
          "strongly disagree",
          "strongly disagree",
          "disagree",
          "disagree",
          "agree",
          "strongly disagree",
          "strongly disagree",
          "strongly disagree",
          "disagree",
          "agree",
          "strongly agree",
          "agree",
          "disagree",
          "disagree",
          "agree",
          "disagree",
          "disagree",
          "disagree",
          "disagree",
          "disagree",
          "strongly disagree",
          "strongly disagree",
          "disagree",
          "disagree",
          "disagree",
          "strongly disagree",
          "strongly agree",
          "strongly disagree",
          "agree",
          "strongly disagree",
          "agree",
          "strongly disagree",
          "agree",
          "strongly disagree",
          "strongly disagree",
          "disagree",
          "disagree",
          "disagree",
          "agree",
          "disagree",
          "strongly disagree",
          "strongly disagree",
          "disagree",
          "disagree",
          "strongly disagree",
          "disagree",
          "agree",
          "disagree",
          "disagree",
          "disagree",
          "strongly disagree",
          "disagree",
          "disagree",
          "disagree",
          "strongly disagree",
          "disagree",
          "disagree",
          "strongly disagree",
          "disagree",
          "disagree",
          "disagree",
          "disagree",
          "strongly disagree",
          "agree",
          "strongly disagree",
          "disagree",
          "strongly disagree",
          "disagree",
          "strongly agree",
          "strongly disagree",
          "disagree",
          "agree",
          "disagree",
          "strongly disagree",
          "disagree",
          "agree",
          "strongly disagree",
          "disagree",
          "disagree",
          "strongly disagree",
          "agree",
          "disagree",
          "agree",
          "strongly disagree",
          "disagree",
          "strongly disagree",
          "disagree",
          "disagree",
          "strongly disagree",
          "disagree",
          "disagree",
          "strongly disagree",
          "strongly disagree",
          "disagree",
          "strongly disagree",
          "agree",
          "strongly disagree",
          "disagree",
          "disagree",
          "agree",
          "disagree",
          "disagree",
          "strongly disagree",
          "strongly agree",
          "strongly agree",
          "agree",
          "agree",
          "strongly disagree",
          "disagree",
          "disagree",
          "strongly disagree",
          "strongly disagree",
          "strongly disagree",
          "strongly disagree",
          "strongly disagree",
          "disagree",
          "strongly disagree",
          "disagree",
          "disagree",
          "agree",
          "disagree",
          "agree",
          "strongly disagree",
          "disagree",
          "agree",
          "strongly agree",
          "agree",
          "agree",
          "disagree",
          "disagree",
          "disagree",
          "strongly disagree",
          "disagree",
          "disagree",
          "strongly disagree",
          "disagree",
          "strongly disagree",
          "disagree",
          "disagree",
          "strongly disagree",
          "disagree",
          "disagree",
          "disagree",
          "strongly disagree",
          "disagree",
          "disagree",
          "strongly agree",
          "disagree",
          "disagree",
          "strongly disagree",
          "disagree",
          "disagree",
          "strongly disagree",
          "agree",
          "disagree",
          "disagree",
          "disagree",
          "agree",
          "disagree",
          "agree",
          "strongly disagree",
          "strongly disagree",
          "disagree",
          "strongly disagree",
          "strongly disagree",
          "disagree",
          "agree",
          "agree",
          "strongly agree",
          "disagree",
          "disagree",
          "strongly disagree",
          "strongly disagree",
          "disagree",
          "agree",
          "disagree",
          "disagree",
          "agree",
          "disagree",
          "agree",
          "disagree",
          "strongly agree",
          "disagree",
          "disagree",
          "disagree",
          "disagree",
          "disagree",
          "agree",
          "disagree",
          "disagree",
          "disagree",
          "strongly disagree",
          "disagree",
          "disagree",
          "strongly disagree",
          "strongly agree",
          "disagree",
          "disagree",
          "disagree",
          "agree",
          "disagree",
          "agree",
          "strongly disagree",
          "agree",
          "disagree",
          "disagree",
          "strongly agree",
          "disagree",
          "strongly disagree",
          "strongly disagree",
          "strongly disagree",
          "strongly agree",
          "disagree",
          "disagree",
          "agree",
          "strongly disagree",
          "disagree",
          "disagree",
          "agree",
          "disagree",
          "agree",
          "strongly disagree",
          "strongly disagree",
          "agree",
          "disagree",
          "strongly disagree",
          "agree",
          "strongly agree",
          "disagree",
          "strongly disagree",
          "disagree",
          "disagree",
          "agree",
          "agree",
          "disagree",
          "strongly disagree",
          "disagree",
          "agree",
          "strongly disagree",
          "agree",
          "strongly disagree",
          "disagree",
          "disagree",
          "strongly disagree",
          "disagree",
          "strongly disagree",
          "disagree",
          "strongly disagree",
          "strongly disagree",
          "disagree",
          "disagree",
          "strongly agree",
          "strongly disagree",
          "disagree",
          "agree",
          "agree",
          "disagree",
          "agree",
          "disagree",
          "strongly disagree",
          "strongly disagree",
          "disagree",
          "disagree",
          "strongly disagree",
          "disagree",
          "strongly disagree",
          "disagree",
          "disagree",
          "disagree",
          "disagree",
          "strongly disagree",
          "disagree",
          "disagree",
          "strongly agree",
          "strongly disagree",
          "strongly disagree",
          "strongly disagree",
          "disagree",
          "strongly disagree",
          "strongly disagree",
          "strongly agree",
          "agree",
          "strongly disagree",
          "disagree",
          "strongly disagree",
          "disagree",
          "strongly disagree",
          "strongly disagree",
          "agree",
          "disagree",
          "disagree",
          "agree",
          "strongly disagree",
          "disagree",
          "disagree",
          "disagree",
          "disagree",
          "disagree",
          "strongly disagree",
          "strongly disagree",
          "disagree",
          "disagree",
          "strongly disagree",
          "disagree",
          "disagree",
          "disagree",
          "agree",
          "strongly disagree",
          "disagree",
          "disagree",
          "agree",
          "agree",
          "agree",
          "agree",
          "agree",
          "strongly disagree",
          "agree",
          "disagree",
          "strongly agree",
          "agree",
          "strongly disagree",
          "disagree",
          "strongly disagree",
          "strongly disagree",
          "disagree",
          "agree",
          "strongly disagree",
          "strongly disagree",
          "strongly disagree",
          "agree",
          "strongly disagree",
          "strongly disagree",
          "disagree",
          "disagree",
          "disagree",
          "disagree",
          "agree",
          "agree",
          "strongly agree",
          "disagree",
          "disagree",
          "strongly agree",
          "disagree",
          "agree",
          "disagree",
          "disagree",
          "agree",
          "agree",
          "disagree",
          "disagree",
          "strongly disagree",
          "strongly disagree",
          "disagree",
          "disagree",
          "disagree",
          "strongly disagree",
          "strongly disagree",
          "disagree",
          "strongly agree",
          "strongly disagree",
          "agree",
          "strongly disagree",
          "disagree",
          "strongly disagree",
          "disagree",
          "disagree",
          "strongly disagree",
          "strongly disagree",
          "disagree",
          "strongly disagree",
          "disagree",
          "agree",
          "disagree",
          "strongly disagree",
          "strongly disagree",
          "agree",
          "strongly disagree",
          "disagree",
          "agree",
          "strongly disagree",
          "strongly disagree",
          "agree",
          "disagree",
          "disagree",
          "disagree",
          "agree",
          "disagree",
          "disagree",
          "agree",
          "disagree",
          "disagree",
          "strongly disagree",
          "agree",
          "disagree",
          "disagree",
          "strongly agree",
          "agree",
          "agree",
          "agree",
          "strongly disagree",
          "disagree",
          "disagree",
          "disagree",
          "strongly disagree",
          "strongly disagree",
          "disagree",
          "disagree",
          "disagree",
          "disagree",
          "disagree",
          "agree",
          "strongly agree",
          "strongly disagree",
          "strongly disagree",
          "disagree",
          "disagree",
          "strongly disagree",
          "disagree",
          "agree",
          "disagree",
          "disagree",
          "agree",
          "strongly disagree",
          "disagree",
          "disagree",
          "strongly disagree",
          "strongly disagree",
          "strongly disagree",
          "disagree",
          "disagree",
          "strongly disagree",
          "agree",
          "disagree",
          "disagree",
          "strongly disagree",
          "strongly disagree",
          "strongly disagree",
          "disagree",
          "disagree",
          "disagree",
          "disagree",
          "agree",
          "disagree",
          "disagree",
          "strongly disagree",
          "disagree",
          "strongly disagree",
          "disagree",
          "agree",
          "disagree",
          "disagree",
          "agree",
          "disagree",
          "strongly disagree",
          "disagree",
          "disagree",
          "agree",
          "strongly disagree",
          "disagree",
          "strongly disagree",
          "strongly disagree",
          "agree",
          "strongly disagree",
          "strongly disagree",
          "disagree",
          "strongly agree",
          "agree",
          "strongly disagree",
          "strongly disagree",
          "strongly disagree",
          "disagree",
          "strongly disagree",
          "disagree",
          "disagree",
          "strongly disagree",
          "strongly disagree",
          "disagree",
          "strongly disagree",
          "strongly disagree",
          "strongly disagree",
          "strongly agree",
          "strongly disagree",
          "disagree",
          "strongly agree"
         ],
         "xaxis": "x",
         "y": {
          "bdata": "AQEBAQEBAQEBAQEBAQEBAQEBAQEBAQEBAQEBAQEBAQEBAQEBAQEBAQEBAQEBAQEBAQEBAQEBAQEBAQEBAQEBAQEBAQEBAQEBAQEBAQEBAQEBAQEBAQEBAQEBAQEBAQEBAQEBAQEBAQEBAQEBAQEBAQEBAQEBAQEBAQEBAQEBAQEBAQEBAQEBAQEBAQEBAQEBAQEBAQEBAQEBAQEBAQEBAQEBAQEBAQEBAQEBAQEBAQEBAQEBAQEBAQEBAQEBAQEBAQEBAQEBAQEBAQEBAQEBAQEBAQEBAQEBAQEBAQEBAQEBAQEBAQEBAQEBAQEBAQEBAQEBAQEBAQEBAQEBAQEBAQEBAQEBAQEBAQEBAQEBAQEBAQEBAQEBAQEBAQEBAQEBAQEBAQEBAQEBAQEBAQEBAQEBAQEBAQEBAQEBAQEBAQEBAQEBAQEBAQEBAQEBAQEBAQEBAQEBAQEBAQEBAQEBAQEBAQEBAQEBAQEBAQEBAQEBAQEBAQEBAQEBAQEBAQEBAQEBAQEBAQEBAQEBAQEBAQEBAQEBAQEBAQEBAQEBAQEBAQEBAQEBAQEBAQEBAQEBAQEBAQEBAQEBAQEBAQEBAQEBAQEBAQEBAQEBAQEBAQEBAQEBAQEBAQEBAQEBAQEBAQEBAQEBAQEBAQEBAQEBAQEBAQEBAQEBAQEBAQEBAQEBAQEBAQEBAQEBAQEBAQEBAQEBAQEBAQEBAQEBAQEBAQEBAQEBAQEBAQEBAQEBAQEBAQEBAQEBAQEBAQEBAQEBAQEBAQEBAQEBAQEBAQEBAQEBAQEBAQEBAQEBAQEBAQEBAQEBAQEBAQEBAQEBAQEBAQEBAQEBAQEBAQEBAQEBAQEBAQEBAQEBAQEBAQEBAQEBAQEBAQEBAQEBAQEBAQEBAQEBAQEBAQEBAQEBAQEBAQEBAQEBAQEBAQEBAQEBAQEBAQEBAQEBAQEBAQEBAQEBAQEBAQEBAQEBAQEBAQEBAQEBAQEBAQEBAQEBAQEBAQEBAQEBAQEBAQEBAQEBAQEBAQEBAQEBAQEBAQEBAQEBAQEBAQEBAQEBAQEBAQEBAQEBAQEBAQEBAQEBAQEBAQEBAQEBAQEBAQEBAQEBAQEBAQEBAQEBAQEBAQEBAQEBAQEBAQEBAQEBAQEBAQEBAQE=",
          "dtype": "i1"
         },
         "yaxis": "y"
        }
       ],
       "layout": {
        "barmode": "group",
        "legend": {
         "title": {
          "text": "Sex"
         },
         "tracegroupgap": 0
        },
        "margin": {
         "t": 60
        },
        "template": {
         "data": {
          "bar": [
           {
            "error_x": {
             "color": "#2a3f5f"
            },
            "error_y": {
             "color": "#2a3f5f"
            },
            "marker": {
             "line": {
              "color": "#E5ECF6",
              "width": 0.5
             },
             "pattern": {
              "fillmode": "overlay",
              "size": 10,
              "solidity": 0.2
             }
            },
            "type": "bar"
           }
          ],
          "barpolar": [
           {
            "marker": {
             "line": {
              "color": "#E5ECF6",
              "width": 0.5
             },
             "pattern": {
              "fillmode": "overlay",
              "size": 10,
              "solidity": 0.2
             }
            },
            "type": "barpolar"
           }
          ],
          "carpet": [
           {
            "aaxis": {
             "endlinecolor": "#2a3f5f",
             "gridcolor": "white",
             "linecolor": "white",
             "minorgridcolor": "white",
             "startlinecolor": "#2a3f5f"
            },
            "baxis": {
             "endlinecolor": "#2a3f5f",
             "gridcolor": "white",
             "linecolor": "white",
             "minorgridcolor": "white",
             "startlinecolor": "#2a3f5f"
            },
            "type": "carpet"
           }
          ],
          "choropleth": [
           {
            "colorbar": {
             "outlinewidth": 0,
             "ticks": ""
            },
            "type": "choropleth"
           }
          ],
          "contour": [
           {
            "colorbar": {
             "outlinewidth": 0,
             "ticks": ""
            },
            "colorscale": [
             [
              0,
              "#0d0887"
             ],
             [
              0.1111111111111111,
              "#46039f"
             ],
             [
              0.2222222222222222,
              "#7201a8"
             ],
             [
              0.3333333333333333,
              "#9c179e"
             ],
             [
              0.4444444444444444,
              "#bd3786"
             ],
             [
              0.5555555555555556,
              "#d8576b"
             ],
             [
              0.6666666666666666,
              "#ed7953"
             ],
             [
              0.7777777777777778,
              "#fb9f3a"
             ],
             [
              0.8888888888888888,
              "#fdca26"
             ],
             [
              1,
              "#f0f921"
             ]
            ],
            "type": "contour"
           }
          ],
          "contourcarpet": [
           {
            "colorbar": {
             "outlinewidth": 0,
             "ticks": ""
            },
            "type": "contourcarpet"
           }
          ],
          "heatmap": [
           {
            "colorbar": {
             "outlinewidth": 0,
             "ticks": ""
            },
            "colorscale": [
             [
              0,
              "#0d0887"
             ],
             [
              0.1111111111111111,
              "#46039f"
             ],
             [
              0.2222222222222222,
              "#7201a8"
             ],
             [
              0.3333333333333333,
              "#9c179e"
             ],
             [
              0.4444444444444444,
              "#bd3786"
             ],
             [
              0.5555555555555556,
              "#d8576b"
             ],
             [
              0.6666666666666666,
              "#ed7953"
             ],
             [
              0.7777777777777778,
              "#fb9f3a"
             ],
             [
              0.8888888888888888,
              "#fdca26"
             ],
             [
              1,
              "#f0f921"
             ]
            ],
            "type": "heatmap"
           }
          ],
          "histogram": [
           {
            "marker": {
             "pattern": {
              "fillmode": "overlay",
              "size": 10,
              "solidity": 0.2
             }
            },
            "type": "histogram"
           }
          ],
          "histogram2d": [
           {
            "colorbar": {
             "outlinewidth": 0,
             "ticks": ""
            },
            "colorscale": [
             [
              0,
              "#0d0887"
             ],
             [
              0.1111111111111111,
              "#46039f"
             ],
             [
              0.2222222222222222,
              "#7201a8"
             ],
             [
              0.3333333333333333,
              "#9c179e"
             ],
             [
              0.4444444444444444,
              "#bd3786"
             ],
             [
              0.5555555555555556,
              "#d8576b"
             ],
             [
              0.6666666666666666,
              "#ed7953"
             ],
             [
              0.7777777777777778,
              "#fb9f3a"
             ],
             [
              0.8888888888888888,
              "#fdca26"
             ],
             [
              1,
              "#f0f921"
             ]
            ],
            "type": "histogram2d"
           }
          ],
          "histogram2dcontour": [
           {
            "colorbar": {
             "outlinewidth": 0,
             "ticks": ""
            },
            "colorscale": [
             [
              0,
              "#0d0887"
             ],
             [
              0.1111111111111111,
              "#46039f"
             ],
             [
              0.2222222222222222,
              "#7201a8"
             ],
             [
              0.3333333333333333,
              "#9c179e"
             ],
             [
              0.4444444444444444,
              "#bd3786"
             ],
             [
              0.5555555555555556,
              "#d8576b"
             ],
             [
              0.6666666666666666,
              "#ed7953"
             ],
             [
              0.7777777777777778,
              "#fb9f3a"
             ],
             [
              0.8888888888888888,
              "#fdca26"
             ],
             [
              1,
              "#f0f921"
             ]
            ],
            "type": "histogram2dcontour"
           }
          ],
          "mesh3d": [
           {
            "colorbar": {
             "outlinewidth": 0,
             "ticks": ""
            },
            "type": "mesh3d"
           }
          ],
          "parcoords": [
           {
            "line": {
             "colorbar": {
              "outlinewidth": 0,
              "ticks": ""
             }
            },
            "type": "parcoords"
           }
          ],
          "pie": [
           {
            "automargin": true,
            "type": "pie"
           }
          ],
          "scatter": [
           {
            "fillpattern": {
             "fillmode": "overlay",
             "size": 10,
             "solidity": 0.2
            },
            "type": "scatter"
           }
          ],
          "scatter3d": [
           {
            "line": {
             "colorbar": {
              "outlinewidth": 0,
              "ticks": ""
             }
            },
            "marker": {
             "colorbar": {
              "outlinewidth": 0,
              "ticks": ""
             }
            },
            "type": "scatter3d"
           }
          ],
          "scattercarpet": [
           {
            "marker": {
             "colorbar": {
              "outlinewidth": 0,
              "ticks": ""
             }
            },
            "type": "scattercarpet"
           }
          ],
          "scattergeo": [
           {
            "marker": {
             "colorbar": {
              "outlinewidth": 0,
              "ticks": ""
             }
            },
            "type": "scattergeo"
           }
          ],
          "scattergl": [
           {
            "marker": {
             "colorbar": {
              "outlinewidth": 0,
              "ticks": ""
             }
            },
            "type": "scattergl"
           }
          ],
          "scattermap": [
           {
            "marker": {
             "colorbar": {
              "outlinewidth": 0,
              "ticks": ""
             }
            },
            "type": "scattermap"
           }
          ],
          "scattermapbox": [
           {
            "marker": {
             "colorbar": {
              "outlinewidth": 0,
              "ticks": ""
             }
            },
            "type": "scattermapbox"
           }
          ],
          "scatterpolar": [
           {
            "marker": {
             "colorbar": {
              "outlinewidth": 0,
              "ticks": ""
             }
            },
            "type": "scatterpolar"
           }
          ],
          "scatterpolargl": [
           {
            "marker": {
             "colorbar": {
              "outlinewidth": 0,
              "ticks": ""
             }
            },
            "type": "scatterpolargl"
           }
          ],
          "scatterternary": [
           {
            "marker": {
             "colorbar": {
              "outlinewidth": 0,
              "ticks": ""
             }
            },
            "type": "scatterternary"
           }
          ],
          "surface": [
           {
            "colorbar": {
             "outlinewidth": 0,
             "ticks": ""
            },
            "colorscale": [
             [
              0,
              "#0d0887"
             ],
             [
              0.1111111111111111,
              "#46039f"
             ],
             [
              0.2222222222222222,
              "#7201a8"
             ],
             [
              0.3333333333333333,
              "#9c179e"
             ],
             [
              0.4444444444444444,
              "#bd3786"
             ],
             [
              0.5555555555555556,
              "#d8576b"
             ],
             [
              0.6666666666666666,
              "#ed7953"
             ],
             [
              0.7777777777777778,
              "#fb9f3a"
             ],
             [
              0.8888888888888888,
              "#fdca26"
             ],
             [
              1,
              "#f0f921"
             ]
            ],
            "type": "surface"
           }
          ],
          "table": [
           {
            "cells": {
             "fill": {
              "color": "#EBF0F8"
             },
             "line": {
              "color": "white"
             }
            },
            "header": {
             "fill": {
              "color": "#C8D4E3"
             },
             "line": {
              "color": "white"
             }
            },
            "type": "table"
           }
          ]
         },
         "layout": {
          "annotationdefaults": {
           "arrowcolor": "#2a3f5f",
           "arrowhead": 0,
           "arrowwidth": 1
          },
          "autotypenumbers": "strict",
          "coloraxis": {
           "colorbar": {
            "outlinewidth": 0,
            "ticks": ""
           }
          },
          "colorscale": {
           "diverging": [
            [
             0,
             "#8e0152"
            ],
            [
             0.1,
             "#c51b7d"
            ],
            [
             0.2,
             "#de77ae"
            ],
            [
             0.3,
             "#f1b6da"
            ],
            [
             0.4,
             "#fde0ef"
            ],
            [
             0.5,
             "#f7f7f7"
            ],
            [
             0.6,
             "#e6f5d0"
            ],
            [
             0.7,
             "#b8e186"
            ],
            [
             0.8,
             "#7fbc41"
            ],
            [
             0.9,
             "#4d9221"
            ],
            [
             1,
             "#276419"
            ]
           ],
           "sequential": [
            [
             0,
             "#0d0887"
            ],
            [
             0.1111111111111111,
             "#46039f"
            ],
            [
             0.2222222222222222,
             "#7201a8"
            ],
            [
             0.3333333333333333,
             "#9c179e"
            ],
            [
             0.4444444444444444,
             "#bd3786"
            ],
            [
             0.5555555555555556,
             "#d8576b"
            ],
            [
             0.6666666666666666,
             "#ed7953"
            ],
            [
             0.7777777777777778,
             "#fb9f3a"
            ],
            [
             0.8888888888888888,
             "#fdca26"
            ],
            [
             1,
             "#f0f921"
            ]
           ],
           "sequentialminus": [
            [
             0,
             "#0d0887"
            ],
            [
             0.1111111111111111,
             "#46039f"
            ],
            [
             0.2222222222222222,
             "#7201a8"
            ],
            [
             0.3333333333333333,
             "#9c179e"
            ],
            [
             0.4444444444444444,
             "#bd3786"
            ],
            [
             0.5555555555555556,
             "#d8576b"
            ],
            [
             0.6666666666666666,
             "#ed7953"
            ],
            [
             0.7777777777777778,
             "#fb9f3a"
            ],
            [
             0.8888888888888888,
             "#fdca26"
            ],
            [
             1,
             "#f0f921"
            ]
           ]
          },
          "colorway": [
           "#636efa",
           "#EF553B",
           "#00cc96",
           "#ab63fa",
           "#FFA15A",
           "#19d3f3",
           "#FF6692",
           "#B6E880",
           "#FF97FF",
           "#FECB52"
          ],
          "font": {
           "color": "#2a3f5f"
          },
          "geo": {
           "bgcolor": "white",
           "lakecolor": "white",
           "landcolor": "#E5ECF6",
           "showlakes": true,
           "showland": true,
           "subunitcolor": "white"
          },
          "hoverlabel": {
           "align": "left"
          },
          "hovermode": "closest",
          "mapbox": {
           "style": "light"
          },
          "paper_bgcolor": "white",
          "plot_bgcolor": "#E5ECF6",
          "polar": {
           "angularaxis": {
            "gridcolor": "white",
            "linecolor": "white",
            "ticks": ""
           },
           "bgcolor": "#E5ECF6",
           "radialaxis": {
            "gridcolor": "white",
            "linecolor": "white",
            "ticks": ""
           }
          },
          "scene": {
           "xaxis": {
            "backgroundcolor": "#E5ECF6",
            "gridcolor": "white",
            "gridwidth": 2,
            "linecolor": "white",
            "showbackground": true,
            "ticks": "",
            "zerolinecolor": "white"
           },
           "yaxis": {
            "backgroundcolor": "#E5ECF6",
            "gridcolor": "white",
            "gridwidth": 2,
            "linecolor": "white",
            "showbackground": true,
            "ticks": "",
            "zerolinecolor": "white"
           },
           "zaxis": {
            "backgroundcolor": "#E5ECF6",
            "gridcolor": "white",
            "gridwidth": 2,
            "linecolor": "white",
            "showbackground": true,
            "ticks": "",
            "zerolinecolor": "white"
           }
          },
          "shapedefaults": {
           "line": {
            "color": "#2a3f5f"
           }
          },
          "ternary": {
           "aaxis": {
            "gridcolor": "white",
            "linecolor": "white",
            "ticks": ""
           },
           "baxis": {
            "gridcolor": "white",
            "linecolor": "white",
            "ticks": ""
           },
           "bgcolor": "#E5ECF6",
           "caxis": {
            "gridcolor": "white",
            "linecolor": "white",
            "ticks": ""
           }
          },
          "title": {
           "x": 0.05
          },
          "xaxis": {
           "automargin": true,
           "gridcolor": "white",
           "linecolor": "white",
           "ticks": "",
           "title": {
            "standoff": 15
           },
           "zerolinecolor": "white",
           "zerolinewidth": 2
          },
          "yaxis": {
           "automargin": true,
           "gridcolor": "white",
           "linecolor": "white",
           "ticks": "",
           "title": {
            "standoff": 15
           },
           "zerolinecolor": "white",
           "zerolinewidth": 2
          }
         }
        },
        "xaxis": {
         "anchor": "y",
         "categoryarray": [
          "strongly agree",
          "agree",
          "neither agree nor disagree",
          "disagree",
          "strongly disagree"
         ],
         "categoryorder": "array",
         "domain": [
          0,
          1
         ],
         "title": {
          "text": "Response to \"Man is Achiever, Woman is Homemaker\""
         }
        },
        "yaxis": {
         "anchor": "x",
         "domain": [
          0,
          1
         ],
         "title": {
          "text": "Number of Respondents"
         }
        }
       }
      },
      "text/html": [
       "<div>            <script src=\"https://cdnjs.cloudflare.com/ajax/libs/mathjax/2.7.5/MathJax.js?config=TeX-AMS-MML_SVG\"></script><script type=\"text/javascript\">if (window.MathJax && window.MathJax.Hub && window.MathJax.Hub.Config) {window.MathJax.Hub.Config({SVG: {font: \"STIX-Web\"}});}</script>                <script type=\"text/javascript\">window.PlotlyConfig = {MathJaxConfig: 'local'};</script>\n",
       "        <script charset=\"utf-8\" src=\"https://cdn.plot.ly/plotly-3.0.1.min.js\"></script>                <div id=\"8c18545e-a64b-47bc-92a2-40d985309871\" class=\"plotly-graph-div\" style=\"height:525px; width:100%;\"></div>            <script type=\"text/javascript\">                window.PLOTLYENV=window.PLOTLYENV || {};                                if (document.getElementById(\"8c18545e-a64b-47bc-92a2-40d985309871\")) {                    Plotly.newPlot(                        \"8c18545e-a64b-47bc-92a2-40d985309871\",                        [{\"alignmentgroup\":\"True\",\"hovertemplate\":\"Sex=male\\u003cbr\\u003eResponse to \\\"Man is Achiever, Woman is Homemaker\\\"=%{x}\\u003cbr\\u003eNumber of Respondents=%{y}\\u003cextra\\u003e\\u003c\\u002fextra\\u003e\",\"legendgroup\":\"male\",\"marker\":{\"color\":\"#636efa\",\"pattern\":{\"shape\":\"\"}},\"name\":\"male\",\"offsetgroup\":\"male\",\"orientation\":\"v\",\"showlegend\":true,\"textposition\":\"auto\",\"x\":[\"disagree\",\"disagree\",\"disagree\",\"strongly disagree\",\"strongly disagree\",\"strongly disagree\",\"disagree\",\"disagree\",\"disagree\",\"strongly disagree\",\"disagree\",\"disagree\",\"strongly agree\",\"disagree\",\"disagree\",\"disagree\",\"strongly disagree\",\"strongly disagree\",\"agree\",\"disagree\",\"strongly disagree\",\"strongly disagree\",\"agree\",\"strongly disagree\",\"disagree\",\"agree\",\"strongly disagree\",\"disagree\",\"strongly disagree\",\"disagree\",\"disagree\",\"strongly disagree\",\"agree\",\"disagree\",\"disagree\",\"strongly disagree\",\"strongly disagree\",\"strongly disagree\",\"disagree\",\"agree\",\"disagree\",\"disagree\",\"disagree\",\"agree\",\"agree\",\"disagree\",\"agree\",\"agree\",\"disagree\",\"agree\",\"strongly disagree\",\"disagree\",\"disagree\",\"agree\",\"disagree\",\"agree\",\"strongly disagree\",\"agree\",\"agree\",\"strongly disagree\",\"disagree\",\"disagree\",\"disagree\",\"disagree\",\"agree\",\"disagree\",\"disagree\",\"disagree\",\"disagree\",\"strongly disagree\",\"disagree\",\"agree\",\"agree\",\"disagree\",\"strongly disagree\",\"strongly disagree\",\"disagree\",\"disagree\",\"disagree\",\"disagree\",\"disagree\",\"disagree\",\"strongly disagree\",\"disagree\",\"agree\",\"agree\",\"strongly disagree\",\"strongly agree\",\"disagree\",\"disagree\",\"disagree\",\"agree\",\"disagree\",\"strongly agree\",\"disagree\",\"strongly disagree\",\"agree\",\"disagree\",\"strongly disagree\",\"disagree\",\"strongly disagree\",\"agree\",\"disagree\",\"disagree\",\"strongly disagree\",\"disagree\",\"strongly disagree\",\"strongly disagree\",\"agree\",\"strongly disagree\",\"strongly disagree\",\"disagree\",\"agree\",\"strongly disagree\",\"agree\",\"strongly disagree\",\"disagree\",\"disagree\",\"strongly disagree\",\"agree\",\"agree\",\"disagree\",\"disagree\",\"disagree\",\"strongly disagree\",\"strongly agree\",\"disagree\",\"agree\",\"agree\",\"agree\",\"disagree\",\"disagree\",\"strongly disagree\",\"disagree\",\"agree\",\"disagree\",\"strongly disagree\",\"disagree\",\"disagree\",\"disagree\",\"strongly disagree\",\"agree\",\"strongly disagree\",\"disagree\",\"disagree\",\"strongly disagree\",\"disagree\",\"disagree\",\"agree\",\"strongly disagree\",\"strongly disagree\",\"disagree\",\"disagree\",\"disagree\",\"strongly disagree\",\"disagree\",\"strongly disagree\",\"disagree\",\"agree\",\"strongly disagree\",\"disagree\",\"strongly agree\",\"strongly agree\",\"agree\",\"strongly agree\",\"disagree\",\"disagree\",\"agree\",\"agree\",\"disagree\",\"disagree\",\"disagree\",\"agree\",\"agree\",\"disagree\",\"disagree\",\"disagree\",\"strongly disagree\",\"agree\",\"strongly disagree\",\"disagree\",\"disagree\",\"strongly disagree\",\"disagree\",\"disagree\",\"agree\",\"strongly disagree\",\"strongly disagree\",\"agree\",\"disagree\",\"disagree\",\"strongly agree\",\"disagree\",\"strongly agree\",\"disagree\",\"strongly agree\",\"disagree\",\"disagree\",\"disagree\",\"disagree\",\"disagree\",\"disagree\",\"disagree\",\"disagree\",\"strongly disagree\",\"disagree\",\"disagree\",\"strongly disagree\",\"strongly disagree\",\"disagree\",\"strongly agree\",\"strongly disagree\",\"disagree\",\"agree\",\"disagree\",\"disagree\",\"disagree\",\"disagree\",\"strongly disagree\",\"agree\",\"strongly disagree\",\"strongly disagree\",\"strongly disagree\",\"strongly disagree\",\"disagree\",\"agree\",\"disagree\",\"disagree\",\"disagree\",\"disagree\",\"agree\",\"disagree\",\"disagree\",\"disagree\",\"strongly agree\",\"disagree\",\"strongly disagree\",\"agree\",\"disagree\",\"strongly agree\",\"strongly disagree\",\"agree\",\"disagree\",\"disagree\",\"strongly disagree\",\"disagree\",\"strongly disagree\",\"agree\",\"disagree\",\"agree\",\"disagree\",\"agree\",\"disagree\",\"disagree\",\"strongly disagree\",\"disagree\",\"disagree\",\"strongly disagree\",\"disagree\",\"disagree\",\"agree\",\"disagree\",\"strongly disagree\",\"agree\",\"disagree\",\"strongly disagree\",\"agree\",\"disagree\",\"agree\",\"disagree\",\"disagree\",\"strongly disagree\",\"agree\",\"strongly disagree\",\"disagree\",\"agree\",\"strongly agree\",\"strongly disagree\",\"strongly disagree\",\"disagree\",\"disagree\",\"strongly disagree\",\"strongly disagree\",\"disagree\",\"disagree\",\"strongly disagree\",\"disagree\",\"disagree\",\"disagree\",\"disagree\",\"strongly agree\",\"strongly disagree\",\"strongly disagree\",\"strongly disagree\",\"strongly disagree\",\"disagree\",\"disagree\",\"strongly disagree\",\"strongly disagree\",\"strongly disagree\",\"strongly disagree\",\"agree\",\"disagree\",\"disagree\",\"agree\",\"disagree\",\"disagree\",\"disagree\",\"disagree\",\"disagree\",\"strongly disagree\",\"strongly agree\",\"disagree\",\"strongly disagree\",\"agree\",\"strongly disagree\",\"disagree\",\"strongly disagree\",\"disagree\",\"disagree\",\"disagree\",\"disagree\",\"disagree\",\"strongly disagree\",\"disagree\",\"disagree\",\"strongly disagree\",\"strongly disagree\",\"strongly disagree\",\"disagree\",\"strongly disagree\",\"strongly disagree\",\"disagree\",\"agree\",\"strongly disagree\",\"disagree\",\"disagree\",\"agree\",\"agree\",\"agree\",\"strongly disagree\",\"agree\",\"strongly disagree\",\"strongly disagree\",\"disagree\",\"agree\",\"disagree\",\"agree\",\"strongly disagree\",\"strongly disagree\",\"disagree\",\"agree\",\"agree\",\"agree\",\"agree\",\"disagree\",\"strongly disagree\",\"agree\",\"agree\",\"strongly disagree\",\"strongly disagree\",\"agree\",\"strongly disagree\",\"disagree\",\"disagree\",\"strongly disagree\",\"disagree\",\"disagree\",\"agree\",\"disagree\",\"agree\",\"disagree\",\"disagree\",\"strongly disagree\",\"strongly agree\",\"disagree\",\"strongly agree\",\"disagree\",\"disagree\",\"disagree\",\"disagree\",\"disagree\",\"disagree\",\"disagree\",\"disagree\",\"agree\",\"disagree\",\"agree\",\"strongly disagree\",\"strongly disagree\",\"disagree\",\"disagree\",\"agree\",\"strongly disagree\",\"disagree\",\"disagree\",\"agree\",\"disagree\",\"strongly agree\",\"disagree\",\"disagree\",\"disagree\",\"agree\",\"disagree\",\"disagree\",\"disagree\",\"strongly disagree\",\"strongly disagree\",\"disagree\",\"strongly agree\",\"disagree\",\"strongly disagree\",\"disagree\",\"agree\",\"disagree\",\"disagree\",\"disagree\",\"strongly disagree\",\"agree\",\"disagree\",\"disagree\",\"agree\",\"disagree\",\"disagree\",\"disagree\",\"agree\",\"strongly agree\",\"agree\",\"disagree\",\"disagree\",\"disagree\",\"disagree\",\"agree\",\"strongly disagree\",\"strongly disagree\",\"strongly disagree\",\"strongly agree\",\"agree\",\"agree\",\"agree\",\"strongly disagree\",\"strongly agree\",\"disagree\",\"disagree\",\"strongly disagree\",\"disagree\",\"agree\",\"disagree\",\"agree\",\"agree\",\"strongly disagree\",\"disagree\",\"disagree\",\"disagree\",\"disagree\",\"disagree\",\"agree\",\"strongly agree\",\"agree\",\"disagree\",\"strongly agree\",\"disagree\",\"agree\",\"disagree\",\"disagree\",\"agree\",\"disagree\",\"disagree\",\"disagree\",\"agree\",\"disagree\",\"disagree\",\"disagree\",\"disagree\",\"disagree\",\"strongly disagree\",\"disagree\",\"strongly disagree\",\"agree\",\"disagree\",\"disagree\",\"disagree\",\"agree\",\"disagree\",\"agree\",\"disagree\",\"strongly disagree\",\"disagree\",\"strongly disagree\",\"agree\",\"agree\",\"disagree\",\"strongly disagree\",\"disagree\",\"disagree\",\"agree\",\"agree\",\"disagree\",\"strongly disagree\",\"agree\",\"disagree\",\"strongly disagree\",\"disagree\",\"disagree\",\"agree\",\"disagree\",\"strongly disagree\",\"agree\",\"disagree\",\"disagree\",\"disagree\",\"disagree\",\"disagree\",\"disagree\",\"agree\",\"disagree\",\"disagree\",\"strongly agree\",\"agree\",\"strongly disagree\",\"strongly agree\",\"disagree\",\"strongly agree\",\"agree\",\"disagree\",\"strongly disagree\",\"disagree\",\"disagree\",\"agree\",\"disagree\",\"strongly disagree\",\"agree\",\"disagree\",\"disagree\",\"disagree\",\"disagree\",\"strongly agree\",\"strongly disagree\",\"agree\",\"disagree\",\"agree\",\"disagree\",\"disagree\",\"agree\",\"disagree\",\"agree\",\"disagree\",\"agree\",\"disagree\",\"agree\",\"strongly agree\",\"disagree\",\"strongly agree\",\"disagree\",\"agree\",\"disagree\",\"disagree\",\"disagree\",\"disagree\",\"agree\",\"disagree\",\"disagree\",\"disagree\",\"disagree\",\"strongly disagree\",\"strongly disagree\",\"disagree\",\"disagree\",\"disagree\",\"strongly disagree\",\"agree\",\"disagree\",\"disagree\",\"strongly agree\",\"strongly disagree\",\"disagree\",\"agree\",\"disagree\",\"disagree\",\"agree\",\"disagree\",\"disagree\",\"agree\",\"agree\",\"agree\",\"strongly disagree\",\"agree\",\"disagree\",\"disagree\",\"agree\",\"disagree\",\"agree\",\"disagree\",\"agree\",\"agree\",\"agree\",\"disagree\",\"strongly disagree\",\"agree\",\"strongly disagree\",\"disagree\",\"disagree\",\"disagree\",\"agree\",\"disagree\",\"agree\",\"disagree\",\"disagree\",\"disagree\",\"agree\",\"agree\",\"disagree\",\"strongly agree\",\"agree\",\"strongly disagree\",\"disagree\",\"disagree\",\"agree\",\"strongly agree\",\"agree\",\"disagree\",\"disagree\",\"agree\",\"agree\",\"disagree\",\"strongly disagree\",\"disagree\",\"strongly disagree\",\"disagree\",\"strongly agree\",\"disagree\",\"disagree\",\"agree\",\"disagree\",\"agree\",\"agree\",\"strongly disagree\",\"disagree\",\"agree\",\"strongly disagree\",\"strongly disagree\",\"strongly agree\",\"disagree\",\"disagree\",\"disagree\",\"disagree\",\"agree\",\"disagree\",\"disagree\",\"disagree\",\"disagree\",\"strongly disagree\",\"agree\",\"disagree\",\"disagree\",\"disagree\",\"agree\",\"agree\",\"agree\",\"disagree\",\"strongly disagree\",\"strongly disagree\",\"strongly agree\",\"strongly agree\",\"agree\",\"disagree\",\"disagree\",\"strongly disagree\",\"strongly agree\",\"agree\",\"agree\",\"disagree\",\"agree\",\"disagree\",\"strongly agree\",\"agree\",\"disagree\",\"disagree\",\"disagree\",\"strongly disagree\",\"disagree\",\"agree\"],\"xaxis\":\"x\",\"y\":{\"dtype\":\"i1\",\"bdata\":\"AQEBAQEBAQEBAQEBAQEBAQEBAQEBAQEBAQEBAQEBAQEBAQEBAQEBAQEBAQEBAQEBAQEBAQEBAQEBAQEBAQEBAQEBAQEBAQEBAQEBAQEBAQEBAQEBAQEBAQEBAQEBAQEBAQEBAQEBAQEBAQEBAQEBAQEBAQEBAQEBAQEBAQEBAQEBAQEBAQEBAQEBAQEBAQEBAQEBAQEBAQEBAQEBAQEBAQEBAQEBAQEBAQEBAQEBAQEBAQEBAQEBAQEBAQEBAQEBAQEBAQEBAQEBAQEBAQEBAQEBAQEBAQEBAQEBAQEBAQEBAQEBAQEBAQEBAQEBAQEBAQEBAQEBAQEBAQEBAQEBAQEBAQEBAQEBAQEBAQEBAQEBAQEBAQEBAQEBAQEBAQEBAQEBAQEBAQEBAQEBAQEBAQEBAQEBAQEBAQEBAQEBAQEBAQEBAQEBAQEBAQEBAQEBAQEBAQEBAQEBAQEBAQEBAQEBAQEBAQEBAQEBAQEBAQEBAQEBAQEBAQEBAQEBAQEBAQEBAQEBAQEBAQEBAQEBAQEBAQEBAQEBAQEBAQEBAQEBAQEBAQEBAQEBAQEBAQEBAQEBAQEBAQEBAQEBAQEBAQEBAQEBAQEBAQEBAQEBAQEBAQEBAQEBAQEBAQEBAQEBAQEBAQEBAQEBAQEBAQEBAQEBAQEBAQEBAQEBAQEBAQEBAQEBAQEBAQEBAQEBAQEBAQEBAQEBAQEBAQEBAQEBAQEBAQEBAQEBAQEBAQEBAQEBAQEBAQEBAQEBAQEBAQEBAQEBAQEBAQEBAQEBAQEBAQEBAQEBAQEBAQEBAQEBAQEBAQEBAQEBAQEBAQEBAQEBAQEBAQEBAQEBAQEBAQEBAQEBAQEBAQEBAQEBAQEBAQEBAQEBAQEBAQEBAQEBAQEBAQEBAQEBAQEBAQ==\"},\"yaxis\":\"y\",\"type\":\"bar\"},{\"alignmentgroup\":\"True\",\"hovertemplate\":\"Sex=female\\u003cbr\\u003eResponse to \\\"Man is Achiever, Woman is Homemaker\\\"=%{x}\\u003cbr\\u003eNumber of Respondents=%{y}\\u003cextra\\u003e\\u003c\\u002fextra\\u003e\",\"legendgroup\":\"female\",\"marker\":{\"color\":\"#EF553B\",\"pattern\":{\"shape\":\"\"}},\"name\":\"female\",\"offsetgroup\":\"female\",\"orientation\":\"v\",\"showlegend\":true,\"textposition\":\"auto\",\"x\":[\"disagree\",\"disagree\",\"strongly disagree\",\"disagree\",\"disagree\",\"strongly disagree\",\"disagree\",\"strongly disagree\",\"agree\",\"disagree\",\"strongly disagree\",\"disagree\",\"disagree\",\"agree\",\"disagree\",\"strongly disagree\",\"strongly disagree\",\"agree\",\"disagree\",\"disagree\",\"disagree\",\"disagree\",\"disagree\",\"strongly disagree\",\"strongly disagree\",\"strongly disagree\",\"strongly disagree\",\"disagree\",\"strongly disagree\",\"agree\",\"disagree\",\"agree\",\"disagree\",\"strongly disagree\",\"agree\",\"agree\",\"strongly disagree\",\"strongly disagree\",\"agree\",\"disagree\",\"strongly disagree\",\"disagree\",\"disagree\",\"strongly disagree\",\"agree\",\"strongly disagree\",\"disagree\",\"strongly disagree\",\"agree\",\"disagree\",\"disagree\",\"agree\",\"disagree\",\"disagree\",\"strongly disagree\",\"agree\",\"disagree\",\"strongly agree\",\"disagree\",\"disagree\",\"disagree\",\"strongly disagree\",\"disagree\",\"disagree\",\"strongly disagree\",\"disagree\",\"agree\",\"disagree\",\"disagree\",\"agree\",\"disagree\",\"strongly disagree\",\"agree\",\"strongly disagree\",\"disagree\",\"strongly disagree\",\"agree\",\"disagree\",\"strongly disagree\",\"disagree\",\"strongly disagree\",\"strongly disagree\",\"disagree\",\"strongly disagree\",\"disagree\",\"disagree\",\"disagree\",\"agree\",\"strongly disagree\",\"strongly disagree\",\"agree\",\"strongly disagree\",\"agree\",\"agree\",\"disagree\",\"agree\",\"strongly disagree\",\"disagree\",\"disagree\",\"strongly agree\",\"agree\",\"strongly disagree\",\"strongly disagree\",\"strongly disagree\",\"strongly disagree\",\"strongly disagree\",\"disagree\",\"strongly disagree\",\"disagree\",\"strongly disagree\",\"strongly disagree\",\"disagree\",\"strongly disagree\",\"agree\",\"disagree\",\"strongly disagree\",\"strongly disagree\",\"strongly disagree\",\"disagree\",\"strongly disagree\",\"agree\",\"agree\",\"agree\",\"agree\",\"strongly disagree\",\"agree\",\"disagree\",\"strongly disagree\",\"disagree\",\"strongly agree\",\"disagree\",\"strongly agree\",\"disagree\",\"disagree\",\"agree\",\"strongly disagree\",\"disagree\",\"disagree\",\"strongly disagree\",\"disagree\",\"strongly disagree\",\"disagree\",\"strongly disagree\",\"disagree\",\"strongly disagree\",\"strongly disagree\",\"strongly disagree\",\"strongly agree\",\"strongly disagree\",\"strongly disagree\",\"agree\",\"strongly disagree\",\"disagree\",\"agree\",\"strongly agree\",\"agree\",\"disagree\",\"disagree\",\"disagree\",\"disagree\",\"agree\",\"disagree\",\"agree\",\"disagree\",\"agree\",\"disagree\",\"strongly disagree\",\"disagree\",\"disagree\",\"strongly disagree\",\"disagree\",\"disagree\",\"strongly disagree\",\"strongly disagree\",\"agree\",\"strongly disagree\",\"disagree\",\"disagree\",\"strongly disagree\",\"agree\",\"disagree\",\"strongly disagree\",\"strongly disagree\",\"strongly disagree\",\"disagree\",\"strongly disagree\",\"disagree\",\"strongly disagree\",\"strongly disagree\",\"strongly disagree\",\"strongly disagree\",\"disagree\",\"disagree\",\"strongly disagree\",\"disagree\",\"strongly agree\",\"disagree\",\"strongly disagree\",\"strongly disagree\",\"disagree\",\"disagree\",\"agree\",\"agree\",\"strongly disagree\",\"agree\",\"agree\",\"strongly disagree\",\"strongly agree\",\"agree\",\"disagree\",\"agree\",\"strongly agree\",\"strongly disagree\",\"strongly disagree\",\"disagree\",\"disagree\",\"disagree\",\"disagree\",\"strongly disagree\",\"disagree\",\"strongly disagree\",\"strongly agree\",\"disagree\",\"strongly disagree\",\"strongly disagree\",\"strongly disagree\",\"strongly disagree\",\"strongly agree\",\"disagree\",\"disagree\",\"strongly disagree\",\"disagree\",\"disagree\",\"agree\",\"disagree\",\"strongly disagree\",\"agree\",\"strongly agree\",\"disagree\",\"disagree\",\"disagree\",\"disagree\",\"agree\",\"disagree\",\"agree\",\"disagree\",\"disagree\",\"disagree\",\"disagree\",\"disagree\",\"strongly disagree\",\"strongly agree\",\"strongly agree\",\"strongly agree\",\"disagree\",\"strongly disagree\",\"strongly disagree\",\"disagree\",\"disagree\",\"disagree\",\"disagree\",\"agree\",\"disagree\",\"disagree\",\"disagree\",\"disagree\",\"agree\",\"strongly agree\",\"disagree\",\"strongly disagree\",\"agree\",\"disagree\",\"strongly disagree\",\"strongly disagree\",\"agree\",\"strongly disagree\",\"agree\",\"strongly agree\",\"strongly disagree\",\"strongly disagree\",\"disagree\",\"agree\",\"strongly disagree\",\"strongly disagree\",\"agree\",\"disagree\",\"disagree\",\"disagree\",\"agree\",\"disagree\",\"strongly disagree\",\"strongly disagree\",\"disagree\",\"disagree\",\"strongly disagree\",\"disagree\",\"disagree\",\"strongly disagree\",\"strongly disagree\",\"disagree\",\"disagree\",\"strongly disagree\",\"strongly disagree\",\"strongly agree\",\"disagree\",\"disagree\",\"strongly disagree\",\"strongly disagree\",\"disagree\",\"strongly disagree\",\"strongly disagree\",\"disagree\",\"disagree\",\"disagree\",\"strongly disagree\",\"strongly disagree\",\"disagree\",\"strongly disagree\",\"disagree\",\"agree\",\"agree\",\"disagree\",\"disagree\",\"strongly disagree\",\"strongly disagree\",\"agree\",\"disagree\",\"strongly agree\",\"strongly disagree\",\"strongly disagree\",\"disagree\",\"strongly disagree\",\"strongly disagree\",\"strongly disagree\",\"agree\",\"agree\",\"strongly disagree\",\"agree\",\"disagree\",\"strongly disagree\",\"disagree\",\"disagree\",\"agree\",\"strongly disagree\",\"strongly disagree\",\"strongly disagree\",\"strongly disagree\",\"strongly disagree\",\"disagree\",\"disagree\",\"strongly agree\",\"disagree\",\"strongly disagree\",\"agree\",\"disagree\",\"strongly agree\",\"strongly disagree\",\"strongly disagree\",\"agree\",\"strongly disagree\",\"agree\",\"strongly disagree\",\"disagree\",\"strongly disagree\",\"strongly disagree\",\"disagree\",\"strongly disagree\",\"strongly disagree\",\"strongly agree\",\"strongly agree\",\"disagree\",\"strongly disagree\",\"agree\",\"disagree\",\"disagree\",\"disagree\",\"disagree\",\"strongly disagree\",\"disagree\",\"strongly disagree\",\"strongly disagree\",\"disagree\",\"disagree\",\"agree\",\"strongly disagree\",\"strongly disagree\",\"strongly disagree\",\"disagree\",\"agree\",\"strongly agree\",\"agree\",\"disagree\",\"disagree\",\"agree\",\"disagree\",\"disagree\",\"disagree\",\"disagree\",\"disagree\",\"strongly disagree\",\"strongly disagree\",\"disagree\",\"disagree\",\"disagree\",\"strongly disagree\",\"strongly agree\",\"strongly disagree\",\"agree\",\"strongly disagree\",\"agree\",\"strongly disagree\",\"agree\",\"strongly disagree\",\"strongly disagree\",\"disagree\",\"disagree\",\"disagree\",\"agree\",\"disagree\",\"strongly disagree\",\"strongly disagree\",\"disagree\",\"disagree\",\"strongly disagree\",\"disagree\",\"agree\",\"disagree\",\"disagree\",\"disagree\",\"strongly disagree\",\"disagree\",\"disagree\",\"disagree\",\"strongly disagree\",\"disagree\",\"disagree\",\"strongly disagree\",\"disagree\",\"disagree\",\"disagree\",\"disagree\",\"strongly disagree\",\"agree\",\"strongly disagree\",\"disagree\",\"strongly disagree\",\"disagree\",\"strongly agree\",\"strongly disagree\",\"disagree\",\"agree\",\"disagree\",\"strongly disagree\",\"disagree\",\"agree\",\"strongly disagree\",\"disagree\",\"disagree\",\"strongly disagree\",\"agree\",\"disagree\",\"agree\",\"strongly disagree\",\"disagree\",\"strongly disagree\",\"disagree\",\"disagree\",\"strongly disagree\",\"disagree\",\"disagree\",\"strongly disagree\",\"strongly disagree\",\"disagree\",\"strongly disagree\",\"agree\",\"strongly disagree\",\"disagree\",\"disagree\",\"agree\",\"disagree\",\"disagree\",\"strongly disagree\",\"strongly agree\",\"strongly agree\",\"agree\",\"agree\",\"strongly disagree\",\"disagree\",\"disagree\",\"strongly disagree\",\"strongly disagree\",\"strongly disagree\",\"strongly disagree\",\"strongly disagree\",\"disagree\",\"strongly disagree\",\"disagree\",\"disagree\",\"agree\",\"disagree\",\"agree\",\"strongly disagree\",\"disagree\",\"agree\",\"strongly agree\",\"agree\",\"agree\",\"disagree\",\"disagree\",\"disagree\",\"strongly disagree\",\"disagree\",\"disagree\",\"strongly disagree\",\"disagree\",\"strongly disagree\",\"disagree\",\"disagree\",\"strongly disagree\",\"disagree\",\"disagree\",\"disagree\",\"strongly disagree\",\"disagree\",\"disagree\",\"strongly agree\",\"disagree\",\"disagree\",\"strongly disagree\",\"disagree\",\"disagree\",\"strongly disagree\",\"agree\",\"disagree\",\"disagree\",\"disagree\",\"agree\",\"disagree\",\"agree\",\"strongly disagree\",\"strongly disagree\",\"disagree\",\"strongly disagree\",\"strongly disagree\",\"disagree\",\"agree\",\"agree\",\"strongly agree\",\"disagree\",\"disagree\",\"strongly disagree\",\"strongly disagree\",\"disagree\",\"agree\",\"disagree\",\"disagree\",\"agree\",\"disagree\",\"agree\",\"disagree\",\"strongly agree\",\"disagree\",\"disagree\",\"disagree\",\"disagree\",\"disagree\",\"agree\",\"disagree\",\"disagree\",\"disagree\",\"strongly disagree\",\"disagree\",\"disagree\",\"strongly disagree\",\"strongly agree\",\"disagree\",\"disagree\",\"disagree\",\"agree\",\"disagree\",\"agree\",\"strongly disagree\",\"agree\",\"disagree\",\"disagree\",\"strongly agree\",\"disagree\",\"strongly disagree\",\"strongly disagree\",\"strongly disagree\",\"strongly agree\",\"disagree\",\"disagree\",\"agree\",\"strongly disagree\",\"disagree\",\"disagree\",\"agree\",\"disagree\",\"agree\",\"strongly disagree\",\"strongly disagree\",\"agree\",\"disagree\",\"strongly disagree\",\"agree\",\"strongly agree\",\"disagree\",\"strongly disagree\",\"disagree\",\"disagree\",\"agree\",\"agree\",\"disagree\",\"strongly disagree\",\"disagree\",\"agree\",\"strongly disagree\",\"agree\",\"strongly disagree\",\"disagree\",\"disagree\",\"strongly disagree\",\"disagree\",\"strongly disagree\",\"disagree\",\"strongly disagree\",\"strongly disagree\",\"disagree\",\"disagree\",\"strongly agree\",\"strongly disagree\",\"disagree\",\"agree\",\"agree\",\"disagree\",\"agree\",\"disagree\",\"strongly disagree\",\"strongly disagree\",\"disagree\",\"disagree\",\"strongly disagree\",\"disagree\",\"strongly disagree\",\"disagree\",\"disagree\",\"disagree\",\"disagree\",\"strongly disagree\",\"disagree\",\"disagree\",\"strongly agree\",\"strongly disagree\",\"strongly disagree\",\"strongly disagree\",\"disagree\",\"strongly disagree\",\"strongly disagree\",\"strongly agree\",\"agree\",\"strongly disagree\",\"disagree\",\"strongly disagree\",\"disagree\",\"strongly disagree\",\"strongly disagree\",\"agree\",\"disagree\",\"disagree\",\"agree\",\"strongly disagree\",\"disagree\",\"disagree\",\"disagree\",\"disagree\",\"disagree\",\"strongly disagree\",\"strongly disagree\",\"disagree\",\"disagree\",\"strongly disagree\",\"disagree\",\"disagree\",\"disagree\",\"agree\",\"strongly disagree\",\"disagree\",\"disagree\",\"agree\",\"agree\",\"agree\",\"agree\",\"agree\",\"strongly disagree\",\"agree\",\"disagree\",\"strongly agree\",\"agree\",\"strongly disagree\",\"disagree\",\"strongly disagree\",\"strongly disagree\",\"disagree\",\"agree\",\"strongly disagree\",\"strongly disagree\",\"strongly disagree\",\"agree\",\"strongly disagree\",\"strongly disagree\",\"disagree\",\"disagree\",\"disagree\",\"disagree\",\"agree\",\"agree\",\"strongly agree\",\"disagree\",\"disagree\",\"strongly agree\",\"disagree\",\"agree\",\"disagree\",\"disagree\",\"agree\",\"agree\",\"disagree\",\"disagree\",\"strongly disagree\",\"strongly disagree\",\"disagree\",\"disagree\",\"disagree\",\"strongly disagree\",\"strongly disagree\",\"disagree\",\"strongly agree\",\"strongly disagree\",\"agree\",\"strongly disagree\",\"disagree\",\"strongly disagree\",\"disagree\",\"disagree\",\"strongly disagree\",\"strongly disagree\",\"disagree\",\"strongly disagree\",\"disagree\",\"agree\",\"disagree\",\"strongly disagree\",\"strongly disagree\",\"agree\",\"strongly disagree\",\"disagree\",\"agree\",\"strongly disagree\",\"strongly disagree\",\"agree\",\"disagree\",\"disagree\",\"disagree\",\"agree\",\"disagree\",\"disagree\",\"agree\",\"disagree\",\"disagree\",\"strongly disagree\",\"agree\",\"disagree\",\"disagree\",\"strongly agree\",\"agree\",\"agree\",\"agree\",\"strongly disagree\",\"disagree\",\"disagree\",\"disagree\",\"strongly disagree\",\"strongly disagree\",\"disagree\",\"disagree\",\"disagree\",\"disagree\",\"disagree\",\"agree\",\"strongly agree\",\"strongly disagree\",\"strongly disagree\",\"disagree\",\"disagree\",\"strongly disagree\",\"disagree\",\"agree\",\"disagree\",\"disagree\",\"agree\",\"strongly disagree\",\"disagree\",\"disagree\",\"strongly disagree\",\"strongly disagree\",\"strongly disagree\",\"disagree\",\"disagree\",\"strongly disagree\",\"agree\",\"disagree\",\"disagree\",\"strongly disagree\",\"strongly disagree\",\"strongly disagree\",\"disagree\",\"disagree\",\"disagree\",\"disagree\",\"agree\",\"disagree\",\"disagree\",\"strongly disagree\",\"disagree\",\"strongly disagree\",\"disagree\",\"agree\",\"disagree\",\"disagree\",\"agree\",\"disagree\",\"strongly disagree\",\"disagree\",\"disagree\",\"agree\",\"strongly disagree\",\"disagree\",\"strongly disagree\",\"strongly disagree\",\"agree\",\"strongly disagree\",\"strongly disagree\",\"disagree\",\"strongly agree\",\"agree\",\"strongly disagree\",\"strongly disagree\",\"strongly disagree\",\"disagree\",\"strongly disagree\",\"disagree\",\"disagree\",\"strongly disagree\",\"strongly disagree\",\"disagree\",\"strongly disagree\",\"strongly disagree\",\"strongly disagree\",\"strongly agree\",\"strongly disagree\",\"disagree\",\"strongly agree\"],\"xaxis\":\"x\",\"y\":{\"dtype\":\"i1\",\"bdata\":\"AQEBAQEBAQEBAQEBAQEBAQEBAQEBAQEBAQEBAQEBAQEBAQEBAQEBAQEBAQEBAQEBAQEBAQEBAQEBAQEBAQEBAQEBAQEBAQEBAQEBAQEBAQEBAQEBAQEBAQEBAQEBAQEBAQEBAQEBAQEBAQEBAQEBAQEBAQEBAQEBAQEBAQEBAQEBAQEBAQEBAQEBAQEBAQEBAQEBAQEBAQEBAQEBAQEBAQEBAQEBAQEBAQEBAQEBAQEBAQEBAQEBAQEBAQEBAQEBAQEBAQEBAQEBAQEBAQEBAQEBAQEBAQEBAQEBAQEBAQEBAQEBAQEBAQEBAQEBAQEBAQEBAQEBAQEBAQEBAQEBAQEBAQEBAQEBAQEBAQEBAQEBAQEBAQEBAQEBAQEBAQEBAQEBAQEBAQEBAQEBAQEBAQEBAQEBAQEBAQEBAQEBAQEBAQEBAQEBAQEBAQEBAQEBAQEBAQEBAQEBAQEBAQEBAQEBAQEBAQEBAQEBAQEBAQEBAQEBAQEBAQEBAQEBAQEBAQEBAQEBAQEBAQEBAQEBAQEBAQEBAQEBAQEBAQEBAQEBAQEBAQEBAQEBAQEBAQEBAQEBAQEBAQEBAQEBAQEBAQEBAQEBAQEBAQEBAQEBAQEBAQEBAQEBAQEBAQEBAQEBAQEBAQEBAQEBAQEBAQEBAQEBAQEBAQEBAQEBAQEBAQEBAQEBAQEBAQEBAQEBAQEBAQEBAQEBAQEBAQEBAQEBAQEBAQEBAQEBAQEBAQEBAQEBAQEBAQEBAQEBAQEBAQEBAQEBAQEBAQEBAQEBAQEBAQEBAQEBAQEBAQEBAQEBAQEBAQEBAQEBAQEBAQEBAQEBAQEBAQEBAQEBAQEBAQEBAQEBAQEBAQEBAQEBAQEBAQEBAQEBAQEBAQEBAQEBAQEBAQEBAQEBAQEBAQEBAQEBAQEBAQEBAQEBAQEBAQEBAQEBAQEBAQEBAQEBAQEBAQEBAQEBAQEBAQEBAQEBAQEBAQEBAQEBAQEBAQEBAQEBAQEBAQEBAQEBAQEBAQEBAQEBAQEBAQEBAQEBAQEBAQEBAQEBAQEBAQEBAQEBAQEBAQEBAQEBAQEBAQEBAQEBAQEBAQEBAQEBAQEBAQEBAQEBAQEBAQEBAQEBAQEBAQEBAQEBAQEBAQEBAQEBAQEBAQE=\"},\"yaxis\":\"y\",\"type\":\"bar\"}],                        {\"template\":{\"data\":{\"histogram2dcontour\":[{\"type\":\"histogram2dcontour\",\"colorbar\":{\"outlinewidth\":0,\"ticks\":\"\"},\"colorscale\":[[0.0,\"#0d0887\"],[0.1111111111111111,\"#46039f\"],[0.2222222222222222,\"#7201a8\"],[0.3333333333333333,\"#9c179e\"],[0.4444444444444444,\"#bd3786\"],[0.5555555555555556,\"#d8576b\"],[0.6666666666666666,\"#ed7953\"],[0.7777777777777778,\"#fb9f3a\"],[0.8888888888888888,\"#fdca26\"],[1.0,\"#f0f921\"]]}],\"choropleth\":[{\"type\":\"choropleth\",\"colorbar\":{\"outlinewidth\":0,\"ticks\":\"\"}}],\"histogram2d\":[{\"type\":\"histogram2d\",\"colorbar\":{\"outlinewidth\":0,\"ticks\":\"\"},\"colorscale\":[[0.0,\"#0d0887\"],[0.1111111111111111,\"#46039f\"],[0.2222222222222222,\"#7201a8\"],[0.3333333333333333,\"#9c179e\"],[0.4444444444444444,\"#bd3786\"],[0.5555555555555556,\"#d8576b\"],[0.6666666666666666,\"#ed7953\"],[0.7777777777777778,\"#fb9f3a\"],[0.8888888888888888,\"#fdca26\"],[1.0,\"#f0f921\"]]}],\"heatmap\":[{\"type\":\"heatmap\",\"colorbar\":{\"outlinewidth\":0,\"ticks\":\"\"},\"colorscale\":[[0.0,\"#0d0887\"],[0.1111111111111111,\"#46039f\"],[0.2222222222222222,\"#7201a8\"],[0.3333333333333333,\"#9c179e\"],[0.4444444444444444,\"#bd3786\"],[0.5555555555555556,\"#d8576b\"],[0.6666666666666666,\"#ed7953\"],[0.7777777777777778,\"#fb9f3a\"],[0.8888888888888888,\"#fdca26\"],[1.0,\"#f0f921\"]]}],\"contourcarpet\":[{\"type\":\"contourcarpet\",\"colorbar\":{\"outlinewidth\":0,\"ticks\":\"\"}}],\"contour\":[{\"type\":\"contour\",\"colorbar\":{\"outlinewidth\":0,\"ticks\":\"\"},\"colorscale\":[[0.0,\"#0d0887\"],[0.1111111111111111,\"#46039f\"],[0.2222222222222222,\"#7201a8\"],[0.3333333333333333,\"#9c179e\"],[0.4444444444444444,\"#bd3786\"],[0.5555555555555556,\"#d8576b\"],[0.6666666666666666,\"#ed7953\"],[0.7777777777777778,\"#fb9f3a\"],[0.8888888888888888,\"#fdca26\"],[1.0,\"#f0f921\"]]}],\"surface\":[{\"type\":\"surface\",\"colorbar\":{\"outlinewidth\":0,\"ticks\":\"\"},\"colorscale\":[[0.0,\"#0d0887\"],[0.1111111111111111,\"#46039f\"],[0.2222222222222222,\"#7201a8\"],[0.3333333333333333,\"#9c179e\"],[0.4444444444444444,\"#bd3786\"],[0.5555555555555556,\"#d8576b\"],[0.6666666666666666,\"#ed7953\"],[0.7777777777777778,\"#fb9f3a\"],[0.8888888888888888,\"#fdca26\"],[1.0,\"#f0f921\"]]}],\"mesh3d\":[{\"type\":\"mesh3d\",\"colorbar\":{\"outlinewidth\":0,\"ticks\":\"\"}}],\"scatter\":[{\"fillpattern\":{\"fillmode\":\"overlay\",\"size\":10,\"solidity\":0.2},\"type\":\"scatter\"}],\"parcoords\":[{\"type\":\"parcoords\",\"line\":{\"colorbar\":{\"outlinewidth\":0,\"ticks\":\"\"}}}],\"scatterpolargl\":[{\"type\":\"scatterpolargl\",\"marker\":{\"colorbar\":{\"outlinewidth\":0,\"ticks\":\"\"}}}],\"bar\":[{\"error_x\":{\"color\":\"#2a3f5f\"},\"error_y\":{\"color\":\"#2a3f5f\"},\"marker\":{\"line\":{\"color\":\"#E5ECF6\",\"width\":0.5},\"pattern\":{\"fillmode\":\"overlay\",\"size\":10,\"solidity\":0.2}},\"type\":\"bar\"}],\"scattergeo\":[{\"type\":\"scattergeo\",\"marker\":{\"colorbar\":{\"outlinewidth\":0,\"ticks\":\"\"}}}],\"scatterpolar\":[{\"type\":\"scatterpolar\",\"marker\":{\"colorbar\":{\"outlinewidth\":0,\"ticks\":\"\"}}}],\"histogram\":[{\"marker\":{\"pattern\":{\"fillmode\":\"overlay\",\"size\":10,\"solidity\":0.2}},\"type\":\"histogram\"}],\"scattergl\":[{\"type\":\"scattergl\",\"marker\":{\"colorbar\":{\"outlinewidth\":0,\"ticks\":\"\"}}}],\"scatter3d\":[{\"type\":\"scatter3d\",\"line\":{\"colorbar\":{\"outlinewidth\":0,\"ticks\":\"\"}},\"marker\":{\"colorbar\":{\"outlinewidth\":0,\"ticks\":\"\"}}}],\"scattermap\":[{\"type\":\"scattermap\",\"marker\":{\"colorbar\":{\"outlinewidth\":0,\"ticks\":\"\"}}}],\"scattermapbox\":[{\"type\":\"scattermapbox\",\"marker\":{\"colorbar\":{\"outlinewidth\":0,\"ticks\":\"\"}}}],\"scatterternary\":[{\"type\":\"scatterternary\",\"marker\":{\"colorbar\":{\"outlinewidth\":0,\"ticks\":\"\"}}}],\"scattercarpet\":[{\"type\":\"scattercarpet\",\"marker\":{\"colorbar\":{\"outlinewidth\":0,\"ticks\":\"\"}}}],\"carpet\":[{\"aaxis\":{\"endlinecolor\":\"#2a3f5f\",\"gridcolor\":\"white\",\"linecolor\":\"white\",\"minorgridcolor\":\"white\",\"startlinecolor\":\"#2a3f5f\"},\"baxis\":{\"endlinecolor\":\"#2a3f5f\",\"gridcolor\":\"white\",\"linecolor\":\"white\",\"minorgridcolor\":\"white\",\"startlinecolor\":\"#2a3f5f\"},\"type\":\"carpet\"}],\"table\":[{\"cells\":{\"fill\":{\"color\":\"#EBF0F8\"},\"line\":{\"color\":\"white\"}},\"header\":{\"fill\":{\"color\":\"#C8D4E3\"},\"line\":{\"color\":\"white\"}},\"type\":\"table\"}],\"barpolar\":[{\"marker\":{\"line\":{\"color\":\"#E5ECF6\",\"width\":0.5},\"pattern\":{\"fillmode\":\"overlay\",\"size\":10,\"solidity\":0.2}},\"type\":\"barpolar\"}],\"pie\":[{\"automargin\":true,\"type\":\"pie\"}]},\"layout\":{\"autotypenumbers\":\"strict\",\"colorway\":[\"#636efa\",\"#EF553B\",\"#00cc96\",\"#ab63fa\",\"#FFA15A\",\"#19d3f3\",\"#FF6692\",\"#B6E880\",\"#FF97FF\",\"#FECB52\"],\"font\":{\"color\":\"#2a3f5f\"},\"hovermode\":\"closest\",\"hoverlabel\":{\"align\":\"left\"},\"paper_bgcolor\":\"white\",\"plot_bgcolor\":\"#E5ECF6\",\"polar\":{\"bgcolor\":\"#E5ECF6\",\"angularaxis\":{\"gridcolor\":\"white\",\"linecolor\":\"white\",\"ticks\":\"\"},\"radialaxis\":{\"gridcolor\":\"white\",\"linecolor\":\"white\",\"ticks\":\"\"}},\"ternary\":{\"bgcolor\":\"#E5ECF6\",\"aaxis\":{\"gridcolor\":\"white\",\"linecolor\":\"white\",\"ticks\":\"\"},\"baxis\":{\"gridcolor\":\"white\",\"linecolor\":\"white\",\"ticks\":\"\"},\"caxis\":{\"gridcolor\":\"white\",\"linecolor\":\"white\",\"ticks\":\"\"}},\"coloraxis\":{\"colorbar\":{\"outlinewidth\":0,\"ticks\":\"\"}},\"colorscale\":{\"sequential\":[[0.0,\"#0d0887\"],[0.1111111111111111,\"#46039f\"],[0.2222222222222222,\"#7201a8\"],[0.3333333333333333,\"#9c179e\"],[0.4444444444444444,\"#bd3786\"],[0.5555555555555556,\"#d8576b\"],[0.6666666666666666,\"#ed7953\"],[0.7777777777777778,\"#fb9f3a\"],[0.8888888888888888,\"#fdca26\"],[1.0,\"#f0f921\"]],\"sequentialminus\":[[0.0,\"#0d0887\"],[0.1111111111111111,\"#46039f\"],[0.2222222222222222,\"#7201a8\"],[0.3333333333333333,\"#9c179e\"],[0.4444444444444444,\"#bd3786\"],[0.5555555555555556,\"#d8576b\"],[0.6666666666666666,\"#ed7953\"],[0.7777777777777778,\"#fb9f3a\"],[0.8888888888888888,\"#fdca26\"],[1.0,\"#f0f921\"]],\"diverging\":[[0,\"#8e0152\"],[0.1,\"#c51b7d\"],[0.2,\"#de77ae\"],[0.3,\"#f1b6da\"],[0.4,\"#fde0ef\"],[0.5,\"#f7f7f7\"],[0.6,\"#e6f5d0\"],[0.7,\"#b8e186\"],[0.8,\"#7fbc41\"],[0.9,\"#4d9221\"],[1,\"#276419\"]]},\"xaxis\":{\"gridcolor\":\"white\",\"linecolor\":\"white\",\"ticks\":\"\",\"title\":{\"standoff\":15},\"zerolinecolor\":\"white\",\"automargin\":true,\"zerolinewidth\":2},\"yaxis\":{\"gridcolor\":\"white\",\"linecolor\":\"white\",\"ticks\":\"\",\"title\":{\"standoff\":15},\"zerolinecolor\":\"white\",\"automargin\":true,\"zerolinewidth\":2},\"scene\":{\"xaxis\":{\"backgroundcolor\":\"#E5ECF6\",\"gridcolor\":\"white\",\"linecolor\":\"white\",\"showbackground\":true,\"ticks\":\"\",\"zerolinecolor\":\"white\",\"gridwidth\":2},\"yaxis\":{\"backgroundcolor\":\"#E5ECF6\",\"gridcolor\":\"white\",\"linecolor\":\"white\",\"showbackground\":true,\"ticks\":\"\",\"zerolinecolor\":\"white\",\"gridwidth\":2},\"zaxis\":{\"backgroundcolor\":\"#E5ECF6\",\"gridcolor\":\"white\",\"linecolor\":\"white\",\"showbackground\":true,\"ticks\":\"\",\"zerolinecolor\":\"white\",\"gridwidth\":2}},\"shapedefaults\":{\"line\":{\"color\":\"#2a3f5f\"}},\"annotationdefaults\":{\"arrowcolor\":\"#2a3f5f\",\"arrowhead\":0,\"arrowwidth\":1},\"geo\":{\"bgcolor\":\"white\",\"landcolor\":\"#E5ECF6\",\"subunitcolor\":\"white\",\"showland\":true,\"showlakes\":true,\"lakecolor\":\"white\"},\"title\":{\"x\":0.05},\"mapbox\":{\"style\":\"light\"}}},\"xaxis\":{\"anchor\":\"y\",\"domain\":[0.0,1.0],\"title\":{\"text\":\"Response to \\\"Man is Achiever, Woman is Homemaker\\\"\"},\"categoryorder\":\"array\",\"categoryarray\":[\"strongly agree\",\"agree\",\"neither agree nor disagree\",\"disagree\",\"strongly disagree\"]},\"yaxis\":{\"anchor\":\"x\",\"domain\":[0.0,1.0],\"title\":{\"text\":\"Number of Respondents\"}},\"legend\":{\"title\":{\"text\":\"Sex\"},\"tracegroupgap\":0},\"margin\":{\"t\":60},\"barmode\":\"group\"},                        {\"responsive\": true}                    ).then(function(){\n",
       "                            \n",
       "var gd = document.getElementById('8c18545e-a64b-47bc-92a2-40d985309871');\n",
       "var x = new MutationObserver(function (mutations, observer) {{\n",
       "        var display = window.getComputedStyle(gd).display;\n",
       "        if (!display || display === 'none') {{\n",
       "            console.log([gd, 'removed!']);\n",
       "            Plotly.purge(gd);\n",
       "            observer.disconnect();\n",
       "        }}\n",
       "}});\n",
       "\n",
       "// Listen for the removal of the full notebook cells\n",
       "var notebookContainer = gd.closest('#notebook-container');\n",
       "if (notebookContainer) {{\n",
       "    x.observe(notebookContainer, {childList: true});\n",
       "}}\n",
       "\n",
       "// Listen for the clearing of the current output cell\n",
       "var outputEl = gd.closest('.output');\n",
       "if (outputEl) {{\n",
       "    x.observe(outputEl, {childList: true});\n",
       "}}\n",
       "\n",
       "                        })                };            </script>        </div>"
      ]
     },
     "metadata": {},
     "output_type": "display_data"
    }
   ],
   "source": [
    "# Create the interactive bar plot for the 'male_breadwinner' variable\n",
    "bar_fig = px.bar(gss_clean.dropna(subset=['male_breadwinner']),\n",
    "    x='male_breadwinner',\n",
    "    color='sex',\n",
    "    barmode='group',\n",
    "    category_orders={'male_breadwinner': ['strongly agree','agree','neither agree nor disagree','disagree','strongly disagree']},\n",
    "    labels={\n",
    "        'male_breadwinner':'Response to \"Man is Achiever, Woman is Homemaker\"',\n",
    "        'count':'Number of Respondents',\n",
    "        'sex':'Sex'\n",
    "    }\n",
    ")\n",
    "bar_fig.show()"
   ]
  },
  {
   "cell_type": "markdown",
   "metadata": {},
   "source": [
    "### 2.3. Income vs. Job Prestige\n",
    "\n",
    "Is there a direct relationship between the prestige of a job and the income it provides? This scatter plot explores that question, separating the data by gender and including trendlines to visualize the relationship for both men and women. Hovering over any point reveals the respondent's education and socioeconomic index.\n",
    "\n",
    "If you see an error that says the package \"statsmodels\" is not installed, add it to your conda environment via the terminal by activating the environment then typing `conda install statsmodels`."
   ]
  },
  {
   "cell_type": "code",
   "execution_count": 7,
   "metadata": {},
   "outputs": [
    {
     "data": {
      "application/vnd.plotly.v1+json": {
       "config": {
        "plotlyServerURL": "https://plot.ly"
       },
       "data": [
        {
         "customdata": {
          "bdata": "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",
          "dtype": "f8",
          "shape": "1121, 2"
         },
         "hovertemplate": "Sex=female<br>Occupational Prestige Score=%{x}<br>Annual Income=%{y}<br>education=%{customdata[0]}<br>socioeconomic_index=%{customdata[1]}<extra></extra>",
         "legendgroup": "female",
         "marker": {
          "color": "#636efa",
          "symbol": "circle"
         },
         "mode": "markers",
         "name": "female",
         "showlegend": true,
         "type": "scattergl",
         "x": {
          "bdata": "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",
          "dtype": "f8"
         },
         "xaxis": "x",
         "y": {
          "bdata": "AAAAAKA/1kDLEMe6zk8DQQAAAADgq8lAAAAAAAAfrkAAAAAAIBjNQAAAAAAwQtBAAAAAAADolUAAAAAAsBrnQAAAAABAHfFAAAAAABA97EAAAAAAgIn0QAAAAABAHfFAAAAAABA97EAAAAAA4KvZQAAAAABg0+JAAAAAAICJ9EAAAAAAQB3xQAAAAABg08JAAAAAAEDO3kAAAAAAED3sQAAAAACgP9ZAyxDHus5PA0EAAAAAQB3xQAAAAABg09JAAAAAABA97EAAAAAAYNPiQAAAAACAifRAAAAAAACluEAAAAAAgIm0QAAAAAAAH65AAAAAAOCr2UAAAAAAYNPiQAAAAADgq9lAAAAAAABi+0AAAAAAwPX3QAAAAACgP8ZAAAAAALAa50DLEMe6zk8DQcsQx7rOTwNByxDHus5PA0EAAAAAsBrnQAAAAABAHfFAAAAAAGDT4kAAAAAAsBrnQAAAAADgq9lAAAAAAICJ9EAAAAAAQB3xQAAAAAAApbhAAAAAAADolUAAAAAAQB3xQAAAAAAAYvtAAAAAAEAd8UAAAAAAAGL7QAAAAABAzr5AAAAAAGDT4kAAAAAAsBrnQAAAAABAHfFAAAAAABA97EAAAAAAsBrnQAAAAAAQPexAAAAAABA97EAAAAAAAOh1QAAAAAAAYvtAAAAAAOCr2UAAAAAAYNPiQAAAAADA9fdAAAAAAKA/1kAAAAAAoD/WQAAAAABg08JAAAAAAEAd8UAAAAAAsBrnQAAAAAAApahAAAAAABA97EAAAAAAQM6+QAAAAABg09JAAAAAAEDO3kAAAAAA4KvJQAAAAABg08JAAAAAALAa50AAAAAAAB+uQAAAAABAzt5AAAAAAABi+0DLEMe6zk8DQQAAAABAzr5AAAAAAABi+0AAAAAAQB3xQMsQx7rOTwNBAAAAAEAd8UAAAAAAsBrnQAAAAADA9fdAyxDHus5PA0EAAAAAgIn0QAAAAAAQPexAAAAAAEAd8UAAAAAAIBjNQAAAAACgP9ZAAAAAAKA/1kAAAAAAIBjNQAAAAABAzr5AAAAAAOCr2UAAAAAAwPX3QMsQx7rOTwNBAAAAALAa50AAAAAAsBrnQAAAAAAQPexAAAAAAOCr2UAAAAAAYNPSQAAAAACwGudAAAAAAEDO3kDLEMe6zk8DQQAAAACgP9ZAAAAAAMD190AAAAAAoD/WQAAAAAAQPexAAAAAAIDMsUAAAAAAYNPCQAAAAACgP8ZAAAAAAGDTwkAAAAAAYNPiQAAAAAAAYvtAAAAAABA97EDLEMe6zk8DQQAAAAAQPexAAAAAABA97EAAAAAAsBrnQAAAAABAHfFAAAAAABA97EAAAAAAoD/WQMsQx7rOTwNBAAAAALAa50AAAAAAsBrnQAAAAACAifRAAAAAAABi+0AAAAAAQM7eQAAAAABg0+JAAAAAADBC0EAAAAAAQM7eQAAAAAAAYvtAAAAAALAa50AAAAAAED3sQAAAAADA9fdAyxDHus5PA0EAAAAAgIn0QAAAAAAwQtBAAAAAAKA/1kAAAAAAYNPiQAAAAADA9fdAAAAAADBC0EAAAAAAAOiVQAAAAAAwQtBAAAAAABA97EAAAAAAsBrnQMsQx7rOTwNBAAAAAEDO3kDLEMe6zk8DQcsQx7rOTwNByxDHus5PA0EAAAAAED3sQAAAAAAApbhAAAAAAKA/xkAAAAAAoD/GQAAAAABAzt5AyxDHus5PA0EAAAAAMELQQMsQx7rOTwNBAAAAALAa50AAAAAAYNPCQAAAAAAQPexAAAAAAGDT4kAAAAAAQM7eQAAAAADA9fdAAAAAABA97EDLEMe6zk8DQcsQx7rOTwNBAAAAAEAd8UAAAAAAYNPiQMsQx7rOTwNBAAAAAICJ9EAAAAAAwPX3QAAAAABAHfFAyxDHus5PA0EAAAAAsBrnQAAAAACwGudAAAAAAOCr2UAAAAAA4KvZQAAAAACAibRAyxDHus5PA0EAAAAAAGL7QAAAAAAApahAAAAAAEDO3kAAAAAAoD/GQAAAAAAApbhAAAAAACAYzUAAAAAAwPX3QAAAAABg0+JAAAAAAGDT4kAAAAAAwPX3QAAAAABAzt5AAAAAAMD190AAAAAAACujQMsQx7rOTwNBAAAAAICJ9EAAAAAAAGL7QAAAAACAifRAAAAAAOCr2UAAAAAAgIn0QMsQx7rOTwNBAAAAAOCr2UAAAAAAED3sQAAAAABg0+JAAAAAAEAd8UAAAAAAoD/WQAAAAAAAYvtAAAAAAGDT4kAAAAAAsBrnQMsQx7rOTwNBAAAAAICJ9EDLEMe6zk8DQQAAAAAQPexAAAAAAGDT0kAAAAAAoD/WQMsQx7rOTwNBAAAAAICJ9EAAAAAAAGL7QMsQx7rOTwNBAAAAAKA/1kAAAAAA4KvZQAAAAACwGudAAAAAAICJ9EAAAAAAQB3xQAAAAACAifRAAAAAABA97EAAAAAAYNPiQAAAAAAwQtBAAAAAALAa50AAAAAAoD/WQMsQx7rOTwNByxDHus5PA0EAAAAAQM7eQAAAAACgP8ZAAAAAAEDO3kAAAAAAACujQAAAAAAQPexAAAAAAEAd8UAAAAAAQB3xQAAAAAAAYvtAAAAAALAa50DLEMe6zk8DQQAAAACgP9ZAAAAAAICJ9EAAAAAAsBrnQMsQx7rOTwNBAAAAACAYzUAAAAAAAKW4QAAAAACwGudAAAAAAGDT4kAAAAAAACujQMsQx7rOTwNBAAAAADBC0EAAAAAAAOh1QAAAAABg0+JAAAAAALAa50AAAAAAQB3xQAAAAACAifRAAAAAACAYzUAAAAAAAOh1QAAAAABAHfFAAAAAAABi+0AAAAAAED3sQAAAAACwGudAAAAAALAa50AAAAAAsBrnQAAAAACwGudAAAAAAGDT4kAAAAAAAGL7QAAAAACgP9ZAAAAAAKA/1kAAAAAAQM6+QAAAAACgP8ZAAAAAAKA/1kAAAAAAYNPiQAAAAABAzt5AAAAAABA97EAAAAAAQM6+QAAAAABg09JAAAAAAEAd8UAAAAAAQB3xQAAAAACwGudAAAAAALAa50DLEMe6zk8DQcsQx7rOTwNBAAAAAGDT0kDLEMe6zk8DQQAAAABg09JAAAAAALAa50AAAAAAgMyxQAAAAACgP9ZAAAAAAAAfrkAAAAAAIBjNQAAAAADgq8lAAAAAAKA/1kDLEMe6zk8DQQAAAACAifRAAAAAAEAd8UAAAAAAgIn0QAAAAADgq9lAAAAAAOCryUAAAAAA4KvZQAAAAADgq9lAAAAAAEDOvkAAAAAAsBrnQAAAAADgq9lAAAAAAICJ9EAAAAAAYNPCQAAAAACAifRAyxDHus5PA0EAAAAA4KvJQAAAAABAzr5AAAAAAAClqEAAAAAAYNPiQAAAAABg08JAAAAAAKA/1kAAAAAAED3sQAAAAABg0+JAAAAAAEAd8UAAAAAAQB3xQMsQx7rOTwNBAAAAAABi+0AAAAAAQB3xQAAAAAAApahAAAAAAGDT4kAAAAAA4KvZQAAAAACwGudAAAAAAABi+0AAAAAAoD/GQAAAAAAwQtBAAAAAAEDO3kAAAAAAQM6+QAAAAABAHfFAAAAAAAAro0AAAAAAoD/WQAAAAABAHfFAAAAAABA97EAAAAAAoD/WQAAAAADgq9lAAAAAAEDO3kDLEMe6zk8DQQAAAAAQPexAAAAAAABi+0DLEMe6zk8DQQAAAACAibRAAAAAAGDT4kAAAAAAoD/GQAAAAACwGudAAAAAAEAd8UAAAAAAwPX3QMsQx7rOTwNBAAAAADBC0EAAAAAAQM7eQAAAAABg0+JAAAAAAEDO3kAAAAAAoD/GQAAAAACgP8ZAAAAAALAa50AAAAAAQB3xQAAAAACwGudAAAAAAGDT4kAAAAAAwPX3QAAAAAAQPexAyxDHus5PA0EAAAAAsBrnQAAAAADA9fdAAAAAAGDTwkAAAAAAQB3xQAAAAADgq9lAAAAAAKA/xkAAAAAAQB3xQAAAAACgP9ZAAAAAAOCryUAAAAAAsBrnQAAAAAAQPexAAAAAAGDT4kAAAAAAQM6+QMsQx7rOTwNBAAAAAOCr2UAAAAAAYNPiQAAAAAAwQtBAAAAAAGDT0kAAAAAA4KvZQAAAAABAzt5AAAAAACAYzUDLEMe6zk8DQQAAAABg09JAAAAAALAa50AAAAAAYNPiQAAAAACAibRAAAAAACAYzUAAAAAAQB3xQAAAAACwGudAAAAAALAa50AAAAAAED3sQAAAAAAQPexAAAAAAABi+0DLEMe6zk8DQQAAAACgP9ZAAAAAALAa50AAAAAAIBjNQAAAAAAQPexAAAAAALAa50AAAAAAYNPCQAAAAAAQPexAAAAAAICJ9EAAAAAAAOh1QAAAAABAHfFAAAAAAABi+0AAAAAAQM7eQAAAAACwGudAAAAAAEDO3kAAAAAAAOh1QAAAAABAzr5AyxDHus5PA0HLEMe6zk8DQQAAAAAQPexAAAAAAEDOvkAAAAAAQB3xQAAAAAAQPexAAAAAALAa50AAAAAAMELQQAAAAADA9fdAAAAAACAYzUAAAAAAIBjNQAAAAABAzr5AAAAAAKA/1kAAAAAAoD/WQAAAAABAzr5AAAAAAOCr2UAAAAAAYNPCQAAAAAAAH65AAAAAAOCr2UAAAAAAYNPSQAAAAABg0+JAAAAAALAa50AAAAAAwPX3QAAAAADgq9lAAAAAAGDT0kAAAAAAgIn0QAAAAACgP9ZAAAAAABA97EDLEMe6zk8DQQAAAAAAYvtAAAAAAGDT4kAAAAAAsBrnQAAAAAAgGM1AAAAAAOCr2UAAAAAAoD/WQAAAAACgP9ZAAAAAAOCryUAAAAAAYNPCQAAAAAAQPexAAAAAAKA/1kAAAAAAoD/WQAAAAADgq8lAAAAAAEAd8UAAAAAAYNPiQAAAAAAQPexAAAAAADBC0EAAAAAAgIn0QMsQx7rOTwNBAAAAAICJ9EAAAAAAQB3xQMsQx7rOTwNBAAAAAICJ9EAAAAAAQM7eQAAAAACgP8ZAAAAAAIDMsUAAAAAA4KvZQAAAAADgq8lAAAAAAOCr2UAAAAAAQB3xQAAAAABAHfFAAAAAADBC0EAAAAAAAGL7QAAAAABg09JAAAAAAGDT0kAAAAAAQB3xQAAAAACAifRAAAAAAEAd8UDLEMe6zk8DQQAAAABAzt5AAAAAAOCryUAAAAAAQM7eQAAAAABAzt5AAAAAAKA/xkAAAAAAYNPiQAAAAAAgGM1AAAAAAOCr2UAAAAAAYNPSQAAAAACAifRAAAAAAABi+0AAAAAAQM7eQAAAAAAwQtBAAAAAAGDT4kAAAAAAYNPSQAAAAABg09JAAAAAAOCr2UAAAAAAYNPiQAAAAABg0+JAAAAAALAa50AAAAAAsBrnQAAAAABg0+JAAAAAAKA/1kAAAAAAMELQQAAAAAAA6JVAAAAAAOCryUAAAAAAED3sQAAAAADgq8lAAAAAAMD190AAAAAAYNPSQAAAAADgq9lAAAAAALAa50AAAAAAsBrnQMsQx7rOTwNBAAAAAEDO3kAAAAAAYNPSQAAAAAAgGM1AAAAAAGDT4kAAAAAAIBjNQAAAAABAHfFAyxDHus5PA0EAAAAAYNPSQAAAAABg09JAAAAAAEDOvkAAAAAA4KvZQAAAAACgP9ZAAAAAAKA/1kAAAAAAsBrnQAAAAABg0+JAAAAAADBC0EDLEMe6zk8DQQAAAADgq9lAAAAAAGDT0kAAAAAAYNPiQAAAAAAgGM1AAAAAAKA/1kDLEMe6zk8DQQAAAABAzt5AAAAAAEDO3kAAAAAAwPX3QMsQx7rOTwNBAAAAALAa50AAAAAAACujQMsQx7rOTwNBAAAAAMD190AAAAAAAGL7QMsQx7rOTwNBAAAAABA97EAAAAAAAGL7QAAAAAAAYvtAAAAAAMD190AAAAAAoD/GQAAAAACgP9ZAAAAAALAa50AAAAAAQM7eQAAAAACgP9ZAAAAAAKA/1kAAAAAAQB3xQAAAAADgq9lAAAAAAGDT4kAAAAAAQM7eQAAAAAAgGM1AAAAAAICJ9EAAAAAAQB3xQAAAAAAQPexAAAAAAKA/1kAAAAAA4KvZQAAAAADgq9lAAAAAAOCr2UAAAAAAQM7eQAAAAACAifRAAAAAAKA/1kAAAAAAMELQQAAAAACwGudAAAAAACAYzUAAAAAAAKW4QAAAAABAHfFAAAAAALAa50AAAAAAAGL7QAAAAABg0+JAAAAAAGDT0kAAAAAAsBrnQAAAAABAHfFAAAAAAOCr2UAAAAAAQM7eQAAAAABAzr5AAAAAAADodUAAAAAAAKW4QAAAAAAwQtBAAAAAAEDO3kAAAAAAoD/GQAAAAAAApahAAAAAAICJ9EAAAAAAgIn0QAAAAAAAK6NAAAAAAEDO3kDLEMe6zk8DQQAAAABg0+JAAAAAAEAd8UAAAAAAQM6+QAAAAACgP9ZAAAAAAICJ9EAAAAAAMELQQAAAAADA9fdAAAAAAGDT4kAAAAAAsBrnQAAAAADgq8lAAAAAAEDO3kDLEMe6zk8DQQAAAACwGudAAAAAAADolUAAAAAAsBrnQAAAAABAHfFAAAAAADBC0EAAAAAAgIm0QAAAAABg0+JAAAAAALAa50AAAAAAYNPiQAAAAACgP9ZAAAAAALAa50AAAAAAoD/GQAAAAACwGudAAAAAAEDO3kAAAAAAQM7eQAAAAAAQPexAAAAAABA97EAAAAAAQM7eQMsQx7rOTwNBAAAAALAa50AAAAAAsBrnQAAAAACgP9ZAAAAAAGDTwkAAAAAAsBrnQAAAAACwGudAAAAAABA97EAAAAAAQM7eQAAAAACwGudAAAAAAGDT0kAAAAAAsBrnQAAAAAAQPexAAAAAAGDT4kAAAAAAIBjNQAAAAACwGudAAAAAAEAd8UAAAAAAQB3xQAAAAABAzr5AAAAAAGDT0kAAAAAAsBrnQAAAAACwGudAAAAAABA97EAAAAAAYNPCQAAAAAAwQtBAAAAAALAa50AAAAAAQM7eQAAAAACwGudAAAAAAEDOvkAAAAAAACujQAAAAAAApbhAAAAAAEDO3kAAAAAAYNPCQAAAAABAzt5AAAAAAEAd8UAAAAAAYNPSQAAAAADgq9lAAAAAALAa50AAAAAAQM7eQAAAAACgP9ZAAAAAACAYzUAAAAAAoD/WQAAAAAAgGM1AAAAAAGDTwkAAAAAAQB3xQAAAAACwGudAAAAAAEDOvkAAAAAAED3sQAAAAAAA6HVAAAAAAABi+0AAAAAAQM6+QAAAAACAifRAAAAAALAa50AAAAAAYNPiQMsQx7rOTwNBAAAAAICJtEAAAAAAED3sQAAAAADgq9lAAAAAAOCr2UAAAAAAYNPiQAAAAABAzr5AAAAAACAYzUAAAAAA4KvJQAAAAACgP9ZAAAAAAGDT4kDLEMe6zk8DQcsQx7rOTwNByxDHus5PA0HLEMe6zk8DQQAAAABAzr5AAAAAAGDT0kAAAAAAQM7eQAAAAADgq9lAAAAAAGDT0kAAAAAAgIn0QAAAAABg09JAAAAAAGDT4kAAAAAAQM7eQAAAAABg09JAAAAAAKA/xkAAAAAAYNPSQAAAAADgq8lAAAAAAEDO3kAAAAAAIBjNQAAAAACgP9ZAAAAAADBC0EAAAAAAsBrnQAAAAACwGudAAAAAAEAd8UAAAAAAYNPCQAAAAADgq9lAAAAAAEAd8UAAAAAAAKW4QAAAAABg08JAAAAAAADodUAAAAAAIBjNQAAAAACwGudAAAAAAGDT4kAAAAAAAOh1QAAAAAAAYvtAAAAAAICJtEAAAAAAQB3xQAAAAADgq9lAAAAAAOCr2UAAAAAAQM6+QAAAAABg0+JAyxDHus5PA0EAAAAAQB3xQAAAAADgq8lAAAAAABA97EAAAAAAsBrnQAAAAABAHfFAAAAAALAa50AAAAAAYNPCQAAAAABAzr5AAAAAADBC0EAAAAAAYNPCQAAAAACwGudAAAAAAEDO3kAAAAAAYNPiQAAAAADgq8lAAAAAAAClqEAAAAAA4KvJQAAAAACwGudAyxDHus5PA0EAAAAAsBrnQAAAAACgP8ZAAAAAAEDOvkAAAAAAYNPCQAAAAADgq9lAAAAAAACluEAAAAAA4KvZQAAAAABg0+JAAAAAAGDT4kAAAAAAYNPiQMsQx7rOTwNBAAAAALAa50DLEMe6zk8DQQAAAAAgGM1AAAAAAEDOvkAAAAAAQM7eQAAAAACgP9ZAAAAAAOCr2UAAAAAAMELQQAAAAABg0+JAyxDHus5PA0EAAAAAMELQQAAAAACwGudAAAAAAEDO3kAAAAAAYNPiQAAAAABg09JAAAAAALAa50AAAAAAIBjNQAAAAAAwQtBAAAAAAKA/1kAAAAAAsBrnQAAAAADgq8lAAAAAAEAd8UAAAAAAAKW4QAAAAACwGudAAAAAAGDTwkAAAAAAsBrnQAAAAAAQPexAAAAAAOCr2UAAAAAAYNPiQAAAAABg0+JAAAAAAADodUAAAAAAoD/GQAAAAABg0+JAAAAAALAa50AAAAAAAKW4QAAAAABg08JAAAAAAGDTwkAAAAAAACujQAAAAAAQPexAAAAAAADolUDLEMe6zk8DQQAAAAAwQtBAAAAAAGDT0kAAAAAAYNPiQAAAAAAApbhAAAAAAEDO3kAAAAAAsBrnQAAAAAAQPexAAAAAABA97EAAAAAAED3sQAAAAAAQPexAAAAAAGDTwkAAAAAAYNPiQAAAAAAA6HVAAAAAAEDO3kAAAAAA4KvJQAAAAABg09JAyxDHus5PA0EAAAAAwPX3QAAAAABAHfFAAAAAABA97EAAAAAAED3sQAAAAACwGudAAAAAAADolUAAAAAAAGL7QAAAAAAQPexAAAAAAGDT4kAAAAAAYNPiQAAAAABAzt5AAAAAAOCr2UAAAAAAIBjNQAAAAABg09JAAAAAAEDO3kAAAAAAYNPSQAAAAABg09JAAAAAACAYzUAAAAAAAGL7QAAAAAAQPexAAAAAAICJ9EAAAAAAgIn0QAAAAACwGudAAAAAAEAd8UAAAAAAYNPiQAAAAAAApbhAAAAAABA97EAAAAAAED3sQAAAAABAzt5AAAAAAEDO3kAAAAAAwPX3QAAAAAAQPexAAAAAALAa50AAAAAAIBjNQAAAAACAifRAAAAAAICJ9EAAAAAAsBrnQAAAAAAAYvtAAAAAAICJ9EAAAAAAYNPSQAAAAADA9fdAAAAAALAa50AAAAAAYNPiQAAAAACgP8ZAAAAAACAYzUAAAAAAED3sQAAAAACAifRAAAAAAIDMsUAAAAAAMELQQAAAAABAzr5AAAAAAGDT0kAAAAAAACujQAAAAABAHfFAyxDHus5PA0EAAAAAsBrnQAAAAAAgGM1AAAAAAGDT4kAAAAAAgIm0QAAAAAAA6JVAAAAAABA97EAAAAAAYNPiQAAAAAAApahAAAAAALAa50AAAAAAQM7eQAAAAABg09JAAAAAABA97EAAAAAAYNPCQAAAAABAzt5AAAAAAAAfrkAAAAAAYNPCQAAAAACAibRAAAAAAKA/1kAAAAAAsBrnQAAAAACAifRAAAAAAOCr2UAAAAAAAOiVQAAAAABAzr5AAAAAADBC0EAAAAAAYNPSQAAAAADA9fdAAAAAAACluEAAAAAAAGL7QAAAAABAzr5AAAAAAOCr2UAAAAAAQB3xQAAAAAAQPexAAAAAAGDT4kAAAAAAAGL7QAAAAACwGudAAAAAABA97EAAAAAAED3sQAAAAABAzt5AAAAAAGDT4kAAAAAAgIn0QAAAAADgq9lAAAAAAKA/xkDLEMe6zk8DQQAAAACAifRAAAAAALAa50AAAAAAED3sQAAAAADA9fdAAAAAAEDOvkAAAAAAYNPiQAAAAABg0+JAAAAAALAa50AAAAAAoD/WQAAAAAAQPexAAAAAALAa50AAAAAAIBjNQAAAAAAgGM1AAAAAAICJ9EAAAAAAED3sQAAAAABg09JAAAAAAEDO3kAAAAAAYNPSQAAAAABg08JAAAAAAAAfrkAAAAAAYNPiQAAAAADgq9lAAAAAAEAd8UAAAAAAYNPiQAAAAADgq9lAAAAAAGDT0kAAAAAAQM7eQMsQx7rOTwNBAAAAAICJ9EAAAAAAYNPiQAAAAABAzr5AAAAAALAa50AAAAAAgIn0QAAAAAAgGM1AAAAAABA97EAAAAAAED3sQAAAAACwGudAAAAAAABi+0AAAAAAIBjNQAAAAAAQPexAAAAAAEDO3kAAAAAAoD/WQAAAAABAHfFAAAAAAKA/1kDLEMe6zk8DQQAAAABg0+JAAAAAAGDTwkAAAAAAYNPCQAAAAABAHfFAAAAAAKA/xkAAAAAAQM7eQAAAAAAgGM1AAAAAAOCr2UAAAAAAYNPiQAAAAABg0+JAAAAAALAa50AAAAAAIBjNQAAAAABg0+JAAAAAAGDTwkAAAAAA4KvJQAAAAAAgGM1AAAAAADBC0EAAAAAAoD/WQAAAAAAQPexAAAAAAEDOvkAAAAAAYNPSQAAAAABg08JAAAAAAMD190AAAAAAwPX3QAAAAABAHfFAAAAAAKA/xkDLEMe6zk8DQQAAAACgP9ZAyxDHus5PA0EAAAAAQM7eQAAAAAAAYvtAyxDHus5PA0EAAAAAYNPCQAAAAABg08JAAAAAAGDTwkAAAAAAYNPiQAAAAABg08JAAAAAABA97EAAAAAAQM7eQAAAAAAwQtBAAAAAAGDT4kAAAAAAMELQQAAAAABg0+JAAAAAAGDT4kAAAAAAYNPSQAAAAAAgGM1AAAAAAEAd8UAAAAAAQM7eQAAAAACgP8ZAAAAAAEAd8UAAAAAAED3sQAAAAAAgGM1AAAAAAEDO3kAAAAAAsBrnQAAAAACwGudAAAAAAGDT4kAAAAAAYNPSQAAAAAAQPexAAAAAAGDT0kAAAAAAAOh1QAAAAABAzt5AAAAAABA97EAAAAAAYNPSQAAAAACwGudAAAAAAEAd8UAAAAAAYNPiQMsQx7rOTwNBAAAAALAa50AAAAAAQM7eQAAAAADgq8lAAAAAACAYzUAAAAAAIBjNQAAAAADgq9lAAAAAABA97EAAAAAAoD/WQAAAAABAzt5AAAAAABA97EAAAAAAYNPCQAAAAABAzr5AAAAAAEDOvkAAAAAAMELQQAAAAACwGudAAAAAAKA/xkAAAAAAwPX3QAAAAAAQPexAAAAAAKA/1kAAAAAAED3sQAAAAAAApbhAAAAAADBC0EAAAAAAsBrnQAAAAABg0+JAAAAAAOCr2UAAAAAAYNPiQAAAAACgP8ZAAAAAAGDT4kAAAAAA4KvZQAAAAABAzt5AAAAAAADolUAAAAAAED3sQAAAAAAgGM1AAAAAAKA/1kAAAAAAYNPiQAAAAABAzt5AAAAAAEAd8UAAAAAAYNPiQAAAAAAwQtBAAAAAAOCr2UAAAAAA4KvZQAAAAACAifRAAAAAADBC0EAAAAAAAOh1QAAAAAAApbhAAAAAAEDO3kAAAAAAED3sQAAAAAAApbhAAAAAAABi+0AAAAAAMELQQAAAAABg0+JAAAAAAEDO3kAAAAAAQM6+QAAAAAAQPexAAAAAABA97EAAAAAAAOh1QAAAAABAzr5AAAAAAIDMsUAAAAAAQM6+QAAAAAAA6JVAAAAAAGDTwkAAAAAAAKW4QAAAAAAwQtBAAAAAAADodUAAAAAAoD/WQAAAAABg0+JAAAAAAICJtEAAAAAAED3sQAAAAABg0+JAAAAAAEAd8UAAAAAAsBrnQAAAAABAHfFAAAAAAGDT4kAAAAAAIBjNQMsQx7rOTwNBAAAAAOCr2UAAAAAAQB3xQAAAAADgq9lAAAAAAOCryUAAAAAAYNPiQAAAAAAApbhAAAAAAKA/1kAAAAAAQB3xQA==",
          "dtype": "f8"
         },
         "yaxis": "y"
        },
        {
         "hovertemplate": "<b>OLS trendline</b><br>income = 920.149 * job_prestige + 6600.68<br>R<sup>2</sup>=0.092783<br><br>Sex=female<br>Occupational Prestige Score=%{x}<br>Annual Income=%{y} <b>(trend)</b><extra></extra>",
         "legendgroup": "female",
         "marker": {
          "color": "#636efa",
          "symbol": "circle"
         },
         "mode": "lines",
         "name": "female",
         "showlegend": false,
         "type": "scattergl",
         "x": {
          "bdata": "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",
          "dtype": "f8"
         },
         "xaxis": "x",
         "y": {
          "bdata": "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",
          "dtype": "f8"
         },
         "yaxis": "y"
        },
        {
         "customdata": {
          "bdata": "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",
          "dtype": "f8",
          "shape": "954, 2"
         },
         "hovertemplate": "Sex=male<br>Occupational Prestige Score=%{x}<br>Annual Income=%{y}<br>education=%{customdata[0]}<br>socioeconomic_index=%{customdata[1]}<extra></extra>",
         "legendgroup": "male",
         "marker": {
          "color": "#EF553B",
          "symbol": "circle"
         },
         "mode": "markers",
         "name": "male",
         "showlegend": true,
         "type": "scattergl",
         "x": {
          "bdata": "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",
          "dtype": "f8"
         },
         "xaxis": "x",
         "y": {
          "bdata": "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",
          "dtype": "f8"
         },
         "yaxis": "y"
        },
        {
         "hovertemplate": "<b>OLS trendline</b><br>income = 1227.2 * job_prestige + -1382.87<br>R<sup>2</sup>=0.148539<br><br>Sex=male<br>Occupational Prestige Score=%{x}<br>Annual Income=%{y} <b>(trend)</b><extra></extra>",
         "legendgroup": "male",
         "marker": {
          "color": "#EF553B",
          "symbol": "circle"
         },
         "mode": "lines",
         "name": "male",
         "showlegend": false,
         "type": "scattergl",
         "x": {
          "bdata": "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",
          "dtype": "f8"
         },
         "xaxis": "x",
         "y": {
          "bdata": "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",
          "dtype": "f8"
         },
         "yaxis": "y"
        }
       ],
       "layout": {
        "legend": {
         "title": {
          "text": "Sex"
         },
         "tracegroupgap": 0
        },
        "margin": {
         "t": 60
        },
        "template": {
         "data": {
          "bar": [
           {
            "error_x": {
             "color": "#2a3f5f"
            },
            "error_y": {
             "color": "#2a3f5f"
            },
            "marker": {
             "line": {
              "color": "#E5ECF6",
              "width": 0.5
             },
             "pattern": {
              "fillmode": "overlay",
              "size": 10,
              "solidity": 0.2
             }
            },
            "type": "bar"
           }
          ],
          "barpolar": [
           {
            "marker": {
             "line": {
              "color": "#E5ECF6",
              "width": 0.5
             },
             "pattern": {
              "fillmode": "overlay",
              "size": 10,
              "solidity": 0.2
             }
            },
            "type": "barpolar"
           }
          ],
          "carpet": [
           {
            "aaxis": {
             "endlinecolor": "#2a3f5f",
             "gridcolor": "white",
             "linecolor": "white",
             "minorgridcolor": "white",
             "startlinecolor": "#2a3f5f"
            },
            "baxis": {
             "endlinecolor": "#2a3f5f",
             "gridcolor": "white",
             "linecolor": "white",
             "minorgridcolor": "white",
             "startlinecolor": "#2a3f5f"
            },
            "type": "carpet"
           }
          ],
          "choropleth": [
           {
            "colorbar": {
             "outlinewidth": 0,
             "ticks": ""
            },
            "type": "choropleth"
           }
          ],
          "contour": [
           {
            "colorbar": {
             "outlinewidth": 0,
             "ticks": ""
            },
            "colorscale": [
             [
              0,
              "#0d0887"
             ],
             [
              0.1111111111111111,
              "#46039f"
             ],
             [
              0.2222222222222222,
              "#7201a8"
             ],
             [
              0.3333333333333333,
              "#9c179e"
             ],
             [
              0.4444444444444444,
              "#bd3786"
             ],
             [
              0.5555555555555556,
              "#d8576b"
             ],
             [
              0.6666666666666666,
              "#ed7953"
             ],
             [
              0.7777777777777778,
              "#fb9f3a"
             ],
             [
              0.8888888888888888,
              "#fdca26"
             ],
             [
              1,
              "#f0f921"
             ]
            ],
            "type": "contour"
           }
          ],
          "contourcarpet": [
           {
            "colorbar": {
             "outlinewidth": 0,
             "ticks": ""
            },
            "type": "contourcarpet"
           }
          ],
          "heatmap": [
           {
            "colorbar": {
             "outlinewidth": 0,
             "ticks": ""
            },
            "colorscale": [
             [
              0,
              "#0d0887"
             ],
             [
              0.1111111111111111,
              "#46039f"
             ],
             [
              0.2222222222222222,
              "#7201a8"
             ],
             [
              0.3333333333333333,
              "#9c179e"
             ],
             [
              0.4444444444444444,
              "#bd3786"
             ],
             [
              0.5555555555555556,
              "#d8576b"
             ],
             [
              0.6666666666666666,
              "#ed7953"
             ],
             [
              0.7777777777777778,
              "#fb9f3a"
             ],
             [
              0.8888888888888888,
              "#fdca26"
             ],
             [
              1,
              "#f0f921"
             ]
            ],
            "type": "heatmap"
           }
          ],
          "histogram": [
           {
            "marker": {
             "pattern": {
              "fillmode": "overlay",
              "size": 10,
              "solidity": 0.2
             }
            },
            "type": "histogram"
           }
          ],
          "histogram2d": [
           {
            "colorbar": {
             "outlinewidth": 0,
             "ticks": ""
            },
            "colorscale": [
             [
              0,
              "#0d0887"
             ],
             [
              0.1111111111111111,
              "#46039f"
             ],
             [
              0.2222222222222222,
              "#7201a8"
             ],
             [
              0.3333333333333333,
              "#9c179e"
             ],
             [
              0.4444444444444444,
              "#bd3786"
             ],
             [
              0.5555555555555556,
              "#d8576b"
             ],
             [
              0.6666666666666666,
              "#ed7953"
             ],
             [
              0.7777777777777778,
              "#fb9f3a"
             ],
             [
              0.8888888888888888,
              "#fdca26"
             ],
             [
              1,
              "#f0f921"
             ]
            ],
            "type": "histogram2d"
           }
          ],
          "histogram2dcontour": [
           {
            "colorbar": {
             "outlinewidth": 0,
             "ticks": ""
            },
            "colorscale": [
             [
              0,
              "#0d0887"
             ],
             [
              0.1111111111111111,
              "#46039f"
             ],
             [
              0.2222222222222222,
              "#7201a8"
             ],
             [
              0.3333333333333333,
              "#9c179e"
             ],
             [
              0.4444444444444444,
              "#bd3786"
             ],
             [
              0.5555555555555556,
              "#d8576b"
             ],
             [
              0.6666666666666666,
              "#ed7953"
             ],
             [
              0.7777777777777778,
              "#fb9f3a"
             ],
             [
              0.8888888888888888,
              "#fdca26"
             ],
             [
              1,
              "#f0f921"
             ]
            ],
            "type": "histogram2dcontour"
           }
          ],
          "mesh3d": [
           {
            "colorbar": {
             "outlinewidth": 0,
             "ticks": ""
            },
            "type": "mesh3d"
           }
          ],
          "parcoords": [
           {
            "line": {
             "colorbar": {
              "outlinewidth": 0,
              "ticks": ""
             }
            },
            "type": "parcoords"
           }
          ],
          "pie": [
           {
            "automargin": true,
            "type": "pie"
           }
          ],
          "scatter": [
           {
            "fillpattern": {
             "fillmode": "overlay",
             "size": 10,
             "solidity": 0.2
            },
            "type": "scatter"
           }
          ],
          "scatter3d": [
           {
            "line": {
             "colorbar": {
              "outlinewidth": 0,
              "ticks": ""
             }
            },
            "marker": {
             "colorbar": {
              "outlinewidth": 0,
              "ticks": ""
             }
            },
            "type": "scatter3d"
           }
          ],
          "scattercarpet": [
           {
            "marker": {
             "colorbar": {
              "outlinewidth": 0,
              "ticks": ""
             }
            },
            "type": "scattercarpet"
           }
          ],
          "scattergeo": [
           {
            "marker": {
             "colorbar": {
              "outlinewidth": 0,
              "ticks": ""
             }
            },
            "type": "scattergeo"
           }
          ],
          "scattergl": [
           {
            "marker": {
             "colorbar": {
              "outlinewidth": 0,
              "ticks": ""
             }
            },
            "type": "scattergl"
           }
          ],
          "scattermap": [
           {
            "marker": {
             "colorbar": {
              "outlinewidth": 0,
              "ticks": ""
             }
            },
            "type": "scattermap"
           }
          ],
          "scattermapbox": [
           {
            "marker": {
             "colorbar": {
              "outlinewidth": 0,
              "ticks": ""
             }
            },
            "type": "scattermapbox"
           }
          ],
          "scatterpolar": [
           {
            "marker": {
             "colorbar": {
              "outlinewidth": 0,
              "ticks": ""
             }
            },
            "type": "scatterpolar"
           }
          ],
          "scatterpolargl": [
           {
            "marker": {
             "colorbar": {
              "outlinewidth": 0,
              "ticks": ""
             }
            },
            "type": "scatterpolargl"
           }
          ],
          "scatterternary": [
           {
            "marker": {
             "colorbar": {
              "outlinewidth": 0,
              "ticks": ""
             }
            },
            "type": "scatterternary"
           }
          ],
          "surface": [
           {
            "colorbar": {
             "outlinewidth": 0,
             "ticks": ""
            },
            "colorscale": [
             [
              0,
              "#0d0887"
             ],
             [
              0.1111111111111111,
              "#46039f"
             ],
             [
              0.2222222222222222,
              "#7201a8"
             ],
             [
              0.3333333333333333,
              "#9c179e"
             ],
             [
              0.4444444444444444,
              "#bd3786"
             ],
             [
              0.5555555555555556,
              "#d8576b"
             ],
             [
              0.6666666666666666,
              "#ed7953"
             ],
             [
              0.7777777777777778,
              "#fb9f3a"
             ],
             [
              0.8888888888888888,
              "#fdca26"
             ],
             [
              1,
              "#f0f921"
             ]
            ],
            "type": "surface"
           }
          ],
          "table": [
           {
            "cells": {
             "fill": {
              "color": "#EBF0F8"
             },
             "line": {
              "color": "white"
             }
            },
            "header": {
             "fill": {
              "color": "#C8D4E3"
             },
             "line": {
              "color": "white"
             }
            },
            "type": "table"
           }
          ]
         },
         "layout": {
          "annotationdefaults": {
           "arrowcolor": "#2a3f5f",
           "arrowhead": 0,
           "arrowwidth": 1
          },
          "autotypenumbers": "strict",
          "coloraxis": {
           "colorbar": {
            "outlinewidth": 0,
            "ticks": ""
           }
          },
          "colorscale": {
           "diverging": [
            [
             0,
             "#8e0152"
            ],
            [
             0.1,
             "#c51b7d"
            ],
            [
             0.2,
             "#de77ae"
            ],
            [
             0.3,
             "#f1b6da"
            ],
            [
             0.4,
             "#fde0ef"
            ],
            [
             0.5,
             "#f7f7f7"
            ],
            [
             0.6,
             "#e6f5d0"
            ],
            [
             0.7,
             "#b8e186"
            ],
            [
             0.8,
             "#7fbc41"
            ],
            [
             0.9,
             "#4d9221"
            ],
            [
             1,
             "#276419"
            ]
           ],
           "sequential": [
            [
             0,
             "#0d0887"
            ],
            [
             0.1111111111111111,
             "#46039f"
            ],
            [
             0.2222222222222222,
             "#7201a8"
            ],
            [
             0.3333333333333333,
             "#9c179e"
            ],
            [
             0.4444444444444444,
             "#bd3786"
            ],
            [
             0.5555555555555556,
             "#d8576b"
            ],
            [
             0.6666666666666666,
             "#ed7953"
            ],
            [
             0.7777777777777778,
             "#fb9f3a"
            ],
            [
             0.8888888888888888,
             "#fdca26"
            ],
            [
             1,
             "#f0f921"
            ]
           ],
           "sequentialminus": [
            [
             0,
             "#0d0887"
            ],
            [
             0.1111111111111111,
             "#46039f"
            ],
            [
             0.2222222222222222,
             "#7201a8"
            ],
            [
             0.3333333333333333,
             "#9c179e"
            ],
            [
             0.4444444444444444,
             "#bd3786"
            ],
            [
             0.5555555555555556,
             "#d8576b"
            ],
            [
             0.6666666666666666,
             "#ed7953"
            ],
            [
             0.7777777777777778,
             "#fb9f3a"
            ],
            [
             0.8888888888888888,
             "#fdca26"
            ],
            [
             1,
             "#f0f921"
            ]
           ]
          },
          "colorway": [
           "#636efa",
           "#EF553B",
           "#00cc96",
           "#ab63fa",
           "#FFA15A",
           "#19d3f3",
           "#FF6692",
           "#B6E880",
           "#FF97FF",
           "#FECB52"
          ],
          "font": {
           "color": "#2a3f5f"
          },
          "geo": {
           "bgcolor": "white",
           "lakecolor": "white",
           "landcolor": "#E5ECF6",
           "showlakes": true,
           "showland": true,
           "subunitcolor": "white"
          },
          "hoverlabel": {
           "align": "left"
          },
          "hovermode": "closest",
          "mapbox": {
           "style": "light"
          },
          "paper_bgcolor": "white",
          "plot_bgcolor": "#E5ECF6",
          "polar": {
           "angularaxis": {
            "gridcolor": "white",
            "linecolor": "white",
            "ticks": ""
           },
           "bgcolor": "#E5ECF6",
           "radialaxis": {
            "gridcolor": "white",
            "linecolor": "white",
            "ticks": ""
           }
          },
          "scene": {
           "xaxis": {
            "backgroundcolor": "#E5ECF6",
            "gridcolor": "white",
            "gridwidth": 2,
            "linecolor": "white",
            "showbackground": true,
            "ticks": "",
            "zerolinecolor": "white"
           },
           "yaxis": {
            "backgroundcolor": "#E5ECF6",
            "gridcolor": "white",
            "gridwidth": 2,
            "linecolor": "white",
            "showbackground": true,
            "ticks": "",
            "zerolinecolor": "white"
           },
           "zaxis": {
            "backgroundcolor": "#E5ECF6",
            "gridcolor": "white",
            "gridwidth": 2,
            "linecolor": "white",
            "showbackground": true,
            "ticks": "",
            "zerolinecolor": "white"
           }
          },
          "shapedefaults": {
           "line": {
            "color": "#2a3f5f"
           }
          },
          "ternary": {
           "aaxis": {
            "gridcolor": "white",
            "linecolor": "white",
            "ticks": ""
           },
           "baxis": {
            "gridcolor": "white",
            "linecolor": "white",
            "ticks": ""
           },
           "bgcolor": "#E5ECF6",
           "caxis": {
            "gridcolor": "white",
            "linecolor": "white",
            "ticks": ""
           }
          },
          "title": {
           "x": 0.05
          },
          "xaxis": {
           "automargin": true,
           "gridcolor": "white",
           "linecolor": "white",
           "ticks": "",
           "title": {
            "standoff": 15
           },
           "zerolinecolor": "white",
           "zerolinewidth": 2
          },
          "yaxis": {
           "automargin": true,
           "gridcolor": "white",
           "linecolor": "white",
           "ticks": "",
           "title": {
            "standoff": 15
           },
           "zerolinecolor": "white",
           "zerolinewidth": 2
          }
         }
        },
        "xaxis": {
         "anchor": "y",
         "domain": [
          0,
          1
         ],
         "title": {
          "text": "Occupational Prestige Score"
         }
        },
        "yaxis": {
         "anchor": "x",
         "domain": [
          0,
          1
         ],
         "title": {
          "text": "Annual Income"
         }
        }
       }
      },
      "text/html": [
       "<div>            <script src=\"https://cdnjs.cloudflare.com/ajax/libs/mathjax/2.7.5/MathJax.js?config=TeX-AMS-MML_SVG\"></script><script type=\"text/javascript\">if (window.MathJax && window.MathJax.Hub && window.MathJax.Hub.Config) {window.MathJax.Hub.Config({SVG: {font: \"STIX-Web\"}});}</script>                <script type=\"text/javascript\">window.PlotlyConfig = {MathJaxConfig: 'local'};</script>\n",
       "        <script charset=\"utf-8\" src=\"https://cdn.plot.ly/plotly-3.0.1.min.js\"></script>                <div id=\"61b58a5b-8ea7-405a-84cd-d84c42971a8c\" class=\"plotly-graph-div\" style=\"height:525px; width:100%;\"></div>            <script type=\"text/javascript\">                window.PLOTLYENV=window.PLOTLYENV || {};                                if (document.getElementById(\"61b58a5b-8ea7-405a-84cd-d84c42971a8c\")) {                    Plotly.newPlot(                        \"61b58a5b-8ea7-405a-84cd-d84c42971a8c\",                        [{\"customdata\":{\"dtype\":\"f8\",\"bdata\":\"AAAAAAAAJECamZmZmZktQAAAAAAAADBAMzMzMzNTUUAAAAAAAAAqQDMzMzMzMzhAAAAAAAAAIEDNzMzMzMw1QAAAAAAAACxAmpmZmZmZP0AAAAAAAAAqQGZmZmZm5k1AAAAAAAAAKECamZmZmZk1QAAAAAAAAChAmpmZmZl5UkAAAAAAAAAwQM3MzMzMDFVAAAAAAAAANEAAAAAAAKBUQAAAAAAAAC5AmpmZmZkZTUAAAAAAAAAsQM3MzMzMDFVAAAAAAAAAMEAzMzMzM3NPQAAAAAAAAChAMzMzMzOzOUAAAAAAAAAoQDMzMzMzMzhAAAAAAAAAMEAzMzMzM\\u002fNRQAAAAAAAADRAzczMzMzsUEAAAAAAAAAoQJqZmZmZmT9AAAAAAAAAKEAzMzMzM7M0QAAAAAAAADBAAAAAAADASUAAAAAAAAAoQDMzMzMzMzhAAAAAAAAAMkDNzMzMzCxUQAAAAAAAADBAMzMzMzMzOEAAAAAAAAAoQJqZmZmZeVJAAAAAAAAAMkAzMzMzMzM4QAAAAAAAADJAMzMzMzMzV0AAAAAAAAAwQJqZmZmZ2U9AAAAAAAAALEBmZmZmZuZBQAAAAAAAACJAmpmZmZnZQ0AAAAAAAAAqQDMzMzMzMylAAAAAAAAAJEDNzMzMzMw1QAAAAAAAADBAmpmZmZmZTkAAAAAAAAAqQDMzMzMzMzhAAAAAAAAALEBmZmZmZmZDQAAAAAAAADNAAAAAAADAUUAAAAAAAAAwQDMzMzMzc09AAAAAAAAAMECamZmZmZk1QAAAAAAAADRAAAAAAABAVEAAAAAAAAAsQGZmZmZm5kFAAAAAAAAAMEBmZmZmZuZSQAAAAAAAACBAmpmZmZmZMkAAAAAAAAAwQJqZmZmZeVJAAAAAAAAAKEAzMzMzM7M8QAAAAAAAACpAAAAAAAAAO0AAAAAAAAAqQDMzMzMzMylAAAAAAAAAM0CamZmZmVlSQAAAAAAAACpAzczMzMzMQ0AAAAAAAAAQQM3MzMzMDENAAAAAAAAAKEDNzMzMzExHQAAAAAAAACxAmpmZmZl5UkAAAAAAAAAsQAAAAAAAAElAAAAAAAAALEDNzMzMzAxVQAAAAAAAAChAZmZmZmZmQ0AAAAAAAAAoQJqZmZmZ2UNAAAAAAAAALEAzMzMzM\\u002fNQQAAAAAAAACpAmpmZmZmZOEAAAAAAAAAoQDMzMzMzszlAAAAAAAAAKEAzMzMzM1NRQAAAAAAAADBAMzMzMzMzREAAAAAAAAAwQJqZmZmZGTpAAAAAAAAANEDNzMzMzCxWQAAAAAAAADBAZmZmZmbmQkAAAAAAAAAyQGZmZmZmZlJAAAAAAAAANEBmZmZmZgZXQAAAAAAAAChAMzMzMzOzOUAAAAAAAAAwQM3MzMzMzDdAAAAAAAAAKECamZmZmZktQAAAAAAAAC5AAAAAAACgVEAAAAAAAAAxQGZmZmZmJk5AAAAAAAAAM0DNzMzMzCxWQAAAAAAAADBAMzMzMzNTUEAAAAAAAAAoQDMzMzMzMzhAAAAAAAAAMEAzMzMzM\\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\\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\\u002fAAAAAAAAO0AAAAAAAAAuQAAAAAAAAEBAAAAAAAAAKEAAAAAAAEBOQAAAAAAAAC5AzczMzMzMNUAAAAAAAAAsQM3MzMzMjE1AAAAAAAAAKEAAAAAAAIAxQAAAAAAAADBAMzMzMzNTUUAAAAAAAAAwQGZmZmZmZkFAAAAAAAAAMEBmZmZmZuZMQAAAAAAAAC5AmpmZmZmZNUAAAAAAAAAoQDMzMzMzMytAAAAAAAAAKEDNzMzMzMw1QAAAAAAAADJAZmZmZmamRkAAAAAAAAAsQAAAAAAAQE5AAAAAAAAAMECamZmZmTlUQAAAAAAAADBAMzMzMzOzTkAAAAAAAAAoQM3MzMzMzEJAAAAAAAAAM0CamZmZmRlCQAAAAAAAAChAMzMzMzOzTkAAAAAAAAAiQM3MzMzMzDVAAAAAAAAALECamZmZmRk4QAAAAAAAAChAmpmZmZlZQEAAAAAAAAAsQGZmZmZmZkNAAAAAAAAALEAzMzMzM3NMQAAAAAAAABhAmpmZmZmZLUAAAAAAAAAxQJqZmZmZOVRAAAAAAAAALEBmZmZmZiZRQAAAAAAAADBAAAAAAAAAVUAAAAAAAAAwQDMzMzMzs01AAAAAAAAAKEAzMzMzM7M8QAAAAAAAACpAzczMzMwMVUAAAAAAAAA0QAAAAAAA4FJAAAAAAAAALkDNzMzMzIxEQAAAAAAAACBAzczMzMxMN0AAAAAAAAAoQGZmZmZmZkNAAAAAAAAAMECamZmZmRk6QAAAAAAAADBAzczMzMzsUkAAAAAAAAAwQJqZmZmZ2VFAAAAAAAAAKECamZmZmdlDQAAAAAAAADFAMzMzMzPzUEAAAAAAAAAxQDMzMzMz805AAAAAAAAAMECamZmZmVlWQAAAAAAAACxAzczMzMzMOkAAAAAAAAAwQM3MzMzMDFVAAAAAAAAAKEAzMzMzMzM4QAAAAAAAAChAMzMzMzNzTEAAAAAAAAAsQM3MzMzMzDRAAAAAAAAAMEAAAAAAAABJQAAAAAAAADBAzczMzMwsU0AAAAAAAAAoQM3MzMzMTEtAAAAAAAAAJkCamZmZmZlCQAAAAAAAACpAmpmZmZnZQ0AAAAAAAAAoQAAAAAAAACxAAAAAAAAANEAzMzMzM\\u002fNUQAAAAAAAAChAMzMzMzMzKUAAAAAAAAAuQGZmZmZmpkZAAAAAAAAALEAAAAAAAABKQAAAAAAAACZAZmZmZmZmNkAAAAAAAAAoQM3MzMzMjEVAAAAAAAAAKEAzMzMzMzMpQAAAAAAAADFAzczMzMxMS0AAAAAAAAA0QJqZmZmZOVRAAAAAAAAAMEDNzMzMzAxPQAAAAAAAACxAmpmZmZmZPEAAAAAAAAAyQDMzMzMz01NAAAAAAAAAKkAzMzMzM7M5QAAAAAAAACxAzczMzMxMR0AAAAAAAAAuQM3MzMzMDFVAAAAAAAAAMUDNzMzMzAxDQAAAAAAAADJAmpmZmZnZT0AAAAAAAAAiQAAAAAAAAEpAAAAAAAAAIkAzMzMzMzM5QAAAAAAAAChAzczMzMzMN0AAAAAAAAAYQGZmZmZmZkNAAAAAAAAAMEDNzMzMzOxQQAAAAAAAADBAMzMzMzMzV0AAAAAAAAAsQAAAAAAAACxAAAAAAAAAKECamZmZmdlDQAAAAAAAACZAMzMzMzOzNEAAAAAAAAAqQDMzMzMz01NAAAAAAAAALECamZmZmZlDQAAAAAAAADBAmpmZmZk5VEAAAAAAAAAqQJqZmZmZeVJAAAAAAAAAMEAAAAAAACBVQAAAAAAAADRAmpmZmZlZVkAAAAAAAAAwQJqZmZmZ+VVAAAAAAAAAKkAAAAAAAIA8QAAAAAAAAChAZmZmZmYmQ0AAAAAAAAAuQM3MzMzMjE1AAAAAAAAALEDNzMzMzIxEQAAAAAAAAC5AmpmZmZk5UEAAAAAAAAAqQAAAAAAAgEVAAAAAAAAAKECamZmZmVlFQAAAAAAAADBAZmZmZmbmREAAAAAAAAAuQDMzMzMzszNAAAAAAAAAMEAAAAAAAIA8QAAAAAAAADBAmpmZmZk5VEAAAAAAAAAsQDMzMzMzMzhAAAAAAAAAKkAzMzMzM7M0QAAAAAAAADBAAAAAAAAAT0AAAAAAAAAwQM3MzMzMDFVAAAAAAAAAMEAzMzMzM\\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\\u002fNDQAAAAAAAAChAZmZmZmYmQ0AAAAAAAAAxQM3MzMzMzDdAAAAAAAAAKEBmZmZmZuY9QAAAAAAAAAhAAAAAAAAALEAAAAAAAAAqQGZmZmZmZkNAAAAAAAAAMkDNzMzMzAxQQAAAAAAAACpAAAAAAACASkAAAAAAAAAuQGZmZmZmZkNAAAAAAAAALkAAAAAAAABKQAAAAAAAAChAmpmZmZmZM0AAAAAAAAAyQGZmZmZmZkNAAAAAAAAALEAzMzMzMzMpQAAAAAAAAChAzczMzMzMNUAAAAAAAAAkQJqZmZmZmUBAAAAAAAAAKEAAAAAAAIBEQAAAAAAAACxAzczMzMxMS0AAAAAAAAAoQM3MzMzMDFVAAAAAAAAAMEDNzMzMzAxVQAAAAAAAACxAmpmZmZmZKkAAAAAAAAAwQDMzMzMzMylAAAAAAAAALkCamZmZmRk0QAAAAAAAACpAMzMzMzOzSEAAAAAAAAAwQJqZmZmZOVRAAAAAAAAAMkAAAAAAAOBSQAAAAAAAADBAmpmZmZlZU0AAAAAAAAAsQGZmZmZmxlFAAAAAAAAANEDNzMzMzExPQAAAAAAAADJAAAAAAABAQkAAAAAAAAAqQM3MzMzMzDRAAAAAAAAAKEAzMzMzMzMrQAAAAAAAACpAMzMzMzPzQkAAAAAAAAAwQM3MzMzMDFVAAAAAAAAAMkDNzMzMzExTQAAAAAAAAChAmpmZmZk5VEAAAAAAAAAkQJqZmZmZmTVAAAAAAAAAKkAAAAAAAABKQAAAAAAAAChAAAAAAAAAOUAAAAAAAAAoQDMzMzMzE1NAAAAAAAAALkAzMzMzMzM4QAAAAAAAACRAMzMzMzMzKUAAAAAAAAAmQDMzMzMzMylAAAAAAAAALEBmZmZmZiZLQAAAAAAAACxAmpmZmZkZNEAAAAAAAAAmQDMzMzMzc0VAAAAAAAAAMEBmZmZmZmZDQAAAAAAAADBAmpmZmZl5UkAAAAAAAAAsQDMzMzMzMy1AAAAAAAAALkAzMzMzM3NPQAAAAAAAACxAMzMzMzNTUUAAAAAAAAAxQAAAAAAAoFRAAAAAAAAAKEAzMzMzM7NAQAAAAAAAADBAZmZmZmZmUkAAAAAAAAAwQAAAAAAAgEZAAAAAAAAAJEDNzMzMzOxQQAAAAAAAAChAzczMzMxMS0AAAAAAAAAyQM3MzMzMjE1AAAAAAAAAIEAAAAAAAAAsQAAAAAAAACpAzczMzMxMN0AAAAAAAAAwQJqZmZmZGTpAAAAAAAAAMkCamZmZmVlTQAAAAAAAAChAMzMzMzMzOEAAAAAAAAAoQAAAAAAAAEBAAAAAAAAAMEBmZmZmZiZDQAAAAAAAAC5AmpmZmZmZQ0AAAAAAAAAqQJqZmZmZ2U9AAAAAAAAAKkAAAAAAAMBRQAAAAAAAADFAAAAAAAAAR0AAAAAAAAAiQDMzMzMzs1JAAAAAAAAAJkAAAAAAAAAsQAAAAAAAACBAzczMzMwMQ0AAAAAAAAAsQDMzMzMzc0VAAAAAAAAAKEDNzMzMzMw0QAAAAAAAADBAmpmZmZmZQ0AAAAAAAAAsQDMzMzMzs0ZAAAAAAAAAMECamZmZmXlVQAAAAAAAADBAmpmZmZl5UkAAAAAAAAAwQDMzMzMzM1dAAAAAAAAAMEAzMzMzMxNWQAAAAAAAADJAMzMzMzNTUUAAAAAAAAAwQM3MzMzM7FFAAAAAAAAAKEDNzMzMzExAQAAAAAAAACxAmpmZmZnZT0AAAAAAAAAsQAAAAAAAAEpAAAAAAAAAMkDNzMzMzIxFQAAAAAAAAChAMzMzMzMzOEAAAAAAAAAsQM3MzMzM7FBAAAAAAAAAMEAzMzMzM7NOQAAAAAAAACxAZmZmZmZmQ0AAAAAAAAAqQDMzMzMzMzhAAAAAAAAAGEAzMzMzM\\u002fNDQAAAAAAAADFAzczMzMyMUEAAAAAAAAAqQJqZmZmZmTxAAAAAAAAAMEAzMzMzMzM4QAAAAAAAACxAAAAAAACAQ0AAAAAAAAAgQM3MzMzMTD5AAAAAAAAALECamZmZmflTQAAAAAAAAC5AzczMzMzMQkAAAAAAAAAsQJqZmZmZmThAAAAAAAAAKEDNzMzMzMw0QAAAAAAAAChAMzMzMzMzOEAAAAAAAAAoQJqZmZmZmTVAAAAAAAAAKEAzMzMzMzNNQAAAAAAAACRAmpmZmZl5UkAAAAAAAAAqQDMzMzMzU1BAAAAAAAAAKkAAAAAAAIBEQAAAAAAAAChAAAAAAACARUAAAAAAAAAuQAAAAAAAAEBAAAAAAAAALkDNzMzMzIxEQAAAAAAAACJAzczMzMxMQEAAAAAAAAAzQDMzMzMzU1FAAAAAAAAAJkAAAAAAAAAsQAAAAAAAAChAAAAAAACARUAAAAAAAAAsQM3MzMzMDFVAAAAAAAAAKEBmZmZmZuZMQAAAAAAAACZAAAAAAAAAO0AAAAAAAAAsQDMzMzMzU1BAAAAAAAAAMEDNzMzMzAxQQAAAAAAAADFAAAAAAAAgVUAAAAAAAAAsQGZmZmZm5kFAAAAAAAAAMkDNzMzMzMw6QAAAAAAAADJAzczMzMwMVUAAAAAAAAAzQAAAAAAAoFRAAAAAAAAALEDNzMzMzAxPQAAAAAAAAC5AmpmZmZmZM0AAAAAAAAAkQJqZmZmZGTFAAAAAAAAAKEAzMzMzM7M0QAAAAAAAACZAMzMzMzMzKUAAAAAAAAAsQM3MzMzMLFNAAAAAAAAAKEDNzMzMzAxQQAAAAAAAACxAmpmZmZnZT0AAAAAAAAAoQDMzMzMzs0FAAAAAAAAAKkAzMzMzM7M0QAAAAAAAAChAMzMzMzNzT0AAAAAAAAAwQM3MzMzMDFVAAAAAAAAAMEAzMzMzM7NOQAAAAAAAACxAzczMzMwMVUAAAAAAAAAmQDMzMzMzMylAAAAAAAAAKEDNzMzMzAxVQAAAAAAAACJAmpmZmZkZOEAAAAAAAAAoQDMzMzMzs0ZAAAAAAAAAMECamZmZmdlJQAAAAAAAADFAmpmZmZnZUUAAAAAAAAAsQDMzMzMzs0hAAAAAAAAAKEAAAAAAAABAQAAAAAAAAChAzczMzMzMN0AAAAAAAAAwQAAAAAAAAE9AAAAAAAAAMEBmZmZmZiZOQAAAAAAAADBAzczMzMxMSkAAAAAAAAAuQJqZmZmZGUNAAAAAAAAAKEAzMzMzMzM4QAAAAAAAACBAmpmZmZmZM0AAAAAAAAAoQDMzMzMzsztAAAAAAAAAKEAzMzMzMzM4QAAAAAAAAChAZmZmZmbmQUAAAAAAAAAsQJqZmZmZGTpAAAAAAAAAM0BmZmZmZsZWQAAAAAAAACpAAAAAAACARUAAAAAAAAAwQJqZmZmZOVRAAAAAAAAALECamZmZmdlDQAAAAAAAAChAmpmZmZn5VUAAAAAAAAAoQGZmZmZmZkNAAAAAAAAALEAzMzMzM1NQQAAAAAAAACxAzczMzMyMQkAAAAAAAAAqQDMzMzMzMzhAAAAAAAAALEAAAAAAAEBOQAAAAAAAACxAZmZmZmYmTkAAAAAAAAAoQDMzMzMzszlAAAAAAAAAMEAzMzMzMxNTQAAAAAAAAChAmpmZmZmZNUAAAAAAAAAqQJqZmZmZGVBAAAAAAAAAJEAzMzMzMzM4QAAAAAAAADBAzczMzMwMVUAAAAAAAAAsQJqZmZmZ2U9AAAAAAAAAKECamZmZmZk4QAAAAAAAADFAAAAAAAAAPkAAAAAAAAAoQJqZmZmZmUJAAAAAAAAAKECamZmZmZk\\u002fQAAAAAAAADBAMzMzMzOzPEAAAAAAAAAwQDMzMzMzszxAAAAAAAAAMkCamZmZmTlUQAAAAAAAACZAmpmZmZmZNUAAAAAAAAAqQAAAAAAAACxAAAAAAAAAKkCamZmZmZkzQAAAAAAAAChAmpmZmZkZMUAAAAAAAAAzQAAAAAAAIFVAAAAAAAAAMUBmZmZmZmY2QAAAAAAAADJAMzMzMzOzTkAAAAAAAAAsQJqZmZmZ2VFAAAAAAAAAKECamZmZmRk\\u002fQAAAAAAAACpAAAAAAACARUAAAAAAAAAkQAAAAAAAADlAAAAAAAAAMUAzMzMzMzM4QAAAAAAAADJAmpmZmZnZT0AAAAAAAAAoQM3MzMzMzDVAAAAAAAAAKEAzMzMzM7M5QAAAAAAAAChAZmZmZmZmQ0AAAAAAAAAwQDMzMzMzc09AAAAAAAAAJkDNzMzMzMw0QAAAAAAAADBAzczMzMwMVUAAAAAAAAAmQJqZmZmZGTFAAAAAAAAAMEDNzMzMzIxNQAAAAAAAAChAZmZmZmamS0AAAAAAAAAoQDMzMzMzMylAAAAAAAAAMEDNzMzMzAxXQAAAAAAAADBAzczMzMwMVUAAAAAAAAAoQDMzMzMzs0BAAAAAAAAAKEBmZmZmZmZDQAAAAAAAADBAzczMzMyMREAAAAAAAAAxQAAAAAAAQE5AAAAAAAAANEAAAAAAAKBUQAAAAAAAADBAAAAAAACgVEAAAAAAAAAsQJqZmZmZmTpAAAAAAAAALEBmZmZmZmZDQAAAAAAAACpAAAAAAAAAOUAAAAAAAAAoQGZmZmZmJlFAAAAAAAAAMUAAAAAAACBSQAAAAAAAAChAZmZmZmZmKkAAAAAAAAAoQJqZmZmZmTVAAAAAAAAAKkCamZmZmZk1QAAAAAAAAChAMzMzMzNzQkAAAAAAAAAoQDMzMzMzMzhAAAAAAAAALEAzMzMzM7M3QAAAAAAAADBAzczMzMwsU0AAAAAAAAAuQDMzMzMzU1FAAAAAAAAAMEBmZmZmZuZSQAAAAAAAADBAAAAAAAAgVUAAAAAAAAAwQAAAAAAA4FJAAAAAAAAANEBmZmZmZmZDQAAAAAAAAChAAAAAAAAAUUAAAAAAAAAqQJqZmZmZmThAAAAAAAAAMkAzMzMzM3NPQAAAAAAAADBAzczMzMwMVUAAAAAAAAAsQM3MzMzMDE9AAAAAAAAAKkAzMzMzM1NRQAAAAAAAADBAzczMzMwMVUAAAAAAAAAxQAAAAAAAIFVAAAAAAAAAMECamZmZmTlUQAAAAAAAAChAZmZmZmbmQUAAAAAAAAAwQDMzMzMzs05AAAAAAAAAMEBmZmZmZmZSQAAAAAAAADBAmpmZmZmZTkAAAAAAAAAoQGZmZmZmZkxAAAAAAAAAMEAzMzMzM\\u002fNRQAAAAAAAACZAzczMzMxMQUAAAAAAAAAwQM3MzMzMzEJAAAAAAAAAKkAAAAAAAABKQAAAAAAAADBAAAAAAACgVEAAAAAAAAAoQDMzMzMzMzhAAAAAAAAAKECamZmZmZk1QAAAAAAAACxAZmZmZmbmREAAAAAAAAAwQDMzMzMz81BAAAAAAAAAKkAzMzMzM\\u002fNNQAAAAAAAAChAZmZmZmYmQ0AAAAAAAAAuQJqZmZmZGTRAAAAAAAAAKEAzMzMzM3NPQAAAAAAAAChAMzMzMzMzOEAAAAAAAAAkQDMzMzMzszlAAAAAAAAAKkAzMzMzM7NEQAAAAAAAADBAAAAAAAAgVUAAAAAAAAAoQAAAAAAAACxAAAAAAAAAMkCamZmZmTlUQAAAAAAAACJAmpmZmZnZQ0AAAAAAAAAsQJqZmZmZmTxAAAAAAAAAMkDNzMzMzAxVQAAAAAAAACZAAAAAAACAREAAAAAAAAAiQJqZmZmZmTVAAAAAAAAAM0CamZmZmTlUQAAAAAAAACpAmpmZmZl5UkAAAAAAAAAmQAAAAAAAACxAAAAAAAAAKECamZmZmVlHQAAAAAAAAChAMzMzMzOzRUAAAAAAAAAoQDMzMzMzMzhAAAAAAAAAIkAzMzMzMzM5QAAAAAAAACpAzczMzMzMNUAAAAAAAAAgQDMzMzMzMytAAAAAAAAAKEDNzMzMzMw6QAAAAAAAAChAmpmZmZmZQkAAAAAAAAAoQGZmZmZm5kFAAAAAAAAAKEAAAAAAAEBOQAAAAAAAACBAMzMzMzMzKUAAAAAAAAAqQDMzMzMzMytAAAAAAAAAJEAzMzMzMzMrQAAAAAAAACxAAAAAAACAOkAAAAAAAAAgQDMzMzMzMytAAAAAAAAAKEAzMzMzMzM4QAAAAAAAACRAmpmZmZkZMUAAAAAAAAAQQAAAAAAAACxAAAAAAAAAKEAzMzMzMzMrQAAAAAAAAC5AMzMzMzNzTEAAAAAAAAA0QAAAAAAAoFRAAAAAAAAALEAzMzMzMzNDQAAAAAAAACpAMzMzMzNzT0AAAAAAAAAsQJqZmZmZmUhAAAAAAAAAMEBmZmZmZsZWQAAAAAAAADFAzczMzMxMPkAAAAAAAAAoQGZmZmZm5kFAAAAAAAAAMEDNzMzMzAxOQAAAAAAAADRAzczMzMwMVUAAAAAAAAA0QAAAAAAAIFVAAAAAAAAAKEAAAAAAAIA8QAAAAAAAADJAMzMzMzPTVUAAAAAAAAAwQM3MzMzMjE1AAAAAAAAAMEBmZmZmZuZMQAAAAAAAACxAzczMzMyMREAAAAAAAAA0QM3MzMzM7FBAAAAAAAAALkDNzMzMzExHQAAAAAAAADBAzczMzMwMVUAAAAAAAAAoQDMzMzMzMytAAAAAAAAAMUAAAAAAAKBUQAAAAAAAACxAAAAAAACAPEAAAAAAAAAYQJqZmZmZmS1AAAAAAAAAKkBmZmZmZuZEQAAAAAAAACpAZmZmZmbmTEAAAAAAAAAsQGZmZmZmZkNAAAAAAAAALEBmZmZmZiZOQAAAAAAAAChAAAAAAADgUkAAAAAAAAAiQJqZmZmZWUFAAAAAAAAAMEBmZmZmZuZTQAAAAAAAACpAAAAAAACAPEAAAAAAAAAoQJqZmZmZmT9AAAAAAAAAKEDNzMzMzMw1QAAAAAAAAChAmpmZmZkZNEAAAAAAAAAiQAAAAAAAACxAAAAAAAAALEBmZmZmZmZDQAAAAAAAADBAzczMzMzsUUAAAAAAAAAzQJqZmZmZ2VFAAAAAAAAAKECamZmZmZk\\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\",\"shape\":\"1121, 2\"},\"hovertemplate\":\"Sex=female\\u003cbr\\u003eOccupational Prestige Score=%{x}\\u003cbr\\u003eAnnual Income=%{y}\\u003cbr\\u003eeducation=%{customdata[0]}\\u003cbr\\u003esocioeconomic_index=%{customdata[1]}\\u003cextra\\u003e\\u003c\\u002fextra\\u003e\",\"legendgroup\":\"female\",\"marker\":{\"color\":\"#636efa\",\"symbol\":\"circle\"},\"mode\":\"markers\",\"name\":\"female\",\"showlegend\":true,\"x\":{\"dtype\":\"f8\",\"bdata\":\"AAAAAAAANkAAAAAAAIBNQAAAAAAAAEhAAAAAAACAQUAAAAAAAIBBQAAAAAAAgEZAAAAAAAAAPEAAAAAAAIBKQAAAAAAAAFBAAAAAAAAAUEAAAAAAAABDQAAAAAAAAFBAAAAAAAAAS0AAAAAAAABDQAAAAAAAAEhAAAAAAAAAUEAAAAAAAIBDQAAAAAAAgEFAAAAAAAAAOEAAAAAAAABIQAAAAAAAAEhAAAAAAABAUEAAAAAAAABIQAAAAAAAgEpAAAAAAAAASEAAAAAAAABUQAAAAAAAgEBAAAAAAAAAQEAAAAAAAAA\\u002fQAAAAAAAADlAAAAAAACAQUAAAAAAAIBFQAAAAAAAAEhAAAAAAACAR0AAAAAAAABNQAAAAAAAAEtAAAAAAAAAPEAAAAAAAIBPQAAAAAAAAEBAAAAAAACATEAAAAAAAIBCQAAAAAAAgE1AAAAAAACASUAAAAAAAABDQAAAAAAAADlAAAAAAACASUAAAAAAAABFQAAAAAAAgENAAAAAAABAUUAAAAAAAIBKQAAAAAAAgEZAAAAAAAAAUEAAAAAAAIBHQAAAAAAAAD9AAAAAAAAASkAAAAAAAABCQAAAAAAAAENAAAAAAACASkAAAAAAAAA\\u002fQAAAAAAAAEhAAAAAAADAUUAAAAAAAABCQAAAAAAAwFBAAAAAAAAAUkAAAAAAAABDQAAAAAAAADlAAAAAAAAANkAAAAAAAABQQAAAAAAAAEpAAAAAAADAUUAAAAAAAIBHQAAAAAAAAEhAAAAAAAAAUEAAAAAAAAA4QAAAAAAAAD9AAAAAAACATkAAAAAAAABAQAAAAAAAgEFAAAAAAAAAQ0AAAAAAAAA4QAAAAAAAgERAAAAAAACASEAAAAAAAABSQAAAAAAAAEhAAAAAAAAAP0AAAAAAAIBDQAAAAAAAgE5AAAAAAACAR0AAAAAAAAA2QAAAAAAAAEdAAAAAAAAAR0AAAAAAAIBGQAAAAAAAAD1AAAAAAAAAQEAAAAAAAABDQAAAAAAAgEZAAAAAAACAS0AAAAAAAABAQAAAAAAAAEhAAAAAAACAR0AAAAAAAIBNQAAAAAAAgEdAAAAAAACAQEAAAAAAAAA1QAAAAAAAAD9AAAAAAAAANUAAAAAAAIBDQAAAAAAAAE5AAAAAAAAAP0AAAAAAAIBIQAAAAAAAADlAAAAAAAAAQ0AAAAAAAIBDQAAAAAAAAEBAAAAAAAAANkAAAAAAAABQQAAAAAAAgEhAAAAAAAAASEAAAAAAAABIQAAAAAAAgEtAAAAAAACAR0AAAAAAAAA\\u002fQAAAAAAAAEdAAAAAAAAAOUAAAAAAAIBLQAAAAAAAAEhAAAAAAACAS0AAAAAAAABIQAAAAAAAgExAAAAAAACASkAAAAAAAABSQAAAAAAAgEhAAAAAAACASkAAAAAAAABHQAAAAAAAgEFAAAAAAACAR0AAAAAAAIBHQAAAAAAAgEZAAAAAAACATkAAAAAAAIBIQAAAAAAAAEpAAAAAAAAASkAAAAAAAEBQQAAAAAAAgEtAAAAAAAAAQ0AAAAAAAIBAQAAAAAAAgE5AAAAAAAAASEAAAAAAAABAQAAAAAAAAE5AAAAAAACATkAAAAAAAIBHQAAAAAAAwFJAAAAAAAAAMUAAAAAAAEBRQAAAAAAAgEhAAAAAAACAS0AAAAAAAEBRQAAAAAAAgEFAAAAAAACAR0AAAAAAAIBDQAAAAAAAAEJAAAAAAACAQ0AAAAAAAABIQAAAAAAAgEpAAAAAAACASUAAAAAAAIBBQAAAAAAAAE5AAAAAAACAQkAAAAAAAABHQAAAAAAAgFJAAAAAAABAUEAAAAAAAABSQAAAAAAAgEpAAAAAAACASkAAAAAAAABIQAAAAAAAgE9AAAAAAAAAQ0AAAAAAAABPQAAAAAAAgE5AAAAAAABAUUAAAAAAAAAxQAAAAAAAQFBAAAAAAACAUkAAAAAAAAA5QAAAAAAAgFJAAAAAAAAAQ0AAAAAAAIBHQAAAAAAAADZAAAAAAAAAOUAAAAAAAABIQAAAAAAAAEhAAAAAAAAASEAAAAAAAABQQAAAAAAAgEdAAAAAAAAAS0AAAAAAAIBHQAAAAAAAAEhAAAAAAACATkAAAAAAAIBJQAAAAAAAgENAAAAAAAAAOUAAAAAAAIBHQAAAAAAAgFJAAAAAAACASEAAAAAAAIBHQAAAAAAAAD9AAAAAAAAAQ0AAAAAAAIBDQAAAAAAAADpAAAAAAACAQEAAAAAAAAA5QAAAAAAAAFBAAAAAAACASkAAAAAAAABIQAAAAAAAgE5AAAAAAACAQ0AAAAAAAABOQAAAAAAAgEBAAAAAAAAAMEAAAAAAAABQQAAAAAAAAEZAAAAAAAAAN0AAAAAAAABIQAAAAAAAgEpAAAAAAACAR0AAAAAAAABIQAAAAAAAAEtAAAAAAAAASkAAAAAAAABDQAAAAAAAAENAAAAAAAAAUEAAAAAAAAA+QAAAAAAAAFBAAAAAAAAAOUAAAAAAAIBGQAAAAAAAAEdAAAAAAAAAR0AAAAAAAABQQAAAAAAAgENAAAAAAAAANkAAAAAAAAA5QAAAAAAAAEJAAAAAAACAS0AAAAAAAEBQQAAAAAAAAE5AAAAAAACAT0AAAAAAAIBIQAAAAAAAAFBAAAAAAACASkAAAAAAAIBHQAAAAAAAAD9AAAAAAAAAP0AAAAAAAABBQAAAAAAAAENAAAAAAAAASEAAAAAAAAA\\u002fQAAAAAAAAE5AAAAAAACAUkAAAAAAAAA4QAAAAAAAgEhAAAAAAAAAQ0AAAAAAAMBSQAAAAAAAAFBAAAAAAAAASEAAAAAAAABIQAAAAAAAgE1AAAAAAACASkAAAAAAAAA\\u002fQAAAAAAAAFBAAAAAAAAAPEAAAAAAAIBOQAAAAAAAAE5AAAAAAACAS0AAAAAAAABGQAAAAAAAQFJAAAAAAACAQ0AAAAAAAABDQAAAAAAAgEdAAAAAAACAR0AAAAAAAABPQAAAAAAAgEZAAAAAAAAAOEAAAAAAAABIQAAAAAAAAEdAAAAAAACARkAAAAAAAABIQAAAAAAAQFFAAAAAAAAAOEAAAAAAAEBQQAAAAAAAAE1AAAAAAAAAP0AAAAAAAIBKQAAAAAAAgEJAAAAAAACAQUAAAAAAAABJQAAAAAAAADxAAAAAAAAAOEAAAAAAAIBBQAAAAAAAgE5AAAAAAACAQkAAAAAAAIBHQAAAAAAAAD9AAAAAAACASUAAAAAAAABPQAAAAAAAQFFAAAAAAAAAP0AAAAAAAABHQAAAAAAAgEBAAAAAAACAQEAAAAAAAAA6QAAAAAAAAElAAAAAAACAR0AAAAAAAABUQAAAAAAAQFFAAAAAAAAANkAAAAAAAAA4QAAAAAAAgEZAAAAAAAAAQ0AAAAAAAMBQQAAAAAAAADlAAAAAAAAASEAAAAAAAIBJQAAAAAAAgExAAAAAAAAAP0AAAAAAAIBKQAAAAAAAgE5AAAAAAAAAOEAAAAAAAAA5QAAAAAAAAD9AAAAAAAAAQ0AAAAAAAABQQAAAAAAAAENAAAAAAAAAQ0AAAAAAAAA\\u002fQAAAAAAAAD9AAAAAAAAAQkAAAAAAAAA1QAAAAAAAAE5AAAAAAAAASEAAAAAAAABDQAAAAAAAAEVAAAAAAACASkAAAAAAAIBIQAAAAAAAgEhAAAAAAAAASEAAAAAAAIBKQAAAAAAAgEFAAAAAAAAASUAAAAAAAABDQAAAAAAAAENAAAAAAAAAQEAAAAAAAABKQAAAAAAAAFBAAAAAAAAATkAAAAAAAABDQAAAAAAAAD9AAAAAAAAASUAAAAAAAIBHQAAAAAAAgEZAAAAAAAAAPEAAAAAAAAA\\u002fQAAAAAAAAD5AAAAAAAAAP0AAAAAAAABEQAAAAAAAAEpAAAAAAACATkAAAAAAAIBPQAAAAAAAAENAAAAAAAAAR0AAAAAAAIBHQAAAAAAAAE5AAAAAAACAQEAAAAAAAIBMQAAAAAAAAD9AAAAAAAAAREAAAAAAAIBJQAAAAAAAAEhAAAAAAAAAQkAAAAAAAAA5QAAAAAAAgEFAAAAAAAAAR0AAAAAAAABIQAAAAAAAgEdAAAAAAACAS0AAAAAAAABDQAAAAAAAgEFAAAAAAACATkAAAAAAAIBBQAAAAAAAAENAAAAAAAAANkAAAAAAAIBKQAAAAAAAADhAAAAAAACAR0AAAAAAAAA8QAAAAAAAADVAAAAAAACAQUAAAAAAAAAxQAAAAAAAgE5AAAAAAACATkAAAAAAAIBLQAAAAAAAAD9AAAAAAACARUAAAAAAAABHQAAAAAAAgEFAAAAAAAAAPkAAAAAAAABDQAAAAAAAgEdAAAAAAACASEAAAAAAAAA2QAAAAAAAgE5AAAAAAAAASUAAAAAAAEBSQAAAAAAAQFBAAAAAAACASUAAAAAAAABQQAAAAAAAgE1AAAAAAACASkAAAAAAAAA5QAAAAAAAgEdAAAAAAAAASEAAAAAAAIBPQAAAAAAAAE9AAAAAAAAAP0AAAAAAAABKQAAAAAAAgElAAAAAAACATkAAAAAAAIBBQAAAAAAAAFBAAAAAAAAASEAAAAAAAIBIQAAAAAAAgENAAAAAAACARkAAAAAAAABMQAAAAAAAgERAAAAAAACAS0AAAAAAAAA\\u002fQAAAAAAAADVAAAAAAAAATkAAAAAAAAA5QAAAAAAAADFAAAAAAAAAR0AAAAAAAIBAQAAAAAAAgEVAAAAAAAAAOUAAAAAAAIBEQAAAAAAAgE5AAAAAAACASEAAAAAAAABIQAAAAAAAgE9AAAAAAAAAQ0AAAAAAAEBRQAAAAAAAAFBAAAAAAACAQ0AAAAAAAIBJQAAAAAAAAEdAAAAAAAAAPEAAAAAAAAA5QAAAAAAAgEdAAAAAAACAQ0AAAAAAAABUQAAAAAAAADVAAAAAAAAAP0AAAAAAAAA4QAAAAAAAgE9AAAAAAAAAQ0AAAAAAAIBOQAAAAAAAgEpAAAAAAACAUkAAAAAAAIBOQAAAAAAAAE5AAAAAAAAAOkAAAAAAAIBGQAAAAAAAAENAAAAAAACASkAAAAAAAIBNQAAAAAAAAENAAAAAAACASEAAAAAAAABEQAAAAAAAgEZAAAAAAAAAOkAAAAAAAIBOQAAAAAAAAEhAAAAAAAAAOEAAAAAAAIBGQAAAAAAAAFBAAAAAAAAAUEAAAAAAAABBQAAAAAAAAEdAAAAAAACATkAAAAAAAIBKQAAAAAAAAEhAAAAAAAAAO0AAAAAAAABFQAAAAAAAQFFAAAAAAAAAQ0AAAAAAAIBAQAAAAAAAQFBAAAAAAACARkAAAAAAAIBKQAAAAAAAgEBAAAAAAAAASEAAAAAAAABDQAAAAAAAADlAAAAAAACAQ0AAAAAAAAA5QAAAAAAAgEdAAAAAAAAAP0AAAAAAAABQQAAAAAAAgElAAAAAAACAR0AAAAAAAAA4QAAAAAAAgEJAAAAAAAAASEAAAAAAAIBHQAAAAAAAAENAAAAAAAAASUAAAAAAAABDQAAAAAAAAEhAAAAAAACASkAAAAAAAABJQAAAAAAAAEdAAAAAAACAR0AAAAAAAAA5QAAAAAAAAD9AAAAAAAAASEAAAAAAAABPQAAAAAAAgFJAAAAAAACATkAAAAAAAABCQAAAAAAAgENAAAAAAACAR0AAAAAAAABHQAAAAAAAgEVAAAAAAAAAR0AAAAAAAAA\\u002fQAAAAAAAgEdAAAAAAACAQ0AAAAAAAIBSQAAAAAAAAENAAAAAAAAAP0AAAAAAAAA8QAAAAAAAAEhAAAAAAAAAP0AAAAAAAEBRQAAAAAAAAENAAAAAAAAAQEAAAAAAAABQQAAAAAAAAEJAAAAAAAAASEAAAAAAAAA9QAAAAAAAAFJAAAAAAAAASUAAAAAAAABQQAAAAAAAAFBAAAAAAAAAQEAAAAAAAIBHQAAAAAAAAFBAAAAAAAAAUEAAAAAAAABIQAAAAAAAAEBAAAAAAACATkAAAAAAAABQQAAAAAAAgElAAAAAAACAQUAAAAAAAABDQAAAAAAAgEJAAAAAAAAAOUAAAAAAAIBJQAAAAAAAAEVAAAAAAAAAQkAAAAAAAABJQAAAAAAAAEhAAAAAAACAUkAAAAAAAABQQAAAAAAAgENAAAAAAACAR0AAAAAAAAA\\u002fQAAAAAAAgFJAAAAAAACAQkAAAAAAAIBBQAAAAAAAgEdAAAAAAACAR0AAAAAAAAA4QAAAAAAAADFAAAAAAAAAUEAAAAAAAABRQAAAAAAAAEhAAAAAAAAASEAAAAAAAMBRQAAAAAAAgENAAAAAAACAR0AAAAAAAAA\\u002fQAAAAAAAgFJAAAAAAACAR0AAAAAAAABIQAAAAAAAADZAAAAAAACAUkAAAAAAAAA5QAAAAAAAADlAAAAAAABAUEAAAAAAAIBIQAAAAAAAAD5AAAAAAACATkAAAAAAAABJQAAAAAAAAENAAAAAAAAAQEAAAAAAAAA5QAAAAAAAgEFAAAAAAAAAR0AAAAAAAABCQAAAAAAAgEBAAAAAAAAAUEAAAAAAAAA8QAAAAAAAAENAAAAAAAAARkAAAAAAAIBHQAAAAAAAgEdAAAAAAAAAP0AAAAAAAIBCQAAAAAAAgENAAAAAAACAS0AAAAAAAAA4QAAAAAAAAD9AAAAAAAAAPUAAAAAAAIBGQAAAAAAAADlAAAAAAACAQEAAAAAAAAA7QAAAAAAAgEdAAAAAAACASkAAAAAAAABPQAAAAAAAgEdAAAAAAAAAR0AAAAAAAAA\\u002fQAAAAAAAgEdAAAAAAAAAOUAAAAAAAIBBQAAAAAAAgEJAAAAAAACAQ0AAAAAAAIBEQAAAAAAAAFBAAAAAAAAAUEAAAAAAAAAwQAAAAAAAADlAAAAAAAAASEAAAAAAAABEQAAAAAAAgE5AAAAAAACATUAAAAAAAABNQAAAAAAAgElAAAAAAACAUEAAAAAAAAA5QAAAAAAAgENAAAAAAACAQEAAAAAAAIBIQAAAAAAAAFBAAAAAAACAS0AAAAAAAIBOQAAAAAAAADxAAAAAAAAAR0AAAAAAAIBBQAAAAAAAAE5AAAAAAAAASEAAAAAAAAA5QAAAAAAAADlAAAAAAAAASEAAAAAAAABIQAAAAAAAgEFAAAAAAACAR0AAAAAAAIBKQAAAAAAAADhAAAAAAAAAS0AAAAAAAIBKQAAAAAAAAFBAAAAAAAAAREAAAAAAAMBQQAAAAAAAAENAAAAAAACAQ0AAAAAAAIBEQAAAAAAAAENAAAAAAAAANUAAAAAAAAA5QAAAAAAAAEhAAAAAAAAAUkAAAAAAAABIQAAAAAAAgEFAAAAAAACARkAAAAAAAABFQAAAAAAAgEBAAAAAAAAATUAAAAAAAIBIQAAAAAAAgE5AAAAAAAAANUAAAAAAAIBDQAAAAAAAgEFAAAAAAACAQ0AAAAAAAABDQAAAAAAAgEhAAAAAAACAT0AAAAAAAIBKQAAAAAAAAFRAAAAAAACATUAAAAAAAIBKQAAAAAAAgE5AAAAAAAAANUAAAAAAAIBJQAAAAAAAAEdAAAAAAACARUAAAAAAAABIQAAAAAAAAE1AAAAAAACAS0AAAAAAAIBHQAAAAAAAAEhAAAAAAAAAR0AAAAAAAIBFQAAAAAAAAEhAAAAAAAAASEAAAAAAAAA\\u002fQAAAAAAAADJAAAAAAAAAT0AAAAAAAAA\\u002fQAAAAAAAAEJAAAAAAACAQ0AAAAAAAABIQAAAAAAAADxAAAAAAACARkAAAAAAAIBKQAAAAAAAAE5AAAAAAACAQ0AAAAAAAABDQAAAAAAAgEFAAAAAAACASkAAAAAAAABJQAAAAAAAgEpAAAAAAAAAO0AAAAAAAABDQAAAAAAAAFBAAAAAAACAR0AAAAAAAABDQAAAAAAAAE5AAAAAAACASkAAAAAAAIBSQAAAAAAAAEBAAAAAAAAAOUAAAAAAAABQQAAAAAAAAFBAAAAAAACARkAAAAAAAAA\\u002fQAAAAAAAADhAAAAAAAAAOEAAAAAAAAA5QAAAAAAAAExAAAAAAACASkAAAAAAAIBJQAAAAAAAAD9AAAAAAAAAOEAAAAAAAABLQAAAAAAAAFBAAAAAAACAS0AAAAAAAABQQAAAAAAAADlAAAAAAAAAUEAAAAAAAAA+QAAAAAAAgEhAAAAAAAAAP0AAAAAAAABPQAAAAAAAAERAAAAAAACAQEAAAAAAAAA5QAAAAAAAgEZAAAAAAAAASkAAAAAAAABGQAAAAAAAAEBAAAAAAAAASEAAAAAAAAA\\u002fQAAAAAAAADtAAAAAAAAASEAAAAAAAABAQAAAAAAAAEhAAAAAAABAUUAAAAAAAABDQAAAAAAAgE5AAAAAAAAAP0AAAAAAAABOQAAAAAAAgEdAAAAAAACAR0AAAAAAAAA3QAAAAAAAAEhAAAAAAACATkAAAAAAAABKQAAAAAAAAENAAAAAAAAATkAAAAAAAAA8QAAAAAAAgENAAAAAAAAASEAAAAAAAABQQAAAAAAAgEBAAAAAAAAAQkAAAAAAAIBKQAAAAAAAgEtAAAAAAACAQUAAAAAAAIBJQAAAAAAAgElAAAAAAACATkAAAAAAAAA8QAAAAAAAADVAAAAAAAAAP0AAAAAAAAA4QAAAAAAAgFJAAAAAAACAQEAAAAAAAIBLQAAAAAAAAE9AAAAAAAAAQkAAAAAAAABDQAAAAAAAgEFAAAAAAAAASEAAAAAAAIBJQAAAAAAAgEFAAAAAAAAAQ0AAAAAAAIBHQAAAAAAAAEtAAAAAAAAAPUAAAAAAAABQQAAAAAAAAEBAAAAAAAAAQ0AAAAAAAAA\\u002fQAAAAAAAADlAAAAAAAAAUkAAAAAAAABQQAAAAAAAAERAAAAAAACAR0AAAAAAAIBKQAAAAAAAgE5AAAAAAAAAUEAAAAAAAABQQAAAAAAAAEFAAAAAAACAR0AAAAAAAIBBQAAAAAAAAElAAAAAAAAAS0AAAAAAAABAQAAAAAAAADxAAAAAAAAAPEAAAAAAAABIQAAAAAAAAEhAAAAAAACAQUAAAAAAAABMQAAAAAAAgEpAAAAAAACATEAAAAAAAIBSQAAAAAAAgE1AAAAAAACAR0AAAAAAAABJQAAAAAAAAEJAAAAAAAAAS0AAAAAAAABQQAAAAAAAgEZAAAAAAACASkAAAAAAAABQQAAAAAAAgFJAAAAAAACATkAAAAAAAABAQAAAAAAAAEdAAAAAAADAUEAAAAAAAIBFQAAAAAAAAEZAAAAAAAAAUEAAAAAAAIBBQAAAAAAAAD9AAAAAAAAAR0AAAAAAAABQQAAAAAAAAEhAAAAAAAAAPEAAAAAAAABEQAAAAAAAAEpAAAAAAAAARUAAAAAAAABJQAAAAAAAAEhAAAAAAAAAS0AAAAAAAABIQAAAAAAAAENAAAAAAAAATkAAAAAAAIBSQAAAAAAAADVAAAAAAACATkAAAAAAAAA\\u002fQAAAAAAAAEhAAAAAAAAAUEAAAAAAAIBDQAAAAAAAADxAAAAAAACATkAAAAAAAIBKQAAAAAAAADVAAAAAAAAAPUAAAAAAAABCQAAAAAAAAEhAAAAAAAAAPEAAAAAAAIBBQAAAAAAAgEBAAAAAAACAQUAAAAAAAIBLQAAAAAAAAEBAAAAAAACATkAAAAAAAAA5QAAAAAAAgEBAAAAAAACAQEAAAAAAAIBAQAAAAAAAgEBAAAAAAAAASEAAAAAAAAA4QAAAAAAAADVAAAAAAACAQEAAAAAAAIBIQAAAAAAAAFBAAAAAAACASUAAAAAAAABLQAAAAAAAAEpAAAAAAABAUUAAAAAAAAAyQAAAAAAAAEBAAAAAAAAAR0AAAAAAAABQQAAAAAAAgFJAAAAAAAAAOkAAAAAAAEBQQAAAAAAAAENAAAAAAACAQkAAAAAAAIBKQAAAAAAAgENAAAAAAABAUUAAAAAAAABQQAAAAAAAADVAAAAAAAAAUEAAAAAAAAA6QAAAAAAAADZAAAAAAAAAREAAAAAAAIBHQAAAAAAAgEdAAAAAAACAQ0AAAAAAAIBNQAAAAAAAgEdAAAAAAACATUAAAAAAAAA6QAAAAAAAAEFAAAAAAACAQUAAAAAAAABIQAAAAAAAADtAAAAAAACAR0AAAAAAAIBOQAAAAAAAAE9AAAAAAACAQUAAAAAAAIBJQAAAAAAAAEdAAAAAAACATkAAAAAAAABQQAAAAAAAADVAAAAAAABAUUAAAAAAAABPQAAAAAAAAFBAAAAAAACAQ0AAAAAAAABHQAAAAAAAAFBAAAAAAAAAUkAAAAAAAIBAQAAAAAAAAEdAAAAAAACAR0AAAAAAAABKQAAAAAAAAEZAAAAAAAAAQEAAAAAAAIBKQAAAAAAAgEpAAAAAAACASEAAAAAAAAA5QAAAAAAAADlAAAAAAAAASEAAAAAAAAA\\u002fQAAAAAAAADhAAAAAAAAAQEAAAAAAAAA\\u002fQAAAAAAAAENAAAAAAAAATkAAAAAAAIBCQAAAAAAAQFFAAAAAAAAAO0AAAAAAAABDQAAAAAAAADVAAAAAAAAAQEAAAAAAAAA\\u002fQAAAAAAAADlAAAAAAACAQUAAAAAAAAA8QAAAAAAAAD9AAAAAAACASkAAAAAAAABCQAAAAAAAADlAAAAAAAAANUAAAAAAAIBDQAAAAAAAAE5AAAAAAAAAUEAAAAAAAIBHQAAAAAAAAEhAAAAAAACAQ0AAAAAAAABIQAAAAAAAgEBAAAAAAAAAPEAAAAAAAABIQAAAAAAAAD9AAAAAAAAAR0AAAAAAAABQQAAAAAAAgEpAAAAAAAAAQ0AAAAAAAAA\\u002fQAAAAAAAgEFAAAAAAACASEAAAAAAAAA\\u002fQAAAAAAAADlAAAAAAACATkAAAAAAAIBLQAAAAAAAgENAAAAAAACAS0AAAAAAAIBSQAAAAAAAgEtAAAAAAAAAQ0AAAAAAAABIQAAAAAAAADlAAAAAAACAS0AAAAAAAAA1QAAAAAAAADhAAAAAAAAAOEAAAAAAAAA\\u002fQAAAAAAAAE9AAAAAAACATUAAAAAAAABAQAAAAAAAgEBAAAAAAAAAOUAAAAAAAIBOQAAAAAAAgENAAAAAAAAAQkAAAAAAAIBHQAAAAAAAAEhAAAAAAAAASEAAAAAAAIBLQAAAAAAAADVAAAAAAAAAMUAAAAAAAIBIQAAAAAAAAD9AAAAAAAAAUEAAAAAAAIBBQAAAAAAAAEhAAAAAAAAASEAAAAAAAABIQAAAAAAAgEFAAAAAAACAQ0AAAAAAAIBOQAAAAAAAgEZAAAAAAAAASUAAAAAAAABQQAAAAAAAAD9AAAAAAAAARkAAAAAAAABEQAAAAAAAADlAAAAAAACASkAAAAAAAABQQAAAAAAAgEFAAAAAAACAQEAAAAAAAAA\\u002fQAAAAAAAgEdAAAAAAAAAOUAAAAAAAAA8QAAAAAAAgEZAAAAAAAAASEAAAAAAAIBHQAAAAAAAADhAAAAAAACATkAAAAAAAABIQAAAAAAAAD9AAAAAAAAASEAAAAAAAAA2QAAAAAAAgE5AAAAAAACARkAAAAAAAABIQAAAAAAAAD9AAAAAAAAASUAAAAAAAABDQAAAAAAAADlAAAAAAACARkAAAAAAAABDQAAAAAAAAEBAAAAAAACARkAAAAAAAABAQAAAAAAAgENAAAAAAAAAQ0AAAAAAAIBBQAAAAAAAAFBAAAAAAAAAQUAAAAAAAIBDQAAAAAAAgEBAAAAAAAAAREAAAAAAAAA5QAAAAAAAgEdAAAAAAAAAQUAAAAAAAABEQAAAAAAAADxAAAAAAAAASEAAAAAAAIBSQAAAAAAAAEhAAAAAAACASEAAAAAAAIBGQAAAAAAAADVAAAAAAAAAP0AAAAAAAIBHQAAAAAAAAFBAAAAAAACATkAAAAAAAIBNQAAAAAAAAE1AAAAAAAAASEAAAAAAAAA\\u002fQAAAAAAAgEhAAAAAAAAAPEAAAAAAAABEQA==\"},\"xaxis\":\"x\",\"y\":{\"dtype\":\"f8\",\"bdata\":\"AAAAAKA\\u002f1kDLEMe6zk8DQQAAAADgq8lAAAAAAAAfrkAAAAAAIBjNQAAAAAAwQtBAAAAAAADolUAAAAAAsBrnQAAAAABAHfFAAAAAABA97EAAAAAAgIn0QAAAAABAHfFAAAAAABA97EAAAAAA4KvZQAAAAABg0+JAAAAAAICJ9EAAAAAAQB3xQAAAAABg08JAAAAAAEDO3kAAAAAAED3sQAAAAACgP9ZAyxDHus5PA0EAAAAAQB3xQAAAAABg09JAAAAAABA97EAAAAAAYNPiQAAAAACAifRAAAAAAACluEAAAAAAgIm0QAAAAAAAH65AAAAAAOCr2UAAAAAAYNPiQAAAAADgq9lAAAAAAABi+0AAAAAAwPX3QAAAAACgP8ZAAAAAALAa50DLEMe6zk8DQcsQx7rOTwNByxDHus5PA0EAAAAAsBrnQAAAAABAHfFAAAAAAGDT4kAAAAAAsBrnQAAAAADgq9lAAAAAAICJ9EAAAAAAQB3xQAAAAAAApbhAAAAAAADolUAAAAAAQB3xQAAAAAAAYvtAAAAAAEAd8UAAAAAAAGL7QAAAAABAzr5AAAAAAGDT4kAAAAAAsBrnQAAAAABAHfFAAAAAABA97EAAAAAAsBrnQAAAAAAQPexAAAAAABA97EAAAAAAAOh1QAAAAAAAYvtAAAAAAOCr2UAAAAAAYNPiQAAAAADA9fdAAAAAAKA\\u002f1kAAAAAAoD\\u002fWQAAAAABg08JAAAAAAEAd8UAAAAAAsBrnQAAAAAAApahAAAAAABA97EAAAAAAQM6+QAAAAABg09JAAAAAAEDO3kAAAAAA4KvJQAAAAABg08JAAAAAALAa50AAAAAAAB+uQAAAAABAzt5AAAAAAABi+0DLEMe6zk8DQQAAAABAzr5AAAAAAABi+0AAAAAAQB3xQMsQx7rOTwNBAAAAAEAd8UAAAAAAsBrnQAAAAADA9fdAyxDHus5PA0EAAAAAgIn0QAAAAAAQPexAAAAAAEAd8UAAAAAAIBjNQAAAAACgP9ZAAAAAAKA\\u002f1kAAAAAAIBjNQAAAAABAzr5AAAAAAOCr2UAAAAAAwPX3QMsQx7rOTwNBAAAAALAa50AAAAAAsBrnQAAAAAAQPexAAAAAAOCr2UAAAAAAYNPSQAAAAACwGudAAAAAAEDO3kDLEMe6zk8DQQAAAACgP9ZAAAAAAMD190AAAAAAoD\\u002fWQAAAAAAQPexAAAAAAIDMsUAAAAAAYNPCQAAAAACgP8ZAAAAAAGDTwkAAAAAAYNPiQAAAAAAAYvtAAAAAABA97EDLEMe6zk8DQQAAAAAQPexAAAAAABA97EAAAAAAsBrnQAAAAABAHfFAAAAAABA97EAAAAAAoD\\u002fWQMsQx7rOTwNBAAAAALAa50AAAAAAsBrnQAAAAACAifRAAAAAAABi+0AAAAAAQM7eQAAAAABg0+JAAAAAADBC0EAAAAAAQM7eQAAAAAAAYvtAAAAAALAa50AAAAAAED3sQAAAAADA9fdAyxDHus5PA0EAAAAAgIn0QAAAAAAwQtBAAAAAAKA\\u002f1kAAAAAAYNPiQAAAAADA9fdAAAAAADBC0EAAAAAAAOiVQAAAAAAwQtBAAAAAABA97EAAAAAAsBrnQMsQx7rOTwNBAAAAAEDO3kDLEMe6zk8DQcsQx7rOTwNByxDHus5PA0EAAAAAED3sQAAAAAAApbhAAAAAAKA\\u002fxkAAAAAAoD\\u002fGQAAAAABAzt5AyxDHus5PA0EAAAAAMELQQMsQx7rOTwNBAAAAALAa50AAAAAAYNPCQAAAAAAQPexAAAAAAGDT4kAAAAAAQM7eQAAAAADA9fdAAAAAABA97EDLEMe6zk8DQcsQx7rOTwNBAAAAAEAd8UAAAAAAYNPiQMsQx7rOTwNBAAAAAICJ9EAAAAAAwPX3QAAAAABAHfFAyxDHus5PA0EAAAAAsBrnQAAAAACwGudAAAAAAOCr2UAAAAAA4KvZQAAAAACAibRAyxDHus5PA0EAAAAAAGL7QAAAAAAApahAAAAAAEDO3kAAAAAAoD\\u002fGQAAAAAAApbhAAAAAACAYzUAAAAAAwPX3QAAAAABg0+JAAAAAAGDT4kAAAAAAwPX3QAAAAABAzt5AAAAAAMD190AAAAAAACujQMsQx7rOTwNBAAAAAICJ9EAAAAAAAGL7QAAAAACAifRAAAAAAOCr2UAAAAAAgIn0QMsQx7rOTwNBAAAAAOCr2UAAAAAAED3sQAAAAABg0+JAAAAAAEAd8UAAAAAAoD\\u002fWQAAAAAAAYvtAAAAAAGDT4kAAAAAAsBrnQMsQx7rOTwNBAAAAAICJ9EDLEMe6zk8DQQAAAAAQPexAAAAAAGDT0kAAAAAAoD\\u002fWQMsQx7rOTwNBAAAAAICJ9EAAAAAAAGL7QMsQx7rOTwNBAAAAAKA\\u002f1kAAAAAA4KvZQAAAAACwGudAAAAAAICJ9EAAAAAAQB3xQAAAAACAifRAAAAAABA97EAAAAAAYNPiQAAAAAAwQtBAAAAAALAa50AAAAAAoD\\u002fWQMsQx7rOTwNByxDHus5PA0EAAAAAQM7eQAAAAACgP8ZAAAAAAEDO3kAAAAAAACujQAAAAAAQPexAAAAAAEAd8UAAAAAAQB3xQAAAAAAAYvtAAAAAALAa50DLEMe6zk8DQQAAAACgP9ZAAAAAAICJ9EAAAAAAsBrnQMsQx7rOTwNBAAAAACAYzUAAAAAAAKW4QAAAAACwGudAAAAAAGDT4kAAAAAAACujQMsQx7rOTwNBAAAAADBC0EAAAAAAAOh1QAAAAABg0+JAAAAAALAa50AAAAAAQB3xQAAAAACAifRAAAAAACAYzUAAAAAAAOh1QAAAAABAHfFAAAAAAABi+0AAAAAAED3sQAAAAACwGudAAAAAALAa50AAAAAAsBrnQAAAAACwGudAAAAAAGDT4kAAAAAAAGL7QAAAAACgP9ZAAAAAAKA\\u002f1kAAAAAAQM6+QAAAAACgP8ZAAAAAAKA\\u002f1kAAAAAAYNPiQAAAAABAzt5AAAAAABA97EAAAAAAQM6+QAAAAABg09JAAAAAAEAd8UAAAAAAQB3xQAAAAACwGudAAAAAALAa50DLEMe6zk8DQcsQx7rOTwNBAAAAAGDT0kDLEMe6zk8DQQAAAABg09JAAAAAALAa50AAAAAAgMyxQAAAAACgP9ZAAAAAAAAfrkAAAAAAIBjNQAAAAADgq8lAAAAAAKA\\u002f1kDLEMe6zk8DQQAAAACAifRAAAAAAEAd8UAAAAAAgIn0QAAAAADgq9lAAAAAAOCryUAAAAAA4KvZQAAAAADgq9lAAAAAAEDOvkAAAAAAsBrnQAAAAADgq9lAAAAAAICJ9EAAAAAAYNPCQAAAAACAifRAyxDHus5PA0EAAAAA4KvJQAAAAABAzr5AAAAAAAClqEAAAAAAYNPiQAAAAABg08JAAAAAAKA\\u002f1kAAAAAAED3sQAAAAABg0+JAAAAAAEAd8UAAAAAAQB3xQMsQx7rOTwNBAAAAAABi+0AAAAAAQB3xQAAAAAAApahAAAAAAGDT4kAAAAAA4KvZQAAAAACwGudAAAAAAABi+0AAAAAAoD\\u002fGQAAAAAAwQtBAAAAAAEDO3kAAAAAAQM6+QAAAAABAHfFAAAAAAAAro0AAAAAAoD\\u002fWQAAAAABAHfFAAAAAABA97EAAAAAAoD\\u002fWQAAAAADgq9lAAAAAAEDO3kDLEMe6zk8DQQAAAAAQPexAAAAAAABi+0DLEMe6zk8DQQAAAACAibRAAAAAAGDT4kAAAAAAoD\\u002fGQAAAAACwGudAAAAAAEAd8UAAAAAAwPX3QMsQx7rOTwNBAAAAADBC0EAAAAAAQM7eQAAAAABg0+JAAAAAAEDO3kAAAAAAoD\\u002fGQAAAAACgP8ZAAAAAALAa50AAAAAAQB3xQAAAAACwGudAAAAAAGDT4kAAAAAAwPX3QAAAAAAQPexAyxDHus5PA0EAAAAAsBrnQAAAAADA9fdAAAAAAGDTwkAAAAAAQB3xQAAAAADgq9lAAAAAAKA\\u002fxkAAAAAAQB3xQAAAAACgP9ZAAAAAAOCryUAAAAAAsBrnQAAAAAAQPexAAAAAAGDT4kAAAAAAQM6+QMsQx7rOTwNBAAAAAOCr2UAAAAAAYNPiQAAAAAAwQtBAAAAAAGDT0kAAAAAA4KvZQAAAAABAzt5AAAAAACAYzUDLEMe6zk8DQQAAAABg09JAAAAAALAa50AAAAAAYNPiQAAAAACAibRAAAAAACAYzUAAAAAAQB3xQAAAAACwGudAAAAAALAa50AAAAAAED3sQAAAAAAQPexAAAAAAABi+0DLEMe6zk8DQQAAAACgP9ZAAAAAALAa50AAAAAAIBjNQAAAAAAQPexAAAAAALAa50AAAAAAYNPCQAAAAAAQPexAAAAAAICJ9EAAAAAAAOh1QAAAAABAHfFAAAAAAABi+0AAAAAAQM7eQAAAAACwGudAAAAAAEDO3kAAAAAAAOh1QAAAAABAzr5AyxDHus5PA0HLEMe6zk8DQQAAAAAQPexAAAAAAEDOvkAAAAAAQB3xQAAAAAAQPexAAAAAALAa50AAAAAAMELQQAAAAADA9fdAAAAAACAYzUAAAAAAIBjNQAAAAABAzr5AAAAAAKA\\u002f1kAAAAAAoD\\u002fWQAAAAABAzr5AAAAAAOCr2UAAAAAAYNPCQAAAAAAAH65AAAAAAOCr2UAAAAAAYNPSQAAAAABg0+JAAAAAALAa50AAAAAAwPX3QAAAAADgq9lAAAAAAGDT0kAAAAAAgIn0QAAAAACgP9ZAAAAAABA97EDLEMe6zk8DQQAAAAAAYvtAAAAAAGDT4kAAAAAAsBrnQAAAAAAgGM1AAAAAAOCr2UAAAAAAoD\\u002fWQAAAAACgP9ZAAAAAAOCryUAAAAAAYNPCQAAAAAAQPexAAAAAAKA\\u002f1kAAAAAAoD\\u002fWQAAAAADgq8lAAAAAAEAd8UAAAAAAYNPiQAAAAAAQPexAAAAAADBC0EAAAAAAgIn0QMsQx7rOTwNBAAAAAICJ9EAAAAAAQB3xQMsQx7rOTwNBAAAAAICJ9EAAAAAAQM7eQAAAAACgP8ZAAAAAAIDMsUAAAAAA4KvZQAAAAADgq8lAAAAAAOCr2UAAAAAAQB3xQAAAAABAHfFAAAAAADBC0EAAAAAAAGL7QAAAAABg09JAAAAAAGDT0kAAAAAAQB3xQAAAAACAifRAAAAAAEAd8UDLEMe6zk8DQQAAAABAzt5AAAAAAOCryUAAAAAAQM7eQAAAAABAzt5AAAAAAKA\\u002fxkAAAAAAYNPiQAAAAAAgGM1AAAAAAOCr2UAAAAAAYNPSQAAAAACAifRAAAAAAABi+0AAAAAAQM7eQAAAAAAwQtBAAAAAAGDT4kAAAAAAYNPSQAAAAABg09JAAAAAAOCr2UAAAAAAYNPiQAAAAABg0+JAAAAAALAa50AAAAAAsBrnQAAAAABg0+JAAAAAAKA\\u002f1kAAAAAAMELQQAAAAAAA6JVAAAAAAOCryUAAAAAAED3sQAAAAADgq8lAAAAAAMD190AAAAAAYNPSQAAAAADgq9lAAAAAALAa50AAAAAAsBrnQMsQx7rOTwNBAAAAAEDO3kAAAAAAYNPSQAAAAAAgGM1AAAAAAGDT4kAAAAAAIBjNQAAAAABAHfFAyxDHus5PA0EAAAAAYNPSQAAAAABg09JAAAAAAEDOvkAAAAAA4KvZQAAAAACgP9ZAAAAAAKA\\u002f1kAAAAAAsBrnQAAAAABg0+JAAAAAADBC0EDLEMe6zk8DQQAAAADgq9lAAAAAAGDT0kAAAAAAYNPiQAAAAAAgGM1AAAAAAKA\\u002f1kDLEMe6zk8DQQAAAABAzt5AAAAAAEDO3kAAAAAAwPX3QMsQx7rOTwNBAAAAALAa50AAAAAAACujQMsQx7rOTwNBAAAAAMD190AAAAAAAGL7QMsQx7rOTwNBAAAAABA97EAAAAAAAGL7QAAAAAAAYvtAAAAAAMD190AAAAAAoD\\u002fGQAAAAACgP9ZAAAAAALAa50AAAAAAQM7eQAAAAACgP9ZAAAAAAKA\\u002f1kAAAAAAQB3xQAAAAADgq9lAAAAAAGDT4kAAAAAAQM7eQAAAAAAgGM1AAAAAAICJ9EAAAAAAQB3xQAAAAAAQPexAAAAAAKA\\u002f1kAAAAAA4KvZQAAAAADgq9lAAAAAAOCr2UAAAAAAQM7eQAAAAACAifRAAAAAAKA\\u002f1kAAAAAAMELQQAAAAACwGudAAAAAACAYzUAAAAAAAKW4QAAAAABAHfFAAAAAALAa50AAAAAAAGL7QAAAAABg0+JAAAAAAGDT0kAAAAAAsBrnQAAAAABAHfFAAAAAAOCr2UAAAAAAQM7eQAAAAABAzr5AAAAAAADodUAAAAAAAKW4QAAAAAAwQtBAAAAAAEDO3kAAAAAAoD\\u002fGQAAAAAAApahAAAAAAICJ9EAAAAAAgIn0QAAAAAAAK6NAAAAAAEDO3kDLEMe6zk8DQQAAAABg0+JAAAAAAEAd8UAAAAAAQM6+QAAAAACgP9ZAAAAAAICJ9EAAAAAAMELQQAAAAADA9fdAAAAAAGDT4kAAAAAAsBrnQAAAAADgq8lAAAAAAEDO3kDLEMe6zk8DQQAAAACwGudAAAAAAADolUAAAAAAsBrnQAAAAABAHfFAAAAAADBC0EAAAAAAgIm0QAAAAABg0+JAAAAAALAa50AAAAAAYNPiQAAAAACgP9ZAAAAAALAa50AAAAAAoD\\u002fGQAAAAACwGudAAAAAAEDO3kAAAAAAQM7eQAAAAAAQPexAAAAAABA97EAAAAAAQM7eQMsQx7rOTwNBAAAAALAa50AAAAAAsBrnQAAAAACgP9ZAAAAAAGDTwkAAAAAAsBrnQAAAAACwGudAAAAAABA97EAAAAAAQM7eQAAAAACwGudAAAAAAGDT0kAAAAAAsBrnQAAAAAAQPexAAAAAAGDT4kAAAAAAIBjNQAAAAACwGudAAAAAAEAd8UAAAAAAQB3xQAAAAABAzr5AAAAAAGDT0kAAAAAAsBrnQAAAAACwGudAAAAAABA97EAAAAAAYNPCQAAAAAAwQtBAAAAAALAa50AAAAAAQM7eQAAAAACwGudAAAAAAEDOvkAAAAAAACujQAAAAAAApbhAAAAAAEDO3kAAAAAAYNPCQAAAAABAzt5AAAAAAEAd8UAAAAAAYNPSQAAAAADgq9lAAAAAALAa50AAAAAAQM7eQAAAAACgP9ZAAAAAACAYzUAAAAAAoD\\u002fWQAAAAAAgGM1AAAAAAGDTwkAAAAAAQB3xQAAAAACwGudAAAAAAEDOvkAAAAAAED3sQAAAAAAA6HVAAAAAAABi+0AAAAAAQM6+QAAAAACAifRAAAAAALAa50AAAAAAYNPiQMsQx7rOTwNBAAAAAICJtEAAAAAAED3sQAAAAADgq9lAAAAAAOCr2UAAAAAAYNPiQAAAAABAzr5AAAAAACAYzUAAAAAA4KvJQAAAAACgP9ZAAAAAAGDT4kDLEMe6zk8DQcsQx7rOTwNByxDHus5PA0HLEMe6zk8DQQAAAABAzr5AAAAAAGDT0kAAAAAAQM7eQAAAAADgq9lAAAAAAGDT0kAAAAAAgIn0QAAAAABg09JAAAAAAGDT4kAAAAAAQM7eQAAAAABg09JAAAAAAKA\\u002fxkAAAAAAYNPSQAAAAADgq8lAAAAAAEDO3kAAAAAAIBjNQAAAAACgP9ZAAAAAADBC0EAAAAAAsBrnQAAAAACwGudAAAAAAEAd8UAAAAAAYNPCQAAAAADgq9lAAAAAAEAd8UAAAAAAAKW4QAAAAABg08JAAAAAAADodUAAAAAAIBjNQAAAAACwGudAAAAAAGDT4kAAAAAAAOh1QAAAAAAAYvtAAAAAAICJtEAAAAAAQB3xQAAAAADgq9lAAAAAAOCr2UAAAAAAQM6+QAAAAABg0+JAyxDHus5PA0EAAAAAQB3xQAAAAADgq8lAAAAAABA97EAAAAAAsBrnQAAAAABAHfFAAAAAALAa50AAAAAAYNPCQAAAAABAzr5AAAAAADBC0EAAAAAAYNPCQAAAAACwGudAAAAAAEDO3kAAAAAAYNPiQAAAAADgq8lAAAAAAAClqEAAAAAA4KvJQAAAAACwGudAyxDHus5PA0EAAAAAsBrnQAAAAACgP8ZAAAAAAEDOvkAAAAAAYNPCQAAAAADgq9lAAAAAAACluEAAAAAA4KvZQAAAAABg0+JAAAAAAGDT4kAAAAAAYNPiQMsQx7rOTwNBAAAAALAa50DLEMe6zk8DQQAAAAAgGM1AAAAAAEDOvkAAAAAAQM7eQAAAAACgP9ZAAAAAAOCr2UAAAAAAMELQQAAAAABg0+JAyxDHus5PA0EAAAAAMELQQAAAAACwGudAAAAAAEDO3kAAAAAAYNPiQAAAAABg09JAAAAAALAa50AAAAAAIBjNQAAAAAAwQtBAAAAAAKA\\u002f1kAAAAAAsBrnQAAAAADgq8lAAAAAAEAd8UAAAAAAAKW4QAAAAACwGudAAAAAAGDTwkAAAAAAsBrnQAAAAAAQPexAAAAAAOCr2UAAAAAAYNPiQAAAAABg0+JAAAAAAADodUAAAAAAoD\\u002fGQAAAAABg0+JAAAAAALAa50AAAAAAAKW4QAAAAABg08JAAAAAAGDTwkAAAAAAACujQAAAAAAQPexAAAAAAADolUDLEMe6zk8DQQAAAAAwQtBAAAAAAGDT0kAAAAAAYNPiQAAAAAAApbhAAAAAAEDO3kAAAAAAsBrnQAAAAAAQPexAAAAAABA97EAAAAAAED3sQAAAAAAQPexAAAAAAGDTwkAAAAAAYNPiQAAAAAAA6HVAAAAAAEDO3kAAAAAA4KvJQAAAAABg09JAyxDHus5PA0EAAAAAwPX3QAAAAABAHfFAAAAAABA97EAAAAAAED3sQAAAAACwGudAAAAAAADolUAAAAAAAGL7QAAAAAAQPexAAAAAAGDT4kAAAAAAYNPiQAAAAABAzt5AAAAAAOCr2UAAAAAAIBjNQAAAAABg09JAAAAAAEDO3kAAAAAAYNPSQAAAAABg09JAAAAAACAYzUAAAAAAAGL7QAAAAAAQPexAAAAAAICJ9EAAAAAAgIn0QAAAAACwGudAAAAAAEAd8UAAAAAAYNPiQAAAAAAApbhAAAAAABA97EAAAAAAED3sQAAAAABAzt5AAAAAAEDO3kAAAAAAwPX3QAAAAAAQPexAAAAAALAa50AAAAAAIBjNQAAAAACAifRAAAAAAICJ9EAAAAAAsBrnQAAAAAAAYvtAAAAAAICJ9EAAAAAAYNPSQAAAAADA9fdAAAAAALAa50AAAAAAYNPiQAAAAACgP8ZAAAAAACAYzUAAAAAAED3sQAAAAACAifRAAAAAAIDMsUAAAAAAMELQQAAAAABAzr5AAAAAAGDT0kAAAAAAACujQAAAAABAHfFAyxDHus5PA0EAAAAAsBrnQAAAAAAgGM1AAAAAAGDT4kAAAAAAgIm0QAAAAAAA6JVAAAAAABA97EAAAAAAYNPiQAAAAAAApahAAAAAALAa50AAAAAAQM7eQAAAAABg09JAAAAAABA97EAAAAAAYNPCQAAAAABAzt5AAAAAAAAfrkAAAAAAYNPCQAAAAACAibRAAAAAAKA\\u002f1kAAAAAAsBrnQAAAAACAifRAAAAAAOCr2UAAAAAAAOiVQAAAAABAzr5AAAAAADBC0EAAAAAAYNPSQAAAAADA9fdAAAAAAACluEAAAAAAAGL7QAAAAABAzr5AAAAAAOCr2UAAAAAAQB3xQAAAAAAQPexAAAAAAGDT4kAAAAAAAGL7QAAAAACwGudAAAAAABA97EAAAAAAED3sQAAAAABAzt5AAAAAAGDT4kAAAAAAgIn0QAAAAADgq9lAAAAAAKA\\u002fxkDLEMe6zk8DQQAAAACAifRAAAAAALAa50AAAAAAED3sQAAAAADA9fdAAAAAAEDOvkAAAAAAYNPiQAAAAABg0+JAAAAAALAa50AAAAAAoD\\u002fWQAAAAAAQPexAAAAAALAa50AAAAAAIBjNQAAAAAAgGM1AAAAAAICJ9EAAAAAAED3sQAAAAABg09JAAAAAAEDO3kAAAAAAYNPSQAAAAABg08JAAAAAAAAfrkAAAAAAYNPiQAAAAADgq9lAAAAAAEAd8UAAAAAAYNPiQAAAAADgq9lAAAAAAGDT0kAAAAAAQM7eQMsQx7rOTwNBAAAAAICJ9EAAAAAAYNPiQAAAAABAzr5AAAAAALAa50AAAAAAgIn0QAAAAAAgGM1AAAAAABA97EAAAAAAED3sQAAAAACwGudAAAAAAABi+0AAAAAAIBjNQAAAAAAQPexAAAAAAEDO3kAAAAAAoD\\u002fWQAAAAABAHfFAAAAAAKA\\u002f1kDLEMe6zk8DQQAAAABg0+JAAAAAAGDTwkAAAAAAYNPCQAAAAABAHfFAAAAAAKA\\u002fxkAAAAAAQM7eQAAAAAAgGM1AAAAAAOCr2UAAAAAAYNPiQAAAAABg0+JAAAAAALAa50AAAAAAIBjNQAAAAABg0+JAAAAAAGDTwkAAAAAA4KvJQAAAAAAgGM1AAAAAADBC0EAAAAAAoD\\u002fWQAAAAAAQPexAAAAAAEDOvkAAAAAAYNPSQAAAAABg08JAAAAAAMD190AAAAAAwPX3QAAAAABAHfFAAAAAAKA\\u002fxkDLEMe6zk8DQQAAAACgP9ZAyxDHus5PA0EAAAAAQM7eQAAAAAAAYvtAyxDHus5PA0EAAAAAYNPCQAAAAABg08JAAAAAAGDTwkAAAAAAYNPiQAAAAABg08JAAAAAABA97EAAAAAAQM7eQAAAAAAwQtBAAAAAAGDT4kAAAAAAMELQQAAAAABg0+JAAAAAAGDT4kAAAAAAYNPSQAAAAAAgGM1AAAAAAEAd8UAAAAAAQM7eQAAAAACgP8ZAAAAAAEAd8UAAAAAAED3sQAAAAAAgGM1AAAAAAEDO3kAAAAAAsBrnQAAAAACwGudAAAAAAGDT4kAAAAAAYNPSQAAAAAAQPexAAAAAAGDT0kAAAAAAAOh1QAAAAABAzt5AAAAAABA97EAAAAAAYNPSQAAAAACwGudAAAAAAEAd8UAAAAAAYNPiQMsQx7rOTwNBAAAAALAa50AAAAAAQM7eQAAAAADgq8lAAAAAACAYzUAAAAAAIBjNQAAAAADgq9lAAAAAABA97EAAAAAAoD\\u002fWQAAAAABAzt5AAAAAABA97EAAAAAAYNPCQAAAAABAzr5AAAAAAEDOvkAAAAAAMELQQAAAAACwGudAAAAAAKA\\u002fxkAAAAAAwPX3QAAAAAAQPexAAAAAAKA\\u002f1kAAAAAAED3sQAAAAAAApbhAAAAAADBC0EAAAAAAsBrnQAAAAABg0+JAAAAAAOCr2UAAAAAAYNPiQAAAAACgP8ZAAAAAAGDT4kAAAAAA4KvZQAAAAABAzt5AAAAAAADolUAAAAAAED3sQAAAAAAgGM1AAAAAAKA\\u002f1kAAAAAAYNPiQAAAAABAzt5AAAAAAEAd8UAAAAAAYNPiQAAAAAAwQtBAAAAAAOCr2UAAAAAA4KvZQAAAAACAifRAAAAAADBC0EAAAAAAAOh1QAAAAAAApbhAAAAAAEDO3kAAAAAAED3sQAAAAAAApbhAAAAAAABi+0AAAAAAMELQQAAAAABg0+JAAAAAAEDO3kAAAAAAQM6+QAAAAAAQPexAAAAAABA97EAAAAAAAOh1QAAAAABAzr5AAAAAAIDMsUAAAAAAQM6+QAAAAAAA6JVAAAAAAGDTwkAAAAAAAKW4QAAAAAAwQtBAAAAAAADodUAAAAAAoD\\u002fWQAAAAABg0+JAAAAAAICJtEAAAAAAED3sQAAAAABg0+JAAAAAAEAd8UAAAAAAsBrnQAAAAABAHfFAAAAAAGDT4kAAAAAAIBjNQMsQx7rOTwNBAAAAAOCr2UAAAAAAQB3xQAAAAADgq9lAAAAAAOCryUAAAAAAYNPiQAAAAAAApbhAAAAAAKA\\u002f1kAAAAAAQB3xQA==\"},\"yaxis\":\"y\",\"type\":\"scattergl\"},{\"hovertemplate\":\"\\u003cb\\u003eOLS trendline\\u003c\\u002fb\\u003e\\u003cbr\\u003eincome = 920.149 * job_prestige + 6600.68\\u003cbr\\u003eR\\u003csup\\u003e2\\u003c\\u002fsup\\u003e=0.092783\\u003cbr\\u003e\\u003cbr\\u003eSex=female\\u003cbr\\u003eOccupational Prestige Score=%{x}\\u003cbr\\u003eAnnual Income=%{y} \\u003cb\\u003e(trend)\\u003c\\u002fb\\u003e\\u003cextra\\u003e\\u003c\\u002fextra\\u003e\",\"legendgroup\":\"female\",\"marker\":{\"color\":\"#636efa\",\"symbol\":\"circle\"},\"mode\":\"lines\",\"name\":\"female\",\"showlegend\":false,\"x\":{\"dtype\":\"f8\",\"bdata\":\"AAAAAAAAMEAAAAAAAAAwQAAAAAAAADFAAAAAAAAAMUAAAAAAAAAxQAAAAAAAADFAAAAAAAAAMUAAAAAAAAAxQAAAAAAAADJAAAAAAAAAMkAAAAAAAAA1QAAAAAAAADVAAAAAAAAANUAAAAAAAAA1QAAAAAAAADVAAAAAAAAANUAAAAAAAAA1QAAAAAAAADVAAAAAAAAANUAAAAAAAAA1QAAAAAAAADVAAAAAAAAANUAAAAAAAAA1QAAAAAAAADVAAAAAAAAANUAAAAAAAAA1QAAAAAAAADVAAAAAAAAANUAAAAAAAAA1QAAAAAAAADVAAAAAAAAANkAAAAAAAAA2QAAAAAAAADZAAAAAAAAANkAAAAAAAAA2QAAAAAAAADZAAAAAAAAANkAAAAAAAAA2QAAAAAAAADZAAAAAAAAANkAAAAAAAAA2QAAAAAAAADZAAAAAAAAAN0AAAAAAAAA3QAAAAAAAADhAAAAAAAAAOEAAAAAAAAA4QAAAAAAAADhAAAAAAAAAOEAAAAAAAAA4QAAAAAAAADhAAAAAAAAAOEAAAAAAAAA4QAAAAAAAADhAAAAAAAAAOEAAAAAAAAA4QAAAAAAAADhAAAAAAAAAOEAAAAAAAAA4QAAAAAAAADhAAAAAAAAAOEAAAAAAAAA4QAAAAAAAADhAAAAAAAAAOEAAAAAAAAA4QAAAAAAAADhAAAAAAAAAOEAAAAAAAAA4QAAAAAAAADhAAAAAAAAAOUAAAAAAAAA5QAAAAAAAADlAAAAAAAAAOUAAAAAAAAA5QAAAAAAAADlAAAAAAAAAOUAAAAAAAAA5QAAAAAAAADlAAAAAAAAAOUAAAAAAAAA5QAAAAAAAADlAAAAAAAAAOUAAAAAAAAA5QAAAAAAAADlAAAAAAAAAOUAAAAAAAAA5QAAAAAAAADlAAAAAAAAAOUAAAAAAAAA5QAAAAAAAADlAAAAAAAAAOUAAAAAAAAA5QAAAAAAAADlAAAAAAAAAOUAAAAAAAAA5QAAAAAAAADlAAAAAAAAAOUAAAAAAAAA5QAAAAAAAADlAAAAAAAAAOUAAAAAAAAA5QAAAAAAAADlAAAAAAAAAOUAAAAAAAAA5QAAAAAAAADlAAAAAAAAAOUAAAAAAAAA5QAAAAAAAADlAAAAAAAAAOUAAAAAAAAA5QAAAAAAAADlAAAAAAAAAOUAAAAAAAAA5QAAAAAAAADlAAAAAAAAAOUAAAAAAAAA5QAAAAAAAADlAAAAAAAAAOUAAAAAAAAA6QAAAAAAAADpAAAAAAAAAOkAAAAAAAAA6QAAAAAAAADpAAAAAAAAAOkAAAAAAAAA6QAAAAAAAADtAAAAAAAAAO0AAAAAAAAA7QAAAAAAAADtAAAAAAAAAO0AAAAAAAAA7QAAAAAAAADxAAAAAAAAAPEAAAAAAAAA8QAAAAAAAADxAAAAAAAAAPEAAAAAAAAA8QAAAAAAAADxAAAAAAAAAPEAAAAAAAAA8QAAAAAAAADxAAAAAAAAAPEAAAAAAAAA8QAAAAAAAADxAAAAAAAAAPEAAAAAAAAA8QAAAAAAAADxAAAAAAAAAPEAAAAAAAAA8QAAAAAAAADxAAAAAAAAAPEAAAAAAAAA8QAAAAAAAADxAAAAAAAAAPEAAAAAAAAA9QAAAAAAAAD1AAAAAAAAAPUAAAAAAAAA9QAAAAAAAAD1AAAAAAAAAPkAAAAAAAAA+QAAAAAAAAD5AAAAAAAAAPkAAAAAAAAA+QAAAAAAAAD9AAAAAAAAAP0AAAAAAAAA\\u002fQAAAAAAAAD9AAAAAAAAAP0AAAAAAAAA\\u002fQAAAAAAAAD9AAAAAAAAAP0AAAAAAAAA\\u002fQAAAAAAAAD9AAAAAAAAAP0AAAAAAAAA\\u002fQAAAAAAAAD9AAAAAAAAAP0AAAAAAAAA\\u002fQAAAAAAAAD9AAAAAAAAAP0AAAAAAAAA\\u002fQAAAAAAAAD9AAAAAAAAAP0AAAAAAAAA\\u002fQAAAAAAAAD9AAAAAAAAAP0AAAAAAAAA\\u002fQAAAAAAAAD9AAAAAAAAAP0AAAAAAAAA\\u002fQAAAAAAAAD9AAAAAAAAAP0AAAAAAAAA\\u002fQAAAAAAAAD9AAAAAAAAAP0AAAAAAAAA\\u002fQAAAAAAAAD9AAAAAAAAAP0AAAAAAAAA\\u002fQAAAAAAAAD9AAAAAAAAAP0AAAAAAAAA\\u002fQAAAAAAAAD9AAAAAAAAAP0AAAAAAAAA\\u002fQAAAAAAAAD9AAAAAAAAAP0AAAAAAAAA\\u002fQAAAAAAAAD9AAAAAAAAAP0AAAAAAAAA\\u002fQAAAAAAAAD9AAAAAAAAAP0AAAAAAAAA\\u002fQAAAAAAAAD9AAAAAAAAAP0AAAAAAAAA\\u002fQAAAAAAAAD9AAAAAAAAAP0AAAAAAAAA\\u002fQAAAAAAAAD9AAAAAAAAAP0AAAAAAAAA\\u002fQAAAAAAAAD9AAAAAAAAAP0AAAAAAAAA\\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\"},\"xaxis\":\"x\",\"y\":{\"dtype\":\"f8\",\"bdata\":\"oemMBcTS1ECh6YwFxNLUQNY\\u002fQonNuNVA1j9Cic241UDWP0KJzbjVQNY\\u002fQonNuNVA1j9Cic241UDWP0KJzbjVQAuW9wzXntZAC5b3DNee1kCrmBeY81DZQKuYF5jzUNlAq5gXmPNQ2UCrmBeY81DZQKuYF5jzUNlAq5gXmPNQ2UCrmBeY81DZQKuYF5jzUNlAq5gXmPNQ2UCrmBeY81DZQKuYF5jzUNlAq5gXmPNQ2UCrmBeY81DZQKuYF5jzUNlAq5gXmPNQ2UCrmBeY81DZQKuYF5jzUNlAq5gXmPNQ2UCrmBeY81DZQKuYF5jzUNlA4e7MG\\u002f022kDh7swb\\u002fTbaQOHuzBv9NtpA4e7MG\\u002f022kDh7swb\\u002fTbaQOHuzBv9NtpA4e7MG\\u002f022kDh7swb\\u002fTbaQOHuzBv9NtpA4e7MG\\u002f022kDh7swb\\u002fTbaQOHuzBv9NtpAFkWCnwYd20AWRYKfBh3bQEybNyMQA9xATJs3IxAD3EBMmzcjEAPcQEybNyMQA9xATJs3IxAD3EBMmzcjEAPcQEybNyMQA9xATJs3IxAD3EBMmzcjEAPcQEybNyMQA9xATJs3IxAD3EBMmzcjEAPcQEybNyMQA9xATJs3IxAD3EBMmzcjEAPcQEybNyMQA9xATJs3IxAD3EBMmzcjEAPcQEybNyMQA9xATJs3IxAD3EBMmzcjEAPcQEybNyMQA9xATJs3IxAD3EBMmzcjEAPcQEybNyMQA9xAgfHsphnp3ECB8eymGencQIHx7KYZ6dxAgfHsphnp3ECB8eymGencQIHx7KYZ6dxAgfHsphnp3ECB8eymGencQIHx7KYZ6dxAgfHsphnp3ECB8eymGencQIHx7KYZ6dxAgfHsphnp3ECB8eymGencQIHx7KYZ6dxAgfHsphnp3ECB8eymGencQIHx7KYZ6dxAgfHsphnp3ECB8eymGencQIHx7KYZ6dxAgfHsphnp3ECB8eymGencQIHx7KYZ6dxAgfHsphnp3ECB8eymGencQIHx7KYZ6dxAgfHsphnp3ECB8eymGencQIHx7KYZ6dxAgfHsphnp3ECB8eymGencQIHx7KYZ6dxAgfHsphnp3ECB8eymGencQIHx7KYZ6dxAgfHsphnp3ECB8eymGencQIHx7KYZ6dxAgfHsphnp3ECB8eymGencQIHx7KYZ6dxAgfHsphnp3ECB8eymGencQIHx7KYZ6dxAgfHsphnp3ECB8eymGencQIHx7KYZ6dxAgfHsphnp3EC2R6IqI8\\u002fdQLZHoiojz91AtkeiKiPP3UC2R6IqI8\\u002fdQLZHoiojz91AtkeiKiPP3UC2R6IqI8\\u002fdQOydV64std5A7J1Xriy13kDsnVeuLLXeQOydV64std5A7J1Xriy13kDsnVeuLLXeQCH0DDI2m99AIfQMMjab30Ah9AwyNpvfQCH0DDI2m99AIfQMMjab30Ah9AwyNpvfQCH0DDI2m99AIfQMMjab30Ah9AwyNpvfQCH0DDI2m99AIfQMMjab30Ah9AwyNpvfQCH0DDI2m99AIfQMMjab30Ah9AwyNpvfQCH0DDI2m99AIfQMMjab30Ah9AwyNpvfQCH0DDI2m99AIfQMMjab30Ah9AwyNpvfQCH0DDI2m99AIfQMMjab30ArJeHan0DgQCsl4dqfQOBAKyXh2p9A4EArJeHan0DgQCsl4dqfQOBARtC7nKSz4EBG0LucpLPgQEbQu5yks+BARtC7nKSz4EBG0LucpLPgQGB7ll6pJuFAYHuWXqkm4UBge5ZeqSbhQGB7ll6pJuFAYHuWXqkm4UBge5ZeqSbhQGB7ll6pJuFAYHuWXqkm4UBge5ZeqSbhQGB7ll6pJuFAYHuWXqkm4UBge5ZeqSbhQGB7ll6pJuFAYHuWXqkm4UBge5ZeqSbhQGB7ll6pJuFAYHuWXqkm4UBge5ZeqSbhQGB7ll6pJuFAYHuWXqkm4UBge5ZeqSbhQGB7ll6pJuFAYHuWXqkm4UBge5ZeqSbhQGB7ll6pJuFAYHuWXqkm4UBge5ZeqSbhQGB7ll6pJuFAYHuWXqkm4UBge5ZeqSbhQGB7ll6pJuFAYHuWXqkm4UBge5ZeqSbhQGB7ll6pJuFAYHuWXqkm4UBge5ZeqSbhQGB7ll6pJuFAYHuWXqkm4UBge5ZeqSbhQGB7ll6pJuFAYHuWXqkm4UBge5ZeqSbhQGB7ll6pJuFAYHuWXqkm4UBge5ZeqSbhQGB7ll6pJuFAYHuWXqkm4UBge5ZeqSbhQGB7ll6pJuFAYHuWXqkm4UBge5ZeqSbhQGB7ll6pJuFAYHuWXqkm4UBge5ZeqSbhQGB7ll6pJuFAYHuWXqkm4UBge5ZeqSbhQGB7ll6pJuFAYHuWXqkm4UBge5ZeqSbhQGB7ll6pJuFAYHuWXqkm4UBge5ZeqSbhQGB7ll6pJuFAeyZxIK6Z4UB7JnEgrpnhQHsmcSCumeFAeyZxIK6Z4UB7JnEgrpnhQHsmcSCumeFAeyZxIK6Z4UB7JnEgrpnhQHsmcSCumeFAeyZxIK6Z4UB7JnEgrpnhQHsmcSCumeFAeyZxIK6Z4UB7JnEgrpnhQHsmcSCumeFAeyZxIK6Z4UB7JnEgrpnhQHsmcSCumeFAeyZxIK6Z4UB7JnEgrpnhQHsmcSCumeFAeyZxIK6Z4UB7JnEgrpnhQHsmcSCumeFAeyZxIK6Z4UB7JnEgrpnhQJbRS+KyDOJAltFL4rIM4kCW0UvisgziQJbRS+KyDOJAltFL4rIM4kCW0UvisgziQJbRS+KyDOJAltFL4rIM4kCW0UvisgziQJbRS+KyDOJAltFL4rIM4kCW0UvisgziQJbRS+KyDOJAltFL4rIM4kCW0UvisgziQJbRS+KyDOJAltFL4rIM4kCW0UvisgziQJbRS+KyDOJAltFL4rIM4kCW0UvisgziQJbRS+KyDOJAltFL4rIM4kCW0UvisgziQJbRS+KyDOJAltFL4rIM4kCW0UvisgziQJbRS+KyDOJAltFL4rIM4kCwfCakt3\\u002fiQLB8JqS3f+JAsHwmpLd\\u002f4kCwfCakt3\\u002fiQLB8JqS3f+JAsHwmpLd\\u002f4kDLJwFmvPLiQMsnAWa88uJAyycBZrzy4kDLJwFmvPLiQMsnAWa88uJAyycBZrzy4kDLJwFmvPLiQMsnAWa88uJAyycBZrzy4kDLJwFmvPLiQMsnAWa88uJAyycBZrzy4kDLJwFmvPLiQMsnAWa88uJAyycBZrzy4kDLJwFmvPLiQMsnAWa88uJAyycBZrzy4kDLJwFmvPLiQMsnAWa88uJAyycBZrzy4kDLJwFmvPLiQMsnAWa88uJAyycBZrzy4kDLJwFmvPLiQMsnAWa88uJAyycBZrzy4kDLJwFmvPLiQMsnAWa88uJAyycBZrzy4kDLJwFmvPLiQMsnAWa88uJAyycBZrzy4kDLJwFmvPLiQMsnAWa88uJAyycBZrzy4kDLJwFmvPLiQMsnAWa88uJAyycBZrzy4kDLJwFmvPLiQMsnAWa88uJAyycBZrzy4kDm0tsnwWXjQObS2yfBZeNA5tLbJ8Fl40Dm0tsnwWXjQObS2yfBZeNA5tLbJ8Fl40Dm0tsnwWXjQObS2yfBZeNA5tLbJ8Fl40Dm0tsnwWXjQObS2yfBZeNA5tLbJ8Fl40Dm0tsnwWXjQObS2yfBZeNA5tLbJ8Fl40Dm0tsnwWXjQObS2yfBZeNAAH626cXY40AAfrbpxdjjQAB+tunF2ONAAH626cXY40AAfrbpxdjjQAB+tunF2ONAAH626cXY40AAfrbpxdjjQAB+tunF2ONAAH626cXY40AAfrbpxdjjQBspkavKS+RAGymRq8pL5EAbKZGrykvkQBspkavKS+RAGymRq8pL5EAbKZGrykvkQBspkavKS+RAGymRq8pL5EAbKZGrykvkQBspkavKS+RAGymRq8pL5EAbKZGrykvkQBspkavKS+RAGymRq8pL5EAbKZGrykvkQBspkavKS+RAGymRq8pL5EAbKZGrykvkQBspkavKS+RAGymRq8pL5EAbKZGrykvkQBspkavKS+RAGymRq8pL5EAbKZGrykvkQBspkavKS+RAGymRq8pL5EAbKZGrykvkQBspkavKS+RAGymRq8pL5EAbKZGrykvkQBspkavKS+RAGymRq8pL5EAbKZGrykvkQBspkavKS+RAGymRq8pL5EAbKZGrykvkQBspkavKS+RAGymRq8pL5EAbKZGrykvkQBspkavKS+RAGymRq8pL5EAbKZGrykvkQBspkavKS+RAGymRq8pL5EAbKZGrykvkQBspkavKS+RAGymRq8pL5EAbKZGrykvkQBspkavKS+RAGymRq8pL5EAbKZGrykvkQBspkavKS+RAGymRq8pL5EAbKZGrykvkQBspkavKS+RAGymRq8pL5EAbKZGrykvkQBspkavKS+RAGymRq8pL5EAbKZGrykvkQBspkavKS+RAGymRq8pL5EA21Gttz77kQDbUa23PvuRANtRrbc++5EA21Gttz77kQDbUa23PvuRANtRrbc++5EA21Gttz77kQDbUa23PvuRANtRrbc++5EA21Gttz77kQDbUa23PvuRANtRrbc++5EA21Gttz77kQDbUa23PvuRANtRrbc++5EA21Gttz77kQDbUa23PvuRANtRrbc++5EA21Gttz77kQDbUa23PvuRANtRrbc++5EA21Gttz77kQDbUa23PvuRANtRrbc++5EA21Gttz77kQDbUa23PvuRANtRrbc++5EA21Gttz77kQDbUa23PvuRANtRrbc++5EA21Gttz77kQDbUa23PvuRANtRrbc++5EA21Gttz77kQDbUa23PvuRANtRrbc++5EA21Gttz77kQDbUa23PvuRANtRrbc++5EA21Gttz77kQFB\\u002fRi\\u002fUMeVAUH9GL9Qx5UBQf0Yv1DHlQFB\\u002fRi\\u002fUMeVAUH9GL9Qx5UBQf0Yv1DHlQFB\\u002fRi\\u002fUMeVAUH9GL9Qx5UBQf0Yv1DHlQFB\\u002fRi\\u002fUMeVAUH9GL9Qx5UBQf0Yv1DHlQFB\\u002fRi\\u002fUMeVAayoh8dik5UBrKiHx2KTlQGsqIfHYpOVAayoh8dik5UBrKiHx2KTlQIbV+7LdF+ZAhtX7st0X5kCG1fuy3RfmQIbV+7LdF+ZAhtX7st0X5kCG1fuy3RfmQKGA1nTiiuZAoYDWdOKK5kChgNZ04ormQKGA1nTiiuZAoYDWdOKK5kChgNZ04ormQKGA1nTiiuZAuyuxNuf95kC7K7E25\\u002f3mQLsrsTbn\\u002feZAuyuxNuf95kC7K7E25\\u002f3mQLsrsTbn\\u002feZAuyuxNuf95kDW1ov463DnQNbWi\\u002fjrcOdA1taL+Otw50DW1ov463DnQNbWi\\u002fjrcOdA1taL+Otw50DW1ov463DnQNbWi\\u002fjrcOdA1taL+Otw50DW1ov463DnQNbWi\\u002fjrcOdA1taL+Otw50DW1ov463DnQNbWi\\u002fjrcOdA1taL+Otw50DW1ov463DnQNbWi\\u002fjrcOdA1taL+Otw50DW1ov463DnQNbWi\\u002fjrcOdA1taL+Otw50DW1ov463DnQNbWi\\u002fjrcOdA1taL+Otw50DW1ov463DnQNbWi\\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\\u002f+POlAQYP2\\u002f\\u002f486UBBg\\u002fb\\u002f\\u002fjzpQEGD9v\\u002f+POlAQYP2\\u002f\\u002f486UBBg\\u002fb\\u002f\\u002fjzpQEGD9v\\u002f+POlAQYP2\\u002f\\u002f486UBBg\\u002fb\\u002f\\u002fjzpQEGD9v\\u002f+POlAQYP2\\u002f\\u002f486UBBg\\u002fb\\u002f\\u002fjzpQEGD9v\\u002f+POlAQYP2\\u002f\\u002f486UBBg\\u002fb\\u002f\\u002fjzpQEGD9v\\u002f+POlAQYP2\\u002f\\u002f486UBBg\\u002fb\\u002f\\u002fjzpQEGD9v\\u002f+POlAQYP2\\u002f\\u002f486UBBg\\u002fb\\u002f\\u002fjzpQEGD9v\\u002f+POlAQYP2\\u002f\\u002f486UBBg\\u002fb\\u002f\\u002fjzpQEGD9v\\u002f+POlAQYP2\\u002f\\u002f486UBbLtHBA7DpQFsu0cEDsOlAWy7RwQOw6UBbLtHBA7DpQFsu0cEDsOlAWy7RwQOw6UBbLtHBA7DpQFsu0cEDsOlAWy7RwQOw6UBbLtHBA7DpQFsu0cEDsOlAWy7RwQOw6UBbLtHBA7DpQFsu0cEDsOlAWy7RwQOw6UBbLtHBA7DpQHbZq4MII+pAdtmrgwgj6kB22auDCCPqQHbZq4MII+pAdtmrgwgj6kB22auDCCPqQHbZq4MII+pAdtmrgwgj6kB22auDCCPqQHbZq4MII+pAdtmrgwgj6kB22auDCCPqQHbZq4MII+pAdtmrgwgj6kB22auDCCPqQHbZq4MII+pAdtmrgwgj6kB22auDCCPqQHbZq4MII+pAdtmrgwgj6kB22auDCCPqQJGEhkUNlupAkYSGRQ2W6kCRhIZFDZbqQJGEhkUNlupAkYSGRQ2W6kCRhIZFDZbqQJGEhkUNlupAkYSGRQ2W6kCRhIZFDZbqQJGEhkUNlupAkYSGRQ2W6kCRhIZFDZbqQJGEhkUNlupAqy9hBxIJ60CrL2EHEgnrQKsvYQcSCetAqy9hBxIJ60CrL2EHEgnrQKsvYQcSCetAqy9hBxIJ60CrL2EHEgnrQKsvYQcSCetAqy9hBxIJ60CrL2EHEgnrQKsvYQcSCetAqy9hBxIJ60CrL2EHEgnrQKsvYQcSCetAqy9hBxIJ60CrL2EHEgnrQKsvYQcSCetAqy9hBxIJ60CrL2EHEgnrQKsvYQcSCetAqy9hBxIJ60CrL2EHEgnrQKsvYQcSCetAqy9hBxIJ60CrL2EHEgnrQKsvYQcSCetAqy9hBxIJ60CrL2EHEgnrQKsvYQcSCetAqy9hBxIJ60CrL2EHEgnrQKsvYQcSCetAqy9hBxIJ60CrL2EHEgnrQKsvYQcSCetAqy9hBxIJ60CrL2EHEgnrQKsvYQcSCetAqy9hBxIJ60CrL2EHEgnrQKsvYQcSCetAqy9hBxIJ60CrL2EHEgnrQKsvYQcSCetAxto7yRZ860DG2jvJFnzrQMbaO8kWfOtAxto7yRZ860DG2jvJFnzrQMbaO8kWfOtAxto7yRZ860DG2jvJFnzrQMbaO8kWfOtAxto7yRZ860DG2jvJFnzrQOGFFosb7+tA4YUWixvv60DhhRaLG+\\u002frQOGFFosb7+tA4YUWixvv60DhhRaLG+\\u002frQOGFFosb7+tA4YUWixvv60DhhRaLG+\\u002frQOGFFosb7+tA4YUWixvv60DhhRaLG+\\u002frQOGFFosb7+tA4YUWixvv60DhhRaLG+\\u002frQOGFFosb7+tA4YUWixvv60DhhRaLG+\\u002frQOGFFosb7+tA4YUWixvv60DhhRaLG+\\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\\u002fCFEq8c8UCr8IUSrxzxQKvwhRKvHPFAq\\u002fCFEq8c8UCr8IUSrxzxQKvwhRKvHPFAq\\u002fCFEq8c8UCr8IUSrxzxQKvwhRKvHPFAq\\u002fCFEq8c8UCr8IUSrxzxQKvwhRKvHPFAq\\u002fCFEq8c8UCr8IUSrxzxQMabYNSzj\\u002fFAxptg1LOP8UDGm2DUs4\\u002fxQFPxTTU2yfFAU\\u002fFNNTbJ8UBT8U01NsnxQFPxTTU2yfFAU\\u002fFNNTbJ8UBT8U01NsnxQFPxTTU2yfFAU\\u002fFNNTbJ8UDgRjuWuALyQOBGO5a4AvJAbpwo9zo88kBunCj3OjzyQG6cKPc6PPJAbpwo9zo88kBunCj3OjzyQG6cKPc6PPJAbpwo9zo88kBunCj3OjzyQG6cKPc6PPJAbpwo9zo88kBunCj3OjzyQG6cKPc6PPJAbpwo9zo88kBunCj3OjzyQG6cKPc6PPJAbpwo9zo88kBunCj3OjzyQG6cKPc6PPJAbpwo9zo88kBunCj3OjzyQPvxFVi9dfJA+\\u002fEVWL118kC+nbg8SZXzQL6duDxJlfNAvp24PEmV80C+nbg8SZXzQA==\"},\"yaxis\":\"y\",\"type\":\"scattergl\"},{\"customdata\":{\"dtype\":\"f8\",\"bdata\":\"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\\u002fNRQAAAAAAAACxAmpmZmZkZQ0AAAAAAAAAxQGZmZmZmZkxAAAAAAAAAMUAzMzMzM5NTQAAAAAAAADBAAAAAAAAgVUAAAAAAAAAxQAAAAAAAoFFAAAAAAAAAMEDNzMzMzAxPQAAAAAAAADBAZmZmZmbmTEAAAAAAAAAoQGZmZmZmJktAAAAAAAAAMkAzMzMzM\\u002fNUQAAAAAAAAChAZmZmZmZmPEAAAAAAAAAsQAAAAAAAAEBAAAAAAAAAKkAAAAAAAABAQAAAAAAAAChAAAAAAABATkAAAAAAAAAyQJqZmZmZeVJAAAAAAAAAMkDNzMzMzAxQQAAAAAAAADBAmpmZmZmZUEAAAAAAAAAwQJqZmZmZmVBAAAAAAAAAKkBmZmZmZqZBQAAAAAAAACZAmpmZmZkZOkAAAAAAAAAwQGZmZmZmZlJAAAAAAAAAKkCamZmZmZlOQAAAAAAAADBAMzMzMzPzUUAAAAAAAAAwQGZmZmZm5kFAAAAAAAAAMUAzMzMzMxNTQAAAAAAAADBAzczMzMwsUkAAAAAAAAAoQDMzMzMzM0RAAAAAAAAAMEAzMzMzM1NRQAAAAAAAADBAAAAAAACARUAAAAAAAAA0QGZmZmZmxlZAAAAAAAAAMEAAAAAAAABPQAAAAAAAADRAZmZmZmbmTUAAAAAAAAAoQAAAAAAAAEBAAAAAAAAALEAAAAAAAAA1QAAAAAAAAChAMzMzMzMTU0AAAAAAAAAoQGZmZmZmZkNAAAAAAAAAKEAzMzMzMzMrQAAAAAAAADFAzczMzMxMPEAAAAAAAAAwQM3MzMzMjE1AAAAAAAAAMECamZmZmZlPQAAAAAAAACxAmpmZmZmZSkAAAAAAAAAoQDMzMzMzszNAAAAAAAAAKEBmZmZmZmY8QAAAAAAAACxAMzMzMzNTUEAAAAAAAAAqQAAAAAAAIFBAAAAAAAAAKEDNzMzMzEw8QAAAAAAAAChAMzMzMzMzOUAAAAAAAAAUQDMzMzMzMzNAAAAAAAAAJEBmZmZmZmZDQAAAAAAAACxAZmZmZmZmQ0AAAAAAAAAwQAAAAAAAQE5AAAAAAAAAMkAAAAAAACBVQAAAAAAAAChAZmZmZmbmNEAAAAAAAAAwQAAAAAAAIFVAAAAAAAAALEDNzMzMzMw6QAAAAAAAAC5AMzMzMzMzSkAAAAAAAAAmQM3MzMzMjEtAAAAAAAAACEAzMzMzM\\u002fNDQAAAAAAAADBAAAAAAACAPUAAAAAAAAAoQJqZmZmZGTlAAAAAAAAALEAAAAAAAABPQAAAAAAAACxAzczMzMxMQEAAAAAAAAAqQDMzMzMz805AAAAAAAAAKkDNzMzMzOxQQAAAAAAAADBAzczMzMxMT0AAAAAAAAAsQGZmZmZmRlBAAAAAAAAAMEDNzMzMzAxDQAAAAAAAAChAzczMzMyMTUAAAAAAAAAoQAAAAAAAAEBAAAAAAAAALEAzMzMzM7NAQAAAAAAAACxAMzMzMzOzSEAAAAAAAAAqQAAAAAAAQEpAAAAAAAAALkAAAAAAAAA7QAAAAAAAAChAZmZmZmZmQ0AAAAAAAAAoQM3MzMzMTDdAAAAAAAAAKEAzMzMzMzMrQAAAAAAAAChAzczMzMxMN0AAAAAAAAAoQM3MzMzMzDdAAAAAAAAAKEAAAAAAAABAQAAAAAAAACpAmpmZmZkZTUAAAAAAAAAoQAAAAAAAQEpAAAAAAAAAKEAzMzMzM3NMQAAAAAAAAChAmpmZmZmZQEAAAAAAAAAiQDMzMzMzszRAAAAAAAAAKEBmZmZmZmZDQAAAAAAAADJAzczMzMxsU0AAAAAAAAAyQGZmZmZmZlRAAAAAAAAAMkAAAAAAAKBUQAAAAAAAAC5AAAAAAAAAR0AAAAAAAAAqQAAAAAAAAEBAAAAAAAAALECamZmZmZkzQAAAAAAAAChAMzMzMzOzOUAAAAAAAAAoQAAAAAAAAEBAAAAAAAAAJECamZmZmRk4QAAAAAAAACxAMzMzMzMzTUAAAAAAAAAoQGZmZmZmJlFAAAAAAAAAMEDNzMzMzIxNQAAAAAAAACRAAAAAAAAAVUAAAAAAAAAoQM3MzMzMzDdAAAAAAAAAKEAAAAAAAABAQAAAAAAAAC5AzczMzMxMUEAAAAAAAAAkQDMzMzMzMzlAAAAAAAAAKEDNzMzMzMw3QAAAAAAAADJAzczMzMxsU0AAAAAAAAAmQAAAAAAAADlAAAAAAAAANEAAAAAAAABJQAAAAAAAACxAMzMzMzPTU0AAAAAAAAAwQM3MzMzMjE1AAAAAAAAALkAAAAAAAIA8QAAAAAAAADJAmpmZmZn5VUAAAAAAAAAoQDMzMzMzMztAAAAAAAAAMECamZmZmflVQAAAAAAAADNAmpmZmZnZT0AAAAAAAAAoQM3MzMzMTDdAAAAAAAAALEDNzMzMzIxNQAAAAAAAACBAAAAAAAAAQEAAAAAAAAAwQJqZmZmZWUFAAAAAAAAALEDNzMzMzAxDQAAAAAAAAChAZmZmZmZmRUAAAAAAAAAoQDMzMzMzM0pAAAAAAAAALEAzMzMzM\\u002fNNQAAAAAAAADRAMzMzMzMzSUAAAAAAAAAuQGZmZmZmZkNAAAAAAAAACEDNzMzMzMxCQAAAAAAAADBAZmZmZmamTEAAAAAAAAAcQAAAAAAAADlAAAAAAAAAKEBmZmZmZuY0QAAAAAAAAChAzczMzMzMQkAAAAAAAAAqQAAAAAAAAEBAAAAAAAAAMEAzMzMzM3NVQAAAAAAAADJAmpmZmZmZPUAAAAAAAAAoQAAAAAAAgEVAAAAAAAAAKECamZmZmZkzQAAAAAAAAChAzczMzMxMQEAAAAAAAAAwQDMzMzMzs1JAAAAAAAAALkAAAAAAAIA9QAAAAAAAAChAMzMzMzMzOUAAAAAAAAAwQDMzMzMz81FAAAAAAAAAMEDNzMzMzCxUQAAAAAAAACpAMzMzMzOzTkAAAAAAAAAoQAAAAAAAADlAAAAAAAAAKEAzMzMzM\\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\\u002fQAAAAAAAADBAZmZmZmbmTUAAAAAAAAAwQJqZmZmZmUNAAAAAAAAAFEBmZmZmZmYqQAAAAAAAACRAMzMzMzMzOUAAAAAAAAAuQM3MzMzMjE1AAAAAAAAAKEBmZmZmZiZDQAAAAAAAADBAmpmZmZnZT0AAAAAAAAAwQDMzMzMzU1BAAAAAAAAAJkCamZmZmZk\\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\\u002fNJQAAAAAAAACZAZmZmZmZGUEAAAAAAAAAwQM3MzMzMjE1AAAAAAAAAKEAAAAAAAIBEQAAAAAAAADFAAAAAAACgVEAAAAAAAAAuQAAAAAAAACxAAAAAAAAALECamZmZmZk4QAAAAAAAAC5AzczMzMzMN0AAAAAAAAAoQAAAAAAAAEpAAAAAAAAALECamZmZmVlTQAAAAAAAAChAZmZmZmbmNEAAAAAAAAAsQJqZmZmZ+VVAAAAAAAAAKkAzMzMzM7M0QAAAAAAAACxAMzMzMzPzTUAAAAAAAAAwQAAAAAAAwEVAAAAAAAAAMECamZmZmXlSQAAAAAAAACZAmpmZmZlZU0AAAAAAAAA0QDMzMzMzM0lAAAAAAAAALEAzMzMzMzMrQAAAAAAAAChAzczMzMxMN0AAAAAAAAAoQM3MzMzMTEFAAAAAAAAAKEBmZmZmZqZMQAAAAAAAAChAmpmZmZnZQ0AAAAAAAAAsQGZmZmZmpkxAAAAAAAAAMUCamZmZmVlTQAAAAAAAADNAZmZmZmbGVkAAAAAAAAAuQAAAAAAAAE9AAAAAAAAAKECamZmZmZkyQAAAAAAAAChAAAAAAAAAP0AAAAAAAAAxQDMzMzMzE1NAAAAAAAAAJkAAAAAAAAAsQAAAAAAAADBAAAAAAABAQkAAAAAAAAAuQGZmZmZmRlBAAAAAAAAAKEAzMzMzM7NMQAAAAAAAAC5AmpmZmZnZQ0AAAAAAAAAwQM3MzMzM7FBAAAAAAAAAKEAzMzMzM1NRQAAAAAAAAChAzczMzMzMOEAAAAAAAAAzQAAAAAAAgEVAAAAAAAAAKEDNzMzMzAxNQAAAAAAAACBAMzMzMzOzNEAAAAAAAAAqQDMzMzMzszdAAAAAAAAAM0BmZmZmZuZNQAAAAAAAADBAZmZmZmbmNkAAAAAAAAAoQJqZmZmZGUNAAAAAAAAAMEAzMzMzM1NRQAAAAAAAADNAZmZmZmbmVUAAAAAAAAAzQAAAAAAAwEFAAAAAAAAAMEDNzMzMzMw3QAAAAAAAADBAMzMzMzNzT0AAAAAAAAAuQJqZmZmZmU5AAAAAAAAAMEAAAAAAAKBVQAAAAAAAADFAAAAAAACgVUAAAAAAAAAuQGZmZmZmZjtAAAAAAAAANEAAAAAAAMBRQAAAAAAAAChAMzMzMzMzLUAAAAAAAAAoQAAAAAAAwExAAAAAAAAAIkCamZmZmRk5QAAAAAAAAChAZmZmZmbmNkAAAAAAAAAqQGZmZmZm5k1AAAAAAAAAMEAAAAAAACBQQAAAAAAAAChAMzMzMzOzNEAAAAAAAAAoQDMzMzMzszRAAAAAAAAAMkCamZmZmXlSQAAAAAAAADBAZmZmZmamUkAAAAAAAAAuQGZmZmZm5kJAAAAAAAAAKkBmZmZmZmY5QAAAAAAAACxAMzMzMzMzSUAAAAAAAAAuQAAAAAAAADtAAAAAAAAAKECamZmZmRlCQAAAAAAAAChAzczMzMzMN0AAAAAAAAAuQDMzMzMzU1FAAAAAAAAAMEAzMzMzM7M8QAAAAAAAADJAAAAAAAAgVUAAAAAAAAAoQGZmZmZmZjxAAAAAAAAALECamZmZmZk9QAAAAAAAADBAMzMzMzOzO0AAAAAAAAAoQDMzMzMz81RAAAAAAAAALEBmZmZmZoZQQAAAAAAAADFAAAAAAAAgVUAAAAAAAAAoQJqZmZmZmS1AAAAAAAAAMkAzMzMzM\\u002fNUQAAAAAAAACZAMzMzMzOzNEAAAAAAAAAkQM3MzMzMDENAAAAAAAAAJEAzMzMzM7M3QAAAAAAAAChAzczMzMyMTUAAAAAAAAAoQGZmZmZmZjtAAAAAAAAAKEDNzMzMzIxNQAAAAAAAADBAzczMzMzsUEAAAAAAAAAqQM3MzMzMDEFAAAAAAAAAKEDNzMzMzEw3QAAAAAAAAChAAAAAAADgUkAAAAAAAAAqQM3MzMzMzDpAAAAAAAAAKEAAAAAAAABJQAAAAAAAAPA\\u002fZmZmZmZmP0AAAAAAAAAsQM3MzMzMTFBAAAAAAAAALEAzMzMzM3NMQAAAAAAAADRAmpmZmZk5VEAAAAAAAAAwQJqZmZmZeVJAAAAAAAAAMECamZmZmZlDQAAAAAAAAChAMzMzMzMzTUAAAAAAAAAqQM3MzMzMDEFAAAAAAAAAMEAAAAAAAABVQAAAAAAAACZAmpmZmZkZMUAAAAAAAAAwQM3MzMzMDFVAAAAAAAAAMEAAAAAAAOBSQAAAAAAAADNAZmZmZmbGVkAAAAAAAAAsQDMzMzMzc0xAAAAAAAAALEAAAAAAAKBUQAAAAAAAAChAAAAAAAAALEAAAAAAAAAoQDMzMzMz80NAAAAAAAAAKEBmZmZmZmZDQAAAAAAAACxAMzMzMzNTUUAAAAAAAAAsQAAAAAAAgEVAAAAAAAAAKkAzMzMzMzMlQAAAAAAAACxAMzMzMzOzPEAAAAAAAAAxQM3MzMzMDE1AAAAAAAAALEDNzMzMzIxNQAAAAAAAAChAmpmZmZkZMUAAAAAAAAAmQAAAAAAAAEBAAAAAAAAAKEDNzMzMzEw1QAAAAAAAACxAzczMzMyMRkAAAAAAAAAwQM3MzMzMDERAAAAAAAAAKEAzMzMzM7NGQAAAAAAAADNAAAAAAADgUkAAAAAAAAAuQDMzMzMzM0lAAAAAAAAAKEAAAAAAAABHQAAAAAAAABxAMzMzMzMzQkAAAAAAAAAoQJqZmZmZGUVAAAAAAAAAKECamZmZmZkyQAAAAAAAADJAmpmZmZnZT0AAAAAAAAAkQAAAAAAAAD9AAAAAAAAAJkAAAAAAAIA1QAAAAAAAACxAAAAAAACARUAAAAAAAAAmQJqZmZmZWUJAAAAAAAAAKkDNzMzMzEw\\u002fQAAAAAAAADBAzczMzMxMVUAAAAAAAAAqQAAAAAAAAEdAAAAAAAAAKEAAAAAAAAA0QAAAAAAAACJAMzMzMzOzRkAAAAAAAAAoQJqZmZmZmUNAAAAAAAAAJkAzMzMzM7M7QAAAAAAAACRAmpmZmZkZQkAAAAAAAAAmQDMzMzMzMzdAAAAAAAAALEAAAAAAAABAQAAAAAAAAChAMzMzMzMzK0AAAAAAAAAmQAAAAAAAAE9AAAAAAAAAJEBmZmZmZmZDQAAAAAAAAC5AMzMzMzMzQkAAAAAAAAAsQAAAAAAAAEdAAAAAAAAAMUAzMzMzMxNVQAAAAAAAADBAzczMzMzsUkAAAAAAAAAoQGZmZmZmJlFAAAAAAAAAJkCamZmZmZlOQAAAAAAAAChAMzMzMzMzOEAAAAAAAAAoQDMzMzMzszxAAAAAAAAAKECamZmZmZlCQAAAAAAAACZAMzMzMzOzPEAAAAAAAAAqQAAAAAAAAE9AAAAAAAAAJkAzMzMzM\\u002fNRQAAAAAAAADNAMzMzMzMTU0AAAAAAAAA0QGZmZmZmBldAAAAAAAAAMECamZmZmVlTQAAAAAAAADBAzczMzMyMS0AAAAAAAAAsQM3MzMzMDE5AAAAAAAAAMEAzMzMzMzNJQAAAAAAAACxAzczMzMxMN0AAAAAAAAAoQM3MzMzMDEFAAAAAAAAALEAAAAAAAABKQAAAAAAAAChAMzMzMzOzPEAAAAAAAAAkQDMzMzMzM0lAAAAAAAAAKEAzMzMzMzM\\u002fQAAAAAAAAChAmpmZmZmZQ0AAAAAAAAAwQGZmZmZm5klAAAAAAAAAMEDNzMzMzMw3QAAAAAAAACpAAAAAAAAASkAAAAAAAAAuQAAAAAAAADdAAAAAAAAAMECamZmZmVlRQAAAAAAAAABAAAAAAAAALEAAAAAAAAAoQAAAAAAAgDFAAAAAAAAAKkDNzMzMzEw8QAAAAAAAADJAmpmZmZl5UkAAAAAAAAAoQGZmZmZmJk5AAAAAAAAAJkCamZmZmZktQAAAAAAAAAAAMzMzMzMzK0AAAAAAAAAgQAAAAAAAACxAAAAAAAAALEAzMzMzMzM\\u002fQAAAAAAAAC5AMzMzMzOTU0AAAAAAAAAwQM3MzMzMTEBAAAAAAAAAKkDNzMzMzIxKQAAAAAAAAC5AMzMzMzOzPEAAAAAAAAAyQJqZmZmZ2VNAAAAAAAAALkBmZmZmZuZNQAAAAAAAACxAMzMzMzOzTEAAAAAAAAAyQDMzMzMzU1FAAAAAAAAAMUCamZmZmRlHQAAAAAAAADRAzczMzMzMUkAAAAAAAAA0QDMzMzMzc1VAAAAAAAAAM0CamZmZmdlDQAAAAAAAACxAMzMzMzOTU0AAAAAAAAAsQJqZmZmZ+VVAAAAAAAAAIkAAAAAAAABHQAAAAAAAACRAMzMzMzMzM0AAAAAAAAAzQAAAAAAAAFVAAAAAAAAANECamZmZmTlUQAAAAAAAAChAmpmZmZmZMkAAAAAAAAAsQJqZmZmZmUNAAAAAAAAAJkCamZmZmZk\\u002fQAAAAAAAAChAAAAAAACAPEAAAAAAAAAoQDMzMzMzMztAAAAAAAAAKEAzMzMzM\\u002fNNQAAAAAAAACxAAAAAAABgUkAAAAAAAAAgQDMzMzMzMytAAAAAAAAAKEAzMzMzMzMrQAAAAAAAAChAzczMzMxMN0AAAAAAAAAoQAAAAAAAAEdAAAAAAAAAIkCamZmZmZkyQAAAAAAAAChAzczMzMxMN0AAAAAAAAAyQDMzMzMzc09AAAAAAAAAKEDNzMzMzEw3QAAAAAAAACxAmpmZmZlZQUAAAAAAAAAwQJqZmZmZ2VNAAAAAAAAAKEAzMzMzMzM7QAAAAAAAACxAMzMzMzMzQkAAAAAAAAAgQDMzMzMzs0ZAAAAAAAAAKEDNzMzMzMxKQAAAAAAAADBAAAAAAABAVEAAAAAAAAAxQDMzMzMzM0JAAAAAAAAALkAzMzMzMxNTQAAAAAAAAChAzczMzMwMQUAAAAAAAAAqQM3MzMzMzEpAAAAAAAAALEDNzMzMzIxDQAAAAAAAADBAMzMzMzNTVkAAAAAAAAAqQGZmZmZm5j9AAAAAAAAANEAAAAAAAABAQAAAAAAAAChAAAAAAAAAQEAAAAAAAAAsQAAAAAAAAEdAAAAAAAAALEAzMzMzM7M0QAAAAAAAABxAMzMzMzMzOUAAAAAAAAAoQJqZmZmZmUpAAAAAAAAAMEDNzMzMzExPQAAAAAAAAChAAAAAAAAAUUAAAAAAAAAwQAAAAAAAoFRAAAAAAAAAKEBmZmZmZkZQQAAAAAAAACxAmpmZmZmZQEAAAAAAAAAgQAAAAAAAAEBAAAAAAAAAMUDNzMzMzIxDQAAAAAAAAChAMzMzMzMzOUAAAAAAAAAzQGZmZmZmxlZAAAAAAAAAKEAzMzMzM3NMQAAAAAAAACJAAAAAAAAAQEAAAAAAAAAsQJqZmZmZmT9AAAAAAAAALEDNzMzMzExAQAAAAAAAAChAMzMzMzMzTUAAAAAAAAAoQM3MzMzMDEpAAAAAAAAAKEAzMzMzM\\u002fNDQAAAAAAAAChAMzMzMzMzO0AAAAAAAAAoQGZmZmZmZjxAAAAAAAAAKEAzMzMzM\\u002fNDQAAAAAAAAChAmpmZmZn5VUAAAAAAAAAoQDMzMzMz80NAAAAAAAAAKEAzMzMzM7M3QAAAAAAAAChAAAAAAAAAP0AAAAAAAAAwQAAAAAAA4FJAAAAAAAAALkAzMzMzM\\u002fNJQAAAAAAAACxAAAAAAAAAT0AAAAAAAAAwQGZmZmZmpkxAAAAAAAAAMkDNzMzMzExTQAAAAAAAAChAZmZmZmbmNEAAAAAAAAAuQAAAAAAAAEdAAAAAAAAAKEBmZmZmZuY0QAAAAAAAAChAMzMzMzMzOEAAAAAAAAAsQM3MzMzMzDpAAAAAAAAAIEDNzMzMzMwsQAAAAAAAAChAMzMzMzOzM0AAAAAAAAAoQAAAAAAAADRAAAAAAAAAKEDNzMzMzExHQAAAAAAAADFAmpmZmZkZRUAAAAAAAAAqQM3MzMzM7FBAAAAAAAAAKEAzMzMzM7M0QAAAAAAAAChAmpmZmZmZQ0AAAAAAAAAzQM3MzMzMbFNAAAAAAAAAKkAzMzMzM7M8QAAAAAAAADBAMzMzMzMzK0AAAAAAAAAmQAAAAAAAAEdAAAAAAAAAKkAzMzMzM7M0QAAAAAAAACJAMzMzMzMzP0AAAAAAAAAkQJqZmZmZWUFAAAAAAAAAKkCamZmZmdlAQAAAAAAAAChAMzMzMzOzPEAAAAAAAAAoQGZmZmZmRlBAAAAAAAAAKEAAAAAAAABHQAAAAAAAAChAMzMzMzMzOUAAAAAAAAAoQJqZmZmZmTJAAAAAAAAAKECamZmZmZk1QAAAAAAAACRAAAAAAAAALEAAAAAAAAAYQJqZmZmZmTJAAAAAAAAAEEDNzMzMzMw6QAAAAAAAAChAMzMzMzOzNEAAAAAAAAAoQJqZmZmZmUJAAAAAAAAAKEDNzMzMzAxDQAAAAAAAACxAZmZmZmZmPEAAAAAAAAAqQJqZmZmZeVNAAAAAAAAAIkAAAAAAAABAQAAAAAAAABhAmpmZmZmZNUAAAAAAAAAkQJqZmZmZ2UNAAAAAAAAAKEBmZmZmZuY2QAAAAAAAACRAMzMzMzMzJUAAAAAAAAAYQAAAAAAAAEBAAAAAAAAAKEAzMzMzM\\u002fNDQAAAAAAAACRAZmZmZmZmPEAAAAAAAAAYQAAAAAAAACxAAAAAAAAAJEAzMzMzMzM5QAAAAAAAAChAzczMzMxMQEAAAAAAAAAoQDMzMzMzszRAAAAAAAAALEAzMzMzMzNOQAAAAAAAACpAMzMzMzNTUEAAAAAAAAAoQAAAAAAAgE1AAAAAAAAAMUAzMzMzM7NMQAAAAAAAAChAzczMzMxMN0AAAAAAAAAuQDMzMzMz81RAAAAAAAAAKEAzMzMzM\\u002fNDQAAAAAAAADBAzczMzMzMLEAAAAAAAAAxQGZmZmZmhlFAAAAAAAAALEAAAAAAAEBKQAAAAAAAADRAmpmZmZlZU0AAAAAAAAAwQJqZmZmZWU9A\",\"shape\":\"954, 2\"},\"hovertemplate\":\"Sex=male\\u003cbr\\u003eOccupational Prestige Score=%{x}\\u003cbr\\u003eAnnual Income=%{y}\\u003cbr\\u003eeducation=%{customdata[0]}\\u003cbr\\u003esocioeconomic_index=%{customdata[1]}\\u003cextra\\u003e\\u003c\\u002fextra\\u003e\",\"legendgroup\":\"male\",\"marker\":{\"color\":\"#EF553B\",\"symbol\":\"circle\"},\"mode\":\"markers\",\"name\":\"male\",\"showlegend\":true,\"x\":{\"dtype\":\"f8\",\"bdata\":\"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\\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\\u002fQAAAAAAAADRAAAAAAAAAUkAAAAAAAABGQAAAAAAAAD9AAAAAAACAQ0AAAAAAAIBBQAAAAAAAADxAAAAAAACAQUAAAAAAAABHQAAAAAAAAENAAAAAAAAAQEAAAAAAAAA8QAAAAAAAAENAAAAAAAAAREAAAAAAAIBJQAAAAAAAAE5AAAAAAACAQUAAAAAAAAA8QAAAAAAAQFBAAAAAAACAUkAAAAAAAAA8QAAAAAAAAD1AAAAAAACASEAAAAAAAABIQAAAAAAAgEhAAAAAAAAAUkAAAAAAAAA9QAAAAAAAAD9AAAAAAAAAP0AAAAAAAIBNQAAAAAAAgEFAAAAAAAAAOkAAAAAAAAA6QAAAAAAAAEpAAAAAAAAARUAAAAAAAEBSQAAAAAAAAEVAAAAAAACAQUAAAAAAAABAQAAAAAAAgEpAAAAAAACAQEAAAAAAAABQQAAAAAAAAFBAAAAAAACASEAAAAAAAAA7QAAAAAAAAElAAAAAAACARkAAAAAAAIBHQAAAAAAAgEdAAAAAAACARUAAAAAAAAA5QAAAAAAAgFFAAAAAAAAASUAAAAAAAAA7QAAAAAAAAE5AAAAAAAAASUAAAAAAAAA5QAAAAAAAgEdAAAAAAAAAPEAAAAAAAAA5QAAAAAAAADlAAAAAAACASkAAAAAAAAA\\u002fQAAAAAAAgENAAAAAAACARUAAAAAAAABJQAAAAAAAgEVAAAAAAACAQUAAAAAAAABQQAAAAAAAAEdAAAAAAAAAQEAAAAAAAIBFQAAAAAAAAEFAAAAAAAAAP0AAAAAAAABAQAAAAAAAgEJAAAAAAACASEAAAAAAAABPQAAAAAAAgEhAAAAAAAAATkAAAAAAAABMQAAAAAAAAEBAAAAAAAAASEAAAAAAAABHQAAAAAAAgEZAAAAAAAAASkAAAAAAAIBFQAAAAAAAAElAAAAAAACAQUAAAAAAAIBBQAAAAAAAAEdAAAAAAACAQkAAAAAAAAA\\u002fQAAAAAAAADxAAAAAAACAQUAAAAAAAABOQAAAAAAAADxAAAAAAABAUEAAAAAAAABDQAAAAAAAAEZAAAAAAABAUkAAAAAAAIBPQAAAAAAAgEFAAAAAAAAAOUAAAAAAAABAQAAAAAAAADtAAAAAAAAAQUAAAAAAAIBIQAAAAAAAAElAAAAAAAAAOUAAAAAAAIBCQAAAAAAAAE9AAAAAAACAQUAAAAAAAAA5QAAAAAAAgENAAAAAAABAUEAAAAAAAIBGQAAAAAAAQFJAAAAAAAAAT0AAAAAAAAA\\u002fQAAAAAAAADhAAAAAAAAAR0AAAAAAAIBNQAAAAAAAgEpAAAAAAACAQ0AAAAAAAABQQAAAAAAAADVAAAAAAACAQ0AAAAAAAAA5QAAAAAAAAEdAAAAAAAAAUkAAAAAAAIBBQAAAAAAAAE5AAAAAAAAAOEAAAAAAAABFQAAAAAAAgENAAAAAAACASkAAAAAAAABSQAAAAAAAAE9AAAAAAACAQEAAAAAAAAA5QAAAAAAAAEJAAAAAAACARUAAAAAAAAA\\u002fQAAAAAAAgEVAAAAAAAAAUkAAAAAAAEBRQAAAAAAAgEZAAAAAAACAQkAAAAAAAABFQAAAAAAAAE5AAAAAAAAAO0AAAAAAAAA5QAAAAAAAgE1AAAAAAAAASUAAAAAAAAA\\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\"},\"xaxis\":\"x\",\"y\":{\"dtype\":\"f8\",\"bdata\":\"AAAAAABi+0DLEMe6zk8DQQAAAABg0+JAAAAAAEAd8UAAAAAAAGL7QAAAAACAifRAAAAAALAa50AAAAAAoD\\u002fWQAAAAACAifRAAAAAAKA\\u002f1kAAAAAAwPX3QAAAAABAzt5AAAAAALAa50AAAAAA4KvZQAAAAACAifRAAAAAAICJ9EDLEMe6zk8DQQAAAADA9fdAAAAAALAa50AAAAAAIBjNQAAAAABAHfFAAAAAAMD190AAAAAAQB3xQAAAAABAzt5AAAAAAGDT4kDLEMe6zk8DQQAAAABAHfFAAAAAAACluEAAAAAAQB3xQAAAAADA9fdAAAAAAGDT4kDLEMe6zk8DQQAAAACwGudAAAAAAEAd8UAAAAAAAGL7QAAAAABAHfFAyxDHus5PA0HLEMe6zk8DQQAAAAAQPexAAAAAAEDO3kAAAAAAoD\\u002fWQAAAAABAHfFAAAAAAMD190DLEMe6zk8DQcsQx7rOTwNByxDHus5PA0EAAAAAED3sQAAAAABAHfFAAAAAADBC0EAAAAAAsBrnQAAAAACwGudAAAAAALAa50AAAAAAsBrnQAAAAABAzt5AAAAAAEDO3kAAAAAAYNPiQAAAAACwGudAAAAAALAa50AAAAAAoD\\u002fWQMsQx7rOTwNBAAAAAMD190AAAAAAED3sQAAAAABg08JAAAAAAMD190AAAAAAED3sQAAAAADA9fdAAAAAAICJ9EAAAAAAED3sQAAAAACAifRAAAAAAOCryUAAAAAAQB3xQAAAAABAHfFAAAAAABA97EDLEMe6zk8DQQAAAAAQPexAAAAAAICJ9EAAAAAAED3sQAAAAABAHfFAAAAAAOCryUDLEMe6zk8DQQAAAAAAH65AAAAAALAa50AAAAAAED3sQAAAAACwGudAAAAAAKA\\u002f1kAAAAAAQB3xQAAAAAAAYvtAAAAAAEDO3kAAAAAAED3sQAAAAABAzt5AyxDHus5PA0HLEMe6zk8DQQAAAABAzr5AAAAAAMD190AAAAAAYNPiQAAAAACwGudAAAAAAABi+0AAAAAAAGL7QAAAAABAHfFAAAAAAMD190AAAAAAsBrnQAAAAABg08JAAAAAAICJ9EDLEMe6zk8DQQAAAACAifRAAAAAABA97EAAAAAAwPX3QAAAAACAifRAAAAAAGDT4kDLEMe6zk8DQQAAAACwGudAAAAAAGDT4kDLEMe6zk8DQQAAAACwGudAAAAAAEAd8UDLEMe6zk8DQQAAAACAifRAAAAAALAa50AAAAAAQB3xQAAAAACwGudAAAAAAGDT4kAAAAAAYNPSQAAAAAAwQtBAAAAAAOCr2UAAAAAAAGL7QAAAAAAQPexAyxDHus5PA0EAAAAAwPX3QMsQx7rOTwNByxDHus5PA0EAAAAAgIn0QMsQx7rOTwNBAAAAAMD190AAAAAAED3sQAAAAABAHfFAyxDHus5PA0HLEMe6zk8DQcsQx7rOTwNByxDHus5PA0EAAAAAgIn0QAAAAABAHfFAAAAAABA97EAAAAAAYNPCQAAAAAAAYvtAAAAAAGDT0kAAAAAAgIn0QAAAAABg0+JAAAAAAGDT0kAAAAAAQM7eQAAAAAAQPexAyxDHus5PA0EAAAAAED3sQAAAAABAzt5AAAAAADBC0EAAAAAAsBrnQMsQx7rOTwNByxDHus5PA0EAAAAAMELQQAAAAACAifRAAAAAAEAd8UAAAAAAYNPiQAAAAACAifRAAAAAAABi+0AAAAAAsBrnQAAAAADA9fdAAAAAAICJ9EAAAAAAQM7eQAAAAABAHfFAAAAAAEAd8UAAAAAAwPX3QAAAAABg0+JAyxDHus5PA0HLEMe6zk8DQQAAAACgP9ZAAAAAABA97EAAAAAAQB3xQAAAAABAHfFAAAAAAABi+0AAAAAAQM7eQAAAAADA9fdAyxDHus5PA0EAAAAAYNPSQAAAAAAAYvtAyxDHus5PA0EAAAAAgIn0QAAAAABg0+JAAAAAABA97EAAAAAAgIn0QAAAAACgP8ZAAAAAAGDTwkAAAAAAQM7eQAAAAACAifRAyxDHus5PA0HLEMe6zk8DQQAAAABAHfFAyxDHus5PA0EAAAAAoD\\u002fGQAAAAACwGudAyxDHus5PA0HLEMe6zk8DQQAAAAAwQtBAAAAAAMD190AAAAAAAGL7QAAAAACAifRAAAAAABA97EAAAAAAsBrnQAAAAACwGudAyxDHus5PA0EAAAAAgIn0QAAAAACwGudAAAAAAOCryUAAAAAAoD\\u002fGQAAAAABAzr5AAAAAADBC0EAAAAAAQM7eQAAAAAAwQtBAAAAAADBC0EAAAAAAQB3xQAAAAABAzt5AAAAAAKA\\u002fxkAAAAAAQB3xQAAAAACwGudAAAAAAACluEAAAAAA4KvZQAAAAACgP8ZAAAAAAICJ9EAAAAAAED3sQAAAAABg0+JAAAAAABA97EAAAAAAYNPCQAAAAABAHfFAAAAAALAa50DLEMe6zk8DQQAAAABg0+JAAAAAACAYzUAAAAAAoD\\u002fWQAAAAABAzt5AAAAAABA97EAAAAAAoD\\u002fWQAAAAACgP8ZAAAAAAGDT4kAAAAAAsBrnQAAAAABAHfFAAAAAALAa50DLEMe6zk8DQQAAAAAwQtBAAAAAALAa50AAAAAAYNPiQAAAAABAzr5AAAAAABA97EAAAAAAwPX3QAAAAAAApbhAAAAAAADolUAAAAAAQM7eQAAAAABAzt5AAAAAAKA\\u002f1kAAAAAAYNPiQAAAAABg09JAAAAAAABi+0AAAAAAED3sQAAAAABAzr5AAAAAAICJtEDLEMe6zk8DQcsQx7rOTwNBAAAAAABi+0AAAAAAIBjNQAAAAAAAYvtAAAAAACAYzUAAAAAAYNPiQAAAAACgP9ZAAAAAAICJ9EAAAAAAED3sQAAAAADA9fdAAAAAAGDT4kAAAAAAoD\\u002fWQAAAAACwGudAAAAAALAa50AAAAAAgIn0QAAAAABg08JAAAAAALAa50AAAAAAoD\\u002fWQAAAAABAHfFAAAAAAICJ9EAAAAAAED3sQMsQx7rOTwNByxDHus5PA0HLEMe6zk8DQQAAAABg0+JAAAAAAKA\\u002f1kAAAAAAgIn0QAAAAABg08JAAAAAAOCr2UAAAAAAAGL7QAAAAAAQPexAAAAAAKA\\u002f1kAAAAAAED3sQAAAAADA9fdAAAAAALAa50AAAAAAYNPiQAAAAADgq9lAAAAAADBC0EAAAAAAsBrnQAAAAAAQPexAAAAAAADolUAAAAAAED3sQAAAAABg08JAAAAAAEDO3kAAAAAA4KvZQAAAAABAzr5AAAAAAICJtEAAAAAAQM7eQAAAAABg0+JAAAAAAEAd8UAAAAAAgMyxQMsQx7rOTwNByxDHus5PA0EAAAAAQM7eQAAAAABg09JAyxDHus5PA0HLEMe6zk8DQQAAAABg0+JAAAAAALAa50AAAAAAED3sQAAAAACgP9ZAAAAAAGDT4kAAAAAAsBrnQAAAAABg0+JAAAAAABA97EDLEMe6zk8DQQAAAABAzt5AAAAAAEDO3kAAAAAAAOiVQAAAAABg0+JAyxDHus5PA0EAAAAAgIn0QAAAAABg0+JAAAAAAICJ9EAAAAAAoD\\u002fGQAAAAABg09JAAAAAALAa50AAAAAAoD\\u002fWQAAAAABAHfFAAAAAAGDT4kAAAAAAoD\\u002fWQAAAAACgP9ZAAAAAAKA\\u002f1kAAAAAAMELQQAAAAABg0+JAAAAAAGDT4kAAAAAAQB3xQAAAAACwGudAAAAAAOCr2UAAAAAAwPX3QAAAAABAHfFAAAAAAACluEAAAAAAgIn0QAAAAABAHfFAAAAAABA97EAAAAAAED3sQAAAAACAifRAAAAAAGDTwkAAAAAAED3sQAAAAABAzt5AAAAAAGDT4kAAAAAAsBrnQAAAAAAAK6NAAAAAAEDOvkAAAAAAQM7eQAAAAACgP9ZAAAAAAEAd8UAAAAAAED3sQAAAAABg0+JAAAAAAGDT4kAAAAAAsBrnQAAAAABAzt5AAAAAAEDO3kAAAAAAgIn0QAAAAABg08JAAAAAAICJ9EAAAAAAED3sQAAAAACwGudAAAAAAAAfrkAAAAAAAGL7QAAAAABAHfFAAAAAABA97EAAAAAAED3sQAAAAABg0+JAAAAAAGDT4kAAAAAAsBrnQMsQx7rOTwNBAAAAAGDT4kAAAAAAQM7eQMsQx7rOTwNBAAAAALAa50AAAAAAoD\\u002fWQMsQx7rOTwNBAAAAAICJ9EDLEMe6zk8DQQAAAACwGudAAAAAAEDO3kDLEMe6zk8DQQAAAACwGudAAAAAAEDOvkAAAAAAQM7eQAAAAAAQPexAyxDHus5PA0EAAAAAQB3xQAAAAAAgGM1AAAAAAEDOvkAAAAAAYNPCQAAAAABAzr5AAAAAAEDOvkAAAAAAoD\\u002fWQAAAAACgP9ZAAAAAADBC0EAAAAAA4KvZQAAAAACAzLFAAAAAACAYzUAAAAAAgIm0QAAAAACwGudAAAAAALAa50AAAAAAAGL7QAAAAAAA6HVAAAAAAOCr2UAAAAAAgIn0QAAAAACgP9ZAAAAAAEDO3kAAAAAAED3sQAAAAACAifRAAAAAAICJ9EAAAAAAwPX3QAAAAADgq9lAAAAAALAa50AAAAAAwPX3QAAAAACgP9ZAAAAAAKA\\u002f1kAAAAAAIBjNQAAAAABAzt5AAAAAAMD190AAAAAAsBrnQAAAAACgP9ZAAAAAAOCr2UAAAAAAQM7eQAAAAABg09JAAAAAAKA\\u002f1kAAAAAA4KvJQAAAAABg0+JAAAAAADBC0EAAAAAAED3sQAAAAABg08JAyxDHus5PA0EAAAAAED3sQAAAAACAifRAAAAAAEDO3kAAAAAAYNPSQAAAAAAgGM1AAAAAAOCr2UAAAAAAsBrnQAAAAABg08JAAAAAAEAd8UAAAAAAgIn0QAAAAADA9fdAAAAAADBC0EAAAAAAQB3xQAAAAABAHfFAAAAAAICJ9EAAAAAAgIn0QAAAAACAifRAyxDHus5PA0HLEMe6zk8DQQAAAAAQPexAyxDHus5PA0EAAAAAYNPiQAAAAABg0+JAAAAAAOCr2UAAAAAAsBrnQAAAAACgP9ZAAAAAAMD190AAAAAAYNPSQAAAAADgq9lAAAAAAICJ9EDLEMe6zk8DQQAAAAAQPexAAAAAAICJ9EAAAAAAQM7eQAAAAACgP9ZAAAAAAGDTwkAAAAAAAOiVQAAAAABAzr5AAAAAAGDTwkAAAAAAAOh1QAAAAAAQPexAAAAAAGDT0kAAAAAAACujQAAAAABg0+JAAAAAAAAfrkDLEMe6zk8DQQAAAACwGudAAAAAAEDO3kAAAAAAoD\\u002fWQAAAAABg0+JAAAAAAEDO3kAAAAAAsBrnQAAAAAAAYvtAAAAAAGDT4kAAAAAAgIn0QAAAAABg08JAyxDHus5PA0EAAAAAMELQQAAAAACwGudAAAAAAGDT4kAAAAAAQM7eQAAAAACAifRAAAAAAEDO3kAAAAAAED3sQAAAAABAzt5AAAAAAGDTwkAAAAAA4KvJQAAAAABAzr5AAAAAADBC0EAAAAAAYNPiQAAAAACAifRAAAAAALAa50AAAAAAYNPiQAAAAACwGudAyxDHus5PA0EAAAAAQM7eQAAAAABAzt5AAAAAAADolUAAAAAAQM6+QAAAAAAAK6NAAAAAABA97EAAAAAAYNPiQAAAAABAzr5AAAAAAEAd8UAAAAAA4KvZQAAAAABAzt5AAAAAAGDTwkAAAAAAgIn0QAAAAACAifRAAAAAABA97EAAAAAAAGL7QAAAAABAHfFAAAAAAGDTwkAAAAAAQB3xQAAAAACAifRAAAAAAKA\\u002fxkAAAAAAED3sQAAAAAAAYvtAAAAAAEDO3kAAAAAAsBrnQAAAAAAA6HVAAAAAADBC0EAAAAAAgIn0QAAAAAAAYvtAAAAAABA97EAAAAAAoD\\u002fWQAAAAABg09JAAAAAAGDT4kAAAAAAIBjNQAAAAACgP9ZAAAAAAABi+0AAAAAAQB3xQAAAAACAifRAAAAAAGDTwkAAAAAAsBrnQAAAAAAQPexAyxDHus5PA0EAAAAAoD\\u002fGQAAAAABg0+JAAAAAAGDT4kAAAAAAwPX3QAAAAABg0+JAAAAAAOCr2UAAAAAAQM7eQAAAAAAwQtBAAAAAAOCr2UAAAAAAYNPiQAAAAABAzt5AAAAAACAYzUAAAAAA4KvZQAAAAACwGudAAAAAAICJ9EAAAAAAwPX3QAAAAABg0+JAAAAAAOCr2UAAAAAAED3sQAAAAACgP9ZAAAAAACAYzUAAAAAA4KvJQAAAAABAzt5AyxDHus5PA0EAAAAAQM6+QAAAAACgP9ZAAAAAACAYzUAAAAAAsBrnQAAAAACwGudAAAAAAGDT0kAAAAAAAOh1QAAAAAAwQtBAAAAAAKA\\u002f1kAAAAAAED3sQAAAAABAzt5AyxDHus5PA0EAAAAAAGL7QMsQx7rOTwNBAAAAAICJ9EDLEMe6zk8DQQAAAABAzr5AAAAAADBC0EAAAAAAMELQQAAAAADgq9lAAAAAAEDO3kAAAAAAYNPSQAAAAACwGudAAAAAAOCr2UAAAAAAgIn0QAAAAABAzr5AAAAAAOCryUAAAAAAsBrnQAAAAACAifRAAAAAALAa50AAAAAAACujQAAAAACwGudAAAAAAGDT4kDLEMe6zk8DQQAAAABAHfFAAAAAAMD190AAAAAAQM7eQAAAAABg0+JAAAAAABA97EAAAAAAQM7eQAAAAABg0+JAAAAAAKA\\u002fxkAAAAAAYNPiQAAAAAAQPexAAAAAAGDT4kAAAAAAYNPiQAAAAADA9fdAAAAAAEAd8UAAAAAAgIn0QAAAAADgq9lAAAAAALAa50AAAAAAYNPCQAAAAAAwQtBAAAAAADBC0EAAAAAA4KvJQAAAAACwGudAAAAAAICJ9EAAAAAAQB3xQAAAAAAgGM1AyxDHus5PA0EAAAAAwPX3QAAAAABAHfFAAAAAAGDT4kAAAAAAQB3xQAAAAABAHfFAAAAAAOCryUAAAAAAQM7eQAAAAACwGudAAAAAAEDOvkAAAAAAoD\\u002fWQAAAAADA9fdAAAAAAEDOvkAAAAAAYNPiQAAAAABAzt5AAAAAAGDT4kAAAAAAMELQQAAAAACAifRAAAAAAEDO3kAAAAAAAGL7QAAAAABg0+JAAAAAALAa50AAAAAAgIn0QAAAAACAifRAAAAAAGDT0kAAAAAA4KvZQAAAAACAifRAAAAAAMD190AAAAAAED3sQAAAAADgq9lAAAAAABA97EAAAAAAsBrnQAAAAACwGudAAAAAAADolUAAAAAAACujQAAAAABg0+JAAAAAABA97EAAAAAAQM7eQAAAAABg09JAAAAAAICJ9EAAAAAAAKW4QAAAAABg09JAAAAAAOCr2UAAAAAAYNPiQAAAAAAA6JVAAAAAAGDT0kAAAAAAsBrnQAAAAAAQPexAAAAAAEDO3kAAAAAAYNPiQAAAAAAwQtBAAAAAAEDOvkAAAAAAoD\\u002fWQAAAAACwGudAAAAAALAa50AAAAAAQM7eQAAAAAAA6JVAAAAAAMD190AAAAAAYNPCQAAAAABAzt5AAAAAACAYzUAAAAAAQB3xQAAAAAAwQtBAAAAAAABi+0DLEMe6zk8DQQAAAABg0+JAAAAAAKA\\u002f1kAAAAAAQB3xQAAAAAAAYvtAAAAAAEAd8UAAAAAA4KvZQMsQx7rOTwNBAAAAAEDO3kAAAAAAYNPiQAAAAACAifRAAAAAALAa50AAAAAAsBrnQAAAAACwGudAAAAAAICJ9EAAAAAAoD\\u002fWQAAAAACAifRAAAAAAEAd8UAAAAAAAGL7QAAAAACwGudAAAAAAOCr2UAAAAAAAKW4QAAAAACgP9ZAAAAAAOCr2UAAAAAAQB3xQAAAAACgP8ZAAAAAAEDOvkAAAAAAoD\\u002fGQAAAAAAAYvtAAAAAACAYzUAAAAAAoD\\u002fWQAAAAABAzr5AAAAAACAYzUAAAAAA4KvZQAAAAACgP9ZAAAAAAOCryUAAAAAAQM7eQAAAAABAzt5AAAAAAEDO3kAAAAAAAKW4QAAAAADgq9lAAAAAAGDT0kAAAAAAYNPiQAAAAABAzt5AAAAAAMD190AAAAAAQM7eQAAAAACwGudAAAAAAABi+0AAAAAAQM7eQAAAAABAzt5AAAAAAIDMsUAAAAAAED3sQAAAAABAHfFAAAAAAKA\\u002f1kAAAAAAQM7eQAAAAAAwQtBAAAAAALAa50AAAAAAAKWoQAAAAAAQPexAAAAAABA97EAAAAAAsBrnQAAAAACAifRAAAAAAMD190DLEMe6zk8DQQAAAABAHfFAAAAAAOCryUAAAAAAQM7eQAAAAABg0+JAAAAAALAa50AAAAAAQM7eQAAAAAAQPexAAAAAAICJ9EAAAAAAAGL7QAAAAADA9fdAyxDHus5PA0EAAAAAYNPCQAAAAACgP9ZAAAAAAEAd8UAAAAAAYNPCQAAAAABg0+JAAAAAAOCr2UAAAAAAoD\\u002fGQAAAAABAHfFAAAAAAOCr2UAAAAAAQM7eQAAAAAAQPexAAAAAAKA\\u002fxkAAAAAAYNPiQAAAAACgP9ZAAAAAAEDO3kAAAAAAAKW4QAAAAABAzr5AAAAAAADolUAAAAAAED3sQAAAAAAwQtBAAAAAAACluEAAAAAAAB+uQAAAAABAzr5AAAAAAGDT4kAAAAAAYNPiQAAAAADgq8lAAAAAAEDO3kAAAAAAsBrnQMsQx7rOTwNBAAAAAICJ9EAAAAAAoD\\u002fWQAAAAABAzt5AAAAAAEAd8UDLEMe6zk8DQQAAAABAzt5AAAAAAACluEAAAAAAYNPiQAAAAABg09JAAAAAAKA\\u002f1kAAAAAAIBjNQMsQx7rOTwNByxDHus5PA0EAAAAAoD\\u002fWQAAAAABg0+JAAAAAAKA\\u002fxkAAAAAAsBrnQAAAAABAzt5AAAAAAEDO3kAAAAAAsBrnQAAAAABg09JAAAAAAGDT0kAAAAAAQM7eQAAAAAAAK6NAAAAAAAClqEAAAAAAIBjNQAAAAABg0+JAAAAAAGDT0kAAAAAAYNPiQAAAAABAHfFAAAAAAGDT4kAAAAAAsBrnQAAAAADgq8lAAAAAAKA\\u002f1kAAAAAAQB3xQAAAAADA9fdAAAAAAMD190AAAAAAsBrnQAAAAACAifRAAAAAAGDT4kAAAAAAsBrnQAAAAABg0+JAAAAAADBC0EAAAAAAYNPCQAAAAADgq9lAAAAAAGDT0kAAAAAAQM7eQAAAAADA9fdAAAAAALAa50AAAAAAQM7eQAAAAAAApbhAAAAAAMD190AAAAAAMELQQAAAAACgP9ZAAAAAAKA\\u002f1kDLEMe6zk8DQQAAAAAQPexAAAAAALAa50AAAAAAMELQQAAAAABAzr5AAAAAAGDT4kAAAAAAgIn0QAAAAABAHfFAAAAAAGDTwkAAAAAAYNPSQAAAAACAzLFAAAAAAMD190AAAAAAIBjNQAAAAACAifRAAAAAABA97EAAAAAAED3sQAAAAABAHfFAAAAAAAAfrkAAAAAAQB3xQAAAAABg0+JAAAAAAOCr2UAAAAAAYNPSQAAAAAAQPexAAAAAAABi+0AAAAAAAKW4QAAAAAAQPexAAAAAAADodUAAAAAAAOh1QAAAAABAzt5AAAAAAMD190AAAAAAED3sQAAAAABAzt5AAAAAAADodUAAAAAAAOiVQAAAAABg08JAAAAAAGDT4kAAAAAA4KvZQAAAAADgq9lAAAAAAGDT0kAAAAAAAOh1QAAAAAAwQtBAAAAAAGDT0kAAAAAAQM6+QAAAAACwGudAAAAAAICJ9EAAAAAAYNPiQAAAAABg09JAAAAAAGDTwkAAAAAAAOh1QAAAAAAAH65AAAAAAADodUAAAAAAoD\\u002fGQAAAAABg09JAAAAAABA97EAAAAAAQB3xQAAAAAAwQtBAAAAAADBC0EAAAAAAQM7eQAAAAABg08JAAAAAAEDOvkAAAAAAYNPSQAAAAAAAK6NAAAAAAAClqEAAAAAAQM6+QAAAAAAApbhAAAAAABA97EAAAAAAsBrnQAAAAAAgGM1AAAAAAGDT4kAAAAAAwPX3QAAAAADgq9lAAAAAAICJ9EAAAAAAQM7eQAAAAAAQPexAAAAAABA97EAAAAAAAOiVQAAAAABAHfFAAAAAAICJ9EAAAAAAAGL7QAAAAABg0+JA\"},\"yaxis\":\"y\",\"type\":\"scattergl\"},{\"hovertemplate\":\"\\u003cb\\u003eOLS trendline\\u003c\\u002fb\\u003e\\u003cbr\\u003eincome = 1227.2 * job_prestige + -1382.87\\u003cbr\\u003eR\\u003csup\\u003e2\\u003c\\u002fsup\\u003e=0.148539\\u003cbr\\u003e\\u003cbr\\u003eSex=male\\u003cbr\\u003eOccupational Prestige Score=%{x}\\u003cbr\\u003eAnnual Income=%{y} \\u003cb\\u003e(trend)\\u003c\\u002fb\\u003e\\u003cextra\\u003e\\u003c\\u002fextra\\u003e\",\"legendgroup\":\"male\",\"marker\":{\"color\":\"#EF553B\",\"symbol\":\"circle\"},\"mode\":\"lines\",\"name\":\"male\",\"showlegend\":false,\"x\":{\"dtype\":\"f8\",\"bdata\":\"AAAAAAAAMUAAAAAAAAA0QAAAAAAAADRAAAAAAAAANEAAAAAAAAA1QAAAAAAAADZAAAAAAAAANkAAAAAAAAA2QAAAAAAAADZAAAAAAAAANkAAAAAAAAA2QAAAAAAAADdAAAAAAAAAOEAAAAAAAAA4QAAAAAAAADhAAAAAAAAAOEAAAAAAAAA4QAAAAAAAADhAAAAAAAAAOEAAAAAAAAA4QAAAAAAAADhAAAAAAAAAOEAAAAAAAAA4QAAAAAAAADhAAAAAAAAAOEAAAAAAAAA4QAAAAAAAADhAAAAAAAAAOEAAAAAAAAA4QAAAAAAAADhAAAAAAAAAOEAAAAAAAAA4QAAAAAAAADhAAAAAAAAAOEAAAAAAAAA4QAAAAAAAADhAAAAAAAAAOEAAAAAAAAA4QAAAAAAAADhAAAAAAAAAOUAAAAAAAAA5QAAAAAAAADlAAAAAAAAAOUAAAAAAAAA5QAAAAAAAADlAAAAAAAAAOUAAAAAAAAA5QAAAAAAAADlAAAAAAAAAOUAAAAAAAAA5QAAAAAAAADlAAAAAAAAAOUAAAAAAAAA5QAAAAAAAADlAAAAAAAAAOUAAAAAAAAA5QAAAAAAAADlAAAAAAAAAOUAAAAAAAAA5QAAAAAAAADlAAAAAAAAAOUAAAAAAAAA5QAAAAAAAADlAAAAAAAAAOUAAAAAAAAA5QAAAAAAAADlAAAAAAAAAOUAAAAAAAAA5QAAAAAAAADlAAAAAAAAAOUAAAAAAAAA5QAAAAAAAADlAAAAAAAAAOUAAAAAAAAA5QAAAAAAAADlAAAAAAAAAOUAAAAAAAAA6QAAAAAAAADpAAAAAAAAAOkAAAAAAAAA6QAAAAAAAADpAAAAAAAAAOkAAAAAAAAA6QAAAAAAAADpAAAAAAAAAO0AAAAAAAAA7QAAAAAAAADtAAAAAAAAAO0AAAAAAAAA7QAAAAAAAADtAAAAAAAAAO0AAAAAAAAA7QAAAAAAAADtAAAAAAAAAO0AAAAAAAAA7QAAAAAAAADtAAAAAAAAAO0AAAAAAAAA7QAAAAAAAADtAAAAAAAAAPEAAAAAAAAA8QAAAAAAAADxAAAAAAAAAPEAAAAAAAAA8QAAAAAAAADxAAAAAAAAAPEAAAAAAAAA8QAAAAAAAADxAAAAAAAAAPEAAAAAAAAA8QAAAAAAAADxAAAAAAAAAPEAAAAAAAAA8QAAAAAAAADxAAAAAAAAAPEAAAAAAAAA8QAAAAAAAADxAAAAAAAAAPEAAAAAAAAA8QAAAAAAAADxAAAAAAAAAPEAAAAAAAAA8QAAAAAAAADxAAAAAAAAAPUAAAAAAAAA9QAAAAAAAAD1AAAAAAAAAPUAAAAAAAAA9QAAAAAAAAD1AAAAAAAAAPUAAAAAAAAA9QAAAAAAAAD5AAAAAAAAAPkAAAAAAAAA+QAAAAAAAAD9AAAAAAAAAP0AAAAAAAAA\\u002fQAAAAAAAAD9AAAAAAAAAP0AAAAAAAAA\\u002fQAAAAAAAAD9AAAAAAAAAP0AAAAAAAAA\\u002fQAAAAAAAAD9AAAAAAAAAP0AAAAAAAAA\\u002fQAAAAAAAAD9AAAAAAAAAP0AAAAAAAAA\\u002fQAAAAAAAAD9AAAAAAAAAP0AAAAAAAAA\\u002fQAAAAAAAAD9AAAAAAAAAP0AAAAAAAAA\\u002fQAAAAAAAAD9AAAAAAAAAP0AAAAAAAAA\\u002fQAAAAAAAAD9AAAAAAAAAP0AAAAAAAAA\\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\"},\"xaxis\":\"x\",\"y\":{\"dtype\":\"f8\",\"bdata\":\"DWnyyOUF00BOuHLdTJ7WQE64ct1MntZATrhy3Uye1kAOKEjkGdHXQM6XHevmA9lAzpcd6+YD2UDOlx3r5gPZQM6XHevmA9lAzpcd6+YD2UDOlx3r5gPZQI4H8\\u002fGzNtpAT3fI+IBp20BPd8j4gGnbQE93yPiAadtAT3fI+IBp20BPd8j4gGnbQE93yPiAadtAT3fI+IBp20BPd8j4gGnbQE93yPiAadtAT3fI+IBp20BPd8j4gGnbQE93yPiAadtAT3fI+IBp20BPd8j4gGnbQE93yPiAadtAT3fI+IBp20BPd8j4gGnbQE93yPiAadtAT3fI+IBp20BPd8j4gGnbQE93yPiAadtAT3fI+IBp20BPd8j4gGnbQE93yPiAadtAT3fI+IBp20BPd8j4gGnbQE93yPiAadtAD+ed\\u002f02c3EAP553\\u002fTZzcQA\\u002fnnf9NnNxAD+ed\\u002f02c3EAP553\\u002fTZzcQA\\u002fnnf9NnNxAD+ed\\u002f02c3EAP553\\u002fTZzcQA\\u002fnnf9NnNxAD+ed\\u002f02c3EAP553\\u002fTZzcQA\\u002fnnf9NnNxAD+ed\\u002f02c3EAP553\\u002fTZzcQA\\u002fnnf9NnNxAD+ed\\u002f02c3EAP553\\u002fTZzcQA\\u002fnnf9NnNxAD+ed\\u002f02c3EAP553\\u002fTZzcQA\\u002fnnf9NnNxAD+ed\\u002f02c3EAP553\\u002fTZzcQA\\u002fnnf9NnNxAD+ed\\u002f02c3EAP553\\u002fTZzcQA\\u002fnnf9NnNxAD+ed\\u002f02c3EAP553\\u002fTZzcQA\\u002fnnf9NnNxAD+ed\\u002f02c3EAP553\\u002fTZzcQA\\u002fnnf9NnNxAD+ed\\u002f02c3EAP553\\u002fTZzcQA\\u002fnnf9NnNxAD+ed\\u002f02c3EDPVnMGG8\\u002fdQM9WcwYbz91Az1ZzBhvP3UDPVnMGG8\\u002fdQM9WcwYbz91Az1ZzBhvP3UDPVnMGG8\\u002fdQM9WcwYbz91AkMZIDegB30CQxkgN6AHfQJDGSA3oAd9AkMZIDegB30CQxkgN6AHfQJDGSA3oAd9AkMZIDegB30CQxkgN6AHfQJDGSA3oAd9AkMZIDegB30CQxkgN6AHfQJDGSA3oAd9AkMZIDegB30CQxkgN6AHfQJDGSA3oAd9AKBsPiloa4EAoGw+KWhrgQCgbD4paGuBAKBsPiloa4EAoGw+KWhrgQCgbD4paGuBAKBsPiloa4EAoGw+KWhrgQCgbD4paGuBAKBsPiloa4EAoGw+KWhrgQCgbD4paGuBAKBsPiloa4EAoGw+KWhrgQCgbD4paGuBAKBsPiloa4EAoGw+KWhrgQCgbD4paGuBAKBsPiloa4EAoGw+KWhrgQCgbD4paGuBAKBsPiloa4EAoGw+KWhrgQCgbD4paGuBACNN5DcGz4EAI03kNwbPgQAjTeQ3Bs+BACNN5DcGz4EAI03kNwbPgQAjTeQ3Bs+BACNN5DcGz4EAI03kNwbPgQOiK5JAnTeFA6IrkkCdN4UDoiuSQJ03hQMhCTxSO5uFAyEJPFI7m4UDIQk8UjubhQMhCTxSO5uFAyEJPFI7m4UDIQk8UjubhQMhCTxSO5uFAyEJPFI7m4UDIQk8UjubhQMhCTxSO5uFAyEJPFI7m4UDIQk8UjubhQMhCTxSO5uFAyEJPFI7m4UDIQk8UjubhQMhCTxSO5uFAyEJPFI7m4UDIQk8UjubhQMhCTxSO5uFAyEJPFI7m4UDIQk8UjubhQMhCTxSO5uFAyEJPFI7m4UDIQk8UjubhQMhCTxSO5uFAyEJPFI7m4UDIQk8UjubhQMhCTxSO5uFAqfq5l\\u002fR\\u002f4kCp+rmX9H\\u002fiQKn6uZf0f+JAqfq5l\\u002fR\\u002f4kCp+rmX9H\\u002fiQKn6uZf0f+JAqfq5l\\u002fR\\u002f4kCp+rmX9H\\u002fiQKn6uZf0f+JAqfq5l\\u002fR\\u002f4kCp+rmX9H\\u002fiQKn6uZf0f+JAqfq5l\\u002fR\\u002f4kCp+rmX9H\\u002fiQKn6uZf0f+JAqfq5l\\u002fR\\u002f4kCp+rmX9H\\u002fiQKn6uZf0f+JAqfq5l\\u002fR\\u002f4kCJsiQbWxnjQImyJBtbGeNAibIkG1sZ40CJsiQbWxnjQImyJBtbGeNAibIkG1sZ40CJsiQbWxnjQImyJBtbGeNAibIkG1sZ40CJsiQbWxnjQImyJBtbGeNAibIkG1sZ40CJsiQbWxnjQImyJBtbGeNAibIkG1sZ40CJsiQbWxnjQImyJBtbGeNAibIkG1sZ40CJsiQbWxnjQImyJBtbGeNAibIkG1sZ40CJsiQbWxnjQGlqj57BsuNAaWqPnsGy40Bpao+ewbLjQGlqj57BsuNAaWqPnsGy40Bpao+ewbLjQGlqj57BsuNAaWqPnsGy40Bpao+ewbLjQGlqj57BsuNASSL6IShM5EBJIvohKEzkQEki+iEoTORASSL6IShM5EBJIvohKEzkQEki+iEoTORASSL6IShM5EBJIvohKEzkQEki+iEoTORASSL6IShM5EBJIvohKEzkQEki+iEoTORASSL6IShM5EBJIvohKEzkQEki+iEoTORASSL6IShM5EBJIvohKEzkQEki+iEoTORASSL6IShM5EBJIvohKEzkQEki+iEoTORASSL6IShM5EBJIvohKEzkQEki+iEoTORASSL6IShM5EBJIvohKEzkQEki+iEoTORASSL6IShM5EBJIvohKEzkQEki+iEoTORASSL6IShM5EBJIvohKEzkQEki+iEoTORASSL6IShM5EBJIvohKEzkQEki+iEoTORASSL6IShM5EBJIvohKEzkQEki+iEoTORASSL6IShM5EBJIvohKEzkQEki+iEoTORASSL6IShM5EBJIvohKEzkQEki+iEoTORASSL6IShM5EBJIvohKEzkQEki+iEoTORASSL6IShM5EBJIvohKEzkQEki+iEoTORASSL6IShM5EBJIvohKEzkQEki+iEoTORASSL6IShM5EBJIvohKEzkQEki+iEoTORASSL6IShM5EBJIvohKEzkQEki+iEoTORASSL6IShM5EBJIvohKEzkQEki+iEoTORASSL6IShM5EBJIvohKEzkQEki+iEoTORASSL6IShM5EBJIvohKEzkQEki+iEoTORASSL6IShM5EBJIvohKEzkQEki+iEoTORASSL6IShM5EBJIvohKEzkQEki+iEoTORASSL6IShM5EBJIvohKEzkQEki+iEoTORASSL6IShM5EAp2mSljuXkQCnaZKWO5eRAKdpkpY7l5EAp2mSljuXkQCnaZKWO5eRAKdpkpY7l5EAp2mSljuXkQCnaZKWO5eRAKdpkpY7l5EAp2mSljuXkQAmSzyj1fuVACZLPKPV+5UAJks8o9X7lQAmSzyj1fuVACZLPKPV+5UAJks8o9X7lQAmSzyj1fuVACZLPKPV+5UAJks8o9X7lQAmSzyj1fuVACZLPKPV+5UAJks8o9X7lQAmSzyj1fuVACZLPKPV+5UAJks8o9X7lQAmSzyj1fuVACZLPKPV+5UAJks8o9X7lQAmSzyj1fuVACZLPKPV+5UDqSTqsWxjmQOpJOqxbGOZA6kk6rFsY5kDqSTqsWxjmQOpJOqxbGOZA6kk6rFsY5kDqSTqsWxjmQOpJOqxbGOZA6kk6rFsY5kDqSTqsWxjmQOpJOqxbGOZA6kk6rFsY5kDqSTqsWxjmQOpJOqxbGOZA6kk6rFsY5kDqSTqsWxjmQOpJOqxbGOZA6kk6rFsY5kDqSTqsWxjmQOpJOqxbGOZA6kk6rFsY5kDqSTqsWxjmQOpJOqxbGOZA6kk6rFsY5kDqSTqsWxjmQOpJOqxbGOZA6kk6rFsY5kDqSTqsWxjmQOpJOqxbGOZA6kk6rFsY5kDqSTqsWxjmQOpJOqxbGOZA6kk6rFsY5kDqSTqsWxjmQOpJOqxbGOZA6kk6rFsY5kDqSTqsWxjmQOpJOqxbGOZAygGlL8Kx5kDKAaUvwrHmQMoBpS\\u002fCseZAygGlL8Kx5kDKAaUvwrHmQMoBpS\\u002fCseZAygGlL8Kx5kDKAaUvwrHmQMoBpS\\u002fCseZAygGlL8Kx5kDKAaUvwrHmQMoBpS\\u002fCseZAygGlL8Kx5kDKAaUvwrHmQMoBpS\\u002fCseZAygGlL8Kx5kDKAaUvwrHmQMoBpS\\u002fCseZAygGlL8Kx5kDKAaUvwrHmQMoBpS\\u002fCseZAygGlL8Kx5kDKAaUvwrHmQMoBpS\\u002fCseZAygGlL8Kx5kCquQ+zKEvnQKq5D7MoS+dAqrkPsyhL50CquQ+zKEvnQKq5D7MoS+dAqrkPsyhL50CquQ+zKEvnQKq5D7MoS+dAqrkPsyhL50CquQ+zKEvnQKq5D7MoS+dAqrkPsyhL50CquQ+zKEvnQKq5D7MoS+dAqrkPsyhL50CquQ+zKEvnQKq5D7MoS+dAqrkPsyhL50CKcXo2j+TnQIpxejaP5OdAinF6No\\u002fk50CKcXo2j+TnQIpxejaP5OdAinF6No\\u002fk50CKcXo2j+TnQGop5bn1fehAainlufV96EBqKeW59X3oQGop5bn1fehAainlufV96EBqKeW59X3oQGop5bn1fehAainlufV96EBqKeW59X3oQGop5bn1fehAainlufV96EBqKeW59X3oQGop5bn1fehAainlufV96EBK4U89XBfpQErhTz1cF+lASuFPPVwX6UBK4U89XBfpQErhTz1cF+lASuFPPVwX6UBK4U89XBfpQErhTz1cF+lASuFPPVwX6UBK4U89XBfpQErhTz1cF+lASuFPPVwX6UBK4U89XBfpQErhTz1cF+lASuFPPVwX6UBK4U89XBfpQErhTz1cF+lASuFPPVwX6UBK4U89XBfpQErhTz1cF+lASuFPPVwX6UBK4U89XBfpQErhTz1cF+lASuFPPVwX6UBK4U89XBfpQErhTz1cF+lAK5m6wMKw6UArmbrAwrDpQCuZusDCsOlAK5m6wMKw6UArmbrAwrDpQCuZusDCsOlAK5m6wMKw6UArmbrAwrDpQCuZusDCsOlAK5m6wMKw6UArmbrAwrDpQCuZusDCsOlAK5m6wMKw6UArmbrAwrDpQCuZusDCsOlAK5m6wMKw6UArmbrAwrDpQCuZusDCsOlAK5m6wMKw6UArmbrAwrDpQCuZusDCsOlAK5m6wMKw6UArmbrAwrDpQCuZusDCsOlAK5m6wMKw6UArmbrAwrDpQCuZusDCsOlAC1ElRClK6kALUSVEKUrqQAtRJUQpSupAC1ElRClK6kALUSVEKUrqQAtRJUQpSupAC1ElRClK6kALUSVEKUrqQAtRJUQpSupAC1ElRClK6kALUSVEKUrqQAtRJUQpSupAC1ElRClK6kALUSVEKUrqQAtRJUQpSupAC1ElRClK6kALUSVEKUrqQAtRJUQpSupAC1ElRClK6kALUSVEKUrqQAtRJUQpSupAC1ElRClK6kALUSVEKUrqQAtRJUQpSupAC1ElRClK6kALUSVEKUrqQAtRJUQpSupAC1ElRClK6kALUSVEKUrqQAtRJUQpSupAC1ElRClK6kALUSVEKUrqQAtRJUQpSupAC1ElRClK6kALUSVEKUrqQAtRJUQpSupAC1ElRClK6kALUSVEKUrqQAtRJUQpSupAC1ElRClK6kALUSVEKUrqQAtRJUQpSupAC1ElRClK6kALUSVEKUrqQAtRJUQpSupAC1ElRClK6kALUSVEKUrqQOsIkMeP4+pA6wiQx4\\u002fj6kDrCJDHj+PqQOsIkMeP4+pA6wiQx4\\u002fj6kDrCJDHj+PqQOsIkMeP4+pA6wiQx4\\u002fj6kDrCJDHj+PqQOsIkMeP4+pA6wiQx4\\u002fj6kDrCJDHj+PqQOsIkMeP4+pA6wiQx4\\u002fj6kDrCJDHj+PqQOsIkMeP4+pA6wiQx4\\u002fj6kDrCJDHj+PqQOsIkMeP4+pA6wiQx4\\u002fj6kDrCJDHj+PqQOsIkMeP4+pA6wiQx4\\u002fj6kDrCJDHj+PqQOsIkMeP4+pA6wiQx4\\u002fj6kDrCJDHj+PqQMvA+kr2fOtAy8D6SvZ860DLwPpK9nzrQMvA+kr2fOtAy8D6SvZ860DLwPpK9nzrQMvA+kr2fOtAy8D6SvZ860DLwPpK9nzrQMvA+kr2fOtAy8D6SvZ860DLwPpK9nzrQMvA+kr2fOtAy8D6SvZ860DLwPpK9nzrQMvA+kr2fOtAy8D6SvZ860DLwPpK9nzrQMvA+kr2fOtAy8D6SvZ860CreGXOXBbsQKt4Zc5cFuxAq3hlzlwW7ECreGXOXBbsQKt4Zc5cFuxAq3hlzlwW7ECreGXOXBbsQKt4Zc5cFuxAq3hlzlwW7ECreGXOXBbsQKt4Zc5cFuxAq3hlzlwW7ECreGXOXBbsQKt4Zc5cFuxAq3hlzlwW7ECreGXOXBbsQKt4Zc5cFuxAq3hlzlwW7ECreGXOXBbsQKt4Zc5cFuxAizDQUcOv7ECLMNBRw6\\u002fsQIsw0FHDr+xAizDQUcOv7ECLMNBRw6\\u002fsQIsw0FHDr+xAizDQUcOv7ECLMNBRw6\\u002fsQIsw0FHDr+xAizDQUcOv7ECLMNBRw6\\u002fsQIsw0FHDr+xAizDQUcOv7ECLMNBRw6\\u002fsQIsw0FHDr+xAizDQUcOv7ECLMNBRw6\\u002fsQIsw0FHDr+xAizDQUcOv7ECLMNBRw6\\u002fsQIsw0FHDr+xAizDQUcOv7ECLMNBRw6\\u002fsQIsw0FHDr+xAizDQUcOv7ECLMNBRw6\\u002fsQIsw0FHDr+xAizDQUcOv7ECLMNBRw6\\u002fsQIsw0FHDr+xAizDQUcOv7ECLMNBRw6\\u002fsQIsw0FHDr+xAizDQUcOv7ECLMNBRw6\\u002fsQIsw0FHDr+xAizDQUcOv7ECLMNBRw6\\u002fsQIsw0FHDr+xAa+g61SlJ7UBr6DrVKUntQGvoOtUpSe1Aa+g61SlJ7UBr6DrVKUntQGvoOtUpSe1Aa+g61SlJ7UBr6DrVKUntQGvoOtUpSe1Aa+g61SlJ7UBr6DrVKUntQGvoOtUpSe1Aa+g61SlJ7UBr6DrVKUntQGvoOtUpSe1Aa+g61SlJ7UBr6DrVKUntQGvoOtUpSe1Aa+g61SlJ7UBr6DrVKUntQGvoOtUpSe1Aa+g61SlJ7UBr6DrVKUntQGvoOtUpSe1Aa+g61SlJ7UBr6DrVKUntQGvoOtUpSe1Aa+g61SlJ7UBr6DrVKUntQGvoOtUpSe1Aa+g61SlJ7UBr6DrVKUntQEygpViQ4u1ATKClWJDi7UBMoKVYkOLtQEygpViQ4u1ATKClWJDi7UBMoKVYkOLtQEygpViQ4u1ATKClWJDi7UBMoKVYkOLtQEygpViQ4u1ATKClWJDi7UBMoKVYkOLtQEygpViQ4u1ATKClWJDi7UBMoKVYkOLtQCxYENz2e+5ALFgQ3PZ77kAsWBDc9nvuQCxYENz2e+5ALFgQ3PZ77kAMEHtfXRXvQAwQe19dFe9ADBB7X10V70AMEHtfXRXvQAwQe19dFe9ADBB7X10V70AMEHtfXRXvQAwQe19dFe9ADBB7X10V70AMEHtfXRXvQAwQe19dFe9ADBB7X10V70AMEHtfXRXvQAwQe19dFe9ADBB7X10V70AMEHtfXRXvQAwQe19dFe9ADBB7X10V70AMEHtfXRXvQAwQe19dFe9ADBB7X10V70AMEHtfXRXvQAwQe19dFe9ADBB7X10V70AMEHtfXRXvQAwQe19dFe9ADBB7X10V70AMEHtfXRXvQAwQe19dFe9ADBB7X10V70AMEHtfXRXvQAwQe19dFe9ADBB7X10V70AMEHtfXRXvQAwQe19dFe9ADBB7X10V70AMEHtfXRXvQOzH5eLDru9A7Mfl4sOu70Dsx+Xiw67vQOzH5eLDru9A7Mfl4sOu70Dsx+Xiw67vQOY\\u002fKDMVJPBA5j8oMxUk8EDmPygzFSTwQOY\\u002fKDMVJPBA5j8oMxUk8EDmPygzFSTwQOY\\u002fKDMVJPBA5j8oMxUk8EDmPygzFSTwQOY\\u002fKDMVJPBA5j8oMxUk8EDWm910yHDwQNab3XTIcPBA1pvddMhw8EDWm910yHDwQNab3XTIcPBA1pvddMhw8EDG95K2e73wQMb3krZ7vfBAxveStnu98EC2U0j4LgrxQLZTSPguCvFAtlNI+C4K8UC2U0j4LgrxQLZTSPguCvFAtlNI+C4K8UC2U0j4LgrxQLZTSPguCvFApq\\u002f9OeJW8UCmr\\u002f054lbxQKav\\u002fTniVvFApq\\u002f9OeJW8UCmr\\u002f054lbxQKav\\u002fTniVvFApq\\u002f9OeJW8UCmr\\u002f054lbxQKav\\u002fTniVvFApq\\u002f9OeJW8UCmr\\u002f054lbxQKav\\u002fTniVvFApq\\u002f9OeJW8UCmr\\u002f054lbxQKav\\u002fTniVvFApq\\u002f9OeJW8UCmr\\u002f054lbxQKav\\u002fTniVvFApq\\u002f9OeJW8UCmr\\u002f054lbxQKav\\u002fTniVvFApq\\u002f9OeJW8UCXC7N7laPxQJcLs3uVo\\u002fFAlwuze5Wj8UCXC7N7laPxQJcLs3uVo\\u002fFAlwuze5Wj8UCXC7N7laPxQJcLs3uVo\\u002fFAlwuze5Wj8UCXC7N7laPxQJcLs3uVo\\u002fFAlwuze5Wj8UCXC7N7laPxQJcLs3uVo\\u002fFAlwuze5Wj8UCXC7N7laPxQJcLs3uVo\\u002fFAlwuze5Wj8UCXC7N7laPxQJcLs3uVo\\u002fFAlwuze5Wj8UCXC7N7laPxQJcLs3uVo\\u002fFAlwuze5Wj8UCXC7N7laPxQJcLs3uVo\\u002fFAlwuze5Wj8UCXC7N7laPxQJcLs3uVo\\u002fFAlwuze5Wj8UCXC7N7laPxQJcLs3uVo\\u002fFAlwuze5Wj8UCXC7N7laPxQJcLs3uVo\\u002fFAlwuze5Wj8UCHZ2i9SPDxQIdnaL1I8PFAh2dovUjw8UCHZ2i9SPDxQIdnaL1I8PFAh2dovUjw8UCHZ2i9SPDxQIdnaL1I8PFAh2dovUjw8UCHZ2i9SPDxQIdnaL1I8PFAh2dovUjw8UCHZ2i9SPDxQIdnaL1I8PFAh2dovUjw8UCHZ2i9SPDxQHfDHf\\u002f7PPJAd8Md\\u002f\\u002fs88kB3wx3\\u002f+zzyQHfDHf\\u002f7PPJAd8Md\\u002f\\u002fs88kB3wx3\\u002f+zzyQHfDHf\\u002f7PPJAd8Md\\u002f\\u002fs88kB3wx3\\u002f+zzyQHfDHf\\u002f7PPJAd8Md\\u002f\\u002fs88kB3wx3\\u002f+zzyQHfDHf\\u002f7PPJAZx\\u002fTQK+J8kBnH9NAr4nyQGcf00CvifJAZx\\u002fTQK+J8kBnH9NAr4nyQGcf00CvifJAZx\\u002fTQK+J8kBnH9NAr4nyQGcf00CvifJAZx\\u002fTQK+J8kBnH9NAr4nyQGcf00CvifJAV3uIgmLW8kBXe4iCYtbyQFd7iIJi1vJAV3uIgmLW8kBXe4iCYtbyQFd7iIJi1vJAV3uIgmLW8kBXe4iCYtbyQFd7iIJi1vJAV3uIgmLW8kBXe4iCYtbyQFd7iIJi1vJAR9c9xBUj80BH1z3EFSPzQEfXPcQVI\\u002fNAR9c9xBUj80BH1z3EFSPzQEfXPcQVI\\u002fNAR9c9xBUj80BH1z3EFSPzQEfXPcQVI\\u002fNAR9c9xBUj80BH1z3EFSPzQEfXPcQVI\\u002fNAR9c9xBUj80BH1z3EFSPzQDcz8wXJb\\u002fNANzPzBclv80A3M\\u002fMFyW\\u002fzQDcz8wXJb\\u002fNANzPzBclv80A3M\\u002fMFyW\\u002fzQDcz8wXJb\\u002fNANzPzBclv80A3M\\u002fMFyW\\u002fzQDcz8wXJb\\u002fNAJ4+oR3y880Anj6hHfLzzQCePqEd8vPNAB0cTy+JV9EAHRxPL4lX0QAdHE8viVfRAB0cTy+JV9EAHRxPL4lX0QAdHE8viVfRAB0cTy+JV9EAHRxPL4lX0QAdHE8viVfRAB0cTy+JV9ED3osgMlqL0QPeiyAyWovRA96LIDJai9ED3osgMlqL0QPeiyAyWovRA96LIDJai9EDn\\u002fn1OSe\\u002f0QNdaM5D8O\\u002fVA11ozkPw79UDXWjOQ\\u002fDv1QNdaM5D8O\\u002fVA11ozkPw79UDXWjOQ\\u002fDv1QNdaM5D8O\\u002fVA11ozkPw79UDXWjOQ\\u002fDv1QNdaM5D8O\\u002fVA11ozkPw79UDXWjOQ\\u002fDv1QNdaM5D8O\\u002fVA11ozkPw79UDXWjOQ\\u002fDv1QNdaM5D8O\\u002fVA11ozkPw79UDXWjOQ\\u002fDv1QNdaM5D8O\\u002fVA11ozkPw79UDItujRr4j1QMi26NGviPVAyLbo0a+I9UDItujRr4j1QMi26NGviPVAyLbo0a+I9UDItujRr4j1QMi26NGviPVAyLbo0a+I9UDItujRr4j1QMi26NGviPVAyLbo0a+I9UDItujRr4j1QMi26NGviPVAyLbo0a+I9UDItujRr4j1QLgSnhNj1fVAuBKeE2PV9UC4Ep4TY9X1QLgSnhNj1fVAuBKeE2PV9UC4Ep4TY9X1QKhuU1UWIvZAqG5TVRYi9kCoblNVFiL2QKhuU1UWIvZA\"},\"yaxis\":\"y\",\"type\":\"scattergl\"}],                        {\"template\":{\"data\":{\"histogram2dcontour\":[{\"type\":\"histogram2dcontour\",\"colorbar\":{\"outlinewidth\":0,\"ticks\":\"\"},\"colorscale\":[[0.0,\"#0d0887\"],[0.1111111111111111,\"#46039f\"],[0.2222222222222222,\"#7201a8\"],[0.3333333333333333,\"#9c179e\"],[0.4444444444444444,\"#bd3786\"],[0.5555555555555556,\"#d8576b\"],[0.6666666666666666,\"#ed7953\"],[0.7777777777777778,\"#fb9f3a\"],[0.8888888888888888,\"#fdca26\"],[1.0,\"#f0f921\"]]}],\"choropleth\":[{\"type\":\"choropleth\",\"colorbar\":{\"outlinewidth\":0,\"ticks\":\"\"}}],\"histogram2d\":[{\"type\":\"histogram2d\",\"colorbar\":{\"outlinewidth\":0,\"ticks\":\"\"},\"colorscale\":[[0.0,\"#0d0887\"],[0.1111111111111111,\"#46039f\"],[0.2222222222222222,\"#7201a8\"],[0.3333333333333333,\"#9c179e\"],[0.4444444444444444,\"#bd3786\"],[0.5555555555555556,\"#d8576b\"],[0.6666666666666666,\"#ed7953\"],[0.7777777777777778,\"#fb9f3a\"],[0.8888888888888888,\"#fdca26\"],[1.0,\"#f0f921\"]]}],\"heatmap\":[{\"type\":\"heatmap\",\"colorbar\":{\"outlinewidth\":0,\"ticks\":\"\"},\"colorscale\":[[0.0,\"#0d0887\"],[0.1111111111111111,\"#46039f\"],[0.2222222222222222,\"#7201a8\"],[0.3333333333333333,\"#9c179e\"],[0.4444444444444444,\"#bd3786\"],[0.5555555555555556,\"#d8576b\"],[0.6666666666666666,\"#ed7953\"],[0.7777777777777778,\"#fb9f3a\"],[0.8888888888888888,\"#fdca26\"],[1.0,\"#f0f921\"]]}],\"contourcarpet\":[{\"type\":\"contourcarpet\",\"colorbar\":{\"outlinewidth\":0,\"ticks\":\"\"}}],\"contour\":[{\"type\":\"contour\",\"colorbar\":{\"outlinewidth\":0,\"ticks\":\"\"},\"colorscale\":[[0.0,\"#0d0887\"],[0.1111111111111111,\"#46039f\"],[0.2222222222222222,\"#7201a8\"],[0.3333333333333333,\"#9c179e\"],[0.4444444444444444,\"#bd3786\"],[0.5555555555555556,\"#d8576b\"],[0.6666666666666666,\"#ed7953\"],[0.7777777777777778,\"#fb9f3a\"],[0.8888888888888888,\"#fdca26\"],[1.0,\"#f0f921\"]]}],\"surface\":[{\"type\":\"surface\",\"colorbar\":{\"outlinewidth\":0,\"ticks\":\"\"},\"colorscale\":[[0.0,\"#0d0887\"],[0.1111111111111111,\"#46039f\"],[0.2222222222222222,\"#7201a8\"],[0.3333333333333333,\"#9c179e\"],[0.4444444444444444,\"#bd3786\"],[0.5555555555555556,\"#d8576b\"],[0.6666666666666666,\"#ed7953\"],[0.7777777777777778,\"#fb9f3a\"],[0.8888888888888888,\"#fdca26\"],[1.0,\"#f0f921\"]]}],\"mesh3d\":[{\"type\":\"mesh3d\",\"colorbar\":{\"outlinewidth\":0,\"ticks\":\"\"}}],\"scatter\":[{\"fillpattern\":{\"fillmode\":\"overlay\",\"size\":10,\"solidity\":0.2},\"type\":\"scatter\"}],\"parcoords\":[{\"type\":\"parcoords\",\"line\":{\"colorbar\":{\"outlinewidth\":0,\"ticks\":\"\"}}}],\"scatterpolargl\":[{\"type\":\"scatterpolargl\",\"marker\":{\"colorbar\":{\"outlinewidth\":0,\"ticks\":\"\"}}}],\"bar\":[{\"error_x\":{\"color\":\"#2a3f5f\"},\"error_y\":{\"color\":\"#2a3f5f\"},\"marker\":{\"line\":{\"color\":\"#E5ECF6\",\"width\":0.5},\"pattern\":{\"fillmode\":\"overlay\",\"size\":10,\"solidity\":0.2}},\"type\":\"bar\"}],\"scattergeo\":[{\"type\":\"scattergeo\",\"marker\":{\"colorbar\":{\"outlinewidth\":0,\"ticks\":\"\"}}}],\"scatterpolar\":[{\"type\":\"scatterpolar\",\"marker\":{\"colorbar\":{\"outlinewidth\":0,\"ticks\":\"\"}}}],\"histogram\":[{\"marker\":{\"pattern\":{\"fillmode\":\"overlay\",\"size\":10,\"solidity\":0.2}},\"type\":\"histogram\"}],\"scattergl\":[{\"type\":\"scattergl\",\"marker\":{\"colorbar\":{\"outlinewidth\":0,\"ticks\":\"\"}}}],\"scatter3d\":[{\"type\":\"scatter3d\",\"line\":{\"colorbar\":{\"outlinewidth\":0,\"ticks\":\"\"}},\"marker\":{\"colorbar\":{\"outlinewidth\":0,\"ticks\":\"\"}}}],\"scattermap\":[{\"type\":\"scattermap\",\"marker\":{\"colorbar\":{\"outlinewidth\":0,\"ticks\":\"\"}}}],\"scattermapbox\":[{\"type\":\"scattermapbox\",\"marker\":{\"colorbar\":{\"outlinewidth\":0,\"ticks\":\"\"}}}],\"scatterternary\":[{\"type\":\"scatterternary\",\"marker\":{\"colorbar\":{\"outlinewidth\":0,\"ticks\":\"\"}}}],\"scattercarpet\":[{\"type\":\"scattercarpet\",\"marker\":{\"colorbar\":{\"outlinewidth\":0,\"ticks\":\"\"}}}],\"carpet\":[{\"aaxis\":{\"endlinecolor\":\"#2a3f5f\",\"gridcolor\":\"white\",\"linecolor\":\"white\",\"minorgridcolor\":\"white\",\"startlinecolor\":\"#2a3f5f\"},\"baxis\":{\"endlinecolor\":\"#2a3f5f\",\"gridcolor\":\"white\",\"linecolor\":\"white\",\"minorgridcolor\":\"white\",\"startlinecolor\":\"#2a3f5f\"},\"type\":\"carpet\"}],\"table\":[{\"cells\":{\"fill\":{\"color\":\"#EBF0F8\"},\"line\":{\"color\":\"white\"}},\"header\":{\"fill\":{\"color\":\"#C8D4E3\"},\"line\":{\"color\":\"white\"}},\"type\":\"table\"}],\"barpolar\":[{\"marker\":{\"line\":{\"color\":\"#E5ECF6\",\"width\":0.5},\"pattern\":{\"fillmode\":\"overlay\",\"size\":10,\"solidity\":0.2}},\"type\":\"barpolar\"}],\"pie\":[{\"automargin\":true,\"type\":\"pie\"}]},\"layout\":{\"autotypenumbers\":\"strict\",\"colorway\":[\"#636efa\",\"#EF553B\",\"#00cc96\",\"#ab63fa\",\"#FFA15A\",\"#19d3f3\",\"#FF6692\",\"#B6E880\",\"#FF97FF\",\"#FECB52\"],\"font\":{\"color\":\"#2a3f5f\"},\"hovermode\":\"closest\",\"hoverlabel\":{\"align\":\"left\"},\"paper_bgcolor\":\"white\",\"plot_bgcolor\":\"#E5ECF6\",\"polar\":{\"bgcolor\":\"#E5ECF6\",\"angularaxis\":{\"gridcolor\":\"white\",\"linecolor\":\"white\",\"ticks\":\"\"},\"radialaxis\":{\"gridcolor\":\"white\",\"linecolor\":\"white\",\"ticks\":\"\"}},\"ternary\":{\"bgcolor\":\"#E5ECF6\",\"aaxis\":{\"gridcolor\":\"white\",\"linecolor\":\"white\",\"ticks\":\"\"},\"baxis\":{\"gridcolor\":\"white\",\"linecolor\":\"white\",\"ticks\":\"\"},\"caxis\":{\"gridcolor\":\"white\",\"linecolor\":\"white\",\"ticks\":\"\"}},\"coloraxis\":{\"colorbar\":{\"outlinewidth\":0,\"ticks\":\"\"}},\"colorscale\":{\"sequential\":[[0.0,\"#0d0887\"],[0.1111111111111111,\"#46039f\"],[0.2222222222222222,\"#7201a8\"],[0.3333333333333333,\"#9c179e\"],[0.4444444444444444,\"#bd3786\"],[0.5555555555555556,\"#d8576b\"],[0.6666666666666666,\"#ed7953\"],[0.7777777777777778,\"#fb9f3a\"],[0.8888888888888888,\"#fdca26\"],[1.0,\"#f0f921\"]],\"sequentialminus\":[[0.0,\"#0d0887\"],[0.1111111111111111,\"#46039f\"],[0.2222222222222222,\"#7201a8\"],[0.3333333333333333,\"#9c179e\"],[0.4444444444444444,\"#bd3786\"],[0.5555555555555556,\"#d8576b\"],[0.6666666666666666,\"#ed7953\"],[0.7777777777777778,\"#fb9f3a\"],[0.8888888888888888,\"#fdca26\"],[1.0,\"#f0f921\"]],\"diverging\":[[0,\"#8e0152\"],[0.1,\"#c51b7d\"],[0.2,\"#de77ae\"],[0.3,\"#f1b6da\"],[0.4,\"#fde0ef\"],[0.5,\"#f7f7f7\"],[0.6,\"#e6f5d0\"],[0.7,\"#b8e186\"],[0.8,\"#7fbc41\"],[0.9,\"#4d9221\"],[1,\"#276419\"]]},\"xaxis\":{\"gridcolor\":\"white\",\"linecolor\":\"white\",\"ticks\":\"\",\"title\":{\"standoff\":15},\"zerolinecolor\":\"white\",\"automargin\":true,\"zerolinewidth\":2},\"yaxis\":{\"gridcolor\":\"white\",\"linecolor\":\"white\",\"ticks\":\"\",\"title\":{\"standoff\":15},\"zerolinecolor\":\"white\",\"automargin\":true,\"zerolinewidth\":2},\"scene\":{\"xaxis\":{\"backgroundcolor\":\"#E5ECF6\",\"gridcolor\":\"white\",\"linecolor\":\"white\",\"showbackground\":true,\"ticks\":\"\",\"zerolinecolor\":\"white\",\"gridwidth\":2},\"yaxis\":{\"backgroundcolor\":\"#E5ECF6\",\"gridcolor\":\"white\",\"linecolor\":\"white\",\"showbackground\":true,\"ticks\":\"\",\"zerolinecolor\":\"white\",\"gridwidth\":2},\"zaxis\":{\"backgroundcolor\":\"#E5ECF6\",\"gridcolor\":\"white\",\"linecolor\":\"white\",\"showbackground\":true,\"ticks\":\"\",\"zerolinecolor\":\"white\",\"gridwidth\":2}},\"shapedefaults\":{\"line\":{\"color\":\"#2a3f5f\"}},\"annotationdefaults\":{\"arrowcolor\":\"#2a3f5f\",\"arrowhead\":0,\"arrowwidth\":1},\"geo\":{\"bgcolor\":\"white\",\"landcolor\":\"#E5ECF6\",\"subunitcolor\":\"white\",\"showland\":true,\"showlakes\":true,\"lakecolor\":\"white\"},\"title\":{\"x\":0.05},\"mapbox\":{\"style\":\"light\"}}},\"xaxis\":{\"anchor\":\"y\",\"domain\":[0.0,1.0],\"title\":{\"text\":\"Occupational Prestige Score\"}},\"yaxis\":{\"anchor\":\"x\",\"domain\":[0.0,1.0],\"title\":{\"text\":\"Annual Income\"}},\"legend\":{\"title\":{\"text\":\"Sex\"},\"tracegroupgap\":0},\"margin\":{\"t\":60}},                        {\"responsive\": true}                    ).then(function(){\n",
       "                            \n",
       "var gd = document.getElementById('61b58a5b-8ea7-405a-84cd-d84c42971a8c');\n",
       "var x = new MutationObserver(function (mutations, observer) {{\n",
       "        var display = window.getComputedStyle(gd).display;\n",
       "        if (!display || display === 'none') {{\n",
       "            console.log([gd, 'removed!']);\n",
       "            Plotly.purge(gd);\n",
       "            observer.disconnect();\n",
       "        }}\n",
       "}});\n",
       "\n",
       "// Listen for the removal of the full notebook cells\n",
       "var notebookContainer = gd.closest('#notebook-container');\n",
       "if (notebookContainer) {{\n",
       "    x.observe(notebookContainer, {childList: true});\n",
       "}}\n",
       "\n",
       "// Listen for the clearing of the current output cell\n",
       "var outputEl = gd.closest('.output');\n",
       "if (outputEl) {{\n",
       "    x.observe(outputEl, {childList: true});\n",
       "}}\n",
       "\n",
       "                        })                };            </script>        </div>"
      ]
     },
     "metadata": {},
     "output_type": "display_data"
    }
   ],
   "source": [
    "# Create the scatter plot with trendlines\n",
    "plot_data_scatter = gss_clean.dropna(subset=['income','job_prestige'])\n",
    "scatter_fig = px.scatter(plot_data_scatter,\n",
    "    x='job_prestige',\n",
    "    y='income',\n",
    "    color='sex',\n",
    "    trendline='ols', # Adds Ordinary Least Squares regression lines\n",
    "    hover_data=['education','socioeconomic_index'],\n",
    "    labels={\n",
    "        'job_prestige':'Occupational Prestige Score',\n",
    "        'income':'Annual Income',\n",
    "        'sex':'Sex'\n",
    "    }\n",
    ")\n",
    "scatter_fig.show()"
   ]
  },
  {
   "cell_type": "markdown",
   "metadata": {},
   "source": [
    "### 2.4. Distribution of Income and Job Prestige\n",
    "\n",
    "While averages are useful, box plots allow us to see the full distribution of data, including the median, interquartile range, and outliers. Here we create two plots to compare the distributions of income and job prestige between men and women."
   ]
  },
  {
   "cell_type": "code",
   "execution_count": 8,
   "metadata": {},
   "outputs": [
    {
     "data": {
      "application/vnd.plotly.v1+json": {
       "config": {
        "plotlyServerURL": "https://plot.ly"
       },
       "data": [
        {
         "alignmentgroup": "True",
         "hovertemplate": "sex=%{x}<br>Annual Income ($)=%{y}<extra></extra>",
         "legendgroup": "",
         "marker": {
          "color": "#636efa"
         },
         "name": "",
         "notched": false,
         "offsetgroup": "",
         "orientation": "v",
         "showlegend": false,
         "type": "box",
         "x": [
          "female",
          "male",
          "female",
          "male",
          "female",
          "male",
          "female",
          "male",
          "male",
          "female",
          "female",
          "male",
          "female",
          "female",
          "female",
          "female",
          "female",
          "female",
          "male",
          "female",
          "male",
          "female",
          "female",
          "female",
          "male",
          "male",
          "female",
          "male",
          "female",
          "male",
          "male",
          "female",
          "male",
          "female",
          "female",
          "female",
          "male",
          "female",
          "male",
          "female",
          "female",
          "female",
          "female",
          "male",
          "male",
          "female",
          "female",
          "male",
          "female",
          "female",
          "female",
          "female",
          "female",
          "male",
          "male",
          "female",
          "female",
          "female",
          "male",
          "male",
          "female",
          "female",
          "male",
          "female",
          "female",
          "female",
          "female",
          "female",
          "female",
          "female",
          "male",
          "male",
          "female",
          "male",
          "male",
          "male",
          "male",
          "female",
          "female",
          "female",
          "male",
          "female",
          "male",
          "female",
          "male",
          "female",
          "male",
          "male",
          "male",
          "female",
          "female",
          "female",
          "male",
          "female",
          "male",
          "male",
          "male",
          "female",
          "female",
          "male",
          "female",
          "female",
          "female",
          "female",
          "male",
          "male",
          "female",
          "female",
          "male",
          "female",
          "female",
          "male",
          "male",
          "male",
          "female",
          "male",
          "female",
          "female",
          "female",
          "male",
          "male",
          "male",
          "male",
          "male",
          "male",
          "female",
          "male",
          "female",
          "female",
          "female",
          "female",
          "female",
          "male",
          "female",
          "female",
          "female",
          "female",
          "female",
          "female",
          "female",
          "female",
          "female",
          "male",
          "male",
          "male",
          "male",
          "male",
          "female",
          "male",
          "female",
          "female",
          "male",
          "male",
          "male",
          "female",
          "male",
          "male",
          "male",
          "female",
          "female",
          "male",
          "male",
          "male",
          "female",
          "male",
          "female",
          "male",
          "male",
          "female",
          "male",
          "female",
          "female",
          "male",
          "male",
          "female",
          "female",
          "male",
          "female",
          "male",
          "male",
          "male",
          "male",
          "male",
          "female",
          "female",
          "female",
          "female",
          "female",
          "male",
          "female",
          "female",
          "female",
          "female",
          "male",
          "male",
          "male",
          "female",
          "male",
          "female",
          "female",
          "female",
          "female",
          "female",
          "female",
          "male",
          "female",
          "female",
          "male",
          "female",
          "female",
          "male",
          "female",
          "female",
          "female",
          "male",
          "male",
          "male",
          "female",
          "male",
          "female",
          "female",
          "male",
          "male",
          "female",
          "male",
          "male",
          "female",
          "male",
          "male",
          "female",
          "female",
          "male",
          "male",
          "female",
          "male",
          "female",
          "male",
          "male",
          "female",
          "female",
          "female",
          "male",
          "male",
          "female",
          "male",
          "female",
          "female",
          "male",
          "male",
          "female",
          "female",
          "female",
          "female",
          "female",
          "female",
          "male",
          "female",
          "male",
          "female",
          "female",
          "female",
          "male",
          "female",
          "female",
          "female",
          "female",
          "male",
          "female",
          "male",
          "male",
          "female",
          "male",
          "male",
          "male",
          "male",
          "male",
          "male",
          "female",
          "male",
          "female",
          "female",
          "male",
          "female",
          "male",
          "male",
          "female",
          "female",
          "male",
          "female",
          "female",
          "female",
          "male",
          "female",
          "female",
          "male",
          "male",
          "female",
          "male",
          "female",
          "female",
          "male",
          "male",
          "female",
          "male",
          "female",
          "female",
          "female",
          "female",
          "female",
          "female",
          "female",
          "female",
          "male",
          "male",
          "female",
          "female",
          "male",
          "male",
          "male",
          "female",
          "female",
          "female",
          "male",
          "female",
          "female",
          "female",
          "male",
          "male",
          "male",
          "female",
          "male",
          "female",
          "female",
          "female",
          "female",
          "female",
          "male",
          "female",
          "male",
          "female",
          "female",
          "female",
          "female",
          "female",
          "male",
          "female",
          "male",
          "female",
          "male",
          "male",
          "male",
          "female",
          "male",
          "female",
          "female",
          "male",
          "female",
          "female",
          "male",
          "female",
          "female",
          "male",
          "male",
          "male",
          "female",
          "female",
          "male",
          "female",
          "male",
          "female",
          "female",
          "female",
          "male",
          "female",
          "female",
          "female",
          "male",
          "female",
          "female",
          "female",
          "female",
          "female",
          "female",
          "male",
          "female",
          "female",
          "female",
          "male",
          "female",
          "female",
          "male",
          "female",
          "female",
          "female",
          "female",
          "male",
          "male",
          "female",
          "female",
          "female",
          "male",
          "female",
          "male",
          "male",
          "female",
          "female",
          "female",
          "female",
          "female",
          "female",
          "female",
          "female",
          "male",
          "female",
          "male",
          "female",
          "male",
          "female",
          "male",
          "female",
          "female",
          "male",
          "male",
          "female",
          "female",
          "female",
          "male",
          "female",
          "male",
          "female",
          "male",
          "female",
          "female",
          "female",
          "female",
          "male",
          "female",
          "male",
          "male",
          "female",
          "male",
          "male",
          "male",
          "male",
          "female",
          "male",
          "female",
          "female",
          "male",
          "male",
          "male",
          "female",
          "male",
          "female",
          "female",
          "male",
          "male",
          "female",
          "male",
          "male",
          "female",
          "female",
          "female",
          "female",
          "female",
          "female",
          "male",
          "male",
          "male",
          "female",
          "female",
          "female",
          "male",
          "female",
          "female",
          "female",
          "male",
          "male",
          "male",
          "female",
          "female",
          "female",
          "male",
          "female",
          "female",
          "male",
          "male",
          "female",
          "female",
          "female",
          "female",
          "male",
          "male",
          "male",
          "male",
          "female",
          "male",
          "female",
          "male",
          "male",
          "female",
          "female",
          "male",
          "male",
          "female",
          "female",
          "male",
          "male",
          "female",
          "female",
          "female",
          "male",
          "female",
          "male",
          "female",
          "male",
          "female",
          "male",
          "female",
          "female",
          "male",
          "female",
          "female",
          "female",
          "male",
          "female",
          "female",
          "male",
          "male",
          "male",
          "female",
          "female",
          "male",
          "female",
          "male",
          "male",
          "male",
          "female",
          "male",
          "female",
          "female",
          "female",
          "male",
          "female",
          "male",
          "female",
          "female",
          "female",
          "female",
          "female",
          "female",
          "female",
          "female",
          "female",
          "female",
          "male",
          "female",
          "female",
          "male",
          "female",
          "female",
          "female",
          "male",
          "female",
          "female",
          "male",
          "female",
          "female",
          "male",
          "male",
          "male",
          "male",
          "female",
          "female",
          "female",
          "female",
          "male",
          "female",
          "female",
          "female",
          "male",
          "female",
          "female",
          "male",
          "male",
          "female",
          "male",
          "male",
          "male",
          "female",
          "female",
          "male",
          "female",
          "male",
          "female",
          "female",
          "female",
          "male",
          "male",
          "male",
          "female",
          "female",
          "male",
          "male",
          "male",
          "female",
          "female",
          "male",
          "female",
          "female",
          "male",
          "female",
          "male",
          "male",
          "male",
          "female",
          "female",
          "female",
          "male",
          "male",
          "female",
          "female",
          "female",
          "male",
          "female",
          "male",
          "female",
          "female",
          "male",
          "male",
          "female",
          "male",
          "female",
          "male",
          "female",
          "male",
          "male",
          "male",
          "female",
          "male",
          "female",
          "female",
          "female",
          "male",
          "female",
          "male",
          "male",
          "male",
          "male",
          "male",
          "female",
          "female",
          "female",
          "male",
          "female",
          "male",
          "female",
          "male",
          "female",
          "female",
          "female",
          "male",
          "male",
          "female",
          "male",
          "female",
          "female",
          "female",
          "male",
          "female",
          "female",
          "male",
          "male",
          "male",
          "male",
          "male",
          "male",
          "female",
          "female",
          "male",
          "male",
          "female",
          "female",
          "female",
          "male",
          "male",
          "female",
          "male",
          "male",
          "male",
          "female",
          "male",
          "female",
          "female",
          "female",
          "male",
          "male",
          "male",
          "female",
          "female",
          "male",
          "female",
          "female",
          "male",
          "female",
          "female",
          "female",
          "male",
          "male",
          "female",
          "female",
          "female",
          "female",
          "male",
          "female",
          "female",
          "female",
          "female",
          "male",
          "male",
          "female",
          "male",
          "male",
          "male",
          "female",
          "male",
          "female",
          "male",
          "male",
          "male",
          "female",
          "female",
          "female",
          "female",
          "male",
          "male",
          "male",
          "female",
          "male",
          "male",
          "male",
          "female",
          "female",
          "male",
          "female",
          "female",
          "male",
          "male",
          "male",
          "male",
          "female",
          "male",
          "female",
          "male",
          "male",
          "female",
          "female",
          "female",
          "male",
          "female",
          "male",
          "female",
          "female",
          "female",
          "male",
          "female",
          "female",
          "male",
          "female",
          "male",
          "male",
          "male",
          "female",
          "male",
          "female",
          "male",
          "female",
          "male",
          "female",
          "female",
          "female",
          "female",
          "female",
          "female",
          "male",
          "male",
          "female",
          "male",
          "female",
          "female",
          "female",
          "female",
          "female",
          "female",
          "male",
          "female",
          "female",
          "male",
          "female",
          "female",
          "female",
          "male",
          "female",
          "female",
          "male",
          "male",
          "male",
          "male",
          "male",
          "female",
          "male",
          "male",
          "male",
          "female",
          "male",
          "female",
          "male",
          "female",
          "female",
          "male",
          "female",
          "male",
          "male",
          "female",
          "female",
          "male",
          "male",
          "female",
          "male",
          "female",
          "male",
          "female",
          "male",
          "female",
          "male",
          "male",
          "male",
          "male",
          "female",
          "female",
          "male",
          "male",
          "female",
          "female",
          "male",
          "female",
          "male",
          "female",
          "male",
          "female",
          "female",
          "male",
          "female",
          "male",
          "female",
          "female",
          "male",
          "female",
          "male",
          "male",
          "male",
          "male",
          "female",
          "male",
          "female",
          "male",
          "male",
          "female",
          "male",
          "female",
          "female",
          "male",
          "female",
          "male",
          "female",
          "male",
          "female",
          "male",
          "female",
          "male",
          "male",
          "male",
          "female",
          "male",
          "male",
          "male",
          "female",
          "male",
          "female",
          "female",
          "male",
          "female",
          "male",
          "male",
          "male",
          "female",
          "female",
          "female",
          "female",
          "female",
          "female",
          "female",
          "female",
          "male",
          "female",
          "male",
          "male",
          "female",
          "male",
          "male",
          "female",
          "female",
          "female",
          "female",
          "female",
          "male",
          "female",
          "female",
          "male",
          "female",
          "female",
          "female",
          "female",
          "female",
          "male",
          "male",
          "male",
          "male",
          "male",
          "female",
          "male",
          "female",
          "male",
          "female",
          "male",
          "male",
          "female",
          "male",
          "female",
          "male",
          "female",
          "male",
          "male",
          "female",
          "female",
          "female",
          "female",
          "male",
          "male",
          "female",
          "female",
          "male",
          "female",
          "male",
          "male",
          "male",
          "male",
          "female",
          "male",
          "male",
          "female",
          "female",
          "male",
          "female",
          "male",
          "male",
          "female",
          "female",
          "male",
          "female",
          "female",
          "female",
          "female",
          "male",
          "female",
          "female",
          "male",
          "male",
          "male",
          "male",
          "male",
          "female",
          "female",
          "female",
          "female",
          "female",
          "male",
          "male",
          "male",
          "male",
          "male",
          "female",
          "male",
          "male",
          "male",
          "female",
          "female",
          "male",
          "female",
          "male",
          "male",
          "female",
          "male",
          "male",
          "male",
          "female",
          "female",
          "male",
          "male",
          "male",
          "female",
          "female",
          "female",
          "female",
          "female",
          "female",
          "female",
          "male",
          "female",
          "male",
          "male",
          "female",
          "female",
          "male",
          "male",
          "male",
          "male",
          "male",
          "male",
          "female",
          "male",
          "male",
          "female",
          "female",
          "male",
          "female",
          "male",
          "male",
          "male",
          "female",
          "female",
          "female",
          "male",
          "male",
          "male",
          "male",
          "male",
          "male",
          "female",
          "male",
          "male",
          "female",
          "male",
          "female",
          "female",
          "male",
          "male",
          "male",
          "male",
          "female",
          "male",
          "male",
          "female",
          "male",
          "female",
          "male",
          "female",
          "male",
          "female",
          "male",
          "female",
          "male",
          "male",
          "female",
          "male",
          "female",
          "female",
          "female",
          "male",
          "female",
          "female",
          "female",
          "male",
          "male",
          "male",
          "male",
          "male",
          "female",
          "female",
          "male",
          "female",
          "female",
          "female",
          "male",
          "female",
          "female",
          "male",
          "male",
          "male",
          "male",
          "male",
          "male",
          "female",
          "male",
          "female",
          "female",
          "female",
          "male",
          "male",
          "male",
          "male",
          "male",
          "female",
          "female",
          "female",
          "female",
          "female",
          "male",
          "female",
          "female",
          "female",
          "male",
          "male",
          "female",
          "male",
          "male",
          "male",
          "male",
          "male",
          "male",
          "female",
          "female",
          "female",
          "female",
          "male",
          "male",
          "male",
          "female",
          "female",
          "male",
          "female",
          "female",
          "male",
          "female",
          "male",
          "female",
          "female",
          "female",
          "female",
          "male",
          "female",
          "male",
          "female",
          "male",
          "female",
          "female",
          "female",
          "male",
          "male",
          "male",
          "male",
          "female",
          "female",
          "female",
          "female",
          "female",
          "female",
          "male",
          "female",
          "male",
          "male",
          "female",
          "male",
          "female",
          "female",
          "male",
          "female",
          "male",
          "female",
          "male",
          "female",
          "male",
          "male",
          "female",
          "male",
          "female",
          "male",
          "female",
          "female",
          "female",
          "male",
          "female",
          "female",
          "male",
          "male",
          "male",
          "male",
          "female",
          "male",
          "female",
          "female",
          "female",
          "male",
          "male",
          "female",
          "female",
          "female",
          "male",
          "male",
          "female",
          "female",
          "female",
          "female",
          "female",
          "female",
          "male",
          "male",
          "female",
          "female",
          "male",
          "male",
          "male",
          "male",
          "male",
          "male",
          "female",
          "male",
          "male",
          "male",
          "female",
          "male",
          "male",
          "male",
          "female",
          "female",
          "female",
          "female",
          "male",
          "female",
          "female",
          "male",
          "male",
          "female",
          "female",
          "male",
          "male",
          "female",
          "female",
          "male",
          "male",
          "female",
          "female",
          "male",
          "male",
          "male",
          "female",
          "female",
          "female",
          "female",
          "female",
          "female",
          "female",
          "male",
          "male",
          "male",
          "male",
          "female",
          "female",
          "male",
          "female",
          "female",
          "male",
          "female",
          "male",
          "male",
          "male",
          "male",
          "female",
          "male",
          "female",
          "male",
          "female",
          "female",
          "male",
          "female",
          "female",
          "male",
          "female",
          "female",
          "female",
          "male",
          "male",
          "female",
          "female",
          "male",
          "male",
          "female",
          "female",
          "female",
          "male",
          "female",
          "female",
          "male",
          "female",
          "female",
          "male",
          "male",
          "female",
          "male",
          "female",
          "female",
          "male",
          "female",
          "male",
          "female",
          "male",
          "male",
          "female",
          "female",
          "male",
          "male",
          "male",
          "female",
          "male",
          "female",
          "male",
          "male",
          "female",
          "female",
          "male",
          "female",
          "female",
          "female",
          "male",
          "female",
          "male",
          "female",
          "female",
          "female",
          "female",
          "female",
          "female",
          "female",
          "male",
          "female",
          "female",
          "female",
          "female",
          "female",
          "male",
          "male",
          "female",
          "female",
          "female",
          "female",
          "male",
          "male",
          "female",
          "male",
          "male",
          "male",
          "female",
          "female",
          "female",
          "female",
          "female",
          "male",
          "female",
          "female",
          "male",
          "male",
          "female",
          "female",
          "female",
          "male",
          "female",
          "female",
          "female",
          "female",
          "female",
          "female",
          "female",
          "male",
          "female",
          "male",
          "female",
          "female",
          "female",
          "female",
          "female",
          "female",
          "female",
          "male",
          "female",
          "female",
          "male",
          "female",
          "female",
          "female",
          "female",
          "male",
          "female",
          "male",
          "female",
          "male",
          "female",
          "male",
          "male",
          "female",
          "male",
          "female",
          "male",
          "male",
          "male",
          "female",
          "female",
          "female",
          "female",
          "female",
          "male",
          "male",
          "female",
          "female",
          "female",
          "male",
          "female",
          "female",
          "female",
          "male",
          "male",
          "male",
          "female",
          "male",
          "female",
          "male",
          "female",
          "male",
          "female",
          "female",
          "female",
          "male",
          "male",
          "male",
          "male",
          "male",
          "female",
          "female",
          "male",
          "female",
          "male",
          "male",
          "male",
          "female",
          "male",
          "female",
          "female",
          "female",
          "female",
          "female",
          "female",
          "female",
          "male",
          "male",
          "female",
          "female",
          "female",
          "male",
          "male",
          "female",
          "female",
          "male",
          "male",
          "male",
          "male",
          "female",
          "male",
          "female",
          "female",
          "male",
          "female",
          "female",
          "male",
          "female",
          "female",
          "female",
          "male",
          "female",
          "female",
          "female",
          "male",
          "female",
          "male",
          "female",
          "male",
          "female",
          "male",
          "female",
          "male",
          "male",
          "female",
          "female",
          "female",
          "female",
          "female",
          "female",
          "female",
          "male",
          "male",
          "male",
          "male",
          "male",
          "male",
          "female",
          "male",
          "female",
          "male",
          "female",
          "female",
          "female",
          "male",
          "female",
          "male",
          "female",
          "male",
          "male",
          "male",
          "male",
          "female",
          "female",
          "male",
          "male",
          "male",
          "male",
          "male",
          "female",
          "male",
          "male",
          "male",
          "female",
          "female",
          "female",
          "female",
          "male",
          "female",
          "male",
          "female",
          "male",
          "female",
          "male",
          "male",
          "female",
          "male",
          "male",
          "male",
          "male",
          "female",
          "female",
          "male",
          "female",
          "male",
          "female",
          "male",
          "male",
          "male",
          "male",
          "female",
          "female",
          "male",
          "male",
          "male",
          "female",
          "male",
          "male",
          "female",
          "male",
          "male",
          "female",
          "female",
          "male",
          "female",
          "male",
          "female",
          "female",
          "female",
          "male",
          "male",
          "female",
          "female",
          "female",
          "male",
          "female",
          "female",
          "male",
          "male",
          "male",
          "male",
          "female",
          "female",
          "female",
          "female",
          "female",
          "female",
          "male",
          "female",
          "female",
          "male",
          "female",
          "female",
          "male",
          "female",
          "male",
          "female",
          "male",
          "female",
          "male",
          "male",
          "male",
          "female",
          "female",
          "female",
          "male",
          "male",
          "male",
          "female",
          "male",
          "female",
          "male",
          "female",
          "female",
          "female",
          "female",
          "female",
          "female",
          "female",
          "male",
          "female",
          "female",
          "female",
          "male",
          "male",
          "female",
          "male",
          "female",
          "female",
          "male",
          "female",
          "female",
          "male",
          "female",
          "male",
          "female",
          "female",
          "female",
          "female",
          "male",
          "male",
          "female",
          "male",
          "female",
          "male",
          "male",
          "male",
          "male",
          "male",
          "male",
          "male",
          "male",
          "male",
          "female",
          "female",
          "female",
          "female",
          "male",
          "female",
          "female",
          "female",
          "male",
          "male",
          "female",
          "female",
          "male",
          "male",
          "male",
          "female",
          "female",
          "female",
          "male",
          "female",
          "male",
          "female",
          "male",
          "male",
          "male",
          "female",
          "male",
          "female",
          "male",
          "female",
          "male",
          "female",
          "female",
          "female",
          "female",
          "female",
          "female",
          "male",
          "female",
          "male",
          "female",
          "male",
          "female",
          "female",
          "male",
          "male",
          "female",
          "male",
          "female",
          "female",
          "female",
          "male",
          "female",
          "female",
          "female",
          "female",
          "female",
          "male",
          "male",
          "female",
          "female",
          "female",
          "male",
          "female",
          "male",
          "male",
          "male",
          "female",
          "female",
          "female",
          "male",
          "female",
          "female",
          "male",
          "male",
          "female",
          "female",
          "male",
          "female",
          "male",
          "male",
          "female",
          "male",
          "female",
          "male",
          "female",
          "female",
          "male",
          "male",
          "female",
          "male",
          "male",
          "female",
          "male",
          "female",
          "male",
          "female",
          "male",
          "female",
          "female",
          "male",
          "female",
          "female",
          "female",
          "female",
          "female",
          "male",
          "male",
          "female",
          "female",
          "female",
          "male",
          "male",
          "male",
          "male",
          "male",
          "female",
          "female",
          "male",
          "male",
          "female",
          "female",
          "male",
          "male",
          "male",
          "female",
          "male",
          "female",
          "male",
          "female",
          "female",
          "female",
          "female",
          "female",
          "male",
          "male",
          "male",
          "female",
          "male",
          "male",
          "male",
          "female",
          "male",
          "male",
          "male",
          "female",
          "female",
          "female",
          "female",
          "male",
          "female",
          "male",
          "male",
          "female",
          "male",
          "female",
          "male",
          "female",
          "female",
          "female",
          "male",
          "female",
          "female",
          "female",
          "male",
          "female",
          "female",
          "female",
          "female",
          "female",
          "male",
          "female",
          "male",
          "male",
          "female",
          "female",
          "male",
          "male",
          "male",
          "male",
          "female",
          "male",
          "male",
          "male",
          "female",
          "male",
          "female",
          "female",
          "male",
          "female",
          "female",
          "male",
          "female",
          "female",
          "female",
          "male",
          "male",
          "male",
          "female",
          "male",
          "male",
          "male",
          "male",
          "male",
          "female",
          "female",
          "female",
          "male",
          "male",
          "male",
          "female",
          "male",
          "female",
          "male",
          "male",
          "female",
          "female",
          "male",
          "female",
          "female",
          "female",
          "female",
          "female",
          "male",
          "male",
          "female",
          "female",
          "female",
          "female",
          "female",
          "male",
          "female",
          "female",
          "male",
          "female",
          "male",
          "female",
          "female",
          "male",
          "male",
          "female",
          "male",
          "male",
          "male",
          "male",
          "female",
          "male",
          "male",
          "female",
          "female",
          "female",
          "female",
          "female",
          "female",
          "female",
          "male",
          "male",
          "female",
          "male",
          "male",
          "male",
          "female",
          "female",
          "male",
          "female",
          "female",
          "female",
          "male",
          "female",
          "male",
          "female",
          "female",
          "female",
          "female",
          "female",
          "male",
          "male",
          "female",
          "female",
          "female",
          "female",
          "female",
          "male",
          "male",
          "female",
          "female",
          "male",
          "female",
          "female",
          "female",
          "female",
          "female",
          "female",
          "female",
          "male",
          "male",
          "male",
          "male",
          "female",
          "male",
          "male",
          "female",
          "female",
          "female",
          "female",
          "male",
          "male",
          "female",
          "female",
          "female",
          "male",
          "male",
          "male",
          "female",
          "male",
          "male",
          "female",
          "female",
          "female",
          "male",
          "female",
          "male",
          "female",
          "female",
          "female",
          "male",
          "female",
          "female",
          "male",
          "female",
          "male",
          "male",
          "female",
          "female",
          "male",
          "female",
          "male",
          "male",
          "female",
          "male",
          "male",
          "female",
          "male",
          "female",
          "male",
          "male",
          "male",
          "female",
          "female",
          "female",
          "male",
          "female",
          "male",
          "male",
          "female",
          "male",
          "female",
          "female",
          "female",
          "male",
          "male",
          "male",
          "male",
          "male",
          "male",
          "female",
          "male",
          "male",
          "male",
          "male",
          "male",
          "female",
          "male",
          "female",
          "male",
          "male",
          "female",
          "female",
          "female",
          "female",
          "male",
          "female",
          "male",
          "male",
          "female",
          "male",
          "female",
          "female",
          "female",
          "male",
          "female",
          "female",
          "male",
          "female",
          "female",
          "male",
          "female",
          "female",
          "male",
          "female",
          "female",
          "male",
          "male",
          "female",
          "female",
          "female",
          "male",
          "female",
          "female",
          "male",
          "male",
          "male",
          "female",
          "male",
          "female",
          "female",
          "female",
          "female",
          "male",
          "female",
          "male",
          "female",
          "female",
          "female",
          "male",
          "female",
          "female",
          "male",
          "female",
          "male",
          "male",
          "female",
          "female",
          "female",
          "female",
          "male",
          "female",
          "female",
          "female",
          "male",
          "female",
          "male",
          "male",
          "male",
          "female",
          "female",
          "male",
          "male",
          "male",
          "female",
          "male",
          "female",
          "male",
          "male",
          "female",
          "female",
          "female",
          "male",
          "male",
          "female",
          "female",
          "male",
          "male",
          "female",
          "female",
          "female",
          "male",
          "male",
          "male",
          "female",
          "male",
          "female",
          "female",
          "male",
          "female",
          "female",
          "female",
          "female",
          "female",
          "female",
          "male",
          "female",
          "female",
          "male"
         ],
         "x0": " ",
         "xaxis": "x",
         "y": {
          "bdata": "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",
          "dtype": "f8"
         },
         "y0": " ",
         "yaxis": "y"
        }
       ],
       "layout": {
        "boxmode": "group",
        "legend": {
         "tracegroupgap": 0
        },
        "margin": {
         "t": 60
        },
        "showlegend": false,
        "template": {
         "data": {
          "bar": [
           {
            "error_x": {
             "color": "#2a3f5f"
            },
            "error_y": {
             "color": "#2a3f5f"
            },
            "marker": {
             "line": {
              "color": "#E5ECF6",
              "width": 0.5
             },
             "pattern": {
              "fillmode": "overlay",
              "size": 10,
              "solidity": 0.2
             }
            },
            "type": "bar"
           }
          ],
          "barpolar": [
           {
            "marker": {
             "line": {
              "color": "#E5ECF6",
              "width": 0.5
             },
             "pattern": {
              "fillmode": "overlay",
              "size": 10,
              "solidity": 0.2
             }
            },
            "type": "barpolar"
           }
          ],
          "carpet": [
           {
            "aaxis": {
             "endlinecolor": "#2a3f5f",
             "gridcolor": "white",
             "linecolor": "white",
             "minorgridcolor": "white",
             "startlinecolor": "#2a3f5f"
            },
            "baxis": {
             "endlinecolor": "#2a3f5f",
             "gridcolor": "white",
             "linecolor": "white",
             "minorgridcolor": "white",
             "startlinecolor": "#2a3f5f"
            },
            "type": "carpet"
           }
          ],
          "choropleth": [
           {
            "colorbar": {
             "outlinewidth": 0,
             "ticks": ""
            },
            "type": "choropleth"
           }
          ],
          "contour": [
           {
            "colorbar": {
             "outlinewidth": 0,
             "ticks": ""
            },
            "colorscale": [
             [
              0,
              "#0d0887"
             ],
             [
              0.1111111111111111,
              "#46039f"
             ],
             [
              0.2222222222222222,
              "#7201a8"
             ],
             [
              0.3333333333333333,
              "#9c179e"
             ],
             [
              0.4444444444444444,
              "#bd3786"
             ],
             [
              0.5555555555555556,
              "#d8576b"
             ],
             [
              0.6666666666666666,
              "#ed7953"
             ],
             [
              0.7777777777777778,
              "#fb9f3a"
             ],
             [
              0.8888888888888888,
              "#fdca26"
             ],
             [
              1,
              "#f0f921"
             ]
            ],
            "type": "contour"
           }
          ],
          "contourcarpet": [
           {
            "colorbar": {
             "outlinewidth": 0,
             "ticks": ""
            },
            "type": "contourcarpet"
           }
          ],
          "heatmap": [
           {
            "colorbar": {
             "outlinewidth": 0,
             "ticks": ""
            },
            "colorscale": [
             [
              0,
              "#0d0887"
             ],
             [
              0.1111111111111111,
              "#46039f"
             ],
             [
              0.2222222222222222,
              "#7201a8"
             ],
             [
              0.3333333333333333,
              "#9c179e"
             ],
             [
              0.4444444444444444,
              "#bd3786"
             ],
             [
              0.5555555555555556,
              "#d8576b"
             ],
             [
              0.6666666666666666,
              "#ed7953"
             ],
             [
              0.7777777777777778,
              "#fb9f3a"
             ],
             [
              0.8888888888888888,
              "#fdca26"
             ],
             [
              1,
              "#f0f921"
             ]
            ],
            "type": "heatmap"
           }
          ],
          "histogram": [
           {
            "marker": {
             "pattern": {
              "fillmode": "overlay",
              "size": 10,
              "solidity": 0.2
             }
            },
            "type": "histogram"
           }
          ],
          "histogram2d": [
           {
            "colorbar": {
             "outlinewidth": 0,
             "ticks": ""
            },
            "colorscale": [
             [
              0,
              "#0d0887"
             ],
             [
              0.1111111111111111,
              "#46039f"
             ],
             [
              0.2222222222222222,
              "#7201a8"
             ],
             [
              0.3333333333333333,
              "#9c179e"
             ],
             [
              0.4444444444444444,
              "#bd3786"
             ],
             [
              0.5555555555555556,
              "#d8576b"
             ],
             [
              0.6666666666666666,
              "#ed7953"
             ],
             [
              0.7777777777777778,
              "#fb9f3a"
             ],
             [
              0.8888888888888888,
              "#fdca26"
             ],
             [
              1,
              "#f0f921"
             ]
            ],
            "type": "histogram2d"
           }
          ],
          "histogram2dcontour": [
           {
            "colorbar": {
             "outlinewidth": 0,
             "ticks": ""
            },
            "colorscale": [
             [
              0,
              "#0d0887"
             ],
             [
              0.1111111111111111,
              "#46039f"
             ],
             [
              0.2222222222222222,
              "#7201a8"
             ],
             [
              0.3333333333333333,
              "#9c179e"
             ],
             [
              0.4444444444444444,
              "#bd3786"
             ],
             [
              0.5555555555555556,
              "#d8576b"
             ],
             [
              0.6666666666666666,
              "#ed7953"
             ],
             [
              0.7777777777777778,
              "#fb9f3a"
             ],
             [
              0.8888888888888888,
              "#fdca26"
             ],
             [
              1,
              "#f0f921"
             ]
            ],
            "type": "histogram2dcontour"
           }
          ],
          "mesh3d": [
           {
            "colorbar": {
             "outlinewidth": 0,
             "ticks": ""
            },
            "type": "mesh3d"
           }
          ],
          "parcoords": [
           {
            "line": {
             "colorbar": {
              "outlinewidth": 0,
              "ticks": ""
             }
            },
            "type": "parcoords"
           }
          ],
          "pie": [
           {
            "automargin": true,
            "type": "pie"
           }
          ],
          "scatter": [
           {
            "fillpattern": {
             "fillmode": "overlay",
             "size": 10,
             "solidity": 0.2
            },
            "type": "scatter"
           }
          ],
          "scatter3d": [
           {
            "line": {
             "colorbar": {
              "outlinewidth": 0,
              "ticks": ""
             }
            },
            "marker": {
             "colorbar": {
              "outlinewidth": 0,
              "ticks": ""
             }
            },
            "type": "scatter3d"
           }
          ],
          "scattercarpet": [
           {
            "marker": {
             "colorbar": {
              "outlinewidth": 0,
              "ticks": ""
             }
            },
            "type": "scattercarpet"
           }
          ],
          "scattergeo": [
           {
            "marker": {
             "colorbar": {
              "outlinewidth": 0,
              "ticks": ""
             }
            },
            "type": "scattergeo"
           }
          ],
          "scattergl": [
           {
            "marker": {
             "colorbar": {
              "outlinewidth": 0,
              "ticks": ""
             }
            },
            "type": "scattergl"
           }
          ],
          "scattermap": [
           {
            "marker": {
             "colorbar": {
              "outlinewidth": 0,
              "ticks": ""
             }
            },
            "type": "scattermap"
           }
          ],
          "scattermapbox": [
           {
            "marker": {
             "colorbar": {
              "outlinewidth": 0,
              "ticks": ""
             }
            },
            "type": "scattermapbox"
           }
          ],
          "scatterpolar": [
           {
            "marker": {
             "colorbar": {
              "outlinewidth": 0,
              "ticks": ""
             }
            },
            "type": "scatterpolar"
           }
          ],
          "scatterpolargl": [
           {
            "marker": {
             "colorbar": {
              "outlinewidth": 0,
              "ticks": ""
             }
            },
            "type": "scatterpolargl"
           }
          ],
          "scatterternary": [
           {
            "marker": {
             "colorbar": {
              "outlinewidth": 0,
              "ticks": ""
             }
            },
            "type": "scatterternary"
           }
          ],
          "surface": [
           {
            "colorbar": {
             "outlinewidth": 0,
             "ticks": ""
            },
            "colorscale": [
             [
              0,
              "#0d0887"
             ],
             [
              0.1111111111111111,
              "#46039f"
             ],
             [
              0.2222222222222222,
              "#7201a8"
             ],
             [
              0.3333333333333333,
              "#9c179e"
             ],
             [
              0.4444444444444444,
              "#bd3786"
             ],
             [
              0.5555555555555556,
              "#d8576b"
             ],
             [
              0.6666666666666666,
              "#ed7953"
             ],
             [
              0.7777777777777778,
              "#fb9f3a"
             ],
             [
              0.8888888888888888,
              "#fdca26"
             ],
             [
              1,
              "#f0f921"
             ]
            ],
            "type": "surface"
           }
          ],
          "table": [
           {
            "cells": {
             "fill": {
              "color": "#EBF0F8"
             },
             "line": {
              "color": "white"
             }
            },
            "header": {
             "fill": {
              "color": "#C8D4E3"
             },
             "line": {
              "color": "white"
             }
            },
            "type": "table"
           }
          ]
         },
         "layout": {
          "annotationdefaults": {
           "arrowcolor": "#2a3f5f",
           "arrowhead": 0,
           "arrowwidth": 1
          },
          "autotypenumbers": "strict",
          "coloraxis": {
           "colorbar": {
            "outlinewidth": 0,
            "ticks": ""
           }
          },
          "colorscale": {
           "diverging": [
            [
             0,
             "#8e0152"
            ],
            [
             0.1,
             "#c51b7d"
            ],
            [
             0.2,
             "#de77ae"
            ],
            [
             0.3,
             "#f1b6da"
            ],
            [
             0.4,
             "#fde0ef"
            ],
            [
             0.5,
             "#f7f7f7"
            ],
            [
             0.6,
             "#e6f5d0"
            ],
            [
             0.7,
             "#b8e186"
            ],
            [
             0.8,
             "#7fbc41"
            ],
            [
             0.9,
             "#4d9221"
            ],
            [
             1,
             "#276419"
            ]
           ],
           "sequential": [
            [
             0,
             "#0d0887"
            ],
            [
             0.1111111111111111,
             "#46039f"
            ],
            [
             0.2222222222222222,
             "#7201a8"
            ],
            [
             0.3333333333333333,
             "#9c179e"
            ],
            [
             0.4444444444444444,
             "#bd3786"
            ],
            [
             0.5555555555555556,
             "#d8576b"
            ],
            [
             0.6666666666666666,
             "#ed7953"
            ],
            [
             0.7777777777777778,
             "#fb9f3a"
            ],
            [
             0.8888888888888888,
             "#fdca26"
            ],
            [
             1,
             "#f0f921"
            ]
           ],
           "sequentialminus": [
            [
             0,
             "#0d0887"
            ],
            [
             0.1111111111111111,
             "#46039f"
            ],
            [
             0.2222222222222222,
             "#7201a8"
            ],
            [
             0.3333333333333333,
             "#9c179e"
            ],
            [
             0.4444444444444444,
             "#bd3786"
            ],
            [
             0.5555555555555556,
             "#d8576b"
            ],
            [
             0.6666666666666666,
             "#ed7953"
            ],
            [
             0.7777777777777778,
             "#fb9f3a"
            ],
            [
             0.8888888888888888,
             "#fdca26"
            ],
            [
             1,
             "#f0f921"
            ]
           ]
          },
          "colorway": [
           "#636efa",
           "#EF553B",
           "#00cc96",
           "#ab63fa",
           "#FFA15A",
           "#19d3f3",
           "#FF6692",
           "#B6E880",
           "#FF97FF",
           "#FECB52"
          ],
          "font": {
           "color": "#2a3f5f"
          },
          "geo": {
           "bgcolor": "white",
           "lakecolor": "white",
           "landcolor": "#E5ECF6",
           "showlakes": true,
           "showland": true,
           "subunitcolor": "white"
          },
          "hoverlabel": {
           "align": "left"
          },
          "hovermode": "closest",
          "mapbox": {
           "style": "light"
          },
          "paper_bgcolor": "white",
          "plot_bgcolor": "#E5ECF6",
          "polar": {
           "angularaxis": {
            "gridcolor": "white",
            "linecolor": "white",
            "ticks": ""
           },
           "bgcolor": "#E5ECF6",
           "radialaxis": {
            "gridcolor": "white",
            "linecolor": "white",
            "ticks": ""
           }
          },
          "scene": {
           "xaxis": {
            "backgroundcolor": "#E5ECF6",
            "gridcolor": "white",
            "gridwidth": 2,
            "linecolor": "white",
            "showbackground": true,
            "ticks": "",
            "zerolinecolor": "white"
           },
           "yaxis": {
            "backgroundcolor": "#E5ECF6",
            "gridcolor": "white",
            "gridwidth": 2,
            "linecolor": "white",
            "showbackground": true,
            "ticks": "",
            "zerolinecolor": "white"
           },
           "zaxis": {
            "backgroundcolor": "#E5ECF6",
            "gridcolor": "white",
            "gridwidth": 2,
            "linecolor": "white",
            "showbackground": true,
            "ticks": "",
            "zerolinecolor": "white"
           }
          },
          "shapedefaults": {
           "line": {
            "color": "#2a3f5f"
           }
          },
          "ternary": {
           "aaxis": {
            "gridcolor": "white",
            "linecolor": "white",
            "ticks": ""
           },
           "baxis": {
            "gridcolor": "white",
            "linecolor": "white",
            "ticks": ""
           },
           "bgcolor": "#E5ECF6",
           "caxis": {
            "gridcolor": "white",
            "linecolor": "white",
            "ticks": ""
           }
          },
          "title": {
           "x": 0.05
          },
          "xaxis": {
           "automargin": true,
           "gridcolor": "white",
           "linecolor": "white",
           "ticks": "",
           "title": {
            "standoff": 15
           },
           "zerolinecolor": "white",
           "zerolinewidth": 2
          },
          "yaxis": {
           "automargin": true,
           "gridcolor": "white",
           "linecolor": "white",
           "ticks": "",
           "title": {
            "standoff": 15
           },
           "zerolinecolor": "white",
           "zerolinewidth": 2
          }
         }
        },
        "xaxis": {
         "anchor": "y",
         "domain": [
          0,
          1
         ],
         "title": {}
        },
        "yaxis": {
         "anchor": "x",
         "domain": [
          0,
          1
         ],
         "title": {
          "text": "Annual Income ($)"
         }
        }
       }
      },
      "text/html": [
       "<div>            <script src=\"https://cdnjs.cloudflare.com/ajax/libs/mathjax/2.7.5/MathJax.js?config=TeX-AMS-MML_SVG\"></script><script type=\"text/javascript\">if (window.MathJax && window.MathJax.Hub && window.MathJax.Hub.Config) {window.MathJax.Hub.Config({SVG: {font: \"STIX-Web\"}});}</script>                <script type=\"text/javascript\">window.PlotlyConfig = {MathJaxConfig: 'local'};</script>\n",
       "        <script charset=\"utf-8\" src=\"https://cdn.plot.ly/plotly-3.0.1.min.js\"></script>                <div id=\"0e19acd7-b533-45cd-8230-bb5ecf08bb72\" class=\"plotly-graph-div\" style=\"height:525px; width:100%;\"></div>            <script type=\"text/javascript\">                window.PLOTLYENV=window.PLOTLYENV || {};                                if (document.getElementById(\"0e19acd7-b533-45cd-8230-bb5ecf08bb72\")) {                    Plotly.newPlot(                        \"0e19acd7-b533-45cd-8230-bb5ecf08bb72\",                        [{\"alignmentgroup\":\"True\",\"hovertemplate\":\"sex=%{x}\\u003cbr\\u003eAnnual Income ($)=%{y}\\u003cextra\\u003e\\u003c\\u002fextra\\u003e\",\"legendgroup\":\"\",\"marker\":{\"color\":\"#636efa\"},\"name\":\"\",\"notched\":false,\"offsetgroup\":\"\",\"orientation\":\"v\",\"showlegend\":false,\"x\":[\"female\",\"male\",\"female\",\"male\",\"female\",\"male\",\"female\",\"male\",\"male\",\"female\",\"female\",\"male\",\"female\",\"female\",\"female\",\"female\",\"female\",\"female\",\"male\",\"female\",\"male\",\"female\",\"female\",\"female\",\"male\",\"male\",\"female\",\"male\",\"female\",\"male\",\"male\",\"female\",\"male\",\"female\",\"female\",\"female\",\"male\",\"female\",\"male\",\"female\",\"female\",\"female\",\"female\",\"male\",\"male\",\"female\",\"female\",\"male\",\"female\",\"female\",\"female\",\"female\",\"female\",\"male\",\"male\",\"female\",\"female\",\"female\",\"male\",\"male\",\"female\",\"female\",\"male\",\"female\",\"female\",\"female\",\"female\",\"female\",\"female\",\"female\",\"male\",\"male\",\"female\",\"male\",\"male\",\"male\",\"male\",\"female\",\"female\",\"female\",\"male\",\"female\",\"male\",\"female\",\"male\",\"female\",\"male\",\"male\",\"male\",\"female\",\"female\",\"female\",\"male\",\"female\",\"male\",\"male\",\"male\",\"female\",\"female\",\"male\",\"female\",\"female\",\"female\",\"female\",\"male\",\"male\",\"female\",\"female\",\"male\",\"female\",\"female\",\"male\",\"male\",\"male\",\"female\",\"male\",\"female\",\"female\",\"female\",\"male\",\"male\",\"male\",\"male\",\"male\",\"male\",\"female\",\"male\",\"female\",\"female\",\"female\",\"female\",\"female\",\"male\",\"female\",\"female\",\"female\",\"female\",\"female\",\"female\",\"female\",\"female\",\"female\",\"male\",\"male\",\"male\",\"male\",\"male\",\"female\",\"male\",\"female\",\"female\",\"male\",\"male\",\"male\",\"female\",\"male\",\"male\",\"male\",\"female\",\"female\",\"male\",\"male\",\"male\",\"female\",\"male\",\"female\",\"male\",\"male\",\"female\",\"male\",\"female\",\"female\",\"male\",\"male\",\"female\",\"female\",\"male\",\"female\",\"male\",\"male\",\"male\",\"male\",\"male\",\"female\",\"female\",\"female\",\"female\",\"female\",\"male\",\"female\",\"female\",\"female\",\"female\",\"male\",\"male\",\"male\",\"female\",\"male\",\"female\",\"female\",\"female\",\"female\",\"female\",\"female\",\"male\",\"female\",\"female\",\"male\",\"female\",\"female\",\"male\",\"female\",\"female\",\"female\",\"male\",\"male\",\"male\",\"female\",\"male\",\"female\",\"female\",\"male\",\"male\",\"female\",\"male\",\"male\",\"female\",\"male\",\"male\",\"female\",\"female\",\"male\",\"male\",\"female\",\"male\",\"female\",\"male\",\"male\",\"female\",\"female\",\"female\",\"male\",\"male\",\"female\",\"male\",\"female\",\"female\",\"male\",\"male\",\"female\",\"female\",\"female\",\"female\",\"female\",\"female\",\"male\",\"female\",\"male\",\"female\",\"female\",\"female\",\"male\",\"female\",\"female\",\"female\",\"female\",\"male\",\"female\",\"male\",\"male\",\"female\",\"male\",\"male\",\"male\",\"male\",\"male\",\"male\",\"female\",\"male\",\"female\",\"female\",\"male\",\"female\",\"male\",\"male\",\"female\",\"female\",\"male\",\"female\",\"female\",\"female\",\"male\",\"female\",\"female\",\"male\",\"male\",\"female\",\"male\",\"female\",\"female\",\"male\",\"male\",\"female\",\"male\",\"female\",\"female\",\"female\",\"female\",\"female\",\"female\",\"female\",\"female\",\"male\",\"male\",\"female\",\"female\",\"male\",\"male\",\"male\",\"female\",\"female\",\"female\",\"male\",\"female\",\"female\",\"female\",\"male\",\"male\",\"male\",\"female\",\"male\",\"female\",\"female\",\"female\",\"female\",\"female\",\"male\",\"female\",\"male\",\"female\",\"female\",\"female\",\"female\",\"female\",\"male\",\"female\",\"male\",\"female\",\"male\",\"male\",\"male\",\"female\",\"male\",\"female\",\"female\",\"male\",\"female\",\"female\",\"male\",\"female\",\"female\",\"male\",\"male\",\"male\",\"female\",\"female\",\"male\",\"female\",\"male\",\"female\",\"female\",\"female\",\"male\",\"female\",\"female\",\"female\",\"male\",\"female\",\"female\",\"female\",\"female\",\"female\",\"female\",\"male\",\"female\",\"female\",\"female\",\"male\",\"female\",\"female\",\"male\",\"female\",\"female\",\"female\",\"female\",\"male\",\"male\",\"female\",\"female\",\"female\",\"male\",\"female\",\"male\",\"male\",\"female\",\"female\",\"female\",\"female\",\"female\",\"female\",\"female\",\"female\",\"male\",\"female\",\"male\",\"female\",\"male\",\"female\",\"male\",\"female\",\"female\",\"male\",\"male\",\"female\",\"female\",\"female\",\"male\",\"female\",\"male\",\"female\",\"male\",\"female\",\"female\",\"female\",\"female\",\"male\",\"female\",\"male\",\"male\",\"female\",\"male\",\"male\",\"male\",\"male\",\"female\",\"male\",\"female\",\"female\",\"male\",\"male\",\"male\",\"female\",\"male\",\"female\",\"female\",\"male\",\"male\",\"female\",\"male\",\"male\",\"female\",\"female\",\"female\",\"female\",\"female\",\"female\",\"male\",\"male\",\"male\",\"female\",\"female\",\"female\",\"male\",\"female\",\"female\",\"female\",\"male\",\"male\",\"male\",\"female\",\"female\",\"female\",\"male\",\"female\",\"female\",\"male\",\"male\",\"female\",\"female\",\"female\",\"female\",\"male\",\"male\",\"male\",\"male\",\"female\",\"male\",\"female\",\"male\",\"male\",\"female\",\"female\",\"male\",\"male\",\"female\",\"female\",\"male\",\"male\",\"female\",\"female\",\"female\",\"male\",\"female\",\"male\",\"female\",\"male\",\"female\",\"male\",\"female\",\"female\",\"male\",\"female\",\"female\",\"female\",\"male\",\"female\",\"female\",\"male\",\"male\",\"male\",\"female\",\"female\",\"male\",\"female\",\"male\",\"male\",\"male\",\"female\",\"male\",\"female\",\"female\",\"female\",\"male\",\"female\",\"male\",\"female\",\"female\",\"female\",\"female\",\"female\",\"female\",\"female\",\"female\",\"female\",\"female\",\"male\",\"female\",\"female\",\"male\",\"female\",\"female\",\"female\",\"male\",\"female\",\"female\",\"male\",\"female\",\"female\",\"male\",\"male\",\"male\",\"male\",\"female\",\"female\",\"female\",\"female\",\"male\",\"female\",\"female\",\"female\",\"male\",\"female\",\"female\",\"male\",\"male\",\"female\",\"male\",\"male\",\"male\",\"female\",\"female\",\"male\",\"female\",\"male\",\"female\",\"female\",\"female\",\"male\",\"male\",\"male\",\"female\",\"female\",\"male\",\"male\",\"male\",\"female\",\"female\",\"male\",\"female\",\"female\",\"male\",\"female\",\"male\",\"male\",\"male\",\"female\",\"female\",\"female\",\"male\",\"male\",\"female\",\"female\",\"female\",\"male\",\"female\",\"male\",\"female\",\"female\",\"male\",\"male\",\"female\",\"male\",\"female\",\"male\",\"female\",\"male\",\"male\",\"male\",\"female\",\"male\",\"female\",\"female\",\"female\",\"male\",\"female\",\"male\",\"male\",\"male\",\"male\",\"male\",\"female\",\"female\",\"female\",\"male\",\"female\",\"male\",\"female\",\"male\",\"female\",\"female\",\"female\",\"male\",\"male\",\"female\",\"male\",\"female\",\"female\",\"female\",\"male\",\"female\",\"female\",\"male\",\"male\",\"male\",\"male\",\"male\",\"male\",\"female\",\"female\",\"male\",\"male\",\"female\",\"female\",\"female\",\"male\",\"male\",\"female\",\"male\",\"male\",\"male\",\"female\",\"male\",\"female\",\"female\",\"female\",\"male\",\"male\",\"male\",\"female\",\"female\",\"male\",\"female\",\"female\",\"male\",\"female\",\"female\",\"female\",\"male\",\"male\",\"female\",\"female\",\"female\",\"female\",\"male\",\"female\",\"female\",\"female\",\"female\",\"male\",\"male\",\"female\",\"male\",\"male\",\"male\",\"female\",\"male\",\"female\",\"male\",\"male\",\"male\",\"female\",\"female\",\"female\",\"female\",\"male\",\"male\",\"male\",\"female\",\"male\",\"male\",\"male\",\"female\",\"female\",\"male\",\"female\",\"female\",\"male\",\"male\",\"male\",\"male\",\"female\",\"male\",\"female\",\"male\",\"male\",\"female\",\"female\",\"female\",\"male\",\"female\",\"male\",\"female\",\"female\",\"female\",\"male\",\"female\",\"female\",\"male\",\"female\",\"male\",\"male\",\"male\",\"female\",\"male\",\"female\",\"male\",\"female\",\"male\",\"female\",\"female\",\"female\",\"female\",\"female\",\"female\",\"male\",\"male\",\"female\",\"male\",\"female\",\"female\",\"female\",\"female\",\"female\",\"female\",\"male\",\"female\",\"female\",\"male\",\"female\",\"female\",\"female\",\"male\",\"female\",\"female\",\"male\",\"male\",\"male\",\"male\",\"male\",\"female\",\"male\",\"male\",\"male\",\"female\",\"male\",\"female\",\"male\",\"female\",\"female\",\"male\",\"female\",\"male\",\"male\",\"female\",\"female\",\"male\",\"male\",\"female\",\"male\",\"female\",\"male\",\"female\",\"male\",\"female\",\"male\",\"male\",\"male\",\"male\",\"female\",\"female\",\"male\",\"male\",\"female\",\"female\",\"male\",\"female\",\"male\",\"female\",\"male\",\"female\",\"female\",\"male\",\"female\",\"male\",\"female\",\"female\",\"male\",\"female\",\"male\",\"male\",\"male\",\"male\",\"female\",\"male\",\"female\",\"male\",\"male\",\"female\",\"male\",\"female\",\"female\",\"male\",\"female\",\"male\",\"female\",\"male\",\"female\",\"male\",\"female\",\"male\",\"male\",\"male\",\"female\",\"male\",\"male\",\"male\",\"female\",\"male\",\"female\",\"female\",\"male\",\"female\",\"male\",\"male\",\"male\",\"female\",\"female\",\"female\",\"female\",\"female\",\"female\",\"female\",\"female\",\"male\",\"female\",\"male\",\"male\",\"female\",\"male\",\"male\",\"female\",\"female\",\"female\",\"female\",\"female\",\"male\",\"female\",\"female\",\"male\",\"female\",\"female\",\"female\",\"female\",\"female\",\"male\",\"male\",\"male\",\"male\",\"male\",\"female\",\"male\",\"female\",\"male\",\"female\",\"male\",\"male\",\"female\",\"male\",\"female\",\"male\",\"female\",\"male\",\"male\",\"female\",\"female\",\"female\",\"female\",\"male\",\"male\",\"female\",\"female\",\"male\",\"female\",\"male\",\"male\",\"male\",\"male\",\"female\",\"male\",\"male\",\"female\",\"female\",\"male\",\"female\",\"male\",\"male\",\"female\",\"female\",\"male\",\"female\",\"female\",\"female\",\"female\",\"male\",\"female\",\"female\",\"male\",\"male\",\"male\",\"male\",\"male\",\"female\",\"female\",\"female\",\"female\",\"female\",\"male\",\"male\",\"male\",\"male\",\"male\",\"female\",\"male\",\"male\",\"male\",\"female\",\"female\",\"male\",\"female\",\"male\",\"male\",\"female\",\"male\",\"male\",\"male\",\"female\",\"female\",\"male\",\"male\",\"male\",\"female\",\"female\",\"female\",\"female\",\"female\",\"female\",\"female\",\"male\",\"female\",\"male\",\"male\",\"female\",\"female\",\"male\",\"male\",\"male\",\"male\",\"male\",\"male\",\"female\",\"male\",\"male\",\"female\",\"female\",\"male\",\"female\",\"male\",\"male\",\"male\",\"female\",\"female\",\"female\",\"male\",\"male\",\"male\",\"male\",\"male\",\"male\",\"female\",\"male\",\"male\",\"female\",\"male\",\"female\",\"female\",\"male\",\"male\",\"male\",\"male\",\"female\",\"male\",\"male\",\"female\",\"male\",\"female\",\"male\",\"female\",\"male\",\"female\",\"male\",\"female\",\"male\",\"male\",\"female\",\"male\",\"female\",\"female\",\"female\",\"male\",\"female\",\"female\",\"female\",\"male\",\"male\",\"male\",\"male\",\"male\",\"female\",\"female\",\"male\",\"female\",\"female\",\"female\",\"male\",\"female\",\"female\",\"male\",\"male\",\"male\",\"male\",\"male\",\"male\",\"female\",\"male\",\"female\",\"female\",\"female\",\"male\",\"male\",\"male\",\"male\",\"male\",\"female\",\"female\",\"female\",\"female\",\"female\",\"male\",\"female\",\"female\",\"female\",\"male\",\"male\",\"female\",\"male\",\"male\",\"male\",\"male\",\"male\",\"male\",\"female\",\"female\",\"female\",\"female\",\"male\",\"male\",\"male\",\"female\",\"female\",\"male\",\"female\",\"female\",\"male\",\"female\",\"male\",\"female\",\"female\",\"female\",\"female\",\"male\",\"female\",\"male\",\"female\",\"male\",\"female\",\"female\",\"female\",\"male\",\"male\",\"male\",\"male\",\"female\",\"female\",\"female\",\"female\",\"female\",\"female\",\"male\",\"female\",\"male\",\"male\",\"female\",\"male\",\"female\",\"female\",\"male\",\"female\",\"male\",\"female\",\"male\",\"female\",\"male\",\"male\",\"female\",\"male\",\"female\",\"male\",\"female\",\"female\",\"female\",\"male\",\"female\",\"female\",\"male\",\"male\",\"male\",\"male\",\"female\",\"male\",\"female\",\"female\",\"female\",\"male\",\"male\",\"female\",\"female\",\"female\",\"male\",\"male\",\"female\",\"female\",\"female\",\"female\",\"female\",\"female\",\"male\",\"male\",\"female\",\"female\",\"male\",\"male\",\"male\",\"male\",\"male\",\"male\",\"female\",\"male\",\"male\",\"male\",\"female\",\"male\",\"male\",\"male\",\"female\",\"female\",\"female\",\"female\",\"male\",\"female\",\"female\",\"male\",\"male\",\"female\",\"female\",\"male\",\"male\",\"female\",\"female\",\"male\",\"male\",\"female\",\"female\",\"male\",\"male\",\"male\",\"female\",\"female\",\"female\",\"female\",\"female\",\"female\",\"female\",\"male\",\"male\",\"male\",\"male\",\"female\",\"female\",\"male\",\"female\",\"female\",\"male\",\"female\",\"male\",\"male\",\"male\",\"male\",\"female\",\"male\",\"female\",\"male\",\"female\",\"female\",\"male\",\"female\",\"female\",\"male\",\"female\",\"female\",\"female\",\"male\",\"male\",\"female\",\"female\",\"male\",\"male\",\"female\",\"female\",\"female\",\"male\",\"female\",\"female\",\"male\",\"female\",\"female\",\"male\",\"male\",\"female\",\"male\",\"female\",\"female\",\"male\",\"female\",\"male\",\"female\",\"male\",\"male\",\"female\",\"female\",\"male\",\"male\",\"male\",\"female\",\"male\",\"female\",\"male\",\"male\",\"female\",\"female\",\"male\",\"female\",\"female\",\"female\",\"male\",\"female\",\"male\",\"female\",\"female\",\"female\",\"female\",\"female\",\"female\",\"female\",\"male\",\"female\",\"female\",\"female\",\"female\",\"female\",\"male\",\"male\",\"female\",\"female\",\"female\",\"female\",\"male\",\"male\",\"female\",\"male\",\"male\",\"male\",\"female\",\"female\",\"female\",\"female\",\"female\",\"male\",\"female\",\"female\",\"male\",\"male\",\"female\",\"female\",\"female\",\"male\",\"female\",\"female\",\"female\",\"female\",\"female\",\"female\",\"female\",\"male\",\"female\",\"male\",\"female\",\"female\",\"female\",\"female\",\"female\",\"female\",\"female\",\"male\",\"female\",\"female\",\"male\",\"female\",\"female\",\"female\",\"female\",\"male\",\"female\",\"male\",\"female\",\"male\",\"female\",\"male\",\"male\",\"female\",\"male\",\"female\",\"male\",\"male\",\"male\",\"female\",\"female\",\"female\",\"female\",\"female\",\"male\",\"male\",\"female\",\"female\",\"female\",\"male\",\"female\",\"female\",\"female\",\"male\",\"male\",\"male\",\"female\",\"male\",\"female\",\"male\",\"female\",\"male\",\"female\",\"female\",\"female\",\"male\",\"male\",\"male\",\"male\",\"male\",\"female\",\"female\",\"male\",\"female\",\"male\",\"male\",\"male\",\"female\",\"male\",\"female\",\"female\",\"female\",\"female\",\"female\",\"female\",\"female\",\"male\",\"male\",\"female\",\"female\",\"female\",\"male\",\"male\",\"female\",\"female\",\"male\",\"male\",\"male\",\"male\",\"female\",\"male\",\"female\",\"female\",\"male\",\"female\",\"female\",\"male\",\"female\",\"female\",\"female\",\"male\",\"female\",\"female\",\"female\",\"male\",\"female\",\"male\",\"female\",\"male\",\"female\",\"male\",\"female\",\"male\",\"male\",\"female\",\"female\",\"female\",\"female\",\"female\",\"female\",\"female\",\"male\",\"male\",\"male\",\"male\",\"male\",\"male\",\"female\",\"male\",\"female\",\"male\",\"female\",\"female\",\"female\",\"male\",\"female\",\"male\",\"female\",\"male\",\"male\",\"male\",\"male\",\"female\",\"female\",\"male\",\"male\",\"male\",\"male\",\"male\",\"female\",\"male\",\"male\",\"male\",\"female\",\"female\",\"female\",\"female\",\"male\",\"female\",\"male\",\"female\",\"male\",\"female\",\"male\",\"male\",\"female\",\"male\",\"male\",\"male\",\"male\",\"female\",\"female\",\"male\",\"female\",\"male\",\"female\",\"male\",\"male\",\"male\",\"male\",\"female\",\"female\",\"male\",\"male\",\"male\",\"female\",\"male\",\"male\",\"female\",\"male\",\"male\",\"female\",\"female\",\"male\",\"female\",\"male\",\"female\",\"female\",\"female\",\"male\",\"male\",\"female\",\"female\",\"female\",\"male\",\"female\",\"female\",\"male\",\"male\",\"male\",\"male\",\"female\",\"female\",\"female\",\"female\",\"female\",\"female\",\"male\",\"female\",\"female\",\"male\",\"female\",\"female\",\"male\",\"female\",\"male\",\"female\",\"male\",\"female\",\"male\",\"male\",\"male\",\"female\",\"female\",\"female\",\"male\",\"male\",\"male\",\"female\",\"male\",\"female\",\"male\",\"female\",\"female\",\"female\",\"female\",\"female\",\"female\",\"female\",\"male\",\"female\",\"female\",\"female\",\"male\",\"male\",\"female\",\"male\",\"female\",\"female\",\"male\",\"female\",\"female\",\"male\",\"female\",\"male\",\"female\",\"female\",\"female\",\"female\",\"male\",\"male\",\"female\",\"male\",\"female\",\"male\",\"male\",\"male\",\"male\",\"male\",\"male\",\"male\",\"male\",\"male\",\"female\",\"female\",\"female\",\"female\",\"male\",\"female\",\"female\",\"female\",\"male\",\"male\",\"female\",\"female\",\"male\",\"male\",\"male\",\"female\",\"female\",\"female\",\"male\",\"female\",\"male\",\"female\",\"male\",\"male\",\"male\",\"female\",\"male\",\"female\",\"male\",\"female\",\"male\",\"female\",\"female\",\"female\",\"female\",\"female\",\"female\",\"male\",\"female\",\"male\",\"female\",\"male\",\"female\",\"female\",\"male\",\"male\",\"female\",\"male\",\"female\",\"female\",\"female\",\"male\",\"female\",\"female\",\"female\",\"female\",\"female\",\"male\",\"male\",\"female\",\"female\",\"female\",\"male\",\"female\",\"male\",\"male\",\"male\",\"female\",\"female\",\"female\",\"male\",\"female\",\"female\",\"male\",\"male\",\"female\",\"female\",\"male\",\"female\",\"male\",\"male\",\"female\",\"male\",\"female\",\"male\",\"female\",\"female\",\"male\",\"male\",\"female\",\"male\",\"male\",\"female\",\"male\",\"female\",\"male\",\"female\",\"male\",\"female\",\"female\",\"male\",\"female\",\"female\",\"female\",\"female\",\"female\",\"male\",\"male\",\"female\",\"female\",\"female\",\"male\",\"male\",\"male\",\"male\",\"male\",\"female\",\"female\",\"male\",\"male\",\"female\",\"female\",\"male\",\"male\",\"male\",\"female\",\"male\",\"female\",\"male\",\"female\",\"female\",\"female\",\"female\",\"female\",\"male\",\"male\",\"male\",\"female\",\"male\",\"male\",\"male\",\"female\",\"male\",\"male\",\"male\",\"female\",\"female\",\"female\",\"female\",\"male\",\"female\",\"male\",\"male\",\"female\",\"male\",\"female\",\"male\",\"female\",\"female\",\"female\",\"male\",\"female\",\"female\",\"female\",\"male\",\"female\",\"female\",\"female\",\"female\",\"female\",\"male\",\"female\",\"male\",\"male\",\"female\",\"female\",\"male\",\"male\",\"male\",\"male\",\"female\",\"male\",\"male\",\"male\",\"female\",\"male\",\"female\",\"female\",\"male\",\"female\",\"female\",\"male\",\"female\",\"female\",\"female\",\"male\",\"male\",\"male\",\"female\",\"male\",\"male\",\"male\",\"male\",\"male\",\"female\",\"female\",\"female\",\"male\",\"male\",\"male\",\"female\",\"male\",\"female\",\"male\",\"male\",\"female\",\"female\",\"male\",\"female\",\"female\",\"female\",\"female\",\"female\",\"male\",\"male\",\"female\",\"female\",\"female\",\"female\",\"female\",\"male\",\"female\",\"female\",\"male\",\"female\",\"male\",\"female\",\"female\",\"male\",\"male\",\"female\",\"male\",\"male\",\"male\",\"male\",\"female\",\"male\",\"male\",\"female\",\"female\",\"female\",\"female\",\"female\",\"female\",\"female\",\"male\",\"male\",\"female\",\"male\",\"male\",\"male\",\"female\",\"female\",\"male\",\"female\",\"female\",\"female\",\"male\",\"female\",\"male\",\"female\",\"female\",\"female\",\"female\",\"female\",\"male\",\"male\",\"female\",\"female\",\"female\",\"female\",\"female\",\"male\",\"male\",\"female\",\"female\",\"male\",\"female\",\"female\",\"female\",\"female\",\"female\",\"female\",\"female\",\"male\",\"male\",\"male\",\"male\",\"female\",\"male\",\"male\",\"female\",\"female\",\"female\",\"female\",\"male\",\"male\",\"female\",\"female\",\"female\",\"male\",\"male\",\"male\",\"female\",\"male\",\"male\",\"female\",\"female\",\"female\",\"male\",\"female\",\"male\",\"female\",\"female\",\"female\",\"male\",\"female\",\"female\",\"male\",\"female\",\"male\",\"male\",\"female\",\"female\",\"male\",\"female\",\"male\",\"male\",\"female\",\"male\",\"male\",\"female\",\"male\",\"female\",\"male\",\"male\",\"male\",\"female\",\"female\",\"female\",\"male\",\"female\",\"male\",\"male\",\"female\",\"male\",\"female\",\"female\",\"female\",\"male\",\"male\",\"male\",\"male\",\"male\",\"male\",\"female\",\"male\",\"male\",\"male\",\"male\",\"male\",\"female\",\"male\",\"female\",\"male\",\"male\",\"female\",\"female\",\"female\",\"female\",\"male\",\"female\",\"male\",\"male\",\"female\",\"male\",\"female\",\"female\",\"female\",\"male\",\"female\",\"female\",\"male\",\"female\",\"female\",\"male\",\"female\",\"female\",\"male\",\"female\",\"female\",\"male\",\"male\",\"female\",\"female\",\"female\",\"male\",\"female\",\"female\",\"male\",\"male\",\"male\",\"female\",\"male\",\"female\",\"female\",\"female\",\"female\",\"male\",\"female\",\"male\",\"female\",\"female\",\"female\",\"male\",\"female\",\"female\",\"male\",\"female\",\"male\",\"male\",\"female\",\"female\",\"female\",\"female\",\"male\",\"female\",\"female\",\"female\",\"male\",\"female\",\"male\",\"male\",\"male\",\"female\",\"female\",\"male\",\"male\",\"male\",\"female\",\"male\",\"female\",\"male\",\"male\",\"female\",\"female\",\"female\",\"male\",\"male\",\"female\",\"female\",\"male\",\"male\",\"female\",\"female\",\"female\",\"male\",\"male\",\"male\",\"female\",\"male\",\"female\",\"female\",\"male\",\"female\",\"female\",\"female\",\"female\",\"female\",\"female\",\"male\",\"female\",\"female\",\"male\"],\"x0\":\" \",\"xaxis\":\"x\",\"y\":{\"dtype\":\"f8\",\"bdata\":\"AAAAAKA\\u002f1kAAAAAAAGL7QMsQx7rOTwNByxDHus5PA0EAAAAA4KvJQAAAAABg0+JAAAAAAAAfrkAAAAAAQB3xQAAAAAAAYvtAAAAAACAYzUAAAAAAMELQQAAAAACAifRAAAAAAADolUAAAAAAsBrnQAAAAABAHfFAAAAAABA97EAAAAAAgIn0QAAAAABAHfFAAAAAALAa50AAAAAAED3sQAAAAACgP9ZAAAAAAOCr2UAAAAAAQM6+QAAAAABg0+JAAAAAAICJ9EAAAAAAoD\\u002fWQAAAAACAifRAAAAAAMD190AAAAAAQB3xQAAAAABAzt5AAAAAALAa50AAAAAAYNPCQAAAAADgq9lAAAAAAEDO3kAAAAAAED3sQAAAAACgP9ZAAAAAAICJ9EDLEMe6zk8DQQAAAACAifRAAAAAAEAd8UAAAAAAYNPSQAAAAAAQPexAAAAAAGDT4kDLEMe6zk8DQQAAAADA9fdAAAAAAICJ9EAAAAAAAKW4QAAAAACwGudAAAAAAICJtEAAAAAAAB+uQAAAAADgq9lAAAAAAGDT4kAAAAAA4KvZQAAAAAAgGM1AAAAAAEAd8UAAAAAAAGL7QAAAAADA9fdAAAAAAKA\\u002fxkAAAAAAAKW4QAAAAADA9fdAAAAAALAa50DLEMe6zk8DQQAAAABAHfFAyxDHus5PA0HLEMe6zk8DQQAAAACwGudAAAAAAEAd8UAAAAAAwPX3QAAAAABg0+JAAAAAALAa50AAAAAAQM7eQAAAAABg0+JAAAAAAOCr2UDLEMe6zk8DQQAAAABAHfFAAAAAAACluEAAAAAAQB3xQAAAAACAifRAAAAAAEAd8UAAAAAAQB3xQAAAAADA9fdAAAAAAACluEAAAAAAYNPiQAAAAAAA6JVAyxDHus5PA0EAAAAAQB3xQAAAAACwGudAAAAAAEAd8UAAAAAAAGL7QAAAAAAAYvtAAAAAAEAd8UAAAAAAAGL7QAAAAABAHfFAAAAAAEDOvkDLEMe6zk8DQcsQx7rOTwNBAAAAABA97EAAAAAAYNPiQAAAAACwGudAAAAAAEDO3kAAAAAAQB3xQAAAAAAQPexAAAAAALAa50AAAAAAED3sQAAAAACgP9ZAAAAAAEAd8UAAAAAAED3sQAAAAAAA6HVAAAAAAMD190AAAAAAAGL7QAAAAADgq9lAyxDHus5PA0HLEMe6zk8DQcsQx7rOTwNBAAAAAGDT4kAAAAAAED3sQAAAAADA9fdAAAAAAKA\\u002f1kAAAAAAoD\\u002fWQAAAAABAHfFAAAAAADBC0EAAAAAA4KvJQAAAAACwGudAAAAAALAa50AAAAAAsBrnQAAAAABg08JAAAAAALAa50AAAAAAQB3xQAAAAACwGudAAAAAAAClqEAAAAAAAKWoQAAAAAAQPexAAAAAAEDO3kAAAAAAQM6+QAAAAABg09JAAAAAAEDO3kAAAAAA4KvJQAAAAABg08JAAAAAAICJ9EAAAAAAsBrnQAAAAAAAH65AAAAAAAAro0AAAAAAQM7eQAAAAABg0+JAAAAAALAa50AAAAAAsBrnQAAAAACgP9ZAAAAAAEDO3kDLEMe6zk8DQQAAAAAAYvtAyxDHus5PA0EAAAAAwPX3QAAAAAAQPexAAAAAAGDTwkAAAAAAQM6+QAAAAADA9fdAAAAAABA97EAAAAAAwPX3QAAAAAAAYvtAAAAAAEAd8UAAAAAAgIn0QAAAAAAQPexAAAAAAICJ9EDLEMe6zk8DQQAAAAAA6HVAAAAAAEAd8UAAAAAA4KvJQAAAAABAHfFAAAAAALAa50AAAAAAQB3xQAAAAADA9fdAyxDHus5PA0EAAAAAED3sQMsQx7rOTwNBAAAAAICJ9EAAAAAAED3sQAAAAAAQPexAAAAAAEAd8UAAAAAAgIn0QAAAAAAQPexAAAAAAEAd8UAAAAAA4KvJQMsQx7rOTwNBAAAAACAYzUAAAAAAYNPCQAAAAACgP9ZAAAAAAKA\\u002f1kAAAAAAIBjNQAAAAAAAH65AAAAAAEDOvkAAAAAA4KvZQAAAAADA9fdAyxDHus5PA0EAAAAAsBrnQAAAAAAQPexAAAAAALAa50AAAAAAsBrnQAAAAACgP9ZAAAAAALAa50AAAAAAED3sQAAAAADgq9lAAAAAAGDT0kAAAAAAsBrnQAAAAABAzt5AAAAAAEAd8UDLEMe6zk8DQQAAAACgP9ZAAAAAAABi+0AAAAAAwPX3QAAAAAAQPexAAAAAAEDO3kAAAAAAoD\\u002fWQAAAAAAQPexAAAAAAIDMsUAAAAAAED3sQAAAAABAzt5AyxDHus5PA0EAAAAAYNPCQMsQx7rOTwNBAAAAAKA\\u002fxkAAAAAAYNPCQAAAAABAzr5AAAAAAMD190AAAAAAYNPiQAAAAABg0+JAAAAAALAa50AAAAAAAGL7QAAAAAAAYvtAAAAAAABi+0AAAAAAED3sQMsQx7rOTwNBAAAAAGDT4kAAAAAAQB3xQAAAAAAQPexAAAAAAMD190AAAAAAED3sQAAAAACwGudAAAAAAGDTwkAAAAAAsBrnQAAAAABAHfFAAAAAABA97EAAAAAAgIn0QMsQx7rOTwNBAAAAAKA\\u002f1kAAAAAAgIn0QMsQx7rOTwNBAAAAALAa50AAAAAAED3sQAAAAADA9fdAAAAAALAa50AAAAAAgIn0QAAAAAAAYvtAAAAAAEDO3kAAAAAAYNPiQAAAAAAwQtBAAAAAAICJ9EAAAAAAQM7eQAAAAABg0+JAAAAAAADolUAAAAAAAGL7QAAAAADA9fdAyxDHus5PA0EAAAAAsBrnQAAAAAAQPexAAAAAAMD190DLEMe6zk8DQcsQx7rOTwNBAAAAAICJ9EAAAAAAsBrnQAAAAABg0+JAAAAAADBC0EDLEMe6zk8DQQAAAACwGudAAAAAAEAd8UDLEMe6zk8DQQAAAACAifRAAAAAALAa50AAAAAAoD\\u002fWQAAAAABAHfFAAAAAAGDT4kAAAAAAwPX3QAAAAACwGudAAAAAADBC0EAAAAAAYNPiQAAAAABg09JAAAAAAGDTwkAAAAAAAOiVQAAAAAAwQtBAAAAAADBC0EAAAAAAED3sQAAAAACwGudAAAAAAOCr2UDLEMe6zk8DQQAAAABg0+JAAAAAAABi+0AAAAAAED3sQAAAAABAzt5AyxDHus5PA0HLEMe6zk8DQcsQx7rOTwNBAAAAAMD190DLEMe6zk8DQcsQx7rOTwNByxDHus5PA0EAAAAAED3sQAAAAAAApbhAAAAAAKA\\u002fxkAAAAAAoD\\u002fGQAAAAABAzt5AyxDHus5PA0EAAAAAMELQQMsQx7rOTwNBAAAAAICJ9EDLEMe6zk8DQQAAAACwGudAAAAAAGDTwkAAAAAAwPX3QAAAAAAQPexAAAAAAEAd8UAAAAAAED3sQAAAAABg0+JAAAAAAEDO3kDLEMe6zk8DQQAAAADA9fdAAAAAABA97EDLEMe6zk8DQcsQx7rOTwNByxDHus5PA0HLEMe6zk8DQcsQx7rOTwNBAAAAAICJ9EAAAAAAQB3xQAAAAABg0+JAyxDHus5PA0EAAAAAgIn0QAAAAADA9fdAAAAAAEAd8UAAAAAAQB3xQAAAAAAQPexAyxDHus5PA0EAAAAAsBrnQAAAAACwGudAAAAAAOCr2UAAAAAA4KvZQAAAAABg08JAAAAAAICJtEAAAAAAAGL7QMsQx7rOTwNBAAAAAGDT0kAAAAAAgIn0QAAAAABg0+JAAAAAAABi+0AAAAAAYNPSQAAAAAAApahAAAAAAEDO3kAAAAAAQM7eQAAAAACgP8ZAAAAAAACluEAAAAAAED3sQAAAAAAgGM1AAAAAAMD190DLEMe6zk8DQQAAAAAQPexAAAAAAEDO3kAAAAAAYNPiQAAAAABg0+JAAAAAADBC0EAAAAAAwPX3QAAAAACwGudAAAAAAEDO3kAAAAAAwPX3QAAAAAAAK6NAyxDHus5PA0HLEMe6zk8DQQAAAACAifRAAAAAAABi+0DLEMe6zk8DQQAAAACAifRAAAAAAOCr2UAAAAAAgIn0QMsQx7rOTwNByxDHus5PA0EAAAAA4KvZQAAAAAAwQtBAAAAAABA97EAAAAAAYNPiQAAAAABAHfFAAAAAAICJ9EAAAAAAoD\\u002fWQAAAAAAAYvtAAAAAAEAd8UAAAAAAYNPiQAAAAACwGudAyxDHus5PA0EAAAAAgIn0QAAAAACwGudAAAAAAGDT4kDLEMe6zk8DQQAAAAAQPexAAAAAAGDT0kAAAAAAgIn0QAAAAACgP9ZAAAAAAABi+0AAAAAAsBrnQMsQx7rOTwNBAAAAAICJ9EAAAAAAAGL7QMsQx7rOTwNBAAAAAKA\\u002f1kAAAAAA4KvZQAAAAACwGudAAAAAAICJ9EAAAAAAwPX3QAAAAAAApbhAAAAAAICJ9EAAAAAAQB3xQAAAAABAzt5AAAAAAICJ9EAAAAAAQB3xQAAAAAAQPexAAAAAAGDT4kAAAAAAQB3xQAAAAADA9fdAAAAAADBC0EAAAAAAsBrnQAAAAACgP9ZAAAAAAGDT4kDLEMe6zk8DQcsQx7rOTwNByxDHus5PA0HLEMe6zk8DQQAAAABAzt5AAAAAAKA\\u002fxkAAAAAAQM7eQAAAAAAAK6NAAAAAAKA\\u002f1kAAAAAAED3sQAAAAAAQPexAAAAAAEAd8UAAAAAAQB3xQAAAAABAHfFAAAAAAABi+0AAAAAAQM7eQAAAAADA9fdAAAAAAEAd8UDLEMe6zk8DQQAAAAAAYvtAAAAAALAa50AAAAAAYNPSQAAAAAAAYvtAyxDHus5PA0HLEMe6zk8DQQAAAACAifRAAAAAAKA\\u002f1kAAAAAAgIn0QAAAAABg0+JAAAAAABA97EAAAAAAsBrnQAAAAACAifRAAAAAAKA\\u002fxkDLEMe6zk8DQQAAAAAgGM1AAAAAAACluEAAAAAAsBrnQAAAAABg0+JAAAAAAAAro0AAAAAAYNPCQAAAAABAzt5AAAAAAICJ9EDLEMe6zk8DQQAAAAAwQtBAAAAAAADodUDLEMe6zk8DQQAAAABg0+JAAAAAALAa50AAAAAAQB3xQMsQx7rOTwNBAAAAAEAd8UDLEMe6zk8DQQAAAACAifRAAAAAAEDO3kAAAAAAIBjNQAAAAACgP8ZAAAAAAADodUAAAAAAQB3xQAAAAACwGudAyxDHus5PA0EAAAAAAGL7QAAAAAAQPexAAAAAALAa50AAAAAAsBrnQMsQx7rOTwNBAAAAADBC0EAAAAAAwPX3QAAAAAAAYvtAAAAAALAa50AAAAAAgIn0QAAAAACwGudAAAAAABA97EAAAAAAsBrnQAAAAABg0+JAAAAAAABi+0AAAAAAsBrnQMsQx7rOTwNBAAAAAKA\\u002f1kAAAAAAoD\\u002fWQAAAAACAifRAAAAAALAa50AAAAAAQM6+QAAAAACgP8ZAAAAAALAa50AAAAAA4KvJQAAAAACgP9ZAAAAAAKA\\u002fxkAAAAAAYNPiQAAAAABAzr5AAAAAAEDO3kAAAAAAMELQQAAAAAAQPexAAAAAAEDOvkAAAAAAQM7eQAAAAABg09JAAAAAAEAd8UAAAAAAQB3xQAAAAAAwQtBAAAAAALAa50AAAAAAsBrnQAAAAAAwQtBAAAAAAEAd8UAAAAAAQM7eQMsQx7rOTwNByxDHus5PA0EAAAAAoD\\u002fGQAAAAABg09JAAAAAAEAd8UAAAAAAsBrnQAAAAAAApbhAyxDHus5PA0EAAAAA4KvZQAAAAABg09JAAAAAALAa50AAAAAAgMyxQAAAAACgP8ZAAAAAAKA\\u002f1kAAAAAAgIn0QAAAAACwGudAAAAAAAAfrkAAAAAAIBjNQAAAAAAApbhAAAAAAAClqEAAAAAA4KvJQAAAAACgP9ZAyxDHus5PA0EAAAAAgIn0QAAAAABAHfFAAAAAABA97EAAAAAAgIn0QAAAAADgq9lAAAAAAGDT4kAAAAAA4KvJQAAAAADgq9lAAAAAAOCr2UAAAAAAED3sQAAAAABAzr5AAAAAALAa50AAAAAAYNPCQAAAAADgq9lAAAAAAICJ9EAAAAAAQB3xQAAAAACwGudAyxDHus5PA0EAAAAAYNPiQAAAAABg08JAAAAAAICJ9EDLEMe6zk8DQQAAAADgq8lAAAAAACAYzUAAAAAAQM6+QAAAAAAApahAAAAAAGDT4kAAAAAAoD\\u002fWQAAAAABg08JAAAAAAKA\\u002f1kAAAAAAQM7eQAAAAAAQPexAAAAAABA97EAAAAAAoD\\u002fWQAAAAACgP8ZAAAAAAGDT4kAAAAAAYNPiQAAAAABAHfFAAAAAALAa50AAAAAAQB3xQAAAAABAHfFAyxDHus5PA0EAAAAAAGL7QAAAAABAHfFAAAAAALAa50DLEMe6zk8DQQAAAAAwQtBAAAAAAAClqEAAAAAAYNPiQAAAAACwGudAAAAAAGDT4kAAAAAAQM6+QAAAAADgq9lAAAAAAOCr2UAAAAAAED3sQAAAAACwGudAAAAAAABi+0AAAAAAwPX3QAAAAACgP8ZAAAAAAACluEAAAAAAAOiVQAAAAABAzt5AAAAAADBC0EAAAAAAQM7eQAAAAACgP9ZAAAAAAEDO3kAAAAAAoD\\u002fWQAAAAABAzr5AAAAAAEAd8UAAAAAAACujQAAAAABg0+JAAAAAAKA\\u002f1kAAAAAAYNPSQAAAAABAHfFAAAAAABA97EAAAAAAAGL7QAAAAAAQPexAAAAAAKA\\u002f1kAAAAAAQM6+QAAAAADgq9lAAAAAAICJtEAAAAAAQM7eQMsQx7rOTwNBAAAAAABi+0DLEMe6zk8DQcsQx7rOTwNBAAAAAABi+0AAAAAAED3sQAAAAAAAYvtAyxDHus5PA0EAAAAAwPX3QAAAAACAibRAAAAAACAYzUAAAAAAAGL7QAAAAAAgGM1AAAAAAGDT4kAAAAAAoD\\u002fWQAAAAABg0+JAAAAAAKA\\u002fxkAAAAAAsBrnQAAAAACAifRAAAAAAEAd8UAAAAAAED3sQAAAAADA9fdAAAAAAMD190DLEMe6zk8DQQAAAAAwQtBAAAAAAEDO3kAAAAAAYNPiQAAAAACgP9ZAAAAAAGDT4kAAAAAAsBrnQAAAAABAzt5AAAAAAKA\\u002fxkAAAAAAoD\\u002fGQAAAAACwGudAAAAAALAa50AAAAAAQB3xQAAAAACAifRAAAAAAGDTwkAAAAAAsBrnQAAAAACgP9ZAAAAAAEAd8UAAAAAAgIn0QAAAAACwGudAAAAAAGDT4kAAAAAAED3sQMsQx7rOTwNBAAAAAMD190AAAAAAED3sQMsQx7rOTwNByxDHus5PA0HLEMe6zk8DQQAAAACwGudAAAAAAGDT4kAAAAAAoD\\u002fWQAAAAACAifRAAAAAAMD190AAAAAAYNPCQAAAAABg08JAAAAAAEAd8UAAAAAA4KvZQAAAAADgq9lAAAAAAABi+0AAAAAAED3sQAAAAACgP8ZAAAAAAEAd8UAAAAAAoD\\u002fWQAAAAACgP9ZAAAAAAOCryUAAAAAAED3sQAAAAACwGudAAAAAABA97EAAAAAAYNPiQAAAAADA9fdAAAAAALAa50AAAAAAQM6+QMsQx7rOTwNBAAAAAOCr2UAAAAAAYNPiQAAAAABg0+JAAAAAADBC0EAAAAAAYNPSQAAAAADgq9lAAAAAAEDO3kAAAAAA4KvZQAAAAAAwQtBAAAAAACAYzUAAAAAAsBrnQAAAAAAQPexAAAAAAADolUDLEMe6zk8DQQAAAAAQPexAAAAAAGDT0kAAAAAAYNPCQAAAAABAzt5AAAAAAOCr2UAAAAAAsBrnQAAAAABg0+JAAAAAAICJtEAAAAAAIBjNQAAAAABAzr5AAAAAAICJtEAAAAAAQM7eQAAAAABAHfFAAAAAAGDT4kAAAAAAQB3xQAAAAACAzLFAAAAAALAa50AAAAAAsBrnQMsQx7rOTwNBAAAAABA97EAAAAAAED3sQMsQx7rOTwNBAAAAAEDO3kAAAAAAYNPSQMsQx7rOTwNBAAAAAABi+0DLEMe6zk8DQcsQx7rOTwNBAAAAAGDT4kAAAAAAsBrnQAAAAACgP9ZAAAAAALAa50AAAAAAIBjNQAAAAAAQPexAAAAAALAa50AAAAAAoD\\u002fWQAAAAAAQPexAAAAAALAa50AAAAAAgIn0QAAAAABg0+JAAAAAAGDTwkAAAAAAED3sQAAAAACwGudAAAAAAICJ9EAAAAAAYNPiQAAAAAAQPexAyxDHus5PA0EAAAAAAOh1QAAAAABAzt5AAAAAAEAd8UAAAAAAQM7eQAAAAAAAYvtAAAAAAADolUAAAAAAQM7eQAAAAACwGudAAAAAAEDO3kAAAAAAAOh1QAAAAABAzr5AyxDHus5PA0EAAAAAYNPiQMsQx7rOTwNByxDHus5PA0EAAAAAgIn0QAAAAAAQPexAAAAAAEDOvkAAAAAAQB3xQAAAAAAQPexAAAAAALAa50AAAAAAMELQQAAAAABg0+JAAAAAAMD190AAAAAAIBjNQAAAAACAifRAAAAAACAYzUAAAAAAQM6+QAAAAACgP9ZAAAAAAKA\\u002fxkAAAAAAoD\\u002fWQAAAAABAzr5AAAAAAOCr2UAAAAAAYNPSQAAAAACwGudAAAAAAKA\\u002f1kAAAAAAQB3xQAAAAADgq9lAAAAAAGDT4kAAAAAAoD\\u002fWQAAAAACgP9ZAAAAAAGDTwkAAAAAAAOh1QAAAAAAAH65AAAAAAKA\\u002f1kAAAAAA4KvZQAAAAABg09JAAAAAADBC0EAAAAAAYNPiQAAAAABg0+JAAAAAAGDT4kAAAAAAsBrnQAAAAADA9fdAAAAAAEAd8UAAAAAAsBrnQAAAAADgq9lAAAAAAOCr2UAAAAAAYNPSQAAAAADA9fdAAAAAAICJ9EAAAAAAQB3xQAAAAACgP9ZAAAAAAACluEAAAAAAgIn0QAAAAABAHfFAAAAAABA97EAAAAAAED3sQMsQx7rOTwNBAAAAABA97EAAAAAAgIn0QAAAAAAAYvtAAAAAAGDT4kAAAAAAYNPCQAAAAACwGudAAAAAAADodUAAAAAAIBjNQAAAAAAQPexAAAAAAOCr2UAAAAAAoD\\u002fWQAAAAABAzt5AAAAAAKA\\u002f1kAAAAAAYNPiQAAAAADgq8lAAAAAAGDTwkAAAAAAsBrnQAAAAAAQPexAAAAAAAAro0AAAAAAQM6+QAAAAABAzt5AAAAAAKA\\u002f1kAAAAAAoD\\u002fWQAAAAABAHfFAAAAAAKA\\u002f1kAAAAAAED3sQAAAAABg0+JAAAAAAOCryUAAAAAAYNPiQAAAAABAHfFAAAAAAGDT4kAAAAAAsBrnQAAAAAAQPexAAAAAAEDO3kAAAAAAMELQQAAAAABAzt5AAAAAAICJ9EAAAAAAgIn0QMsQx7rOTwNBAAAAAGDTwkAAAAAAgIn0QAAAAAAQPexAAAAAAICJ9EAAAAAAsBrnQAAAAAAAH65AAAAAAABi+0AAAAAAQB3xQAAAAABAHfFAyxDHus5PA0EAAAAAgIn0QAAAAAAQPexAAAAAAACluEAAAAAAED3sQAAAAABg0+JAAAAAAGDT4kAAAAAAQM7eQAAAAACgP8ZAAAAAAIDMsUAAAAAA4KvZQAAAAADgq8lAAAAAAOCr2UAAAAAAQB3xQAAAAABAHfFAAAAAALAa50AAAAAAMELQQMsQx7rOTwNBAAAAAGDT4kAAAAAAAGL7QAAAAABAzt5AyxDHus5PA0EAAAAAYNPSQAAAAABg09JAAAAAAEAd8UAAAAAAgIn0QAAAAABAHfFAAAAAALAa50DLEMe6zk8DQQAAAABAzt5AAAAAAKA\\u002f1kAAAAAA4KvJQAAAAABAzt5AAAAAAEDO3kAAAAAAoD\\u002fGQAAAAAAApbhAyxDHus5PA0EAAAAAgIn0QMsQx7rOTwNBAAAAALAa50AAAAAAQM7eQAAAAABg0+JAyxDHus5PA0EAAAAAIBjNQAAAAACwGudAAAAAAOCr2UAAAAAAQM6+QAAAAABAzt5AAAAAAGDT0kAAAAAAED3sQAAAAACAifRAyxDHus5PA0EAAAAAAGL7QAAAAABAHfFAAAAAACAYzUAAAAAAQM7eQAAAAAAwQtBAAAAAAGDT4kAAAAAAYNPSQAAAAABAzr5AAAAAAGDTwkAAAAAAYNPSQAAAAAAwQtBAAAAAAEDOvkAAAAAA4KvZQAAAAABAzr5AAAAAAKA\\u002f1kAAAAAAoD\\u002fWQAAAAAAwQtBAAAAAAGDT4kAAAAAA4KvZQAAAAACAzLFAAAAAAGDT4kAAAAAAsBrnQAAAAAAgGM1AAAAAALAa50AAAAAAgIm0QAAAAACwGudAAAAAAGDT4kAAAAAAoD\\u002fWQAAAAACwGudAAAAAADBC0EAAAAAAAOiVQAAAAADgq8lAAAAAABA97EAAAAAAAGL7QAAAAADgq8lAAAAAAMD190AAAAAAAOh1QAAAAADgq9lAAAAAAICJ9EAAAAAAoD\\u002fWQAAAAABAzt5AAAAAAGDT0kAAAAAA4KvZQAAAAACwGudAAAAAALAa50AAAAAAMELQQAAAAAAQPexAAAAAAICJ9EAAAAAAgIn0QAAAAADA9fdAAAAAAOCr2UDLEMe6zk8DQQAAAACwGudAAAAAAMD190AAAAAAoD\\u002fWQAAAAABAzt5AAAAAAGDT0kAAAAAAoD\\u002fWQAAAAAAgGM1AAAAAACAYzUAAAAAAQM7eQAAAAABg0+JAAAAAAMD190AAAAAAsBrnQAAAAACgP9ZAAAAAACAYzUAAAAAAQB3xQAAAAADgq9lAAAAAAEDO3kAAAAAAYNPSQMsQx7rOTwNBAAAAAGDT0kAAAAAAAOh1QAAAAABg09JAAAAAAEDOvkAAAAAA4KvZQAAAAACgP9ZAAAAAAKA\\u002f1kAAAAAAoD\\u002fWQAAAAADgq8lAAAAAAGDT4kAAAAAAAKWoQAAAAACwGudAAAAAADBC0EAAAAAAED3sQMsQx7rOTwNBAAAAAGDTwkDLEMe6zk8DQQAAAAAQPexAAAAAAGDT4kAAAAAAgIn0QAAAAABAzt5AAAAAADBC0EDLEMe6zk8DQQAAAABg09JAAAAAAOCr2UAAAAAAIBjNQAAAAADgq9lAAAAAALAa50AAAAAAYNPSQAAAAABg0+JAAAAAACAYzUAAAAAAYNPCQAAAAABAHfFAAAAAAICJ9EAAAAAAwPX3QAAAAAAwQtBAAAAAAEAd8UAAAAAAQB3xQAAAAABAHfFAAAAAAICJ9EAAAAAAoD\\u002fWQAAAAACAifRAyxDHus5PA0HLEMe6zk8DQQAAAACAifRAyxDHus5PA0HLEMe6zk8DQQAAAAAQPexAAAAAAEDO3kDLEMe6zk8DQQAAAABg0+JAAAAAAEDO3kAAAAAAYNPiQAAAAADA9fdAAAAAAOCr2UDLEMe6zk8DQQAAAACwGudAAAAAALAa50AAAAAAoD\\u002fWQAAAAAAAK6NAAAAAAMD190AAAAAAYNPSQMsQx7rOTwNBAAAAAKA\\u002f1kAAAAAAwPX3QAAAAAAAYvtAyxDHus5PA0EAAAAA4KvZQAAAAAAQPexAAAAAAABi+0AAAAAAAGL7QAAAAACAifRAyxDHus5PA0EAAAAAED3sQAAAAACAifRAAAAAAEDO3kAAAAAAwPX3QAAAAACgP8ZAAAAAAKA\\u002f1kAAAAAAoD\\u002fWQAAAAACwGudAAAAAAEDO3kAAAAAAYNPCQAAAAACgP9ZAAAAAAKA\\u002f1kAAAAAAAOiVQAAAAABAzr5AAAAAAGDTwkAAAAAAAOh1QAAAAAAQPexAAAAAAGDT0kAAAAAAQB3xQAAAAAAAK6NAAAAAAOCr2UAAAAAAYNPiQAAAAABAzt5AAAAAAGDT4kAAAAAAAB+uQMsQx7rOTwNBAAAAALAa50AAAAAAQM7eQAAAAAAgGM1AAAAAAICJ9EAAAAAAQB3xQAAAAAAQPexAAAAAAKA\\u002f1kAAAAAAoD\\u002fWQAAAAADgq9lAAAAAAOCr2UAAAAAA4KvZQAAAAABg0+JAAAAAAEDO3kAAAAAAQM7eQAAAAACwGudAAAAAAABi+0AAAAAAYNPiQAAAAACAifRAAAAAAGDTwkDLEMe6zk8DQQAAAACAifRAAAAAAKA\\u002f1kAAAAAAMELQQAAAAACwGudAAAAAADBC0EAAAAAAsBrnQAAAAABg0+JAAAAAACAYzUAAAAAAAKW4QAAAAABAzt5AAAAAAEAd8UAAAAAAsBrnQAAAAACAifRAAAAAAEDO3kAAAAAAQM7eQAAAAAAAYvtAAAAAAGDT4kAAAAAAYNPSQAAAAACwGudAAAAAABA97EAAAAAAQB3xQAAAAABAzt5AAAAAAOCr2UAAAAAAYNPCQAAAAABAzt5AAAAAAEDOvkAAAAAAAOh1QAAAAADgq8lAAAAAAEDOvkAAAAAAMELQQAAAAABg0+JAAAAAAACluEAAAAAAMELQQAAAAABAzt5AAAAAAKA\\u002fxkAAAAAAAKWoQAAAAACAifRAAAAAAICJ9EAAAAAAgIn0QAAAAACwGudAAAAAAGDT4kAAAAAAACujQAAAAACwGudAAAAAAEDO3kDLEMe6zk8DQcsQx7rOTwNBAAAAAGDT4kAAAAAAQM7eQAAAAABAHfFAAAAAAEDO3kAAAAAAQM6+QAAAAAAA6JVAAAAAAEDOvkAAAAAAoD\\u002fWQAAAAAAAK6NAAAAAAADodUAAAAAAED3sQAAAAACAifRAAAAAADBC0EAAAAAAwPX3QAAAAABg0+JAAAAAAGDT4kAAAAAAsBrnQAAAAABAzr5AAAAAAEAd8UAAAAAA4KvZQAAAAABAzt5AAAAAAOCryUAAAAAAYNPCQAAAAABAzt5AyxDHus5PA0EAAAAAsBrnQAAAAACAifRAAAAAAICJ9EAAAAAAAOiVQAAAAACwGudAAAAAAEAd8UAAAAAAED3sQAAAAAAAYvtAAAAAAEDOvkAAAAAAMELQQAAAAACAibRAAAAAAGDT4kAAAAAAsBrnQAAAAABg0+JAAAAAAEAd8UAAAAAAYNPCQAAAAACgP9ZAAAAAALAa50AAAAAAQB3xQAAAAACAifRAAAAAAKA\\u002fxkAAAAAAED3sQAAAAAAAYvtAAAAAAEDO3kAAAAAAoD\\u002fGQAAAAACwGudAAAAAAADodUAAAAAAMELQQAAAAACwGudAAAAAAICJ9EAAAAAAAGL7QAAAAAAQPexAAAAAAEDO3kAAAAAAQM7eQAAAAAAQPexAAAAAABA97EAAAAAAoD\\u002fWQAAAAABAzt5AAAAAADBC0EAAAAAAAOiVQAAAAABg09JAyxDHus5PA0EAAAAAsBrnQAAAAAAA6JVAAAAAAGDT4kAAAAAAsBrnQAAAAACgP9ZAAAAAACAYzUAAAAAAoD\\u002fWQAAAAABg08JAAAAAALAa50AAAAAAAGL7QAAAAABAHfFAAAAAAICJ9EAAAAAAsBrnQAAAAAAQPexAAAAAAEDO3kAAAAAAsBrnQAAAAABg09JAAAAAALAa50AAAAAAED3sQAAAAABg08JAAAAAALAa50AAAAAAED3sQMsQx7rOTwNBAAAAAGDT4kAAAAAAIBjNQAAAAACgP8ZAAAAAALAa50AAAAAAQB3xQAAAAABg0+JAAAAAAEAd8UAAAAAAYNPiQAAAAADA9fdAAAAAAGDT4kAAAAAA4KvZQAAAAABAzr5AAAAAAEDO3kAAAAAAYNPSQAAAAAAwQtBAAAAAALAa50AAAAAAsBrnQAAAAADgq9lAAAAAABA97EAAAAAAYNPCQAAAAABg0+JAAAAAADBC0EAAAAAAsBrnQAAAAABAzt5AAAAAAEDO3kAAAAAAIBjNQAAAAACwGudAAAAAAEDOvkAAAAAA4KvZQAAAAACwGudAAAAAAAAro0AAAAAAAKW4QAAAAABAzt5AAAAAAICJ9EAAAAAAYNPCQAAAAABAzt5AAAAAAMD190AAAAAAQB3xQAAAAABg09JAAAAAAGDT4kAAAAAA4KvZQAAAAADgq9lAAAAAABA97EAAAAAAsBrnQAAAAABAzt5AAAAAAKA\\u002f1kAAAAAAoD\\u002fWQAAAAAAgGM1AAAAAACAYzUAAAAAA4KvJQAAAAABAzt5AAAAAAKA\\u002f1kAAAAAAIBjNQMsQx7rOTwNBAAAAAEDOvkAAAAAAoD\\u002fWQAAAAABg08JAAAAAACAYzUAAAAAAQB3xQAAAAACwGudAAAAAALAa50AAAAAAsBrnQAAAAABAzr5AAAAAAGDT0kAAAAAAED3sQAAAAAAA6HVAAAAAAABi+0AAAAAAAOh1QAAAAABAzr5AAAAAADBC0EAAAAAAgIn0QAAAAACwGudAAAAAAGDT4kDLEMe6zk8DQQAAAACAibRAAAAAABA97EAAAAAA4KvZQAAAAACgP9ZAAAAAAOCr2UAAAAAAYNPiQAAAAABAzr5AAAAAACAYzUAAAAAA4KvJQAAAAAAQPexAAAAAAEDO3kAAAAAAoD\\u002fWQAAAAABg0+JAyxDHus5PA0HLEMe6zk8DQcsQx7rOTwNBAAAAAABi+0DLEMe6zk8DQcsQx7rOTwNBAAAAAICJ9EDLEMe6zk8DQcsQx7rOTwNBAAAAAEDOvkAAAAAAAKW4QAAAAABg09JAAAAAAEDO3kAAAAAAQM6+QAAAAADgq9lAAAAAAGDT0kAAAAAAMELQQAAAAAAwQtBAAAAAAICJ9EAAAAAAYNPSQAAAAABg0+JAAAAAAOCr2UAAAAAAQM7eQAAAAABg09JAAAAAAKA\\u002fxkAAAAAAYNPSQAAAAADgq8lAAAAAAEDO3kAAAAAAIBjNQAAAAABAzt5AAAAAAKA\\u002f1kAAAAAAYNPSQAAAAAAwQtBAAAAAALAa50AAAAAAsBrnQAAAAABAHfFAAAAAAGDTwkAAAAAAACujQAAAAADgq9lAAAAAALAa50AAAAAAQB3xQAAAAAAApbhAAAAAAOCr2UAAAAAAYNPCQAAAAAAA6HVAAAAAACAYzUAAAAAAsBrnQAAAAACAifRAAAAAAGDT4kAAAAAAQM6+QAAAAAAA6HVAAAAAAOCryUAAAAAAAGL7QAAAAACwGudAAAAAAICJ9EAAAAAAgIm0QAAAAACwGudAAAAAAEAd8UAAAAAAACujQAAAAACwGudAAAAAAGDT4kAAAAAA4KvZQAAAAADgq9lAAAAAAEDOvkAAAAAAYNPiQMsQx7rOTwNByxDHus5PA0EAAAAAQB3xQAAAAABAHfFAAAAAAOCryUAAAAAAED3sQAAAAADA9fdAAAAAALAa50AAAAAAQB3xQAAAAACwGudAAAAAAEDO3kAAAAAAYNPiQAAAAAAQPexAAAAAAGDTwkAAAAAAQM7eQAAAAABAzr5AAAAAAGDT4kAAAAAAMELQQAAAAACgP8ZAAAAAAGDTwkAAAAAAsBrnQAAAAABAzt5AAAAAAGDT4kAAAAAAED3sQAAAAABg0+JAAAAAAGDT4kAAAAAAwPX3QAAAAABg0+JAAAAAAOCryUAAAAAAQB3xQAAAAAAApahAAAAAAICJ9EAAAAAA4KvZQAAAAACwGudAAAAAAOCryUAAAAAAYNPCQAAAAACwGudAyxDHus5PA0EAAAAAsBrnQAAAAACgP8ZAAAAAAEDOvkAAAAAAYNPCQAAAAADgq9lAAAAAADBC0EAAAAAAMELQQAAAAAAApbhAAAAAAOCr2UAAAAAAYNPiQAAAAADgq8lAAAAAALAa50AAAAAAYNPiQAAAAABg0+JAAAAAAICJ9EAAAAAAQB3xQAAAAAAgGM1AyxDHus5PA0HLEMe6zk8DQQAAAADA9fdAAAAAALAa50DLEMe6zk8DQQAAAABAHfFAAAAAACAYzUAAAAAAQM6+QAAAAABg0+JAAAAAAEDO3kAAAAAAoD\\u002fWQAAAAADgq9lAAAAAAEAd8UAAAAAAMELQQAAAAABg0+JAyxDHus5PA0EAAAAAQB3xQAAAAAAwQtBAAAAAAOCryUAAAAAAYNPSQAAAAABAzt5AAAAAALAa50AAAAAAsBrnQAAAAABAzt5AAAAAAEDOvkAAAAAAoD\\u002fWQAAAAABg0+JAAAAAAGDT0kAAAAAAsBrnQAAAAAAgGM1AAAAAADBC0EAAAAAAoD\\u002fWQAAAAACwGudAAAAAAMD190AAAAAAQM6+QAAAAABg0+JAAAAAAEDO3kAAAAAAYNPiQAAAAAAwQtBAAAAAAOCryUAAAAAAgIn0QAAAAABAHfFAAAAAAEDO3kAAAAAAAKW4QAAAAACwGudAAAAAAGDTwkAAAAAAAGL7QAAAAACwGudAAAAAAGDT4kAAAAAAED3sQAAAAACwGudAAAAAAICJ9EAAAAAAgIn0QAAAAABg09JAAAAAAOCr2UAAAAAAYNPiQAAAAADgq9lAAAAAAICJ9EAAAAAAwPX3QAAAAAAQPexAAAAAAOCr2UAAAAAAYNPiQAAAAAAQPexAAAAAALAa50AAAAAAsBrnQAAAAAAA6HVAAAAAAKA\\u002fxkAAAAAAYNPiQAAAAACwGudAAAAAAADolUAAAAAAAKW4QAAAAAAAK6NAAAAAAGDTwkAAAAAAYNPiQAAAAABg08JAAAAAABA97EAAAAAAQM7eQAAAAAAAK6NAAAAAAGDT0kAAAAAAgIn0QAAAAAAApbhAAAAAAGDT0kAAAAAAED3sQAAAAAAA6JVAAAAAAOCr2UAAAAAAAKWoQAAAAABg0+JAyxDHus5PA0EAAAAAAOiVQAAAAAAA6JVAAAAAAAAfrkAAAAAAYNPSQAAAAAAwQtBAAAAAAGDT0kAAAAAAsBrnQAAAAAAQPexAAAAAAEDO3kAAAAAAYNPiQAAAAABg0+JAAAAAADBC0EAAAAAAAKW4QAAAAABAzr5AAAAAAKA\\u002f1kAAAAAAQM7eQAAAAACwGudAAAAAALAa50AAAAAAED3sQAAAAACwGudAAAAAABA97EAAAAAAED3sQAAAAAAQPexAAAAAAEDO3kAAAAAAAOiVQAAAAABg08JAAAAAAGDT4kAAAAAAAOh1QAAAAADA9fdAAAAAAEDO3kAAAAAA4KvJQAAAAABg08JAAAAAAEDO3kAAAAAAIBjNQAAAAABAHfFAAAAAAGDT0kDLEMe6zk8DQQAAAADA9fdAAAAAAEAd8UAAAAAAED3sQAAAAAAQPexAAAAAADBC0EAAAAAAsBrnQAAAAAAA6JVAAAAAAABi+0AAAAAAAGL7QAAAAAAQPexAyxDHus5PA0EAAAAAYNPiQAAAAABg0+JAAAAAAGDT4kAAAAAAoD\\u002fWQAAAAABAzt5AAAAAAEAd8UAAAAAAAGL7QAAAAABAHfFAAAAAAOCr2UAAAAAAIBjNQAAAAABAzt5AAAAAAOCr2UDLEMe6zk8DQQAAAABAzt5AAAAAAGDT0kAAAAAAYNPiQAAAAABAzt5AAAAAAICJ9EAAAAAAYNPSQAAAAABg09JAAAAAACAYzUAAAAAAAGL7QAAAAAAQPexAAAAAAICJ9EAAAAAAgIn0QAAAAACwGudAAAAAALAa50AAAAAAQB3xQAAAAABg0+JAAAAAALAa50AAAAAAsBrnQAAAAAAApbhAAAAAAICJ9EAAAAAAED3sQAAAAAAQPexAAAAAAKA\\u002f1kAAAAAAQM7eQAAAAABAzt5AAAAAAICJ9EAAAAAAwPX3QAAAAABAHfFAAAAAABA97EAAAAAAsBrnQAAAAAAgGM1AAAAAAICJ9EAAAAAAAGL7QAAAAACwGudAAAAAAICJ9EAAAAAA4KvZQAAAAACwGudAAAAAAACluEAAAAAAoD\\u002fWQAAAAADgq9lAAAAAAEAd8UAAAAAAoD\\u002fGQAAAAABAzr5AAAAAAKA\\u002fxkAAAAAAAGL7QAAAAAAgGM1AAAAAAABi+0AAAAAAgIn0QAAAAABg09JAAAAAAMD190AAAAAAoD\\u002fWQAAAAACwGudAAAAAAGDT4kAAAAAAoD\\u002fGQAAAAABAzr5AAAAAACAYzUAAAAAAIBjNQAAAAAAQPexAAAAAAOCr2UAAAAAAoD\\u002fWQAAAAADgq8lAAAAAAICJ9EAAAAAAgMyxQAAAAAAwQtBAAAAAAEDO3kAAAAAAQM6+QAAAAABAzt5AAAAAAGDT0kAAAAAAQM7eQAAAAAAApbhAAAAAAOCr2UAAAAAAACujQAAAAABg09JAAAAAAEAd8UAAAAAAYNPiQMsQx7rOTwNBAAAAAEDO3kAAAAAAsBrnQAAAAAAgGM1AAAAAAGDT4kAAAAAAgIm0QAAAAAAA6JVAAAAAABA97EAAAAAAwPX3QAAAAABg0+JAAAAAAEDO3kAAAAAAAKWoQAAAAACwGudAAAAAALAa50AAAAAAQM7eQAAAAAAAYvtAAAAAAEDO3kAAAAAAYNPSQAAAAABAzt5AAAAAABA97EAAAAAAoD\\u002fWQAAAAABg08JAAAAAAGDT4kAAAAAAQM7eQAAAAAAAH65AAAAAAGDTwkAAAAAAgIm0QAAAAACgP9ZAAAAAAIDMsUAAAAAAED3sQAAAAACwGudAAAAAAICJ9EAAAAAAgIn0QAAAAABAHfFAAAAAAOCr2UAAAAAAoD\\u002fWQAAAAABAzt5AAAAAADBC0EAAAAAAAOiVQAAAAABAzr5AAAAAADBC0EAAAAAAsBrnQAAAAABg09JAAAAAAMD190AAAAAAAKWoQAAAAAAQPexAAAAAAACluEAAAAAAAGL7QAAAAAAQPexAAAAAAEDOvkAAAAAAsBrnQAAAAACAifRAAAAAAOCr2UAAAAAAwPX3QAAAAABAHfFAyxDHus5PA0EAAAAAED3sQAAAAABg0+JAAAAAAEAd8UAAAAAA4KvJQAAAAAAAYvtAAAAAAEDO3kAAAAAAYNPiQAAAAACwGudAAAAAALAa50AAAAAAED3sQAAAAABAzt5AAAAAABA97EAAAAAAED3sQAAAAABAzt5AAAAAAGDT4kAAAAAAgIn0QAAAAACAifRAAAAAAOCr2UAAAAAAoD\\u002fGQMsQx7rOTwNBAAAAAICJ9EAAAAAAAGL7QAAAAADA9fdAAAAAALAa50AAAAAAED3sQAAAAADA9fdAyxDHus5PA0EAAAAAAOiVQAAAAABg08JAAAAAAKA\\u002f1kAAAAAAQB3xQAAAAABAzr5AAAAAAGDT4kAAAAAAYNPCQAAAAABg0+JAAAAAAGDT4kAAAAAAsBrnQAAAAADgq9lAAAAAAKA\\u002fxkAAAAAAQB3xQAAAAACgP9ZAAAAAAOCr2UAAAAAAED3sQAAAAABAzt5AAAAAALAa50AAAAAAMELQQAAAAAAgGM1AAAAAACAYzUAAAAAAgIn0QAAAAAAQPexAAAAAAKA\\u002fxkAAAAAAYNPiQAAAAAAQPexAAAAAAKA\\u002f1kAAAAAAQM7eQAAAAAAApbhAAAAAAGDT0kAAAAAAQM6+QAAAAAAA6JVAAAAAABA97EAAAAAAQM7eQAAAAABg09JAAAAAAGDTwkAAAAAAAB+uQAAAAAAwQtBAAAAAAGDT4kAAAAAAAKW4QAAAAAAAH65AAAAAAOCr2UAAAAAAQM6+QAAAAABAHfFAAAAAAGDT4kAAAAAAYNPiQAAAAADgq9lAAAAAAGDT0kAAAAAAYNPCQAAAAABAzt5AyxDHus5PA0EAAAAAgIn0QAAAAABg0+JAAAAAAGDT4kAAAAAAQM6+QAAAAACwGudAAAAAAAAfrkAAAAAAAKW4QAAAAAAA6HVAAAAAAICJ9EAAAAAA4KvJQAAAAABAzt5AAAAAACAYzUAAAAAAED3sQAAAAACwGudAyxDHus5PA0EAAAAAgIn0QAAAAACgP9ZAAAAAABA97EAAAAAAQM7eQAAAAABAHfFAyxDHus5PA0EAAAAAsBrnQAAAAABAzt5AAAAAAABi+0AAAAAAIBjNQAAAAAAApbhAAAAAABA97EAAAAAAQM7eQAAAAABg0+JAAAAAAKA\\u002f1kAAAAAAQB3xQAAAAACgP9ZAAAAAAGDT0kAAAAAAoD\\u002fWQAAAAAAgGM1AyxDHus5PA0HLEMe6zk8DQcsQx7rOTwNBAAAAAKA\\u002f1kAAAAAAYNPiQAAAAACgP8ZAAAAAAGDT4kAAAAAAgIn0QAAAAABg08JAAAAAALAa50AAAAAAQM7eQAAAAABAzt5AAAAAAGDTwkAAAAAAsBrnQAAAAABAHfFAAAAAAGDT0kAAAAAAYNPSQAAAAACgP8ZAAAAAAEDO3kAAAAAAQM7eQAAAAAAgGM1AAAAAAOCr2UAAAAAAYNPiQAAAAABg0+JAAAAAALAa50AAAAAAACujQAAAAAAApahAAAAAACAYzUAAAAAAYNPiQAAAAABg08JAAAAAAOCryUAAAAAAIBjNQAAAAAAgGM1AAAAAADBC0EAAAAAAoD\\u002fWQAAAAABg0+JAAAAAABA97EAAAAAAYNPSQAAAAABAzr5AAAAAAGDT4kAAAAAAYNPiQAAAAABAHfFAAAAAAGDT0kAAAAAAYNPiQAAAAACwGudAAAAAAOCryUAAAAAAoD\\u002fWQAAAAABg08JAAAAAAEAd8UAAAAAAwPX3QAAAAADA9fdAAAAAAMD190AAAAAAQB3xQAAAAACgP8ZAyxDHus5PA0EAAAAAoD\\u002fWQMsQx7rOTwNBAAAAAMD190AAAAAAsBrnQAAAAABAzt5AAAAAAICJ9EAAAAAAYNPiQAAAAACwGudAAAAAAABi+0DLEMe6zk8DQQAAAABg0+JAAAAAAGDTwkAAAAAAYNPCQAAAAABg08JAAAAAADBC0EAAAAAAYNPiQAAAAABg08JAAAAAAGDTwkAAAAAAQM6+QAAAAAAQPexAAAAAAEDO3kAAAAAAMELQQAAAAADgq9lAAAAAAGDT0kAAAAAAYNPiQAAAAAAwQtBAAAAAAGDT4kAAAAAAYNPiQAAAAABg09JAAAAAAEDO3kAAAAAAwPX3QAAAAAAgGM1AAAAAAEAd8UAAAAAAsBrnQAAAAABAzt5AAAAAAKA\\u002fxkAAAAAAQB3xQAAAAAAQPexAAAAAACAYzUAAAAAAQM7eQAAAAACwGudAAAAAAEDO3kAAAAAAAKW4QAAAAADA9fdAAAAAADBC0EAAAAAAsBrnQAAAAACAifRAAAAAAKA\\u002f1kAAAAAAYNPiQAAAAABg09JAAAAAABA97EAAAAAAYNPSQAAAAACgP9ZAyxDHus5PA0EAAAAAAOh1QAAAAABAzt5AAAAAABA97EAAAAAAED3sQAAAAACwGudAAAAAADBC0EAAAAAAYNPSQAAAAABAzr5AAAAAAGDT4kAAAAAAsBrnQAAAAABAHfFAAAAAAGDT4kAAAAAAgIn0QMsQx7rOTwNBAAAAAEAd8UAAAAAAsBrnQAAAAABAzt5AAAAAAOCryUAAAAAAYNPCQAAAAAAgGM1AAAAAACAYzUAAAAAAYNPSQAAAAADgq9lAAAAAAIDMsUAAAAAAwPX3QAAAAAAQPexAAAAAAKA\\u002f1kAAAAAAIBjNQAAAAABAzt5AAAAAAICJ9EAAAAAAED3sQAAAAAAQPexAAAAAABA97EAAAAAAQB3xQAAAAABg08JAAAAAAAAfrkAAAAAAQM6+QAAAAABAHfFAAAAAAGDT4kAAAAAA4KvZQAAAAABAzr5AAAAAADBC0EAAAAAAsBrnQAAAAABg09JAAAAAAKA\\u002fxkAAAAAAED3sQAAAAAAAYvtAAAAAAMD190AAAAAAAKW4QAAAAAAQPexAAAAAAKA\\u002f1kAAAAAAED3sQAAAAAAQPexAAAAAAADodUAAAAAAAOh1QAAAAABAzt5AAAAAAMD190AAAAAAED3sQAAAAAAApbhAAAAAAEDO3kAAAAAAAOh1QAAAAAAA6JVAAAAAAGDTwkAAAAAAYNPiQAAAAAAwQtBAAAAAAOCr2UAAAAAAsBrnQAAAAADgq9lAAAAAAGDT0kAAAAAAYNPiQAAAAADgq9lAAAAAAGDT4kAAAAAAoD\\u002fGQAAAAAAA6HVAAAAAAGDT4kAAAAAAMELQQAAAAABg09JAAAAAAOCr2UAAAAAAQM6+QAAAAABAzt5AAAAAAADolUAAAAAAED3sQAAAAACwGudAAAAAACAYzUAAAAAAoD\\u002fWQAAAAACAifRAAAAAAGDT4kAAAAAAQM7eQAAAAABg0+JAAAAAAEAd8UAAAAAAYNPiQAAAAABg09JAAAAAADBC0EAAAAAA4KvZQAAAAABg08JAAAAAAADodUAAAAAA4KvZQAAAAACAifRAAAAAADBC0EAAAAAAAB+uQAAAAAAAK6NAAAAAAADodUAAAAAAAOh1QAAAAACgP8ZAAAAAAGDT0kAAAAAAAKW4QAAAAAAQPexAAAAAAEDO3kAAAAAAED3sQAAAAAAApbhAAAAAAABi+0AAAAAAQB3xQAAAAAAA6HVAAAAAADBC0EAAAAAAMELQQAAAAABg0+JAAAAAAEDO3kAAAAAAAOh1QAAAAABAzr5AAAAAABA97EAAAAAAMELQQAAAAAAQPexAAAAAAEDO3kAAAAAAYNPCQAAAAAAA6HVAAAAAAEDOvkAAAAAAQM6+QAAAAACAzLFAAAAAAEDOvkAAAAAAQM6+QAAAAAAA6JVAAAAAAGDTwkAAAAAAYNPSQAAAAAAApbhAAAAAAAAro0AAAAAAAKWoQAAAAABAzr5AAAAAADBC0EAAAAAAAKW4QAAAAAAApbhAAAAAABA97EAAAAAAsBrnQAAAAACwGudAAAAAACAYzUAAAAAAAOh1QAAAAABg0+JAAAAAAMD190AAAAAAoD\\u002fWQAAAAABg0+JAAAAAAICJtEAAAAAA4KvZQAAAAACAifRAAAAAABA97EAAAAAAYNPiQAAAAABAzt5AAAAAABA97EAAAAAAQB3xQAAAAACwGudAAAAAAEAd8UAAAAAAED3sQAAAAAAA6JVAAAAAAEAd8UAAAAAAYNPiQAAAAACAifRAAAAAACAYzUDLEMe6zk8DQQAAAAAAYvtAAAAAAOCr2UAAAAAAQB3xQAAAAADgq9lAAAAAAOCryUAAAAAAYNPiQAAAAAAApbhAAAAAAKA\\u002fxkAAAAAAoD\\u002fWQAAAAABAHfFAAAAAAGDT4kA=\"},\"y0\":\" \",\"yaxis\":\"y\",\"type\":\"box\"}],                        {\"template\":{\"data\":{\"histogram2dcontour\":[{\"type\":\"histogram2dcontour\",\"colorbar\":{\"outlinewidth\":0,\"ticks\":\"\"},\"colorscale\":[[0.0,\"#0d0887\"],[0.1111111111111111,\"#46039f\"],[0.2222222222222222,\"#7201a8\"],[0.3333333333333333,\"#9c179e\"],[0.4444444444444444,\"#bd3786\"],[0.5555555555555556,\"#d8576b\"],[0.6666666666666666,\"#ed7953\"],[0.7777777777777778,\"#fb9f3a\"],[0.8888888888888888,\"#fdca26\"],[1.0,\"#f0f921\"]]}],\"choropleth\":[{\"type\":\"choropleth\",\"colorbar\":{\"outlinewidth\":0,\"ticks\":\"\"}}],\"histogram2d\":[{\"type\":\"histogram2d\",\"colorbar\":{\"outlinewidth\":0,\"ticks\":\"\"},\"colorscale\":[[0.0,\"#0d0887\"],[0.1111111111111111,\"#46039f\"],[0.2222222222222222,\"#7201a8\"],[0.3333333333333333,\"#9c179e\"],[0.4444444444444444,\"#bd3786\"],[0.5555555555555556,\"#d8576b\"],[0.6666666666666666,\"#ed7953\"],[0.7777777777777778,\"#fb9f3a\"],[0.8888888888888888,\"#fdca26\"],[1.0,\"#f0f921\"]]}],\"heatmap\":[{\"type\":\"heatmap\",\"colorbar\":{\"outlinewidth\":0,\"ticks\":\"\"},\"colorscale\":[[0.0,\"#0d0887\"],[0.1111111111111111,\"#46039f\"],[0.2222222222222222,\"#7201a8\"],[0.3333333333333333,\"#9c179e\"],[0.4444444444444444,\"#bd3786\"],[0.5555555555555556,\"#d8576b\"],[0.6666666666666666,\"#ed7953\"],[0.7777777777777778,\"#fb9f3a\"],[0.8888888888888888,\"#fdca26\"],[1.0,\"#f0f921\"]]}],\"contourcarpet\":[{\"type\":\"contourcarpet\",\"colorbar\":{\"outlinewidth\":0,\"ticks\":\"\"}}],\"contour\":[{\"type\":\"contour\",\"colorbar\":{\"outlinewidth\":0,\"ticks\":\"\"},\"colorscale\":[[0.0,\"#0d0887\"],[0.1111111111111111,\"#46039f\"],[0.2222222222222222,\"#7201a8\"],[0.3333333333333333,\"#9c179e\"],[0.4444444444444444,\"#bd3786\"],[0.5555555555555556,\"#d8576b\"],[0.6666666666666666,\"#ed7953\"],[0.7777777777777778,\"#fb9f3a\"],[0.8888888888888888,\"#fdca26\"],[1.0,\"#f0f921\"]]}],\"surface\":[{\"type\":\"surface\",\"colorbar\":{\"outlinewidth\":0,\"ticks\":\"\"},\"colorscale\":[[0.0,\"#0d0887\"],[0.1111111111111111,\"#46039f\"],[0.2222222222222222,\"#7201a8\"],[0.3333333333333333,\"#9c179e\"],[0.4444444444444444,\"#bd3786\"],[0.5555555555555556,\"#d8576b\"],[0.6666666666666666,\"#ed7953\"],[0.7777777777777778,\"#fb9f3a\"],[0.8888888888888888,\"#fdca26\"],[1.0,\"#f0f921\"]]}],\"mesh3d\":[{\"type\":\"mesh3d\",\"colorbar\":{\"outlinewidth\":0,\"ticks\":\"\"}}],\"scatter\":[{\"fillpattern\":{\"fillmode\":\"overlay\",\"size\":10,\"solidity\":0.2},\"type\":\"scatter\"}],\"parcoords\":[{\"type\":\"parcoords\",\"line\":{\"colorbar\":{\"outlinewidth\":0,\"ticks\":\"\"}}}],\"scatterpolargl\":[{\"type\":\"scatterpolargl\",\"marker\":{\"colorbar\":{\"outlinewidth\":0,\"ticks\":\"\"}}}],\"bar\":[{\"error_x\":{\"color\":\"#2a3f5f\"},\"error_y\":{\"color\":\"#2a3f5f\"},\"marker\":{\"line\":{\"color\":\"#E5ECF6\",\"width\":0.5},\"pattern\":{\"fillmode\":\"overlay\",\"size\":10,\"solidity\":0.2}},\"type\":\"bar\"}],\"scattergeo\":[{\"type\":\"scattergeo\",\"marker\":{\"colorbar\":{\"outlinewidth\":0,\"ticks\":\"\"}}}],\"scatterpolar\":[{\"type\":\"scatterpolar\",\"marker\":{\"colorbar\":{\"outlinewidth\":0,\"ticks\":\"\"}}}],\"histogram\":[{\"marker\":{\"pattern\":{\"fillmode\":\"overlay\",\"size\":10,\"solidity\":0.2}},\"type\":\"histogram\"}],\"scattergl\":[{\"type\":\"scattergl\",\"marker\":{\"colorbar\":{\"outlinewidth\":0,\"ticks\":\"\"}}}],\"scatter3d\":[{\"type\":\"scatter3d\",\"line\":{\"colorbar\":{\"outlinewidth\":0,\"ticks\":\"\"}},\"marker\":{\"colorbar\":{\"outlinewidth\":0,\"ticks\":\"\"}}}],\"scattermap\":[{\"type\":\"scattermap\",\"marker\":{\"colorbar\":{\"outlinewidth\":0,\"ticks\":\"\"}}}],\"scattermapbox\":[{\"type\":\"scattermapbox\",\"marker\":{\"colorbar\":{\"outlinewidth\":0,\"ticks\":\"\"}}}],\"scatterternary\":[{\"type\":\"scatterternary\",\"marker\":{\"colorbar\":{\"outlinewidth\":0,\"ticks\":\"\"}}}],\"scattercarpet\":[{\"type\":\"scattercarpet\",\"marker\":{\"colorbar\":{\"outlinewidth\":0,\"ticks\":\"\"}}}],\"carpet\":[{\"aaxis\":{\"endlinecolor\":\"#2a3f5f\",\"gridcolor\":\"white\",\"linecolor\":\"white\",\"minorgridcolor\":\"white\",\"startlinecolor\":\"#2a3f5f\"},\"baxis\":{\"endlinecolor\":\"#2a3f5f\",\"gridcolor\":\"white\",\"linecolor\":\"white\",\"minorgridcolor\":\"white\",\"startlinecolor\":\"#2a3f5f\"},\"type\":\"carpet\"}],\"table\":[{\"cells\":{\"fill\":{\"color\":\"#EBF0F8\"},\"line\":{\"color\":\"white\"}},\"header\":{\"fill\":{\"color\":\"#C8D4E3\"},\"line\":{\"color\":\"white\"}},\"type\":\"table\"}],\"barpolar\":[{\"marker\":{\"line\":{\"color\":\"#E5ECF6\",\"width\":0.5},\"pattern\":{\"fillmode\":\"overlay\",\"size\":10,\"solidity\":0.2}},\"type\":\"barpolar\"}],\"pie\":[{\"automargin\":true,\"type\":\"pie\"}]},\"layout\":{\"autotypenumbers\":\"strict\",\"colorway\":[\"#636efa\",\"#EF553B\",\"#00cc96\",\"#ab63fa\",\"#FFA15A\",\"#19d3f3\",\"#FF6692\",\"#B6E880\",\"#FF97FF\",\"#FECB52\"],\"font\":{\"color\":\"#2a3f5f\"},\"hovermode\":\"closest\",\"hoverlabel\":{\"align\":\"left\"},\"paper_bgcolor\":\"white\",\"plot_bgcolor\":\"#E5ECF6\",\"polar\":{\"bgcolor\":\"#E5ECF6\",\"angularaxis\":{\"gridcolor\":\"white\",\"linecolor\":\"white\",\"ticks\":\"\"},\"radialaxis\":{\"gridcolor\":\"white\",\"linecolor\":\"white\",\"ticks\":\"\"}},\"ternary\":{\"bgcolor\":\"#E5ECF6\",\"aaxis\":{\"gridcolor\":\"white\",\"linecolor\":\"white\",\"ticks\":\"\"},\"baxis\":{\"gridcolor\":\"white\",\"linecolor\":\"white\",\"ticks\":\"\"},\"caxis\":{\"gridcolor\":\"white\",\"linecolor\":\"white\",\"ticks\":\"\"}},\"coloraxis\":{\"colorbar\":{\"outlinewidth\":0,\"ticks\":\"\"}},\"colorscale\":{\"sequential\":[[0.0,\"#0d0887\"],[0.1111111111111111,\"#46039f\"],[0.2222222222222222,\"#7201a8\"],[0.3333333333333333,\"#9c179e\"],[0.4444444444444444,\"#bd3786\"],[0.5555555555555556,\"#d8576b\"],[0.6666666666666666,\"#ed7953\"],[0.7777777777777778,\"#fb9f3a\"],[0.8888888888888888,\"#fdca26\"],[1.0,\"#f0f921\"]],\"sequentialminus\":[[0.0,\"#0d0887\"],[0.1111111111111111,\"#46039f\"],[0.2222222222222222,\"#7201a8\"],[0.3333333333333333,\"#9c179e\"],[0.4444444444444444,\"#bd3786\"],[0.5555555555555556,\"#d8576b\"],[0.6666666666666666,\"#ed7953\"],[0.7777777777777778,\"#fb9f3a\"],[0.8888888888888888,\"#fdca26\"],[1.0,\"#f0f921\"]],\"diverging\":[[0,\"#8e0152\"],[0.1,\"#c51b7d\"],[0.2,\"#de77ae\"],[0.3,\"#f1b6da\"],[0.4,\"#fde0ef\"],[0.5,\"#f7f7f7\"],[0.6,\"#e6f5d0\"],[0.7,\"#b8e186\"],[0.8,\"#7fbc41\"],[0.9,\"#4d9221\"],[1,\"#276419\"]]},\"xaxis\":{\"gridcolor\":\"white\",\"linecolor\":\"white\",\"ticks\":\"\",\"title\":{\"standoff\":15},\"zerolinecolor\":\"white\",\"automargin\":true,\"zerolinewidth\":2},\"yaxis\":{\"gridcolor\":\"white\",\"linecolor\":\"white\",\"ticks\":\"\",\"title\":{\"standoff\":15},\"zerolinecolor\":\"white\",\"automargin\":true,\"zerolinewidth\":2},\"scene\":{\"xaxis\":{\"backgroundcolor\":\"#E5ECF6\",\"gridcolor\":\"white\",\"linecolor\":\"white\",\"showbackground\":true,\"ticks\":\"\",\"zerolinecolor\":\"white\",\"gridwidth\":2},\"yaxis\":{\"backgroundcolor\":\"#E5ECF6\",\"gridcolor\":\"white\",\"linecolor\":\"white\",\"showbackground\":true,\"ticks\":\"\",\"zerolinecolor\":\"white\",\"gridwidth\":2},\"zaxis\":{\"backgroundcolor\":\"#E5ECF6\",\"gridcolor\":\"white\",\"linecolor\":\"white\",\"showbackground\":true,\"ticks\":\"\",\"zerolinecolor\":\"white\",\"gridwidth\":2}},\"shapedefaults\":{\"line\":{\"color\":\"#2a3f5f\"}},\"annotationdefaults\":{\"arrowcolor\":\"#2a3f5f\",\"arrowhead\":0,\"arrowwidth\":1},\"geo\":{\"bgcolor\":\"white\",\"landcolor\":\"#E5ECF6\",\"subunitcolor\":\"white\",\"showland\":true,\"showlakes\":true,\"lakecolor\":\"white\"},\"title\":{\"x\":0.05},\"mapbox\":{\"style\":\"light\"}}},\"xaxis\":{\"anchor\":\"y\",\"domain\":[0.0,1.0],\"title\":{}},\"yaxis\":{\"anchor\":\"x\",\"domain\":[0.0,1.0],\"title\":{\"text\":\"Annual Income ($)\"}},\"legend\":{\"tracegroupgap\":0},\"margin\":{\"t\":60},\"boxmode\":\"group\",\"showlegend\":false},                        {\"responsive\": true}                    ).then(function(){\n",
       "                            \n",
       "var gd = document.getElementById('0e19acd7-b533-45cd-8230-bb5ecf08bb72');\n",
       "var x = new MutationObserver(function (mutations, observer) {{\n",
       "        var display = window.getComputedStyle(gd).display;\n",
       "        if (!display || display === 'none') {{\n",
       "            console.log([gd, 'removed!']);\n",
       "            Plotly.purge(gd);\n",
       "            observer.disconnect();\n",
       "        }}\n",
       "}});\n",
       "\n",
       "// Listen for the removal of the full notebook cells\n",
       "var notebookContainer = gd.closest('#notebook-container');\n",
       "if (notebookContainer) {{\n",
       "    x.observe(notebookContainer, {childList: true});\n",
       "}}\n",
       "\n",
       "// Listen for the clearing of the current output cell\n",
       "var outputEl = gd.closest('.output');\n",
       "if (outputEl) {{\n",
       "    x.observe(outputEl, {childList: true});\n",
       "}}\n",
       "\n",
       "                        })                };            </script>        </div>"
      ]
     },
     "metadata": {},
     "output_type": "display_data"
    },
    {
     "data": {
      "application/vnd.plotly.v1+json": {
       "config": {
        "plotlyServerURL": "https://plot.ly"
       },
       "data": [
        {
         "alignmentgroup": "True",
         "hovertemplate": "sex=%{x}<br>Occupational Prestige Score=%{y}<extra></extra>",
         "legendgroup": "",
         "marker": {
          "color": "#636efa"
         },
         "name": "",
         "notched": false,
         "offsetgroup": "",
         "orientation": "v",
         "showlegend": false,
         "type": "box",
         "x": [
          "male",
          "female",
          "male",
          "female",
          "male",
          "female",
          "female",
          "male",
          "female",
          "male",
          "male",
          "female",
          "female",
          "male",
          "female",
          "female",
          "female",
          "female",
          "male",
          "female",
          "female",
          "male",
          "female",
          "male",
          "female",
          "female",
          "male",
          "female",
          "male",
          "female",
          "female",
          "female",
          "male",
          "female",
          "male",
          "male",
          "female",
          "male",
          "female",
          "male",
          "female",
          "female",
          "male",
          "female",
          "male",
          "female",
          "male",
          "female",
          "female",
          "female",
          "male",
          "male",
          "female",
          "female",
          "male",
          "female",
          "female",
          "female",
          "female",
          "female",
          "male",
          "male",
          "male",
          "female",
          "female",
          "female",
          "male",
          "female",
          "female",
          "male",
          "female",
          "female",
          "female",
          "female",
          "female",
          "female",
          "female",
          "male",
          "male",
          "female",
          "male",
          "male",
          "male",
          "male",
          "female",
          "male",
          "female",
          "male",
          "female",
          "male",
          "female",
          "male",
          "female",
          "male",
          "female",
          "male",
          "male",
          "male",
          "female",
          "female",
          "female",
          "female",
          "female",
          "male",
          "female",
          "male",
          "male",
          "male",
          "female",
          "female",
          "male",
          "female",
          "female",
          "female",
          "female",
          "male",
          "male",
          "female",
          "female",
          "male",
          "female",
          "female",
          "male",
          "male",
          "male",
          "female",
          "male",
          "female",
          "female",
          "female",
          "male",
          "male",
          "male",
          "male",
          "male",
          "male",
          "female",
          "male",
          "female",
          "female",
          "female",
          "female",
          "male",
          "female",
          "female",
          "female",
          "female",
          "female",
          "female",
          "female",
          "female",
          "male",
          "male",
          "male",
          "male",
          "male",
          "male",
          "female",
          "female",
          "male",
          "female",
          "female",
          "male",
          "male",
          "male",
          "female",
          "female",
          "male",
          "male",
          "male",
          "female",
          "female",
          "male",
          "female",
          "male",
          "male",
          "female",
          "female",
          "male",
          "male",
          "female",
          "male",
          "female",
          "female",
          "male",
          "male",
          "female",
          "female",
          "male",
          "female",
          "male",
          "male",
          "male",
          "female",
          "male",
          "male",
          "female",
          "female",
          "female",
          "female",
          "male",
          "female",
          "female",
          "female",
          "female",
          "male",
          "male",
          "male",
          "female",
          "male",
          "female",
          "female",
          "female",
          "female",
          "female",
          "male",
          "female",
          "male",
          "female",
          "female",
          "female",
          "male",
          "female",
          "male",
          "female",
          "female",
          "female",
          "female",
          "male",
          "male",
          "male",
          "male",
          "female",
          "male",
          "female",
          "female",
          "male",
          "male",
          "female",
          "male",
          "male",
          "female",
          "male",
          "male",
          "female",
          "female",
          "male",
          "female",
          "male",
          "female",
          "male",
          "male",
          "female",
          "female",
          "female",
          "male",
          "male",
          "female",
          "male",
          "female",
          "female",
          "male",
          "male",
          "male",
          "female",
          "female",
          "female",
          "female",
          "female",
          "female",
          "male",
          "female",
          "female",
          "male",
          "female",
          "female",
          "female",
          "female",
          "female",
          "male",
          "female",
          "male",
          "male",
          "male",
          "male",
          "female",
          "male",
          "male",
          "male",
          "male",
          "male",
          "male",
          "female",
          "male",
          "female",
          "female",
          "male",
          "female",
          "male",
          "male",
          "male",
          "female",
          "male",
          "female",
          "female",
          "female",
          "male",
          "female",
          "female",
          "male",
          "male",
          "female",
          "male",
          "female",
          "female",
          "male",
          "male",
          "female",
          "male",
          "female",
          "female",
          "female",
          "female",
          "female",
          "female",
          "female",
          "female",
          "female",
          "male",
          "male",
          "female",
          "female",
          "male",
          "male",
          "male",
          "male",
          "female",
          "female",
          "female",
          "male",
          "female",
          "female",
          "female",
          "female",
          "male",
          "male",
          "male",
          "female",
          "female",
          "male",
          "female",
          "female",
          "female",
          "female",
          "female",
          "male",
          "female",
          "male",
          "female",
          "female",
          "female",
          "female",
          "male",
          "female",
          "female",
          "male",
          "female",
          "male",
          "female",
          "male",
          "male",
          "male",
          "female",
          "male",
          "female",
          "female",
          "female",
          "male",
          "female",
          "female",
          "female",
          "male",
          "female",
          "female",
          "male",
          "female",
          "male",
          "male",
          "male",
          "female",
          "female",
          "male",
          "female",
          "male",
          "female",
          "female",
          "female",
          "female",
          "male",
          "female",
          "female",
          "female",
          "male",
          "female",
          "female",
          "male",
          "female",
          "female",
          "female",
          "female",
          "male",
          "female",
          "female",
          "female",
          "female",
          "male",
          "female",
          "female",
          "female",
          "female",
          "male",
          "female",
          "female",
          "female",
          "female",
          "male",
          "female",
          "female",
          "female",
          "male",
          "female",
          "male",
          "male",
          "female",
          "female",
          "female",
          "male",
          "female",
          "female",
          "female",
          "female",
          "female",
          "male",
          "male",
          "female",
          "male",
          "female",
          "male",
          "female",
          "female",
          "female",
          "male",
          "male",
          "female",
          "female",
          "female",
          "male",
          "female",
          "female",
          "male",
          "female",
          "male",
          "female",
          "female",
          "female",
          "female",
          "male",
          "female",
          "male",
          "male",
          "female",
          "male",
          "male",
          "male",
          "male",
          "female",
          "male",
          "female",
          "female",
          "female",
          "male",
          "male",
          "male",
          "female",
          "male",
          "female",
          "female",
          "male",
          "male",
          "female",
          "male",
          "male",
          "female",
          "female",
          "female",
          "female",
          "female",
          "female",
          "female",
          "male",
          "male",
          "male",
          "female",
          "female",
          "female",
          "male",
          "female",
          "female",
          "female",
          "male",
          "male",
          "male",
          "female",
          "female",
          "male",
          "female",
          "female",
          "male",
          "male",
          "female",
          "female",
          "female",
          "female",
          "male",
          "male",
          "male",
          "male",
          "female",
          "male",
          "female",
          "male",
          "male",
          "female",
          "female",
          "male",
          "male",
          "female",
          "female",
          "female",
          "male",
          "male",
          "female",
          "female",
          "male",
          "female",
          "male",
          "female",
          "male",
          "female",
          "male",
          "female",
          "female",
          "male",
          "female",
          "female",
          "female",
          "female",
          "male",
          "female",
          "female",
          "male",
          "male",
          "male",
          "female",
          "female",
          "male",
          "female",
          "male",
          "male",
          "male",
          "female",
          "male",
          "female",
          "female",
          "female",
          "male",
          "male",
          "female",
          "male",
          "female",
          "female",
          "female",
          "female",
          "female",
          "female",
          "female",
          "male",
          "female",
          "female",
          "female",
          "female",
          "male",
          "female",
          "female",
          "female",
          "female",
          "female",
          "male",
          "female",
          "female",
          "male",
          "female",
          "female",
          "male",
          "male",
          "male",
          "male",
          "female",
          "female",
          "female",
          "male",
          "female",
          "male",
          "female",
          "female",
          "female",
          "male",
          "female",
          "female",
          "male",
          "male",
          "female",
          "male",
          "male",
          "male",
          "female",
          "female",
          "male",
          "female",
          "male",
          "female",
          "female",
          "female",
          "male",
          "male",
          "male",
          "female",
          "female",
          "male",
          "male",
          "male",
          "female",
          "male",
          "female",
          "female",
          "male",
          "female",
          "female",
          "female",
          "male",
          "male",
          "male",
          "female",
          "female",
          "male",
          "male",
          "female",
          "female",
          "female",
          "female",
          "male",
          "female",
          "male",
          "female",
          "female",
          "female",
          "male",
          "male",
          "female",
          "female",
          "male",
          "male",
          "female",
          "male",
          "female",
          "male",
          "male",
          "female",
          "male",
          "female",
          "female",
          "female",
          "female",
          "male",
          "male",
          "male",
          "male",
          "male",
          "female",
          "female",
          "female",
          "male",
          "female",
          "male",
          "female",
          "male",
          "female",
          "female",
          "female",
          "male",
          "male",
          "female",
          "male",
          "female",
          "female",
          "female",
          "male",
          "female",
          "female",
          "male",
          "male",
          "male",
          "male",
          "male",
          "male",
          "female",
          "female",
          "male",
          "male",
          "female",
          "female",
          "female",
          "male",
          "male",
          "female",
          "male",
          "male",
          "male",
          "male",
          "female",
          "male",
          "female",
          "female",
          "female",
          "male",
          "male",
          "male",
          "female",
          "female",
          "male",
          "female",
          "female",
          "male",
          "female",
          "female",
          "female",
          "male",
          "male",
          "female",
          "female",
          "female",
          "female",
          "male",
          "female",
          "female",
          "female",
          "female",
          "male",
          "male",
          "female",
          "female",
          "male",
          "male",
          "male",
          "female",
          "male",
          "female",
          "male",
          "male",
          "male",
          "female",
          "female",
          "female",
          "female",
          "male",
          "male",
          "male",
          "male",
          "female",
          "male",
          "male",
          "male",
          "female",
          "female",
          "male",
          "male",
          "female",
          "female",
          "male",
          "male",
          "male",
          "male",
          "female",
          "male",
          "female",
          "male",
          "male",
          "male",
          "female",
          "female",
          "female",
          "female",
          "male",
          "male",
          "female",
          "male",
          "female",
          "male",
          "female",
          "female",
          "male",
          "female",
          "male",
          "female",
          "female",
          "male",
          "male",
          "female",
          "male",
          "female",
          "male",
          "female",
          "male",
          "female",
          "female",
          "female",
          "female",
          "female",
          "female",
          "male",
          "male",
          "female",
          "male",
          "female",
          "female",
          "female",
          "female",
          "female",
          "female",
          "male",
          "female",
          "female",
          "male",
          "female",
          "female",
          "female",
          "male",
          "female",
          "female",
          "male",
          "male",
          "male",
          "female",
          "male",
          "male",
          "female",
          "male",
          "male",
          "male",
          "female",
          "female",
          "female",
          "male",
          "female",
          "female",
          "male",
          "female",
          "male",
          "male",
          "female",
          "female",
          "male",
          "male",
          "female",
          "female",
          "male",
          "female",
          "female",
          "male",
          "male",
          "female",
          "male",
          "female",
          "male",
          "male",
          "male",
          "male",
          "female",
          "female",
          "male",
          "male",
          "female",
          "female",
          "male",
          "female",
          "female",
          "female",
          "male",
          "female",
          "female",
          "male",
          "male",
          "female",
          "female",
          "female",
          "male",
          "female",
          "female",
          "male",
          "female",
          "male",
          "male",
          "male",
          "male",
          "female",
          "male",
          "female",
          "male",
          "male",
          "female",
          "male",
          "female",
          "female",
          "male",
          "female",
          "male",
          "female",
          "male",
          "female",
          "male",
          "female",
          "male",
          "male",
          "male",
          "female",
          "male",
          "male",
          "male",
          "female",
          "male",
          "female",
          "female",
          "male",
          "male",
          "male",
          "male",
          "female",
          "female",
          "female",
          "female",
          "female",
          "female",
          "female",
          "female",
          "male",
          "female",
          "male",
          "male",
          "male",
          "female",
          "male",
          "male",
          "female",
          "female",
          "female",
          "female",
          "female",
          "male",
          "female",
          "female",
          "male",
          "female",
          "female",
          "female",
          "female",
          "male",
          "male",
          "male",
          "male",
          "male",
          "female",
          "male",
          "female",
          "male",
          "female",
          "male",
          "male",
          "female",
          "male",
          "female",
          "male",
          "female",
          "male",
          "male",
          "female",
          "female",
          "female",
          "female",
          "male",
          "female",
          "male",
          "female",
          "male",
          "female",
          "male",
          "male",
          "male",
          "male",
          "female",
          "male",
          "male",
          "female",
          "female",
          "male",
          "female",
          "male",
          "male",
          "female",
          "female",
          "male",
          "female",
          "female",
          "female",
          "female",
          "male",
          "female",
          "female",
          "male",
          "male",
          "male",
          "male",
          "male",
          "female",
          "female",
          "female",
          "female",
          "male",
          "male",
          "male",
          "male",
          "male",
          "male",
          "female",
          "male",
          "male",
          "male",
          "female",
          "female",
          "male",
          "female",
          "male",
          "male",
          "male",
          "female",
          "male",
          "male",
          "male",
          "female",
          "female",
          "male",
          "female",
          "male",
          "male",
          "female",
          "female",
          "female",
          "female",
          "female",
          "female",
          "male",
          "female",
          "male",
          "male",
          "female",
          "male",
          "male",
          "male",
          "male",
          "male",
          "male",
          "female",
          "male",
          "male",
          "female",
          "female",
          "male",
          "female",
          "male",
          "male",
          "male",
          "female",
          "female",
          "female",
          "male",
          "male",
          "male",
          "male",
          "male",
          "male",
          "male",
          "male",
          "male",
          "female",
          "male",
          "female",
          "female",
          "female",
          "male",
          "male",
          "male",
          "male",
          "female",
          "male",
          "male",
          "female",
          "male",
          "female",
          "male",
          "female",
          "male",
          "female",
          "male",
          "female",
          "male",
          "male",
          "female",
          "female",
          "female",
          "female",
          "male",
          "female",
          "female",
          "female",
          "male",
          "male",
          "female",
          "male",
          "male",
          "male",
          "female",
          "female",
          "female",
          "male",
          "female",
          "female",
          "female",
          "male",
          "female",
          "female",
          "male",
          "male",
          "male",
          "male",
          "male",
          "male",
          "female",
          "male",
          "female",
          "female",
          "female",
          "male",
          "male",
          "male",
          "male",
          "male",
          "female",
          "female",
          "female",
          "female",
          "female",
          "male",
          "female",
          "female",
          "female",
          "male",
          "male",
          "female",
          "male",
          "male",
          "male",
          "male",
          "male",
          "male",
          "female",
          "female",
          "female",
          "female",
          "male",
          "male",
          "male",
          "female",
          "female",
          "male",
          "female",
          "female",
          "female",
          "female",
          "male",
          "male",
          "male",
          "female",
          "female",
          "female",
          "female",
          "male",
          "female",
          "male",
          "female",
          "male",
          "female",
          "female",
          "female",
          "male",
          "male",
          "male",
          "male",
          "female",
          "female",
          "female",
          "female",
          "female",
          "female",
          "male",
          "female",
          "male",
          "male",
          "female",
          "male",
          "female",
          "female",
          "male",
          "female",
          "male",
          "female",
          "male",
          "female",
          "male",
          "male",
          "female",
          "male",
          "male",
          "female",
          "female",
          "female",
          "male",
          "female",
          "female",
          "male",
          "male",
          "male",
          "male",
          "female",
          "male",
          "female",
          "female",
          "female",
          "male",
          "male",
          "female",
          "female",
          "female",
          "male",
          "male",
          "female",
          "female",
          "female",
          "female",
          "female",
          "male",
          "male",
          "female",
          "female",
          "male",
          "male",
          "male",
          "male",
          "male",
          "male",
          "female",
          "male",
          "male",
          "male",
          "female",
          "female",
          "male",
          "male",
          "male",
          "female",
          "female",
          "female",
          "female",
          "male",
          "female",
          "male",
          "female",
          "female",
          "male",
          "male",
          "female",
          "female",
          "male",
          "male",
          "female",
          "female",
          "male",
          "male",
          "male",
          "female",
          "female",
          "female",
          "female",
          "female",
          "female",
          "female",
          "male",
          "male",
          "male",
          "male",
          "female",
          "female",
          "male",
          "female",
          "female",
          "male",
          "male",
          "female",
          "male",
          "female",
          "male",
          "male",
          "male",
          "female",
          "male",
          "female",
          "male",
          "female",
          "female",
          "male",
          "female",
          "female",
          "male",
          "female",
          "female",
          "female",
          "male",
          "male",
          "female",
          "female",
          "male",
          "male",
          "female",
          "female",
          "female",
          "male",
          "female",
          "female",
          "male",
          "female",
          "female",
          "female",
          "male",
          "female",
          "male",
          "female",
          "female",
          "male",
          "female",
          "female",
          "female",
          "male",
          "female",
          "male",
          "female",
          "female",
          "male",
          "male",
          "female",
          "female",
          "male",
          "male",
          "male",
          "female",
          "male",
          "female",
          "male",
          "male",
          "female",
          "female",
          "male",
          "male",
          "female",
          "female",
          "female",
          "male",
          "female",
          "female",
          "male",
          "female",
          "female",
          "female",
          "female",
          "female",
          "female",
          "female",
          "female",
          "male",
          "female",
          "female",
          "female",
          "female",
          "female",
          "male",
          "female",
          "male",
          "female",
          "female",
          "female",
          "female",
          "male",
          "male",
          "female",
          "male",
          "male",
          "male",
          "female",
          "female",
          "female",
          "female",
          "male",
          "female",
          "female",
          "male",
          "male",
          "female",
          "female",
          "female",
          "male",
          "female",
          "female",
          "female",
          "female",
          "female",
          "female",
          "female",
          "male",
          "female",
          "female",
          "male",
          "female",
          "female",
          "female",
          "female",
          "female",
          "female",
          "male",
          "female",
          "female",
          "female",
          "male",
          "male",
          "female",
          "female",
          "female",
          "female",
          "male",
          "male",
          "female",
          "male",
          "female",
          "male",
          "female",
          "female",
          "male",
          "male",
          "female",
          "male",
          "female",
          "female",
          "male",
          "male",
          "male",
          "female",
          "female",
          "female",
          "female",
          "female",
          "male",
          "male",
          "female",
          "female",
          "female",
          "male",
          "female",
          "female",
          "female",
          "male",
          "male",
          "male",
          "female",
          "male",
          "female",
          "male",
          "male",
          "female",
          "female",
          "male",
          "female",
          "female",
          "female",
          "male",
          "male",
          "male",
          "male",
          "male",
          "female",
          "female",
          "male",
          "female",
          "male",
          "male",
          "male",
          "female",
          "male",
          "female",
          "female",
          "female",
          "female",
          "female",
          "female",
          "female",
          "male",
          "male",
          "female",
          "female",
          "female",
          "male",
          "female",
          "male",
          "male",
          "male",
          "female",
          "female",
          "female",
          "male",
          "male",
          "male",
          "female",
          "male",
          "female",
          "male",
          "female",
          "female",
          "male",
          "female",
          "female",
          "male",
          "male",
          "female",
          "female",
          "male",
          "female",
          "male",
          "female",
          "female",
          "female",
          "male",
          "female",
          "male",
          "male",
          "female",
          "male",
          "female",
          "male",
          "male",
          "female",
          "female",
          "female",
          "female",
          "female",
          "female",
          "female",
          "male",
          "male",
          "male",
          "male",
          "male",
          "male",
          "male",
          "female",
          "male",
          "female",
          "male",
          "female",
          "female",
          "female",
          "male",
          "female",
          "male",
          "female",
          "male",
          "male",
          "male",
          "male",
          "female",
          "female",
          "male",
          "male",
          "male",
          "male",
          "male",
          "female",
          "female",
          "male",
          "male",
          "male",
          "female",
          "female",
          "male",
          "female",
          "female",
          "male",
          "female",
          "female",
          "male",
          "female",
          "male",
          "female",
          "male",
          "male",
          "female",
          "male",
          "male",
          "male",
          "male",
          "female",
          "female",
          "male",
          "male",
          "female",
          "male",
          "male",
          "male",
          "female",
          "female",
          "male",
          "male",
          "male",
          "female",
          "male",
          "male",
          "female",
          "male",
          "male",
          "female",
          "female",
          "male",
          "female",
          "male",
          "female",
          "female",
          "female",
          "male",
          "male",
          "female",
          "female",
          "female",
          "male",
          "female",
          "female",
          "male",
          "male",
          "male",
          "male",
          "female",
          "female",
          "female",
          "female",
          "female",
          "female",
          "male",
          "female",
          "female",
          "male",
          "female",
          "female",
          "male",
          "female",
          "male",
          "female",
          "male",
          "female",
          "male",
          "male",
          "male",
          "female",
          "female",
          "male",
          "male",
          "male",
          "female",
          "male",
          "female",
          "male",
          "female",
          "female",
          "female",
          "female",
          "female",
          "female",
          "female",
          "male",
          "female",
          "female",
          "female",
          "male",
          "male",
          "female",
          "male",
          "female",
          "female",
          "male",
          "female",
          "female",
          "male",
          "female",
          "male",
          "female",
          "female",
          "female",
          "female",
          "male",
          "male",
          "female",
          "male",
          "female",
          "male",
          "male",
          "male",
          "male",
          "male",
          "male",
          "male",
          "male",
          "male",
          "male",
          "female",
          "female",
          "female",
          "female",
          "female",
          "male",
          "female",
          "female",
          "female",
          "male",
          "male",
          "female",
          "female",
          "female",
          "male",
          "male",
          "male",
          "female",
          "female",
          "female",
          "male",
          "female",
          "male",
          "female",
          "male",
          "male",
          "male",
          "female",
          "male",
          "female",
          "male",
          "female",
          "male",
          "female",
          "female",
          "female",
          "female",
          "female",
          "female",
          "male",
          "female",
          "male",
          "female",
          "male",
          "female",
          "female",
          "male",
          "male",
          "female",
          "male",
          "female",
          "female",
          "female",
          "female",
          "female",
          "female",
          "female",
          "male",
          "male",
          "female",
          "female",
          "male",
          "female",
          "male",
          "male",
          "male",
          "female",
          "female",
          "female",
          "male",
          "female",
          "female",
          "male",
          "male",
          "female",
          "female",
          "male",
          "female",
          "male",
          "male",
          "female",
          "male",
          "female",
          "male",
          "female",
          "female",
          "male",
          "male",
          "male",
          "female",
          "male",
          "male",
          "male",
          "female",
          "male",
          "female",
          "female",
          "male",
          "female",
          "male",
          "female",
          "male",
          "female",
          "male",
          "female",
          "female",
          "female",
          "female",
          "male",
          "female",
          "female",
          "male",
          "female",
          "male",
          "female",
          "female",
          "female",
          "male",
          "male",
          "male",
          "male",
          "female",
          "female",
          "male",
          "female",
          "male",
          "female",
          "female",
          "male",
          "male",
          "male",
          "female",
          "male",
          "male",
          "female",
          "male",
          "female",
          "female",
          "female",
          "female",
          "female",
          "male",
          "male",
          "male",
          "female",
          "female",
          "male",
          "male",
          "male",
          "female",
          "male",
          "male",
          "male",
          "female",
          "female",
          "female",
          "female",
          "female",
          "male",
          "female",
          "male",
          "male",
          "male",
          "female",
          "male",
          "female",
          "male",
          "female",
          "female",
          "female",
          "female",
          "female",
          "female",
          "male",
          "female",
          "female",
          "female",
          "female",
          "male",
          "male",
          "male",
          "female",
          "female",
          "male",
          "male",
          "male",
          "male",
          "female",
          "male",
          "male",
          "male",
          "female",
          "male",
          "female",
          "female",
          "male",
          "female",
          "female",
          "male",
          "female",
          "female",
          "female",
          "male",
          "male",
          "male",
          "female",
          "male",
          "male",
          "male",
          "male",
          "male",
          "female",
          "female",
          "male",
          "male",
          "male",
          "female",
          "male",
          "female",
          "male",
          "male",
          "female",
          "female",
          "female",
          "male",
          "female",
          "female",
          "female",
          "female",
          "female",
          "male",
          "male",
          "female",
          "female",
          "female",
          "female",
          "female",
          "female",
          "male",
          "female",
          "female",
          "male",
          "female",
          "male",
          "male",
          "female",
          "male",
          "male",
          "female",
          "female",
          "male",
          "male",
          "male",
          "male",
          "female",
          "male",
          "male",
          "female",
          "female",
          "female",
          "female",
          "female",
          "female",
          "female",
          "female",
          "male",
          "male",
          "female",
          "male",
          "male",
          "male",
          "female",
          "female",
          "male",
          "female",
          "female",
          "female",
          "male",
          "female",
          "male",
          "female",
          "female",
          "female",
          "female",
          "female",
          "male",
          "male",
          "female",
          "female",
          "female",
          "female",
          "female",
          "male",
          "male",
          "female",
          "female",
          "male",
          "female",
          "female",
          "female",
          "female",
          "female",
          "female",
          "female",
          "female",
          "male",
          "male",
          "male",
          "male",
          "male",
          "female",
          "male",
          "male",
          "female",
          "female",
          "female",
          "female",
          "male",
          "male",
          "male",
          "female",
          "female",
          "female",
          "male",
          "male",
          "male",
          "female",
          "male",
          "male",
          "female",
          "female",
          "female",
          "male",
          "female",
          "male",
          "female",
          "female",
          "female",
          "male",
          "female",
          "female",
          "male",
          "female",
          "male",
          "male",
          "female",
          "female",
          "male",
          "female",
          "male",
          "male",
          "female",
          "male",
          "male",
          "female",
          "male",
          "female",
          "female",
          "male",
          "male",
          "male",
          "female",
          "female",
          "female",
          "male",
          "female",
          "male",
          "male",
          "female",
          "male",
          "female",
          "female",
          "female",
          "male",
          "male",
          "male",
          "male",
          "male",
          "male",
          "female",
          "male",
          "male",
          "male",
          "male",
          "male",
          "male",
          "female",
          "male",
          "female",
          "male",
          "male",
          "female",
          "female",
          "female",
          "female",
          "male",
          "female",
          "male",
          "male",
          "female",
          "male",
          "female",
          "female",
          "female",
          "male",
          "male",
          "female",
          "female",
          "female",
          "male",
          "female",
          "female",
          "male",
          "female",
          "female",
          "male",
          "female",
          "female",
          "male",
          "male",
          "male",
          "female",
          "female",
          "female",
          "male",
          "female",
          "male",
          "male",
          "male",
          "female",
          "male",
          "female",
          "female",
          "female",
          "female",
          "female",
          "male",
          "male",
          "female",
          "female",
          "female",
          "female",
          "female",
          "male",
          "female",
          "male",
          "male",
          "female",
          "female",
          "female",
          "male",
          "female",
          "female",
          "female",
          "male",
          "female",
          "male",
          "male",
          "male",
          "female",
          "male",
          "male",
          "male",
          "male",
          "female",
          "male",
          "male",
          "female",
          "female",
          "female",
          "male",
          "male",
          "male",
          "female",
          "female",
          "male",
          "male",
          "male",
          "female",
          "female",
          "female",
          "female",
          "male",
          "male",
          "male",
          "female",
          "male",
          "female",
          "female",
          "male",
          "female",
          "female",
          "female",
          "female",
          "female",
          "female",
          "male",
          "female",
          "female",
          "female",
          "female",
          "male",
          "female"
         ],
         "x0": " ",
         "xaxis": "x",
         "y": {
          "bdata": "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",
          "dtype": "f8"
         },
         "y0": " ",
         "yaxis": "y"
        }
       ],
       "layout": {
        "boxmode": "group",
        "legend": {
         "tracegroupgap": 0
        },
        "margin": {
         "t": 60
        },
        "showlegend": false,
        "template": {
         "data": {
          "bar": [
           {
            "error_x": {
             "color": "#2a3f5f"
            },
            "error_y": {
             "color": "#2a3f5f"
            },
            "marker": {
             "line": {
              "color": "#E5ECF6",
              "width": 0.5
             },
             "pattern": {
              "fillmode": "overlay",
              "size": 10,
              "solidity": 0.2
             }
            },
            "type": "bar"
           }
          ],
          "barpolar": [
           {
            "marker": {
             "line": {
              "color": "#E5ECF6",
              "width": 0.5
             },
             "pattern": {
              "fillmode": "overlay",
              "size": 10,
              "solidity": 0.2
             }
            },
            "type": "barpolar"
           }
          ],
          "carpet": [
           {
            "aaxis": {
             "endlinecolor": "#2a3f5f",
             "gridcolor": "white",
             "linecolor": "white",
             "minorgridcolor": "white",
             "startlinecolor": "#2a3f5f"
            },
            "baxis": {
             "endlinecolor": "#2a3f5f",
             "gridcolor": "white",
             "linecolor": "white",
             "minorgridcolor": "white",
             "startlinecolor": "#2a3f5f"
            },
            "type": "carpet"
           }
          ],
          "choropleth": [
           {
            "colorbar": {
             "outlinewidth": 0,
             "ticks": ""
            },
            "type": "choropleth"
           }
          ],
          "contour": [
           {
            "colorbar": {
             "outlinewidth": 0,
             "ticks": ""
            },
            "colorscale": [
             [
              0,
              "#0d0887"
             ],
             [
              0.1111111111111111,
              "#46039f"
             ],
             [
              0.2222222222222222,
              "#7201a8"
             ],
             [
              0.3333333333333333,
              "#9c179e"
             ],
             [
              0.4444444444444444,
              "#bd3786"
             ],
             [
              0.5555555555555556,
              "#d8576b"
             ],
             [
              0.6666666666666666,
              "#ed7953"
             ],
             [
              0.7777777777777778,
              "#fb9f3a"
             ],
             [
              0.8888888888888888,
              "#fdca26"
             ],
             [
              1,
              "#f0f921"
             ]
            ],
            "type": "contour"
           }
          ],
          "contourcarpet": [
           {
            "colorbar": {
             "outlinewidth": 0,
             "ticks": ""
            },
            "type": "contourcarpet"
           }
          ],
          "heatmap": [
           {
            "colorbar": {
             "outlinewidth": 0,
             "ticks": ""
            },
            "colorscale": [
             [
              0,
              "#0d0887"
             ],
             [
              0.1111111111111111,
              "#46039f"
             ],
             [
              0.2222222222222222,
              "#7201a8"
             ],
             [
              0.3333333333333333,
              "#9c179e"
             ],
             [
              0.4444444444444444,
              "#bd3786"
             ],
             [
              0.5555555555555556,
              "#d8576b"
             ],
             [
              0.6666666666666666,
              "#ed7953"
             ],
             [
              0.7777777777777778,
              "#fb9f3a"
             ],
             [
              0.8888888888888888,
              "#fdca26"
             ],
             [
              1,
              "#f0f921"
             ]
            ],
            "type": "heatmap"
           }
          ],
          "histogram": [
           {
            "marker": {
             "pattern": {
              "fillmode": "overlay",
              "size": 10,
              "solidity": 0.2
             }
            },
            "type": "histogram"
           }
          ],
          "histogram2d": [
           {
            "colorbar": {
             "outlinewidth": 0,
             "ticks": ""
            },
            "colorscale": [
             [
              0,
              "#0d0887"
             ],
             [
              0.1111111111111111,
              "#46039f"
             ],
             [
              0.2222222222222222,
              "#7201a8"
             ],
             [
              0.3333333333333333,
              "#9c179e"
             ],
             [
              0.4444444444444444,
              "#bd3786"
             ],
             [
              0.5555555555555556,
              "#d8576b"
             ],
             [
              0.6666666666666666,
              "#ed7953"
             ],
             [
              0.7777777777777778,
              "#fb9f3a"
             ],
             [
              0.8888888888888888,
              "#fdca26"
             ],
             [
              1,
              "#f0f921"
             ]
            ],
            "type": "histogram2d"
           }
          ],
          "histogram2dcontour": [
           {
            "colorbar": {
             "outlinewidth": 0,
             "ticks": ""
            },
            "colorscale": [
             [
              0,
              "#0d0887"
             ],
             [
              0.1111111111111111,
              "#46039f"
             ],
             [
              0.2222222222222222,
              "#7201a8"
             ],
             [
              0.3333333333333333,
              "#9c179e"
             ],
             [
              0.4444444444444444,
              "#bd3786"
             ],
             [
              0.5555555555555556,
              "#d8576b"
             ],
             [
              0.6666666666666666,
              "#ed7953"
             ],
             [
              0.7777777777777778,
              "#fb9f3a"
             ],
             [
              0.8888888888888888,
              "#fdca26"
             ],
             [
              1,
              "#f0f921"
             ]
            ],
            "type": "histogram2dcontour"
           }
          ],
          "mesh3d": [
           {
            "colorbar": {
             "outlinewidth": 0,
             "ticks": ""
            },
            "type": "mesh3d"
           }
          ],
          "parcoords": [
           {
            "line": {
             "colorbar": {
              "outlinewidth": 0,
              "ticks": ""
             }
            },
            "type": "parcoords"
           }
          ],
          "pie": [
           {
            "automargin": true,
            "type": "pie"
           }
          ],
          "scatter": [
           {
            "fillpattern": {
             "fillmode": "overlay",
             "size": 10,
             "solidity": 0.2
            },
            "type": "scatter"
           }
          ],
          "scatter3d": [
           {
            "line": {
             "colorbar": {
              "outlinewidth": 0,
              "ticks": ""
             }
            },
            "marker": {
             "colorbar": {
              "outlinewidth": 0,
              "ticks": ""
             }
            },
            "type": "scatter3d"
           }
          ],
          "scattercarpet": [
           {
            "marker": {
             "colorbar": {
              "outlinewidth": 0,
              "ticks": ""
             }
            },
            "type": "scattercarpet"
           }
          ],
          "scattergeo": [
           {
            "marker": {
             "colorbar": {
              "outlinewidth": 0,
              "ticks": ""
             }
            },
            "type": "scattergeo"
           }
          ],
          "scattergl": [
           {
            "marker": {
             "colorbar": {
              "outlinewidth": 0,
              "ticks": ""
             }
            },
            "type": "scattergl"
           }
          ],
          "scattermap": [
           {
            "marker": {
             "colorbar": {
              "outlinewidth": 0,
              "ticks": ""
             }
            },
            "type": "scattermap"
           }
          ],
          "scattermapbox": [
           {
            "marker": {
             "colorbar": {
              "outlinewidth": 0,
              "ticks": ""
             }
            },
            "type": "scattermapbox"
           }
          ],
          "scatterpolar": [
           {
            "marker": {
             "colorbar": {
              "outlinewidth": 0,
              "ticks": ""
             }
            },
            "type": "scatterpolar"
           }
          ],
          "scatterpolargl": [
           {
            "marker": {
             "colorbar": {
              "outlinewidth": 0,
              "ticks": ""
             }
            },
            "type": "scatterpolargl"
           }
          ],
          "scatterternary": [
           {
            "marker": {
             "colorbar": {
              "outlinewidth": 0,
              "ticks": ""
             }
            },
            "type": "scatterternary"
           }
          ],
          "surface": [
           {
            "colorbar": {
             "outlinewidth": 0,
             "ticks": ""
            },
            "colorscale": [
             [
              0,
              "#0d0887"
             ],
             [
              0.1111111111111111,
              "#46039f"
             ],
             [
              0.2222222222222222,
              "#7201a8"
             ],
             [
              0.3333333333333333,
              "#9c179e"
             ],
             [
              0.4444444444444444,
              "#bd3786"
             ],
             [
              0.5555555555555556,
              "#d8576b"
             ],
             [
              0.6666666666666666,
              "#ed7953"
             ],
             [
              0.7777777777777778,
              "#fb9f3a"
             ],
             [
              0.8888888888888888,
              "#fdca26"
             ],
             [
              1,
              "#f0f921"
             ]
            ],
            "type": "surface"
           }
          ],
          "table": [
           {
            "cells": {
             "fill": {
              "color": "#EBF0F8"
             },
             "line": {
              "color": "white"
             }
            },
            "header": {
             "fill": {
              "color": "#C8D4E3"
             },
             "line": {
              "color": "white"
             }
            },
            "type": "table"
           }
          ]
         },
         "layout": {
          "annotationdefaults": {
           "arrowcolor": "#2a3f5f",
           "arrowhead": 0,
           "arrowwidth": 1
          },
          "autotypenumbers": "strict",
          "coloraxis": {
           "colorbar": {
            "outlinewidth": 0,
            "ticks": ""
           }
          },
          "colorscale": {
           "diverging": [
            [
             0,
             "#8e0152"
            ],
            [
             0.1,
             "#c51b7d"
            ],
            [
             0.2,
             "#de77ae"
            ],
            [
             0.3,
             "#f1b6da"
            ],
            [
             0.4,
             "#fde0ef"
            ],
            [
             0.5,
             "#f7f7f7"
            ],
            [
             0.6,
             "#e6f5d0"
            ],
            [
             0.7,
             "#b8e186"
            ],
            [
             0.8,
             "#7fbc41"
            ],
            [
             0.9,
             "#4d9221"
            ],
            [
             1,
             "#276419"
            ]
           ],
           "sequential": [
            [
             0,
             "#0d0887"
            ],
            [
             0.1111111111111111,
             "#46039f"
            ],
            [
             0.2222222222222222,
             "#7201a8"
            ],
            [
             0.3333333333333333,
             "#9c179e"
            ],
            [
             0.4444444444444444,
             "#bd3786"
            ],
            [
             0.5555555555555556,
             "#d8576b"
            ],
            [
             0.6666666666666666,
             "#ed7953"
            ],
            [
             0.7777777777777778,
             "#fb9f3a"
            ],
            [
             0.8888888888888888,
             "#fdca26"
            ],
            [
             1,
             "#f0f921"
            ]
           ],
           "sequentialminus": [
            [
             0,
             "#0d0887"
            ],
            [
             0.1111111111111111,
             "#46039f"
            ],
            [
             0.2222222222222222,
             "#7201a8"
            ],
            [
             0.3333333333333333,
             "#9c179e"
            ],
            [
             0.4444444444444444,
             "#bd3786"
            ],
            [
             0.5555555555555556,
             "#d8576b"
            ],
            [
             0.6666666666666666,
             "#ed7953"
            ],
            [
             0.7777777777777778,
             "#fb9f3a"
            ],
            [
             0.8888888888888888,
             "#fdca26"
            ],
            [
             1,
             "#f0f921"
            ]
           ]
          },
          "colorway": [
           "#636efa",
           "#EF553B",
           "#00cc96",
           "#ab63fa",
           "#FFA15A",
           "#19d3f3",
           "#FF6692",
           "#B6E880",
           "#FF97FF",
           "#FECB52"
          ],
          "font": {
           "color": "#2a3f5f"
          },
          "geo": {
           "bgcolor": "white",
           "lakecolor": "white",
           "landcolor": "#E5ECF6",
           "showlakes": true,
           "showland": true,
           "subunitcolor": "white"
          },
          "hoverlabel": {
           "align": "left"
          },
          "hovermode": "closest",
          "mapbox": {
           "style": "light"
          },
          "paper_bgcolor": "white",
          "plot_bgcolor": "#E5ECF6",
          "polar": {
           "angularaxis": {
            "gridcolor": "white",
            "linecolor": "white",
            "ticks": ""
           },
           "bgcolor": "#E5ECF6",
           "radialaxis": {
            "gridcolor": "white",
            "linecolor": "white",
            "ticks": ""
           }
          },
          "scene": {
           "xaxis": {
            "backgroundcolor": "#E5ECF6",
            "gridcolor": "white",
            "gridwidth": 2,
            "linecolor": "white",
            "showbackground": true,
            "ticks": "",
            "zerolinecolor": "white"
           },
           "yaxis": {
            "backgroundcolor": "#E5ECF6",
            "gridcolor": "white",
            "gridwidth": 2,
            "linecolor": "white",
            "showbackground": true,
            "ticks": "",
            "zerolinecolor": "white"
           },
           "zaxis": {
            "backgroundcolor": "#E5ECF6",
            "gridcolor": "white",
            "gridwidth": 2,
            "linecolor": "white",
            "showbackground": true,
            "ticks": "",
            "zerolinecolor": "white"
           }
          },
          "shapedefaults": {
           "line": {
            "color": "#2a3f5f"
           }
          },
          "ternary": {
           "aaxis": {
            "gridcolor": "white",
            "linecolor": "white",
            "ticks": ""
           },
           "baxis": {
            "gridcolor": "white",
            "linecolor": "white",
            "ticks": ""
           },
           "bgcolor": "#E5ECF6",
           "caxis": {
            "gridcolor": "white",
            "linecolor": "white",
            "ticks": ""
           }
          },
          "title": {
           "x": 0.05
          },
          "xaxis": {
           "automargin": true,
           "gridcolor": "white",
           "linecolor": "white",
           "ticks": "",
           "title": {
            "standoff": 15
           },
           "zerolinecolor": "white",
           "zerolinewidth": 2
          },
          "yaxis": {
           "automargin": true,
           "gridcolor": "white",
           "linecolor": "white",
           "ticks": "",
           "title": {
            "standoff": 15
           },
           "zerolinecolor": "white",
           "zerolinewidth": 2
          }
         }
        },
        "xaxis": {
         "anchor": "y",
         "domain": [
          0,
          1
         ],
         "title": {}
        },
        "yaxis": {
         "anchor": "x",
         "domain": [
          0,
          1
         ],
         "title": {
          "text": "Occupational Prestige Score"
         }
        }
       }
      },
      "text/html": [
       "<div>            <script src=\"https://cdnjs.cloudflare.com/ajax/libs/mathjax/2.7.5/MathJax.js?config=TeX-AMS-MML_SVG\"></script><script type=\"text/javascript\">if (window.MathJax && window.MathJax.Hub && window.MathJax.Hub.Config) {window.MathJax.Hub.Config({SVG: {font: \"STIX-Web\"}});}</script>                <script type=\"text/javascript\">window.PlotlyConfig = {MathJaxConfig: 'local'};</script>\n",
       "        <script charset=\"utf-8\" src=\"https://cdn.plot.ly/plotly-3.0.1.min.js\"></script>                <div id=\"c3e4c47c-2344-4598-b9f3-27c9580e37fd\" class=\"plotly-graph-div\" style=\"height:525px; width:100%;\"></div>            <script type=\"text/javascript\">                window.PLOTLYENV=window.PLOTLYENV || {};                                if (document.getElementById(\"c3e4c47c-2344-4598-b9f3-27c9580e37fd\")) {                    Plotly.newPlot(                        \"c3e4c47c-2344-4598-b9f3-27c9580e37fd\",                        [{\"alignmentgroup\":\"True\",\"hovertemplate\":\"sex=%{x}\\u003cbr\\u003eOccupational Prestige Score=%{y}\\u003cextra\\u003e\\u003c\\u002fextra\\u003e\",\"legendgroup\":\"\",\"marker\":{\"color\":\"#636efa\"},\"name\":\"\",\"notched\":false,\"offsetgroup\":\"\",\"orientation\":\"v\",\"showlegend\":false,\"x\":[\"male\",\"female\",\"male\",\"female\",\"male\",\"female\",\"female\",\"male\",\"female\",\"male\",\"male\",\"female\",\"female\",\"male\",\"female\",\"female\",\"female\",\"female\",\"male\",\"female\",\"female\",\"male\",\"female\",\"male\",\"female\",\"female\",\"male\",\"female\",\"male\",\"female\",\"female\",\"female\",\"male\",\"female\",\"male\",\"male\",\"female\",\"male\",\"female\",\"male\",\"female\",\"female\",\"male\",\"female\",\"male\",\"female\",\"male\",\"female\",\"female\",\"female\",\"male\",\"male\",\"female\",\"female\",\"male\",\"female\",\"female\",\"female\",\"female\",\"female\",\"male\",\"male\",\"male\",\"female\",\"female\",\"female\",\"male\",\"female\",\"female\",\"male\",\"female\",\"female\",\"female\",\"female\",\"female\",\"female\",\"female\",\"male\",\"male\",\"female\",\"male\",\"male\",\"male\",\"male\",\"female\",\"male\",\"female\",\"male\",\"female\",\"male\",\"female\",\"male\",\"female\",\"male\",\"female\",\"male\",\"male\",\"male\",\"female\",\"female\",\"female\",\"female\",\"female\",\"male\",\"female\",\"male\",\"male\",\"male\",\"female\",\"female\",\"male\",\"female\",\"female\",\"female\",\"female\",\"male\",\"male\",\"female\",\"female\",\"male\",\"female\",\"female\",\"male\",\"male\",\"male\",\"female\",\"male\",\"female\",\"female\",\"female\",\"male\",\"male\",\"male\",\"male\",\"male\",\"male\",\"female\",\"male\",\"female\",\"female\",\"female\",\"female\",\"male\",\"female\",\"female\",\"female\",\"female\",\"female\",\"female\",\"female\",\"female\",\"male\",\"male\",\"male\",\"male\",\"male\",\"male\",\"female\",\"female\",\"male\",\"female\",\"female\",\"male\",\"male\",\"male\",\"female\",\"female\",\"male\",\"male\",\"male\",\"female\",\"female\",\"male\",\"female\",\"male\",\"male\",\"female\",\"female\",\"male\",\"male\",\"female\",\"male\",\"female\",\"female\",\"male\",\"male\",\"female\",\"female\",\"male\",\"female\",\"male\",\"male\",\"male\",\"female\",\"male\",\"male\",\"female\",\"female\",\"female\",\"female\",\"male\",\"female\",\"female\",\"female\",\"female\",\"male\",\"male\",\"male\",\"female\",\"male\",\"female\",\"female\",\"female\",\"female\",\"female\",\"male\",\"female\",\"male\",\"female\",\"female\",\"female\",\"male\",\"female\",\"male\",\"female\",\"female\",\"female\",\"female\",\"male\",\"male\",\"male\",\"male\",\"female\",\"male\",\"female\",\"female\",\"male\",\"male\",\"female\",\"male\",\"male\",\"female\",\"male\",\"male\",\"female\",\"female\",\"male\",\"female\",\"male\",\"female\",\"male\",\"male\",\"female\",\"female\",\"female\",\"male\",\"male\",\"female\",\"male\",\"female\",\"female\",\"male\",\"male\",\"male\",\"female\",\"female\",\"female\",\"female\",\"female\",\"female\",\"male\",\"female\",\"female\",\"male\",\"female\",\"female\",\"female\",\"female\",\"female\",\"male\",\"female\",\"male\",\"male\",\"male\",\"male\",\"female\",\"male\",\"male\",\"male\",\"male\",\"male\",\"male\",\"female\",\"male\",\"female\",\"female\",\"male\",\"female\",\"male\",\"male\",\"male\",\"female\",\"male\",\"female\",\"female\",\"female\",\"male\",\"female\",\"female\",\"male\",\"male\",\"female\",\"male\",\"female\",\"female\",\"male\",\"male\",\"female\",\"male\",\"female\",\"female\",\"female\",\"female\",\"female\",\"female\",\"female\",\"female\",\"female\",\"male\",\"male\",\"female\",\"female\",\"male\",\"male\",\"male\",\"male\",\"female\",\"female\",\"female\",\"male\",\"female\",\"female\",\"female\",\"female\",\"male\",\"male\",\"male\",\"female\",\"female\",\"male\",\"female\",\"female\",\"female\",\"female\",\"female\",\"male\",\"female\",\"male\",\"female\",\"female\",\"female\",\"female\",\"male\",\"female\",\"female\",\"male\",\"female\",\"male\",\"female\",\"male\",\"male\",\"male\",\"female\",\"male\",\"female\",\"female\",\"female\",\"male\",\"female\",\"female\",\"female\",\"male\",\"female\",\"female\",\"male\",\"female\",\"male\",\"male\",\"male\",\"female\",\"female\",\"male\",\"female\",\"male\",\"female\",\"female\",\"female\",\"female\",\"male\",\"female\",\"female\",\"female\",\"male\",\"female\",\"female\",\"male\",\"female\",\"female\",\"female\",\"female\",\"male\",\"female\",\"female\",\"female\",\"female\",\"male\",\"female\",\"female\",\"female\",\"female\",\"male\",\"female\",\"female\",\"female\",\"female\",\"male\",\"female\",\"female\",\"female\",\"male\",\"female\",\"male\",\"male\",\"female\",\"female\",\"female\",\"male\",\"female\",\"female\",\"female\",\"female\",\"female\",\"male\",\"male\",\"female\",\"male\",\"female\",\"male\",\"female\",\"female\",\"female\",\"male\",\"male\",\"female\",\"female\",\"female\",\"male\",\"female\",\"female\",\"male\",\"female\",\"male\",\"female\",\"female\",\"female\",\"female\",\"male\",\"female\",\"male\",\"male\",\"female\",\"male\",\"male\",\"male\",\"male\",\"female\",\"male\",\"female\",\"female\",\"female\",\"male\",\"male\",\"male\",\"female\",\"male\",\"female\",\"female\",\"male\",\"male\",\"female\",\"male\",\"male\",\"female\",\"female\",\"female\",\"female\",\"female\",\"female\",\"female\",\"male\",\"male\",\"male\",\"female\",\"female\",\"female\",\"male\",\"female\",\"female\",\"female\",\"male\",\"male\",\"male\",\"female\",\"female\",\"male\",\"female\",\"female\",\"male\",\"male\",\"female\",\"female\",\"female\",\"female\",\"male\",\"male\",\"male\",\"male\",\"female\",\"male\",\"female\",\"male\",\"male\",\"female\",\"female\",\"male\",\"male\",\"female\",\"female\",\"female\",\"male\",\"male\",\"female\",\"female\",\"male\",\"female\",\"male\",\"female\",\"male\",\"female\",\"male\",\"female\",\"female\",\"male\",\"female\",\"female\",\"female\",\"female\",\"male\",\"female\",\"female\",\"male\",\"male\",\"male\",\"female\",\"female\",\"male\",\"female\",\"male\",\"male\",\"male\",\"female\",\"male\",\"female\",\"female\",\"female\",\"male\",\"male\",\"female\",\"male\",\"female\",\"female\",\"female\",\"female\",\"female\",\"female\",\"female\",\"male\",\"female\",\"female\",\"female\",\"female\",\"male\",\"female\",\"female\",\"female\",\"female\",\"female\",\"male\",\"female\",\"female\",\"male\",\"female\",\"female\",\"male\",\"male\",\"male\",\"male\",\"female\",\"female\",\"female\",\"male\",\"female\",\"male\",\"female\",\"female\",\"female\",\"male\",\"female\",\"female\",\"male\",\"male\",\"female\",\"male\",\"male\",\"male\",\"female\",\"female\",\"male\",\"female\",\"male\",\"female\",\"female\",\"female\",\"male\",\"male\",\"male\",\"female\",\"female\",\"male\",\"male\",\"male\",\"female\",\"male\",\"female\",\"female\",\"male\",\"female\",\"female\",\"female\",\"male\",\"male\",\"male\",\"female\",\"female\",\"male\",\"male\",\"female\",\"female\",\"female\",\"female\",\"male\",\"female\",\"male\",\"female\",\"female\",\"female\",\"male\",\"male\",\"female\",\"female\",\"male\",\"male\",\"female\",\"male\",\"female\",\"male\",\"male\",\"female\",\"male\",\"female\",\"female\",\"female\",\"female\",\"male\",\"male\",\"male\",\"male\",\"male\",\"female\",\"female\",\"female\",\"male\",\"female\",\"male\",\"female\",\"male\",\"female\",\"female\",\"female\",\"male\",\"male\",\"female\",\"male\",\"female\",\"female\",\"female\",\"male\",\"female\",\"female\",\"male\",\"male\",\"male\",\"male\",\"male\",\"male\",\"female\",\"female\",\"male\",\"male\",\"female\",\"female\",\"female\",\"male\",\"male\",\"female\",\"male\",\"male\",\"male\",\"male\",\"female\",\"male\",\"female\",\"female\",\"female\",\"male\",\"male\",\"male\",\"female\",\"female\",\"male\",\"female\",\"female\",\"male\",\"female\",\"female\",\"female\",\"male\",\"male\",\"female\",\"female\",\"female\",\"female\",\"male\",\"female\",\"female\",\"female\",\"female\",\"male\",\"male\",\"female\",\"female\",\"male\",\"male\",\"male\",\"female\",\"male\",\"female\",\"male\",\"male\",\"male\",\"female\",\"female\",\"female\",\"female\",\"male\",\"male\",\"male\",\"male\",\"female\",\"male\",\"male\",\"male\",\"female\",\"female\",\"male\",\"male\",\"female\",\"female\",\"male\",\"male\",\"male\",\"male\",\"female\",\"male\",\"female\",\"male\",\"male\",\"male\",\"female\",\"female\",\"female\",\"female\",\"male\",\"male\",\"female\",\"male\",\"female\",\"male\",\"female\",\"female\",\"male\",\"female\",\"male\",\"female\",\"female\",\"male\",\"male\",\"female\",\"male\",\"female\",\"male\",\"female\",\"male\",\"female\",\"female\",\"female\",\"female\",\"female\",\"female\",\"male\",\"male\",\"female\",\"male\",\"female\",\"female\",\"female\",\"female\",\"female\",\"female\",\"male\",\"female\",\"female\",\"male\",\"female\",\"female\",\"female\",\"male\",\"female\",\"female\",\"male\",\"male\",\"male\",\"female\",\"male\",\"male\",\"female\",\"male\",\"male\",\"male\",\"female\",\"female\",\"female\",\"male\",\"female\",\"female\",\"male\",\"female\",\"male\",\"male\",\"female\",\"female\",\"male\",\"male\",\"female\",\"female\",\"male\",\"female\",\"female\",\"male\",\"male\",\"female\",\"male\",\"female\",\"male\",\"male\",\"male\",\"male\",\"female\",\"female\",\"male\",\"male\",\"female\",\"female\",\"male\",\"female\",\"female\",\"female\",\"male\",\"female\",\"female\",\"male\",\"male\",\"female\",\"female\",\"female\",\"male\",\"female\",\"female\",\"male\",\"female\",\"male\",\"male\",\"male\",\"male\",\"female\",\"male\",\"female\",\"male\",\"male\",\"female\",\"male\",\"female\",\"female\",\"male\",\"female\",\"male\",\"female\",\"male\",\"female\",\"male\",\"female\",\"male\",\"male\",\"male\",\"female\",\"male\",\"male\",\"male\",\"female\",\"male\",\"female\",\"female\",\"male\",\"male\",\"male\",\"male\",\"female\",\"female\",\"female\",\"female\",\"female\",\"female\",\"female\",\"female\",\"male\",\"female\",\"male\",\"male\",\"male\",\"female\",\"male\",\"male\",\"female\",\"female\",\"female\",\"female\",\"female\",\"male\",\"female\",\"female\",\"male\",\"female\",\"female\",\"female\",\"female\",\"male\",\"male\",\"male\",\"male\",\"male\",\"female\",\"male\",\"female\",\"male\",\"female\",\"male\",\"male\",\"female\",\"male\",\"female\",\"male\",\"female\",\"male\",\"male\",\"female\",\"female\",\"female\",\"female\",\"male\",\"female\",\"male\",\"female\",\"male\",\"female\",\"male\",\"male\",\"male\",\"male\",\"female\",\"male\",\"male\",\"female\",\"female\",\"male\",\"female\",\"male\",\"male\",\"female\",\"female\",\"male\",\"female\",\"female\",\"female\",\"female\",\"male\",\"female\",\"female\",\"male\",\"male\",\"male\",\"male\",\"male\",\"female\",\"female\",\"female\",\"female\",\"male\",\"male\",\"male\",\"male\",\"male\",\"male\",\"female\",\"male\",\"male\",\"male\",\"female\",\"female\",\"male\",\"female\",\"male\",\"male\",\"male\",\"female\",\"male\",\"male\",\"male\",\"female\",\"female\",\"male\",\"female\",\"male\",\"male\",\"female\",\"female\",\"female\",\"female\",\"female\",\"female\",\"male\",\"female\",\"male\",\"male\",\"female\",\"male\",\"male\",\"male\",\"male\",\"male\",\"male\",\"female\",\"male\",\"male\",\"female\",\"female\",\"male\",\"female\",\"male\",\"male\",\"male\",\"female\",\"female\",\"female\",\"male\",\"male\",\"male\",\"male\",\"male\",\"male\",\"male\",\"male\",\"male\",\"female\",\"male\",\"female\",\"female\",\"female\",\"male\",\"male\",\"male\",\"male\",\"female\",\"male\",\"male\",\"female\",\"male\",\"female\",\"male\",\"female\",\"male\",\"female\",\"male\",\"female\",\"male\",\"male\",\"female\",\"female\",\"female\",\"female\",\"male\",\"female\",\"female\",\"female\",\"male\",\"male\",\"female\",\"male\",\"male\",\"male\",\"female\",\"female\",\"female\",\"male\",\"female\",\"female\",\"female\",\"male\",\"female\",\"female\",\"male\",\"male\",\"male\",\"male\",\"male\",\"male\",\"female\",\"male\",\"female\",\"female\",\"female\",\"male\",\"male\",\"male\",\"male\",\"male\",\"female\",\"female\",\"female\",\"female\",\"female\",\"male\",\"female\",\"female\",\"female\",\"male\",\"male\",\"female\",\"male\",\"male\",\"male\",\"male\",\"male\",\"male\",\"female\",\"female\",\"female\",\"female\",\"male\",\"male\",\"male\",\"female\",\"female\",\"male\",\"female\",\"female\",\"female\",\"female\",\"male\",\"male\",\"male\",\"female\",\"female\",\"female\",\"female\",\"male\",\"female\",\"male\",\"female\",\"male\",\"female\",\"female\",\"female\",\"male\",\"male\",\"male\",\"male\",\"female\",\"female\",\"female\",\"female\",\"female\",\"female\",\"male\",\"female\",\"male\",\"male\",\"female\",\"male\",\"female\",\"female\",\"male\",\"female\",\"male\",\"female\",\"male\",\"female\",\"male\",\"male\",\"female\",\"male\",\"male\",\"female\",\"female\",\"female\",\"male\",\"female\",\"female\",\"male\",\"male\",\"male\",\"male\",\"female\",\"male\",\"female\",\"female\",\"female\",\"male\",\"male\",\"female\",\"female\",\"female\",\"male\",\"male\",\"female\",\"female\",\"female\",\"female\",\"female\",\"male\",\"male\",\"female\",\"female\",\"male\",\"male\",\"male\",\"male\",\"male\",\"male\",\"female\",\"male\",\"male\",\"male\",\"female\",\"female\",\"male\",\"male\",\"male\",\"female\",\"female\",\"female\",\"female\",\"male\",\"female\",\"male\",\"female\",\"female\",\"male\",\"male\",\"female\",\"female\",\"male\",\"male\",\"female\",\"female\",\"male\",\"male\",\"male\",\"female\",\"female\",\"female\",\"female\",\"female\",\"female\",\"female\",\"male\",\"male\",\"male\",\"male\",\"female\",\"female\",\"male\",\"female\",\"female\",\"male\",\"male\",\"female\",\"male\",\"female\",\"male\",\"male\",\"male\",\"female\",\"male\",\"female\",\"male\",\"female\",\"female\",\"male\",\"female\",\"female\",\"male\",\"female\",\"female\",\"female\",\"male\",\"male\",\"female\",\"female\",\"male\",\"male\",\"female\",\"female\",\"female\",\"male\",\"female\",\"female\",\"male\",\"female\",\"female\",\"female\",\"male\",\"female\",\"male\",\"female\",\"female\",\"male\",\"female\",\"female\",\"female\",\"male\",\"female\",\"male\",\"female\",\"female\",\"male\",\"male\",\"female\",\"female\",\"male\",\"male\",\"male\",\"female\",\"male\",\"female\",\"male\",\"male\",\"female\",\"female\",\"male\",\"male\",\"female\",\"female\",\"female\",\"male\",\"female\",\"female\",\"male\",\"female\",\"female\",\"female\",\"female\",\"female\",\"female\",\"female\",\"female\",\"male\",\"female\",\"female\",\"female\",\"female\",\"female\",\"male\",\"female\",\"male\",\"female\",\"female\",\"female\",\"female\",\"male\",\"male\",\"female\",\"male\",\"male\",\"male\",\"female\",\"female\",\"female\",\"female\",\"male\",\"female\",\"female\",\"male\",\"male\",\"female\",\"female\",\"female\",\"male\",\"female\",\"female\",\"female\",\"female\",\"female\",\"female\",\"female\",\"male\",\"female\",\"female\",\"male\",\"female\",\"female\",\"female\",\"female\",\"female\",\"female\",\"male\",\"female\",\"female\",\"female\",\"male\",\"male\",\"female\",\"female\",\"female\",\"female\",\"male\",\"male\",\"female\",\"male\",\"female\",\"male\",\"female\",\"female\",\"male\",\"male\",\"female\",\"male\",\"female\",\"female\",\"male\",\"male\",\"male\",\"female\",\"female\",\"female\",\"female\",\"female\",\"male\",\"male\",\"female\",\"female\",\"female\",\"male\",\"female\",\"female\",\"female\",\"male\",\"male\",\"male\",\"female\",\"male\",\"female\",\"male\",\"male\",\"female\",\"female\",\"male\",\"female\",\"female\",\"female\",\"male\",\"male\",\"male\",\"male\",\"male\",\"female\",\"female\",\"male\",\"female\",\"male\",\"male\",\"male\",\"female\",\"male\",\"female\",\"female\",\"female\",\"female\",\"female\",\"female\",\"female\",\"male\",\"male\",\"female\",\"female\",\"female\",\"male\",\"female\",\"male\",\"male\",\"male\",\"female\",\"female\",\"female\",\"male\",\"male\",\"male\",\"female\",\"male\",\"female\",\"male\",\"female\",\"female\",\"male\",\"female\",\"female\",\"male\",\"male\",\"female\",\"female\",\"male\",\"female\",\"male\",\"female\",\"female\",\"female\",\"male\",\"female\",\"male\",\"male\",\"female\",\"male\",\"female\",\"male\",\"male\",\"female\",\"female\",\"female\",\"female\",\"female\",\"female\",\"female\",\"male\",\"male\",\"male\",\"male\",\"male\",\"male\",\"male\",\"female\",\"male\",\"female\",\"male\",\"female\",\"female\",\"female\",\"male\",\"female\",\"male\",\"female\",\"male\",\"male\",\"male\",\"male\",\"female\",\"female\",\"male\",\"male\",\"male\",\"male\",\"male\",\"female\",\"female\",\"male\",\"male\",\"male\",\"female\",\"female\",\"male\",\"female\",\"female\",\"male\",\"female\",\"female\",\"male\",\"female\",\"male\",\"female\",\"male\",\"male\",\"female\",\"male\",\"male\",\"male\",\"male\",\"female\",\"female\",\"male\",\"male\",\"female\",\"male\",\"male\",\"male\",\"female\",\"female\",\"male\",\"male\",\"male\",\"female\",\"male\",\"male\",\"female\",\"male\",\"male\",\"female\",\"female\",\"male\",\"female\",\"male\",\"female\",\"female\",\"female\",\"male\",\"male\",\"female\",\"female\",\"female\",\"male\",\"female\",\"female\",\"male\",\"male\",\"male\",\"male\",\"female\",\"female\",\"female\",\"female\",\"female\",\"female\",\"male\",\"female\",\"female\",\"male\",\"female\",\"female\",\"male\",\"female\",\"male\",\"female\",\"male\",\"female\",\"male\",\"male\",\"male\",\"female\",\"female\",\"male\",\"male\",\"male\",\"female\",\"male\",\"female\",\"male\",\"female\",\"female\",\"female\",\"female\",\"female\",\"female\",\"female\",\"male\",\"female\",\"female\",\"female\",\"male\",\"male\",\"female\",\"male\",\"female\",\"female\",\"male\",\"female\",\"female\",\"male\",\"female\",\"male\",\"female\",\"female\",\"female\",\"female\",\"male\",\"male\",\"female\",\"male\",\"female\",\"male\",\"male\",\"male\",\"male\",\"male\",\"male\",\"male\",\"male\",\"male\",\"male\",\"female\",\"female\",\"female\",\"female\",\"female\",\"male\",\"female\",\"female\",\"female\",\"male\",\"male\",\"female\",\"female\",\"female\",\"male\",\"male\",\"male\",\"female\",\"female\",\"female\",\"male\",\"female\",\"male\",\"female\",\"male\",\"male\",\"male\",\"female\",\"male\",\"female\",\"male\",\"female\",\"male\",\"female\",\"female\",\"female\",\"female\",\"female\",\"female\",\"male\",\"female\",\"male\",\"female\",\"male\",\"female\",\"female\",\"male\",\"male\",\"female\",\"male\",\"female\",\"female\",\"female\",\"female\",\"female\",\"female\",\"female\",\"male\",\"male\",\"female\",\"female\",\"male\",\"female\",\"male\",\"male\",\"male\",\"female\",\"female\",\"female\",\"male\",\"female\",\"female\",\"male\",\"male\",\"female\",\"female\",\"male\",\"female\",\"male\",\"male\",\"female\",\"male\",\"female\",\"male\",\"female\",\"female\",\"male\",\"male\",\"male\",\"female\",\"male\",\"male\",\"male\",\"female\",\"male\",\"female\",\"female\",\"male\",\"female\",\"male\",\"female\",\"male\",\"female\",\"male\",\"female\",\"female\",\"female\",\"female\",\"male\",\"female\",\"female\",\"male\",\"female\",\"male\",\"female\",\"female\",\"female\",\"male\",\"male\",\"male\",\"male\",\"female\",\"female\",\"male\",\"female\",\"male\",\"female\",\"female\",\"male\",\"male\",\"male\",\"female\",\"male\",\"male\",\"female\",\"male\",\"female\",\"female\",\"female\",\"female\",\"female\",\"male\",\"male\",\"male\",\"female\",\"female\",\"male\",\"male\",\"male\",\"female\",\"male\",\"male\",\"male\",\"female\",\"female\",\"female\",\"female\",\"female\",\"male\",\"female\",\"male\",\"male\",\"male\",\"female\",\"male\",\"female\",\"male\",\"female\",\"female\",\"female\",\"female\",\"female\",\"female\",\"male\",\"female\",\"female\",\"female\",\"female\",\"male\",\"male\",\"male\",\"female\",\"female\",\"male\",\"male\",\"male\",\"male\",\"female\",\"male\",\"male\",\"male\",\"female\",\"male\",\"female\",\"female\",\"male\",\"female\",\"female\",\"male\",\"female\",\"female\",\"female\",\"male\",\"male\",\"male\",\"female\",\"male\",\"male\",\"male\",\"male\",\"male\",\"female\",\"female\",\"male\",\"male\",\"male\",\"female\",\"male\",\"female\",\"male\",\"male\",\"female\",\"female\",\"female\",\"male\",\"female\",\"female\",\"female\",\"female\",\"female\",\"male\",\"male\",\"female\",\"female\",\"female\",\"female\",\"female\",\"female\",\"male\",\"female\",\"female\",\"male\",\"female\",\"male\",\"male\",\"female\",\"male\",\"male\",\"female\",\"female\",\"male\",\"male\",\"male\",\"male\",\"female\",\"male\",\"male\",\"female\",\"female\",\"female\",\"female\",\"female\",\"female\",\"female\",\"female\",\"male\",\"male\",\"female\",\"male\",\"male\",\"male\",\"female\",\"female\",\"male\",\"female\",\"female\",\"female\",\"male\",\"female\",\"male\",\"female\",\"female\",\"female\",\"female\",\"female\",\"male\",\"male\",\"female\",\"female\",\"female\",\"female\",\"female\",\"male\",\"male\",\"female\",\"female\",\"male\",\"female\",\"female\",\"female\",\"female\",\"female\",\"female\",\"female\",\"female\",\"male\",\"male\",\"male\",\"male\",\"male\",\"female\",\"male\",\"male\",\"female\",\"female\",\"female\",\"female\",\"male\",\"male\",\"male\",\"female\",\"female\",\"female\",\"male\",\"male\",\"male\",\"female\",\"male\",\"male\",\"female\",\"female\",\"female\",\"male\",\"female\",\"male\",\"female\",\"female\",\"female\",\"male\",\"female\",\"female\",\"male\",\"female\",\"male\",\"male\",\"female\",\"female\",\"male\",\"female\",\"male\",\"male\",\"female\",\"male\",\"male\",\"female\",\"male\",\"female\",\"female\",\"male\",\"male\",\"male\",\"female\",\"female\",\"female\",\"male\",\"female\",\"male\",\"male\",\"female\",\"male\",\"female\",\"female\",\"female\",\"male\",\"male\",\"male\",\"male\",\"male\",\"male\",\"female\",\"male\",\"male\",\"male\",\"male\",\"male\",\"male\",\"female\",\"male\",\"female\",\"male\",\"male\",\"female\",\"female\",\"female\",\"female\",\"male\",\"female\",\"male\",\"male\",\"female\",\"male\",\"female\",\"female\",\"female\",\"male\",\"male\",\"female\",\"female\",\"female\",\"male\",\"female\",\"female\",\"male\",\"female\",\"female\",\"male\",\"female\",\"female\",\"male\",\"male\",\"male\",\"female\",\"female\",\"female\",\"male\",\"female\",\"male\",\"male\",\"male\",\"female\",\"male\",\"female\",\"female\",\"female\",\"female\",\"female\",\"male\",\"male\",\"female\",\"female\",\"female\",\"female\",\"female\",\"male\",\"female\",\"male\",\"male\",\"female\",\"female\",\"female\",\"male\",\"female\",\"female\",\"female\",\"male\",\"female\",\"male\",\"male\",\"male\",\"female\",\"male\",\"male\",\"male\",\"male\",\"female\",\"male\",\"male\",\"female\",\"female\",\"female\",\"male\",\"male\",\"male\",\"female\",\"female\",\"male\",\"male\",\"male\",\"female\",\"female\",\"female\",\"female\",\"male\",\"male\",\"male\",\"female\",\"male\",\"female\",\"female\",\"male\",\"female\",\"female\",\"female\",\"female\",\"female\",\"female\",\"male\",\"female\",\"female\",\"female\",\"female\",\"male\",\"female\"],\"x0\":\" \",\"xaxis\":\"x\",\"y\":{\"dtype\":\"f8\",\"bdata\":\"AAAAAACAR0AAAAAAAAA2QAAAAAAAgE5AAAAAAACATUAAAAAAAIBKQAAAAAAAgEpAAAAAAAAASEAAAAAAAIBBQAAAAAAAgEFAAAAAAACAQ0AAAAAAAABSQAAAAAAAgEFAAAAAAACARkAAAAAAAABSQAAAAAAAADxAAAAAAACASkAAAAAAAABQQAAAAAAAAFBAAAAAAAAAQ0AAAAAAAABDQAAAAAAAAFBAAAAAAACAQUAAAAAAAABLQAAAAAAAAEZAAAAAAAAAQ0AAAAAAAABIQAAAAAAAAD9AAAAAAAAAUEAAAAAAAIBGQAAAAAAAAE5AAAAAAAAAUEAAAAAAAIBBQAAAAAAAAE5AAAAAAACAQ0AAAAAAAEBSQAAAAAAAgEpAAAAAAACAQUAAAAAAAABFQAAAAAAAADhAAAAAAACATEAAAAAAAABIQAAAAAAAAEhAAAAAAACARkAAAAAAAEBQQAAAAAAAgEpAAAAAAAAASEAAAAAAAIBHQAAAAAAAgEpAAAAAAAAASEAAAAAAAABUQAAAAAAAAE5AAAAAAACAUEAAAAAAAIBAQAAAAAAAAEBAAAAAAAAAOUAAAAAAAAA\\u002fQAAAAAAAADlAAAAAAACAQUAAAAAAAIBFQAAAAAAAAEhAAAAAAACAQUAAAAAAAABOQAAAAAAAgEFAAAAAAACAR0AAAAAAAABNQAAAAAAAAEtAAAAAAACAQ0AAAAAAAAA8QAAAAAAAgE9AAAAAAACARkAAAAAAAABAQAAAAAAAgExAAAAAAACAQkAAAAAAAABKQAAAAAAAgE1AAAAAAACASUAAAAAAAABDQAAAAAAAgEFAAAAAAAAATkAAAAAAAAA5QAAAAAAAADlAAAAAAACAS0AAAAAAAMBQQAAAAAAAwFJAAAAAAACASUAAAAAAAABSQAAAAAAAgEFAAAAAAACAQUAAAAAAAABFQAAAAAAAAEtAAAAAAACAQ0AAAAAAAIBNQAAAAAAAQFFAAAAAAAAATkAAAAAAAIBKQAAAAAAAgE9AAAAAAAAAQEAAAAAAAIBFQAAAAAAAAEdAAAAAAACASUAAAAAAAIBGQAAAAAAAAFBAAAAAAACAR0AAAAAAAABDQAAAAAAAAD9AAAAAAAAAP0AAAAAAAIBKQAAAAAAAAElAAAAAAAAASkAAAAAAAABCQAAAAAAAAEZAAAAAAAAAQ0AAAAAAAIBKQAAAAAAAAD9AAAAAAAAASEAAAAAAAIBIQAAAAAAAAFBAAAAAAADAUUAAAAAAAABCQAAAAAAAgElAAAAAAADAUEAAAAAAAABSQAAAAAAAQFJAAAAAAAAAUkAAAAAAAABKQAAAAAAAAENAAAAAAACARkAAAAAAAAA5QAAAAAAAADZAAAAAAAAAUEAAAAAAAABGQAAAAAAAgE5AAAAAAAAAOUAAAAAAAIBNQAAAAAAAgEBAAAAAAAAAOUAAAAAAAABKQAAAAAAAAERAAAAAAADAUUAAAAAAAIBHQAAAAAAAAEhAAAAAAAAAUEAAAAAAAABIQAAAAAAAADhAAAAAAAAAP0AAAAAAAIBOQAAAAAAAAEBAAAAAAACAQUAAAAAAAABDQAAAAAAAADhAAAAAAACAQUAAAAAAAABGQAAAAAAAADhAAAAAAAAAQ0AAAAAAAAA\\u002fQAAAAAAAADhAAAAAAACARkAAAAAAAIBEQAAAAAAAgEhAAAAAAAAAUkAAAAAAAIBIQAAAAAAAAFJAAAAAAAAAR0AAAAAAAABOQAAAAAAAADxAAAAAAAAAOUAAAAAAAABIQAAAAAAAQFFAAAAAAAAATkAAAAAAAIBHQAAAAAAAAD9AAAAAAACAQ0AAAAAAAEBQQAAAAAAAADJAAAAAAAAAQUAAAAAAAIBIQAAAAAAAgE5AAAAAAACAR0AAAAAAAIBFQAAAAAAAAEhAAAAAAAAANkAAAAAAAIBCQAAAAAAAAEdAAAAAAAAAR0AAAAAAAIBHQAAAAAAAAENAAAAAAACARkAAAAAAAAA9QAAAAAAAgENAAAAAAAAAQEAAAAAAAABDQAAAAAAAgENAAAAAAACAS0AAAAAAAAA4QAAAAAAAAENAAAAAAAAASUAAAAAAAABDQAAAAAAAgEZAAAAAAACAS0AAAAAAAABAQAAAAAAAgEhAAAAAAAAASEAAAAAAAIBHQAAAAAAAgE1AAAAAAACAR0AAAAAAAAAxQAAAAAAAgEZAAAAAAACAREAAAAAAAIBAQAAAAAAAgEFAAAAAAAAANUAAAAAAAAA\\u002fQAAAAAAAADVAAAAAAACAQ0AAAAAAAABOQAAAAAAAAElAAAAAAAAAP0AAAAAAAIBLQAAAAAAAgEhAAAAAAAAAOUAAAAAAAABIQAAAAAAAgE5AAAAAAAAAQ0AAAAAAAABCQAAAAAAAgENAAAAAAAAAQEAAAAAAAAA2QAAAAAAAAENAAAAAAAAAOEAAAAAAAAA\\u002fQAAAAAAAgEZAAAAAAABAUUAAAAAAAABQQAAAAAAAgEFAAAAAAACASEAAAAAAAABIQAAAAAAAADhAAAAAAAAASUAAAAAAAABIQAAAAAAAAElAAAAAAAAARkAAAAAAAIBLQAAAAAAAAENAAAAAAACARkAAAAAAAIBHQAAAAAAAAD9AAAAAAAAAR0AAAAAAAABHQAAAAAAAAERAAAAAAAAAOUAAAAAAAABGQAAAAAAAAERAAAAAAACAS0AAAAAAAABIQAAAAAAAgEtAAAAAAAAAUkAAAAAAAABSQAAAAAAAAEhAAAAAAACASEAAAAAAAIBMQAAAAAAAgEpAAAAAAAAAP0AAAAAAAAA4QAAAAAAAQFBAAAAAAAAAUkAAAAAAAIBIQAAAAAAAgEpAAAAAAAAAR0AAAAAAAIBBQAAAAAAAgEdAAAAAAACASkAAAAAAAABDQAAAAAAAgEdAAAAAAAAAQ0AAAAAAAIBGQAAAAAAAgE5AAAAAAACASEAAAAAAAABKQAAAAAAAAEpAAAAAAACASEAAAAAAAEBQQAAAAAAAAD9AAAAAAABAUkAAAAAAAIBSQAAAAAAAAEJAAAAAAACAS0AAAAAAAIBQQAAAAAAAgEVAAAAAAAAATkAAAAAAAMBSQAAAAAAAAElAAAAAAACAQEAAAAAAAABDQAAAAAAAgENAAAAAAACAQEAAAAAAAIBOQAAAAAAAgEVAAAAAAAAASEAAAAAAAAA6QAAAAAAAADtAAAAAAAAAPEAAAAAAAABAQAAAAAAAAERAAAAAAAAATkAAAAAAAIBOQAAAAAAAgEdAAAAAAAAASEAAAAAAAMBSQAAAAAAAAElAAAAAAACAUEAAAAAAAABSQAAAAAAAADFAAAAAAAAAUkAAAAAAAEBRQAAAAAAAgEhAAAAAAAAARkAAAAAAAABLQAAAAAAAgEtAAAAAAACAQ0AAAAAAAEBRQAAAAAAAgEFAAAAAAACASUAAAAAAAIBHQAAAAAAAgENAAAAAAAAAQkAAAAAAAIBDQAAAAAAAAEhAAAAAAACASkAAAAAAAABOQAAAAAAAQFBAAAAAAACASUAAAAAAAIBBQAAAAAAAgEVAAAAAAAAAUkAAAAAAAAA\\u002fQAAAAAAAAExAAAAAAAAATkAAAAAAAIBCQAAAAAAAAEdAAAAAAACARkAAAAAAAIBCQAAAAAAAgFJAAAAAAABAUEAAAAAAAABSQAAAAAAAAFJAAAAAAAAAUkAAAAAAAABPQAAAAAAAgEpAAAAAAACASUAAAAAAAABCQAAAAAAAgEpAAAAAAAAASEAAAAAAAIBPQAAAAAAAAENAAAAAAAAAT0AAAAAAAIBLQAAAAAAAgE5AAAAAAACAT0AAAAAAAEBRQAAAAAAAADFAAAAAAABAUEAAAAAAAIBSQAAAAAAAAEZAAAAAAACATkAAAAAAAAA5QAAAAAAAgEpAAAAAAACAUkAAAAAAAABIQAAAAAAAAENAAAAAAACASkAAAAAAAIBPQAAAAAAAgFFAAAAAAACAR0AAAAAAAABDQAAAAAAAAD9AAAAAAAAANkAAAAAAAAA5QAAAAAAAgEFAAAAAAAAASEAAAAAAAABLQAAAAAAAAEhAAAAAAAAAQ0AAAAAAAIBBQAAAAAAAAEhAAAAAAACASkAAAAAAAABQQAAAAAAAgExAAAAAAAAARUAAAAAAAIBGQAAAAAAAgEdAAAAAAAAAS0AAAAAAAABIQAAAAAAAgEdAAAAAAACAQUAAAAAAAIBLQAAAAAAAAEhAAAAAAACATkAAAAAAAIBJQAAAAAAAAE1AAAAAAACAQ0AAAAAAAAA5QAAAAAAAgEdAAAAAAAAASUAAAAAAAIBSQAAAAAAAgEhAAAAAAACAQkAAAAAAAIBNQAAAAAAAgEdAAAAAAAAAP0AAAAAAAABDQAAAAAAAADpAAAAAAACAQ0AAAAAAAIBDQAAAAAAAADpAAAAAAACAQEAAAAAAAABDQAAAAAAAADlAAAAAAAAAUEAAAAAAAIBGQAAAAAAAAEhAAAAAAACAQUAAAAAAAIBKQAAAAAAAAEhAAAAAAACATkAAAAAAAIBDQAAAAAAAAE1AAAAAAAAATkAAAAAAAIBAQAAAAAAAADBAAAAAAACAR0AAAAAAAABQQAAAAAAAAEhAAAAAAAAAPEAAAAAAAABGQAAAAAAAADdAAAAAAAAASEAAAAAAAABIQAAAAAAAgEpAAAAAAACAR0AAAAAAAABIQAAAAAAAAEtAAAAAAAAASkAAAAAAAIBHQAAAAAAAgE1AAAAAAAAAQ0AAAAAAAIBGQAAAAAAAAENAAAAAAAAAP0AAAAAAAABQQAAAAAAAAD5AAAAAAACARkAAAAAAAIBGQAAAAAAAAE9AAAAAAAAAUEAAAAAAAAA5QAAAAAAAgEZAAAAAAAAAOUAAAAAAAAA\\u002fQAAAAAAAAEdAAAAAAABAUUAAAAAAAABHQAAAAAAAgEpAAAAAAAAAUEAAAAAAAIBDQAAAAAAAADZAAAAAAAAAOUAAAAAAAAA4QAAAAAAAAEJAAAAAAAAAQEAAAAAAAIBPQAAAAAAAgEtAAAAAAAAARkAAAAAAAIBLQAAAAAAAAEBAAAAAAAAARkAAAAAAAEBQQAAAAAAAgElAAAAAAAAATkAAAAAAAIBPQAAAAAAAgEVAAAAAAACAUkAAAAAAAABIQAAAAAAAgEZAAAAAAACASEAAAAAAAIBHQAAAAAAAAFBAAAAAAACASkAAAAAAAABIQAAAAAAAgFFAAAAAAACAR0AAAAAAAABDQAAAAAAAgEFAAAAAAAAAP0AAAAAAAAA\\u002fQAAAAAAAADtAAAAAAAAAQUAAAAAAAABDQAAAAAAAAEhAAAAAAAAAP0AAAAAAAIBBQAAAAAAAgE5AAAAAAACASkAAAAAAAABOQAAAAAAAgFJAAAAAAAAAOEAAAAAAAIBKQAAAAAAAgEhAAAAAAAAAQ0AAAAAAAMBSQAAAAAAAgFBAAAAAAACAUEAAAAAAAABFQAAAAAAAAFBAAAAAAAAASEAAAAAAAABCQAAAAAAAAEhAAAAAAACATUAAAAAAAMBQQAAAAAAAgEVAAAAAAACASkAAAAAAAAA\\u002fQAAAAAAAAFBAAAAAAAAAPEAAAAAAAABQQAAAAAAAAEBAAAAAAAAATkAAAAAAAABNQAAAAAAAgE5AAAAAAAAAP0AAAAAAAABOQAAAAAAAgEpAAAAAAAAAQ0AAAAAAAIBLQAAAAAAAAEZAAAAAAABAUUAAAAAAAIBGQAAAAAAAwFJAAAAAAABAUkAAAAAAAIBDQAAAAAAAgEZAAAAAAACAQUAAAAAAAABDQAAAAAAAgEdAAAAAAAAAOEAAAAAAAIBHQAAAAAAAAE5AAAAAAAAAT0AAAAAAAIBHQAAAAAAAgEZAAAAAAACAQEAAAAAAAAA4QAAAAAAAAEhAAAAAAAAAREAAAAAAAABHQAAAAAAAgEZAAAAAAAAASEAAAAAAAIBEQAAAAAAAgEpAAAAAAABAUUAAAAAAAAA4QAAAAAAAgFBAAAAAAACASEAAAAAAAAA7QAAAAAAAQFBAAAAAAAAATUAAAAAAAABDQAAAAAAAAD9AAAAAAAAATkAAAAAAAABIQAAAAAAAAERAAAAAAACASkAAAAAAAAA8QAAAAAAAgEJAAAAAAACAQUAAAAAAAABJQAAAAAAAADtAAAAAAACAQUAAAAAAAAA8QAAAAAAAgEZAAAAAAAAAOEAAAAAAAIBBQAAAAAAAgE5AAAAAAACAQkAAAAAAAIBHQAAAAAAAAD9AAAAAAACASUAAAAAAAIBGQAAAAAAAgE5AAAAAAAAAT0AAAAAAAABDQAAAAAAAQFFAAAAAAACATkAAAAAAAIBBQAAAAAAAgEZAAAAAAAAAP0AAAAAAAABHQAAAAAAAgEBAAAAAAACAUkAAAAAAAIBAQAAAAAAAADpAAAAAAACAQUAAAAAAAABJQAAAAAAAgEdAAAAAAACAUkAAAAAAAIBBQAAAAAAAgEVAAAAAAAAAS0AAAAAAAABUQAAAAAAAQFFAAAAAAAAANkAAAAAAAAA8QAAAAAAAADhAAAAAAAAAR0AAAAAAAIBGQAAAAAAAAENAAAAAAADAUEAAAAAAAAA9QAAAAAAAADlAAAAAAAAASEAAAAAAAIBBQAAAAAAAgEZAAAAAAACASUAAAAAAAABJQAAAAAAAgElAAAAAAACAQ0AAAAAAAIBMQAAAAAAAAD9AAAAAAACAUEAAAAAAAIBKQAAAAAAAgE1AAAAAAACATkAAAAAAAAA4QAAAAAAAADlAAAAAAACAQ0AAAAAAAIBKQAAAAAAAgEFAAAAAAAAAP0AAAAAAAABDQAAAAAAAAERAAAAAAAAAREAAAAAAAABGQAAAAAAAAFBAAAAAAAAAQ0AAAAAAAABDQAAAAAAAAENAAAAAAACARkAAAAAAAAA\\u002fQAAAAAAAAEBAAAAAAAAAPEAAAAAAAAA5QAAAAAAAgEBAAAAAAAAAOUAAAAAAAAA\\u002fQAAAAAAAAEJAAAAAAAAAOUAAAAAAAIBBQAAAAAAAADVAAAAAAAAAOUAAAAAAAABOQAAAAAAAAEhAAAAAAAAAQ0AAAAAAAABDQAAAAAAAAEZAAAAAAAAAOUAAAAAAAABFQAAAAAAAgEpAAAAAAACASEAAAAAAAIBCQAAAAAAAAEpAAAAAAACASEAAAAAAAAA4QAAAAAAAgElAAAAAAACASEAAAAAAAIBGQAAAAAAAAEhAAAAAAACATUAAAAAAAIBPQAAAAAAAgEpAAAAAAAAAUEAAAAAAAIBBQAAAAAAAAElAAAAAAAAAQ0AAAAAAAABDQAAAAAAAgEhAAAAAAACAQUAAAAAAAAA\\u002fQAAAAAAAAEBAAAAAAACAQUAAAAAAAABAQAAAAAAAAEpAAAAAAAAAUEAAAAAAAABAQAAAAAAAAE5AAAAAAACARkAAAAAAAABDQAAAAAAAAElAAAAAAAAAP0AAAAAAAABJQAAAAAAAgEdAAAAAAAAAQ0AAAAAAAEBSQAAAAAAAgEZAAAAAAAAAOUAAAAAAAAA8QAAAAAAAAD9AAAAAAAAAPkAAAAAAAIBBQAAAAAAAAD9AAAAAAAAAREAAAAAAAABOQAAAAAAAADxAAAAAAAAAOUAAAAAAAIBNQAAAAAAAgEFAAAAAAACAR0AAAAAAAABKQAAAAAAAgE5AAAAAAACAT0AAAAAAAIBKQAAAAAAAgE9AAAAAAAAAQ0AAAAAAAABHQAAAAAAAADpAAAAAAAAATkAAAAAAAIBHQAAAAAAAgEhAAAAAAACAREAAAAAAAABOQAAAAAAAgElAAAAAAAAATkAAAAAAAAA5QAAAAAAAgEBAAAAAAACATEAAAAAAAAA\\u002fQAAAAAAAgEpAAAAAAACAQUAAAAAAAABBQAAAAAAAAERAAAAAAACASUAAAAAAAIBDQAAAAAAAAEhAAAAAAAAAQkAAAAAAAABDQAAAAAAAADlAAAAAAACAQUAAAAAAAABHQAAAAAAAgEVAAAAAAAAARUAAAAAAAABIQAAAAAAAgEdAAAAAAACAS0AAAAAAAABDQAAAAAAAAE9AAAAAAACAQUAAAAAAAIBOQAAAAAAAgEFAAAAAAAAAQ0AAAAAAAIBHQAAAAAAAAEJAAAAAAACASkAAAAAAAAA2QAAAAAAAgEVAAAAAAACAQUAAAAAAAIBBQAAAAAAAgEpAAAAAAAAAP0AAAAAAAAA4QAAAAAAAgEFAAAAAAABAUkAAAAAAAAA+QAAAAAAAgEdAAAAAAAAAPEAAAAAAAAA1QAAAAAAAgEFAAAAAAAAAQ0AAAAAAAAA2QAAAAAAAAD9AAAAAAAAASUAAAAAAAAAxQAAAAAAAgE5AAAAAAAAAPUAAAAAAAAA8QAAAAAAAgE5AAAAAAACATkAAAAAAAAA\\u002fQAAAAAAAgEtAAAAAAACAS0AAAAAAAAA\\u002fQAAAAAAAQFBAAAAAAAAAR0AAAAAAAIBBQAAAAAAAAEdAAAAAAACARUAAAAAAAABOQAAAAAAAAEdAAAAAAACAQkAAAAAAAABMQAAAAAAAgEJAAAAAAACAQUAAAAAAAAA+QAAAAAAAAENAAAAAAACASkAAAAAAAABJQAAAAAAAgEFAAAAAAACAR0AAAAAAAIBBQAAAAAAAgEhAAAAAAAAAQ0AAAAAAAAA2QAAAAAAAgE5AAAAAAACAR0AAAAAAAABJQAAAAAAAADhAAAAAAACAQUAAAAAAAABIQAAAAAAAgE1AAAAAAAAAR0AAAAAAAEBSQAAAAAAAgEZAAAAAAABAUEAAAAAAAIBAQAAAAAAAgElAAAAAAACARkAAAAAAAABQQAAAAAAAgE1AAAAAAACASkAAAAAAAAA5QAAAAAAAgEdAAAAAAAAASEAAAAAAAABDQAAAAAAAgEpAAAAAAACAT0AAAAAAAABOQAAAAAAAAE9AAAAAAAAAP0AAAAAAAABKQAAAAAAAgElAAAAAAACATkAAAAAAAIBBQAAAAAAAAD9AAAAAAAAAUEAAAAAAAABIQAAAAAAAQFJAAAAAAACASEAAAAAAAIBDQAAAAAAAgEZAAAAAAAAAQ0AAAAAAAABMQAAAAAAAgERAAAAAAAAAOUAAAAAAAIBBQAAAAAAAAElAAAAAAACAQUAAAAAAAABDQAAAAAAAgEFAAAAAAACAS0AAAAAAAAA4QAAAAAAAgEFAAAAAAAAAOEAAAAAAAAA\\u002fQAAAAAAAADVAAAAAAAAANUAAAAAAAIBKQAAAAAAAAE5AAAAAAAAAOUAAAAAAAIBAQAAAAAAAADFAAAAAAACAQUAAAAAAAIBPQAAAAAAAAEdAAAAAAACAQEAAAAAAAIBBQAAAAAAAADxAAAAAAACARUAAAAAAAABQQAAAAAAAgEZAAAAAAAAAOUAAAAAAAABCQAAAAAAAgENAAAAAAAAAPEAAAAAAAIBEQAAAAAAAgEpAAAAAAACATkAAAAAAAABGQAAAAAAAQFJAAAAAAACATkAAAAAAAIBPQAAAAAAAgEhAAAAAAAAASEAAAAAAAABPQAAAAAAAgExAAAAAAACAT0AAAAAAAABDQAAAAAAAAERAAAAAAABAUUAAAAAAAABQQAAAAAAAAEpAAAAAAACAQUAAAAAAAIBDQAAAAAAAgElAAAAAAAAARUAAAAAAAABEQAAAAAAAAEdAAAAAAAAAR0AAAAAAAABDQAAAAAAAgEpAAAAAAAAAPEAAAAAAAAA5QAAAAAAAgE5AAAAAAACAR0AAAAAAAIBHQAAAAAAAAEZAAAAAAAAAO0AAAAAAAIBOQAAAAAAAgENAAAAAAAAASUAAAAAAAABUQAAAAAAAAElAAAAAAAAAR0AAAAAAAAA1QAAAAAAAgEdAAAAAAAAAP0AAAAAAAAA4QAAAAAAAAEhAAAAAAACAT0AAAAAAAIBAQAAAAAAAAENAAAAAAACAS0AAAAAAAIBOQAAAAAAAgEFAAAAAAACASkAAAAAAAIBOQAAAAAAAAFJAAAAAAAAASUAAAAAAAIBSQAAAAAAAAEdAAAAAAACASUAAAAAAAIBJQAAAAAAAgE5AAAAAAAAATUAAAAAAAABOQAAAAAAAADpAAAAAAACARkAAAAAAAAA5QAAAAAAAADZAAAAAAACAQ0AAAAAAAIBGQAAAAAAAAENAAAAAAACASkAAAAAAAIBNQAAAAAAAAENAAAAAAACASEAAAAAAAABEQAAAAAAAgEZAAAAAAACAUEAAAAAAAAA6QAAAAAAAAFRAAAAAAACATkAAAAAAAABOQAAAAAAAgE5AAAAAAACASkAAAAAAAIBOQAAAAAAAAEhAAAAAAAAAOEAAAAAAAIBGQAAAAAAAAFBAAAAAAAAAUEAAAAAAAABGQAAAAAAAAEFAAAAAAAAAR0AAAAAAAIBAQAAAAAAAgE5AAAAAAACASkAAAAAAAABIQAAAAAAAADtAAAAAAACASEAAAAAAAIBIQAAAAAAAAEVAAAAAAAAAT0AAAAAAAIBBQAAAAAAAAEVAAAAAAACAUUAAAAAAAEBRQAAAAAAAADlAAAAAAAAAQ0AAAAAAAAA4QAAAAAAAAElAAAAAAACAQEAAAAAAAABQQAAAAAAAQFBAAAAAAACAQ0AAAAAAAIBGQAAAAAAAAE5AAAAAAABAUEAAAAAAAIBKQAAAAAAAgEBAAAAAAAAASEAAAAAAAABDQAAAAAAAgEBAAAAAAACAQUAAAAAAAIBCQAAAAAAAADlAAAAAAACAQEAAAAAAAIBDQAAAAAAAADpAAAAAAAAAQ0AAAAAAAABDQAAAAAAAADxAAAAAAAAAOUAAAAAAAAA5QAAAAAAAgERAAAAAAACAR0AAAAAAAAA\\u002fQAAAAAAAADZAAAAAAAAAUEAAAAAAAABCQAAAAAAAgEpAAAAAAACASUAAAAAAAIBHQAAAAAAAAERAAAAAAAAAOEAAAAAAAIBCQAAAAAAAAEhAAAAAAACAR0AAAAAAAABJQAAAAAAAAENAAAAAAAAASUAAAAAAAIBBQAAAAAAAAExAAAAAAAAAREAAAAAAAIBIQAAAAAAAAEZAAAAAAAAAQ0AAAAAAAABIQAAAAAAAgEpAAAAAAAAASUAAAAAAAABGQAAAAAAAQFFAAAAAAABAUEAAAAAAAABOQAAAAAAAgEhAAAAAAADAUkAAAAAAAABHQAAAAAAAAEVAAAAAAACAQEAAAAAAAABJQAAAAAAAgEdAAAAAAAAAOUAAAAAAAIBAQAAAAAAAAD9AAAAAAAAAR0AAAAAAAAA5QAAAAAAAgEVAAAAAAAAASEAAAAAAAIBNQAAAAAAAgENAAAAAAACAQUAAAAAAAABPQAAAAAAAgFJAAAAAAAAASEAAAAAAAAA5QAAAAAAAgEJAAAAAAACAQUAAAAAAAIBOQAAAAAAAAEJAAAAAAACAQ0AAAAAAAIBHQAAAAAAAAEdAAAAAAACARUAAAAAAAABMQAAAAAAAAEdAAAAAAACAQUAAAAAAAIBOQAAAAAAAAD9AAAAAAAAASEAAAAAAAAA+QAAAAAAAADhAAAAAAAAAQ0AAAAAAAIBKQAAAAAAAQFFAAAAAAACAR0AAAAAAAIBBQAAAAAAAADxAAAAAAACAQ0AAAAAAAIBSQAAAAAAAgEpAAAAAAAAAQ0AAAAAAAIBGQAAAAAAAgEVAAAAAAABAUEAAAAAAAAA\\u002fQAAAAAAAADxAAAAAAAAASEAAAAAAAAA8QAAAAAAAAE1AAAAAAAAAP0AAAAAAAIBHQAAAAAAAwFBAAAAAAAAAOUAAAAAAAAA4QAAAAAAAAEFAAAAAAACAR0AAAAAAAAA\\u002fQAAAAAAAAFBAAAAAAACAR0AAAAAAAABHQAAAAAAAQFFAAAAAAACARUAAAAAAAEBRQAAAAAAAgERAAAAAAACASEAAAAAAAABDQAAAAAAAgEpAAAAAAACASUAAAAAAAABAQAAAAAAAADlAAAAAAAAAUEAAAAAAAIBIQAAAAAAAAEJAAAAAAACAS0AAAAAAAABIQAAAAAAAAERAAAAAAAAAPUAAAAAAAABJQAAAAAAAADlAAAAAAAAAUkAAAAAAAABJQAAAAAAAAFBAAAAAAAAAUEAAAAAAAABAQAAAAAAAAEBAAAAAAACAR0AAAAAAAABQQAAAAAAAgEFAAAAAAACASEAAAAAAAAA\\u002fQAAAAAAAgEpAAAAAAAAATkAAAAAAAABHQAAAAAAAAENAAAAAAAAAUEAAAAAAAABIQAAAAAAAgEJAAAAAAAAAQEAAAAAAAIBOQAAAAAAAAFBAAAAAAACAQUAAAAAAAIBJQAAAAAAAgEFAAAAAAAAAOEAAAAAAAIBBQAAAAAAAgENAAAAAAACAQkAAAAAAAIBOQAAAAAAAgEJAAAAAAAAAQ0AAAAAAAIBGQAAAAAAAgEJAAAAAAAAAOUAAAAAAAIBJQAAAAAAAADxAAAAAAACASUAAAAAAAABNQAAAAAAAgEZAAAAAAAAASUAAAAAAAABFQAAAAAAAAEJAAAAAAAAASUAAAAAAAABIQAAAAAAAgFJAAAAAAAAAPEAAAAAAAABQQAAAAAAAgENAAAAAAACAR0AAAAAAAAA4QAAAAAAAAD9AAAAAAAAAP0AAAAAAAEBQQAAAAAAAAD1AAAAAAAAARkAAAAAAAAA\\u002fQAAAAAAAADRAAAAAAAAAUkAAAAAAAIBSQAAAAAAAgEJAAAAAAACAQUAAAAAAAIBHQAAAAAAAAEZAAAAAAAAAP0AAAAAAAIBDQAAAAAAAgEdAAAAAAAAAOEAAAAAAAIBBQAAAAAAAADZAAAAAAAAATkAAAAAAAAAxQAAAAAAAAFBAAAAAAAAAPEAAAAAAAIBBQAAAAAAAgEBAAAAAAAAAUUAAAAAAAABIQAAAAAAAAEhAAAAAAADAUUAAAAAAAABHQAAAAAAAgENAAAAAAAAAQ0AAAAAAAIBHQAAAAAAAAEBAAAAAAAAAP0AAAAAAAIBSQAAAAAAAgEdAAAAAAAAAPEAAAAAAAABDQAAAAAAAAERAAAAAAACASUAAAAAAAABIQAAAAAAAADZAAAAAAACAUkAAAAAAAAA5QAAAAAAAADlAAAAAAABAUEAAAAAAAABOQAAAAAAAgEhAAAAAAACAQUAAAAAAAAA8QAAAAAAAAD5AAAAAAABAUEAAAAAAAIBOQAAAAAAAAElAAAAAAACAUkAAAAAAAABDQAAAAAAAADxAAAAAAAAAQEAAAAAAAAA9QAAAAAAAADlAAAAAAACASEAAAAAAAABIQAAAAAAAgEFAAAAAAACASEAAAAAAAABSQAAAAAAAAEdAAAAAAAAAQkAAAAAAAIBAQAAAAAAAAD1AAAAAAAAAUEAAAAAAAAA8QAAAAAAAAD9AAAAAAAAAP0AAAAAAAIBNQAAAAAAAgEFAAAAAAAAAQ0AAAAAAAAA6QAAAAAAAAEZAAAAAAACAR0AAAAAAAIBHQAAAAAAAADpAAAAAAAAASkAAAAAAAAA\\u002fQAAAAAAAgEJAAAAAAACAQ0AAAAAAAABFQAAAAAAAQFJAAAAAAACAS0AAAAAAAAA4QAAAAAAAAD9AAAAAAAAAPUAAAAAAAIBGQAAAAAAAAEVAAAAAAACAQUAAAAAAAAA5QAAAAAAAgEBAAAAAAAAAQEAAAAAAAIBKQAAAAAAAgEBAAAAAAAAAUEAAAAAAAABQQAAAAAAAgEhAAAAAAAAAO0AAAAAAAAA7QAAAAAAAAElAAAAAAACARkAAAAAAAAA\\u002fQAAAAAAAgEdAAAAAAACAR0AAAAAAAIBHQAAAAAAAgEVAAAAAAACASkAAAAAAAABPQAAAAAAAgEdAAAAAAAAAR0AAAAAAAAA5QAAAAAAAAD9AAAAAAACAUUAAAAAAAIBHQAAAAAAAADlAAAAAAAAAQkAAAAAAAABJQAAAAAAAgEFAAAAAAACAQkAAAAAAAAA7QAAAAAAAAE5AAAAAAACAQ0AAAAAAAIBEQAAAAAAAAElAAAAAAAAAOUAAAAAAAIBHQAAAAAAAAFBAAAAAAAAAUEAAAAAAAAAwQAAAAAAAADlAAAAAAAAASEAAAAAAAABEQAAAAAAAgE5AAAAAAAAAPEAAAAAAAAA5QAAAAAAAADlAAAAAAACASkAAAAAAAIBNQAAAAAAAAE1AAAAAAAAAP0AAAAAAAIBJQAAAAAAAgFBAAAAAAAAAQ0AAAAAAAIBDQAAAAAAAADlAAAAAAACARUAAAAAAAIBDQAAAAAAAAElAAAAAAACARUAAAAAAAIBBQAAAAAAAgENAAAAAAAAAUEAAAAAAAIBAQAAAAAAAAEdAAAAAAACASEAAAAAAAABQQAAAAAAAAEBAAAAAAACAS0AAAAAAAIBOQAAAAAAAgEVAAAAAAAAAPEAAAAAAAABHQAAAAAAAgEFAAAAAAAAAQUAAAAAAAAA\\u002fQAAAAAAAAE5AAAAAAAAASEAAAAAAAABAQAAAAAAAgEJAAAAAAAAAOUAAAAAAAAA5QAAAAAAAAEhAAAAAAACASEAAAAAAAABIQAAAAAAAgEFAAAAAAAAAT0AAAAAAAIBHQAAAAAAAAD9AAAAAAACASkAAAAAAAIBIQAAAAAAAAE9AAAAAAAAATkAAAAAAAABCQAAAAAAAADhAAAAAAAAATEAAAAAAAABLQAAAAAAAgEpAAAAAAAAASUAAAAAAAABAQAAAAAAAAFBAAAAAAAAASEAAAAAAAABJQAAAAAAAAERAAAAAAAAAR0AAAAAAAIBGQAAAAAAAwFBAAAAAAAAAQ0AAAAAAAABKQAAAAAAAgEVAAAAAAAAASUAAAAAAAIBDQAAAAAAAgEFAAAAAAACAREAAAAAAAIBBQAAAAAAAAEdAAAAAAAAAQ0AAAAAAAAA1QAAAAAAAAExAAAAAAACAQkAAAAAAAAA5QAAAAAAAAEhAAAAAAAAAUkAAAAAAAAA\\u002fQAAAAAAAAEhAAAAAAAAAREAAAAAAAAA8QAAAAAAAgEFAAAAAAACARkAAAAAAAABOQAAAAAAAAEVAAAAAAACAQEAAAAAAAABNQAAAAAAAgEhAAAAAAACATkAAAAAAAIBBQAAAAAAAADVAAAAAAACAQ0AAAAAAAIBBQAAAAAAAgENAAAAAAAAAQ0AAAAAAAABOQAAAAAAAgEFAAAAAAAAAPEAAAAAAAIBIQAAAAAAAgE9AAAAAAACASkAAAAAAAABUQAAAAAAAQFBAAAAAAAAAQ0AAAAAAAIBNQAAAAAAAAEZAAAAAAABAUkAAAAAAAIBPQAAAAAAAgEpAAAAAAACATkAAAAAAAAA1QAAAAAAAgElAAAAAAACAQUAAAAAAAABHQAAAAAAAgEVAAAAAAAAAOUAAAAAAAABAQAAAAAAAAEhAAAAAAAAATUAAAAAAAIBLQAAAAAAAADtAAAAAAACAR0AAAAAAAABIQAAAAAAAAEdAAAAAAACARUAAAAAAAABIQAAAAAAAAEhAAAAAAAAAP0AAAAAAAABBQAAAAAAAAEdAAAAAAAAAMkAAAAAAAIBIQAAAAAAAAE9AAAAAAAAAP0AAAAAAAABCQAAAAAAAgENAAAAAAAAASEAAAAAAAAA8QAAAAAAAAElAAAAAAAAAOUAAAAAAAIBGQAAAAAAAgEpAAAAAAACAQUAAAAAAAAA5QAAAAAAAAE5AAAAAAACAQ0AAAAAAAABDQAAAAAAAgEFAAAAAAACAQkAAAAAAAIBIQAAAAAAAgEpAAAAAAAAAT0AAAAAAAABJQAAAAAAAgEFAAAAAAAAAOEAAAAAAAIBKQAAAAAAAADlAAAAAAACAQ0AAAAAAAAA7QAAAAAAAQFBAAAAAAACAR0AAAAAAAABDQAAAAAAAgEZAAAAAAABAUkAAAAAAAABPQAAAAAAAAFBAAAAAAACAR0AAAAAAAABDQAAAAAAAAE5AAAAAAACASkAAAAAAAAA\\u002fQAAAAAAAADhAAAAAAACAUkAAAAAAAABAQAAAAAAAADlAAAAAAAAAR0AAAAAAAABQQAAAAAAAAFBAAAAAAACARkAAAAAAAIBNQAAAAAAAgEpAAAAAAACAQ0AAAAAAAAA\\u002fQAAAAAAAAFBAAAAAAAAAOEAAAAAAAAA1QAAAAAAAgFBAAAAAAAAAOEAAAAAAAIBOQAAAAAAAgENAAAAAAAAAOUAAAAAAAABMQAAAAAAAgEpAAAAAAAAAOUAAAAAAAABHQAAAAAAAAFJAAAAAAACAQUAAAAAAAABOQAAAAAAAgElAAAAAAAAAP0AAAAAAAAA4QAAAAAAAADhAAAAAAAAARUAAAAAAAIBDQAAAAAAAgEpAAAAAAAAAS0AAAAAAAABSQAAAAAAAAFBAAAAAAACAS0AAAAAAAABQQAAAAAAAADlAAAAAAAAAUEAAAAAAAAA+QAAAAAAAgEhAAAAAAAAAT0AAAAAAAIBAQAAAAAAAAEFAAAAAAAAAP0AAAAAAAABPQAAAAAAAAD1AAAAAAAAAREAAAAAAAAA5QAAAAAAAAEJAAAAAAAAAQ0AAAAAAAIBAQAAAAAAAADlAAAAAAACAUkAAAAAAAIBFQAAAAAAAAD9AAAAAAACARUAAAAAAAEBRQAAAAAAAAFJAAAAAAACARkAAAAAAAEBRQAAAAAAAAEpAAAAAAAAARkAAAAAAAIBGQAAAAAAAAEBAAAAAAAAASEAAAAAAAAA8QAAAAAAAgEJAAAAAAAAAP0AAAAAAAAA7QAAAAAAAAEBAAAAAAAAASEAAAAAAAABFQAAAAAAAAEBAAAAAAAAASEAAAAAAAEBRQAAAAAAAAE5AAAAAAAAAQ0AAAAAAAAA7QAAAAAAAADlAAAAAAACATkAAAAAAAIBNQAAAAAAAAD9AAAAAAAAASUAAAAAAAAA\\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\\u002fQAAAAAAAgEdAAAAAAAAAO0AAAAAAAIBHQAAAAAAAADZAAAAAAAAAREAAAAAAAIBKQAAAAAAAgE1AAAAAAAAAPkAAAAAAAAA6QAAAAAAAAEFAAAAAAACAQUAAAAAAAIBDQAAAAAAAAEhAAAAAAAAANkAAAAAAAIBAQAAAAAAAgEJAAAAAAAAAO0AAAAAAAAA7QAAAAAAAgEdAAAAAAACARkAAAAAAAIBOQAAAAAAAAE9AAAAAAACAQUAAAAAAAIBJQAAAAAAAAEdAAAAAAACATkAAAAAAAIBJQAAAAAAAAFBAAAAAAAAANUAAAAAAAEBRQAAAAAAAAE9AAAAAAAAASUAAAAAAAABDQAAAAAAAAE5AAAAAAAAAUEAAAAAAAIBDQAAAAAAAAEZAAAAAAABAUEAAAAAAAIBGQAAAAAAAAElAAAAAAAAAR0AAAAAAAIBNQAAAAAAAgEBAAAAAAACAUEAAAAAAAABQQAAAAAAAQFJAAAAAAAAAUkAAAAAAAIBAQAAAAAAAAD9AAAAAAAAAR0AAAAAAAIBHQAAAAAAAgElAAAAAAAAASkAAAAAAAABGQAAAAAAAAEBAAAAAAAAATkAAAAAAAIBIQAAAAAAAgEFAAAAAAACASkAAAAAAAEBSQAAAAAAAgE5AAAAAAACAQkAAAAAAAIBGQAAAAAAAgEFAAAAAAACASkAAAAAAAIBIQAAAAAAAADpAAAAAAACAREAAAAAAAABFQAAAAAAAADlAAAAAAAAATUAAAAAAAAA5QAAAAAAAgEBAAAAAAACAQEAAAAAAAABIQAAAAAAAAD9AAAAAAAAASUAAAAAAAAA5QAAAAAAAADhAAAAAAAAAQEAAAAAAAAA\\u002fQAAAAAAAAENAAAAAAAAATkAAAAAAAIBIQAAAAAAAgEJAAAAAAACAQkAAAAAAAEBRQAAAAAAAADtAAAAAAAAAQ0AAAAAAAEBQQAAAAAAAADVAAAAAAAAAOUAAAAAAAABAQAAAAAAAAD9AAAAAAAAAS0AAAAAAAAA5QAAAAAAAADtAAAAAAAAAOUAAAAAAAIBBQAAAAAAAAEFAAAAAAABAUEAAAAAAAAA\\u002fQAAAAAAAADxAAAAAAACAREAAAAAAAIBGQAAAAAAAgEhAAAAAAAAATEAAAAAAAAA\\u002fQAAAAAAAgE9AAAAAAAAASkAAAAAAAIBKQAAAAAAAAEJAAAAAAAAAOUAAAAAAAAA1QAAAAAAAgENAAAAAAAAATkAAAAAAAABQQAAAAAAAAFBAAAAAAAAATkAAAAAAAIBBQAAAAAAAgEdAAAAAAAAATEAAAAAAAABIQAAAAAAAwFJAAAAAAAAASEAAAAAAAIBDQAAAAAAAAEBAAAAAAAAASEAAAAAAAIBAQAAAAAAAADxAAAAAAACAQUAAAAAAAABIQAAAAAAAgEFAAAAAAAAAP0AAAAAAAIBKQAAAAAAAAEdAAAAAAAAAUEAAAAAAAIBKQAAAAAAAgEhAAAAAAAAAOEAAAAAAAABDQAAAAAAAAD9AAAAAAACAQUAAAAAAAIBIQAAAAAAAAD9AAAAAAAAAPEAAAAAAAIBIQAAAAAAAADlAAAAAAACATkAAAAAAAIBQQAAAAAAAgEtAAAAAAACAQ0AAAAAAAIBLQAAAAAAAgFJAAAAAAAAAOUAAAAAAAIBLQAAAAAAAAENAAAAAAAAASEAAAAAAAABJQAAAAAAAAFBAAAAAAACATUAAAAAAAIBCQAAAAAAAgEVAAAAAAAAAOUAAAAAAAIBIQAAAAAAAgEFAAAAAAACAS0AAAAAAAAA1QAAAAAAAADhAAAAAAAAAOEAAAAAAAABIQAAAAAAAADxAAAAAAAAAP0AAAAAAAAA\\u002fQAAAAAAAAE9AAAAAAACATUAAAAAAAEBRQAAAAAAAgEhAAAAAAACAQUAAAAAAAABAQAAAAAAAgEFAAAAAAAAASUAAAAAAAIBAQAAAAAAAADlAAAAAAACATkAAAAAAAIBGQAAAAAAAgENAAAAAAAAAQ0AAAAAAAABCQAAAAAAAgEdAAAAAAAAASEAAAAAAAABHQAAAAAAAAEhAAAAAAACAS0AAAAAAAIBEQAAAAAAAADVAAAAAAAAAQ0AAAAAAAABHQAAAAAAAADFAAAAAAACASEAAAAAAAABOQAAAAAAAAD9AAAAAAAAAR0AAAAAAAIBBQAAAAAAAAFBAAAAAAAAARUAAAAAAAIBNQAAAAAAAgEFAAAAAAAAAR0AAAAAAAIBAQAAAAAAAAEhAAAAAAACARkAAAAAAAIBFQAAAAAAAgEtAAAAAAAAASEAAAAAAAABIQAAAAAAAgEFAAAAAAACAQUAAAAAAAIBDQAAAAAAAgEhAAAAAAACAQUAAAAAAAIBOQAAAAAAAAEhAAAAAAACARkAAAAAAAABJQAAAAAAAAFBAAAAAAACAQUAAAAAAAABCQAAAAAAAADtAAAAAAAAAPUAAAAAAAIBAQAAAAAAAAERAAAAAAAAAP0AAAAAAAABOQAAAAAAAADhAAAAAAACARkAAAAAAAIBNQAAAAAAAAEZAAAAAAAAARkAAAAAAAABGQAAAAAAAgEBAAAAAAAAAREAAAAAAAIBIQAAAAAAAADhAAAAAAAAAOUAAAAAAAIBKQAAAAAAAAFBAAAAAAACAQUAAAAAAAIBGQAAAAAAAgEBAAAAAAAAAQUAAAAAAAABAQAAAAAAAAD9AAAAAAAAARkAAAAAAAIBHQAAAAAAAADlAAAAAAAAAPEAAAAAAAIBNQAAAAAAAgEBAAAAAAACARkAAAAAAAABIQAAAAAAAAE5AAAAAAACASEAAAAAAAIBHQAAAAAAAADhAAAAAAAAAPEAAAAAAAIBOQAAAAAAAAEhAAAAAAACAQkAAAAAAAAA\\u002fQAAAAAAAAEhAAAAAAAAAPEAAAAAAAAA9QAAAAAAAADtAAAAAAAAANkAAAAAAAIBOQAAAAAAAgEZAAAAAAACAQkAAAAAAAABIQAAAAAAAgEFAAAAAAAAAOEAAAAAAAIBIQAAAAAAAAD9AAAAAAACAQ0AAAAAAAABAQAAAAAAAAElAAAAAAAAAQ0AAAAAAAAA5QAAAAAAAgEZAAAAAAAAAQ0AAAAAAAABGQAAAAAAAAENAAAAAAAAAQEAAAAAAAIBGQAAAAAAAAEBAAAAAAACAQ0AAAAAAAIBBQAAAAAAAAENAAAAAAAAAQUAAAAAAAAA\\u002fQAAAAAAAgEFAAAAAAAAAUEAAAAAAAABBQAAAAAAAAEFAAAAAAACAQ0AAAAAAAIBAQAAAAAAAAERAAAAAAAAANEAAAAAAAAA5QAAAAAAAgEFAAAAAAAAAR0AAAAAAAABDQAAAAAAAgEdAAAAAAAAAO0AAAAAAAAA8QAAAAAAAgEJAAAAAAAAAOEAAAAAAAABBQAAAAAAAgE1AAAAAAAAATkAAAAAAAABEQAAAAAAAADxAAAAAAAAASEAAAAAAAIBMQAAAAAAAgEFAAAAAAAAASUAAAAAAAIBSQAAAAAAAAEhAAAAAAAAAOUAAAAAAAAA5QAAAAAAAgFFAAAAAAACASEAAAAAAAIBGQAAAAAAAgEFAAAAAAAAANUAAAAAAAAA9QAAAAAAAAEJAAAAAAABAUkAAAAAAAAA\\u002fQAAAAAAAAEZAAAAAAACAR0AAAAAAAABQQAAAAAAAAFJAAAAAAACATkAAAAAAAIBNQAAAAAAAAE1AAAAAAACAQEAAAAAAAABIQAAAAAAAAD9AAAAAAACAQUAAAAAAAIBIQAAAAAAAgEdAAAAAAAAAPEAAAAAAAABEQAAAAAAAgEdAAAAAAACAQEA=\"},\"y0\":\" \",\"yaxis\":\"y\",\"type\":\"box\"}],                        {\"template\":{\"data\":{\"histogram2dcontour\":[{\"type\":\"histogram2dcontour\",\"colorbar\":{\"outlinewidth\":0,\"ticks\":\"\"},\"colorscale\":[[0.0,\"#0d0887\"],[0.1111111111111111,\"#46039f\"],[0.2222222222222222,\"#7201a8\"],[0.3333333333333333,\"#9c179e\"],[0.4444444444444444,\"#bd3786\"],[0.5555555555555556,\"#d8576b\"],[0.6666666666666666,\"#ed7953\"],[0.7777777777777778,\"#fb9f3a\"],[0.8888888888888888,\"#fdca26\"],[1.0,\"#f0f921\"]]}],\"choropleth\":[{\"type\":\"choropleth\",\"colorbar\":{\"outlinewidth\":0,\"ticks\":\"\"}}],\"histogram2d\":[{\"type\":\"histogram2d\",\"colorbar\":{\"outlinewidth\":0,\"ticks\":\"\"},\"colorscale\":[[0.0,\"#0d0887\"],[0.1111111111111111,\"#46039f\"],[0.2222222222222222,\"#7201a8\"],[0.3333333333333333,\"#9c179e\"],[0.4444444444444444,\"#bd3786\"],[0.5555555555555556,\"#d8576b\"],[0.6666666666666666,\"#ed7953\"],[0.7777777777777778,\"#fb9f3a\"],[0.8888888888888888,\"#fdca26\"],[1.0,\"#f0f921\"]]}],\"heatmap\":[{\"type\":\"heatmap\",\"colorbar\":{\"outlinewidth\":0,\"ticks\":\"\"},\"colorscale\":[[0.0,\"#0d0887\"],[0.1111111111111111,\"#46039f\"],[0.2222222222222222,\"#7201a8\"],[0.3333333333333333,\"#9c179e\"],[0.4444444444444444,\"#bd3786\"],[0.5555555555555556,\"#d8576b\"],[0.6666666666666666,\"#ed7953\"],[0.7777777777777778,\"#fb9f3a\"],[0.8888888888888888,\"#fdca26\"],[1.0,\"#f0f921\"]]}],\"contourcarpet\":[{\"type\":\"contourcarpet\",\"colorbar\":{\"outlinewidth\":0,\"ticks\":\"\"}}],\"contour\":[{\"type\":\"contour\",\"colorbar\":{\"outlinewidth\":0,\"ticks\":\"\"},\"colorscale\":[[0.0,\"#0d0887\"],[0.1111111111111111,\"#46039f\"],[0.2222222222222222,\"#7201a8\"],[0.3333333333333333,\"#9c179e\"],[0.4444444444444444,\"#bd3786\"],[0.5555555555555556,\"#d8576b\"],[0.6666666666666666,\"#ed7953\"],[0.7777777777777778,\"#fb9f3a\"],[0.8888888888888888,\"#fdca26\"],[1.0,\"#f0f921\"]]}],\"surface\":[{\"type\":\"surface\",\"colorbar\":{\"outlinewidth\":0,\"ticks\":\"\"},\"colorscale\":[[0.0,\"#0d0887\"],[0.1111111111111111,\"#46039f\"],[0.2222222222222222,\"#7201a8\"],[0.3333333333333333,\"#9c179e\"],[0.4444444444444444,\"#bd3786\"],[0.5555555555555556,\"#d8576b\"],[0.6666666666666666,\"#ed7953\"],[0.7777777777777778,\"#fb9f3a\"],[0.8888888888888888,\"#fdca26\"],[1.0,\"#f0f921\"]]}],\"mesh3d\":[{\"type\":\"mesh3d\",\"colorbar\":{\"outlinewidth\":0,\"ticks\":\"\"}}],\"scatter\":[{\"fillpattern\":{\"fillmode\":\"overlay\",\"size\":10,\"solidity\":0.2},\"type\":\"scatter\"}],\"parcoords\":[{\"type\":\"parcoords\",\"line\":{\"colorbar\":{\"outlinewidth\":0,\"ticks\":\"\"}}}],\"scatterpolargl\":[{\"type\":\"scatterpolargl\",\"marker\":{\"colorbar\":{\"outlinewidth\":0,\"ticks\":\"\"}}}],\"bar\":[{\"error_x\":{\"color\":\"#2a3f5f\"},\"error_y\":{\"color\":\"#2a3f5f\"},\"marker\":{\"line\":{\"color\":\"#E5ECF6\",\"width\":0.5},\"pattern\":{\"fillmode\":\"overlay\",\"size\":10,\"solidity\":0.2}},\"type\":\"bar\"}],\"scattergeo\":[{\"type\":\"scattergeo\",\"marker\":{\"colorbar\":{\"outlinewidth\":0,\"ticks\":\"\"}}}],\"scatterpolar\":[{\"type\":\"scatterpolar\",\"marker\":{\"colorbar\":{\"outlinewidth\":0,\"ticks\":\"\"}}}],\"histogram\":[{\"marker\":{\"pattern\":{\"fillmode\":\"overlay\",\"size\":10,\"solidity\":0.2}},\"type\":\"histogram\"}],\"scattergl\":[{\"type\":\"scattergl\",\"marker\":{\"colorbar\":{\"outlinewidth\":0,\"ticks\":\"\"}}}],\"scatter3d\":[{\"type\":\"scatter3d\",\"line\":{\"colorbar\":{\"outlinewidth\":0,\"ticks\":\"\"}},\"marker\":{\"colorbar\":{\"outlinewidth\":0,\"ticks\":\"\"}}}],\"scattermap\":[{\"type\":\"scattermap\",\"marker\":{\"colorbar\":{\"outlinewidth\":0,\"ticks\":\"\"}}}],\"scattermapbox\":[{\"type\":\"scattermapbox\",\"marker\":{\"colorbar\":{\"outlinewidth\":0,\"ticks\":\"\"}}}],\"scatterternary\":[{\"type\":\"scatterternary\",\"marker\":{\"colorbar\":{\"outlinewidth\":0,\"ticks\":\"\"}}}],\"scattercarpet\":[{\"type\":\"scattercarpet\",\"marker\":{\"colorbar\":{\"outlinewidth\":0,\"ticks\":\"\"}}}],\"carpet\":[{\"aaxis\":{\"endlinecolor\":\"#2a3f5f\",\"gridcolor\":\"white\",\"linecolor\":\"white\",\"minorgridcolor\":\"white\",\"startlinecolor\":\"#2a3f5f\"},\"baxis\":{\"endlinecolor\":\"#2a3f5f\",\"gridcolor\":\"white\",\"linecolor\":\"white\",\"minorgridcolor\":\"white\",\"startlinecolor\":\"#2a3f5f\"},\"type\":\"carpet\"}],\"table\":[{\"cells\":{\"fill\":{\"color\":\"#EBF0F8\"},\"line\":{\"color\":\"white\"}},\"header\":{\"fill\":{\"color\":\"#C8D4E3\"},\"line\":{\"color\":\"white\"}},\"type\":\"table\"}],\"barpolar\":[{\"marker\":{\"line\":{\"color\":\"#E5ECF6\",\"width\":0.5},\"pattern\":{\"fillmode\":\"overlay\",\"size\":10,\"solidity\":0.2}},\"type\":\"barpolar\"}],\"pie\":[{\"automargin\":true,\"type\":\"pie\"}]},\"layout\":{\"autotypenumbers\":\"strict\",\"colorway\":[\"#636efa\",\"#EF553B\",\"#00cc96\",\"#ab63fa\",\"#FFA15A\",\"#19d3f3\",\"#FF6692\",\"#B6E880\",\"#FF97FF\",\"#FECB52\"],\"font\":{\"color\":\"#2a3f5f\"},\"hovermode\":\"closest\",\"hoverlabel\":{\"align\":\"left\"},\"paper_bgcolor\":\"white\",\"plot_bgcolor\":\"#E5ECF6\",\"polar\":{\"bgcolor\":\"#E5ECF6\",\"angularaxis\":{\"gridcolor\":\"white\",\"linecolor\":\"white\",\"ticks\":\"\"},\"radialaxis\":{\"gridcolor\":\"white\",\"linecolor\":\"white\",\"ticks\":\"\"}},\"ternary\":{\"bgcolor\":\"#E5ECF6\",\"aaxis\":{\"gridcolor\":\"white\",\"linecolor\":\"white\",\"ticks\":\"\"},\"baxis\":{\"gridcolor\":\"white\",\"linecolor\":\"white\",\"ticks\":\"\"},\"caxis\":{\"gridcolor\":\"white\",\"linecolor\":\"white\",\"ticks\":\"\"}},\"coloraxis\":{\"colorbar\":{\"outlinewidth\":0,\"ticks\":\"\"}},\"colorscale\":{\"sequential\":[[0.0,\"#0d0887\"],[0.1111111111111111,\"#46039f\"],[0.2222222222222222,\"#7201a8\"],[0.3333333333333333,\"#9c179e\"],[0.4444444444444444,\"#bd3786\"],[0.5555555555555556,\"#d8576b\"],[0.6666666666666666,\"#ed7953\"],[0.7777777777777778,\"#fb9f3a\"],[0.8888888888888888,\"#fdca26\"],[1.0,\"#f0f921\"]],\"sequentialminus\":[[0.0,\"#0d0887\"],[0.1111111111111111,\"#46039f\"],[0.2222222222222222,\"#7201a8\"],[0.3333333333333333,\"#9c179e\"],[0.4444444444444444,\"#bd3786\"],[0.5555555555555556,\"#d8576b\"],[0.6666666666666666,\"#ed7953\"],[0.7777777777777778,\"#fb9f3a\"],[0.8888888888888888,\"#fdca26\"],[1.0,\"#f0f921\"]],\"diverging\":[[0,\"#8e0152\"],[0.1,\"#c51b7d\"],[0.2,\"#de77ae\"],[0.3,\"#f1b6da\"],[0.4,\"#fde0ef\"],[0.5,\"#f7f7f7\"],[0.6,\"#e6f5d0\"],[0.7,\"#b8e186\"],[0.8,\"#7fbc41\"],[0.9,\"#4d9221\"],[1,\"#276419\"]]},\"xaxis\":{\"gridcolor\":\"white\",\"linecolor\":\"white\",\"ticks\":\"\",\"title\":{\"standoff\":15},\"zerolinecolor\":\"white\",\"automargin\":true,\"zerolinewidth\":2},\"yaxis\":{\"gridcolor\":\"white\",\"linecolor\":\"white\",\"ticks\":\"\",\"title\":{\"standoff\":15},\"zerolinecolor\":\"white\",\"automargin\":true,\"zerolinewidth\":2},\"scene\":{\"xaxis\":{\"backgroundcolor\":\"#E5ECF6\",\"gridcolor\":\"white\",\"linecolor\":\"white\",\"showbackground\":true,\"ticks\":\"\",\"zerolinecolor\":\"white\",\"gridwidth\":2},\"yaxis\":{\"backgroundcolor\":\"#E5ECF6\",\"gridcolor\":\"white\",\"linecolor\":\"white\",\"showbackground\":true,\"ticks\":\"\",\"zerolinecolor\":\"white\",\"gridwidth\":2},\"zaxis\":{\"backgroundcolor\":\"#E5ECF6\",\"gridcolor\":\"white\",\"linecolor\":\"white\",\"showbackground\":true,\"ticks\":\"\",\"zerolinecolor\":\"white\",\"gridwidth\":2}},\"shapedefaults\":{\"line\":{\"color\":\"#2a3f5f\"}},\"annotationdefaults\":{\"arrowcolor\":\"#2a3f5f\",\"arrowhead\":0,\"arrowwidth\":1},\"geo\":{\"bgcolor\":\"white\",\"landcolor\":\"#E5ECF6\",\"subunitcolor\":\"white\",\"showland\":true,\"showlakes\":true,\"lakecolor\":\"white\"},\"title\":{\"x\":0.05},\"mapbox\":{\"style\":\"light\"}}},\"xaxis\":{\"anchor\":\"y\",\"domain\":[0.0,1.0],\"title\":{}},\"yaxis\":{\"anchor\":\"x\",\"domain\":[0.0,1.0],\"title\":{\"text\":\"Occupational Prestige Score\"}},\"legend\":{\"tracegroupgap\":0},\"margin\":{\"t\":60},\"boxmode\":\"group\",\"showlegend\":false},                        {\"responsive\": true}                    ).then(function(){\n",
       "                            \n",
       "var gd = document.getElementById('c3e4c47c-2344-4598-b9f3-27c9580e37fd');\n",
       "var x = new MutationObserver(function (mutations, observer) {{\n",
       "        var display = window.getComputedStyle(gd).display;\n",
       "        if (!display || display === 'none') {{\n",
       "            console.log([gd, 'removed!']);\n",
       "            Plotly.purge(gd);\n",
       "            observer.disconnect();\n",
       "        }}\n",
       "}});\n",
       "\n",
       "// Listen for the removal of the full notebook cells\n",
       "var notebookContainer = gd.closest('#notebook-container');\n",
       "if (notebookContainer) {{\n",
       "    x.observe(notebookContainer, {childList: true});\n",
       "}}\n",
       "\n",
       "// Listen for the clearing of the current output cell\n",
       "var outputEl = gd.closest('.output');\n",
       "if (outputEl) {{\n",
       "    x.observe(outputEl, {childList: true});\n",
       "}}\n",
       "\n",
       "                        })                };            </script>        </div>"
      ]
     },
     "metadata": {},
     "output_type": "display_data"
    }
   ],
   "source": [
    "# Box plot for Income\n",
    "income_box_fig = px.box(gss_clean.dropna(subset=['income']),\n",
    "                        x='sex',\n",
    "                        y='income',\n",
    "                        labels={'income': 'Annual Income ($)'}\n",
    "                       )\n",
    "income_box_fig.update_layout(xaxis_title=None, showlegend=False)\n",
    "\n",
    "# Box plot for Job Prestige\n",
    "prestige_box_fig = px.box(gss_clean.dropna(subset=['job_prestige']),\n",
    "                          x='sex',\n",
    "                          y='job_prestige',\n",
    "                          labels={'job_prestige': 'Occupational Prestige Score'}\n",
    "                         )\n",
    "prestige_box_fig.update_layout(xaxis_title=None, showlegend=False)\n",
    "\n",
    "# Display both figures\n",
    "income_box_fig.show()\n",
    "prestige_box_fig.show()"
   ]
  },
  {
   "cell_type": "markdown",
   "metadata": {},
   "source": [
    "### 2.5. Deeper Dive: Income Gap Across Prestige Levels\n",
    "\n",
    "To investigate the income gap more closely, we can segment the population by job prestige. This faceted plot breaks job prestige into six equal tiers and displays an income comparison box plot for each, revealing how the income gap may vary across different levels of professional standing."
   ]
  },
  {
   "cell_type": "code",
   "execution_count": 9,
   "metadata": {},
   "outputs": [
    {
     "data": {
      "application/vnd.plotly.v1+json": {
       "config": {
        "plotlyServerURL": "https://plot.ly"
       },
       "data": [
        {
         "alignmentgroup": "True",
         "hovertemplate": "Sex=%{x}<br>prestige_category=Category 1 (Lowest)<br>Annual Income=%{y}<extra></extra>",
         "legendgroup": "female",
         "marker": {
          "color": "red"
         },
         "name": "female",
         "notched": false,
         "offsetgroup": "female",
         "orientation": "v",
         "showlegend": true,
         "type": "box",
         "x": [
          "female",
          "female",
          "female",
          "female",
          "female",
          "female",
          "female",
          "female",
          "female",
          "female",
          "female",
          "female",
          "female",
          "female",
          "female",
          "female",
          "female",
          "female",
          "female",
          "female",
          "female",
          "female",
          "female",
          "female",
          "female",
          "female",
          "female",
          "female",
          "female",
          "female",
          "female",
          "female",
          "female",
          "female",
          "female",
          "female",
          "female",
          "female",
          "female",
          "female",
          "female",
          "female",
          "female",
          "female",
          "female",
          "female",
          "female",
          "female",
          "female",
          "female",
          "female",
          "female",
          "female",
          "female",
          "female",
          "female",
          "female",
          "female",
          "female",
          "female",
          "female",
          "female",
          "female",
          "female",
          "female",
          "female",
          "female",
          "female",
          "female",
          "female",
          "female",
          "female",
          "female",
          "female",
          "female",
          "female",
          "female",
          "female",
          "female",
          "female",
          "female",
          "female",
          "female",
          "female",
          "female",
          "female",
          "female",
          "female",
          "female",
          "female",
          "female",
          "female",
          "female",
          "female",
          "female",
          "female",
          "female",
          "female",
          "female",
          "female",
          "female",
          "female",
          "female",
          "female",
          "female",
          "female",
          "female",
          "female",
          "female",
          "female",
          "female",
          "female",
          "female",
          "female",
          "female",
          "female",
          "female",
          "female",
          "female",
          "female",
          "female",
          "female",
          "female",
          "female",
          "female"
         ],
         "x0": " ",
         "xaxis": "x5",
         "y": {
          "bdata": "AAAAAKA/1kAAAAAAQM7eQAAAAAAAH65AAAAAAOCr2UAAAAAAwPX3QAAAAACgP9ZAAAAAAEDOvkAAAAAAAB+uQAAAAACwGudAAAAAALAa50AAAAAA4KvZQAAAAACgP9ZAAAAAAIDMsUAAAAAAED3sQAAAAABAzt5AAAAAALAa50AAAAAA4KvZQAAAAAAApahAAAAAAEDO3kAAAAAAgIn0QAAAAABg0+JAAAAAAKA/1kAAAAAAYNPSQAAAAACAifRAAAAAALAa50AAAAAAQM7eQAAAAAAAK6NAAAAAAADodUAAAAAAED3sQAAAAACwGudAAAAAAAAfrkAAAAAAsBrnQMsQx7rOTwNBAAAAAOCryUAAAAAAYNPCQAAAAAAAYvtAAAAAAEAd8UAAAAAAQM6+QAAAAACwGudAAAAAACAYzUAAAAAAYNPSQAAAAACAibRAAAAAAEAd8UAAAAAAYNPCQAAAAAAA6HVAAAAAAAAfrkAAAAAAYNPSQAAAAABg0+JAAAAAAGDT0kAAAAAAYNPCQAAAAADgq8lAAAAAAGDT4kAAAAAAgIn0QAAAAAAwQtBAAAAAAGDT0kAAAAAAYNPSQAAAAABg0+JAAAAAADBC0EAAAAAAYNPSQAAAAABg0+JAAAAAAACluEAAAAAAQB3xQAAAAAAwQtBAAAAAAKA/xkAAAAAAAKWoQAAAAABAzr5AAAAAAICJtEAAAAAAoD/WQAAAAACwGudAAAAAAEDO3kAAAAAAsBrnQAAAAABAHfFAAAAAAAAro0AAAAAAAKW4QAAAAADgq9lAAAAAAEDOvkAAAAAAED3sQAAAAADgq9lAAAAAAGDT0kAAAAAAoD/WQAAAAAAQPexAAAAAAEDOvkAAAAAAMELQQAAAAABg08JAAAAAAAClqEAAAAAAoD/GQAAAAABg0+JAAAAAACAYzUAAAAAAYNPCQAAAAAAAK6NAAAAAAGDT0kAAAAAAIBjNQAAAAABg09JAAAAAAADolUAAAAAAAGL7QAAAAABAzr5AAAAAABA97EAAAAAAoD/GQAAAAABg0+JAAAAAAKA/1kAAAAAAED3sQAAAAABg09JAAAAAAEDOvkAAAAAAYNPCQAAAAABAHfFAAAAAACAYzUAAAAAAIBjNQAAAAAAQPexAAAAAAEAd8UAAAAAAoD/GQAAAAAAgGM1AAAAAALAa50AAAAAAYNPSQAAAAAAQPexAAAAAAGDT0kAAAAAAQB3xQAAAAADgq9lAAAAAABA97EAAAAAAYNPiQAAAAAAA6JVAAAAAAEDO3kAAAAAA4KvZQAAAAAAApbhAAAAAAACluEAAAAAAQB3xQA==",
          "dtype": "f8"
         },
         "y0": " ",
         "yaxis": "y5"
        },
        {
         "alignmentgroup": "True",
         "hovertemplate": "Sex=%{x}<br>prestige_category=Category 5<br>Annual Income=%{y}<extra></extra>",
         "legendgroup": "female",
         "marker": {
          "color": "red"
         },
         "name": "female",
         "notched": false,
         "offsetgroup": "female",
         "orientation": "v",
         "showlegend": false,
         "type": "box",
         "x": [
          "female",
          "female",
          "female",
          "female",
          "female",
          "female",
          "female",
          "female",
          "female",
          "female",
          "female",
          "female",
          "female",
          "female",
          "female",
          "female",
          "female",
          "female",
          "female",
          "female",
          "female",
          "female",
          "female",
          "female",
          "female",
          "female",
          "female",
          "female",
          "female",
          "female",
          "female",
          "female",
          "female",
          "female",
          "female",
          "female",
          "female",
          "female",
          "female",
          "female",
          "female",
          "female",
          "female",
          "female",
          "female",
          "female",
          "female",
          "female",
          "female",
          "female",
          "female",
          "female",
          "female",
          "female",
          "female",
          "female",
          "female",
          "female",
          "female",
          "female",
          "female",
          "female",
          "female",
          "female",
          "female",
          "female",
          "female",
          "female",
          "female",
          "female",
          "female",
          "female",
          "female",
          "female",
          "female",
          "female",
          "female",
          "female",
          "female",
          "female",
          "female",
          "female",
          "female",
          "female",
          "female",
          "female",
          "female",
          "female",
          "female",
          "female",
          "female",
          "female",
          "female",
          "female",
          "female",
          "female",
          "female",
          "female",
          "female",
          "female",
          "female",
          "female",
          "female",
          "female",
          "female",
          "female",
          "female",
          "female",
          "female",
          "female",
          "female",
          "female",
          "female",
          "female",
          "female",
          "female",
          "female",
          "female",
          "female",
          "female",
          "female",
          "female",
          "female",
          "female",
          "female",
          "female",
          "female",
          "female",
          "female",
          "female",
          "female",
          "female",
          "female",
          "female",
          "female",
          "female",
          "female",
          "female",
          "female",
          "female",
          "female",
          "female",
          "female",
          "female",
          "female",
          "female",
          "female",
          "female",
          "female",
          "female",
          "female",
          "female",
          "female",
          "female",
          "female",
          "female",
          "female",
          "female",
          "female",
          "female",
          "female",
          "female",
          "female",
          "female",
          "female",
          "female",
          "female",
          "female",
          "female",
          "female",
          "female",
          "female",
          "female",
          "female",
          "female",
          "female",
          "female",
          "female",
          "female",
          "female",
          "female",
          "female",
          "female",
          "female",
          "female",
          "female",
          "female",
          "female",
          "female",
          "female",
          "female",
          "female",
          "female",
          "female",
          "female",
          "female",
          "female"
         ],
         "x0": " ",
         "xaxis": "x6",
         "y": {
          "bdata": "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",
          "dtype": "f8"
         },
         "y0": " ",
         "yaxis": "y6"
        },
        {
         "alignmentgroup": "True",
         "hovertemplate": "Sex=%{x}<br>prestige_category=Category 4<br>Annual Income=%{y}<extra></extra>",
         "legendgroup": "female",
         "marker": {
          "color": "red"
         },
         "name": "female",
         "notched": false,
         "offsetgroup": "female",
         "orientation": "v",
         "showlegend": false,
         "type": "box",
         "x": [
          "female",
          "female",
          "female",
          "female",
          "female",
          "female",
          "female",
          "female",
          "female",
          "female",
          "female",
          "female",
          "female",
          "female",
          "female",
          "female",
          "female",
          "female",
          "female",
          "female",
          "female",
          "female",
          "female",
          "female",
          "female",
          "female",
          "female",
          "female",
          "female",
          "female",
          "female",
          "female",
          "female",
          "female",
          "female",
          "female",
          "female",
          "female",
          "female",
          "female",
          "female",
          "female",
          "female",
          "female",
          "female",
          "female",
          "female",
          "female",
          "female",
          "female",
          "female",
          "female",
          "female",
          "female",
          "female",
          "female",
          "female",
          "female",
          "female",
          "female",
          "female",
          "female",
          "female",
          "female",
          "female",
          "female",
          "female",
          "female",
          "female",
          "female",
          "female",
          "female",
          "female",
          "female",
          "female",
          "female",
          "female",
          "female",
          "female",
          "female",
          "female",
          "female",
          "female",
          "female",
          "female",
          "female",
          "female",
          "female",
          "female",
          "female",
          "female",
          "female",
          "female",
          "female",
          "female",
          "female",
          "female",
          "female",
          "female",
          "female",
          "female",
          "female",
          "female",
          "female",
          "female",
          "female",
          "female",
          "female",
          "female",
          "female",
          "female",
          "female",
          "female",
          "female",
          "female",
          "female",
          "female",
          "female",
          "female",
          "female",
          "female",
          "female",
          "female",
          "female",
          "female",
          "female",
          "female",
          "female",
          "female",
          "female",
          "female",
          "female",
          "female",
          "female",
          "female",
          "female",
          "female",
          "female",
          "female",
          "female",
          "female",
          "female",
          "female",
          "female",
          "female",
          "female",
          "female",
          "female",
          "female",
          "female",
          "female",
          "female",
          "female",
          "female",
          "female",
          "female",
          "female",
          "female",
          "female",
          "female",
          "female",
          "female",
          "female",
          "female",
          "female",
          "female",
          "female",
          "female",
          "female"
         ],
         "x0": " ",
         "xaxis": "x3",
         "y": {
          "bdata": "AAAAALAa50AAAAAAED3sQAAAAABg09JAAAAAAMD190AAAAAAoD/GQMsQx7rOTwNBAAAAAGDT4kAAAAAAgIn0QAAAAABAHfFAAAAAAGDT4kAAAAAAED3sQAAAAABg08JAAAAAAABi+0AAAAAAoD/WQMsQx7rOTwNBAAAAAKA/xkAAAAAAAGL7QAAAAACwGudAAAAAABA97EDLEMe6zk8DQQAAAACwGudAAAAAAICJ9EAAAAAAAGL7QAAAAAAQPexAAAAAAMD190DLEMe6zk8DQQAAAAAwQtBAyxDHus5PA0HLEMe6zk8DQcsQx7rOTwNBAAAAALAa50DLEMe6zk8DQQAAAABAHfFAAAAAAGDT4kAAAAAAACujQAAAAADgq9lAAAAAAGDT4kDLEMe6zk8DQQAAAACwGudAAAAAAICJ9EAAAAAAQB3xQMsQx7rOTwNBAAAAAICJ9EAAAAAAYNPiQAAAAAAAYvtAAAAAAGDT4kDLEMe6zk8DQcsQx7rOTwNBAAAAAIDMsUAAAAAAQB3xQAAAAADgq9lAAAAAABA97EAAAAAAYNPiQAAAAABAHfFAAAAAABA97EAAAAAAoD/WQAAAAADgq9lAyxDHus5PA0EAAAAAAGL7QAAAAACgP8ZAAAAAADBC0EAAAAAAsBrnQAAAAABAHfFAAAAAAEAd8UAAAAAA4KvZQMsQx7rOTwNBAAAAABA97EAAAAAAsBrnQAAAAACAifRAAAAAAABi+0AAAAAAQM7eQAAAAABAHfFAAAAAABA97EAAAAAAIBjNQAAAAACgP9ZAAAAAAOCr2UAAAAAAED3sQAAAAACgP9ZAyxDHus5PA0EAAAAAgMyxQAAAAADgq9lAAAAAAEDO3kAAAAAAQM7eQAAAAABg0+JAAAAAAMD190AAAAAAsBrnQAAAAACwGudAAAAAAMD190AAAAAAoD/WQAAAAABAzt5AAAAAAEAd8UAAAAAAgIn0QMsQx7rOTwNBAAAAADBC0EAAAAAAQM7eQAAAAAAgGM1AAAAAALAa50AAAAAAsBrnQAAAAAAQPexAAAAAAGDT0kAAAAAAsBrnQAAAAABAzt5AAAAAAICJtEAAAAAAED3sQAAAAACgP9ZAyxDHus5PA0HLEMe6zk8DQQAAAABAzt5AAAAAAGDT0kAAAAAAYNPiQAAAAAAApbhAAAAAAGDT4kAAAAAAAOh1QAAAAAAAYvtAyxDHus5PA0EAAAAAsBrnQAAAAABAzt5AAAAAAGDT4kAAAAAA4KvJQMsQx7rOTwNBAAAAAOCr2UAAAAAAsBrnQAAAAACwGudAAAAAAGDT4kAAAAAAYNPiQAAAAACgP8ZAAAAAAGDT4kDLEMe6zk8DQQAAAACwGudAAAAAABA97EAAAAAAED3sQAAAAABAzt5AAAAAAOCr2UAAAAAAAGL7QAAAAAAQPexAAAAAAICJ9EAAAAAAYNPiQAAAAAAQPexAAAAAAEDO3kAAAAAAgIn0QAAAAAAwQtBAAAAAAGDT0kAAAAAAQM7eQAAAAACwGudAAAAAAEAd8UAAAAAAYNPiQAAAAAAAYvtAAAAAALAa50AAAAAAED3sQAAAAABAzt5AAAAAAKA/1kDLEMe6zk8DQQAAAABg0+JAAAAAAGDTwkAAAAAAwPX3QAAAAAAwQtBAAAAAAGDT4kAAAAAAQM7eQAAAAABAHfFAAAAAACAYzUAAAAAAYNPiQAAAAAAgGM1AAAAAAKA/1kAAAAAAoD/WQAAAAADgq9lAAAAAAEDO3kAAAAAAQB3xQAAAAADgq9lAAAAAAACluEA=",
          "dtype": "f8"
         },
         "y0": " ",
         "yaxis": "y3"
        },
        {
         "alignmentgroup": "True",
         "hovertemplate": "Sex=%{x}<br>prestige_category=Category 3<br>Annual Income=%{y}<extra></extra>",
         "legendgroup": "female",
         "marker": {
          "color": "red"
         },
         "name": "female",
         "notched": false,
         "offsetgroup": "female",
         "orientation": "v",
         "showlegend": false,
         "type": "box",
         "x": [
          "female",
          "female",
          "female",
          "female",
          "female",
          "female",
          "female",
          "female",
          "female",
          "female",
          "female",
          "female",
          "female",
          "female",
          "female",
          "female",
          "female",
          "female",
          "female",
          "female",
          "female",
          "female",
          "female",
          "female",
          "female",
          "female",
          "female",
          "female",
          "female",
          "female",
          "female",
          "female",
          "female",
          "female",
          "female",
          "female",
          "female",
          "female",
          "female",
          "female",
          "female",
          "female",
          "female",
          "female",
          "female",
          "female",
          "female",
          "female",
          "female",
          "female",
          "female",
          "female",
          "female",
          "female",
          "female",
          "female",
          "female",
          "female",
          "female",
          "female",
          "female",
          "female",
          "female",
          "female",
          "female",
          "female",
          "female",
          "female",
          "female",
          "female",
          "female",
          "female",
          "female",
          "female",
          "female",
          "female",
          "female",
          "female",
          "female",
          "female",
          "female",
          "female",
          "female",
          "female",
          "female",
          "female",
          "female",
          "female",
          "female",
          "female",
          "female",
          "female",
          "female",
          "female",
          "female",
          "female",
          "female",
          "female",
          "female",
          "female",
          "female",
          "female",
          "female",
          "female",
          "female",
          "female",
          "female",
          "female",
          "female",
          "female",
          "female",
          "female",
          "female",
          "female",
          "female",
          "female",
          "female",
          "female",
          "female",
          "female",
          "female",
          "female",
          "female",
          "female",
          "female",
          "female",
          "female",
          "female",
          "female",
          "female",
          "female",
          "female",
          "female",
          "female",
          "female",
          "female",
          "female",
          "female",
          "female",
          "female",
          "female",
          "female",
          "female",
          "female",
          "female",
          "female",
          "female",
          "female",
          "female",
          "female",
          "female",
          "female",
          "female",
          "female",
          "female",
          "female",
          "female",
          "female",
          "female",
          "female",
          "female",
          "female",
          "female",
          "female",
          "female",
          "female",
          "female",
          "female",
          "female",
          "female",
          "female",
          "female",
          "female",
          "female",
          "female",
          "female",
          "female",
          "female",
          "female",
          "female",
          "female",
          "female",
          "female",
          "female",
          "female",
          "female",
          "female",
          "female",
          "female",
          "female",
          "female",
          "female",
          "female",
          "female",
          "female",
          "female",
          "female",
          "female",
          "female",
          "female",
          "female",
          "female",
          "female",
          "female",
          "female",
          "female",
          "female",
          "female",
          "female",
          "female",
          "female",
          "female",
          "female",
          "female",
          "female",
          "female",
          "female",
          "female",
          "female",
          "female",
          "female",
          "female",
          "female",
          "female",
          "female",
          "female",
          "female",
          "female",
          "female",
          "female",
          "female",
          "female",
          "female",
          "female",
          "female",
          "female",
          "female",
          "female",
          "female",
          "female",
          "female",
          "female",
          "female",
          "female",
          "female",
          "female",
          "female",
          "female",
          "female",
          "female",
          "female",
          "female",
          "female",
          "female",
          "female",
          "female",
          "female",
          "female",
          "female",
          "female",
          "female",
          "female",
          "female",
          "female",
          "female",
          "female",
          "female",
          "female",
          "female",
          "female",
          "female",
          "female",
          "female",
          "female",
          "female",
          "female",
          "female",
          "female",
          "female",
          "female",
          "female",
          "female",
          "female",
          "female",
          "female",
          "female",
          "female",
          "female",
          "female",
          "female",
          "female",
          "female",
          "female",
          "female",
          "female",
          "female",
          "female",
          "female",
          "female",
          "female",
          "female",
          "female",
          "female",
          "female",
          "female",
          "female",
          "female",
          "female",
          "female",
          "female",
          "female",
          "female",
          "female",
          "female",
          "female",
          "female",
          "female",
          "female",
          "female",
          "female",
          "female",
          "female",
          "female",
          "female",
          "female",
          "female",
          "female",
          "female",
          "female",
          "female",
          "female",
          "female",
          "female",
          "female",
          "female",
          "female",
          "female",
          "female",
          "female",
          "female",
          "female",
          "female",
          "female",
          "female",
          "female",
          "female",
          "female",
          "female",
          "female",
          "female",
          "female",
          "female",
          "female",
          "female",
          "female",
          "female",
          "female"
         ],
         "x0": " ",
         "xaxis": "x4",
         "y": {
          "bdata": "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",
          "dtype": "f8"
         },
         "y0": " ",
         "yaxis": "y4"
        },
        {
         "alignmentgroup": "True",
         "hovertemplate": "Sex=%{x}<br>prestige_category= Category 2<br>Annual Income=%{y}<extra></extra>",
         "legendgroup": "female",
         "marker": {
          "color": "red"
         },
         "name": "female",
         "notched": false,
         "offsetgroup": "female",
         "orientation": "v",
         "showlegend": false,
         "type": "box",
         "x": [
          "female",
          "female",
          "female",
          "female",
          "female",
          "female",
          "female",
          "female",
          "female",
          "female",
          "female",
          "female",
          "female",
          "female",
          "female",
          "female",
          "female",
          "female",
          "female",
          "female",
          "female",
          "female",
          "female",
          "female",
          "female",
          "female",
          "female",
          "female",
          "female",
          "female",
          "female",
          "female",
          "female",
          "female",
          "female",
          "female",
          "female",
          "female",
          "female",
          "female",
          "female",
          "female",
          "female",
          "female",
          "female",
          "female",
          "female",
          "female",
          "female",
          "female",
          "female",
          "female",
          "female",
          "female",
          "female",
          "female",
          "female",
          "female",
          "female",
          "female",
          "female",
          "female",
          "female",
          "female",
          "female",
          "female",
          "female",
          "female",
          "female",
          "female",
          "female",
          "female",
          "female",
          "female",
          "female",
          "female",
          "female",
          "female",
          "female",
          "female",
          "female",
          "female",
          "female",
          "female",
          "female",
          "female",
          "female",
          "female",
          "female",
          "female",
          "female",
          "female",
          "female",
          "female",
          "female",
          "female",
          "female",
          "female",
          "female",
          "female",
          "female",
          "female",
          "female",
          "female",
          "female",
          "female",
          "female",
          "female",
          "female",
          "female",
          "female",
          "female",
          "female",
          "female",
          "female",
          "female",
          "female",
          "female",
          "female",
          "female",
          "female",
          "female",
          "female",
          "female",
          "female",
          "female",
          "female",
          "female",
          "female",
          "female",
          "female",
          "female",
          "female",
          "female",
          "female",
          "female",
          "female",
          "female",
          "female",
          "female",
          "female",
          "female",
          "female",
          "female",
          "female",
          "female",
          "female",
          "female",
          "female",
          "female",
          "female",
          "female",
          "female",
          "female",
          "female",
          "female",
          "female",
          "female",
          "female",
          "female",
          "female",
          "female",
          "female",
          "female",
          "female",
          "female",
          "female",
          "female",
          "female",
          "female",
          "female",
          "female",
          "female",
          "female",
          "female",
          "female",
          "female",
          "female",
          "female",
          "female",
          "female",
          "female",
          "female",
          "female",
          "female",
          "female",
          "female",
          "female",
          "female",
          "female",
          "female",
          "female",
          "female",
          "female",
          "female",
          "female",
          "female",
          "female",
          "female",
          "female",
          "female",
          "female",
          "female",
          "female",
          "female",
          "female",
          "female",
          "female",
          "female",
          "female",
          "female",
          "female",
          "female",
          "female",
          "female",
          "female",
          "female",
          "female",
          "female",
          "female",
          "female",
          "female",
          "female",
          "female",
          "female",
          "female",
          "female",
          "female",
          "female",
          "female",
          "female",
          "female",
          "female",
          "female"
         ],
         "x0": " ",
         "xaxis": "x",
         "y": {
          "bdata": "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",
          "dtype": "f8"
         },
         "y0": " ",
         "yaxis": "y"
        },
        {
         "alignmentgroup": "True",
         "hovertemplate": "Sex=%{x}<br>prestige_category=Category 6 (Highest)<br>Annual Income=%{y}<extra></extra>",
         "legendgroup": "female",
         "marker": {
          "color": "red"
         },
         "name": "female",
         "notched": false,
         "offsetgroup": "female",
         "orientation": "v",
         "showlegend": false,
         "type": "box",
         "x": [
          "female",
          "female",
          "female",
          "female",
          "female",
          "female",
          "female",
          "female",
          "female",
          "female",
          "female",
          "female",
          "female",
          "female",
          "female",
          "female",
          "female",
          "female",
          "female",
          "female",
          "female",
          "female",
          "female",
          "female",
          "female",
          "female",
          "female",
          "female",
          "female",
          "female",
          "female",
          "female",
          "female",
          "female",
          "female",
          "female",
          "female",
          "female",
          "female"
         ],
         "x0": " ",
         "xaxis": "x2",
         "y": {
          "bdata": "AAAAAGDT4kAAAAAAED3sQAAAAADgq9lAAAAAAEAd8UDLEMe6zk8DQQAAAACwGudAyxDHus5PA0EAAAAAwPX3QMsQx7rOTwNBAAAAAOCr2UAAAAAAgIm0QAAAAACAifRAAAAAADBC0EAAAAAAQB3xQAAAAACgP9ZAAAAAAGDTwkAAAAAAAOh1QAAAAACgP9ZAAAAAAICJ9EAAAAAAQB3xQMsQx7rOTwNByxDHus5PA0EAAAAAoD/WQAAAAACAifRAAAAAALAa50AAAAAAQM6+QAAAAABAzt5AAAAAAABi+0DLEMe6zk8DQQAAAABAHfFAAAAAABA97EDLEMe6zk8DQQAAAACAifRAAAAAABA97EAAAAAAsBrnQAAAAADgq9lAAAAAAABi+0AAAAAAED3sQAAAAAAQPexA",
          "dtype": "f8"
         },
         "y0": " ",
         "yaxis": "y2"
        },
        {
         "alignmentgroup": "True",
         "hovertemplate": "Sex=%{x}<br>prestige_category=Category 1 (Lowest)<br>Annual Income=%{y}<extra></extra>",
         "legendgroup": "male",
         "marker": {
          "color": "blue"
         },
         "name": "male",
         "notched": false,
         "offsetgroup": "male",
         "orientation": "v",
         "showlegend": true,
         "type": "box",
         "x": [
          "male",
          "male",
          "male",
          "male",
          "male",
          "male",
          "male",
          "male",
          "male",
          "male",
          "male",
          "male",
          "male",
          "male",
          "male",
          "male",
          "male",
          "male",
          "male",
          "male",
          "male",
          "male",
          "male",
          "male",
          "male",
          "male",
          "male",
          "male",
          "male",
          "male",
          "male",
          "male",
          "male",
          "male",
          "male",
          "male",
          "male",
          "male",
          "male",
          "male",
          "male",
          "male",
          "male",
          "male",
          "male",
          "male",
          "male",
          "male",
          "male",
          "male",
          "male",
          "male",
          "male",
          "male",
          "male",
          "male",
          "male",
          "male",
          "male",
          "male",
          "male",
          "male",
          "male",
          "male",
          "male",
          "male",
          "male",
          "male",
          "male",
          "male",
          "male",
          "male",
          "male",
          "male",
          "male",
          "male",
          "male",
          "male",
          "male",
          "male",
          "male",
          "male",
          "male",
          "male"
         ],
         "x0": " ",
         "xaxis": "x5",
         "y": {
          "bdata": "AAAAALAa50DLEMe6zk8DQQAAAACwGudAAAAAALAa50AAAAAAsBrnQAAAAAAQPexAAAAAAEDOvkAAAAAAYNPiQAAAAAAwQtBAAAAAAGDT4kAAAAAAoD/WQAAAAADgq8lAAAAAAACluEAAAAAAQM7eQAAAAABAzt5AAAAAAEDOvkAAAAAAsBrnQAAAAACwGudAyxDHus5PA0EAAAAAYNPCQAAAAABg0+JAAAAAAGDT0kAAAAAAYNPiQAAAAACgP9ZAAAAAABA97EAAAAAAYNPiQAAAAACwGudAAAAAAEDOvkAAAAAAQM6+QAAAAADgq9lAAAAAACAYzUAAAAAAIBjNQAAAAAAwQtBAAAAAAEAd8UAAAAAAYNPiQAAAAABg09JAAAAAAADolUAAAAAAYNPiQAAAAABg08JAAAAAAGDTwkAAAAAAgIn0QAAAAACgP9ZAAAAAAEAd8UAAAAAAsBrnQAAAAAAQPexAAAAAADBC0EAAAAAA4KvZQAAAAACwGudAAAAAAEAd8UAAAAAAYNPiQAAAAABg0+JAAAAAAEAd8UAAAAAA4KvJQAAAAABAzt5AAAAAAGDT4kAAAAAAMELQQAAAAABg09JAAAAAAOCr2UAAAAAAsBrnQAAAAABAzt5AAAAAAGDT0kAAAAAAsBrnQAAAAAAA6JVAAAAAAGDTwkAAAAAAoD/WQAAAAACgP9ZAAAAAAEDOvkAAAAAAoD/WQAAAAAAAYvtAAAAAAGDTwkAAAAAAoD/GQAAAAABAzr5AAAAAAACluEAAAAAAsBrnQAAAAABAzt5AAAAAACAYzUAAAAAAYNPSQAAAAABg09JAAAAAAADodUAAAAAAYNPSQAAAAACgP8ZAAAAAAGDT0kAAAAAAIBjNQAAAAABAzt5A",
          "dtype": "f8"
         },
         "y0": " ",
         "yaxis": "y5"
        },
        {
         "alignmentgroup": "True",
         "hovertemplate": "Sex=%{x}<br>prestige_category=Category 5<br>Annual Income=%{y}<extra></extra>",
         "legendgroup": "male",
         "marker": {
          "color": "blue"
         },
         "name": "male",
         "notched": false,
         "offsetgroup": "male",
         "orientation": "v",
         "showlegend": false,
         "type": "box",
         "x": [
          "male",
          "male",
          "male",
          "male",
          "male",
          "male",
          "male",
          "male",
          "male",
          "male",
          "male",
          "male",
          "male",
          "male",
          "male",
          "male",
          "male",
          "male",
          "male",
          "male",
          "male",
          "male",
          "male",
          "male",
          "male",
          "male",
          "male",
          "male",
          "male",
          "male",
          "male",
          "male",
          "male",
          "male",
          "male",
          "male",
          "male",
          "male",
          "male",
          "male",
          "male",
          "male",
          "male",
          "male",
          "male",
          "male",
          "male",
          "male",
          "male",
          "male",
          "male",
          "male",
          "male",
          "male",
          "male",
          "male",
          "male",
          "male",
          "male",
          "male",
          "male",
          "male",
          "male",
          "male",
          "male",
          "male",
          "male",
          "male",
          "male",
          "male",
          "male",
          "male",
          "male",
          "male",
          "male",
          "male",
          "male",
          "male",
          "male",
          "male",
          "male",
          "male",
          "male",
          "male",
          "male",
          "male",
          "male",
          "male",
          "male",
          "male",
          "male",
          "male",
          "male",
          "male",
          "male",
          "male",
          "male",
          "male",
          "male",
          "male",
          "male",
          "male",
          "male",
          "male",
          "male",
          "male",
          "male",
          "male",
          "male",
          "male",
          "male",
          "male",
          "male",
          "male",
          "male",
          "male",
          "male",
          "male",
          "male",
          "male",
          "male",
          "male",
          "male",
          "male",
          "male",
          "male",
          "male",
          "male",
          "male",
          "male",
          "male",
          "male",
          "male",
          "male",
          "male",
          "male",
          "male",
          "male",
          "male",
          "male",
          "male",
          "male",
          "male",
          "male",
          "male",
          "male",
          "male",
          "male"
         ],
         "x0": " ",
         "xaxis": "x6",
         "y": {
          "bdata": "AAAAAABi+0AAAAAAwPX3QMsQx7rOTwNBAAAAAMD190AAAAAAIBjNQAAAAABg0+JAAAAAAACluEAAAAAAYNPiQMsQx7rOTwNBAAAAALAa50AAAAAAQB3xQAAAAAAwQtBAAAAAALAa50AAAAAAED3sQAAAAADA9fdAAAAAABA97EAAAAAAgIn0QAAAAAAAYvtAyxDHus5PA0EAAAAAwPX3QMsQx7rOTwNBAAAAAEAd8UAAAAAAAGL7QAAAAACAifRAyxDHus5PA0HLEMe6zk8DQQAAAAAQPexAAAAAAICJ9EAAAAAAgIn0QAAAAADA9fdAyxDHus5PA0EAAAAAQB3xQAAAAABAzt5AyxDHus5PA0EAAAAAQB3xQAAAAACwGudAyxDHus5PA0EAAAAAwPX3QAAAAACwGudAAAAAAKA/xkAAAAAAMELQQAAAAABAHfFAAAAAAGDT4kAAAAAAsBrnQAAAAABAHfFAyxDHus5PA0HLEMe6zk8DQQAAAAAAYvtAAAAAAICJ9EAAAAAAoD/WQAAAAAAQPexAyxDHus5PA0EAAAAAoD/WQAAAAABg0+JAAAAAAGDT4kDLEMe6zk8DQcsQx7rOTwNBAAAAABA97EAAAAAAgIn0QAAAAABg0+JAAAAAAEAd8UAAAAAAED3sQAAAAAAQPexAAAAAALAa50AAAAAAoD/WQAAAAABg08JAAAAAALAa50DLEMe6zk8DQQAAAABg0+JAyxDHus5PA0EAAAAAsBrnQAAAAAAQPexAAAAAAEAd8UAAAAAAIBjNQAAAAACAifRAAAAAAICJ9EAAAAAAwPX3QAAAAADA9fdAAAAAAGDT4kAAAAAAED3sQAAAAACwGudAAAAAAMD190AAAAAAgIn0QMsQx7rOTwNBAAAAAICJ9EAAAAAAED3sQAAAAACwGudAAAAAAICJ9EAAAAAAsBrnQAAAAADgq9lAAAAAABA97EAAAAAAAGL7QAAAAACgP9ZAAAAAAEDO3kAAAAAAwPX3QAAAAADgq9lAAAAAABA97EDLEMe6zk8DQcsQx7rOTwNBAAAAAEDOvkAAAAAAsBrnQAAAAABg0+JAAAAAAEDO3kAAAAAAQM7eQAAAAADA9fdAAAAAADBC0EAAAAAAwPX3QAAAAABAHfFAAAAAALAa50AAAAAAQM6+QAAAAABg0+JAAAAAABA97EAAAAAAwPX3QAAAAABAHfFAyxDHus5PA0EAAAAAYNPiQAAAAACAifRAAAAAAEAd8UAAAAAAAGL7QAAAAADgq9lAAAAAAEDO3kAAAAAAQM7eQAAAAABAzt5AAAAAAMD190DLEMe6zk8DQQAAAAAAYvtAAAAAAEAd8UAAAAAAQB3xQAAAAABAzt5AyxDHus5PA0EAAAAAQM7eQMsQx7rOTwNBAAAAAGDT0kDLEMe6zk8DQQAAAABAHfFAAAAAAEAd8UAAAAAAwPX3QAAAAACwGudAAAAAAACluEAAAAAAwPX3QAAAAAAQPexAAAAAACAYzUAAAAAAQB3xQAAAAABAzt5AAAAAAGDTwkAAAAAAsBrnQAAAAABg0+JAAAAAAMD190A=",
          "dtype": "f8"
         },
         "y0": " ",
         "yaxis": "y6"
        },
        {
         "alignmentgroup": "True",
         "hovertemplate": "Sex=%{x}<br>prestige_category=Category 4<br>Annual Income=%{y}<extra></extra>",
         "legendgroup": "male",
         "marker": {
          "color": "blue"
         },
         "name": "male",
         "notched": false,
         "offsetgroup": "male",
         "orientation": "v",
         "showlegend": false,
         "type": "box",
         "x": [
          "male",
          "male",
          "male",
          "male",
          "male",
          "male",
          "male",
          "male",
          "male",
          "male",
          "male",
          "male",
          "male",
          "male",
          "male",
          "male",
          "male",
          "male",
          "male",
          "male",
          "male",
          "male",
          "male",
          "male",
          "male",
          "male",
          "male",
          "male",
          "male",
          "male",
          "male",
          "male",
          "male",
          "male",
          "male",
          "male",
          "male",
          "male",
          "male",
          "male",
          "male",
          "male",
          "male",
          "male",
          "male",
          "male",
          "male",
          "male",
          "male",
          "male",
          "male",
          "male",
          "male",
          "male",
          "male",
          "male",
          "male",
          "male",
          "male",
          "male",
          "male",
          "male",
          "male",
          "male",
          "male",
          "male",
          "male",
          "male",
          "male",
          "male",
          "male",
          "male",
          "male",
          "male",
          "male",
          "male",
          "male",
          "male",
          "male",
          "male",
          "male",
          "male",
          "male",
          "male",
          "male",
          "male",
          "male",
          "male",
          "male",
          "male",
          "male",
          "male",
          "male",
          "male",
          "male",
          "male",
          "male",
          "male",
          "male",
          "male",
          "male",
          "male",
          "male",
          "male",
          "male",
          "male",
          "male",
          "male",
          "male",
          "male",
          "male",
          "male",
          "male",
          "male",
          "male",
          "male",
          "male",
          "male",
          "male",
          "male",
          "male",
          "male",
          "male",
          "male",
          "male",
          "male",
          "male",
          "male",
          "male",
          "male",
          "male",
          "male",
          "male",
          "male",
          "male",
          "male",
          "male",
          "male",
          "male",
          "male",
          "male",
          "male",
          "male",
          "male",
          "male",
          "male",
          "male",
          "male",
          "male",
          "male",
          "male",
          "male",
          "male",
          "male",
          "male",
          "male",
          "male",
          "male",
          "male",
          "male",
          "male",
          "male"
         ],
         "x0": " ",
         "xaxis": "x3",
         "y": {
          "bdata": "yxDHus5PA0EAAAAAsBrnQAAAAACAifRAAAAAAEAd8UAAAAAAwPX3QMsQx7rOTwNBAAAAABA97EAAAAAAoD/WQAAAAADA9fdAyxDHus5PA0EAAAAAgIn0QAAAAABAHfFAyxDHus5PA0EAAAAAAB+uQAAAAABAHfFAAAAAAMD190AAAAAAYNPiQAAAAACAifRAAAAAAICJ9EDLEMe6zk8DQQAAAACAifRAyxDHus5PA0EAAAAAQB3xQAAAAABg08JAAAAAAGDT0kDLEMe6zk8DQcsQx7rOTwNByxDHus5PA0EAAAAAYNPiQMsQx7rOTwNBAAAAAABi+0DLEMe6zk8DQQAAAACAifRAyxDHus5PA0EAAAAAAGL7QAAAAAAQPexAAAAAADBC0EAAAAAAQB3xQAAAAABg0+JAAAAAAKA/1kAAAAAAoD/GQMsQx7rOTwNBAAAAAABi+0AAAAAAIBjNQAAAAADA9fdAyxDHus5PA0EAAAAAgIn0QAAAAADgq9lAAAAAAEDO3kDLEMe6zk8DQQAAAABg0+JAAAAAABA97EDLEMe6zk8DQQAAAACgP9ZAAAAAAKA/1kAAAAAAQB3xQAAAAACAifRAAAAAAGDT4kAAAAAAQB3xQAAAAAAQPexAAAAAAEDO3kAAAAAAED3sQAAAAAAAH65AAAAAAABi+0AAAAAAQB3xQAAAAABAzt5AyxDHus5PA0EAAAAAgIn0QAAAAABAzt5AAAAAALAa50AAAAAAAGL7QAAAAADgq9lAAAAAAKA/1kAAAAAAoD/WQAAAAACgP9ZAyxDHus5PA0EAAAAAYNPSQAAAAABg08JAAAAAABA97EDLEMe6zk8DQQAAAABg0+JAAAAAAOCr2UAAAAAAsBrnQAAAAADA9fdAyxDHus5PA0EAAAAAED3sQAAAAAAAH65AyxDHus5PA0EAAAAAQM7eQAAAAABg0+JAAAAAAADolUAAAAAAACujQAAAAACAifRAAAAAAICJ9EAAAAAAQM7eQAAAAAAA6HVAAAAAAGDT4kAAAAAAAGL7QMsQx7rOTwNBAAAAAMD190AAAAAAgIn0QAAAAABg0+JAAAAAABA97EDLEMe6zk8DQQAAAACgP9ZAAAAAAGDT0kAAAAAAsBrnQAAAAABg0+JAAAAAALAa50AAAAAAQM6+QAAAAABg0+JAAAAAALAa50AAAAAA4KvZQAAAAAAQPexAAAAAAICJ9EAAAAAAQM7eQAAAAACwGudAAAAAAEAd8UAAAAAAAGL7QAAAAABAzt5AAAAAAICJ9EAAAAAAsBrnQAAAAABAHfFAAAAAAABi+0AAAAAAIBjNQAAAAADgq8lAAAAAAEDO3kAAAAAAYNPiQAAAAABAzt5AAAAAABA97EAAAAAAsBrnQAAAAACAifRAAAAAAEAd8UAAAAAAsBrnQAAAAACAifRAAAAAAGDTwkAAAAAAED3sQAAAAAAQPexAAAAAAGDT4kAAAAAA4KvJQAAAAACgP9ZAAAAAAGDT4kAAAAAAoD/WQAAAAACwGudAAAAAAAAro0AAAAAAYNPiQAAAAADgq8lAAAAAAKA/1kAAAAAAwPX3QAAAAACAifRAAAAAAOCr2UAAAAAAwPX3QAAAAABAzt5AAAAAALAa50AAAAAAYNPiQAAAAADgq9lAAAAAABA97EAAAAAA4KvZQAAAAACAifRAAAAAAGDT0kAAAAAA4KvZQAAAAACAifRA",
          "dtype": "f8"
         },
         "y0": " ",
         "yaxis": "y3"
        },
        {
         "alignmentgroup": "True",
         "hovertemplate": "Sex=%{x}<br>prestige_category=Category 3<br>Annual Income=%{y}<extra></extra>",
         "legendgroup": "male",
         "marker": {
          "color": "blue"
         },
         "name": "male",
         "notched": false,
         "offsetgroup": "male",
         "orientation": "v",
         "showlegend": false,
         "type": "box",
         "x": [
          "male",
          "male",
          "male",
          "male",
          "male",
          "male",
          "male",
          "male",
          "male",
          "male",
          "male",
          "male",
          "male",
          "male",
          "male",
          "male",
          "male",
          "male",
          "male",
          "male",
          "male",
          "male",
          "male",
          "male",
          "male",
          "male",
          "male",
          "male",
          "male",
          "male",
          "male",
          "male",
          "male",
          "male",
          "male",
          "male",
          "male",
          "male",
          "male",
          "male",
          "male",
          "male",
          "male",
          "male",
          "male",
          "male",
          "male",
          "male",
          "male",
          "male",
          "male",
          "male",
          "male",
          "male",
          "male",
          "male",
          "male",
          "male",
          "male",
          "male",
          "male",
          "male",
          "male",
          "male",
          "male",
          "male",
          "male",
          "male",
          "male",
          "male",
          "male",
          "male",
          "male",
          "male",
          "male",
          "male",
          "male",
          "male",
          "male",
          "male",
          "male",
          "male",
          "male",
          "male",
          "male",
          "male",
          "male",
          "male",
          "male",
          "male",
          "male",
          "male",
          "male",
          "male",
          "male",
          "male",
          "male",
          "male",
          "male",
          "male",
          "male",
          "male",
          "male",
          "male",
          "male",
          "male",
          "male",
          "male",
          "male",
          "male",
          "male",
          "male",
          "male",
          "male",
          "male",
          "male",
          "male",
          "male",
          "male",
          "male",
          "male",
          "male",
          "male",
          "male",
          "male",
          "male",
          "male",
          "male",
          "male",
          "male",
          "male",
          "male",
          "male",
          "male",
          "male",
          "male",
          "male",
          "male",
          "male",
          "male",
          "male",
          "male",
          "male",
          "male",
          "male",
          "male",
          "male",
          "male",
          "male",
          "male",
          "male",
          "male",
          "male",
          "male",
          "male",
          "male",
          "male",
          "male",
          "male",
          "male",
          "male",
          "male",
          "male",
          "male",
          "male",
          "male",
          "male",
          "male",
          "male",
          "male",
          "male",
          "male",
          "male",
          "male",
          "male",
          "male",
          "male",
          "male",
          "male",
          "male",
          "male",
          "male",
          "male",
          "male",
          "male",
          "male",
          "male",
          "male",
          "male",
          "male",
          "male",
          "male",
          "male",
          "male",
          "male",
          "male",
          "male",
          "male",
          "male",
          "male",
          "male",
          "male",
          "male",
          "male",
          "male",
          "male",
          "male",
          "male",
          "male",
          "male",
          "male",
          "male",
          "male",
          "male",
          "male",
          "male",
          "male",
          "male",
          "male",
          "male",
          "male",
          "male",
          "male",
          "male",
          "male",
          "male",
          "male",
          "male",
          "male",
          "male",
          "male",
          "male",
          "male",
          "male",
          "male",
          "male",
          "male",
          "male",
          "male",
          "male",
          "male",
          "male",
          "male",
          "male",
          "male",
          "male",
          "male",
          "male",
          "male",
          "male",
          "male",
          "male",
          "male",
          "male",
          "male",
          "male",
          "male",
          "male",
          "male",
          "male",
          "male",
          "male",
          "male",
          "male",
          "male",
          "male",
          "male",
          "male",
          "male"
         ],
         "x0": " ",
         "xaxis": "x4",
         "y": {
          "bdata": "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",
          "dtype": "f8"
         },
         "y0": " ",
         "yaxis": "y4"
        },
        {
         "alignmentgroup": "True",
         "hovertemplate": "Sex=%{x}<br>prestige_category= Category 2<br>Annual Income=%{y}<extra></extra>",
         "legendgroup": "male",
         "marker": {
          "color": "blue"
         },
         "name": "male",
         "notched": false,
         "offsetgroup": "male",
         "orientation": "v",
         "showlegend": false,
         "type": "box",
         "x": [
          "male",
          "male",
          "male",
          "male",
          "male",
          "male",
          "male",
          "male",
          "male",
          "male",
          "male",
          "male",
          "male",
          "male",
          "male",
          "male",
          "male",
          "male",
          "male",
          "male",
          "male",
          "male",
          "male",
          "male",
          "male",
          "male",
          "male",
          "male",
          "male",
          "male",
          "male",
          "male",
          "male",
          "male",
          "male",
          "male",
          "male",
          "male",
          "male",
          "male",
          "male",
          "male",
          "male",
          "male",
          "male",
          "male",
          "male",
          "male",
          "male",
          "male",
          "male",
          "male",
          "male",
          "male",
          "male",
          "male",
          "male",
          "male",
          "male",
          "male",
          "male",
          "male",
          "male",
          "male",
          "male",
          "male",
          "male",
          "male",
          "male",
          "male",
          "male",
          "male",
          "male",
          "male",
          "male",
          "male",
          "male",
          "male",
          "male",
          "male",
          "male",
          "male",
          "male",
          "male",
          "male",
          "male",
          "male",
          "male",
          "male",
          "male",
          "male",
          "male",
          "male",
          "male",
          "male",
          "male",
          "male",
          "male",
          "male",
          "male",
          "male",
          "male",
          "male",
          "male",
          "male",
          "male",
          "male",
          "male",
          "male",
          "male",
          "male",
          "male",
          "male",
          "male",
          "male",
          "male",
          "male",
          "male",
          "male",
          "male",
          "male",
          "male",
          "male",
          "male",
          "male",
          "male",
          "male",
          "male",
          "male",
          "male",
          "male",
          "male",
          "male",
          "male",
          "male",
          "male",
          "male",
          "male",
          "male",
          "male",
          "male",
          "male",
          "male",
          "male",
          "male",
          "male",
          "male",
          "male",
          "male",
          "male",
          "male",
          "male",
          "male",
          "male",
          "male",
          "male",
          "male",
          "male",
          "male",
          "male",
          "male",
          "male",
          "male",
          "male",
          "male",
          "male",
          "male",
          "male",
          "male",
          "male",
          "male",
          "male",
          "male",
          "male",
          "male",
          "male",
          "male",
          "male",
          "male",
          "male",
          "male",
          "male",
          "male",
          "male",
          "male",
          "male",
          "male",
          "male",
          "male",
          "male",
          "male",
          "male",
          "male",
          "male",
          "male",
          "male",
          "male",
          "male",
          "male",
          "male",
          "male",
          "male",
          "male",
          "male",
          "male",
          "male",
          "male",
          "male",
          "male",
          "male",
          "male",
          "male",
          "male",
          "male",
          "male",
          "male",
          "male",
          "male",
          "male",
          "male",
          "male",
          "male",
          "male",
          "male",
          "male",
          "male",
          "male",
          "male",
          "male",
          "male",
          "male",
          "male",
          "male",
          "male",
          "male",
          "male",
          "male",
          "male"
         ],
         "x0": " ",
         "xaxis": "x",
         "y": {
          "bdata": "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",
          "dtype": "f8"
         },
         "y0": " ",
         "yaxis": "y"
        },
        {
         "alignmentgroup": "True",
         "hovertemplate": "Sex=%{x}<br>prestige_category=Category 6 (Highest)<br>Annual Income=%{y}<extra></extra>",
         "legendgroup": "male",
         "marker": {
          "color": "blue"
         },
         "name": "male",
         "notched": false,
         "offsetgroup": "male",
         "orientation": "v",
         "showlegend": false,
         "type": "box",
         "x": [
          "male",
          "male",
          "male",
          "male",
          "male",
          "male",
          "male",
          "male",
          "male",
          "male",
          "male",
          "male",
          "male",
          "male",
          "male",
          "male",
          "male",
          "male",
          "male",
          "male",
          "male",
          "male",
          "male",
          "male",
          "male",
          "male",
          "male",
          "male",
          "male",
          "male",
          "male",
          "male",
          "male",
          "male",
          "male",
          "male",
          "male",
          "male",
          "male",
          "male",
          "male",
          "male",
          "male",
          "male",
          "male",
          "male",
          "male",
          "male",
          "male",
          "male",
          "male",
          "male",
          "male"
         ],
         "x0": " ",
         "xaxis": "x2",
         "y": {
          "bdata": "AAAAAABi+0AAAAAAgIn0QAAAAABAzt5AAAAAAEAd8UDLEMe6zk8DQcsQx7rOTwNByxDHus5PA0EAAAAAgIn0QMsQx7rOTwNBAAAAAGDT4kDLEMe6zk8DQQAAAAAQPexAyxDHus5PA0EAAAAAED3sQMsQx7rOTwNByxDHus5PA0EAAAAAYNPiQAAAAABg09JAAAAAABA97EAAAAAAED3sQAAAAABAHfFAAAAAAKA/1kAAAAAAQM7eQAAAAACAifRAAAAAAICJ9EAAAAAAgIn0QMsQx7rOTwNBAAAAAOCr2UDLEMe6zk8DQcsQx7rOTwNBAAAAABA97EAAAAAAAGL7QAAAAABg09JAAAAAAICJ9EAAAAAAsBrnQAAAAABg0+JAAAAAAGDTwkDLEMe6zk8DQQAAAACAifRAAAAAAMD190AAAAAAED3sQAAAAABg0+JAAAAAALAa50AAAAAAQM7eQAAAAACAifRAAAAAAMD190DLEMe6zk8DQQAAAABAzt5AyxDHus5PA0EAAAAAsBrnQAAAAAAQPexAAAAAAEAd8UAAAAAAAGL7QA==",
          "dtype": "f8"
         },
         "y0": " ",
         "yaxis": "y2"
        }
       ],
       "layout": {
        "annotations": [
         {
          "font": {},
          "showarrow": false,
          "text": " Category 2",
          "x": 0.245,
          "xanchor": "center",
          "xref": "paper",
          "y": 0.2866666666666666,
          "yanchor": "bottom",
          "yref": "paper"
         },
         {
          "font": {},
          "showarrow": false,
          "text": "Category 6 (Highest)",
          "x": 0.755,
          "xanchor": "center",
          "xref": "paper",
          "y": 0.2866666666666666,
          "yanchor": "bottom",
          "yref": "paper"
         },
         {
          "font": {},
          "showarrow": false,
          "text": "Category 4",
          "x": 0.245,
          "xanchor": "center",
          "xref": "paper",
          "y": 0.6433333333333333,
          "yanchor": "bottom",
          "yref": "paper"
         },
         {
          "font": {},
          "showarrow": false,
          "text": "Category 3",
          "x": 0.755,
          "xanchor": "center",
          "xref": "paper",
          "y": 0.6433333333333333,
          "yanchor": "bottom",
          "yref": "paper"
         },
         {
          "font": {},
          "showarrow": false,
          "text": "Category 1 (Lowest)",
          "x": 0.245,
          "xanchor": "center",
          "xref": "paper",
          "y": 0.9999999999999999,
          "yanchor": "bottom",
          "yref": "paper"
         },
         {
          "font": {},
          "showarrow": false,
          "text": "Category 5",
          "x": 0.755,
          "xanchor": "center",
          "xref": "paper",
          "y": 0.9999999999999999,
          "yanchor": "bottom",
          "yref": "paper"
         }
        ],
        "boxmode": "overlay",
        "legend": {
         "title": {
          "text": "Sex"
         },
         "tracegroupgap": 0
        },
        "margin": {
         "t": 60
        },
        "template": {
         "data": {
          "bar": [
           {
            "error_x": {
             "color": "#2a3f5f"
            },
            "error_y": {
             "color": "#2a3f5f"
            },
            "marker": {
             "line": {
              "color": "#E5ECF6",
              "width": 0.5
             },
             "pattern": {
              "fillmode": "overlay",
              "size": 10,
              "solidity": 0.2
             }
            },
            "type": "bar"
           }
          ],
          "barpolar": [
           {
            "marker": {
             "line": {
              "color": "#E5ECF6",
              "width": 0.5
             },
             "pattern": {
              "fillmode": "overlay",
              "size": 10,
              "solidity": 0.2
             }
            },
            "type": "barpolar"
           }
          ],
          "carpet": [
           {
            "aaxis": {
             "endlinecolor": "#2a3f5f",
             "gridcolor": "white",
             "linecolor": "white",
             "minorgridcolor": "white",
             "startlinecolor": "#2a3f5f"
            },
            "baxis": {
             "endlinecolor": "#2a3f5f",
             "gridcolor": "white",
             "linecolor": "white",
             "minorgridcolor": "white",
             "startlinecolor": "#2a3f5f"
            },
            "type": "carpet"
           }
          ],
          "choropleth": [
           {
            "colorbar": {
             "outlinewidth": 0,
             "ticks": ""
            },
            "type": "choropleth"
           }
          ],
          "contour": [
           {
            "colorbar": {
             "outlinewidth": 0,
             "ticks": ""
            },
            "colorscale": [
             [
              0,
              "#0d0887"
             ],
             [
              0.1111111111111111,
              "#46039f"
             ],
             [
              0.2222222222222222,
              "#7201a8"
             ],
             [
              0.3333333333333333,
              "#9c179e"
             ],
             [
              0.4444444444444444,
              "#bd3786"
             ],
             [
              0.5555555555555556,
              "#d8576b"
             ],
             [
              0.6666666666666666,
              "#ed7953"
             ],
             [
              0.7777777777777778,
              "#fb9f3a"
             ],
             [
              0.8888888888888888,
              "#fdca26"
             ],
             [
              1,
              "#f0f921"
             ]
            ],
            "type": "contour"
           }
          ],
          "contourcarpet": [
           {
            "colorbar": {
             "outlinewidth": 0,
             "ticks": ""
            },
            "type": "contourcarpet"
           }
          ],
          "heatmap": [
           {
            "colorbar": {
             "outlinewidth": 0,
             "ticks": ""
            },
            "colorscale": [
             [
              0,
              "#0d0887"
             ],
             [
              0.1111111111111111,
              "#46039f"
             ],
             [
              0.2222222222222222,
              "#7201a8"
             ],
             [
              0.3333333333333333,
              "#9c179e"
             ],
             [
              0.4444444444444444,
              "#bd3786"
             ],
             [
              0.5555555555555556,
              "#d8576b"
             ],
             [
              0.6666666666666666,
              "#ed7953"
             ],
             [
              0.7777777777777778,
              "#fb9f3a"
             ],
             [
              0.8888888888888888,
              "#fdca26"
             ],
             [
              1,
              "#f0f921"
             ]
            ],
            "type": "heatmap"
           }
          ],
          "histogram": [
           {
            "marker": {
             "pattern": {
              "fillmode": "overlay",
              "size": 10,
              "solidity": 0.2
             }
            },
            "type": "histogram"
           }
          ],
          "histogram2d": [
           {
            "colorbar": {
             "outlinewidth": 0,
             "ticks": ""
            },
            "colorscale": [
             [
              0,
              "#0d0887"
             ],
             [
              0.1111111111111111,
              "#46039f"
             ],
             [
              0.2222222222222222,
              "#7201a8"
             ],
             [
              0.3333333333333333,
              "#9c179e"
             ],
             [
              0.4444444444444444,
              "#bd3786"
             ],
             [
              0.5555555555555556,
              "#d8576b"
             ],
             [
              0.6666666666666666,
              "#ed7953"
             ],
             [
              0.7777777777777778,
              "#fb9f3a"
             ],
             [
              0.8888888888888888,
              "#fdca26"
             ],
             [
              1,
              "#f0f921"
             ]
            ],
            "type": "histogram2d"
           }
          ],
          "histogram2dcontour": [
           {
            "colorbar": {
             "outlinewidth": 0,
             "ticks": ""
            },
            "colorscale": [
             [
              0,
              "#0d0887"
             ],
             [
              0.1111111111111111,
              "#46039f"
             ],
             [
              0.2222222222222222,
              "#7201a8"
             ],
             [
              0.3333333333333333,
              "#9c179e"
             ],
             [
              0.4444444444444444,
              "#bd3786"
             ],
             [
              0.5555555555555556,
              "#d8576b"
             ],
             [
              0.6666666666666666,
              "#ed7953"
             ],
             [
              0.7777777777777778,
              "#fb9f3a"
             ],
             [
              0.8888888888888888,
              "#fdca26"
             ],
             [
              1,
              "#f0f921"
             ]
            ],
            "type": "histogram2dcontour"
           }
          ],
          "mesh3d": [
           {
            "colorbar": {
             "outlinewidth": 0,
             "ticks": ""
            },
            "type": "mesh3d"
           }
          ],
          "parcoords": [
           {
            "line": {
             "colorbar": {
              "outlinewidth": 0,
              "ticks": ""
             }
            },
            "type": "parcoords"
           }
          ],
          "pie": [
           {
            "automargin": true,
            "type": "pie"
           }
          ],
          "scatter": [
           {
            "fillpattern": {
             "fillmode": "overlay",
             "size": 10,
             "solidity": 0.2
            },
            "type": "scatter"
           }
          ],
          "scatter3d": [
           {
            "line": {
             "colorbar": {
              "outlinewidth": 0,
              "ticks": ""
             }
            },
            "marker": {
             "colorbar": {
              "outlinewidth": 0,
              "ticks": ""
             }
            },
            "type": "scatter3d"
           }
          ],
          "scattercarpet": [
           {
            "marker": {
             "colorbar": {
              "outlinewidth": 0,
              "ticks": ""
             }
            },
            "type": "scattercarpet"
           }
          ],
          "scattergeo": [
           {
            "marker": {
             "colorbar": {
              "outlinewidth": 0,
              "ticks": ""
             }
            },
            "type": "scattergeo"
           }
          ],
          "scattergl": [
           {
            "marker": {
             "colorbar": {
              "outlinewidth": 0,
              "ticks": ""
             }
            },
            "type": "scattergl"
           }
          ],
          "scattermap": [
           {
            "marker": {
             "colorbar": {
              "outlinewidth": 0,
              "ticks": ""
             }
            },
            "type": "scattermap"
           }
          ],
          "scattermapbox": [
           {
            "marker": {
             "colorbar": {
              "outlinewidth": 0,
              "ticks": ""
             }
            },
            "type": "scattermapbox"
           }
          ],
          "scatterpolar": [
           {
            "marker": {
             "colorbar": {
              "outlinewidth": 0,
              "ticks": ""
             }
            },
            "type": "scatterpolar"
           }
          ],
          "scatterpolargl": [
           {
            "marker": {
             "colorbar": {
              "outlinewidth": 0,
              "ticks": ""
             }
            },
            "type": "scatterpolargl"
           }
          ],
          "scatterternary": [
           {
            "marker": {
             "colorbar": {
              "outlinewidth": 0,
              "ticks": ""
             }
            },
            "type": "scatterternary"
           }
          ],
          "surface": [
           {
            "colorbar": {
             "outlinewidth": 0,
             "ticks": ""
            },
            "colorscale": [
             [
              0,
              "#0d0887"
             ],
             [
              0.1111111111111111,
              "#46039f"
             ],
             [
              0.2222222222222222,
              "#7201a8"
             ],
             [
              0.3333333333333333,
              "#9c179e"
             ],
             [
              0.4444444444444444,
              "#bd3786"
             ],
             [
              0.5555555555555556,
              "#d8576b"
             ],
             [
              0.6666666666666666,
              "#ed7953"
             ],
             [
              0.7777777777777778,
              "#fb9f3a"
             ],
             [
              0.8888888888888888,
              "#fdca26"
             ],
             [
              1,
              "#f0f921"
             ]
            ],
            "type": "surface"
           }
          ],
          "table": [
           {
            "cells": {
             "fill": {
              "color": "#EBF0F8"
             },
             "line": {
              "color": "white"
             }
            },
            "header": {
             "fill": {
              "color": "#C8D4E3"
             },
             "line": {
              "color": "white"
             }
            },
            "type": "table"
           }
          ]
         },
         "layout": {
          "annotationdefaults": {
           "arrowcolor": "#2a3f5f",
           "arrowhead": 0,
           "arrowwidth": 1
          },
          "autotypenumbers": "strict",
          "coloraxis": {
           "colorbar": {
            "outlinewidth": 0,
            "ticks": ""
           }
          },
          "colorscale": {
           "diverging": [
            [
             0,
             "#8e0152"
            ],
            [
             0.1,
             "#c51b7d"
            ],
            [
             0.2,
             "#de77ae"
            ],
            [
             0.3,
             "#f1b6da"
            ],
            [
             0.4,
             "#fde0ef"
            ],
            [
             0.5,
             "#f7f7f7"
            ],
            [
             0.6,
             "#e6f5d0"
            ],
            [
             0.7,
             "#b8e186"
            ],
            [
             0.8,
             "#7fbc41"
            ],
            [
             0.9,
             "#4d9221"
            ],
            [
             1,
             "#276419"
            ]
           ],
           "sequential": [
            [
             0,
             "#0d0887"
            ],
            [
             0.1111111111111111,
             "#46039f"
            ],
            [
             0.2222222222222222,
             "#7201a8"
            ],
            [
             0.3333333333333333,
             "#9c179e"
            ],
            [
             0.4444444444444444,
             "#bd3786"
            ],
            [
             0.5555555555555556,
             "#d8576b"
            ],
            [
             0.6666666666666666,
             "#ed7953"
            ],
            [
             0.7777777777777778,
             "#fb9f3a"
            ],
            [
             0.8888888888888888,
             "#fdca26"
            ],
            [
             1,
             "#f0f921"
            ]
           ],
           "sequentialminus": [
            [
             0,
             "#0d0887"
            ],
            [
             0.1111111111111111,
             "#46039f"
            ],
            [
             0.2222222222222222,
             "#7201a8"
            ],
            [
             0.3333333333333333,
             "#9c179e"
            ],
            [
             0.4444444444444444,
             "#bd3786"
            ],
            [
             0.5555555555555556,
             "#d8576b"
            ],
            [
             0.6666666666666666,
             "#ed7953"
            ],
            [
             0.7777777777777778,
             "#fb9f3a"
            ],
            [
             0.8888888888888888,
             "#fdca26"
            ],
            [
             1,
             "#f0f921"
            ]
           ]
          },
          "colorway": [
           "#636efa",
           "#EF553B",
           "#00cc96",
           "#ab63fa",
           "#FFA15A",
           "#19d3f3",
           "#FF6692",
           "#B6E880",
           "#FF97FF",
           "#FECB52"
          ],
          "font": {
           "color": "#2a3f5f"
          },
          "geo": {
           "bgcolor": "white",
           "lakecolor": "white",
           "landcolor": "#E5ECF6",
           "showlakes": true,
           "showland": true,
           "subunitcolor": "white"
          },
          "hoverlabel": {
           "align": "left"
          },
          "hovermode": "closest",
          "mapbox": {
           "style": "light"
          },
          "paper_bgcolor": "white",
          "plot_bgcolor": "#E5ECF6",
          "polar": {
           "angularaxis": {
            "gridcolor": "white",
            "linecolor": "white",
            "ticks": ""
           },
           "bgcolor": "#E5ECF6",
           "radialaxis": {
            "gridcolor": "white",
            "linecolor": "white",
            "ticks": ""
           }
          },
          "scene": {
           "xaxis": {
            "backgroundcolor": "#E5ECF6",
            "gridcolor": "white",
            "gridwidth": 2,
            "linecolor": "white",
            "showbackground": true,
            "ticks": "",
            "zerolinecolor": "white"
           },
           "yaxis": {
            "backgroundcolor": "#E5ECF6",
            "gridcolor": "white",
            "gridwidth": 2,
            "linecolor": "white",
            "showbackground": true,
            "ticks": "",
            "zerolinecolor": "white"
           },
           "zaxis": {
            "backgroundcolor": "#E5ECF6",
            "gridcolor": "white",
            "gridwidth": 2,
            "linecolor": "white",
            "showbackground": true,
            "ticks": "",
            "zerolinecolor": "white"
           }
          },
          "shapedefaults": {
           "line": {
            "color": "#2a3f5f"
           }
          },
          "ternary": {
           "aaxis": {
            "gridcolor": "white",
            "linecolor": "white",
            "ticks": ""
           },
           "baxis": {
            "gridcolor": "white",
            "linecolor": "white",
            "ticks": ""
           },
           "bgcolor": "#E5ECF6",
           "caxis": {
            "gridcolor": "white",
            "linecolor": "white",
            "ticks": ""
           }
          },
          "title": {
           "x": 0.05
          },
          "xaxis": {
           "automargin": true,
           "gridcolor": "white",
           "linecolor": "white",
           "ticks": "",
           "title": {
            "standoff": 15
           },
           "zerolinecolor": "white",
           "zerolinewidth": 2
          },
          "yaxis": {
           "automargin": true,
           "gridcolor": "white",
           "linecolor": "white",
           "ticks": "",
           "title": {
            "standoff": 15
           },
           "zerolinecolor": "white",
           "zerolinewidth": 2
          }
         }
        },
        "xaxis": {
         "anchor": "y",
         "categoryarray": [
          "female",
          "male"
         ],
         "categoryorder": "array",
         "domain": [
          0,
          0.49
         ],
         "title": {}
        },
        "xaxis2": {
         "anchor": "y2",
         "categoryarray": [
          "female",
          "male"
         ],
         "categoryorder": "array",
         "domain": [
          0.51,
          1
         ],
         "matches": "x",
         "title": {}
        },
        "xaxis3": {
         "anchor": "y3",
         "domain": [
          0,
          0.49
         ],
         "matches": "x",
         "showticklabels": false
        },
        "xaxis4": {
         "anchor": "y4",
         "domain": [
          0.51,
          1
         ],
         "matches": "x",
         "showticklabels": false
        },
        "xaxis5": {
         "anchor": "y5",
         "domain": [
          0,
          0.49
         ],
         "matches": "x",
         "showticklabels": false
        },
        "xaxis6": {
         "anchor": "y6",
         "domain": [
          0.51,
          1
         ],
         "matches": "x",
         "showticklabels": false
        },
        "yaxis": {
         "anchor": "x",
         "domain": [
          0,
          0.2866666666666666
         ],
         "title": {
          "text": "Annual Income"
         }
        },
        "yaxis2": {
         "anchor": "x2",
         "domain": [
          0,
          0.2866666666666666
         ],
         "matches": "y",
         "showticklabels": false
        },
        "yaxis3": {
         "anchor": "x3",
         "domain": [
          0.35666666666666663,
          0.6433333333333333
         ],
         "matches": "y",
         "title": {
          "text": "Annual Income"
         }
        },
        "yaxis4": {
         "anchor": "x4",
         "domain": [
          0.35666666666666663,
          0.6433333333333333
         ],
         "matches": "y",
         "showticklabels": false
        },
        "yaxis5": {
         "anchor": "x5",
         "domain": [
          0.7133333333333333,
          0.9999999999999999
         ],
         "matches": "y",
         "title": {
          "text": "Annual Income"
         }
        },
        "yaxis6": {
         "anchor": "x6",
         "domain": [
          0.7133333333333333,
          0.9999999999999999
         ],
         "matches": "y",
         "showticklabels": false
        }
       }
      },
      "text/html": [
       "<div>            <script src=\"https://cdnjs.cloudflare.com/ajax/libs/mathjax/2.7.5/MathJax.js?config=TeX-AMS-MML_SVG\"></script><script type=\"text/javascript\">if (window.MathJax && window.MathJax.Hub && window.MathJax.Hub.Config) {window.MathJax.Hub.Config({SVG: {font: \"STIX-Web\"}});}</script>                <script type=\"text/javascript\">window.PlotlyConfig = {MathJaxConfig: 'local'};</script>\n",
       "        <script charset=\"utf-8\" src=\"https://cdn.plot.ly/plotly-3.0.1.min.js\"></script>                <div id=\"57091191-4e1e-4be8-a64b-276ad500daf2\" class=\"plotly-graph-div\" style=\"height:525px; width:100%;\"></div>            <script type=\"text/javascript\">                window.PLOTLYENV=window.PLOTLYENV || {};                                if (document.getElementById(\"57091191-4e1e-4be8-a64b-276ad500daf2\")) {                    Plotly.newPlot(                        \"57091191-4e1e-4be8-a64b-276ad500daf2\",                        [{\"alignmentgroup\":\"True\",\"hovertemplate\":\"Sex=%{x}\\u003cbr\\u003eprestige_category=Category 1 (Lowest)\\u003cbr\\u003eAnnual Income=%{y}\\u003cextra\\u003e\\u003c\\u002fextra\\u003e\",\"legendgroup\":\"female\",\"marker\":{\"color\":\"red\"},\"name\":\"female\",\"notched\":false,\"offsetgroup\":\"female\",\"orientation\":\"v\",\"showlegend\":true,\"x\":[\"female\",\"female\",\"female\",\"female\",\"female\",\"female\",\"female\",\"female\",\"female\",\"female\",\"female\",\"female\",\"female\",\"female\",\"female\",\"female\",\"female\",\"female\",\"female\",\"female\",\"female\",\"female\",\"female\",\"female\",\"female\",\"female\",\"female\",\"female\",\"female\",\"female\",\"female\",\"female\",\"female\",\"female\",\"female\",\"female\",\"female\",\"female\",\"female\",\"female\",\"female\",\"female\",\"female\",\"female\",\"female\",\"female\",\"female\",\"female\",\"female\",\"female\",\"female\",\"female\",\"female\",\"female\",\"female\",\"female\",\"female\",\"female\",\"female\",\"female\",\"female\",\"female\",\"female\",\"female\",\"female\",\"female\",\"female\",\"female\",\"female\",\"female\",\"female\",\"female\",\"female\",\"female\",\"female\",\"female\",\"female\",\"female\",\"female\",\"female\",\"female\",\"female\",\"female\",\"female\",\"female\",\"female\",\"female\",\"female\",\"female\",\"female\",\"female\",\"female\",\"female\",\"female\",\"female\",\"female\",\"female\",\"female\",\"female\",\"female\",\"female\",\"female\",\"female\",\"female\",\"female\",\"female\",\"female\",\"female\",\"female\",\"female\",\"female\",\"female\",\"female\",\"female\",\"female\",\"female\",\"female\",\"female\",\"female\",\"female\",\"female\",\"female\",\"female\",\"female\",\"female\"],\"x0\":\" \",\"xaxis\":\"x5\",\"y\":{\"dtype\":\"f8\",\"bdata\":\"AAAAAKA\\u002f1kAAAAAAQM7eQAAAAAAAH65AAAAAAOCr2UAAAAAAwPX3QAAAAACgP9ZAAAAAAEDOvkAAAAAAAB+uQAAAAACwGudAAAAAALAa50AAAAAA4KvZQAAAAACgP9ZAAAAAAIDMsUAAAAAAED3sQAAAAABAzt5AAAAAALAa50AAAAAA4KvZQAAAAAAApahAAAAAAEDO3kAAAAAAgIn0QAAAAABg0+JAAAAAAKA\\u002f1kAAAAAAYNPSQAAAAACAifRAAAAAALAa50AAAAAAQM7eQAAAAAAAK6NAAAAAAADodUAAAAAAED3sQAAAAACwGudAAAAAAAAfrkAAAAAAsBrnQMsQx7rOTwNBAAAAAOCryUAAAAAAYNPCQAAAAAAAYvtAAAAAAEAd8UAAAAAAQM6+QAAAAACwGudAAAAAACAYzUAAAAAAYNPSQAAAAACAibRAAAAAAEAd8UAAAAAAYNPCQAAAAAAA6HVAAAAAAAAfrkAAAAAAYNPSQAAAAABg0+JAAAAAAGDT0kAAAAAAYNPCQAAAAADgq8lAAAAAAGDT4kAAAAAAgIn0QAAAAAAwQtBAAAAAAGDT0kAAAAAAYNPSQAAAAABg0+JAAAAAADBC0EAAAAAAYNPSQAAAAABg0+JAAAAAAACluEAAAAAAQB3xQAAAAAAwQtBAAAAAAKA\\u002fxkAAAAAAAKWoQAAAAABAzr5AAAAAAICJtEAAAAAAoD\\u002fWQAAAAACwGudAAAAAAEDO3kAAAAAAsBrnQAAAAABAHfFAAAAAAAAro0AAAAAAAKW4QAAAAADgq9lAAAAAAEDOvkAAAAAAED3sQAAAAADgq9lAAAAAAGDT0kAAAAAAoD\\u002fWQAAAAAAQPexAAAAAAEDOvkAAAAAAMELQQAAAAABg08JAAAAAAAClqEAAAAAAoD\\u002fGQAAAAABg0+JAAAAAACAYzUAAAAAAYNPCQAAAAAAAK6NAAAAAAGDT0kAAAAAAIBjNQAAAAABg09JAAAAAAADolUAAAAAAAGL7QAAAAABAzr5AAAAAABA97EAAAAAAoD\\u002fGQAAAAABg0+JAAAAAAKA\\u002f1kAAAAAAED3sQAAAAABg09JAAAAAAEDOvkAAAAAAYNPCQAAAAABAHfFAAAAAACAYzUAAAAAAIBjNQAAAAAAQPexAAAAAAEAd8UAAAAAAoD\\u002fGQAAAAAAgGM1AAAAAALAa50AAAAAAYNPSQAAAAAAQPexAAAAAAGDT0kAAAAAAQB3xQAAAAADgq9lAAAAAABA97EAAAAAAYNPiQAAAAAAA6JVAAAAAAEDO3kAAAAAA4KvZQAAAAAAApbhAAAAAAACluEAAAAAAQB3xQA==\"},\"y0\":\" \",\"yaxis\":\"y5\",\"type\":\"box\"},{\"alignmentgroup\":\"True\",\"hovertemplate\":\"Sex=%{x}\\u003cbr\\u003eprestige_category=Category 5\\u003cbr\\u003eAnnual Income=%{y}\\u003cextra\\u003e\\u003c\\u002fextra\\u003e\",\"legendgroup\":\"female\",\"marker\":{\"color\":\"red\"},\"name\":\"female\",\"notched\":false,\"offsetgroup\":\"female\",\"orientation\":\"v\",\"showlegend\":false,\"x\":[\"female\",\"female\",\"female\",\"female\",\"female\",\"female\",\"female\",\"female\",\"female\",\"female\",\"female\",\"female\",\"female\",\"female\",\"female\",\"female\",\"female\",\"female\",\"female\",\"female\",\"female\",\"female\",\"female\",\"female\",\"female\",\"female\",\"female\",\"female\",\"female\",\"female\",\"female\",\"female\",\"female\",\"female\",\"female\",\"female\",\"female\",\"female\",\"female\",\"female\",\"female\",\"female\",\"female\",\"female\",\"female\",\"female\",\"female\",\"female\",\"female\",\"female\",\"female\",\"female\",\"female\",\"female\",\"female\",\"female\",\"female\",\"female\",\"female\",\"female\",\"female\",\"female\",\"female\",\"female\",\"female\",\"female\",\"female\",\"female\",\"female\",\"female\",\"female\",\"female\",\"female\",\"female\",\"female\",\"female\",\"female\",\"female\",\"female\",\"female\",\"female\",\"female\",\"female\",\"female\",\"female\",\"female\",\"female\",\"female\",\"female\",\"female\",\"female\",\"female\",\"female\",\"female\",\"female\",\"female\",\"female\",\"female\",\"female\",\"female\",\"female\",\"female\",\"female\",\"female\",\"female\",\"female\",\"female\",\"female\",\"female\",\"female\",\"female\",\"female\",\"female\",\"female\",\"female\",\"female\",\"female\",\"female\",\"female\",\"female\",\"female\",\"female\",\"female\",\"female\",\"female\",\"female\",\"female\",\"female\",\"female\",\"female\",\"female\",\"female\",\"female\",\"female\",\"female\",\"female\",\"female\",\"female\",\"female\",\"female\",\"female\",\"female\",\"female\",\"female\",\"female\",\"female\",\"female\",\"female\",\"female\",\"female\",\"female\",\"female\",\"female\",\"female\",\"female\",\"female\",\"female\",\"female\",\"female\",\"female\",\"female\",\"female\",\"female\",\"female\",\"female\",\"female\",\"female\",\"female\",\"female\",\"female\",\"female\",\"female\",\"female\",\"female\",\"female\",\"female\",\"female\",\"female\",\"female\",\"female\",\"female\",\"female\",\"female\",\"female\",\"female\",\"female\",\"female\",\"female\",\"female\",\"female\",\"female\",\"female\",\"female\",\"female\",\"female\",\"female\",\"female\"],\"x0\":\" \",\"xaxis\":\"x6\",\"y\":{\"dtype\":\"f8\",\"bdata\":\"yxDHus5PA0EAAAAAQB3xQAAAAAAQPexAAAAAAEAd8UAAAAAAgIn0QMsQx7rOTwNByxDHus5PA0EAAAAAQB3xQAAAAAAA6JVAAAAAAEAd8UAAAAAAAGL7QAAAAACgP9ZAAAAAABA97EAAAAAAQM7eQMsQx7rOTwNBAAAAAMD190AAAAAAsBrnQAAAAABg08JAAAAAALAa50AAAAAAgIn0QAAAAADA9fdAAAAAADBC0EAAAAAAED3sQMsQx7rOTwNBAAAAABA97EAAAAAAED3sQAAAAAAQPexAyxDHus5PA0EAAAAAwPX3QAAAAABAHfFAyxDHus5PA0EAAAAAsBrnQAAAAADA9fdAAAAAAMD190AAAAAAAGL7QMsQx7rOTwNByxDHus5PA0EAAAAAoD\\u002fWQAAAAAAQPexAAAAAADBC0EAAAAAAQM7eQAAAAABAHfFAAAAAAABi+0AAAAAAsBrnQAAAAACgP9ZAyxDHus5PA0EAAAAAgIn0QAAAAABAHfFAAAAAALAa50AAAAAAsBrnQAAAAACwGudAAAAAAGDT4kAAAAAAsBrnQMsQx7rOTwNBAAAAAOCryUAAAAAAgIn0QAAAAADgq9lAAAAAAICJ9EAAAAAAYNPiQMsQx7rOTwNBAAAAAOCr2UAAAAAAQB3xQAAAAACwGudAAAAAAEAd8UAAAAAAYNPiQAAAAADA9fdAAAAAAMD190AAAAAAYNPSQAAAAACwGudAAAAAALAa50AAAAAAED3sQAAAAABAHfFAAAAAAEDO3kAAAAAAsBrnQMsQx7rOTwNBAAAAABA97EAAAAAAsBrnQAAAAADA9fdAAAAAAOCr2UAAAAAAoD\\u002fWQAAAAAAAYvtAAAAAALAa50AAAAAAIBjNQAAAAAAQPexAAAAAAICJ9EAAAAAAQB3xQMsQx7rOTwNBAAAAAOCr2UAAAAAAAGL7QAAAAACAifRAAAAAAEAd8UAAAAAA4KvJQAAAAAAgGM1AAAAAAICJ9EAAAAAAsBrnQAAAAAAgGM1AyxDHus5PA0HLEMe6zk8DQQAAAADA9fdAAAAAAABi+0DLEMe6zk8DQQAAAAAAYvtAAAAAAMD190AAAAAAsBrnQAAAAABAzt5AAAAAAOCr2UAAAAAAsBrnQAAAAAAAYvtAAAAAAICJ9EAAAAAAQM7eQAAAAABg0+JAAAAAAEDO3kAAAAAAsBrnQAAAAAAQPexAAAAAABA97EAAAAAAYNPiQAAAAABAHfFAAAAAALAa50AAAAAAYNPCQAAAAACwGudAAAAAAKA\\u002f1kAAAAAAoD\\u002fWQAAAAADgq9lAAAAAAGDT4kDLEMe6zk8DQQAAAABAzr5AAAAAADBC0EAAAAAAYNPCQAAAAADgq9lAAAAAAGDT4kAAAAAAsBrnQAAAAABAHfFAAAAAALAa50AAAAAAsBrnQAAAAABAzr5AAAAAAOCr2UDLEMe6zk8DQQAAAACwGudAAAAAAGDT4kAAAAAAoD\\u002fWQAAAAABAHfFAAAAAALAa50AAAAAAsBrnQAAAAAAwQtBAAAAAAGDT4kAAAAAAwPX3QAAAAACwGudAAAAAAADolUAAAAAAAGL7QAAAAACwGudAAAAAABA97EAAAAAAwPX3QAAAAACwGudAAAAAAICJ9EAAAAAAgIn0QAAAAABg0+JAyxDHus5PA0EAAAAAYNPiQAAAAAAQPexAAAAAALAa50AAAAAA4KvZQAAAAAAQPexAAAAAABA97EAAAAAAgIn0QMsQx7rOTwNBAAAAAEDOvkAAAAAAYNPiQAAAAACwGudAAAAAABA97EAAAAAAQM7eQAAAAABg0+JAAAAAAOCr2UAAAAAAgIn0QAAAAABg0+JAAAAAALAa50AAAAAAgIn0QAAAAAAgGM1AAAAAALAa50AAAAAAsBrnQAAAAABg0+JAAAAAAKA\\u002f1kDLEMe6zk8DQQAAAABAzt5AAAAAAEAd8UAAAAAAQM7eQAAAAAAQPexAAAAAAGDT4kAAAAAAED3sQAAAAADA9fdAAAAAABA97EAAAAAAYNPiQAAAAABAHfFAAAAAAICJ9EAAAAAAQM6+QMsQx7rOTwNBAAAAAOCr2UAAAAAAQB3xQA==\"},\"y0\":\" \",\"yaxis\":\"y6\",\"type\":\"box\"},{\"alignmentgroup\":\"True\",\"hovertemplate\":\"Sex=%{x}\\u003cbr\\u003eprestige_category=Category 4\\u003cbr\\u003eAnnual Income=%{y}\\u003cextra\\u003e\\u003c\\u002fextra\\u003e\",\"legendgroup\":\"female\",\"marker\":{\"color\":\"red\"},\"name\":\"female\",\"notched\":false,\"offsetgroup\":\"female\",\"orientation\":\"v\",\"showlegend\":false,\"x\":[\"female\",\"female\",\"female\",\"female\",\"female\",\"female\",\"female\",\"female\",\"female\",\"female\",\"female\",\"female\",\"female\",\"female\",\"female\",\"female\",\"female\",\"female\",\"female\",\"female\",\"female\",\"female\",\"female\",\"female\",\"female\",\"female\",\"female\",\"female\",\"female\",\"female\",\"female\",\"female\",\"female\",\"female\",\"female\",\"female\",\"female\",\"female\",\"female\",\"female\",\"female\",\"female\",\"female\",\"female\",\"female\",\"female\",\"female\",\"female\",\"female\",\"female\",\"female\",\"female\",\"female\",\"female\",\"female\",\"female\",\"female\",\"female\",\"female\",\"female\",\"female\",\"female\",\"female\",\"female\",\"female\",\"female\",\"female\",\"female\",\"female\",\"female\",\"female\",\"female\",\"female\",\"female\",\"female\",\"female\",\"female\",\"female\",\"female\",\"female\",\"female\",\"female\",\"female\",\"female\",\"female\",\"female\",\"female\",\"female\",\"female\",\"female\",\"female\",\"female\",\"female\",\"female\",\"female\",\"female\",\"female\",\"female\",\"female\",\"female\",\"female\",\"female\",\"female\",\"female\",\"female\",\"female\",\"female\",\"female\",\"female\",\"female\",\"female\",\"female\",\"female\",\"female\",\"female\",\"female\",\"female\",\"female\",\"female\",\"female\",\"female\",\"female\",\"female\",\"female\",\"female\",\"female\",\"female\",\"female\",\"female\",\"female\",\"female\",\"female\",\"female\",\"female\",\"female\",\"female\",\"female\",\"female\",\"female\",\"female\",\"female\",\"female\",\"female\",\"female\",\"female\",\"female\",\"female\",\"female\",\"female\",\"female\",\"female\",\"female\",\"female\",\"female\",\"female\",\"female\",\"female\",\"female\",\"female\",\"female\",\"female\",\"female\",\"female\",\"female\",\"female\",\"female\",\"female\",\"female\",\"female\"],\"x0\":\" \",\"xaxis\":\"x3\",\"y\":{\"dtype\":\"f8\",\"bdata\":\"AAAAALAa50AAAAAAED3sQAAAAABg09JAAAAAAMD190AAAAAAoD\\u002fGQMsQx7rOTwNBAAAAAGDT4kAAAAAAgIn0QAAAAABAHfFAAAAAAGDT4kAAAAAAED3sQAAAAABg08JAAAAAAABi+0AAAAAAoD\\u002fWQMsQx7rOTwNBAAAAAKA\\u002fxkAAAAAAAGL7QAAAAACwGudAAAAAABA97EDLEMe6zk8DQQAAAACwGudAAAAAAICJ9EAAAAAAAGL7QAAAAAAQPexAAAAAAMD190DLEMe6zk8DQQAAAAAwQtBAyxDHus5PA0HLEMe6zk8DQcsQx7rOTwNBAAAAALAa50DLEMe6zk8DQQAAAABAHfFAAAAAAGDT4kAAAAAAACujQAAAAADgq9lAAAAAAGDT4kDLEMe6zk8DQQAAAACwGudAAAAAAICJ9EAAAAAAQB3xQMsQx7rOTwNBAAAAAICJ9EAAAAAAYNPiQAAAAAAAYvtAAAAAAGDT4kDLEMe6zk8DQcsQx7rOTwNBAAAAAIDMsUAAAAAAQB3xQAAAAADgq9lAAAAAABA97EAAAAAAYNPiQAAAAABAHfFAAAAAABA97EAAAAAAoD\\u002fWQAAAAADgq9lAyxDHus5PA0EAAAAAAGL7QAAAAACgP8ZAAAAAADBC0EAAAAAAsBrnQAAAAABAHfFAAAAAAEAd8UAAAAAA4KvZQMsQx7rOTwNBAAAAABA97EAAAAAAsBrnQAAAAACAifRAAAAAAABi+0AAAAAAQM7eQAAAAABAHfFAAAAAABA97EAAAAAAIBjNQAAAAACgP9ZAAAAAAOCr2UAAAAAAED3sQAAAAACgP9ZAyxDHus5PA0EAAAAAgMyxQAAAAADgq9lAAAAAAEDO3kAAAAAAQM7eQAAAAABg0+JAAAAAAMD190AAAAAAsBrnQAAAAACwGudAAAAAAMD190AAAAAAoD\\u002fWQAAAAABAzt5AAAAAAEAd8UAAAAAAgIn0QMsQx7rOTwNBAAAAADBC0EAAAAAAQM7eQAAAAAAgGM1AAAAAALAa50AAAAAAsBrnQAAAAAAQPexAAAAAAGDT0kAAAAAAsBrnQAAAAABAzt5AAAAAAICJtEAAAAAAED3sQAAAAACgP9ZAyxDHus5PA0HLEMe6zk8DQQAAAABAzt5AAAAAAGDT0kAAAAAAYNPiQAAAAAAApbhAAAAAAGDT4kAAAAAAAOh1QAAAAAAAYvtAyxDHus5PA0EAAAAAsBrnQAAAAABAzt5AAAAAAGDT4kAAAAAA4KvJQMsQx7rOTwNBAAAAAOCr2UAAAAAAsBrnQAAAAACwGudAAAAAAGDT4kAAAAAAYNPiQAAAAACgP8ZAAAAAAGDT4kDLEMe6zk8DQQAAAACwGudAAAAAABA97EAAAAAAED3sQAAAAABAzt5AAAAAAOCr2UAAAAAAAGL7QAAAAAAQPexAAAAAAICJ9EAAAAAAYNPiQAAAAAAQPexAAAAAAEDO3kAAAAAAgIn0QAAAAAAwQtBAAAAAAGDT0kAAAAAAQM7eQAAAAACwGudAAAAAAEAd8UAAAAAAYNPiQAAAAAAAYvtAAAAAALAa50AAAAAAED3sQAAAAABAzt5AAAAAAKA\\u002f1kDLEMe6zk8DQQAAAABg0+JAAAAAAGDTwkAAAAAAwPX3QAAAAAAwQtBAAAAAAGDT4kAAAAAAQM7eQAAAAABAHfFAAAAAACAYzUAAAAAAYNPiQAAAAAAgGM1AAAAAAKA\\u002f1kAAAAAAoD\\u002fWQAAAAADgq9lAAAAAAEDO3kAAAAAAQB3xQAAAAADgq9lAAAAAAACluEA=\"},\"y0\":\" \",\"yaxis\":\"y3\",\"type\":\"box\"},{\"alignmentgroup\":\"True\",\"hovertemplate\":\"Sex=%{x}\\u003cbr\\u003eprestige_category=Category 3\\u003cbr\\u003eAnnual Income=%{y}\\u003cextra\\u003e\\u003c\\u002fextra\\u003e\",\"legendgroup\":\"female\",\"marker\":{\"color\":\"red\"},\"name\":\"female\",\"notched\":false,\"offsetgroup\":\"female\",\"orientation\":\"v\",\"showlegend\":false,\"x\":[\"female\",\"female\",\"female\",\"female\",\"female\",\"female\",\"female\",\"female\",\"female\",\"female\",\"female\",\"female\",\"female\",\"female\",\"female\",\"female\",\"female\",\"female\",\"female\",\"female\",\"female\",\"female\",\"female\",\"female\",\"female\",\"female\",\"female\",\"female\",\"female\",\"female\",\"female\",\"female\",\"female\",\"female\",\"female\",\"female\",\"female\",\"female\",\"female\",\"female\",\"female\",\"female\",\"female\",\"female\",\"female\",\"female\",\"female\",\"female\",\"female\",\"female\",\"female\",\"female\",\"female\",\"female\",\"female\",\"female\",\"female\",\"female\",\"female\",\"female\",\"female\",\"female\",\"female\",\"female\",\"female\",\"female\",\"female\",\"female\",\"female\",\"female\",\"female\",\"female\",\"female\",\"female\",\"female\",\"female\",\"female\",\"female\",\"female\",\"female\",\"female\",\"female\",\"female\",\"female\",\"female\",\"female\",\"female\",\"female\",\"female\",\"female\",\"female\",\"female\",\"female\",\"female\",\"female\",\"female\",\"female\",\"female\",\"female\",\"female\",\"female\",\"female\",\"female\",\"female\",\"female\",\"female\",\"female\",\"female\",\"female\",\"female\",\"female\",\"female\",\"female\",\"female\",\"female\",\"female\",\"female\",\"female\",\"female\",\"female\",\"female\",\"female\",\"female\",\"female\",\"female\",\"female\",\"female\",\"female\",\"female\",\"female\",\"female\",\"female\",\"female\",\"female\",\"female\",\"female\",\"female\",\"female\",\"female\",\"female\",\"female\",\"female\",\"female\",\"female\",\"female\",\"female\",\"female\",\"female\",\"female\",\"female\",\"female\",\"female\",\"female\",\"female\",\"female\",\"female\",\"female\",\"female\",\"female\",\"female\",\"female\",\"female\",\"female\",\"female\",\"female\",\"female\",\"female\",\"female\",\"female\",\"female\",\"female\",\"female\",\"female\",\"female\",\"female\",\"female\",\"female\",\"female\",\"female\",\"female\",\"female\",\"female\",\"female\",\"female\",\"female\",\"female\",\"female\",\"female\",\"female\",\"female\",\"female\",\"female\",\"female\",\"female\",\"female\",\"female\",\"female\",\"female\",\"female\",\"female\",\"female\",\"female\",\"female\",\"female\",\"female\",\"female\",\"female\",\"female\",\"female\",\"female\",\"female\",\"female\",\"female\",\"female\",\"female\",\"female\",\"female\",\"female\",\"female\",\"female\",\"female\",\"female\",\"female\",\"female\",\"female\",\"female\",\"female\",\"female\",\"female\",\"female\",\"female\",\"female\",\"female\",\"female\",\"female\",\"female\",\"female\",\"female\",\"female\",\"female\",\"female\",\"female\",\"female\",\"female\",\"female\",\"female\",\"female\",\"female\",\"female\",\"female\",\"female\",\"female\",\"female\",\"female\",\"female\",\"female\",\"female\",\"female\",\"female\",\"female\",\"female\",\"female\",\"female\",\"female\",\"female\",\"female\",\"female\",\"female\",\"female\",\"female\",\"female\",\"female\",\"female\",\"female\",\"female\",\"female\",\"female\",\"female\",\"female\",\"female\",\"female\",\"female\",\"female\",\"female\",\"female\",\"female\",\"female\",\"female\",\"female\",\"female\",\"female\",\"female\",\"female\",\"female\",\"female\",\"female\",\"female\",\"female\",\"female\",\"female\",\"female\",\"female\",\"female\",\"female\",\"female\",\"female\",\"female\",\"female\",\"female\",\"female\",\"female\",\"female\",\"female\",\"female\",\"female\",\"female\",\"female\",\"female\",\"female\",\"female\",\"female\",\"female\",\"female\",\"female\",\"female\",\"female\",\"female\",\"female\",\"female\",\"female\",\"female\",\"female\",\"female\",\"female\",\"female\",\"female\",\"female\",\"female\",\"female\",\"female\",\"female\",\"female\",\"female\",\"female\",\"female\",\"female\",\"female\",\"female\",\"female\",\"female\",\"female\",\"female\",\"female\",\"female\",\"female\",\"female\",\"female\"],\"x0\":\" \",\"xaxis\":\"x4\",\"y\":{\"dtype\":\"f8\",\"bdata\":\"AAAAAOCryUAAAAAAMELQQAAAAACAifRAAAAAAOCr2UAAAAAAYNPiQAAAAABAHfFAAAAAABA97EAAAAAAoD\\u002fWQAAAAABAHfFAAAAAABA97EAAAAAAYNPiQAAAAADgq9lAAAAAAABi+0AAAAAAsBrnQAAAAABAHfFAAAAAAACluEAAAAAAAGL7QAAAAAAAYvtAAAAAAEAd8UAAAAAAED3sQAAAAABg0+JAAAAAALAa50AAAAAAAKWoQAAAAACwGudAAAAAAEDO3kAAAAAAQM6+QAAAAABAHfFAAAAAAEAd8UAAAAAAwPX3QMsQx7rOTwNBAAAAAICJ9EAAAAAAIBjNQAAAAACgP9ZAAAAAAEDOvkAAAAAA4KvZQMsQx7rOTwNBAAAAAGDT0kAAAAAAwPX3QAAAAACgP9ZAAAAAAGDTwkAAAAAAYNPiQAAAAAAQPexAAAAAABA97EAAAAAAQB3xQAAAAACgP9ZAAAAAAEDO3kAAAAAAMELQQAAAAABAzt5AAAAAAABi+0AAAAAAoD\\u002fWQAAAAAAwQtBAAAAAALAa50AAAAAAoD\\u002fGQAAAAACgP8ZAyxDHus5PA0EAAAAAMELQQAAAAABAzt5AAAAAAGDT4kAAAAAAgIn0QMsQx7rOTwNBAAAAAABi+0AAAAAAoD\\u002fGQAAAAAAApbhAAAAAACAYzUAAAAAAYNPiQAAAAADA9fdAAAAAAEDO3kDLEMe6zk8DQQAAAAAAYvtAAAAAAICJ9EAAAAAA4KvZQAAAAAAQPexAAAAAALAa50AAAAAAgIn0QMsQx7rOTwNBAAAAAABi+0AAAAAAoD\\u002fWQAAAAADgq9lAAAAAAEAd8UAAAAAAgIn0QAAAAACgP9ZAyxDHus5PA0HLEMe6zk8DQQAAAACgP8ZAAAAAALAa50AAAAAAsBrnQAAAAABg0+JAAAAAALAa50AAAAAAIBjNQAAAAAAA6HVAAAAAAABi+0AAAAAAoD\\u002fWQAAAAABAzr5AAAAAAKA\\u002fxkAAAAAAoD\\u002fWQAAAAABAzt5AAAAAAEDOvkAAAAAAYNPSQAAAAABAHfFAAAAAAEAd8UDLEMe6zk8DQQAAAADgq9lAAAAAAICJ9EAAAAAAQM6+QAAAAAAApahAAAAAAKA\\u002f1kAAAAAAYNPiQAAAAACwGudAAAAAAABi+0AAAAAAACujQAAAAACgP9ZAAAAAAEAd8UAAAAAAQM7eQMsQx7rOTwNBAAAAAICJtEAAAAAAwPX3QAAAAABAzt5AAAAAAGDT4kAAAAAAQB3xQAAAAAAQPexAyxDHus5PA0EAAAAAsBrnQAAAAACgP8ZAAAAAAKA\\u002f1kAAAAAAYNPiQAAAAABAzr5AyxDHus5PA0EAAAAAYNPiQAAAAABAzt5AAAAAALAa50AAAAAAAGL7QMsQx7rOTwNBAAAAACAYzUAAAAAAED3sQAAAAABAzr5AyxDHus5PA0EAAAAAIBjNQAAAAABAzr5AAAAAAKA\\u002f1kAAAAAAQM6+QAAAAACwGudAAAAAAOCr2UAAAAAAgIn0QMsQx7rOTwNBAAAAAGDT4kAAAAAA4KvZQAAAAACgP9ZAAAAAABA97EAAAAAAoD\\u002fWQAAAAAAwQtBAAAAAAEDO3kAAAAAAoD\\u002fGQAAAAADgq8lAAAAAAEAd8UAAAAAAQB3xQAAAAABg09JAAAAAAEAd8UAAAAAAQM7eQAAAAABAzt5AAAAAAGDT4kAAAAAA4KvZQAAAAAAAYvtAAAAAAGDT4kAAAAAAYNPSQAAAAADgq9lAAAAAAGDT4kAAAAAAoD\\u002fWQAAAAADgq8lAAAAAABA97EAAAAAA4KvJQAAAAABg09JAAAAAAOCr2UDLEMe6zk8DQQAAAABAzt5AAAAAAGDT4kAAAAAAYNPSQAAAAABAzr5AAAAAAOCr2UAAAAAAoD\\u002fWQAAAAACgP9ZAAAAAAGDT4kAAAAAAMELQQAAAAADgq9lAAAAAACAYzUAAAAAAQM7eQAAAAACwGudAAAAAAABi+0AAAAAAoD\\u002fGQAAAAABAHfFAAAAAACAYzUAAAAAAED3sQAAAAADgq9lAAAAAAOCr2UAAAAAAsBrnQAAAAAAgGM1AAAAAAGDT4kAAAAAAYNPSQAAAAABAHfFAAAAAAOCr2UAAAAAAAOh1QAAAAAAApbhAAAAAAGDT4kAAAAAAgIn0QAAAAADgq8lAAAAAAEDO3kDLEMe6zk8DQQAAAACwGudAAAAAAEAd8UAAAAAAYNPiQAAAAACwGudAAAAAABA97EAAAAAAED3sQMsQx7rOTwNBAAAAAGDTwkAAAAAAsBrnQAAAAABg09JAAAAAALAa50AAAAAAQM6+QAAAAACwGudAAAAAAEDOvkAAAAAAQM7eQAAAAABg08JAAAAAAEAd8UAAAAAAIBjNQAAAAAAgGM1AAAAAAGDTwkAAAAAAQB3xQAAAAACwGudAAAAAAADodUAAAAAAQM6+QAAAAACwGudAAAAAAGDT4kAAAAAAYNPiQAAAAAAgGM1AAAAAAOCryUAAAAAA4KvZQAAAAABg09JAAAAAAICJ9EAAAAAAQM7eQAAAAABg09JAAAAAAKA\\u002fxkAAAAAAYNPSQAAAAADgq8lAAAAAAEDO3kAAAAAAQB3xQAAAAABg08JAAAAAAEAd8UAAAAAAAOh1QAAAAAAgGM1AAAAAAEAd8UAAAAAA4KvZQAAAAABAzr5AAAAAALAa50AAAAAAYNPiQMsQx7rOTwNByxDHus5PA0EAAAAAQM6+QAAAAADgq9lAAAAAAGDT4kAAAAAAMELQQAAAAABg09JAAAAAALAa50AAAAAAMELQQAAAAADgq8lAAAAAALAa50AAAAAAYNPCQAAAAABg0+JAAAAAAEDO3kAAAAAAED3sQAAAAAAQPexAAAAAAEDO3kAAAAAAQB3xQAAAAAAQPexAAAAAAGDT4kAAAAAAYNPSQAAAAABg09JAAAAAAEAd8UAAAAAAQM7eQAAAAACAifRAAAAAALAa50AAAAAAAGL7QAAAAACwGudAAAAAAKA\\u002fxkAAAAAAED3sQAAAAACAzLFAAAAAAEDOvkAAAAAAACujQAAAAABAHfFAAAAAAADolUAAAAAAYNPiQAAAAABAzt5AAAAAAACluEAAAAAAYNPiQAAAAACAifRAAAAAAMD190AAAAAAsBrnQAAAAAAgGM1AAAAAACAYzUAAAAAAgIn0QAAAAABg09JAAAAAAGDT4kAAAAAAQB3xQMsQx7rOTwNBAAAAABA97EAAAAAAED3sQAAAAAAQPexAAAAAAEDO3kAAAAAAQB3xQAAAAACgP8ZAAAAAAGDT4kAAAAAA4KvJQMsQx7rOTwNBAAAAAEDO3kAAAAAAAGL7QMsQx7rOTwNBAAAAAGDTwkAAAAAAYNPiQAAAAAAQPexAAAAAAGDT4kAAAAAAoD\\u002fGQAAAAABAzt5AAAAAALAa50DLEMe6zk8DQQAAAABAzt5AAAAAAOCryUAAAAAAIBjNQAAAAABAzr5AAAAAAEDOvkAAAAAAMELQQAAAAACgP8ZAAAAAABA97EAAAAAAMELQQAAAAACwGudAAAAAAEDO3kAAAAAAIBjNQAAAAACgP9ZAAAAAAGDT4kAAAAAAYNPiQAAAAADgq9lAAAAAADBC0EAAAAAAAOh1QAAAAAAQPexAAAAAAABi+0AAAAAAMELQQAAAAABAzt5AAAAAABA97EAAAAAAED3sQAAAAABAzr5AAAAAAGDTwkAAAAAAMELQQAAAAACgP9ZAAAAAAICJtEAAAAAAYNPiQAAAAACwGudAAAAAACAYzUAAAAAA4KvJQAAAAABAHfFA\"},\"y0\":\" \",\"yaxis\":\"y4\",\"type\":\"box\"},{\"alignmentgroup\":\"True\",\"hovertemplate\":\"Sex=%{x}\\u003cbr\\u003eprestige_category= Category 2\\u003cbr\\u003eAnnual Income=%{y}\\u003cextra\\u003e\\u003c\\u002fextra\\u003e\",\"legendgroup\":\"female\",\"marker\":{\"color\":\"red\"},\"name\":\"female\",\"notched\":false,\"offsetgroup\":\"female\",\"orientation\":\"v\",\"showlegend\":false,\"x\":[\"female\",\"female\",\"female\",\"female\",\"female\",\"female\",\"female\",\"female\",\"female\",\"female\",\"female\",\"female\",\"female\",\"female\",\"female\",\"female\",\"female\",\"female\",\"female\",\"female\",\"female\",\"female\",\"female\",\"female\",\"female\",\"female\",\"female\",\"female\",\"female\",\"female\",\"female\",\"female\",\"female\",\"female\",\"female\",\"female\",\"female\",\"female\",\"female\",\"female\",\"female\",\"female\",\"female\",\"female\",\"female\",\"female\",\"female\",\"female\",\"female\",\"female\",\"female\",\"female\",\"female\",\"female\",\"female\",\"female\",\"female\",\"female\",\"female\",\"female\",\"female\",\"female\",\"female\",\"female\",\"female\",\"female\",\"female\",\"female\",\"female\",\"female\",\"female\",\"female\",\"female\",\"female\",\"female\",\"female\",\"female\",\"female\",\"female\",\"female\",\"female\",\"female\",\"female\",\"female\",\"female\",\"female\",\"female\",\"female\",\"female\",\"female\",\"female\",\"female\",\"female\",\"female\",\"female\",\"female\",\"female\",\"female\",\"female\",\"female\",\"female\",\"female\",\"female\",\"female\",\"female\",\"female\",\"female\",\"female\",\"female\",\"female\",\"female\",\"female\",\"female\",\"female\",\"female\",\"female\",\"female\",\"female\",\"female\",\"female\",\"female\",\"female\",\"female\",\"female\",\"female\",\"female\",\"female\",\"female\",\"female\",\"female\",\"female\",\"female\",\"female\",\"female\",\"female\",\"female\",\"female\",\"female\",\"female\",\"female\",\"female\",\"female\",\"female\",\"female\",\"female\",\"female\",\"female\",\"female\",\"female\",\"female\",\"female\",\"female\",\"female\",\"female\",\"female\",\"female\",\"female\",\"female\",\"female\",\"female\",\"female\",\"female\",\"female\",\"female\",\"female\",\"female\",\"female\",\"female\",\"female\",\"female\",\"female\",\"female\",\"female\",\"female\",\"female\",\"female\",\"female\",\"female\",\"female\",\"female\",\"female\",\"female\",\"female\",\"female\",\"female\",\"female\",\"female\",\"female\",\"female\",\"female\",\"female\",\"female\",\"female\",\"female\",\"female\",\"female\",\"female\",\"female\",\"female\",\"female\",\"female\",\"female\",\"female\",\"female\",\"female\",\"female\",\"female\",\"female\",\"female\",\"female\",\"female\",\"female\",\"female\",\"female\",\"female\",\"female\",\"female\",\"female\",\"female\",\"female\",\"female\",\"female\",\"female\",\"female\",\"female\",\"female\",\"female\",\"female\",\"female\",\"female\",\"female\",\"female\",\"female\",\"female\"],\"x0\":\" \",\"xaxis\":\"x\",\"y\":{\"dtype\":\"f8\",\"bdata\":\"AAAAAAAfrkAAAAAAIBjNQAAAAAAA6JVAAAAAAGDTwkAAAAAAgIn0QAAAAAAApbhAAAAAAICJtEAAAAAA4KvZQAAAAACwGudAyxDHus5PA0EAAAAAsBrnQAAAAABAzr5AAAAAALAa50AAAAAAsBrnQAAAAAAA6HVAAAAAAGDT0kAAAAAA4KvJQAAAAABg08JAAAAAAABi+0AAAAAAED3sQAAAAABAHfFAAAAAACAYzUAAAAAAsBrnQAAAAAAQPexAAAAAAEDO3kAAAAAAED3sQMsQx7rOTwNBAAAAAGDT4kAAAAAAYNPiQAAAAAAA6JVAAAAAAACluEAAAAAAQM7eQAAAAABg08JAAAAAAGDT4kDLEMe6zk8DQQAAAABAHfFAAAAAABA97EAAAAAAYNPiQAAAAAAQPexAyxDHus5PA0EAAAAAIBjNQAAAAAAApbhAAAAAAAAro0AAAAAAED3sQAAAAACwGudAAAAAAGDT0kAAAAAAYNPSQAAAAACwGudAAAAAAKA\\u002f1kAAAAAAIBjNQAAAAACgP9ZAAAAAAICJ9EAAAAAA4KvJQAAAAADgq9lAAAAAAEDOvkAAAAAAQB3xQAAAAAAApahAAAAAAKA\\u002fxkAAAAAAMELQQAAAAABAzt5AAAAAABA97EAAAAAAYNPiQMsQx7rOTwNBAAAAAEDO3kAAAAAAoD\\u002fGQAAAAACgP8ZAAAAAALAa50AAAAAAYNPCQAAAAADgq9lAAAAAAOCryUAAAAAAED3sQAAAAAAwQtBAAAAAAOCr2UAAAAAAYNPiQAAAAAAgGM1AAAAAABA97EAAAAAAoD\\u002fWQAAAAACwGudAAAAAAEDOvkAAAAAAMELQQAAAAABg08JAAAAAAMD190AAAAAA4KvJQAAAAABAHfFAyxDHus5PA0EAAAAAoD\\u002fGQAAAAABg09JAAAAAADBC0EAAAAAAsBrnQAAAAAAA6JVAAAAAACAYzUAAAAAAYNPSQAAAAACwGudAAAAAAGDT0kAAAAAAYNPiQAAAAACgP9ZAAAAAAEDO3kDLEMe6zk8DQQAAAAAAK6NAAAAAABA97EAAAAAAoD\\u002fWQAAAAACgP9ZAAAAAAOCr2UAAAAAAgIn0QAAAAABAzt5AAAAAAKA\\u002f1kAAAAAAMELQQAAAAABAzt5AAAAAAAAro0AAAAAAQB3xQAAAAACgP9ZAAAAAADBC0EAAAAAAwPX3QAAAAACwGudAAAAAAADolUAAAAAAsBrnQAAAAABg0+JAAAAAALAa50AAAAAAsBrnQAAAAACgP8ZAAAAAAEDO3kAAAAAAsBrnQAAAAACgP9ZAAAAAAGDT0kAAAAAAMELQQAAAAABAzt5AAAAAAEDO3kAAAAAAgIn0QMsQx7rOTwNBAAAAAEDOvkAAAAAAIBjNQAAAAACwGudAAAAAALAa50AAAAAA4KvZQAAAAACwGudAAAAAAICJtEAAAAAA4KvJQAAAAABg08JAAAAAAOCryUAAAAAAYNPCQAAAAAAApbhAAAAAAGDT4kAAAAAAIBjNQAAAAABAzt5AAAAAAKA\\u002f1kAAAAAAMELQQAAAAABAzt5AAAAAAACluEAAAAAAED3sQAAAAADgq9lAAAAAAADodUAAAAAAAKW4QAAAAABg08JAAAAAAADolUAAAAAAYNPSQAAAAAAApbhAAAAAABA97EAAAAAAYNPCQAAAAAAA6HVAAAAAAOCryUAAAAAAED3sQAAAAABg0+JAAAAAACAYzUAAAAAAYNPSQAAAAABAzt5AAAAAACAYzUAAAAAAAKW4QAAAAAAgGM1AAAAAAGDT0kAAAAAAwPX3QAAAAAAgGM1AAAAAAICJtEAAAAAAAKWoQAAAAAAQPexAAAAAAGDTwkAAAAAAAB+uQAAAAABg08JAAAAAAICJtEAAAAAAoD\\u002fWQAAAAACAifRAAAAAAEDOvkAAAAAAMELQQAAAAABg09JAAAAAAMD190AAAAAA4KvZQAAAAABAzt5AAAAAALAa50AAAAAAYNPCQAAAAAAAH65AAAAAAOCr2UAAAAAAYNPSQAAAAAAgGM1AAAAAAKA\\u002f1kAAAAAAQM7eQAAAAADgq9lAAAAAAGDT4kAAAAAAIBjNQAAAAABg08JAAAAAADBC0EAAAAAAoD\\u002fWQAAAAABAzr5AAAAAAGDT0kAAAAAAYNPCQAAAAADA9fdAAAAAAGDTwkAAAAAAYNPCQAAAAABg08JAAAAAADBC0EAAAAAAYNPiQAAAAABg09JAAAAAAADodUAAAAAAYNPSQAAAAACwGudAAAAAALAa50AAAAAAQM7eQAAAAABg08JAAAAAALAa50AAAAAAAKW4QAAAAACgP8ZAAAAAAGDT4kAAAAAA4KvZQAAAAAAQPexAAAAAADBC0EAAAAAAAKW4QAAAAABg0+JAAAAAAEDOvkAAAAAAAOh1QAAAAACAzLFAAAAAAADolUAAAAAAAOh1QAAAAABg0+JAAAAAAGDT4kAAAAAAYNPiQAAAAACgP9ZA\"},\"y0\":\" \",\"yaxis\":\"y\",\"type\":\"box\"},{\"alignmentgroup\":\"True\",\"hovertemplate\":\"Sex=%{x}\\u003cbr\\u003eprestige_category=Category 6 (Highest)\\u003cbr\\u003eAnnual Income=%{y}\\u003cextra\\u003e\\u003c\\u002fextra\\u003e\",\"legendgroup\":\"female\",\"marker\":{\"color\":\"red\"},\"name\":\"female\",\"notched\":false,\"offsetgroup\":\"female\",\"orientation\":\"v\",\"showlegend\":false,\"x\":[\"female\",\"female\",\"female\",\"female\",\"female\",\"female\",\"female\",\"female\",\"female\",\"female\",\"female\",\"female\",\"female\",\"female\",\"female\",\"female\",\"female\",\"female\",\"female\",\"female\",\"female\",\"female\",\"female\",\"female\",\"female\",\"female\",\"female\",\"female\",\"female\",\"female\",\"female\",\"female\",\"female\",\"female\",\"female\",\"female\",\"female\",\"female\",\"female\"],\"x0\":\" \",\"xaxis\":\"x2\",\"y\":{\"dtype\":\"f8\",\"bdata\":\"AAAAAGDT4kAAAAAAED3sQAAAAADgq9lAAAAAAEAd8UDLEMe6zk8DQQAAAACwGudAyxDHus5PA0EAAAAAwPX3QMsQx7rOTwNBAAAAAOCr2UAAAAAAgIm0QAAAAACAifRAAAAAADBC0EAAAAAAQB3xQAAAAACgP9ZAAAAAAGDTwkAAAAAAAOh1QAAAAACgP9ZAAAAAAICJ9EAAAAAAQB3xQMsQx7rOTwNByxDHus5PA0EAAAAAoD\\u002fWQAAAAACAifRAAAAAALAa50AAAAAAQM6+QAAAAABAzt5AAAAAAABi+0DLEMe6zk8DQQAAAABAHfFAAAAAABA97EDLEMe6zk8DQQAAAACAifRAAAAAABA97EAAAAAAsBrnQAAAAADgq9lAAAAAAABi+0AAAAAAED3sQAAAAAAQPexA\"},\"y0\":\" \",\"yaxis\":\"y2\",\"type\":\"box\"},{\"alignmentgroup\":\"True\",\"hovertemplate\":\"Sex=%{x}\\u003cbr\\u003eprestige_category=Category 1 (Lowest)\\u003cbr\\u003eAnnual Income=%{y}\\u003cextra\\u003e\\u003c\\u002fextra\\u003e\",\"legendgroup\":\"male\",\"marker\":{\"color\":\"blue\"},\"name\":\"male\",\"notched\":false,\"offsetgroup\":\"male\",\"orientation\":\"v\",\"showlegend\":true,\"x\":[\"male\",\"male\",\"male\",\"male\",\"male\",\"male\",\"male\",\"male\",\"male\",\"male\",\"male\",\"male\",\"male\",\"male\",\"male\",\"male\",\"male\",\"male\",\"male\",\"male\",\"male\",\"male\",\"male\",\"male\",\"male\",\"male\",\"male\",\"male\",\"male\",\"male\",\"male\",\"male\",\"male\",\"male\",\"male\",\"male\",\"male\",\"male\",\"male\",\"male\",\"male\",\"male\",\"male\",\"male\",\"male\",\"male\",\"male\",\"male\",\"male\",\"male\",\"male\",\"male\",\"male\",\"male\",\"male\",\"male\",\"male\",\"male\",\"male\",\"male\",\"male\",\"male\",\"male\",\"male\",\"male\",\"male\",\"male\",\"male\",\"male\",\"male\",\"male\",\"male\",\"male\",\"male\",\"male\",\"male\",\"male\",\"male\",\"male\",\"male\",\"male\",\"male\",\"male\",\"male\"],\"x0\":\" \",\"xaxis\":\"x5\",\"y\":{\"dtype\":\"f8\",\"bdata\":\"AAAAALAa50DLEMe6zk8DQQAAAACwGudAAAAAALAa50AAAAAAsBrnQAAAAAAQPexAAAAAAEDOvkAAAAAAYNPiQAAAAAAwQtBAAAAAAGDT4kAAAAAAoD\\u002fWQAAAAADgq8lAAAAAAACluEAAAAAAQM7eQAAAAABAzt5AAAAAAEDOvkAAAAAAsBrnQAAAAACwGudAyxDHus5PA0EAAAAAYNPCQAAAAABg0+JAAAAAAGDT0kAAAAAAYNPiQAAAAACgP9ZAAAAAABA97EAAAAAAYNPiQAAAAACwGudAAAAAAEDOvkAAAAAAQM6+QAAAAADgq9lAAAAAACAYzUAAAAAAIBjNQAAAAAAwQtBAAAAAAEAd8UAAAAAAYNPiQAAAAABg09JAAAAAAADolUAAAAAAYNPiQAAAAABg08JAAAAAAGDTwkAAAAAAgIn0QAAAAACgP9ZAAAAAAEAd8UAAAAAAsBrnQAAAAAAQPexAAAAAADBC0EAAAAAA4KvZQAAAAACwGudAAAAAAEAd8UAAAAAAYNPiQAAAAABg0+JAAAAAAEAd8UAAAAAA4KvJQAAAAABAzt5AAAAAAGDT4kAAAAAAMELQQAAAAABg09JAAAAAAOCr2UAAAAAAsBrnQAAAAABAzt5AAAAAAGDT0kAAAAAAsBrnQAAAAAAA6JVAAAAAAGDTwkAAAAAAoD\\u002fWQAAAAACgP9ZAAAAAAEDOvkAAAAAAoD\\u002fWQAAAAAAAYvtAAAAAAGDTwkAAAAAAoD\\u002fGQAAAAABAzr5AAAAAAACluEAAAAAAsBrnQAAAAABAzt5AAAAAACAYzUAAAAAAYNPSQAAAAABg09JAAAAAAADodUAAAAAAYNPSQAAAAACgP8ZAAAAAAGDT0kAAAAAAIBjNQAAAAABAzt5A\"},\"y0\":\" \",\"yaxis\":\"y5\",\"type\":\"box\"},{\"alignmentgroup\":\"True\",\"hovertemplate\":\"Sex=%{x}\\u003cbr\\u003eprestige_category=Category 5\\u003cbr\\u003eAnnual Income=%{y}\\u003cextra\\u003e\\u003c\\u002fextra\\u003e\",\"legendgroup\":\"male\",\"marker\":{\"color\":\"blue\"},\"name\":\"male\",\"notched\":false,\"offsetgroup\":\"male\",\"orientation\":\"v\",\"showlegend\":false,\"x\":[\"male\",\"male\",\"male\",\"male\",\"male\",\"male\",\"male\",\"male\",\"male\",\"male\",\"male\",\"male\",\"male\",\"male\",\"male\",\"male\",\"male\",\"male\",\"male\",\"male\",\"male\",\"male\",\"male\",\"male\",\"male\",\"male\",\"male\",\"male\",\"male\",\"male\",\"male\",\"male\",\"male\",\"male\",\"male\",\"male\",\"male\",\"male\",\"male\",\"male\",\"male\",\"male\",\"male\",\"male\",\"male\",\"male\",\"male\",\"male\",\"male\",\"male\",\"male\",\"male\",\"male\",\"male\",\"male\",\"male\",\"male\",\"male\",\"male\",\"male\",\"male\",\"male\",\"male\",\"male\",\"male\",\"male\",\"male\",\"male\",\"male\",\"male\",\"male\",\"male\",\"male\",\"male\",\"male\",\"male\",\"male\",\"male\",\"male\",\"male\",\"male\",\"male\",\"male\",\"male\",\"male\",\"male\",\"male\",\"male\",\"male\",\"male\",\"male\",\"male\",\"male\",\"male\",\"male\",\"male\",\"male\",\"male\",\"male\",\"male\",\"male\",\"male\",\"male\",\"male\",\"male\",\"male\",\"male\",\"male\",\"male\",\"male\",\"male\",\"male\",\"male\",\"male\",\"male\",\"male\",\"male\",\"male\",\"male\",\"male\",\"male\",\"male\",\"male\",\"male\",\"male\",\"male\",\"male\",\"male\",\"male\",\"male\",\"male\",\"male\",\"male\",\"male\",\"male\",\"male\",\"male\",\"male\",\"male\",\"male\",\"male\",\"male\",\"male\",\"male\",\"male\",\"male\",\"male\",\"male\"],\"x0\":\" \",\"xaxis\":\"x6\",\"y\":{\"dtype\":\"f8\",\"bdata\":\"AAAAAABi+0AAAAAAwPX3QMsQx7rOTwNBAAAAAMD190AAAAAAIBjNQAAAAABg0+JAAAAAAACluEAAAAAAYNPiQMsQx7rOTwNBAAAAALAa50AAAAAAQB3xQAAAAAAwQtBAAAAAALAa50AAAAAAED3sQAAAAADA9fdAAAAAABA97EAAAAAAgIn0QAAAAAAAYvtAyxDHus5PA0EAAAAAwPX3QMsQx7rOTwNBAAAAAEAd8UAAAAAAAGL7QAAAAACAifRAyxDHus5PA0HLEMe6zk8DQQAAAAAQPexAAAAAAICJ9EAAAAAAgIn0QAAAAADA9fdAyxDHus5PA0EAAAAAQB3xQAAAAABAzt5AyxDHus5PA0EAAAAAQB3xQAAAAACwGudAyxDHus5PA0EAAAAAwPX3QAAAAACwGudAAAAAAKA\\u002fxkAAAAAAMELQQAAAAABAHfFAAAAAAGDT4kAAAAAAsBrnQAAAAABAHfFAyxDHus5PA0HLEMe6zk8DQQAAAAAAYvtAAAAAAICJ9EAAAAAAoD\\u002fWQAAAAAAQPexAyxDHus5PA0EAAAAAoD\\u002fWQAAAAABg0+JAAAAAAGDT4kDLEMe6zk8DQcsQx7rOTwNBAAAAABA97EAAAAAAgIn0QAAAAABg0+JAAAAAAEAd8UAAAAAAED3sQAAAAAAQPexAAAAAALAa50AAAAAAoD\\u002fWQAAAAABg08JAAAAAALAa50DLEMe6zk8DQQAAAABg0+JAyxDHus5PA0EAAAAAsBrnQAAAAAAQPexAAAAAAEAd8UAAAAAAIBjNQAAAAACAifRAAAAAAICJ9EAAAAAAwPX3QAAAAADA9fdAAAAAAGDT4kAAAAAAED3sQAAAAACwGudAAAAAAMD190AAAAAAgIn0QMsQx7rOTwNBAAAAAICJ9EAAAAAAED3sQAAAAACwGudAAAAAAICJ9EAAAAAAsBrnQAAAAADgq9lAAAAAABA97EAAAAAAAGL7QAAAAACgP9ZAAAAAAEDO3kAAAAAAwPX3QAAAAADgq9lAAAAAABA97EDLEMe6zk8DQcsQx7rOTwNBAAAAAEDOvkAAAAAAsBrnQAAAAABg0+JAAAAAAEDO3kAAAAAAQM7eQAAAAADA9fdAAAAAADBC0EAAAAAAwPX3QAAAAABAHfFAAAAAALAa50AAAAAAQM6+QAAAAABg0+JAAAAAABA97EAAAAAAwPX3QAAAAABAHfFAyxDHus5PA0EAAAAAYNPiQAAAAACAifRAAAAAAEAd8UAAAAAAAGL7QAAAAADgq9lAAAAAAEDO3kAAAAAAQM7eQAAAAABAzt5AAAAAAMD190DLEMe6zk8DQQAAAAAAYvtAAAAAAEAd8UAAAAAAQB3xQAAAAABAzt5AyxDHus5PA0EAAAAAQM7eQMsQx7rOTwNBAAAAAGDT0kDLEMe6zk8DQQAAAABAHfFAAAAAAEAd8UAAAAAAwPX3QAAAAACwGudAAAAAAACluEAAAAAAwPX3QAAAAAAQPexAAAAAACAYzUAAAAAAQB3xQAAAAABAzt5AAAAAAGDTwkAAAAAAsBrnQAAAAABg0+JAAAAAAMD190A=\"},\"y0\":\" \",\"yaxis\":\"y6\",\"type\":\"box\"},{\"alignmentgroup\":\"True\",\"hovertemplate\":\"Sex=%{x}\\u003cbr\\u003eprestige_category=Category 4\\u003cbr\\u003eAnnual Income=%{y}\\u003cextra\\u003e\\u003c\\u002fextra\\u003e\",\"legendgroup\":\"male\",\"marker\":{\"color\":\"blue\"},\"name\":\"male\",\"notched\":false,\"offsetgroup\":\"male\",\"orientation\":\"v\",\"showlegend\":false,\"x\":[\"male\",\"male\",\"male\",\"male\",\"male\",\"male\",\"male\",\"male\",\"male\",\"male\",\"male\",\"male\",\"male\",\"male\",\"male\",\"male\",\"male\",\"male\",\"male\",\"male\",\"male\",\"male\",\"male\",\"male\",\"male\",\"male\",\"male\",\"male\",\"male\",\"male\",\"male\",\"male\",\"male\",\"male\",\"male\",\"male\",\"male\",\"male\",\"male\",\"male\",\"male\",\"male\",\"male\",\"male\",\"male\",\"male\",\"male\",\"male\",\"male\",\"male\",\"male\",\"male\",\"male\",\"male\",\"male\",\"male\",\"male\",\"male\",\"male\",\"male\",\"male\",\"male\",\"male\",\"male\",\"male\",\"male\",\"male\",\"male\",\"male\",\"male\",\"male\",\"male\",\"male\",\"male\",\"male\",\"male\",\"male\",\"male\",\"male\",\"male\",\"male\",\"male\",\"male\",\"male\",\"male\",\"male\",\"male\",\"male\",\"male\",\"male\",\"male\",\"male\",\"male\",\"male\",\"male\",\"male\",\"male\",\"male\",\"male\",\"male\",\"male\",\"male\",\"male\",\"male\",\"male\",\"male\",\"male\",\"male\",\"male\",\"male\",\"male\",\"male\",\"male\",\"male\",\"male\",\"male\",\"male\",\"male\",\"male\",\"male\",\"male\",\"male\",\"male\",\"male\",\"male\",\"male\",\"male\",\"male\",\"male\",\"male\",\"male\",\"male\",\"male\",\"male\",\"male\",\"male\",\"male\",\"male\",\"male\",\"male\",\"male\",\"male\",\"male\",\"male\",\"male\",\"male\",\"male\",\"male\",\"male\",\"male\",\"male\",\"male\",\"male\",\"male\",\"male\",\"male\",\"male\",\"male\",\"male\",\"male\",\"male\",\"male\"],\"x0\":\" \",\"xaxis\":\"x3\",\"y\":{\"dtype\":\"f8\",\"bdata\":\"yxDHus5PA0EAAAAAsBrnQAAAAACAifRAAAAAAEAd8UAAAAAAwPX3QMsQx7rOTwNBAAAAABA97EAAAAAAoD\\u002fWQAAAAADA9fdAyxDHus5PA0EAAAAAgIn0QAAAAABAHfFAyxDHus5PA0EAAAAAAB+uQAAAAABAHfFAAAAAAMD190AAAAAAYNPiQAAAAACAifRAAAAAAICJ9EDLEMe6zk8DQQAAAACAifRAyxDHus5PA0EAAAAAQB3xQAAAAABg08JAAAAAAGDT0kDLEMe6zk8DQcsQx7rOTwNByxDHus5PA0EAAAAAYNPiQMsQx7rOTwNBAAAAAABi+0DLEMe6zk8DQQAAAACAifRAyxDHus5PA0EAAAAAAGL7QAAAAAAQPexAAAAAADBC0EAAAAAAQB3xQAAAAABg0+JAAAAAAKA\\u002f1kAAAAAAoD\\u002fGQMsQx7rOTwNBAAAAAABi+0AAAAAAIBjNQAAAAADA9fdAyxDHus5PA0EAAAAAgIn0QAAAAADgq9lAAAAAAEDO3kDLEMe6zk8DQQAAAABg0+JAAAAAABA97EDLEMe6zk8DQQAAAACgP9ZAAAAAAKA\\u002f1kAAAAAAQB3xQAAAAACAifRAAAAAAGDT4kAAAAAAQB3xQAAAAAAQPexAAAAAAEDO3kAAAAAAED3sQAAAAAAAH65AAAAAAABi+0AAAAAAQB3xQAAAAABAzt5AyxDHus5PA0EAAAAAgIn0QAAAAABAzt5AAAAAALAa50AAAAAAAGL7QAAAAADgq9lAAAAAAKA\\u002f1kAAAAAAoD\\u002fWQAAAAACgP9ZAyxDHus5PA0EAAAAAYNPSQAAAAABg08JAAAAAABA97EDLEMe6zk8DQQAAAABg0+JAAAAAAOCr2UAAAAAAsBrnQAAAAADA9fdAyxDHus5PA0EAAAAAED3sQAAAAAAAH65AyxDHus5PA0EAAAAAQM7eQAAAAABg0+JAAAAAAADolUAAAAAAACujQAAAAACAifRAAAAAAICJ9EAAAAAAQM7eQAAAAAAA6HVAAAAAAGDT4kAAAAAAAGL7QMsQx7rOTwNBAAAAAMD190AAAAAAgIn0QAAAAABg0+JAAAAAABA97EDLEMe6zk8DQQAAAACgP9ZAAAAAAGDT0kAAAAAAsBrnQAAAAABg0+JAAAAAALAa50AAAAAAQM6+QAAAAABg0+JAAAAAALAa50AAAAAA4KvZQAAAAAAQPexAAAAAAICJ9EAAAAAAQM7eQAAAAACwGudAAAAAAEAd8UAAAAAAAGL7QAAAAABAzt5AAAAAAICJ9EAAAAAAsBrnQAAAAABAHfFAAAAAAABi+0AAAAAAIBjNQAAAAADgq8lAAAAAAEDO3kAAAAAAYNPiQAAAAABAzt5AAAAAABA97EAAAAAAsBrnQAAAAACAifRAAAAAAEAd8UAAAAAAsBrnQAAAAACAifRAAAAAAGDTwkAAAAAAED3sQAAAAAAQPexAAAAAAGDT4kAAAAAA4KvJQAAAAACgP9ZAAAAAAGDT4kAAAAAAoD\\u002fWQAAAAACwGudAAAAAAAAro0AAAAAAYNPiQAAAAADgq8lAAAAAAKA\\u002f1kAAAAAAwPX3QAAAAACAifRAAAAAAOCr2UAAAAAAwPX3QAAAAABAzt5AAAAAALAa50AAAAAAYNPiQAAAAADgq9lAAAAAABA97EAAAAAA4KvZQAAAAACAifRAAAAAAGDT0kAAAAAA4KvZQAAAAACAifRA\"},\"y0\":\" \",\"yaxis\":\"y3\",\"type\":\"box\"},{\"alignmentgroup\":\"True\",\"hovertemplate\":\"Sex=%{x}\\u003cbr\\u003eprestige_category=Category 3\\u003cbr\\u003eAnnual Income=%{y}\\u003cextra\\u003e\\u003c\\u002fextra\\u003e\",\"legendgroup\":\"male\",\"marker\":{\"color\":\"blue\"},\"name\":\"male\",\"notched\":false,\"offsetgroup\":\"male\",\"orientation\":\"v\",\"showlegend\":false,\"x\":[\"male\",\"male\",\"male\",\"male\",\"male\",\"male\",\"male\",\"male\",\"male\",\"male\",\"male\",\"male\",\"male\",\"male\",\"male\",\"male\",\"male\",\"male\",\"male\",\"male\",\"male\",\"male\",\"male\",\"male\",\"male\",\"male\",\"male\",\"male\",\"male\",\"male\",\"male\",\"male\",\"male\",\"male\",\"male\",\"male\",\"male\",\"male\",\"male\",\"male\",\"male\",\"male\",\"male\",\"male\",\"male\",\"male\",\"male\",\"male\",\"male\",\"male\",\"male\",\"male\",\"male\",\"male\",\"male\",\"male\",\"male\",\"male\",\"male\",\"male\",\"male\",\"male\",\"male\",\"male\",\"male\",\"male\",\"male\",\"male\",\"male\",\"male\",\"male\",\"male\",\"male\",\"male\",\"male\",\"male\",\"male\",\"male\",\"male\",\"male\",\"male\",\"male\",\"male\",\"male\",\"male\",\"male\",\"male\",\"male\",\"male\",\"male\",\"male\",\"male\",\"male\",\"male\",\"male\",\"male\",\"male\",\"male\",\"male\",\"male\",\"male\",\"male\",\"male\",\"male\",\"male\",\"male\",\"male\",\"male\",\"male\",\"male\",\"male\",\"male\",\"male\",\"male\",\"male\",\"male\",\"male\",\"male\",\"male\",\"male\",\"male\",\"male\",\"male\",\"male\",\"male\",\"male\",\"male\",\"male\",\"male\",\"male\",\"male\",\"male\",\"male\",\"male\",\"male\",\"male\",\"male\",\"male\",\"male\",\"male\",\"male\",\"male\",\"male\",\"male\",\"male\",\"male\",\"male\",\"male\",\"male\",\"male\",\"male\",\"male\",\"male\",\"male\",\"male\",\"male\",\"male\",\"male\",\"male\",\"male\",\"male\",\"male\",\"male\",\"male\",\"male\",\"male\",\"male\",\"male\",\"male\",\"male\",\"male\",\"male\",\"male\",\"male\",\"male\",\"male\",\"male\",\"male\",\"male\",\"male\",\"male\",\"male\",\"male\",\"male\",\"male\",\"male\",\"male\",\"male\",\"male\",\"male\",\"male\",\"male\",\"male\",\"male\",\"male\",\"male\",\"male\",\"male\",\"male\",\"male\",\"male\",\"male\",\"male\",\"male\",\"male\",\"male\",\"male\",\"male\",\"male\",\"male\",\"male\",\"male\",\"male\",\"male\",\"male\",\"male\",\"male\",\"male\",\"male\",\"male\",\"male\",\"male\",\"male\",\"male\",\"male\",\"male\",\"male\",\"male\",\"male\",\"male\",\"male\",\"male\",\"male\",\"male\",\"male\",\"male\",\"male\",\"male\",\"male\",\"male\",\"male\",\"male\",\"male\",\"male\",\"male\",\"male\",\"male\",\"male\",\"male\",\"male\",\"male\",\"male\",\"male\",\"male\",\"male\",\"male\",\"male\",\"male\",\"male\",\"male\",\"male\",\"male\",\"male\",\"male\",\"male\",\"male\",\"male\",\"male\",\"male\"],\"x0\":\" \",\"xaxis\":\"x4\",\"y\":{\"dtype\":\"f8\",\"bdata\":\"AAAAAEAd8UAAAAAAoD\\u002fWQAAAAACgP9ZAAAAAAOCr2UAAAAAAgIn0QAAAAADA9fdAAAAAAEAd8UAAAAAAAGL7QAAAAABAHfFAAAAAAEDO3kAAAAAAED3sQAAAAABAHfFAAAAAALAa50AAAAAAQM7eQAAAAABAzt5AAAAAAGDT4kAAAAAAoD\\u002fWQAAAAADA9fdAAAAAAMD190AAAAAA4KvJQAAAAABAHfFAAAAAABA97EDLEMe6zk8DQQAAAAAQPexAAAAAAICJ9EAAAAAAED3sQAAAAADgq8lAAAAAABA97EAAAAAAsBrnQAAAAACwGudAAAAAAABi+0AAAAAAAGL7QAAAAABAHfFAAAAAAMD190AAAAAAsBrnQAAAAABg08JAAAAAAGDT4kAAAAAAsBrnQAAAAABAHfFAAAAAALAa50AAAAAAMELQQAAAAADgq9lAAAAAAMD190DLEMe6zk8DQQAAAADA9fdAyxDHus5PA0EAAAAAAGL7QAAAAABg09JAAAAAABA97EAAAAAAED3sQAAAAABAzt5AAAAAADBC0EAAAAAAgIn0QAAAAACAifRAAAAAAABi+0AAAAAAwPX3QAAAAABAzt5AAAAAAEAd8UAAAAAAQB3xQAAAAADA9fdAAAAAAABi+0DLEMe6zk8DQQAAAACAifRAAAAAAGDT4kAAAAAAgIn0QMsQx7rOTwNByxDHus5PA0EAAAAAsBrnQMsQx7rOTwNBAAAAAICJ9EAAAAAAQM6+QAAAAABAzt5AAAAAAKA\\u002fxkAAAAAAsBrnQAAAAAAApbhAAAAAAICJ9EAAAAAAED3sQMsQx7rOTwNBAAAAACAYzUAAAAAAED3sQAAAAABg0+JAAAAAALAa50AAAAAAsBrnQAAAAABg0+JAAAAAAEDOvkAAAAAAED3sQAAAAADA9fdAAAAAAGDT4kAAAAAAYNPSQAAAAACAibRAAAAAABA97EAAAAAAYNPiQAAAAACAifRAAAAAAGDT4kAAAAAAoD\\u002fWQAAAAAAQPexAAAAAAMD190AAAAAAsBrnQAAAAADgq9lAAAAAALAa50AAAAAAQM6+QAAAAABAzt5AyxDHus5PA0EAAAAAYNPiQAAAAACwGudAyxDHus5PA0EAAAAAQM7eQAAAAAAA6JVAAAAAAGDT4kAAAAAAoD\\u002fGQAAAAADgq9lAAAAAAMD190AAAAAAAKW4QAAAAABg08JAAAAAAEDO3kAAAAAAACujQAAAAABAzr5AAAAAAGDT4kAAAAAAYNPiQAAAAACwGudAAAAAALAa50AAAAAAED3sQAAAAABg0+JAAAAAALAa50DLEMe6zk8DQcsQx7rOTwNBAAAAAKA\\u002f1kAAAAAAoD\\u002fWQAAAAACAzLFAAAAAALAa50AAAAAAgIn0QAAAAABAzt5AAAAAABA97EAAAAAAsBrnQAAAAABAzt5AAAAAALAa50AAAAAA4KvZQAAAAAAwQtBAAAAAAGDTwkAAAAAAIBjNQAAAAADgq9lAAAAAAICJ9EAAAAAAgIn0QAAAAACAifRAyxDHus5PA0EAAAAAoD\\u002fWQAAAAABAzt5AAAAAAGDTwkAAAAAAACujQAAAAACwGudAAAAAAGDT4kAAAAAAMELQQAAAAABg0+JAAAAAABA97EAAAAAAQM7eQAAAAABAzr5AAAAAADBC0EAAAAAAQM6+QAAAAAAQPexAAAAAAEAd8UAAAAAAMELQQAAAAACAifRAAAAAAABi+0AAAAAAED3sQAAAAACAifRAAAAAAGDT4kAAAAAAYNPiQAAAAABg0+JAAAAAADBC0EAAAAAAYNPiQAAAAAAgGM1AAAAAAOCryUAAAAAAQM7eQAAAAABAzr5AAAAAALAa50AAAAAAAGL7QMsQx7rOTwNBAAAAAICJ9EAAAAAAACujQAAAAADA9fdAAAAAABA97EAAAAAAoD\\u002fGQAAAAAAQPexAAAAAAICJ9EAAAAAA4KvZQAAAAACAifRAAAAAACAYzUAAAAAAQB3xQAAAAABAHfFAAAAAAMD190AAAAAAQM7eQAAAAABAzt5AAAAAAICJ9EAAAAAAgIn0QAAAAACwGudAAAAAAADolUAAAAAAACujQAAAAABg0+JAAAAAABA97EAAAAAAAKW4QAAAAADgq9lAAAAAAADolUAAAAAAYNPSQAAAAAAwQtBAAAAAAEDO3kDLEMe6zk8DQQAAAABAHfFAAAAAALAa50AAAAAAsBrnQAAAAACgP9ZAAAAAAOCr2UAAAAAAoD\\u002fGQAAAAACgP8ZAAAAAAOCr2UAAAAAAoD\\u002fWQAAAAAAApbhAAAAAAOCr2UAAAAAAQM7eQAAAAABAzt5AAAAAAEAd8UAAAAAAQM7eQAAAAAAQPexAAAAAABA97EAAAAAA4KvJQAAAAABAzt5AAAAAAGDT4kAAAAAAED3sQAAAAACgP9ZAAAAAAOCr2UAAAAAA4KvZQAAAAABAzt5AAAAAAGDT4kAAAAAAQM7eQAAAAAAA6JVAAAAAADBC0EAAAAAAYNPiQAAAAACwGudAAAAAAICJ9EAAAAAAYNPiQAAAAABAzt5AAAAAAEDO3kAAAAAAYNPiQAAAAACwGudAAAAAAGDT4kAAAAAAoD\\u002fWQAAAAACAifRAAAAAAEAd8UAAAAAAYNPCQAAAAABg09JAAAAAAIDMsUAAAAAAwPX3QAAAAACAifRAAAAAABA97EAAAAAAAB+uQAAAAABAHfFAAAAAAGDT4kAAAAAAAKW4QAAAAAAQPexAAAAAAADolUAAAAAAYNPiQAAAAAAA6HVAAAAAAEDOvkAAAAAAED3sQAAAAABAHfFAAAAAADBC0EAAAAAAAKWoQAAAAABAzr5AAAAAAICJ9EAAAAAAYNPiQA==\"},\"y0\":\" \",\"yaxis\":\"y4\",\"type\":\"box\"},{\"alignmentgroup\":\"True\",\"hovertemplate\":\"Sex=%{x}\\u003cbr\\u003eprestige_category= Category 2\\u003cbr\\u003eAnnual Income=%{y}\\u003cextra\\u003e\\u003c\\u002fextra\\u003e\",\"legendgroup\":\"male\",\"marker\":{\"color\":\"blue\"},\"name\":\"male\",\"notched\":false,\"offsetgroup\":\"male\",\"orientation\":\"v\",\"showlegend\":false,\"x\":[\"male\",\"male\",\"male\",\"male\",\"male\",\"male\",\"male\",\"male\",\"male\",\"male\",\"male\",\"male\",\"male\",\"male\",\"male\",\"male\",\"male\",\"male\",\"male\",\"male\",\"male\",\"male\",\"male\",\"male\",\"male\",\"male\",\"male\",\"male\",\"male\",\"male\",\"male\",\"male\",\"male\",\"male\",\"male\",\"male\",\"male\",\"male\",\"male\",\"male\",\"male\",\"male\",\"male\",\"male\",\"male\",\"male\",\"male\",\"male\",\"male\",\"male\",\"male\",\"male\",\"male\",\"male\",\"male\",\"male\",\"male\",\"male\",\"male\",\"male\",\"male\",\"male\",\"male\",\"male\",\"male\",\"male\",\"male\",\"male\",\"male\",\"male\",\"male\",\"male\",\"male\",\"male\",\"male\",\"male\",\"male\",\"male\",\"male\",\"male\",\"male\",\"male\",\"male\",\"male\",\"male\",\"male\",\"male\",\"male\",\"male\",\"male\",\"male\",\"male\",\"male\",\"male\",\"male\",\"male\",\"male\",\"male\",\"male\",\"male\",\"male\",\"male\",\"male\",\"male\",\"male\",\"male\",\"male\",\"male\",\"male\",\"male\",\"male\",\"male\",\"male\",\"male\",\"male\",\"male\",\"male\",\"male\",\"male\",\"male\",\"male\",\"male\",\"male\",\"male\",\"male\",\"male\",\"male\",\"male\",\"male\",\"male\",\"male\",\"male\",\"male\",\"male\",\"male\",\"male\",\"male\",\"male\",\"male\",\"male\",\"male\",\"male\",\"male\",\"male\",\"male\",\"male\",\"male\",\"male\",\"male\",\"male\",\"male\",\"male\",\"male\",\"male\",\"male\",\"male\",\"male\",\"male\",\"male\",\"male\",\"male\",\"male\",\"male\",\"male\",\"male\",\"male\",\"male\",\"male\",\"male\",\"male\",\"male\",\"male\",\"male\",\"male\",\"male\",\"male\",\"male\",\"male\",\"male\",\"male\",\"male\",\"male\",\"male\",\"male\",\"male\",\"male\",\"male\",\"male\",\"male\",\"male\",\"male\",\"male\",\"male\",\"male\",\"male\",\"male\",\"male\",\"male\",\"male\",\"male\",\"male\",\"male\",\"male\",\"male\",\"male\",\"male\",\"male\",\"male\",\"male\",\"male\",\"male\",\"male\",\"male\",\"male\",\"male\",\"male\",\"male\",\"male\",\"male\",\"male\",\"male\",\"male\",\"male\",\"male\",\"male\",\"male\",\"male\",\"male\",\"male\",\"male\",\"male\",\"male\",\"male\",\"male\",\"male\",\"male\",\"male\",\"male\"],\"x0\":\" \",\"xaxis\":\"x\",\"y\":{\"dtype\":\"f8\",\"bdata\":\"AAAAAGDT4kAAAAAAsBrnQAAAAACAifRAAAAAAEAd8UAAAAAAQM7eQAAAAABAHfFAyxDHus5PA0EAAAAAsBrnQAAAAACwGudAAAAAAGDTwkAAAAAAED3sQAAAAABAHfFAAAAAAKA\\u002f1kAAAAAAQM7eQAAAAABAzt5AyxDHus5PA0EAAAAAED3sQAAAAACwGudAAAAAALAa50AAAAAAYNPSQAAAAABAHfFAAAAAAICJ9EAAAAAAQM7eQAAAAACwGudAAAAAAEAd8UAAAAAAsBrnQAAAAABAHfFAAAAAABA97EAAAAAAQM7eQAAAAACgP8ZAAAAAAGDTwkAAAAAAoD\\u002fGQAAAAAAwQtBAAAAAAICJ9EAAAAAAsBrnQAAAAAAwQtBAAAAAAEDO3kAAAAAA4KvZQAAAAACgP8ZAAAAAAGDTwkAAAAAAsBrnQAAAAACgP9ZAAAAAAEDO3kAAAAAAMELQQAAAAAAA6JVAAAAAAKA\\u002f1kAAAAAAED3sQAAAAAAAYvtAAAAAACAYzUAAAAAAYNPiQAAAAACgP9ZAAAAAAICJ9EAAAAAAsBrnQAAAAABg08JAAAAAAEAd8UAAAAAAAGL7QAAAAAAQPexAAAAAADBC0EAAAAAAED3sQAAAAAAA6JVAAAAAABA97EAAAAAAYNPCQAAAAADgq9lAAAAAAICJtEAAAAAAQB3xQAAAAACAzLFAAAAAAGDT0kAAAAAAsBrnQAAAAACgP9ZAAAAAAEDO3kAAAAAAYNPiQAAAAACwGudAAAAAAEAd8UAAAAAAoD\\u002fWQAAAAAAwQtBAAAAAAGDT4kAAAAAAQB3xQAAAAACwGudAAAAAABA97EAAAAAAQM7eQAAAAABAzt5AAAAAAICJ9EAAAAAAoD\\u002fWQAAAAABAzt5AAAAAAEDOvkAAAAAAYNPCQAAAAABAzr5AAAAAADBC0EAAAAAAgIm0QAAAAAAA6HVAAAAAAMD190AAAAAAoD\\u002fWQAAAAACgP9ZAAAAAAEDO3kAAAAAAYNPSQAAAAADgq8lAAAAAABA97EAAAAAAgIn0QAAAAABAzt5AAAAAAEAd8UAAAAAAQB3xQAAAAADgq9lAAAAAAICJ9EAAAAAAoD\\u002fWQAAAAABg08JAAAAAAEDOvkAAAAAAAOh1QAAAAABg09JAAAAAAGDT4kAAAAAAoD\\u002fWQAAAAABAzt5AAAAAAABi+0AAAAAAgIn0QAAAAACwGudAAAAAAEDO3kAAAAAAgIn0QAAAAABAzt5AAAAAAGDTwkAAAAAA4KvJQAAAAACwGudAAAAAAGDT4kAAAAAAQM7eQAAAAABAzt5AAAAAAGDT4kAAAAAAQM6+QAAAAABAHfFAAAAAAEDO3kAAAAAAYNPCQAAAAABAHfFAAAAAAKA\\u002fxkAAAAAAsBrnQAAAAAAgGM1AAAAAAGDTwkAAAAAAoD\\u002fGQAAAAADgq9lAAAAAAOCr2UAAAAAAQM7eQAAAAAAgGM1AAAAAAOCr2UAAAAAAsBrnQAAAAACgP9ZAAAAAACAYzUAAAAAAsBrnQAAAAABg09JAAAAAAADodUAAAAAAMELQQAAAAACgP9ZAAAAAAEDO3kAAAAAAQM6+QAAAAAAwQtBAAAAAAOCr2UAAAAAAQM7eQAAAAACAifRAAAAAAOCryUDLEMe6zk8DQQAAAABg0+JAAAAAADBC0EAAAAAAsBrnQAAAAABAHfFAAAAAAGDT4kAAAAAA4KvJQAAAAACgP9ZAAAAAAICJ9EAAAAAAAGL7QAAAAABg0+JAAAAAAGDT0kAAAAAAQM6+QAAAAACgP9ZAAAAAACAYzUAAAAAAMELQQAAAAABg0+JAAAAAAABi+0AAAAAA4KvZQAAAAACwGudAAAAAAACluEAAAAAAQM6+QAAAAAAgGM1AAAAAAGDT0kAAAAAAwPX3QAAAAACwGudAAAAAAIDMsUAAAAAAoD\\u002fWQAAAAAAwQtBAAAAAALAa50AAAAAAAKWoQAAAAABAzt5AAAAAAGDT4kAAAAAAoD\\u002fGQAAAAACgP9ZAAAAAAACluEAAAAAAAB+uQAAAAABAzr5AAAAAAEAd8UAAAAAAAKW4QAAAAAAgGM1AAAAAAKA\\u002f1kAAAAAAoD\\u002fGQAAAAABg09JAAAAAAGDT0kAAAAAAAKWoQAAAAABg0+JAAAAAALAa50AAAAAAYNPiQAAAAAAwQtBAAAAAAGDTwkAAAAAAQM7eQAAAAAAwQtBAAAAAAKA\\u002f1kDLEMe6zk8DQQAAAAAwQtBAAAAAAEDOvkAAAAAAED3sQAAAAABg09JAAAAAAABi+0AAAAAAED3sQAAAAAAA6HVAAAAAAADodUAAAAAAQM7eQAAAAADA9fdAAAAAAOCr2UAAAAAAMELQQAAAAABg09JAAAAAAGDT4kAAAAAAYNPSQAAAAABg08JAAAAAAADodUAAAAAAAB+uQAAAAAAA6HVAAAAAADBC0EAAAAAAQM7eQAAAAABg08JAAAAAAEDOvkAAAAAAACujQAAAAAAApbhAAAAAABA97EAAAAAAsBrnQAAAAAAQPexAAAAAAADolUA=\"},\"y0\":\" \",\"yaxis\":\"y\",\"type\":\"box\"},{\"alignmentgroup\":\"True\",\"hovertemplate\":\"Sex=%{x}\\u003cbr\\u003eprestige_category=Category 6 (Highest)\\u003cbr\\u003eAnnual Income=%{y}\\u003cextra\\u003e\\u003c\\u002fextra\\u003e\",\"legendgroup\":\"male\",\"marker\":{\"color\":\"blue\"},\"name\":\"male\",\"notched\":false,\"offsetgroup\":\"male\",\"orientation\":\"v\",\"showlegend\":false,\"x\":[\"male\",\"male\",\"male\",\"male\",\"male\",\"male\",\"male\",\"male\",\"male\",\"male\",\"male\",\"male\",\"male\",\"male\",\"male\",\"male\",\"male\",\"male\",\"male\",\"male\",\"male\",\"male\",\"male\",\"male\",\"male\",\"male\",\"male\",\"male\",\"male\",\"male\",\"male\",\"male\",\"male\",\"male\",\"male\",\"male\",\"male\",\"male\",\"male\",\"male\",\"male\",\"male\",\"male\",\"male\",\"male\",\"male\",\"male\",\"male\",\"male\",\"male\",\"male\",\"male\",\"male\"],\"x0\":\" \",\"xaxis\":\"x2\",\"y\":{\"dtype\":\"f8\",\"bdata\":\"AAAAAABi+0AAAAAAgIn0QAAAAABAzt5AAAAAAEAd8UDLEMe6zk8DQcsQx7rOTwNByxDHus5PA0EAAAAAgIn0QMsQx7rOTwNBAAAAAGDT4kDLEMe6zk8DQQAAAAAQPexAyxDHus5PA0EAAAAAED3sQMsQx7rOTwNByxDHus5PA0EAAAAAYNPiQAAAAABg09JAAAAAABA97EAAAAAAED3sQAAAAABAHfFAAAAAAKA\\u002f1kAAAAAAQM7eQAAAAACAifRAAAAAAICJ9EAAAAAAgIn0QMsQx7rOTwNBAAAAAOCr2UDLEMe6zk8DQcsQx7rOTwNBAAAAABA97EAAAAAAAGL7QAAAAABg09JAAAAAAICJ9EAAAAAAsBrnQAAAAABg0+JAAAAAAGDTwkDLEMe6zk8DQQAAAACAifRAAAAAAMD190AAAAAAED3sQAAAAABg0+JAAAAAALAa50AAAAAAQM7eQAAAAACAifRAAAAAAMD190DLEMe6zk8DQQAAAABAzt5AyxDHus5PA0EAAAAAsBrnQAAAAAAQPexAAAAAAEAd8UAAAAAAAGL7QA==\"},\"y0\":\" \",\"yaxis\":\"y2\",\"type\":\"box\"}],                        {\"template\":{\"data\":{\"histogram2dcontour\":[{\"type\":\"histogram2dcontour\",\"colorbar\":{\"outlinewidth\":0,\"ticks\":\"\"},\"colorscale\":[[0.0,\"#0d0887\"],[0.1111111111111111,\"#46039f\"],[0.2222222222222222,\"#7201a8\"],[0.3333333333333333,\"#9c179e\"],[0.4444444444444444,\"#bd3786\"],[0.5555555555555556,\"#d8576b\"],[0.6666666666666666,\"#ed7953\"],[0.7777777777777778,\"#fb9f3a\"],[0.8888888888888888,\"#fdca26\"],[1.0,\"#f0f921\"]]}],\"choropleth\":[{\"type\":\"choropleth\",\"colorbar\":{\"outlinewidth\":0,\"ticks\":\"\"}}],\"histogram2d\":[{\"type\":\"histogram2d\",\"colorbar\":{\"outlinewidth\":0,\"ticks\":\"\"},\"colorscale\":[[0.0,\"#0d0887\"],[0.1111111111111111,\"#46039f\"],[0.2222222222222222,\"#7201a8\"],[0.3333333333333333,\"#9c179e\"],[0.4444444444444444,\"#bd3786\"],[0.5555555555555556,\"#d8576b\"],[0.6666666666666666,\"#ed7953\"],[0.7777777777777778,\"#fb9f3a\"],[0.8888888888888888,\"#fdca26\"],[1.0,\"#f0f921\"]]}],\"heatmap\":[{\"type\":\"heatmap\",\"colorbar\":{\"outlinewidth\":0,\"ticks\":\"\"},\"colorscale\":[[0.0,\"#0d0887\"],[0.1111111111111111,\"#46039f\"],[0.2222222222222222,\"#7201a8\"],[0.3333333333333333,\"#9c179e\"],[0.4444444444444444,\"#bd3786\"],[0.5555555555555556,\"#d8576b\"],[0.6666666666666666,\"#ed7953\"],[0.7777777777777778,\"#fb9f3a\"],[0.8888888888888888,\"#fdca26\"],[1.0,\"#f0f921\"]]}],\"contourcarpet\":[{\"type\":\"contourcarpet\",\"colorbar\":{\"outlinewidth\":0,\"ticks\":\"\"}}],\"contour\":[{\"type\":\"contour\",\"colorbar\":{\"outlinewidth\":0,\"ticks\":\"\"},\"colorscale\":[[0.0,\"#0d0887\"],[0.1111111111111111,\"#46039f\"],[0.2222222222222222,\"#7201a8\"],[0.3333333333333333,\"#9c179e\"],[0.4444444444444444,\"#bd3786\"],[0.5555555555555556,\"#d8576b\"],[0.6666666666666666,\"#ed7953\"],[0.7777777777777778,\"#fb9f3a\"],[0.8888888888888888,\"#fdca26\"],[1.0,\"#f0f921\"]]}],\"surface\":[{\"type\":\"surface\",\"colorbar\":{\"outlinewidth\":0,\"ticks\":\"\"},\"colorscale\":[[0.0,\"#0d0887\"],[0.1111111111111111,\"#46039f\"],[0.2222222222222222,\"#7201a8\"],[0.3333333333333333,\"#9c179e\"],[0.4444444444444444,\"#bd3786\"],[0.5555555555555556,\"#d8576b\"],[0.6666666666666666,\"#ed7953\"],[0.7777777777777778,\"#fb9f3a\"],[0.8888888888888888,\"#fdca26\"],[1.0,\"#f0f921\"]]}],\"mesh3d\":[{\"type\":\"mesh3d\",\"colorbar\":{\"outlinewidth\":0,\"ticks\":\"\"}}],\"scatter\":[{\"fillpattern\":{\"fillmode\":\"overlay\",\"size\":10,\"solidity\":0.2},\"type\":\"scatter\"}],\"parcoords\":[{\"type\":\"parcoords\",\"line\":{\"colorbar\":{\"outlinewidth\":0,\"ticks\":\"\"}}}],\"scatterpolargl\":[{\"type\":\"scatterpolargl\",\"marker\":{\"colorbar\":{\"outlinewidth\":0,\"ticks\":\"\"}}}],\"bar\":[{\"error_x\":{\"color\":\"#2a3f5f\"},\"error_y\":{\"color\":\"#2a3f5f\"},\"marker\":{\"line\":{\"color\":\"#E5ECF6\",\"width\":0.5},\"pattern\":{\"fillmode\":\"overlay\",\"size\":10,\"solidity\":0.2}},\"type\":\"bar\"}],\"scattergeo\":[{\"type\":\"scattergeo\",\"marker\":{\"colorbar\":{\"outlinewidth\":0,\"ticks\":\"\"}}}],\"scatterpolar\":[{\"type\":\"scatterpolar\",\"marker\":{\"colorbar\":{\"outlinewidth\":0,\"ticks\":\"\"}}}],\"histogram\":[{\"marker\":{\"pattern\":{\"fillmode\":\"overlay\",\"size\":10,\"solidity\":0.2}},\"type\":\"histogram\"}],\"scattergl\":[{\"type\":\"scattergl\",\"marker\":{\"colorbar\":{\"outlinewidth\":0,\"ticks\":\"\"}}}],\"scatter3d\":[{\"type\":\"scatter3d\",\"line\":{\"colorbar\":{\"outlinewidth\":0,\"ticks\":\"\"}},\"marker\":{\"colorbar\":{\"outlinewidth\":0,\"ticks\":\"\"}}}],\"scattermap\":[{\"type\":\"scattermap\",\"marker\":{\"colorbar\":{\"outlinewidth\":0,\"ticks\":\"\"}}}],\"scattermapbox\":[{\"type\":\"scattermapbox\",\"marker\":{\"colorbar\":{\"outlinewidth\":0,\"ticks\":\"\"}}}],\"scatterternary\":[{\"type\":\"scatterternary\",\"marker\":{\"colorbar\":{\"outlinewidth\":0,\"ticks\":\"\"}}}],\"scattercarpet\":[{\"type\":\"scattercarpet\",\"marker\":{\"colorbar\":{\"outlinewidth\":0,\"ticks\":\"\"}}}],\"carpet\":[{\"aaxis\":{\"endlinecolor\":\"#2a3f5f\",\"gridcolor\":\"white\",\"linecolor\":\"white\",\"minorgridcolor\":\"white\",\"startlinecolor\":\"#2a3f5f\"},\"baxis\":{\"endlinecolor\":\"#2a3f5f\",\"gridcolor\":\"white\",\"linecolor\":\"white\",\"minorgridcolor\":\"white\",\"startlinecolor\":\"#2a3f5f\"},\"type\":\"carpet\"}],\"table\":[{\"cells\":{\"fill\":{\"color\":\"#EBF0F8\"},\"line\":{\"color\":\"white\"}},\"header\":{\"fill\":{\"color\":\"#C8D4E3\"},\"line\":{\"color\":\"white\"}},\"type\":\"table\"}],\"barpolar\":[{\"marker\":{\"line\":{\"color\":\"#E5ECF6\",\"width\":0.5},\"pattern\":{\"fillmode\":\"overlay\",\"size\":10,\"solidity\":0.2}},\"type\":\"barpolar\"}],\"pie\":[{\"automargin\":true,\"type\":\"pie\"}]},\"layout\":{\"autotypenumbers\":\"strict\",\"colorway\":[\"#636efa\",\"#EF553B\",\"#00cc96\",\"#ab63fa\",\"#FFA15A\",\"#19d3f3\",\"#FF6692\",\"#B6E880\",\"#FF97FF\",\"#FECB52\"],\"font\":{\"color\":\"#2a3f5f\"},\"hovermode\":\"closest\",\"hoverlabel\":{\"align\":\"left\"},\"paper_bgcolor\":\"white\",\"plot_bgcolor\":\"#E5ECF6\",\"polar\":{\"bgcolor\":\"#E5ECF6\",\"angularaxis\":{\"gridcolor\":\"white\",\"linecolor\":\"white\",\"ticks\":\"\"},\"radialaxis\":{\"gridcolor\":\"white\",\"linecolor\":\"white\",\"ticks\":\"\"}},\"ternary\":{\"bgcolor\":\"#E5ECF6\",\"aaxis\":{\"gridcolor\":\"white\",\"linecolor\":\"white\",\"ticks\":\"\"},\"baxis\":{\"gridcolor\":\"white\",\"linecolor\":\"white\",\"ticks\":\"\"},\"caxis\":{\"gridcolor\":\"white\",\"linecolor\":\"white\",\"ticks\":\"\"}},\"coloraxis\":{\"colorbar\":{\"outlinewidth\":0,\"ticks\":\"\"}},\"colorscale\":{\"sequential\":[[0.0,\"#0d0887\"],[0.1111111111111111,\"#46039f\"],[0.2222222222222222,\"#7201a8\"],[0.3333333333333333,\"#9c179e\"],[0.4444444444444444,\"#bd3786\"],[0.5555555555555556,\"#d8576b\"],[0.6666666666666666,\"#ed7953\"],[0.7777777777777778,\"#fb9f3a\"],[0.8888888888888888,\"#fdca26\"],[1.0,\"#f0f921\"]],\"sequentialminus\":[[0.0,\"#0d0887\"],[0.1111111111111111,\"#46039f\"],[0.2222222222222222,\"#7201a8\"],[0.3333333333333333,\"#9c179e\"],[0.4444444444444444,\"#bd3786\"],[0.5555555555555556,\"#d8576b\"],[0.6666666666666666,\"#ed7953\"],[0.7777777777777778,\"#fb9f3a\"],[0.8888888888888888,\"#fdca26\"],[1.0,\"#f0f921\"]],\"diverging\":[[0,\"#8e0152\"],[0.1,\"#c51b7d\"],[0.2,\"#de77ae\"],[0.3,\"#f1b6da\"],[0.4,\"#fde0ef\"],[0.5,\"#f7f7f7\"],[0.6,\"#e6f5d0\"],[0.7,\"#b8e186\"],[0.8,\"#7fbc41\"],[0.9,\"#4d9221\"],[1,\"#276419\"]]},\"xaxis\":{\"gridcolor\":\"white\",\"linecolor\":\"white\",\"ticks\":\"\",\"title\":{\"standoff\":15},\"zerolinecolor\":\"white\",\"automargin\":true,\"zerolinewidth\":2},\"yaxis\":{\"gridcolor\":\"white\",\"linecolor\":\"white\",\"ticks\":\"\",\"title\":{\"standoff\":15},\"zerolinecolor\":\"white\",\"automargin\":true,\"zerolinewidth\":2},\"scene\":{\"xaxis\":{\"backgroundcolor\":\"#E5ECF6\",\"gridcolor\":\"white\",\"linecolor\":\"white\",\"showbackground\":true,\"ticks\":\"\",\"zerolinecolor\":\"white\",\"gridwidth\":2},\"yaxis\":{\"backgroundcolor\":\"#E5ECF6\",\"gridcolor\":\"white\",\"linecolor\":\"white\",\"showbackground\":true,\"ticks\":\"\",\"zerolinecolor\":\"white\",\"gridwidth\":2},\"zaxis\":{\"backgroundcolor\":\"#E5ECF6\",\"gridcolor\":\"white\",\"linecolor\":\"white\",\"showbackground\":true,\"ticks\":\"\",\"zerolinecolor\":\"white\",\"gridwidth\":2}},\"shapedefaults\":{\"line\":{\"color\":\"#2a3f5f\"}},\"annotationdefaults\":{\"arrowcolor\":\"#2a3f5f\",\"arrowhead\":0,\"arrowwidth\":1},\"geo\":{\"bgcolor\":\"white\",\"landcolor\":\"#E5ECF6\",\"subunitcolor\":\"white\",\"showland\":true,\"showlakes\":true,\"lakecolor\":\"white\"},\"title\":{\"x\":0.05},\"mapbox\":{\"style\":\"light\"}}},\"xaxis\":{\"anchor\":\"y\",\"domain\":[0.0,0.49],\"title\":{},\"categoryorder\":\"array\",\"categoryarray\":[\"female\",\"male\"]},\"yaxis\":{\"anchor\":\"x\",\"domain\":[0.0,0.2866666666666666],\"title\":{\"text\":\"Annual Income\"}},\"xaxis2\":{\"anchor\":\"y2\",\"domain\":[0.51,1.0],\"matches\":\"x\",\"title\":{},\"categoryorder\":\"array\",\"categoryarray\":[\"female\",\"male\"]},\"yaxis2\":{\"anchor\":\"x2\",\"domain\":[0.0,0.2866666666666666],\"matches\":\"y\",\"showticklabels\":false},\"xaxis3\":{\"anchor\":\"y3\",\"domain\":[0.0,0.49],\"matches\":\"x\",\"showticklabels\":false},\"yaxis3\":{\"anchor\":\"x3\",\"domain\":[0.35666666666666663,0.6433333333333333],\"matches\":\"y\",\"title\":{\"text\":\"Annual Income\"}},\"xaxis4\":{\"anchor\":\"y4\",\"domain\":[0.51,1.0],\"matches\":\"x\",\"showticklabels\":false},\"yaxis4\":{\"anchor\":\"x4\",\"domain\":[0.35666666666666663,0.6433333333333333],\"matches\":\"y\",\"showticklabels\":false},\"xaxis5\":{\"anchor\":\"y5\",\"domain\":[0.0,0.49],\"matches\":\"x\",\"showticklabels\":false},\"yaxis5\":{\"anchor\":\"x5\",\"domain\":[0.7133333333333333,0.9999999999999999],\"matches\":\"y\",\"title\":{\"text\":\"Annual Income\"}},\"xaxis6\":{\"anchor\":\"y6\",\"domain\":[0.51,1.0],\"matches\":\"x\",\"showticklabels\":false},\"yaxis6\":{\"anchor\":\"x6\",\"domain\":[0.7133333333333333,0.9999999999999999],\"matches\":\"y\",\"showticklabels\":false},\"annotations\":[{\"font\":{},\"showarrow\":false,\"text\":\" Category 2\",\"x\":0.245,\"xanchor\":\"center\",\"xref\":\"paper\",\"y\":0.2866666666666666,\"yanchor\":\"bottom\",\"yref\":\"paper\"},{\"font\":{},\"showarrow\":false,\"text\":\"Category 6 (Highest)\",\"x\":0.755,\"xanchor\":\"center\",\"xref\":\"paper\",\"y\":0.2866666666666666,\"yanchor\":\"bottom\",\"yref\":\"paper\"},{\"font\":{},\"showarrow\":false,\"text\":\"Category 4\",\"x\":0.245,\"xanchor\":\"center\",\"xref\":\"paper\",\"y\":0.6433333333333333,\"yanchor\":\"bottom\",\"yref\":\"paper\"},{\"font\":{},\"showarrow\":false,\"text\":\"Category 3\",\"x\":0.755,\"xanchor\":\"center\",\"xref\":\"paper\",\"y\":0.6433333333333333,\"yanchor\":\"bottom\",\"yref\":\"paper\"},{\"font\":{},\"showarrow\":false,\"text\":\"Category 1 (Lowest)\",\"x\":0.245,\"xanchor\":\"center\",\"xref\":\"paper\",\"y\":0.9999999999999999,\"yanchor\":\"bottom\",\"yref\":\"paper\"},{\"font\":{},\"showarrow\":false,\"text\":\"Category 5\",\"x\":0.755,\"xanchor\":\"center\",\"xref\":\"paper\",\"y\":0.9999999999999999,\"yanchor\":\"bottom\",\"yref\":\"paper\"}],\"legend\":{\"title\":{\"text\":\"Sex\"},\"tracegroupgap\":0},\"margin\":{\"t\":60},\"boxmode\":\"overlay\"},                        {\"responsive\": true}                    ).then(function(){\n",
       "                            \n",
       "var gd = document.getElementById('57091191-4e1e-4be8-a64b-276ad500daf2');\n",
       "var x = new MutationObserver(function (mutations, observer) {{\n",
       "        var display = window.getComputedStyle(gd).display;\n",
       "        if (!display || display === 'none') {{\n",
       "            console.log([gd, 'removed!']);\n",
       "            Plotly.purge(gd);\n",
       "            observer.disconnect();\n",
       "        }}\n",
       "}});\n",
       "\n",
       "// Listen for the removal of the full notebook cells\n",
       "var notebookContainer = gd.closest('#notebook-container');\n",
       "if (notebookContainer) {{\n",
       "    x.observe(notebookContainer, {childList: true});\n",
       "}}\n",
       "\n",
       "// Listen for the clearing of the current output cell\n",
       "var outputEl = gd.closest('.output');\n",
       "if (outputEl) {{\n",
       "    x.observe(outputEl, {childList: true});\n",
       "}}\n",
       "\n",
       "                        })                };            </script>        </div>"
      ]
     },
     "metadata": {},
     "output_type": "display_data"
    }
   ],
   "source": [
    "# Create a new dataframe for this specific plot\n",
    "prestige_df = gss_clean[['income', 'sex', 'job_prestige']].copy()\n",
    "prestige_df.dropna(inplace=True)\n",
    "\n",
    "# Create six categories for job_prestige\n",
    "prestige_df['prestige_category'] = pd.cut(prestige_df['job_prestige'],\n",
    "                                          bins=6,\n",
    "                                          labels=['Category 1 (Lowest)',' Category 2','Category 3','Category 4','Category 5','Category 6 (Highest)'])\n",
    "\n",
    "# Create the faceted box plot\n",
    "facet_fig = px.box(prestige_df,\n",
    "                   x='sex',\n",
    "                   y='income',\n",
    "                   color='sex',\n",
    "                   color_discrete_map={'male':'blue', 'female':'red'},\n",
    "                   facet_col='prestige_category',\n",
    "                   facet_col_wrap=2, # Arrange plots in 2 columns\n",
    "                   labels={'income': 'Annual Income', 'sex': 'Sex'}\n",
    "                  )\n",
    "\n",
    "# Clean up facet titles\n",
    "facet_fig.for_each_annotation(lambda a: a.update(text=a.text.split(\"=\")[-1]))\n",
    "facet_fig.update_xaxes(title_text=None)\n",
    "\n",
    "facet_fig.show()"
   ]
  },
  {
   "cell_type": "markdown",
   "metadata": {},
   "source": [
    "### 3. The Interactive Dashboard\n",
    "Finally, we assemble all the components into a self-contained, interactive dashboard using Dash. This application allows users to explore different facets of the data on their own. The bar plot at the bottom is fully interactive, enabling dynamic comparisons of different survey questions grouped by sex, region, or education level.\n",
    "\n",
    "Note: The following code block defines and runs the web application. For deployment (e.g., on PythonAnywhere), this entire script would be saved as a single app.py file."
   ]
  },
  {
   "cell_type": "code",
   "execution_count": null,
   "metadata": {},
   "outputs": [
    {
     "data": {
      "text/html": [
       "\n",
       "        <iframe\n",
       "            width=\"100%\"\n",
       "            height=\"650\"\n",
       "            src=\"http://127.0.0.1:8051/\"\n",
       "            frameborder=\"0\"\n",
       "            allowfullscreen\n",
       "            \n",
       "        ></iframe>\n",
       "        "
      ],
      "text/plain": [
       "<IPython.lib.display.IFrame at 0x303aab610>"
      ]
     },
     "metadata": {},
     "output_type": "display_data"
    }
   ],
   "source": [
    "# --- 1. IMPORTS ---\n",
    "import pandas as pd\n",
    "import plotly.express as px\n",
    "import dash\n",
    "from dash import dcc, html\n",
    "from dash.dependencies import Input, Output\n",
    "\n",
    "# --- 2. DATA LOADING AND CLEANING ---\n",
    "# This block runs once when the app starts, creating the gss_clean DataFrame.\n",
    "gss = pd.read_csv(\"https://github.com/jkropko/DS-6001/raw/master/localdata/gss2018.csv\",\n",
    "                 encoding='cp1252', \n",
    "                 na_values=['IAP','IAP,DK,NA,uncodeable', 'NOT SURE',\n",
    "                            'DK', 'IAP, DK, NA, uncodeable', '.a', \"CAN'T CHOOSE\"],\n",
    "                 low_memory=False)\n",
    "\n",
    "mycols = ['id', 'wtss', 'sex', 'educ', 'region', 'age', 'coninc',\n",
    "          'prestg10', 'mapres10', 'papres10', 'sei10', 'satjob',\n",
    "          'fechld', 'fefam', 'fepol', 'fepresch', 'meovrwrk']\n",
    "gss_clean = gss[mycols]\n",
    "gss_clean = gss_clean.rename({'wtss':'weight', 'educ':'education', 'coninc':'income',\n",
    "                              'prestg10':'job_prestige', 'mapres10':'mother_job_prestige',\n",
    "                              'papres10':'father_job_prestige', 'sei10':'socioeconomic_index',\n",
    "                              'fechld':'relationship', 'fefam':'male_breadwinner',\n",
    "                              'fepol':'men_bettersuited', 'fepresch':'child_suffer',\n",
    "                              'meovrwrk':'men_overwork'}, axis=1)\n",
    "gss_clean.age = gss_clean.age.replace({'89 or older':'89'})\n",
    "gss_clean.age = gss_clean.age.astype('float')\n",
    "\n",
    "\n",
    "# --- 3. APP SETUP ---\n",
    "app = dash.Dash(__name__)\n",
    "server = app.server # This line is needed for services like PythonAnywhere\n",
    "app.title = \"GSS Interactive Dashboard\"\n",
    "\n",
    "# --- 4. LAYOUT DEFINITION ---\n",
    "app.layout = html.Div([\n",
    "    html.H1(\"GSS Interactive Dashboard\", style={'textAlign': 'center'}),\n",
    "    html.P(\"An exploration of gender, work, and attitudes from the 2018 General Social Survey.\", style={'textAlign': 'center'}),\n",
    "    html.Hr(),\n",
    "    html.H3(\"Explore Attitudes by Topic and Demographic\"),\n",
    "    html.P(\"Select a survey question and a demographic group to see how responses vary.\"),\n",
    "    \n",
    "    html.Div([\n",
    "        # Dropdown for selecting the variable\n",
    "        dcc.Dropdown(\n",
    "            id='variable-dropdown',\n",
    "            options=[\n",
    "                {'label': 'Job Satisfaction', 'value': 'satjob'},\n",
    "                {'label': 'Working Mother Relationship', 'value': 'relationship'},\n",
    "                {'label': 'Male Breadwinner', 'value': 'male_breadwinner'},\n",
    "                {'label': 'Men Suited for Politics', 'value': 'men_bettersuited'},\n",
    "                {'label': 'Working Mother and Child Suffering', 'value': 'child_suffer'},\n",
    "                {'label': 'Men Overworking', 'value': 'men_overwork'}\n",
    "            ],\n",
    "            value='satjob', # Default value\n",
    "            style={'color': '#000000'}\n",
    "        ),\n",
    "        # Dropdown for selecting the grouping\n",
    "        dcc.Dropdown(\n",
    "            id='group-dropdown',\n",
    "            options=[\n",
    "                {'label': 'Sex', 'value': 'sex'},\n",
    "                {'label': 'Region', 'value': 'region'},\n",
    "                {'label': 'Education Level', 'value': 'education'}\n",
    "            ],\n",
    "            value='sex', # Default value\n",
    "            style={'color': '#000000'}\n",
    "        ),\n",
    "    ], style={'width': '80%', 'margin': 'auto'}),\n",
    "\n",
    "    # Graph that will be updated by the callback\n",
    "    dcc.Graph(id='interactive-barplot')\n",
    "])\n",
    "\n",
    "# --- 5. CALLBACK DEFINITION ---\n",
    "@app.callback(\n",
    "    Output('interactive-barplot', 'figure'),\n",
    "    [Input('variable-dropdown', 'value'),\n",
    "     Input('group-dropdown', 'value')]\n",
    ")\n",
    "def update_graph(selected_variable, selected_group):\n",
    "    # Use a copy of the gss_clean DataFrame to avoid modifying the original\n",
    "    df_copy = gss_clean.copy()\n",
    "    \n",
    "    # Drop missing values for the selected columns to prevent errors\n",
    "    df_copy.dropna(subset=[selected_variable, selected_group], inplace=True)\n",
    "    \n",
    "    # For 'education', group into bins to make the plot readable\n",
    "    if selected_group == 'education':\n",
    "        df_copy['education'] = pd.cut(df_copy['education'],\n",
    "                                     bins=[0, 8, 12, 15, 21],\n",
    "                                     labels=['< High School', 'High School', 'Some College', 'College Grad+'])\n",
    "        df_copy.dropna(subset=['education'], inplace=True)\n",
    "\n",
    "    # Create the figure with a title that updates based on user selection\n",
    "    fig = px.bar(\n",
    "        df_copy,\n",
    "        x=selected_variable,\n",
    "        color=selected_group,\n",
    "        barmode='group',\n",
    "        labels={\n",
    "            selected_variable: selected_variable.replace('_', ' ').title(),\n",
    "            'count': 'Number of Respondents',\n",
    "            selected_group: selected_group.title()\n",
    "        },\n",
    "        title=f\"Responses for '{selected_variable.replace('_', ' ').title()}' grouped by '{selected_group.title()}'\"\n",
    "    )\n",
    "    fig.update_layout(transition_duration=500)\n",
    "    return fig\n",
    "\n",
    "# --- 6. RUN THE APP ---\n",
    "if __name__ == '__main__':\n",
    "    app.run(debug=True)"
   ]
  }
 ],
 "metadata": {
  "kernelspec": {
   "display_name": "ds6001summer2025",
   "language": "python",
   "name": "python3"
  },
  "language_info": {
   "codemirror_mode": {
    "name": "ipython",
    "version": 3
   },
   "file_extension": ".py",
   "mimetype": "text/x-python",
   "name": "python",
   "nbconvert_exporter": "python",
   "pygments_lexer": "ipython3",
   "version": "3.13.2"
  }
 },
 "nbformat": 4,
 "nbformat_minor": 4
}
